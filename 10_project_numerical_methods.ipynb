{
 "cells": [
  {
   "cell_type": "markdown",
   "metadata": {
    "toc": true
   },
   "source": [
    "<h1>Table of Contents<span class=\"tocSkip\"></span></h1>\n",
    "<div class=\"toc\"><ul class=\"toc-item\"><li><span><a href=\"#Подготовка-данных\" data-toc-modified-id=\"Подготовка-данных-1\"><span class=\"toc-item-num\">1&nbsp;&nbsp;</span>Подготовка данных</a></span></li><li><span><a href=\"#Обучение-моделей\" data-toc-modified-id=\"Обучение-моделей-2\"><span class=\"toc-item-num\">2&nbsp;&nbsp;</span>Обучение моделей</a></span></li><li><span><a href=\"#Анализ-моделей\" data-toc-modified-id=\"Анализ-моделей-3\"><span class=\"toc-item-num\">3&nbsp;&nbsp;</span>Анализ моделей</a></span></li><li><span><a href=\"#Чек-лист-проверки\" data-toc-modified-id=\"Чек-лист-проверки-4\"><span class=\"toc-item-num\">4&nbsp;&nbsp;</span>Чек-лист проверки</a></span></li></ul></div>"
   ]
  },
  {
   "cell_type": "markdown",
   "metadata": {},
   "source": [
    "# Определение стоимости автомобилей"
   ]
  },
  {
   "cell_type": "markdown",
   "metadata": {},
   "source": [
    "Сервис по продаже автомобилей с пробегом «Не бит, не крашен» разрабатывает приложение для привлечения новых клиентов. В нём можно быстро узнать рыночную стоимость своего автомобиля. В вашем распоряжении исторические данные: технические характеристики, комплектации и цены автомобилей. Вам нужно построить модель для определения стоимости. \n",
    "\n",
    "Заказчику важны:\n",
    "\n",
    "- качество предсказания;\n",
    "- скорость предсказания;\n",
    "- время обучения.\n",
    "\n",
    "**Признаки** <br><br>\n",
    "DateCrawled — дата скачивания анкеты из базы <br>\n",
    "VehicleType — тип автомобильного кузова <br>\n",
    "RegistrationYear — год регистрации автомобиля <br>\n",
    "Gearbox — тип коробки передач <br>\n",
    "Power — мощность (л. с.) <br>\n",
    "Model — модель автомобиля <br>\n",
    "Kilometer — пробег (км) <br>\n",
    "RegistrationMonth — месяц регистрации автомобиля <br>\n",
    "FuelType — тип топлива <br>\n",
    "Brand — марка автомобиля <br>\n",
    "NotRepaired — была машина в ремонте или нет <br>\n",
    "DateCreated — дата создания анкеты<br>\n",
    "NumberOfPictures — количество фотографий автомобиля<br>\n",
    "PostalCode — почтовый индекс владельца анкеты (пользователя)<br>\n",
    "LastSeen — дата последней активности пользователя<br>\n",
    "<br>\n",
    "Целевой признак\n",
    "Price — цена (евро)"
   ]
  },
  {
   "cell_type": "markdown",
   "metadata": {},
   "source": [
    "## Подготовка данных"
   ]
  },
  {
   "cell_type": "markdown",
   "metadata": {},
   "source": [
    "Загружаем необходимые бибилиотеки"
   ]
  },
  {
   "cell_type": "code",
   "execution_count": 38,
   "metadata": {},
   "outputs": [],
   "source": [
    "import pandas as pd\n",
    "import numpy as np\n",
    "\n",
    "import matplotlib.pyplot as plt\n",
    "import seaborn as sns\n",
    "\n",
    "from sklearn.metrics import mean_absolute_error,mean_squared_error\n",
    "from sklearn.metrics import mean_squared_error\n",
    "from sklearn.metrics import r2_score\n",
    "from sklearn.metrics import make_scorer\n",
    "\n",
    "from sklearn.model_selection import train_test_split\n",
    "from sklearn.model_selection import GridSearchCV\n",
    "from sklearn.linear_model import LinearRegression\n",
    "from sklearn.tree import DecisionTreeRegressor\n",
    "\n",
    "from sklearn.preprocessing import StandardScaler\n",
    "from sklearn.ensemble import RandomForestRegressor\n",
    "from sklearn.preprocessing import OrdinalEncoder\n",
    "\n",
    "import warnings\n",
    "warnings.filterwarnings('ignore')\n",
    "\n",
    "import lightgbm \n",
    "from catboost import CatBoostRegressor\n",
    "\n",
    "import time\n",
    "\n",
    "from IPython.display import display"
   ]
  },
  {
   "cell_type": "markdown",
   "metadata": {},
   "source": [
    "Импорт и изучение данных"
   ]
  },
  {
   "cell_type": "code",
   "execution_count": 39,
   "metadata": {},
   "outputs": [],
   "source": [
    "try:\n",
    "    data = pd.read_csv('autos.csv') \n",
    "except:\n",
    "    data = pd.read_csv('/datasets/autos.csv')"
   ]
  },
  {
   "cell_type": "code",
   "execution_count": 40,
   "metadata": {},
   "outputs": [
    {
     "name": "stdout",
     "output_type": "stream",
     "text": [
      "<class 'pandas.core.frame.DataFrame'>\n",
      "RangeIndex: 354369 entries, 0 to 354368\n",
      "Data columns (total 16 columns):\n",
      " #   Column             Non-Null Count   Dtype \n",
      "---  ------             --------------   ----- \n",
      " 0   DateCrawled        354369 non-null  object\n",
      " 1   Price              354369 non-null  int64 \n",
      " 2   VehicleType        316879 non-null  object\n",
      " 3   RegistrationYear   354369 non-null  int64 \n",
      " 4   Gearbox            334536 non-null  object\n",
      " 5   Power              354369 non-null  int64 \n",
      " 6   Model              334664 non-null  object\n",
      " 7   Kilometer          354369 non-null  int64 \n",
      " 8   RegistrationMonth  354369 non-null  int64 \n",
      " 9   FuelType           321474 non-null  object\n",
      " 10  Brand              354369 non-null  object\n",
      " 11  Repaired           283215 non-null  object\n",
      " 12  DateCreated        354369 non-null  object\n",
      " 13  NumberOfPictures   354369 non-null  int64 \n",
      " 14  PostalCode         354369 non-null  int64 \n",
      " 15  LastSeen           354369 non-null  object\n",
      "dtypes: int64(7), object(9)\n",
      "memory usage: 43.3+ MB\n"
     ]
    }
   ],
   "source": [
    "data.info()"
   ]
  },
  {
   "cell_type": "code",
   "execution_count": 41,
   "metadata": {},
   "outputs": [
    {
     "data": {
      "text/html": [
       "<div>\n",
       "<style scoped>\n",
       "    .dataframe tbody tr th:only-of-type {\n",
       "        vertical-align: middle;\n",
       "    }\n",
       "\n",
       "    .dataframe tbody tr th {\n",
       "        vertical-align: top;\n",
       "    }\n",
       "\n",
       "    .dataframe thead th {\n",
       "        text-align: right;\n",
       "    }\n",
       "</style>\n",
       "<table border=\"1\" class=\"dataframe\">\n",
       "  <thead>\n",
       "    <tr style=\"text-align: right;\">\n",
       "      <th></th>\n",
       "      <th>Price</th>\n",
       "      <th>RegistrationYear</th>\n",
       "      <th>Power</th>\n",
       "      <th>Kilometer</th>\n",
       "      <th>RegistrationMonth</th>\n",
       "      <th>NumberOfPictures</th>\n",
       "      <th>PostalCode</th>\n",
       "    </tr>\n",
       "  </thead>\n",
       "  <tbody>\n",
       "    <tr>\n",
       "      <th>count</th>\n",
       "      <td>354369.000000</td>\n",
       "      <td>354369.000000</td>\n",
       "      <td>354369.000000</td>\n",
       "      <td>354369.000000</td>\n",
       "      <td>354369.000000</td>\n",
       "      <td>354369.0</td>\n",
       "      <td>354369.000000</td>\n",
       "    </tr>\n",
       "    <tr>\n",
       "      <th>mean</th>\n",
       "      <td>4416.656776</td>\n",
       "      <td>2004.234448</td>\n",
       "      <td>110.094337</td>\n",
       "      <td>128211.172535</td>\n",
       "      <td>5.714645</td>\n",
       "      <td>0.0</td>\n",
       "      <td>50508.689087</td>\n",
       "    </tr>\n",
       "    <tr>\n",
       "      <th>std</th>\n",
       "      <td>4514.158514</td>\n",
       "      <td>90.227958</td>\n",
       "      <td>189.850405</td>\n",
       "      <td>37905.341530</td>\n",
       "      <td>3.726421</td>\n",
       "      <td>0.0</td>\n",
       "      <td>25783.096248</td>\n",
       "    </tr>\n",
       "    <tr>\n",
       "      <th>min</th>\n",
       "      <td>0.000000</td>\n",
       "      <td>1000.000000</td>\n",
       "      <td>0.000000</td>\n",
       "      <td>5000.000000</td>\n",
       "      <td>0.000000</td>\n",
       "      <td>0.0</td>\n",
       "      <td>1067.000000</td>\n",
       "    </tr>\n",
       "    <tr>\n",
       "      <th>25%</th>\n",
       "      <td>1050.000000</td>\n",
       "      <td>1999.000000</td>\n",
       "      <td>69.000000</td>\n",
       "      <td>125000.000000</td>\n",
       "      <td>3.000000</td>\n",
       "      <td>0.0</td>\n",
       "      <td>30165.000000</td>\n",
       "    </tr>\n",
       "    <tr>\n",
       "      <th>50%</th>\n",
       "      <td>2700.000000</td>\n",
       "      <td>2003.000000</td>\n",
       "      <td>105.000000</td>\n",
       "      <td>150000.000000</td>\n",
       "      <td>6.000000</td>\n",
       "      <td>0.0</td>\n",
       "      <td>49413.000000</td>\n",
       "    </tr>\n",
       "    <tr>\n",
       "      <th>75%</th>\n",
       "      <td>6400.000000</td>\n",
       "      <td>2008.000000</td>\n",
       "      <td>143.000000</td>\n",
       "      <td>150000.000000</td>\n",
       "      <td>9.000000</td>\n",
       "      <td>0.0</td>\n",
       "      <td>71083.000000</td>\n",
       "    </tr>\n",
       "    <tr>\n",
       "      <th>max</th>\n",
       "      <td>20000.000000</td>\n",
       "      <td>9999.000000</td>\n",
       "      <td>20000.000000</td>\n",
       "      <td>150000.000000</td>\n",
       "      <td>12.000000</td>\n",
       "      <td>0.0</td>\n",
       "      <td>99998.000000</td>\n",
       "    </tr>\n",
       "  </tbody>\n",
       "</table>\n",
       "</div>"
      ],
      "text/plain": [
       "               Price  RegistrationYear          Power      Kilometer  \\\n",
       "count  354369.000000     354369.000000  354369.000000  354369.000000   \n",
       "mean     4416.656776       2004.234448     110.094337  128211.172535   \n",
       "std      4514.158514         90.227958     189.850405   37905.341530   \n",
       "min         0.000000       1000.000000       0.000000    5000.000000   \n",
       "25%      1050.000000       1999.000000      69.000000  125000.000000   \n",
       "50%      2700.000000       2003.000000     105.000000  150000.000000   \n",
       "75%      6400.000000       2008.000000     143.000000  150000.000000   \n",
       "max     20000.000000       9999.000000   20000.000000  150000.000000   \n",
       "\n",
       "       RegistrationMonth  NumberOfPictures     PostalCode  \n",
       "count      354369.000000          354369.0  354369.000000  \n",
       "mean            5.714645               0.0   50508.689087  \n",
       "std             3.726421               0.0   25783.096248  \n",
       "min             0.000000               0.0    1067.000000  \n",
       "25%             3.000000               0.0   30165.000000  \n",
       "50%             6.000000               0.0   49413.000000  \n",
       "75%             9.000000               0.0   71083.000000  \n",
       "max            12.000000               0.0   99998.000000  "
      ]
     },
     "execution_count": 41,
     "metadata": {},
     "output_type": "execute_result"
    }
   ],
   "source": [
    "data.describe()"
   ]
  },
  {
   "cell_type": "code",
   "execution_count": 42,
   "metadata": {
    "scrolled": true
   },
   "outputs": [
    {
     "name": "stdout",
     "output_type": "stream",
     "text": [
      "Количество пропусков DateCrawled          0.000000\n",
      "Price                0.000000\n",
      "VehicleType          0.105794\n",
      "RegistrationYear     0.000000\n",
      "Gearbox              0.055967\n",
      "Power                0.000000\n",
      "Model                0.055606\n",
      "Kilometer            0.000000\n",
      "RegistrationMonth    0.000000\n",
      "FuelType             0.092827\n",
      "Brand                0.000000\n",
      "Repaired             0.200791\n",
      "DateCreated          0.000000\n",
      "NumberOfPictures     0.000000\n",
      "PostalCode           0.000000\n",
      "LastSeen             0.000000\n",
      "dtype: float64\n"
     ]
    }
   ],
   "source": [
    "print('Количество пропусков', data.isna().mean())"
   ]
  },
  {
   "cell_type": "markdown",
   "metadata": {},
   "source": [
    "Проверим на дубликаты"
   ]
  },
  {
   "cell_type": "code",
   "execution_count": 43,
   "metadata": {},
   "outputs": [
    {
     "data": {
      "text/html": [
       "<div>\n",
       "<style scoped>\n",
       "    .dataframe tbody tr th:only-of-type {\n",
       "        vertical-align: middle;\n",
       "    }\n",
       "\n",
       "    .dataframe tbody tr th {\n",
       "        vertical-align: top;\n",
       "    }\n",
       "\n",
       "    .dataframe thead th {\n",
       "        text-align: right;\n",
       "    }\n",
       "</style>\n",
       "<table border=\"1\" class=\"dataframe\">\n",
       "  <thead>\n",
       "    <tr style=\"text-align: right;\">\n",
       "      <th></th>\n",
       "      <th>DateCrawled</th>\n",
       "      <th>Price</th>\n",
       "      <th>VehicleType</th>\n",
       "      <th>RegistrationYear</th>\n",
       "      <th>Gearbox</th>\n",
       "      <th>Power</th>\n",
       "      <th>Model</th>\n",
       "      <th>Kilometer</th>\n",
       "      <th>RegistrationMonth</th>\n",
       "      <th>FuelType</th>\n",
       "      <th>Brand</th>\n",
       "      <th>Repaired</th>\n",
       "      <th>DateCreated</th>\n",
       "      <th>NumberOfPictures</th>\n",
       "      <th>PostalCode</th>\n",
       "      <th>LastSeen</th>\n",
       "    </tr>\n",
       "  </thead>\n",
       "  <tbody>\n",
       "    <tr>\n",
       "      <th>41529</th>\n",
       "      <td>2016-03-18 18:46:15</td>\n",
       "      <td>1999</td>\n",
       "      <td>wagon</td>\n",
       "      <td>2001</td>\n",
       "      <td>manual</td>\n",
       "      <td>131</td>\n",
       "      <td>passat</td>\n",
       "      <td>150000</td>\n",
       "      <td>7</td>\n",
       "      <td>gasoline</td>\n",
       "      <td>volkswagen</td>\n",
       "      <td>no</td>\n",
       "      <td>2016-03-18 00:00:00</td>\n",
       "      <td>0</td>\n",
       "      <td>36391</td>\n",
       "      <td>2016-03-18 18:46:15</td>\n",
       "    </tr>\n",
       "    <tr>\n",
       "      <th>88087</th>\n",
       "      <td>2016-03-08 18:42:48</td>\n",
       "      <td>1799</td>\n",
       "      <td>coupe</td>\n",
       "      <td>1999</td>\n",
       "      <td>auto</td>\n",
       "      <td>193</td>\n",
       "      <td>clk</td>\n",
       "      <td>20000</td>\n",
       "      <td>7</td>\n",
       "      <td>petrol</td>\n",
       "      <td>mercedes_benz</td>\n",
       "      <td>no</td>\n",
       "      <td>2016-03-08 00:00:00</td>\n",
       "      <td>0</td>\n",
       "      <td>89518</td>\n",
       "      <td>2016-03-09 09:46:57</td>\n",
       "    </tr>\n",
       "    <tr>\n",
       "      <th>90964</th>\n",
       "      <td>2016-03-28 00:56:10</td>\n",
       "      <td>1000</td>\n",
       "      <td>small</td>\n",
       "      <td>2002</td>\n",
       "      <td>manual</td>\n",
       "      <td>83</td>\n",
       "      <td>other</td>\n",
       "      <td>150000</td>\n",
       "      <td>1</td>\n",
       "      <td>petrol</td>\n",
       "      <td>suzuki</td>\n",
       "      <td>no</td>\n",
       "      <td>2016-03-28 00:00:00</td>\n",
       "      <td>0</td>\n",
       "      <td>66589</td>\n",
       "      <td>2016-03-28 08:46:21</td>\n",
       "    </tr>\n",
       "    <tr>\n",
       "      <th>171088</th>\n",
       "      <td>2016-03-08 18:42:48</td>\n",
       "      <td>1799</td>\n",
       "      <td>coupe</td>\n",
       "      <td>1999</td>\n",
       "      <td>auto</td>\n",
       "      <td>193</td>\n",
       "      <td>clk</td>\n",
       "      <td>20000</td>\n",
       "      <td>7</td>\n",
       "      <td>petrol</td>\n",
       "      <td>mercedes_benz</td>\n",
       "      <td>no</td>\n",
       "      <td>2016-03-08 00:00:00</td>\n",
       "      <td>0</td>\n",
       "      <td>89518</td>\n",
       "      <td>2016-03-09 09:46:57</td>\n",
       "    </tr>\n",
       "    <tr>\n",
       "      <th>187735</th>\n",
       "      <td>2016-04-03 09:01:15</td>\n",
       "      <td>4699</td>\n",
       "      <td>coupe</td>\n",
       "      <td>2003</td>\n",
       "      <td>auto</td>\n",
       "      <td>218</td>\n",
       "      <td>clk</td>\n",
       "      <td>125000</td>\n",
       "      <td>6</td>\n",
       "      <td>petrol</td>\n",
       "      <td>mercedes_benz</td>\n",
       "      <td>yes</td>\n",
       "      <td>2016-04-03 00:00:00</td>\n",
       "      <td>0</td>\n",
       "      <td>75196</td>\n",
       "      <td>2016-04-07 09:44:54</td>\n",
       "    </tr>\n",
       "    <tr>\n",
       "      <th>231258</th>\n",
       "      <td>2016-03-28 00:56:10</td>\n",
       "      <td>1000</td>\n",
       "      <td>small</td>\n",
       "      <td>2002</td>\n",
       "      <td>manual</td>\n",
       "      <td>83</td>\n",
       "      <td>other</td>\n",
       "      <td>150000</td>\n",
       "      <td>1</td>\n",
       "      <td>petrol</td>\n",
       "      <td>suzuki</td>\n",
       "      <td>no</td>\n",
       "      <td>2016-03-28 00:00:00</td>\n",
       "      <td>0</td>\n",
       "      <td>66589</td>\n",
       "      <td>2016-03-28 08:46:21</td>\n",
       "    </tr>\n",
       "    <tr>\n",
       "      <th>258109</th>\n",
       "      <td>2016-04-03 09:01:15</td>\n",
       "      <td>4699</td>\n",
       "      <td>coupe</td>\n",
       "      <td>2003</td>\n",
       "      <td>auto</td>\n",
       "      <td>218</td>\n",
       "      <td>clk</td>\n",
       "      <td>125000</td>\n",
       "      <td>6</td>\n",
       "      <td>petrol</td>\n",
       "      <td>mercedes_benz</td>\n",
       "      <td>yes</td>\n",
       "      <td>2016-04-03 00:00:00</td>\n",
       "      <td>0</td>\n",
       "      <td>75196</td>\n",
       "      <td>2016-04-07 09:44:54</td>\n",
       "    </tr>\n",
       "    <tr>\n",
       "      <th>325651</th>\n",
       "      <td>2016-03-18 18:46:15</td>\n",
       "      <td>1999</td>\n",
       "      <td>wagon</td>\n",
       "      <td>2001</td>\n",
       "      <td>manual</td>\n",
       "      <td>131</td>\n",
       "      <td>passat</td>\n",
       "      <td>150000</td>\n",
       "      <td>7</td>\n",
       "      <td>gasoline</td>\n",
       "      <td>volkswagen</td>\n",
       "      <td>no</td>\n",
       "      <td>2016-03-18 00:00:00</td>\n",
       "      <td>0</td>\n",
       "      <td>36391</td>\n",
       "      <td>2016-03-18 18:46:15</td>\n",
       "    </tr>\n",
       "  </tbody>\n",
       "</table>\n",
       "</div>"
      ],
      "text/plain": [
       "                DateCrawled  Price VehicleType  RegistrationYear Gearbox  \\\n",
       "41529   2016-03-18 18:46:15   1999       wagon              2001  manual   \n",
       "88087   2016-03-08 18:42:48   1799       coupe              1999    auto   \n",
       "90964   2016-03-28 00:56:10   1000       small              2002  manual   \n",
       "171088  2016-03-08 18:42:48   1799       coupe              1999    auto   \n",
       "187735  2016-04-03 09:01:15   4699       coupe              2003    auto   \n",
       "231258  2016-03-28 00:56:10   1000       small              2002  manual   \n",
       "258109  2016-04-03 09:01:15   4699       coupe              2003    auto   \n",
       "325651  2016-03-18 18:46:15   1999       wagon              2001  manual   \n",
       "\n",
       "        Power   Model  Kilometer  RegistrationMonth  FuelType          Brand  \\\n",
       "41529     131  passat     150000                  7  gasoline     volkswagen   \n",
       "88087     193     clk      20000                  7    petrol  mercedes_benz   \n",
       "90964      83   other     150000                  1    petrol         suzuki   \n",
       "171088    193     clk      20000                  7    petrol  mercedes_benz   \n",
       "187735    218     clk     125000                  6    petrol  mercedes_benz   \n",
       "231258     83   other     150000                  1    petrol         suzuki   \n",
       "258109    218     clk     125000                  6    petrol  mercedes_benz   \n",
       "325651    131  passat     150000                  7  gasoline     volkswagen   \n",
       "\n",
       "       Repaired          DateCreated  NumberOfPictures  PostalCode  \\\n",
       "41529        no  2016-03-18 00:00:00                 0       36391   \n",
       "88087        no  2016-03-08 00:00:00                 0       89518   \n",
       "90964        no  2016-03-28 00:00:00                 0       66589   \n",
       "171088       no  2016-03-08 00:00:00                 0       89518   \n",
       "187735      yes  2016-04-03 00:00:00                 0       75196   \n",
       "231258       no  2016-03-28 00:00:00                 0       66589   \n",
       "258109      yes  2016-04-03 00:00:00                 0       75196   \n",
       "325651       no  2016-03-18 00:00:00                 0       36391   \n",
       "\n",
       "                   LastSeen  \n",
       "41529   2016-03-18 18:46:15  \n",
       "88087   2016-03-09 09:46:57  \n",
       "90964   2016-03-28 08:46:21  \n",
       "171088  2016-03-09 09:46:57  \n",
       "187735  2016-04-07 09:44:54  \n",
       "231258  2016-03-28 08:46:21  \n",
       "258109  2016-04-07 09:44:54  \n",
       "325651  2016-03-18 18:46:15  "
      ]
     },
     "execution_count": 43,
     "metadata": {},
     "output_type": "execute_result"
    }
   ],
   "source": [
    "data[data.duplicated(keep=False)]"
   ]
  },
  {
   "cell_type": "markdown",
   "metadata": {},
   "source": [
    "Удалим дубликаты"
   ]
  },
  {
   "cell_type": "code",
   "execution_count": 44,
   "metadata": {},
   "outputs": [],
   "source": [
    "data = data.drop_duplicates()"
   ]
  },
  {
   "cell_type": "markdown",
   "metadata": {},
   "source": [
    "Удалим признаки, которые не понадобятся в исследовании:"
   ]
  },
  {
   "cell_type": "code",
   "execution_count": 45,
   "metadata": {},
   "outputs": [
    {
     "name": "stdout",
     "output_type": "stream",
     "text": [
      "<class 'pandas.core.frame.DataFrame'>\n",
      "Int64Index: 354365 entries, 0 to 354368\n",
      "Data columns (total 9 columns):\n",
      " #   Column            Non-Null Count   Dtype \n",
      "---  ------            --------------   ----- \n",
      " 0   Price             354365 non-null  int64 \n",
      " 1   VehicleType       316875 non-null  object\n",
      " 2   RegistrationYear  354365 non-null  int64 \n",
      " 3   Gearbox           334532 non-null  object\n",
      " 4   Power             354365 non-null  int64 \n",
      " 5   Kilometer         354365 non-null  int64 \n",
      " 6   FuelType          321470 non-null  object\n",
      " 7   Brand             354365 non-null  object\n",
      " 8   Repaired          283211 non-null  object\n",
      "dtypes: int64(4), object(5)\n",
      "memory usage: 27.0+ MB\n"
     ]
    }
   ],
   "source": [
    "data = (data.drop(\n",
    "    columns=['DateCrawled', 'Model','RegistrationMonth', 'DateCreated','NumberOfPictures', 'LastSeen', 'PostalCode'], axis=1))\n",
    "data.info()"
   ]
  },
  {
   "cell_type": "markdown",
   "metadata": {},
   "source": [
    "Проверим целевой признак"
   ]
  },
  {
   "cell_type": "code",
   "execution_count": 46,
   "metadata": {},
   "outputs": [
    {
     "data": {
      "text/plain": [
       "0"
      ]
     },
     "metadata": {},
     "output_type": "display_data"
    },
    {
     "data": {
      "text/plain": [
       "0        10772\n",
       "500       5670\n",
       "1500      5394\n",
       "1000      4648\n",
       "1200      4594\n",
       "         ...  \n",
       "13180        1\n",
       "10879        1\n",
       "2683         1\n",
       "634          1\n",
       "8188         1\n",
       "Name: Price, Length: 3731, dtype: int64"
      ]
     },
     "execution_count": 46,
     "metadata": {},
     "output_type": "execute_result"
    }
   ],
   "source": [
    "display(data['Price'].isna().sum())\n",
    "data['Price'].value_counts()"
   ]
  },
  {
   "cell_type": "markdown",
   "metadata": {},
   "source": [
    "Удалим в целевом признаке нулевые значения"
   ]
  },
  {
   "cell_type": "code",
   "execution_count": 47,
   "metadata": {},
   "outputs": [],
   "source": [
    "data = data.loc[data['Price'] != 0]"
   ]
  },
  {
   "cell_type": "markdown",
   "metadata": {},
   "source": [
    "Проверим остальные признаки"
   ]
  },
  {
   "cell_type": "code",
   "execution_count": 48,
   "metadata": {},
   "outputs": [
    {
     "data": {
      "text/plain": [
       "sedan          89405\n",
       "small          78017\n",
       "wagon          63700\n",
       "bus            28345\n",
       "convertible    19865\n",
       "coupe          15634\n",
       "suv            11791\n",
       "other           3086\n",
       "Name: VehicleType, dtype: int64"
      ]
     },
     "execution_count": 48,
     "metadata": {},
     "output_type": "execute_result"
    }
   ],
   "source": [
    "data['VehicleType'].value_counts()"
   ]
  },
  {
   "cell_type": "markdown",
   "metadata": {},
   "source": [
    "Заполним отсутствующие значения стобца VehicleType значениями NA"
   ]
  },
  {
   "cell_type": "code",
   "execution_count": 49,
   "metadata": {},
   "outputs": [],
   "source": [
    "data['VehicleType']=data['VehicleType'].fillna('NA')"
   ]
  },
  {
   "cell_type": "code",
   "execution_count": 50,
   "metadata": {},
   "outputs": [
    {
     "data": {
      "text/plain": [
       "0"
      ]
     },
     "execution_count": 50,
     "metadata": {},
     "output_type": "execute_result"
    }
   ],
   "source": [
    "data.VehicleType.isna().sum()"
   ]
  },
  {
   "cell_type": "code",
   "execution_count": 51,
   "metadata": {},
   "outputs": [
    {
     "data": {
      "text/plain": [
       "manual    261371\n",
       "auto       64867\n",
       "Name: Gearbox, dtype: int64"
      ]
     },
     "execution_count": 51,
     "metadata": {},
     "output_type": "execute_result"
    }
   ],
   "source": [
    "data['Gearbox'].value_counts()"
   ]
  },
  {
   "cell_type": "code",
   "execution_count": 52,
   "metadata": {},
   "outputs": [],
   "source": [
    "#data['Model'].unique()"
   ]
  },
  {
   "cell_type": "markdown",
   "metadata": {},
   "source": [
    "Заполним отсутствующие значения стобца Model значениями NA"
   ]
  },
  {
   "cell_type": "code",
   "execution_count": 53,
   "metadata": {},
   "outputs": [],
   "source": [
    "#data['Model'] = data['Model'].fillna('NA')"
   ]
  },
  {
   "cell_type": "code",
   "execution_count": 54,
   "metadata": {},
   "outputs": [
    {
     "data": {
      "text/plain": [
       "petrol      210762\n",
       "gasoline     97167\n",
       "lpg           5166\n",
       "cng            554\n",
       "hybrid         227\n",
       "other          170\n",
       "electric        88\n",
       "Name: FuelType, dtype: int64"
      ]
     },
     "execution_count": 54,
     "metadata": {},
     "output_type": "execute_result"
    }
   ],
   "source": [
    "data['FuelType'].value_counts()"
   ]
  },
  {
   "cell_type": "markdown",
   "metadata": {},
   "source": [
    "Заполним отсутствующие значения стобца FuelType значениями NA"
   ]
  },
  {
   "cell_type": "code",
   "execution_count": 55,
   "metadata": {},
   "outputs": [],
   "source": [
    "data['FuelType'] = data['FuelType'].fillna('NA')"
   ]
  },
  {
   "cell_type": "code",
   "execution_count": 56,
   "metadata": {},
   "outputs": [
    {
     "data": {
      "text/plain": [
       "no     243679\n",
       "yes     34048\n",
       "Name: Repaired, dtype: int64"
      ]
     },
     "execution_count": 56,
     "metadata": {},
     "output_type": "execute_result"
    }
   ],
   "source": [
    "data['Repaired'].value_counts()"
   ]
  },
  {
   "cell_type": "markdown",
   "metadata": {},
   "source": [
    "Так как признаки Gearbox и Repaired бинарные,можно заполнить пропущенные значения методом np.random.choice"
   ]
  },
  {
   "cell_type": "code",
   "execution_count": 57,
   "metadata": {},
   "outputs": [],
   "source": [
    "data[['Gearbox', 'Repaired']] = data[['Gearbox', 'Repaired']].fillna({\n",
    "    'Gearbox': np.random.choice(data['Gearbox'].dropna()),\n",
    "    'Repaired': np.random.choice(data['Repaired'].dropna())\n",
    "})"
   ]
  },
  {
   "cell_type": "markdown",
   "metadata": {},
   "source": [
    "Проверяем заполненность пропусков"
   ]
  },
  {
   "cell_type": "code",
   "execution_count": 58,
   "metadata": {},
   "outputs": [
    {
     "data": {
      "text/plain": [
       "Price               0\n",
       "VehicleType         0\n",
       "RegistrationYear    0\n",
       "Gearbox             0\n",
       "Power               0\n",
       "Kilometer           0\n",
       "FuelType            0\n",
       "Brand               0\n",
       "Repaired            0\n",
       "dtype: int64"
      ]
     },
     "execution_count": 58,
     "metadata": {},
     "output_type": "execute_result"
    }
   ],
   "source": [
    "data.isna().sum()"
   ]
  },
  {
   "cell_type": "markdown",
   "metadata": {},
   "source": [
    "В столбце RegistrationYear оставим машины с годом регистрации в диапазоне с 1960 по 2016 гг."
   ]
  },
  {
   "cell_type": "code",
   "execution_count": 59,
   "metadata": {},
   "outputs": [],
   "source": [
    "data = data[(data['RegistrationYear'] >= 1960) & (data['RegistrationYear'] <= 2016)]"
   ]
  },
  {
   "cell_type": "markdown",
   "metadata": {},
   "source": [
    "Посмотрим на диаграмму размаха для столбца Power, чтобы определить выбросы"
   ]
  },
  {
   "cell_type": "code",
   "execution_count": 60,
   "metadata": {},
   "outputs": [
    {
     "data": {
      "image/png": "[encoded data removed]",
      "text/plain": [
       "<Figure size 936x576 with 1 Axes>"
      ]
     },
     "metadata": {
      "needs_background": "light"
     },
     "output_type": "display_data"
    }
   ],
   "source": [
    "plt.figure(figsize=(13, 8))\n",
    "\n",
    "sns.boxplot(data = data['Power'], orient='h')\n",
    "\n",
    "plt.xlim(-10, 500)\n",
    "\n",
    "plt.title('Диаграмма размаха мощности двигателя')\n",
    "plt.xlabel('Мощность')\n",
    "plt.grid(True)\n",
    "\n",
    "plt.show()"
   ]
  },
  {
   "cell_type": "markdown",
   "metadata": {},
   "source": [
    "В столбце Power установим ограничение до 250 л.с. "
   ]
  },
  {
   "cell_type": "code",
   "execution_count": 61,
   "metadata": {},
   "outputs": [],
   "source": [
    "\n",
    "data['Power'] = data['Power'].replace(0, np.NaN) \\\n",
    ".fillna(data.groupby('Brand')['Power'].transform(lambda x: x.median() if x.median() else np.nan))\n"
   ]
  },
  {
   "cell_type": "markdown",
   "metadata": {},
   "source": [
    "**Вывод по разделу работы с данными:**\n",
    "<br> \n",
    "1. В данных мы обнаружили признаки, которые не влияют на целевой признак - цену (Price). Это столбцы: DateCrawled, Model, RegistrationMonth, DateCreated, NumberOfPictures, LastSeen. Удалили их, так как они не нужны нам для исследования. \n",
    "2. Важные признаки, необходимые для исследования: VehicleType, RegistrationYear, Gearbox, Power, Kilometer, FuelType, Brand, Repaired, PostalCode.\n",
    "3. В признаках, которые влияют на цену, обнаружены и пропуски, и нулевые значения, и дубликаты и другие аномалии.\n",
    "4. Проведена обработка аномалий, отработаны пропущенные значения."
   ]
  },
  {
   "cell_type": "markdown",
   "metadata": {},
   "source": [
    "## Обучение моделей"
   ]
  },
  {
   "cell_type": "markdown",
   "metadata": {},
   "source": [
    "Заменим категориальные признаки числовыми"
   ]
  },
  {
   "cell_type": "code",
   "execution_count": 62,
   "metadata": {},
   "outputs": [
    {
     "data": {
      "text/plain": [
       "((197684, 8), (197684, 1), (65895, 8), (65895, 1), (65895, 8), (65895, 1))"
      ]
     },
     "execution_count": 62,
     "metadata": {},
     "output_type": "execute_result"
    }
   ],
   "source": [
    "\n",
    "data_copy = data.copy()\n",
    "\n",
    "# разделим данные на признаки и целевой признак\n",
    "target = data_copy[['Price']]\n",
    "features = data_copy.drop(['Price'], axis=1)\n",
    "\n",
    "# разделим данные на обучающую, валидационную и тестовую выборки\n",
    "features_train, features_temp, target_train, target_temp = train_test_split(\n",
    "    features, target, test_size=0.4, random_state=12345)\n",
    "\n",
    "features_valid, features_test, target_valid, target_test = train_test_split(\n",
    "    features_temp, target_temp, test_size=0.5, random_state=12345)\n",
    "\n",
    "# задаём категориальные признаки\n",
    "cat_features = ['VehicleType', 'Gearbox', 'FuelType', 'Brand', 'Repaired']\n",
    "\n",
    "\n",
    "encoder = OrdinalEncoder(dtype=np.int16)\n",
    "encoder.fit(features_train[cat_features])\n",
    "\n",
    "# применим кодировщик к выборкам\n",
    "features_train[cat_features] = encoder.transform(features_train[cat_features])\n",
    "features_valid[cat_features] = encoder.transform(features_valid[cat_features])\n",
    "features_test[cat_features] = encoder.transform(features_test[cat_features])\n",
    "\n",
    "features_train = features_train.fillna(0)\n",
    "features_valid = features_valid.fillna(0)\n",
    "\n",
    "features_train.shape, target_train.shape, features_valid.shape, target_valid.shape, features_test.shape, target_test.shape\n"
   ]
  },
  {
   "cell_type": "markdown",
   "metadata": {},
   "source": [
    "**Градиентный бустинг CatBoost**<br>\n",
    "Подберём оптимальные значения RMSE и глубины"
   ]
  },
  {
   "cell_type": "code",
   "execution_count": 63,
   "metadata": {},
   "outputs": [
    {
     "name": "stdout",
     "output_type": "stream",
     "text": [
      "0:\tlearn: 3650.9311113\ttotal: 71.2ms\tremaining: 2.06s\n",
      "5:\tlearn: 2858.4349095\ttotal: 142ms\tremaining: 568ms\n",
      "10:\tlearn: 2666.6279351\ttotal: 220ms\tremaining: 380ms\n",
      "15:\tlearn: 2553.8362636\ttotal: 297ms\tremaining: 260ms\n",
      "20:\tlearn: 2473.0541908\ttotal: 378ms\tremaining: 162ms\n",
      "25:\tlearn: 2419.9361193\ttotal: 449ms\tremaining: 69.2ms\n",
      "29:\tlearn: 2388.5520427\ttotal: 508ms\tremaining: 0us\n",
      "0:\tlearn: 2738.8533169\ttotal: 26.7ms\tremaining: 775ms\n",
      "5:\tlearn: 2124.0026664\ttotal: 151ms\tremaining: 602ms\n",
      "10:\tlearn: 1984.5528795\ttotal: 271ms\tremaining: 467ms\n",
      "15:\tlearn: 1921.1561523\ttotal: 391ms\tremaining: 342ms\n",
      "20:\tlearn: 1879.2498293\ttotal: 519ms\tremaining: 222ms\n",
      "25:\tlearn: 1845.7408475\ttotal: 650ms\tremaining: 99.9ms\n",
      "29:\tlearn: 1824.2662424\ttotal: 751ms\tremaining: 0us\n",
      "0:\tlearn: 2411.3601633\ttotal: 65.5ms\tremaining: 1.9s\n",
      "5:\tlearn: 1880.2087212\ttotal: 342ms\tremaining: 1.37s\n",
      "10:\tlearn: 1776.2801931\ttotal: 621ms\tremaining: 1.07s\n",
      "15:\tlearn: 1719.2834253\ttotal: 907ms\tremaining: 794ms\n",
      "20:\tlearn: 1678.7276011\ttotal: 1.16s\tremaining: 499ms\n",
      "25:\tlearn: 1649.4638576\ttotal: 1.42s\tremaining: 218ms\n",
      "29:\tlearn: 1624.3084929\ttotal: 1.62s\tremaining: 0us\n",
      "0:\tlearn: 2207.6149981\ttotal: 857ms\tremaining: 24.8s\n",
      "5:\tlearn: 1727.9083359\ttotal: 4.36s\tremaining: 17.4s\n",
      "10:\tlearn: 1611.4969088\ttotal: 7.72s\tremaining: 13.3s\n",
      "15:\tlearn: 1545.3143204\ttotal: 11.3s\tremaining: 9.87s\n",
      "20:\tlearn: 1493.1352582\ttotal: 14.9s\tremaining: 6.41s\n",
      "25:\tlearn: 1449.1772685\ttotal: 18.6s\tremaining: 2.85s\n",
      "29:\tlearn: 1427.6633884\ttotal: 21.4s\tremaining: 0us\n"
     ]
    },
    {
     "data": {
      "text/plain": [
       "'Лучшее значение RMSE = 1758.013935378361, лучшая глубина дерева = 16'"
      ]
     },
     "metadata": {},
     "output_type": "display_data"
    },
    {
     "data": {
      "text/plain": [
       "'Время обучения CatBoostRegressor: 22.9108 секунд'"
      ]
     },
     "metadata": {},
     "output_type": "display_data"
    },
    {
     "data": {
      "text/plain": [
       "'Время предсказания CatBoostRegressor: 0.0168 секунд'"
      ]
     },
     "metadata": {},
     "output_type": "display_data"
    },
    {
     "name": "stdout",
     "output_type": "stream",
     "text": [
      "CPU times: user 16.9 s, sys: 7.96 s, total: 24.8 s\n",
      "Wall time: 29.1 s\n"
     ]
    },
    {
     "data": {
      "image/png": "[encoded data removed]",
      "text/plain": [
       "<Figure size 432x288 with 1 Axes>"
      ]
     },
     "metadata": {
      "needs_background": "light"
     },
     "output_type": "display_data"
    }
   ],
   "source": [
    "%%time\n",
    "best_result = 5000\n",
    "best_train_time_cb = 0\n",
    "best_predict_time_cb = 0\n",
    "depths = []\n",
    "results = []\n",
    "\n",
    "for depth in range(1, 21, 5):\n",
    "    model_cb = CatBoostRegressor(iterations=30, learning_rate=1, max_depth=depth, random_state=12345, verbose=5)\n",
    "    start_time = time.time()\n",
    "    model_cb.fit(features_train, target_train)\n",
    "    end_time = time.time()\n",
    "    train_time_cb = end_time - start_time\n",
    "    \n",
    "    start_time = time.time()\n",
    "    predictions_valid = model_cb.predict(features_valid)\n",
    "    end_time = time.time()\n",
    "    predict_time_cb = end_time - start_time\n",
    "    \n",
    "    result = mean_squared_error(target_valid, predictions_valid, squared=False)\n",
    "    depths.append(depth)\n",
    "    results.append(result)\n",
    "\n",
    "    plt.plot(depths, results)\n",
    "    plt.title(\"Зависимость RMSE от глубины дерева\")\n",
    "    plt.xlabel(\"Глубина дерева\")\n",
    "    plt.ylabel(\"RMSE\")\n",
    "    plt.grid()\n",
    "    plt.show\n",
    "            \n",
    "    if result < best_result:\n",
    "        best_depth_cb = depth\n",
    "        best_result_cb = result\n",
    "        best_train_time_cb = train_time_cb\n",
    "        best_predict_time_cb = predict_time_cb\n",
    "\n",
    "display(f\"Лучшее значение RMSE = {best_result_cb}, лучшая глубина дерева = {best_depth_cb}\")\n",
    "display(f\"Время обучения CatBoostRegressor: {best_train_time_cb:.4f} секунд\")\n",
    "display(f\"Время предсказания CatBoostRegressor: {best_predict_time_cb:.4f} секунд\")"
   ]
  },
  {
   "cell_type": "markdown",
   "metadata": {},
   "source": [
    "**Модель дерева решений**<br>\n",
    "Выберем дерево с минимальным показателем RMSE."
   ]
  },
  {
   "cell_type": "code",
   "execution_count": 64,
   "metadata": {
    "scrolled": true
   },
   "outputs": [
    {
     "data": {
      "text/plain": [
       "'Лучшее значение RMSE = 1933.2179562914057, лучшая глубина дерева = 16'"
      ]
     },
     "metadata": {},
     "output_type": "display_data"
    },
    {
     "data": {
      "text/plain": [
       "'Время обучения DecisionTreeRegressor: 0.4126 секунд'"
      ]
     },
     "metadata": {},
     "output_type": "display_data"
    },
    {
     "data": {
      "text/plain": [
       "'Время предсказания DecisionTreeRegressor: 0.0156 секунд'"
      ]
     },
     "metadata": {},
     "output_type": "display_data"
    },
    {
     "name": "stdout",
     "output_type": "stream",
     "text": [
      "CPU times: user 1.08 s, sys: 1.09 ms, total: 1.08 s\n",
      "Wall time: 1.09 s\n"
     ]
    },
    {
     "data": {
      "image/png": "[encoded data removed]",
      "text/plain": [
       "<Figure size 432x288 with 1 Axes>"
      ]
     },
     "metadata": {
      "needs_background": "light"
     },
     "output_type": "display_data"
    }
   ],
   "source": [
    "%%time\n",
    "best_result = 5000\n",
    "depths = []\n",
    "results = []\n",
    "best_train_time_dtr = 0\n",
    "best_predict_time_dtr = 0\n",
    "\n",
    "for depth in range(1, 21, 5):\n",
    "    model_dtr = DecisionTreeRegressor(max_depth=depth, random_state=12345)\n",
    "    start_time = time.time()\n",
    "    model_dtr.fit(features_train, target_train)\n",
    "    end_time = time.time()\n",
    "    train_time_dtr = end_time - start_time\n",
    "    start_time = time.time()\n",
    "    predictions_valid = model_dtr.predict(features_valid)\n",
    "    end_time = time.time()\n",
    "    predict_time_dtr = end_time - start_time\n",
    "    \n",
    "    result = mean_squared_error(target_valid, predictions_valid, squared=False)\n",
    "    results.append(result)\n",
    "    depths.append(depth)\n",
    "    \n",
    "    plt.plot(depths, results)\n",
    "    plt.title(\"Зависимость RMSE от глубины дерева\")\n",
    "    plt.xlabel(\"Глубина дерева\")\n",
    "    plt.ylabel(\"RMSE\")\n",
    "    plt.grid()\n",
    "    plt.show\n",
    "            \n",
    "    if result < best_result:\n",
    "        best_depth_dtr = depth\n",
    "        best_result_dtr = result\n",
    "        best_train_time_dtr = train_time_dtr\n",
    "        best_predict_time_dtr = predict_time_dtr\n",
    "\n",
    "display(f\"Лучшее значение RMSE = {best_result_dtr}, лучшая глубина дерева = {best_depth_dtr}\")\n",
    "display(f\"Время обучения DecisionTreeRegressor: {best_train_time_dtr:.4f} секунд\")\n",
    "display(f\"Время предсказания DecisionTreeRegressor: {best_predict_time_dtr:.4f} секунд\")\n"
   ]
  },
  {
   "cell_type": "markdown",
   "metadata": {},
   "source": [
    "**Градиентный бустинг LightGBM**<br>\n",
    "Установим параметры и найдём лучшую глубину"
   ]
  },
  {
   "cell_type": "code",
   "execution_count": 65,
   "metadata": {
    "scrolled": true
   },
   "outputs": [
    {
     "name": "stdout",
     "output_type": "stream",
     "text": [
      "[LightGBM] [Warning] Unknown parameter: iterations\n",
      "[LightGBM] [Warning] Unknown parameter: max_depth_lgbm\n",
      "[LightGBM] [Warning] Unknown parameter: bootstrap_type\n",
      "[LightGBM] [Warning] Unknown parameter: loss_function\n"
     ]
    },
    {
     "data": {
      "text/plain": [
       "'Лучшее значение RMSE = 1781.3825668259149, лучшая глубина дерева = 10'"
      ]
     },
     "metadata": {},
     "output_type": "display_data"
    },
    {
     "data": {
      "text/plain": [
       "'Время обучения LightGBM: 35.5606 секунд'"
      ]
     },
     "metadata": {},
     "output_type": "display_data"
    },
    {
     "data": {
      "text/plain": [
       "'Время предсказания LightGBM: 0.4308 секунд'"
      ]
     },
     "metadata": {},
     "output_type": "display_data"
    }
   ],
   "source": [
    "\n",
    "params = {\n",
    "    \"iterations\": 20,\n",
    "    \"learning_rate\": 1,\n",
    "    \"max_depth_lgbm\": 10,\n",
    "    \"loss_function\": \"RMSE\",\n",
    "    \"random_state\": 12345,\n",
    "    \"bootstrap_type\": 'gbdt',\n",
    "}\n",
    "\n",
    "lgbm_model = lightgbm.LGBMRegressor(**params)\n",
    "\n",
    "start_time = time.time()\n",
    "lgbm_model.fit(features_train, target_train, categorical_feature=cat_features)\n",
    "end_time = time.time()\n",
    "train_time_lgbm = end_time - start_time\n",
    "\n",
    "start_time = time.time()\n",
    "predictions_valid = lgbm_model.predict(features_valid)\n",
    "end_time = time.time()\n",
    "predict_time_lgbm = end_time - start_time\n",
    "\n",
    "best_result_lgbm = mean_squared_error(target_valid, predictions_valid, squared=False)\n",
    "\n",
    "display(f\"Лучшее значение RMSE = {best_result_lgbm}, лучшая глубина дерева = {params['max_depth_lgbm']}\")\n",
    "display(f\"Время обучения LightGBM: {train_time_lgbm:.4f} секунд\")\n",
    "display(f\"Время предсказания LightGBM: {predict_time_lgbm:.4f} секунд\")\n",
    "\n"
   ]
  },
  {
   "cell_type": "markdown",
   "metadata": {},
   "source": [
    "Обучим модель с лучшими параметрами"
   ]
  },
  {
   "cell_type": "markdown",
   "metadata": {},
   "source": [
    "**Вывод по разделу обучения моделей:**<br>\n",
    "Градиентный бустинг CatBoost показал результаты:  RMSE - 1758, глубина - 16, время обучения - 22.91 с, время предсказания - 0.02 с.<br>\n",
    "Модель дерева решений показала результаты: RMSE - 1933, глубина - 16, время обучения -  0.41 с, время предсказания - 0.02 с.<br>\n",
    "Градиентный бустинг LightGBM показал результаты: RMSE - 1781, глубина - 10, время обучения - 35.5 с, время предсказания - 0.43 с.<br><br>\n",
    "Лучшую скорость обучения показала модель Дерева решений. <br><br>\n",
    "Все модели удовлетворяют условию RMSE < 2500.\n"
   ]
  },
  {
   "cell_type": "markdown",
   "metadata": {},
   "source": [
    "## Анализ моделей"
   ]
  },
  {
   "cell_type": "code",
   "execution_count": 68,
   "metadata": {},
   "outputs": [
    {
     "data": {
      "text/html": [
       "<div>\n",
       "<style scoped>\n",
       "    .dataframe tbody tr th:only-of-type {\n",
       "        vertical-align: middle;\n",
       "    }\n",
       "\n",
       "    .dataframe tbody tr th {\n",
       "        vertical-align: top;\n",
       "    }\n",
       "\n",
       "    .dataframe thead th {\n",
       "        text-align: right;\n",
       "    }\n",
       "</style>\n",
       "<table border=\"1\" class=\"dataframe\">\n",
       "  <thead>\n",
       "    <tr style=\"text-align: right;\">\n",
       "      <th></th>\n",
       "      <th>Модель</th>\n",
       "      <th>Глубина дерева</th>\n",
       "      <th>RMSE</th>\n",
       "      <th>Время обучения (сек)</th>\n",
       "      <th>Время предсказания (сек)</th>\n",
       "    </tr>\n",
       "  </thead>\n",
       "  <tbody>\n",
       "    <tr>\n",
       "      <th>0</th>\n",
       "      <td>CatBoostRegressor</td>\n",
       "      <td>16</td>\n",
       "      <td>1758.013935</td>\n",
       "      <td>22.910797</td>\n",
       "      <td>0.016834</td>\n",
       "    </tr>\n",
       "    <tr>\n",
       "      <th>1</th>\n",
       "      <td>DecisionTreeRegressor</td>\n",
       "      <td>16</td>\n",
       "      <td>1933.217956</td>\n",
       "      <td>0.412567</td>\n",
       "      <td>0.015626</td>\n",
       "    </tr>\n",
       "    <tr>\n",
       "      <th>2</th>\n",
       "      <td>LightGBM</td>\n",
       "      <td>10</td>\n",
       "      <td>1781.382567</td>\n",
       "      <td>35.560573</td>\n",
       "      <td>0.430802</td>\n",
       "    </tr>\n",
       "  </tbody>\n",
       "</table>\n",
       "</div>"
      ],
      "text/plain": [
       "                  Модель  Глубина дерева         RMSE  Время обучения (сек)  \\\n",
       "0      CatBoostRegressor              16  1758.013935             22.910797   \n",
       "1  DecisionTreeRegressor              16  1933.217956              0.412567   \n",
       "2               LightGBM              10  1781.382567             35.560573   \n",
       "\n",
       "   Время предсказания (сек)  \n",
       "0                  0.016834  \n",
       "1                  0.015626  \n",
       "2                  0.430802  "
      ]
     },
     "metadata": {},
     "output_type": "display_data"
    }
   ],
   "source": [
    "# результаты для CatBoostRegressor\n",
    "catboost_results = pd.DataFrame({\n",
    "    'Модель': ['CatBoostRegressor'],\n",
    "    'Глубина дерева': [best_depth_cb],\n",
    "    'RMSE': [best_result_cb],\n",
    "    'Время обучения (сек)': [best_train_time_cb],\n",
    "    'Время предсказания (сек)': [best_predict_time_cb]\n",
    "})\n",
    "\n",
    "# результаты для DecisionTreeRegressor\n",
    "dtr_results = pd.DataFrame({\n",
    "    'Модель': ['DecisionTreeRegressor'],\n",
    "    'Глубина дерева': [best_depth_dtr],\n",
    "    'RMSE': [best_result_dtr],\n",
    "    'Время обучения (сек)': [best_train_time_dtr],\n",
    "    'Время предсказания (сек)': [best_predict_time_dtr]\n",
    "})\n",
    "\n",
    "# результаты для LightGBM\n",
    "lgbm_results = pd.DataFrame({\n",
    "    'Модель': ['LightGBM'],\n",
    "    'Глубина дерева': [10],\n",
    "    'RMSE': [best_result_lgbm],\n",
    "    'Время обучения (сек)': [train_time_lgbm],\n",
    "    'Время предсказания (сек)': [predict_time_lgbm]\n",
    "})\n",
    "\n",
    "# объединим результаты в один DataFrame\n",
    "results_df = pd.concat([catboost_results, dtr_results, lgbm_results], ignore_index=True)\n",
    "\n",
    "# выведем таблицу\n",
    "display(results_df)"
   ]
  },
  {
   "cell_type": "markdown",
   "metadata": {},
   "source": [
    "**Вывод по разделу анализа моделей:** <br><br>\n",
    "По показателям RMSE лучшего всего показала себя модель градиентного бустинга CatBoost:\n",
    "<br><br>\n",
    "CatBoost = 1721 <br>\n",
    "DecisionTreeRegressor = 1950 <br>\n",
    "LightGBM  = 1748<br>"
   ]
  },
  {
   "cell_type": "markdown",
   "metadata": {},
   "source": [
    "Проверим модель CatBoost, показавшую лучшие результаты на тестовой выборке"
   ]
  },
  {
   "cell_type": "code",
   "execution_count": null,
   "metadata": {},
   "outputs": [],
   "source": [
    "predictions_test = model_cb.predict(features_test)\n",
    "test_result = mean_squared_error(target_test, predictions_test, squared=False)\n",
    "\n",
    "print(f\"Лучшее значение RMSE: {best_result_cb}, Best max_depth: {best_depth_cb}\")\n",
    "print(f\"RMSE на тестовой выбороке: {test_result}\")"
   ]
  },
  {
   "cell_type": "markdown",
   "metadata": {},
   "source": [
    "Предсказания удовлетворяет заданному условию."
   ]
  },
  {
   "cell_type": "markdown",
   "metadata": {},
   "source": [
    "**ВЫВОД**\n",
    "<br><br>\n",
    "В процессе предобработки и анализа данных:\n",
    "- удалили ненужные признаки, \n",
    "- категориальные признаки преобразовали в количественные, \n",
    "- обработали пропуски в признаках, \n",
    "- удалили аномальные значения признаков.\n",
    "<br><br>\n",
    "В разделе обучения моделей:\n",
    "- подготовили выборки для обучения моделей при помощи train_test_split,\n",
    "- обучили три модели с подбором оптимальных параметров:<br>\n",
    "CatBoost - получили оптимальную глубину 16 за 46.8 с<br>\n",
    "DecisionTreeRegressor - получили оптимальную глубину 16 за 0.55 с<br>\n",
    "LightGBM - получили оптимальную глубину 10 за 190 с<br>\n",
    "<br>\n",
    "В процессе анализа моделей при получения предсказаний модели показали результаты:<br><br>\n",
    "CatBoost = 1721 <br>\n",
    "DecisionTreeRegressor = 1950 <br>\n",
    "LightGBM  = 1748 <br>\n",
    "<br>\n",
    "Наилучшим образом показла себя модель CatBoost."
   ]
  }
 ],
 "metadata": {
  "ExecuteTimeLog": [
   {
    "duration": 1852,
    "start_time": "2023-07-14T08:19:44.539Z"
   },
   {
    "duration": 3543,
    "start_time": "2023-07-14T08:20:18.057Z"
   },
   {
    "duration": 161,
    "start_time": "2023-07-14T08:21:04.616Z"
   },
   {
    "duration": 515,
    "start_time": "2023-07-14T08:23:22.817Z"
   },
   {
    "duration": 103,
    "start_time": "2023-07-14T08:23:57.675Z"
   },
   {
    "duration": 122,
    "start_time": "2023-07-14T08:28:08.002Z"
   },
   {
    "duration": 897,
    "start_time": "2023-07-14T08:28:45.389Z"
   },
   {
    "duration": 128,
    "start_time": "2023-07-14T08:28:52.521Z"
   },
   {
    "duration": 103,
    "start_time": "2023-07-14T16:18:34.191Z"
   },
   {
    "duration": 17,
    "start_time": "2023-07-14T16:51:00.731Z"
   },
   {
    "duration": 54,
    "start_time": "2023-07-14T16:51:42.878Z"
   },
   {
    "duration": 25,
    "start_time": "2023-07-14T16:55:08.502Z"
   },
   {
    "duration": 18,
    "start_time": "2023-07-14T19:18:47.881Z"
   },
   {
    "duration": 18,
    "start_time": "2023-07-14T19:19:30.520Z"
   },
   {
    "duration": 19,
    "start_time": "2023-07-14T19:19:44.094Z"
   },
   {
    "duration": 163,
    "start_time": "2023-07-14T19:22:16.829Z"
   },
   {
    "duration": 141,
    "start_time": "2023-07-14T19:23:37.587Z"
   },
   {
    "duration": 1523,
    "start_time": "2023-07-14T19:24:02.985Z"
   },
   {
    "duration": 881,
    "start_time": "2023-07-14T19:24:04.510Z"
   },
   {
    "duration": 146,
    "start_time": "2023-07-14T19:24:05.393Z"
   },
   {
    "duration": 118,
    "start_time": "2023-07-14T19:24:05.541Z"
   },
   {
    "duration": 149,
    "start_time": "2023-07-14T19:24:05.661Z"
   },
   {
    "duration": 565,
    "start_time": "2023-07-14T19:24:05.812Z"
   },
   {
    "duration": 528,
    "start_time": "2023-07-14T19:24:06.381Z"
   },
   {
    "duration": 125,
    "start_time": "2023-07-14T19:24:06.911Z"
   },
   {
    "duration": 13,
    "start_time": "2023-07-14T19:24:07.038Z"
   },
   {
    "duration": 43,
    "start_time": "2023-07-14T19:24:07.053Z"
   },
   {
    "duration": 19,
    "start_time": "2023-07-14T19:24:07.098Z"
   },
   {
    "duration": 17,
    "start_time": "2023-07-14T19:24:07.119Z"
   },
   {
    "duration": 1058,
    "start_time": "2023-07-14T19:34:56.676Z"
   },
   {
    "duration": 1017,
    "start_time": "2023-07-14T19:35:12.852Z"
   },
   {
    "duration": 35,
    "start_time": "2023-07-14T19:35:15.272Z"
   },
   {
    "duration": 18,
    "start_time": "2023-07-14T19:35:28.468Z"
   },
   {
    "duration": 5,
    "start_time": "2023-07-14T19:35:42.957Z"
   },
   {
    "duration": 785,
    "start_time": "2023-07-14T19:35:42.963Z"
   },
   {
    "duration": 128,
    "start_time": "2023-07-14T19:35:43.750Z"
   },
   {
    "duration": 104,
    "start_time": "2023-07-14T19:35:43.880Z"
   },
   {
    "duration": 159,
    "start_time": "2023-07-14T19:35:43.987Z"
   },
   {
    "duration": 445,
    "start_time": "2023-07-14T19:35:44.148Z"
   },
   {
    "duration": 423,
    "start_time": "2023-07-14T19:35:44.595Z"
   },
   {
    "duration": 113,
    "start_time": "2023-07-14T19:35:45.020Z"
   },
   {
    "duration": 11,
    "start_time": "2023-07-14T19:35:45.134Z"
   },
   {
    "duration": 28,
    "start_time": "2023-07-14T19:35:45.147Z"
   },
   {
    "duration": 32,
    "start_time": "2023-07-14T19:35:45.177Z"
   },
   {
    "duration": 22,
    "start_time": "2023-07-14T19:35:45.211Z"
   },
   {
    "duration": 1133,
    "start_time": "2023-07-14T19:35:45.235Z"
   },
   {
    "duration": 0,
    "start_time": "2023-07-14T19:35:46.370Z"
   },
   {
    "duration": 0,
    "start_time": "2023-07-14T19:35:46.371Z"
   },
   {
    "duration": 31,
    "start_time": "2023-07-14T19:36:03.061Z"
   },
   {
    "duration": 15,
    "start_time": "2023-07-14T19:37:05.510Z"
   },
   {
    "duration": 13,
    "start_time": "2023-07-14T19:37:08.408Z"
   },
   {
    "duration": 13,
    "start_time": "2023-07-14T19:37:37.868Z"
   },
   {
    "duration": 4,
    "start_time": "2023-07-14T19:37:48.765Z"
   },
   {
    "duration": 771,
    "start_time": "2023-07-14T19:37:48.771Z"
   },
   {
    "duration": 136,
    "start_time": "2023-07-14T19:37:49.544Z"
   },
   {
    "duration": 91,
    "start_time": "2023-07-14T19:37:49.681Z"
   },
   {
    "duration": 116,
    "start_time": "2023-07-14T19:37:49.775Z"
   },
   {
    "duration": 436,
    "start_time": "2023-07-14T19:37:49.892Z"
   },
   {
    "duration": 436,
    "start_time": "2023-07-14T19:37:50.330Z"
   },
   {
    "duration": 123,
    "start_time": "2023-07-14T19:37:50.768Z"
   },
   {
    "duration": 11,
    "start_time": "2023-07-14T19:37:50.893Z"
   },
   {
    "duration": 21,
    "start_time": "2023-07-14T19:37:50.906Z"
   },
   {
    "duration": 50,
    "start_time": "2023-07-14T19:37:50.928Z"
   },
   {
    "duration": 19,
    "start_time": "2023-07-14T19:37:50.980Z"
   },
   {
    "duration": 30,
    "start_time": "2023-07-14T19:37:51.000Z"
   },
   {
    "duration": 993,
    "start_time": "2023-07-14T19:37:51.032Z"
   },
   {
    "duration": 0,
    "start_time": "2023-07-14T19:37:52.027Z"
   },
   {
    "duration": 33,
    "start_time": "2023-07-14T19:54:02.924Z"
   },
   {
    "duration": 17,
    "start_time": "2023-07-14T19:54:15.575Z"
   },
   {
    "duration": 13,
    "start_time": "2023-07-14T19:54:52.888Z"
   },
   {
    "duration": 4,
    "start_time": "2023-07-14T19:54:57.950Z"
   },
   {
    "duration": 804,
    "start_time": "2023-07-14T19:54:57.956Z"
   },
   {
    "duration": 137,
    "start_time": "2023-07-14T19:54:58.761Z"
   },
   {
    "duration": 102,
    "start_time": "2023-07-14T19:54:58.900Z"
   },
   {
    "duration": 147,
    "start_time": "2023-07-14T19:54:59.005Z"
   },
   {
    "duration": 476,
    "start_time": "2023-07-14T19:54:59.154Z"
   },
   {
    "duration": 474,
    "start_time": "2023-07-14T19:54:59.632Z"
   },
   {
    "duration": 137,
    "start_time": "2023-07-14T19:55:00.108Z"
   },
   {
    "duration": 26,
    "start_time": "2023-07-14T19:55:00.247Z"
   },
   {
    "duration": 41,
    "start_time": "2023-07-14T19:55:00.275Z"
   },
   {
    "duration": 61,
    "start_time": "2023-07-14T19:55:00.317Z"
   },
   {
    "duration": 179,
    "start_time": "2023-07-14T19:55:00.380Z"
   },
   {
    "duration": 57,
    "start_time": "2023-07-14T19:55:00.561Z"
   },
   {
    "duration": 111,
    "start_time": "2023-07-14T19:55:00.621Z"
   },
   {
    "duration": 130,
    "start_time": "2023-07-14T19:55:00.734Z"
   },
   {
    "duration": 953,
    "start_time": "2023-07-14T19:58:08.024Z"
   },
   {
    "duration": 20,
    "start_time": "2023-07-14T19:58:13.473Z"
   },
   {
    "duration": 34,
    "start_time": "2023-07-14T20:03:16.619Z"
   },
   {
    "duration": 31,
    "start_time": "2023-07-14T20:03:18.087Z"
   },
   {
    "duration": 18,
    "start_time": "2023-07-14T20:04:16.460Z"
   },
   {
    "duration": 18,
    "start_time": "2023-07-14T20:09:16.982Z"
   },
   {
    "duration": 18,
    "start_time": "2023-07-14T20:09:23.593Z"
   },
   {
    "duration": 21,
    "start_time": "2023-07-14T20:11:03.523Z"
   },
   {
    "duration": 81,
    "start_time": "2023-07-14T20:27:37.469Z"
   },
   {
    "duration": 71,
    "start_time": "2023-07-14T20:28:08.370Z"
   },
   {
    "duration": 52,
    "start_time": "2023-07-14T20:28:39.063Z"
   },
   {
    "duration": 74,
    "start_time": "2023-07-14T20:29:17.024Z"
   },
   {
    "duration": 72,
    "start_time": "2023-07-14T20:29:27.474Z"
   },
   {
    "duration": 60,
    "start_time": "2023-07-14T20:32:50.980Z"
   },
   {
    "duration": 959,
    "start_time": "2023-07-14T20:33:22.470Z"
   },
   {
    "duration": 19,
    "start_time": "2023-07-14T20:33:32.188Z"
   },
   {
    "duration": 29,
    "start_time": "2023-07-14T20:45:44.055Z"
   },
   {
    "duration": 3,
    "start_time": "2023-07-14T22:04:49.630Z"
   },
   {
    "duration": 11,
    "start_time": "2023-07-14T22:04:52.053Z"
   },
   {
    "duration": 15,
    "start_time": "2023-07-14T22:23:18.070Z"
   },
   {
    "duration": 131,
    "start_time": "2023-07-14T22:25:16.618Z"
   },
   {
    "duration": 1088,
    "start_time": "2023-07-14T22:30:11.460Z"
   },
   {
    "duration": 130,
    "start_time": "2023-07-14T22:35:20.010Z"
   },
   {
    "duration": 67,
    "start_time": "2023-07-14T22:38:25.205Z"
   },
   {
    "duration": 90,
    "start_time": "2023-07-14T22:39:42.038Z"
   },
   {
    "duration": 2,
    "start_time": "2023-07-14T22:40:30.463Z"
   },
   {
    "duration": 10,
    "start_time": "2023-07-14T22:40:55.614Z"
   },
   {
    "duration": 937,
    "start_time": "2023-07-14T22:41:55.096Z"
   },
   {
    "duration": 439,
    "start_time": "2023-07-14T22:42:25.805Z"
   },
   {
    "duration": 415,
    "start_time": "2023-07-14T22:43:15.134Z"
   },
   {
    "duration": 403,
    "start_time": "2023-07-14T22:44:53.157Z"
   },
   {
    "duration": 113,
    "start_time": "2023-07-14T22:46:00.018Z"
   },
   {
    "duration": 78,
    "start_time": "2023-07-14T22:46:08.032Z"
   },
   {
    "duration": 2486,
    "start_time": "2023-07-14T22:49:28.443Z"
   },
   {
    "duration": 4,
    "start_time": "2023-07-14T22:49:48.558Z"
   },
   {
    "duration": 764,
    "start_time": "2023-07-14T22:49:48.563Z"
   },
   {
    "duration": 123,
    "start_time": "2023-07-14T22:49:49.328Z"
   },
   {
    "duration": 93,
    "start_time": "2023-07-14T22:49:49.453Z"
   },
   {
    "duration": 128,
    "start_time": "2023-07-14T22:49:49.548Z"
   },
   {
    "duration": 433,
    "start_time": "2023-07-14T22:49:49.677Z"
   },
   {
    "duration": 448,
    "start_time": "2023-07-14T22:49:50.111Z"
   },
   {
    "duration": 126,
    "start_time": "2023-07-14T22:49:50.560Z"
   },
   {
    "duration": 10,
    "start_time": "2023-07-14T22:49:50.688Z"
   },
   {
    "duration": 45,
    "start_time": "2023-07-14T22:49:50.699Z"
   },
   {
    "duration": 33,
    "start_time": "2023-07-14T22:49:50.745Z"
   },
   {
    "duration": 48,
    "start_time": "2023-07-14T22:49:50.780Z"
   },
   {
    "duration": 41,
    "start_time": "2023-07-14T22:49:50.830Z"
   },
   {
    "duration": 52,
    "start_time": "2023-07-14T22:49:50.872Z"
   },
   {
    "duration": 45,
    "start_time": "2023-07-14T22:49:50.925Z"
   },
   {
    "duration": 39,
    "start_time": "2023-07-14T22:49:50.971Z"
   },
   {
    "duration": 42,
    "start_time": "2023-07-14T22:49:51.012Z"
   },
   {
    "duration": 55,
    "start_time": "2023-07-14T22:49:51.056Z"
   },
   {
    "duration": 43,
    "start_time": "2023-07-14T22:49:51.113Z"
   },
   {
    "duration": 88,
    "start_time": "2023-07-14T22:49:51.158Z"
   },
   {
    "duration": 73,
    "start_time": "2023-07-14T22:49:51.247Z"
   },
   {
    "duration": 29,
    "start_time": "2023-07-14T22:49:51.321Z"
   },
   {
    "duration": 22,
    "start_time": "2023-07-14T22:49:51.352Z"
   },
   {
    "duration": 3,
    "start_time": "2023-07-14T22:49:51.375Z"
   },
   {
    "duration": 725,
    "start_time": "2023-07-14T22:49:51.379Z"
   },
   {
    "duration": 25,
    "start_time": "2023-07-14T22:49:52.106Z"
   },
   {
    "duration": 95,
    "start_time": "2023-07-14T22:49:52.133Z"
   },
   {
    "duration": 2517,
    "start_time": "2023-07-14T22:49:52.230Z"
   },
   {
    "duration": 18,
    "start_time": "2023-07-14T22:52:57.650Z"
   },
   {
    "duration": 2599,
    "start_time": "2023-07-14T22:52:58.877Z"
   },
   {
    "duration": 4,
    "start_time": "2023-07-14T22:54:09.117Z"
   },
   {
    "duration": 734,
    "start_time": "2023-07-14T22:54:09.123Z"
   },
   {
    "duration": 123,
    "start_time": "2023-07-14T22:54:09.859Z"
   },
   {
    "duration": 95,
    "start_time": "2023-07-14T22:54:09.983Z"
   },
   {
    "duration": 120,
    "start_time": "2023-07-14T22:54:10.081Z"
   },
   {
    "duration": 417,
    "start_time": "2023-07-14T22:54:10.203Z"
   },
   {
    "duration": 435,
    "start_time": "2023-07-14T22:54:10.622Z"
   },
   {
    "duration": 126,
    "start_time": "2023-07-14T22:54:11.059Z"
   },
   {
    "duration": 11,
    "start_time": "2023-07-14T22:54:11.187Z"
   },
   {
    "duration": 21,
    "start_time": "2023-07-14T22:54:11.199Z"
   },
   {
    "duration": 50,
    "start_time": "2023-07-14T22:54:11.222Z"
   },
   {
    "duration": 19,
    "start_time": "2023-07-14T22:54:11.274Z"
   },
   {
    "duration": 16,
    "start_time": "2023-07-14T22:54:11.295Z"
   },
   {
    "duration": 29,
    "start_time": "2023-07-14T22:54:11.313Z"
   },
   {
    "duration": 47,
    "start_time": "2023-07-14T22:54:11.344Z"
   },
   {
    "duration": 20,
    "start_time": "2023-07-14T22:54:11.393Z"
   },
   {
    "duration": 31,
    "start_time": "2023-07-14T22:54:11.415Z"
   },
   {
    "duration": 34,
    "start_time": "2023-07-14T22:54:11.447Z"
   },
   {
    "duration": 29,
    "start_time": "2023-07-14T22:54:11.482Z"
   },
   {
    "duration": 83,
    "start_time": "2023-07-14T22:54:11.513Z"
   },
   {
    "duration": 77,
    "start_time": "2023-07-14T22:54:11.597Z"
   },
   {
    "duration": 20,
    "start_time": "2023-07-14T22:54:11.676Z"
   },
   {
    "duration": 19,
    "start_time": "2023-07-14T22:54:11.698Z"
   },
   {
    "duration": 3,
    "start_time": "2023-07-14T22:54:11.718Z"
   },
   {
    "duration": 701,
    "start_time": "2023-07-14T22:54:11.722Z"
   },
   {
    "duration": 23,
    "start_time": "2023-07-14T22:54:12.424Z"
   },
   {
    "duration": 90,
    "start_time": "2023-07-14T22:54:12.449Z"
   },
   {
    "duration": 2433,
    "start_time": "2023-07-14T22:54:12.540Z"
   },
   {
    "duration": 1432,
    "start_time": "2023-07-14T22:54:52.355Z"
   },
   {
    "duration": 852,
    "start_time": "2023-07-14T22:54:53.789Z"
   },
   {
    "duration": 134,
    "start_time": "2023-07-14T22:54:54.643Z"
   },
   {
    "duration": 98,
    "start_time": "2023-07-14T22:54:54.779Z"
   },
   {
    "duration": 121,
    "start_time": "2023-07-14T22:54:54.879Z"
   },
   {
    "duration": 479,
    "start_time": "2023-07-14T22:54:55.002Z"
   },
   {
    "duration": 509,
    "start_time": "2023-07-14T22:54:55.483Z"
   },
   {
    "duration": 127,
    "start_time": "2023-07-14T22:54:55.994Z"
   },
   {
    "duration": 10,
    "start_time": "2023-07-14T22:54:56.123Z"
   },
   {
    "duration": 43,
    "start_time": "2023-07-14T22:54:56.135Z"
   },
   {
    "duration": 31,
    "start_time": "2023-07-14T22:54:56.179Z"
   },
   {
    "duration": 28,
    "start_time": "2023-07-14T22:54:56.212Z"
   },
   {
    "duration": 15,
    "start_time": "2023-07-14T22:54:56.242Z"
   },
   {
    "duration": 45,
    "start_time": "2023-07-14T22:54:56.267Z"
   },
   {
    "duration": 27,
    "start_time": "2023-07-14T22:54:56.314Z"
   },
   {
    "duration": 22,
    "start_time": "2023-07-14T22:54:56.343Z"
   },
   {
    "duration": 32,
    "start_time": "2023-07-14T22:54:56.367Z"
   },
   {
    "duration": 20,
    "start_time": "2023-07-14T22:54:56.401Z"
   },
   {
    "duration": 30,
    "start_time": "2023-07-14T22:54:56.423Z"
   },
   {
    "duration": 94,
    "start_time": "2023-07-14T22:54:56.455Z"
   },
   {
    "duration": 72,
    "start_time": "2023-07-14T22:54:56.551Z"
   },
   {
    "duration": 24,
    "start_time": "2023-07-14T22:54:56.624Z"
   },
   {
    "duration": 35,
    "start_time": "2023-07-14T22:54:56.649Z"
   },
   {
    "duration": 3,
    "start_time": "2023-07-14T22:54:56.686Z"
   },
   {
    "duration": 721,
    "start_time": "2023-07-14T22:54:56.690Z"
   },
   {
    "duration": 30,
    "start_time": "2023-07-14T22:54:57.412Z"
   },
   {
    "duration": 98,
    "start_time": "2023-07-14T22:54:57.444Z"
   },
   {
    "duration": 2412,
    "start_time": "2023-07-14T22:54:57.544Z"
   },
   {
    "duration": 15,
    "start_time": "2023-07-14T22:58:30.395Z"
   },
   {
    "duration": 3,
    "start_time": "2023-07-14T22:59:41.420Z"
   },
   {
    "duration": 435,
    "start_time": "2023-07-14T22:59:43.500Z"
   },
   {
    "duration": 13,
    "start_time": "2023-07-14T22:59:46.401Z"
   },
   {
    "duration": 88,
    "start_time": "2023-07-14T22:59:47.777Z"
   },
   {
    "duration": 2554,
    "start_time": "2023-07-14T22:59:52.992Z"
   },
   {
    "duration": 19,
    "start_time": "2023-07-14T23:00:23.333Z"
   },
   {
    "duration": 20,
    "start_time": "2023-07-14T23:00:29.291Z"
   },
   {
    "duration": 14,
    "start_time": "2023-07-14T23:00:44.707Z"
   },
   {
    "duration": 2531,
    "start_time": "2023-07-14T23:00:46.437Z"
   },
   {
    "duration": 5,
    "start_time": "2023-07-14T23:01:18.470Z"
   },
   {
    "duration": 771,
    "start_time": "2023-07-14T23:01:18.476Z"
   },
   {
    "duration": 123,
    "start_time": "2023-07-14T23:01:19.248Z"
   },
   {
    "duration": 76,
    "start_time": "2023-07-14T23:01:19.372Z"
   },
   {
    "duration": 128,
    "start_time": "2023-07-14T23:01:19.450Z"
   },
   {
    "duration": 397,
    "start_time": "2023-07-14T23:01:19.579Z"
   },
   {
    "duration": 438,
    "start_time": "2023-07-14T23:01:19.977Z"
   },
   {
    "duration": 113,
    "start_time": "2023-07-14T23:01:20.416Z"
   },
   {
    "duration": 10,
    "start_time": "2023-07-14T23:01:20.531Z"
   },
   {
    "duration": 43,
    "start_time": "2023-07-14T23:01:20.542Z"
   },
   {
    "duration": 31,
    "start_time": "2023-07-14T23:01:20.586Z"
   },
   {
    "duration": 22,
    "start_time": "2023-07-14T23:01:20.619Z"
   },
   {
    "duration": 28,
    "start_time": "2023-07-14T23:01:20.642Z"
   },
   {
    "duration": 31,
    "start_time": "2023-07-14T23:01:20.673Z"
   },
   {
    "duration": 26,
    "start_time": "2023-07-14T23:01:20.705Z"
   },
   {
    "duration": 19,
    "start_time": "2023-07-14T23:01:20.733Z"
   },
   {
    "duration": 32,
    "start_time": "2023-07-14T23:01:20.767Z"
   },
   {
    "duration": 20,
    "start_time": "2023-07-14T23:01:20.800Z"
   },
   {
    "duration": 30,
    "start_time": "2023-07-14T23:01:20.822Z"
   },
   {
    "duration": 71,
    "start_time": "2023-07-14T23:01:20.869Z"
   },
   {
    "duration": 83,
    "start_time": "2023-07-14T23:01:20.941Z"
   },
   {
    "duration": 31,
    "start_time": "2023-07-14T23:01:21.026Z"
   },
   {
    "duration": 21,
    "start_time": "2023-07-14T23:01:21.067Z"
   },
   {
    "duration": 3,
    "start_time": "2023-07-14T23:01:21.090Z"
   },
   {
    "duration": 697,
    "start_time": "2023-07-14T23:01:21.094Z"
   },
   {
    "duration": 28,
    "start_time": "2023-07-14T23:01:21.792Z"
   },
   {
    "duration": 97,
    "start_time": "2023-07-14T23:01:21.822Z"
   },
   {
    "duration": 14,
    "start_time": "2023-07-14T23:01:21.921Z"
   },
   {
    "duration": 2407,
    "start_time": "2023-07-14T23:01:21.937Z"
   },
   {
    "duration": 3,
    "start_time": "2023-07-14T23:04:54.536Z"
   },
   {
    "duration": 407,
    "start_time": "2023-07-14T23:04:57.416Z"
   },
   {
    "duration": 432,
    "start_time": "2023-07-14T23:05:13.831Z"
   },
   {
    "duration": 2362,
    "start_time": "2023-07-14T23:05:18.548Z"
   },
   {
    "duration": 667,
    "start_time": "2023-07-14T23:05:57.167Z"
   },
   {
    "duration": 698,
    "start_time": "2023-07-14T23:17:39.073Z"
   },
   {
    "duration": 408,
    "start_time": "2023-07-14T23:17:48.996Z"
   },
   {
    "duration": 12,
    "start_time": "2023-07-14T23:17:57.299Z"
   },
   {
    "duration": 83,
    "start_time": "2023-07-14T23:17:59.329Z"
   },
   {
    "duration": 2561,
    "start_time": "2023-07-14T23:18:20.196Z"
   },
   {
    "duration": 742,
    "start_time": "2023-07-15T23:02:58.619Z"
   },
   {
    "duration": 3,
    "start_time": "2023-07-17T10:31:30.055Z"
   },
   {
    "duration": 782,
    "start_time": "2023-07-17T10:31:32.328Z"
   },
   {
    "duration": 411,
    "start_time": "2023-07-17T10:31:37.430Z"
   },
   {
    "duration": 2842,
    "start_time": "2023-07-17T10:31:46.858Z"
   },
   {
    "duration": 3028,
    "start_time": "2023-07-17T10:43:56.532Z"
   },
   {
    "duration": 4,
    "start_time": "2023-07-17T11:09:29.492Z"
   },
   {
    "duration": 60,
    "start_time": "2023-07-17T11:16:02.094Z"
   },
   {
    "duration": 103,
    "start_time": "2023-07-17T11:16:11.013Z"
   },
   {
    "duration": 2775,
    "start_time": "2023-07-17T11:16:13.682Z"
   },
   {
    "duration": 5,
    "start_time": "2023-07-17T11:16:32.381Z"
   },
   {
    "duration": 2852,
    "start_time": "2023-07-17T11:16:35.327Z"
   },
   {
    "duration": 4,
    "start_time": "2023-07-17T11:16:40.799Z"
   },
   {
    "duration": 824,
    "start_time": "2023-07-17T11:16:40.805Z"
   },
   {
    "duration": 138,
    "start_time": "2023-07-17T11:16:41.630Z"
   },
   {
    "duration": 100,
    "start_time": "2023-07-17T11:16:41.770Z"
   },
   {
    "duration": 144,
    "start_time": "2023-07-17T11:16:41.873Z"
   },
   {
    "duration": 437,
    "start_time": "2023-07-17T11:16:42.019Z"
   },
   {
    "duration": 458,
    "start_time": "2023-07-17T11:16:42.457Z"
   },
   {
    "duration": 117,
    "start_time": "2023-07-17T11:16:42.916Z"
   },
   {
    "duration": 11,
    "start_time": "2023-07-17T11:16:43.035Z"
   },
   {
    "duration": 40,
    "start_time": "2023-07-17T11:16:43.048Z"
   },
   {
    "duration": 37,
    "start_time": "2023-07-17T11:16:43.089Z"
   },
   {
    "duration": 24,
    "start_time": "2023-07-17T11:16:43.127Z"
   },
   {
    "duration": 42,
    "start_time": "2023-07-17T11:16:43.152Z"
   },
   {
    "duration": 32,
    "start_time": "2023-07-17T11:16:43.197Z"
   },
   {
    "duration": 39,
    "start_time": "2023-07-17T11:16:43.230Z"
   },
   {
    "duration": 19,
    "start_time": "2023-07-17T11:16:43.271Z"
   },
   {
    "duration": 35,
    "start_time": "2023-07-17T11:16:43.292Z"
   },
   {
    "duration": 23,
    "start_time": "2023-07-17T11:16:43.329Z"
   },
   {
    "duration": 53,
    "start_time": "2023-07-17T11:16:43.354Z"
   },
   {
    "duration": 84,
    "start_time": "2023-07-17T11:16:43.408Z"
   },
   {
    "duration": 101,
    "start_time": "2023-07-17T11:16:43.494Z"
   },
   {
    "duration": 21,
    "start_time": "2023-07-17T11:16:43.596Z"
   },
   {
    "duration": 20,
    "start_time": "2023-07-17T11:16:43.619Z"
   },
   {
    "duration": 3,
    "start_time": "2023-07-17T11:16:43.640Z"
   },
   {
    "duration": 900,
    "start_time": "2023-07-17T11:16:43.668Z"
   },
   {
    "duration": 49,
    "start_time": "2023-07-17T11:16:44.570Z"
   },
   {
    "duration": 8,
    "start_time": "2023-07-17T11:16:44.621Z"
   },
   {
    "duration": 71,
    "start_time": "2023-07-17T11:16:44.631Z"
   },
   {
    "duration": 51732,
    "start_time": "2023-07-17T11:16:44.704Z"
   },
   {
    "duration": 88,
    "start_time": "2023-07-17T11:53:47.167Z"
   },
   {
    "duration": 17,
    "start_time": "2023-07-17T11:54:13.967Z"
   },
   {
    "duration": 90,
    "start_time": "2023-07-17T12:38:12.930Z"
   },
   {
    "duration": 9,
    "start_time": "2023-07-17T12:38:50.385Z"
   },
   {
    "duration": 2916,
    "start_time": "2023-07-17T12:38:54.924Z"
   },
   {
    "duration": 50981,
    "start_time": "2023-07-17T16:36:05.448Z"
   },
   {
    "duration": 12,
    "start_time": "2023-07-17T16:36:56.431Z"
   },
   {
    "duration": 15,
    "start_time": "2023-07-17T16:41:25.868Z"
   },
   {
    "duration": 4,
    "start_time": "2023-07-17T16:42:29.752Z"
   },
   {
    "duration": 4,
    "start_time": "2023-07-17T16:42:35.710Z"
   },
   {
    "duration": 6,
    "start_time": "2023-07-17T16:42:54.156Z"
   },
   {
    "duration": 4,
    "start_time": "2023-07-17T16:44:09.003Z"
   },
   {
    "duration": 0,
    "start_time": "2023-07-17T17:30:09.770Z"
   },
   {
    "duration": 0,
    "start_time": "2023-07-17T17:30:09.771Z"
   },
   {
    "duration": 0,
    "start_time": "2023-07-17T17:30:09.772Z"
   },
   {
    "duration": 0,
    "start_time": "2023-07-17T17:30:09.773Z"
   },
   {
    "duration": 0,
    "start_time": "2023-07-17T17:30:09.774Z"
   },
   {
    "duration": 0,
    "start_time": "2023-07-17T17:30:09.775Z"
   },
   {
    "duration": 0,
    "start_time": "2023-07-17T17:30:09.776Z"
   },
   {
    "duration": 0,
    "start_time": "2023-07-17T17:30:09.777Z"
   },
   {
    "duration": 0,
    "start_time": "2023-07-17T17:30:09.778Z"
   },
   {
    "duration": 0,
    "start_time": "2023-07-17T17:30:09.779Z"
   },
   {
    "duration": 0,
    "start_time": "2023-07-17T17:30:09.780Z"
   },
   {
    "duration": 0,
    "start_time": "2023-07-17T17:30:09.780Z"
   },
   {
    "duration": 0,
    "start_time": "2023-07-17T17:30:09.782Z"
   },
   {
    "duration": 0,
    "start_time": "2023-07-17T17:30:09.783Z"
   },
   {
    "duration": 0,
    "start_time": "2023-07-17T17:30:09.784Z"
   },
   {
    "duration": 0,
    "start_time": "2023-07-17T17:30:09.785Z"
   },
   {
    "duration": 0,
    "start_time": "2023-07-17T17:30:09.785Z"
   },
   {
    "duration": 0,
    "start_time": "2023-07-17T17:30:09.786Z"
   },
   {
    "duration": 0,
    "start_time": "2023-07-17T17:30:09.788Z"
   },
   {
    "duration": 0,
    "start_time": "2023-07-17T17:30:09.788Z"
   },
   {
    "duration": 0,
    "start_time": "2023-07-17T17:30:09.789Z"
   },
   {
    "duration": 0,
    "start_time": "2023-07-17T17:30:09.790Z"
   },
   {
    "duration": 0,
    "start_time": "2023-07-17T17:30:09.791Z"
   },
   {
    "duration": 0,
    "start_time": "2023-07-17T17:30:09.792Z"
   },
   {
    "duration": 0,
    "start_time": "2023-07-17T17:30:09.793Z"
   },
   {
    "duration": 0,
    "start_time": "2023-07-17T17:30:09.794Z"
   },
   {
    "duration": 0,
    "start_time": "2023-07-17T17:30:09.795Z"
   },
   {
    "duration": 0,
    "start_time": "2023-07-17T17:30:09.796Z"
   },
   {
    "duration": 0,
    "start_time": "2023-07-17T17:30:09.797Z"
   },
   {
    "duration": 0,
    "start_time": "2023-07-17T17:30:09.798Z"
   },
   {
    "duration": 0,
    "start_time": "2023-07-17T17:30:09.799Z"
   },
   {
    "duration": 0,
    "start_time": "2023-07-17T17:30:09.800Z"
   },
   {
    "duration": 0,
    "start_time": "2023-07-17T17:30:09.801Z"
   },
   {
    "duration": 0,
    "start_time": "2023-07-17T17:30:09.802Z"
   },
   {
    "duration": 5,
    "start_time": "2023-07-17T19:46:00.556Z"
   },
   {
    "duration": 892,
    "start_time": "2023-07-17T19:46:00.563Z"
   },
   {
    "duration": 151,
    "start_time": "2023-07-17T19:46:01.456Z"
   },
   {
    "duration": 119,
    "start_time": "2023-07-17T19:46:01.609Z"
   },
   {
    "duration": 134,
    "start_time": "2023-07-17T19:46:01.730Z"
   },
   {
    "duration": 579,
    "start_time": "2023-07-17T19:46:01.869Z"
   },
   {
    "duration": 435,
    "start_time": "2023-07-17T19:46:02.450Z"
   },
   {
    "duration": 137,
    "start_time": "2023-07-17T19:46:02.887Z"
   },
   {
    "duration": 11,
    "start_time": "2023-07-17T19:46:03.026Z"
   },
   {
    "duration": 39,
    "start_time": "2023-07-17T19:46:03.039Z"
   },
   {
    "duration": 32,
    "start_time": "2023-07-17T19:46:03.080Z"
   },
   {
    "duration": 30,
    "start_time": "2023-07-17T19:46:03.113Z"
   },
   {
    "duration": 23,
    "start_time": "2023-07-17T19:46:03.145Z"
   },
   {
    "duration": 40,
    "start_time": "2023-07-17T19:46:03.173Z"
   },
   {
    "duration": 40,
    "start_time": "2023-07-17T19:46:03.215Z"
   },
   {
    "duration": 34,
    "start_time": "2023-07-17T19:46:03.257Z"
   },
   {
    "duration": 37,
    "start_time": "2023-07-17T19:46:03.293Z"
   },
   {
    "duration": 35,
    "start_time": "2023-07-17T19:46:03.332Z"
   },
   {
    "duration": 46,
    "start_time": "2023-07-17T19:46:03.369Z"
   },
   {
    "duration": 84,
    "start_time": "2023-07-17T19:46:03.417Z"
   },
   {
    "duration": 77,
    "start_time": "2023-07-17T19:46:03.503Z"
   },
   {
    "duration": 34,
    "start_time": "2023-07-17T19:46:03.581Z"
   },
   {
    "duration": 23,
    "start_time": "2023-07-17T19:46:03.617Z"
   },
   {
    "duration": 2,
    "start_time": "2023-07-17T19:46:03.642Z"
   },
   {
    "duration": 866,
    "start_time": "2023-07-17T19:46:03.646Z"
   },
   {
    "duration": 43,
    "start_time": "2023-07-17T19:46:04.513Z"
   },
   {
    "duration": 20,
    "start_time": "2023-07-17T19:46:04.557Z"
   },
   {
    "duration": 61,
    "start_time": "2023-07-17T19:46:04.579Z"
   },
   {
    "duration": 54375,
    "start_time": "2023-07-17T19:46:04.642Z"
   },
   {
    "duration": 3099,
    "start_time": "2023-07-17T19:46:59.018Z"
   },
   {
    "duration": 4,
    "start_time": "2023-07-17T19:47:02.119Z"
   },
   {
    "duration": 174553,
    "start_time": "2023-07-17T19:47:02.126Z"
   },
   {
    "duration": 61990,
    "start_time": "2023-07-17T19:49:56.681Z"
   },
   {
    "duration": 4249,
    "start_time": "2023-07-17T19:50:58.673Z"
   },
   {
    "duration": 491,
    "start_time": "2023-07-17T19:51:02.923Z"
   },
   {
    "duration": 1280,
    "start_time": "2023-07-17T19:51:03.415Z"
   },
   {
    "duration": 73,
    "start_time": "2023-07-17T19:51:04.696Z"
   },
   {
    "duration": 546,
    "start_time": "2023-07-17T20:19:30.958Z"
   },
   {
    "duration": 1600,
    "start_time": "2023-07-17T20:31:30.820Z"
   },
   {
    "duration": 54318,
    "start_time": "2023-07-17T20:35:27.950Z"
   },
   {
    "duration": 1521,
    "start_time": "2023-07-17T20:36:22.270Z"
   },
   {
    "duration": 11588,
    "start_time": "2023-07-17T20:41:11.082Z"
   },
   {
    "duration": 1840,
    "start_time": "2023-07-19T10:27:20.440Z"
   },
   {
    "duration": 200,
    "start_time": "2023-07-19T10:28:33.898Z"
   },
   {
    "duration": 142,
    "start_time": "2023-07-19T11:10:02.581Z"
   },
   {
    "duration": 16,
    "start_time": "2023-07-19T11:10:13.211Z"
   },
   {
    "duration": 12,
    "start_time": "2023-07-19T11:10:54.164Z"
   },
   {
    "duration": 12,
    "start_time": "2023-07-19T11:11:28.774Z"
   },
   {
    "duration": 12,
    "start_time": "2023-07-19T11:14:09.364Z"
   },
   {
    "duration": 5,
    "start_time": "2023-07-19T11:14:15.258Z"
   },
   {
    "duration": 1649,
    "start_time": "2023-07-19T11:14:15.265Z"
   },
   {
    "duration": 138,
    "start_time": "2023-07-19T11:14:16.916Z"
   },
   {
    "duration": 102,
    "start_time": "2023-07-19T11:14:17.056Z"
   },
   {
    "duration": 138,
    "start_time": "2023-07-19T11:14:17.160Z"
   },
   {
    "duration": 463,
    "start_time": "2023-07-19T11:14:17.300Z"
   },
   {
    "duration": 541,
    "start_time": "2023-07-19T11:14:17.765Z"
   },
   {
    "duration": 171,
    "start_time": "2023-07-19T11:14:18.308Z"
   },
   {
    "duration": 12,
    "start_time": "2023-07-19T11:14:18.480Z"
   },
   {
    "duration": 36,
    "start_time": "2023-07-19T11:14:18.494Z"
   },
   {
    "duration": 66,
    "start_time": "2023-07-19T11:14:18.532Z"
   },
   {
    "duration": 21,
    "start_time": "2023-07-19T11:14:18.599Z"
   },
   {
    "duration": 21,
    "start_time": "2023-07-19T11:14:18.622Z"
   },
   {
    "duration": 70,
    "start_time": "2023-07-19T11:14:18.647Z"
   },
   {
    "duration": 32,
    "start_time": "2023-07-19T11:14:18.719Z"
   },
   {
    "duration": 29,
    "start_time": "2023-07-19T11:14:18.753Z"
   },
   {
    "duration": 61,
    "start_time": "2023-07-19T11:14:18.784Z"
   },
   {
    "duration": 43,
    "start_time": "2023-07-19T11:14:18.847Z"
   },
   {
    "duration": 56,
    "start_time": "2023-07-19T11:14:18.892Z"
   },
   {
    "duration": 104,
    "start_time": "2023-07-19T11:14:18.950Z"
   },
   {
    "duration": 89,
    "start_time": "2023-07-19T11:14:19.056Z"
   },
   {
    "duration": 73,
    "start_time": "2023-07-19T11:14:19.147Z"
   },
   {
    "duration": 291,
    "start_time": "2023-07-19T11:14:19.222Z"
   },
   {
    "duration": 3,
    "start_time": "2023-07-19T11:14:19.514Z"
   },
   {
    "duration": 8,
    "start_time": "2023-07-19T11:14:19.518Z"
   },
   {
    "duration": 826,
    "start_time": "2023-07-19T11:14:19.528Z"
   },
   {
    "duration": 52,
    "start_time": "2023-07-19T11:14:20.356Z"
   },
   {
    "duration": 13,
    "start_time": "2023-07-19T11:14:20.410Z"
   },
   {
    "duration": 98,
    "start_time": "2023-07-19T11:14:20.425Z"
   },
   {
    "duration": 58653,
    "start_time": "2023-07-19T11:14:20.525Z"
   },
   {
    "duration": 1445,
    "start_time": "2023-07-19T11:15:19.180Z"
   },
   {
    "duration": 4,
    "start_time": "2023-07-19T11:15:20.626Z"
   },
   {
    "duration": 5,
    "start_time": "2023-07-19T12:15:58.299Z"
   },
   {
    "duration": 934,
    "start_time": "2023-07-19T12:15:58.305Z"
   },
   {
    "duration": 152,
    "start_time": "2023-07-19T12:15:59.242Z"
   },
   {
    "duration": 132,
    "start_time": "2023-07-19T12:15:59.396Z"
   },
   {
    "duration": 162,
    "start_time": "2023-07-19T12:15:59.531Z"
   },
   {
    "duration": 446,
    "start_time": "2023-07-19T12:15:59.695Z"
   },
   {
    "duration": 468,
    "start_time": "2023-07-19T12:16:00.143Z"
   },
   {
    "duration": 152,
    "start_time": "2023-07-19T12:16:00.613Z"
   },
   {
    "duration": 17,
    "start_time": "2023-07-19T12:16:00.774Z"
   },
   {
    "duration": 57,
    "start_time": "2023-07-19T12:16:00.793Z"
   },
   {
    "duration": 70,
    "start_time": "2023-07-19T12:16:00.852Z"
   },
   {
    "duration": 120,
    "start_time": "2023-07-19T12:16:00.924Z"
   },
   {
    "duration": 142,
    "start_time": "2023-07-19T12:16:01.046Z"
   },
   {
    "duration": 94,
    "start_time": "2023-07-19T12:16:01.190Z"
   },
   {
    "duration": 79,
    "start_time": "2023-07-19T12:16:01.286Z"
   },
   {
    "duration": 96,
    "start_time": "2023-07-19T12:16:01.367Z"
   },
   {
    "duration": 107,
    "start_time": "2023-07-19T12:16:01.465Z"
   },
   {
    "duration": 104,
    "start_time": "2023-07-19T12:16:01.574Z"
   },
   {
    "duration": 213,
    "start_time": "2023-07-19T12:16:01.681Z"
   },
   {
    "duration": 186,
    "start_time": "2023-07-19T12:16:01.896Z"
   },
   {
    "duration": 92,
    "start_time": "2023-07-19T12:16:02.084Z"
   },
   {
    "duration": 34,
    "start_time": "2023-07-19T12:16:02.179Z"
   },
   {
    "duration": 177,
    "start_time": "2023-07-19T12:16:02.215Z"
   },
   {
    "duration": 25,
    "start_time": "2023-07-19T12:16:02.394Z"
   },
   {
    "duration": 3,
    "start_time": "2023-07-19T12:16:02.421Z"
   },
   {
    "duration": 807,
    "start_time": "2023-07-19T12:16:02.427Z"
   },
   {
    "duration": 51,
    "start_time": "2023-07-19T12:16:03.236Z"
   },
   {
    "duration": 9,
    "start_time": "2023-07-19T12:16:03.288Z"
   },
   {
    "duration": 76,
    "start_time": "2023-07-19T12:16:03.299Z"
   },
   {
    "duration": 1542,
    "start_time": "2023-07-19T12:16:59.158Z"
   },
   {
    "duration": 5,
    "start_time": "2023-07-19T12:17:00.703Z"
   },
   {
    "duration": 2391178,
    "start_time": "2023-07-19T12:17:00.711Z"
   },
   {
    "duration": 1707699,
    "start_time": "2023-07-19T12:56:51.892Z"
   },
   {
    "duration": 5111,
    "start_time": "2023-07-19T13:25:19.594Z"
   },
   {
    "duration": 545,
    "start_time": "2023-07-19T13:25:24.707Z"
   },
   {
    "duration": 1437,
    "start_time": "2023-07-19T13:25:25.254Z"
   },
   {
    "duration": 573,
    "start_time": "2023-07-19T13:25:26.694Z"
   },
   {
    "duration": 1619804,
    "start_time": "2023-07-19T13:26:25.062Z"
   },
   {
    "duration": 292,
    "start_time": "2023-07-19T13:53:25.364Z"
   },
   {
    "duration": 173,
    "start_time": "2023-07-19T13:53:25.659Z"
   },
   {
    "duration": 0,
    "start_time": "2023-07-19T13:53:25.834Z"
   },
   {
    "duration": 55501,
    "start_time": "2023-07-19T13:57:34.069Z"
   },
   {
    "duration": 12,
    "start_time": "2023-07-19T14:00:13.560Z"
   },
   {
    "duration": 1647,
    "start_time": "2023-07-19T14:04:51.022Z"
   },
   {
    "duration": 909,
    "start_time": "2023-07-19T14:04:52.671Z"
   },
   {
    "duration": 148,
    "start_time": "2023-07-19T14:04:53.582Z"
   },
   {
    "duration": 123,
    "start_time": "2023-07-19T14:04:53.732Z"
   },
   {
    "duration": 153,
    "start_time": "2023-07-19T14:04:53.857Z"
   },
   {
    "duration": 471,
    "start_time": "2023-07-19T14:04:54.012Z"
   },
   {
    "duration": 483,
    "start_time": "2023-07-19T14:04:54.485Z"
   },
   {
    "duration": 134,
    "start_time": "2023-07-19T14:04:54.969Z"
   },
   {
    "duration": 48,
    "start_time": "2023-07-19T14:04:55.105Z"
   },
   {
    "duration": 63,
    "start_time": "2023-07-19T14:04:55.155Z"
   },
   {
    "duration": 42,
    "start_time": "2023-07-19T14:04:55.220Z"
   },
   {
    "duration": 39,
    "start_time": "2023-07-19T14:04:55.264Z"
   },
   {
    "duration": 21,
    "start_time": "2023-07-19T14:04:55.305Z"
   },
   {
    "duration": 53,
    "start_time": "2023-07-19T14:04:55.328Z"
   },
   {
    "duration": 49,
    "start_time": "2023-07-19T14:04:55.383Z"
   },
   {
    "duration": 29,
    "start_time": "2023-07-19T14:04:55.434Z"
   },
   {
    "duration": 53,
    "start_time": "2023-07-19T14:04:55.464Z"
   },
   {
    "duration": 29,
    "start_time": "2023-07-19T14:04:55.518Z"
   },
   {
    "duration": 37,
    "start_time": "2023-07-19T14:04:55.548Z"
   },
   {
    "duration": 105,
    "start_time": "2023-07-19T14:04:55.587Z"
   },
   {
    "duration": 84,
    "start_time": "2023-07-19T14:04:55.694Z"
   },
   {
    "duration": 32,
    "start_time": "2023-07-19T14:04:55.781Z"
   },
   {
    "duration": 163,
    "start_time": "2023-07-19T14:04:55.815Z"
   },
   {
    "duration": 26,
    "start_time": "2023-07-19T14:04:55.980Z"
   },
   {
    "duration": 167,
    "start_time": "2023-07-19T14:04:56.008Z"
   },
   {
    "duration": 13,
    "start_time": "2023-07-19T14:04:56.177Z"
   },
   {
    "duration": 86,
    "start_time": "2023-07-19T14:04:56.193Z"
   },
   {
    "duration": 5,
    "start_time": "2023-07-19T14:04:56.282Z"
   },
   {
    "duration": 561,
    "start_time": "2023-07-19T14:04:56.289Z"
   },
   {
    "duration": 56979,
    "start_time": "2023-07-19T14:04:56.852Z"
   },
   {
    "duration": 1521,
    "start_time": "2023-07-19T14:05:53.834Z"
   },
   {
    "duration": 179,
    "start_time": "2023-07-19T14:05:55.356Z"
   },
   {
    "duration": 0,
    "start_time": "2023-07-19T14:05:55.537Z"
   },
   {
    "duration": 1,
    "start_time": "2023-07-19T14:05:55.537Z"
   },
   {
    "duration": 0,
    "start_time": "2023-07-19T14:05:55.539Z"
   },
   {
    "duration": 0,
    "start_time": "2023-07-19T14:05:55.540Z"
   },
   {
    "duration": 225,
    "start_time": "2023-07-19T14:51:24.326Z"
   },
   {
    "duration": 4051,
    "start_time": "2023-07-19T14:54:51.844Z"
   },
   {
    "duration": 4910,
    "start_time": "2023-07-19T14:55:18.489Z"
   },
   {
    "duration": 3806,
    "start_time": "2023-07-19T14:58:06.187Z"
   },
   {
    "duration": 82,
    "start_time": "2023-07-19T14:58:09.995Z"
   },
   {
    "duration": 0,
    "start_time": "2023-07-19T14:58:10.079Z"
   },
   {
    "duration": 0,
    "start_time": "2023-07-19T14:58:10.080Z"
   },
   {
    "duration": 0,
    "start_time": "2023-07-19T14:58:10.082Z"
   },
   {
    "duration": 10,
    "start_time": "2023-07-19T15:24:18.715Z"
   },
   {
    "duration": 11,
    "start_time": "2023-07-19T15:24:22.290Z"
   },
   {
    "duration": 10,
    "start_time": "2023-07-19T15:26:21.847Z"
   },
   {
    "duration": 4778,
    "start_time": "2023-07-19T15:28:21.717Z"
   },
   {
    "duration": 16,
    "start_time": "2023-07-19T15:29:20.178Z"
   },
   {
    "duration": 11,
    "start_time": "2023-07-19T15:39:31.151Z"
   },
   {
    "duration": 55375,
    "start_time": "2023-07-19T15:41:11.065Z"
   },
   {
    "duration": 56658,
    "start_time": "2023-07-19T15:44:47.279Z"
   },
   {
    "duration": 1453,
    "start_time": "2023-07-19T15:45:43.939Z"
   },
   {
    "duration": 5000,
    "start_time": "2023-07-19T15:45:45.394Z"
   },
   {
    "duration": 0,
    "start_time": "2023-07-19T15:45:50.396Z"
   },
   {
    "duration": 11,
    "start_time": "2023-07-19T15:48:11.363Z"
   },
   {
    "duration": 3778,
    "start_time": "2023-07-19T15:50:13.814Z"
   },
   {
    "duration": 12,
    "start_time": "2023-07-19T15:50:23.990Z"
   },
   {
    "duration": 12,
    "start_time": "2023-07-19T15:56:02.969Z"
   },
   {
    "duration": 10,
    "start_time": "2023-07-19T16:04:32.748Z"
   },
   {
    "duration": 94,
    "start_time": "2023-07-19T16:05:31.199Z"
   },
   {
    "duration": 100,
    "start_time": "2023-07-19T16:06:36.648Z"
   },
   {
    "duration": 73,
    "start_time": "2023-07-21T11:31:57.609Z"
   },
   {
    "duration": 6,
    "start_time": "2023-07-21T11:32:09.896Z"
   },
   {
    "duration": 8,
    "start_time": "2023-07-21T11:32:22.364Z"
   },
   {
    "duration": 1932,
    "start_time": "2023-07-21T11:32:27.305Z"
   },
   {
    "duration": 1175,
    "start_time": "2023-07-21T11:32:29.242Z"
   },
   {
    "duration": 142,
    "start_time": "2023-07-21T11:32:30.419Z"
   },
   {
    "duration": 98,
    "start_time": "2023-07-21T11:32:30.563Z"
   },
   {
    "duration": 128,
    "start_time": "2023-07-21T11:32:30.663Z"
   },
   {
    "duration": 513,
    "start_time": "2023-07-21T11:32:30.792Z"
   },
   {
    "duration": 486,
    "start_time": "2023-07-21T11:32:31.306Z"
   },
   {
    "duration": 127,
    "start_time": "2023-07-21T11:32:31.794Z"
   },
   {
    "duration": 24,
    "start_time": "2023-07-21T11:32:31.923Z"
   },
   {
    "duration": 130,
    "start_time": "2023-07-21T11:32:31.951Z"
   },
   {
    "duration": 81,
    "start_time": "2023-07-21T11:32:32.082Z"
   },
   {
    "duration": 82,
    "start_time": "2023-07-21T11:32:32.164Z"
   },
   {
    "duration": 88,
    "start_time": "2023-07-21T11:32:32.252Z"
   },
   {
    "duration": 137,
    "start_time": "2023-07-21T11:32:32.342Z"
   },
   {
    "duration": 48,
    "start_time": "2023-07-21T11:32:32.481Z"
   },
   {
    "duration": 192,
    "start_time": "2023-07-21T11:32:32.533Z"
   },
   {
    "duration": 64,
    "start_time": "2023-07-21T11:32:32.727Z"
   },
   {
    "duration": 83,
    "start_time": "2023-07-21T11:32:32.793Z"
   },
   {
    "duration": 53,
    "start_time": "2023-07-21T11:32:32.878Z"
   },
   {
    "duration": 112,
    "start_time": "2023-07-21T11:32:32.936Z"
   },
   {
    "duration": 94,
    "start_time": "2023-07-21T11:32:33.050Z"
   },
   {
    "duration": 221,
    "start_time": "2023-07-21T11:32:33.146Z"
   },
   {
    "duration": 182,
    "start_time": "2023-07-21T11:32:33.369Z"
   },
   {
    "duration": 42,
    "start_time": "2023-07-21T11:32:33.553Z"
   },
   {
    "duration": 260,
    "start_time": "2023-07-21T11:32:33.596Z"
   },
   {
    "duration": 8,
    "start_time": "2023-07-21T11:32:33.858Z"
   },
   {
    "duration": 60,
    "start_time": "2023-07-21T11:32:33.868Z"
   },
   {
    "duration": 12,
    "start_time": "2023-07-21T11:32:33.935Z"
   },
   {
    "duration": 425,
    "start_time": "2023-07-21T11:32:33.949Z"
   },
   {
    "duration": 50699,
    "start_time": "2023-07-21T11:32:34.375Z"
   },
   {
    "duration": 1260,
    "start_time": "2023-07-21T11:33:25.076Z"
   },
   {
    "duration": 330510,
    "start_time": "2023-07-21T11:33:26.348Z"
   },
   {
    "duration": 152,
    "start_time": "2023-07-21T11:38:56.860Z"
   },
   {
    "duration": 174,
    "start_time": "2023-07-21T11:38:57.014Z"
   },
   {
    "duration": 0,
    "start_time": "2023-07-21T11:38:57.189Z"
   },
   {
    "duration": 1422,
    "start_time": "2023-07-21T13:58:01.985Z"
   },
   {
    "duration": 1837,
    "start_time": "2023-07-21T14:01:11.558Z"
   },
   {
    "duration": 14,
    "start_time": "2023-07-21T14:01:21.420Z"
   },
   {
    "duration": 155,
    "start_time": "2023-07-21T14:01:25.381Z"
   },
   {
    "duration": 407,
    "start_time": "2023-07-21T15:56:29.551Z"
   },
   {
    "duration": 420,
    "start_time": "2023-07-21T15:57:12.409Z"
   },
   {
    "duration": 452,
    "start_time": "2023-07-21T16:15:14.520Z"
   },
   {
    "duration": 443,
    "start_time": "2023-07-21T16:24:51.547Z"
   },
   {
    "duration": 80,
    "start_time": "2023-07-21T16:27:03.101Z"
   },
   {
    "duration": 46338,
    "start_time": "2023-07-21T16:30:32.795Z"
   },
   {
    "duration": 45664,
    "start_time": "2023-07-21T16:33:12.992Z"
   },
   {
    "duration": 1195,
    "start_time": "2023-07-21T16:33:58.658Z"
   },
   {
    "duration": 11,
    "start_time": "2023-07-21T16:40:08.539Z"
   },
   {
    "duration": 53,
    "start_time": "2023-07-21T18:55:37.042Z"
   },
   {
    "duration": 1860,
    "start_time": "2023-07-21T18:56:10.846Z"
   },
   {
    "duration": 3084,
    "start_time": "2023-07-21T18:56:12.708Z"
   },
   {
    "duration": 121,
    "start_time": "2023-07-21T18:56:15.794Z"
   },
   {
    "duration": 122,
    "start_time": "2023-07-21T18:56:15.918Z"
   },
   {
    "duration": 127,
    "start_time": "2023-07-21T18:56:16.042Z"
   },
   {
    "duration": 525,
    "start_time": "2023-07-21T18:56:16.171Z"
   },
   {
    "duration": 557,
    "start_time": "2023-07-21T18:56:16.699Z"
   },
   {
    "duration": 128,
    "start_time": "2023-07-21T18:56:17.258Z"
   },
   {
    "duration": 12,
    "start_time": "2023-07-21T18:56:17.388Z"
   },
   {
    "duration": 35,
    "start_time": "2023-07-21T18:56:17.402Z"
   },
   {
    "duration": 50,
    "start_time": "2023-07-21T18:56:17.438Z"
   },
   {
    "duration": 44,
    "start_time": "2023-07-21T18:56:17.490Z"
   },
   {
    "duration": 24,
    "start_time": "2023-07-21T18:56:17.536Z"
   },
   {
    "duration": 41,
    "start_time": "2023-07-21T18:56:17.562Z"
   },
   {
    "duration": 44,
    "start_time": "2023-07-21T18:56:17.605Z"
   },
   {
    "duration": 27,
    "start_time": "2023-07-21T18:56:17.651Z"
   },
   {
    "duration": 35,
    "start_time": "2023-07-21T18:56:17.680Z"
   },
   {
    "duration": 49,
    "start_time": "2023-07-21T18:56:17.717Z"
   },
   {
    "duration": 35,
    "start_time": "2023-07-21T18:56:17.769Z"
   },
   {
    "duration": 95,
    "start_time": "2023-07-21T18:56:17.806Z"
   },
   {
    "duration": 72,
    "start_time": "2023-07-21T18:56:17.903Z"
   },
   {
    "duration": 27,
    "start_time": "2023-07-21T18:56:17.977Z"
   },
   {
    "duration": 195,
    "start_time": "2023-07-21T18:56:18.005Z"
   },
   {
    "duration": 277,
    "start_time": "2023-07-21T18:56:18.202Z"
   },
   {
    "duration": 174,
    "start_time": "2023-07-21T18:56:18.481Z"
   },
   {
    "duration": 536,
    "start_time": "2023-07-21T18:56:18.657Z"
   },
   {
    "duration": 62267,
    "start_time": "2023-07-21T18:56:19.195Z"
   },
   {
    "duration": 327,
    "start_time": "2023-07-21T18:57:21.465Z"
   },
   {
    "duration": 27178,
    "start_time": "2023-07-21T18:57:21.794Z"
   },
   {
    "duration": 15,
    "start_time": "2023-07-21T18:57:48.973Z"
   },
   {
    "duration": 0,
    "start_time": "2023-07-21T18:57:48.990Z"
   },
   {
    "duration": 1652,
    "start_time": "2023-07-21T19:00:52.501Z"
   },
   {
    "duration": 1027,
    "start_time": "2023-07-21T19:00:54.155Z"
   },
   {
    "duration": 132,
    "start_time": "2023-07-21T19:00:55.183Z"
   },
   {
    "duration": 172,
    "start_time": "2023-07-21T19:00:55.317Z"
   },
   {
    "duration": 114,
    "start_time": "2023-07-21T19:00:55.491Z"
   },
   {
    "duration": 569,
    "start_time": "2023-07-21T19:00:55.607Z"
   },
   {
    "duration": 600,
    "start_time": "2023-07-21T19:00:56.178Z"
   },
   {
    "duration": 135,
    "start_time": "2023-07-21T19:00:56.780Z"
   },
   {
    "duration": 14,
    "start_time": "2023-07-21T19:00:56.917Z"
   },
   {
    "duration": 56,
    "start_time": "2023-07-21T19:00:56.934Z"
   },
   {
    "duration": 32,
    "start_time": "2023-07-21T19:00:56.992Z"
   },
   {
    "duration": 27,
    "start_time": "2023-07-21T19:00:57.026Z"
   },
   {
    "duration": 27,
    "start_time": "2023-07-21T19:00:57.056Z"
   },
   {
    "duration": 59,
    "start_time": "2023-07-21T19:00:57.085Z"
   },
   {
    "duration": 32,
    "start_time": "2023-07-21T19:00:57.146Z"
   },
   {
    "duration": 23,
    "start_time": "2023-07-21T19:00:57.180Z"
   },
   {
    "duration": 32,
    "start_time": "2023-07-21T19:00:57.205Z"
   },
   {
    "duration": 49,
    "start_time": "2023-07-21T19:00:57.239Z"
   },
   {
    "duration": 35,
    "start_time": "2023-07-21T19:00:57.290Z"
   },
   {
    "duration": 83,
    "start_time": "2023-07-21T19:00:57.328Z"
   },
   {
    "duration": 75,
    "start_time": "2023-07-21T19:00:57.413Z"
   },
   {
    "duration": 31,
    "start_time": "2023-07-21T19:00:57.489Z"
   },
   {
    "duration": 199,
    "start_time": "2023-07-21T19:00:57.522Z"
   },
   {
    "duration": 302,
    "start_time": "2023-07-21T19:00:57.723Z"
   },
   {
    "duration": 187,
    "start_time": "2023-07-21T19:00:58.027Z"
   },
   {
    "duration": 566,
    "start_time": "2023-07-21T19:00:58.216Z"
   },
   {
    "duration": 61598,
    "start_time": "2023-07-21T19:00:58.784Z"
   },
   {
    "duration": 370,
    "start_time": "2023-07-21T19:02:00.385Z"
   },
   {
    "duration": 12730,
    "start_time": "2023-07-21T19:02:00.757Z"
   },
   {
    "duration": 80,
    "start_time": "2023-07-21T19:02:13.488Z"
   },
   {
    "duration": 0,
    "start_time": "2023-07-21T19:02:13.571Z"
   },
   {
    "duration": 10,
    "start_time": "2023-07-21T19:12:38.749Z"
   },
   {
    "duration": 197,
    "start_time": "2023-07-21T19:12:51.626Z"
   },
   {
    "duration": 8,
    "start_time": "2023-07-21T19:13:13.162Z"
   },
   {
    "duration": 174,
    "start_time": "2023-07-21T19:13:22.325Z"
   },
   {
    "duration": 179,
    "start_time": "2023-07-21T19:13:25.516Z"
   },
   {
    "duration": 568,
    "start_time": "2023-07-21T19:13:52.512Z"
   },
   {
    "duration": 1516,
    "start_time": "2023-07-21T19:13:56.614Z"
   },
   {
    "duration": 524,
    "start_time": "2023-07-21T19:15:05.000Z"
   },
   {
    "duration": 5,
    "start_time": "2023-07-21T19:15:24.629Z"
   },
   {
    "duration": 946,
    "start_time": "2023-07-21T19:15:24.637Z"
   },
   {
    "duration": 119,
    "start_time": "2023-07-21T19:15:25.585Z"
   },
   {
    "duration": 108,
    "start_time": "2023-07-21T19:15:25.705Z"
   },
   {
    "duration": 124,
    "start_time": "2023-07-21T19:15:25.815Z"
   },
   {
    "duration": 502,
    "start_time": "2023-07-21T19:15:25.942Z"
   },
   {
    "duration": 524,
    "start_time": "2023-07-21T19:15:26.446Z"
   },
   {
    "duration": 125,
    "start_time": "2023-07-21T19:15:26.976Z"
   },
   {
    "duration": 13,
    "start_time": "2023-07-21T19:15:27.103Z"
   },
   {
    "duration": 32,
    "start_time": "2023-07-21T19:15:27.927Z"
   },
   {
    "duration": 41,
    "start_time": "2023-07-21T19:15:27.962Z"
   },
   {
    "duration": 25,
    "start_time": "2023-07-21T19:15:28.005Z"
   },
   {
    "duration": 16,
    "start_time": "2023-07-21T19:15:28.032Z"
   },
   {
    "duration": 37,
    "start_time": "2023-07-21T19:15:28.071Z"
   },
   {
    "duration": 24,
    "start_time": "2023-07-21T19:15:28.109Z"
   },
   {
    "duration": 45,
    "start_time": "2023-07-21T19:15:28.135Z"
   },
   {
    "duration": 30,
    "start_time": "2023-07-21T19:15:28.183Z"
   },
   {
    "duration": 28,
    "start_time": "2023-07-21T19:15:28.215Z"
   },
   {
    "duration": 41,
    "start_time": "2023-07-21T19:15:28.244Z"
   },
   {
    "duration": 78,
    "start_time": "2023-07-21T19:15:29.320Z"
   },
   {
    "duration": 81,
    "start_time": "2023-07-21T19:15:29.400Z"
   },
   {
    "duration": 26,
    "start_time": "2023-07-21T19:15:30.135Z"
   },
   {
    "duration": 215,
    "start_time": "2023-07-21T19:15:30.163Z"
   },
   {
    "duration": 321,
    "start_time": "2023-07-21T19:15:30.384Z"
   },
   {
    "duration": 178,
    "start_time": "2023-07-21T19:15:30.707Z"
   },
   {
    "duration": 566,
    "start_time": "2023-07-21T19:15:30.888Z"
   },
   {
    "duration": 64258,
    "start_time": "2023-07-21T19:15:31.456Z"
   },
   {
    "duration": 1577,
    "start_time": "2023-07-21T19:16:35.716Z"
   },
   {
    "duration": 24,
    "start_time": "2023-07-21T19:20:27.985Z"
   },
   {
    "duration": 134,
    "start_time": "2023-07-21T19:20:28.011Z"
   },
   {
    "duration": 190832,
    "start_time": "2023-07-21T19:20:28.147Z"
   },
   {
    "duration": 99,
    "start_time": "2023-07-21T19:23:54.357Z"
   },
   {
    "duration": 5,
    "start_time": "2023-07-21T19:28:33.566Z"
   },
   {
    "duration": 14,
    "start_time": "2023-07-21T19:29:04.254Z"
   },
   {
    "duration": 17,
    "start_time": "2023-07-21T19:30:02.616Z"
   },
   {
    "duration": 1330,
    "start_time": "2023-07-22T22:10:44.720Z"
   },
   {
    "duration": 12,
    "start_time": "2023-07-22T22:11:32.850Z"
   },
   {
    "duration": 532,
    "start_time": "2023-07-22T22:11:38.411Z"
   },
   {
    "duration": 3052,
    "start_time": "2023-07-22T22:11:38.945Z"
   },
   {
    "duration": 122,
    "start_time": "2023-07-22T22:11:41.999Z"
   },
   {
    "duration": 118,
    "start_time": "2023-07-22T22:11:42.123Z"
   },
   {
    "duration": 131,
    "start_time": "2023-07-22T22:11:42.245Z"
   },
   {
    "duration": 553,
    "start_time": "2023-07-22T22:11:42.378Z"
   },
   {
    "duration": 566,
    "start_time": "2023-07-22T22:11:42.933Z"
   },
   {
    "duration": 132,
    "start_time": "2023-07-22T22:11:43.502Z"
   },
   {
    "duration": 13,
    "start_time": "2023-07-22T22:11:43.636Z"
   },
   {
    "duration": 48,
    "start_time": "2023-07-22T22:11:43.651Z"
   },
   {
    "duration": 34,
    "start_time": "2023-07-22T22:11:43.701Z"
   },
   {
    "duration": 36,
    "start_time": "2023-07-22T22:11:43.737Z"
   },
   {
    "duration": 16,
    "start_time": "2023-07-22T22:11:43.775Z"
   },
   {
    "duration": 31,
    "start_time": "2023-07-22T22:11:43.795Z"
   },
   {
    "duration": 46,
    "start_time": "2023-07-22T22:11:43.829Z"
   },
   {
    "duration": 23,
    "start_time": "2023-07-22T22:11:43.878Z"
   },
   {
    "duration": 45,
    "start_time": "2023-07-22T22:11:43.904Z"
   },
   {
    "duration": 22,
    "start_time": "2023-07-22T22:11:43.968Z"
   },
   {
    "duration": 36,
    "start_time": "2023-07-22T22:11:43.992Z"
   },
   {
    "duration": 112,
    "start_time": "2023-07-22T22:11:44.030Z"
   },
   {
    "duration": 76,
    "start_time": "2023-07-22T22:11:44.144Z"
   },
   {
    "duration": 27,
    "start_time": "2023-07-22T22:11:44.222Z"
   },
   {
    "duration": 218,
    "start_time": "2023-07-22T22:11:44.251Z"
   },
   {
    "duration": 288,
    "start_time": "2023-07-22T22:11:44.471Z"
   },
   {
    "duration": 972,
    "start_time": "2023-07-22T22:11:44.760Z"
   },
   {
    "duration": 4200,
    "start_time": "2023-07-22T22:11:45.734Z"
   },
   {
    "duration": 206,
    "start_time": "2023-07-22T22:11:49.936Z"
   },
   {
    "duration": 29,
    "start_time": "2023-07-22T22:11:50.144Z"
   },
   {
    "duration": 0,
    "start_time": "2023-07-22T22:11:50.175Z"
   },
   {
    "duration": 0,
    "start_time": "2023-07-22T22:11:50.176Z"
   },
   {
    "duration": 1551,
    "start_time": "2023-07-22T22:13:26.078Z"
   },
   {
    "duration": 930,
    "start_time": "2023-07-22T22:13:27.632Z"
   },
   {
    "duration": 124,
    "start_time": "2023-07-22T22:13:28.564Z"
   },
   {
    "duration": 162,
    "start_time": "2023-07-22T22:13:28.691Z"
   },
   {
    "duration": 125,
    "start_time": "2023-07-22T22:13:28.857Z"
   },
   {
    "duration": 534,
    "start_time": "2023-07-22T22:13:28.984Z"
   },
   {
    "duration": 576,
    "start_time": "2023-07-22T22:13:29.520Z"
   },
   {
    "duration": 129,
    "start_time": "2023-07-22T22:13:30.097Z"
   },
   {
    "duration": 14,
    "start_time": "2023-07-22T22:13:30.228Z"
   },
   {
    "duration": 58,
    "start_time": "2023-07-22T22:13:30.244Z"
   },
   {
    "duration": 39,
    "start_time": "2023-07-22T22:13:30.304Z"
   },
   {
    "duration": 39,
    "start_time": "2023-07-22T22:13:30.345Z"
   },
   {
    "duration": 37,
    "start_time": "2023-07-22T22:13:30.386Z"
   },
   {
    "duration": 47,
    "start_time": "2023-07-22T22:13:30.426Z"
   },
   {
    "duration": 42,
    "start_time": "2023-07-22T22:13:30.475Z"
   },
   {
    "duration": 73,
    "start_time": "2023-07-22T22:13:30.520Z"
   },
   {
    "duration": 39,
    "start_time": "2023-07-22T22:13:30.595Z"
   },
   {
    "duration": 48,
    "start_time": "2023-07-22T22:13:30.636Z"
   },
   {
    "duration": 72,
    "start_time": "2023-07-22T22:13:30.686Z"
   },
   {
    "duration": 132,
    "start_time": "2023-07-22T22:13:30.760Z"
   },
   {
    "duration": 78,
    "start_time": "2023-07-22T22:13:30.894Z"
   },
   {
    "duration": 59,
    "start_time": "2023-07-22T22:13:30.974Z"
   },
   {
    "duration": 208,
    "start_time": "2023-07-22T22:13:31.035Z"
   },
   {
    "duration": 268,
    "start_time": "2023-07-22T22:13:31.245Z"
   },
   {
    "duration": 160,
    "start_time": "2023-07-22T22:13:31.515Z"
   },
   {
    "duration": 538,
    "start_time": "2023-07-22T22:13:31.677Z"
   },
   {
    "duration": 61982,
    "start_time": "2023-07-22T22:13:32.217Z"
   },
   {
    "duration": 1617,
    "start_time": "2023-07-22T22:14:34.201Z"
   },
   {
    "duration": 138,
    "start_time": "2023-07-22T22:14:35.820Z"
   },
   {
    "duration": 0,
    "start_time": "2023-07-22T22:14:35.966Z"
   },
   {
    "duration": 0,
    "start_time": "2023-07-22T22:14:35.968Z"
   },
   {
    "duration": 4293,
    "start_time": "2023-07-22T22:17:16.594Z"
   },
   {
    "duration": 114,
    "start_time": "2023-07-22T22:19:12.060Z"
   },
   {
    "duration": 15,
    "start_time": "2023-07-22T22:19:33.510Z"
   },
   {
    "duration": 16,
    "start_time": "2023-07-22T22:21:12.938Z"
   },
   {
    "duration": 5305,
    "start_time": "2023-07-22T22:21:33.083Z"
   },
   {
    "duration": 16,
    "start_time": "2023-07-22T22:21:41.636Z"
   },
   {
    "duration": 4499,
    "start_time": "2023-07-22T22:22:09.283Z"
   },
   {
    "duration": 21,
    "start_time": "2023-07-22T22:22:24.364Z"
   },
   {
    "duration": 122,
    "start_time": "2023-07-22T22:23:30.646Z"
   },
   {
    "duration": 1931,
    "start_time": "2023-07-23T19:58:56.928Z"
   },
   {
    "duration": 1081,
    "start_time": "2023-07-23T19:58:58.861Z"
   },
   {
    "duration": 128,
    "start_time": "2023-07-23T19:58:59.943Z"
   },
   {
    "duration": 94,
    "start_time": "2023-07-23T19:59:00.073Z"
   },
   {
    "duration": 132,
    "start_time": "2023-07-23T19:59:00.169Z"
   },
   {
    "duration": 483,
    "start_time": "2023-07-23T19:59:00.302Z"
   },
   {
    "duration": 523,
    "start_time": "2023-07-23T19:59:00.786Z"
   },
   {
    "duration": 143,
    "start_time": "2023-07-23T19:59:01.311Z"
   },
   {
    "duration": 10,
    "start_time": "2023-07-23T19:59:01.455Z"
   },
   {
    "duration": 57,
    "start_time": "2023-07-23T19:59:01.466Z"
   },
   {
    "duration": 48,
    "start_time": "2023-07-23T19:59:01.525Z"
   },
   {
    "duration": 43,
    "start_time": "2023-07-23T19:59:01.575Z"
   },
   {
    "duration": 50,
    "start_time": "2023-07-23T19:59:01.620Z"
   },
   {
    "duration": 47,
    "start_time": "2023-07-23T19:59:01.673Z"
   },
   {
    "duration": 51,
    "start_time": "2023-07-23T19:59:01.723Z"
   },
   {
    "duration": 59,
    "start_time": "2023-07-23T19:59:01.776Z"
   },
   {
    "duration": 93,
    "start_time": "2023-07-23T19:59:01.838Z"
   },
   {
    "duration": 41,
    "start_time": "2023-07-23T19:59:01.932Z"
   },
   {
    "duration": 67,
    "start_time": "2023-07-23T19:59:01.975Z"
   },
   {
    "duration": 80,
    "start_time": "2023-07-23T19:59:02.045Z"
   },
   {
    "duration": 81,
    "start_time": "2023-07-23T19:59:02.127Z"
   },
   {
    "duration": 39,
    "start_time": "2023-07-23T19:59:02.210Z"
   },
   {
    "duration": 291,
    "start_time": "2023-07-23T19:59:02.251Z"
   },
   {
    "duration": 252,
    "start_time": "2023-07-23T19:59:02.544Z"
   },
   {
    "duration": 991,
    "start_time": "2023-07-23T19:59:02.798Z"
   },
   {
    "duration": 5787,
    "start_time": "2023-07-23T19:59:03.790Z"
   },
   {
    "duration": 270,
    "start_time": "2023-07-23T19:59:09.579Z"
   },
   {
    "duration": 24,
    "start_time": "2023-07-23T19:59:09.850Z"
   },
   {
    "duration": 0,
    "start_time": "2023-07-23T19:59:09.876Z"
   },
   {
    "duration": 0,
    "start_time": "2023-07-23T19:59:09.878Z"
   },
   {
    "duration": 133,
    "start_time": "2023-07-23T20:26:37.256Z"
   },
   {
    "duration": 2901,
    "start_time": "2023-07-23T20:28:07.861Z"
   },
   {
    "duration": 178,
    "start_time": "2023-07-23T20:28:15.148Z"
   },
   {
    "duration": 5,
    "start_time": "2023-07-23T20:28:29.349Z"
   },
   {
    "duration": 1190,
    "start_time": "2023-07-23T20:28:29.356Z"
   },
   {
    "duration": 140,
    "start_time": "2023-07-23T20:28:30.548Z"
   },
   {
    "duration": 112,
    "start_time": "2023-07-23T20:28:30.690Z"
   },
   {
    "duration": 119,
    "start_time": "2023-07-23T20:28:30.804Z"
   },
   {
    "duration": 500,
    "start_time": "2023-07-23T20:28:30.932Z"
   },
   {
    "duration": 514,
    "start_time": "2023-07-23T20:28:31.435Z"
   },
   {
    "duration": 126,
    "start_time": "2023-07-23T20:28:31.951Z"
   },
   {
    "duration": 15,
    "start_time": "2023-07-23T20:28:32.079Z"
   },
   {
    "duration": 55,
    "start_time": "2023-07-23T20:28:32.096Z"
   },
   {
    "duration": 108,
    "start_time": "2023-07-23T20:28:32.154Z"
   },
   {
    "duration": 45,
    "start_time": "2023-07-23T20:28:32.263Z"
   },
   {
    "duration": 30,
    "start_time": "2023-07-23T20:28:32.310Z"
   },
   {
    "duration": 72,
    "start_time": "2023-07-23T20:28:32.341Z"
   },
   {
    "duration": 125,
    "start_time": "2023-07-23T20:28:32.415Z"
   },
   {
    "duration": 45,
    "start_time": "2023-07-23T20:28:32.542Z"
   },
   {
    "duration": 76,
    "start_time": "2023-07-23T20:28:32.588Z"
   },
   {
    "duration": 34,
    "start_time": "2023-07-23T20:28:32.666Z"
   },
   {
    "duration": 46,
    "start_time": "2023-07-23T20:28:32.702Z"
   },
   {
    "duration": 106,
    "start_time": "2023-07-23T20:28:32.750Z"
   },
   {
    "duration": 82,
    "start_time": "2023-07-23T20:28:32.857Z"
   },
   {
    "duration": 100,
    "start_time": "2023-07-23T20:28:32.940Z"
   },
   {
    "duration": 158,
    "start_time": "2023-07-23T20:28:33.042Z"
   },
   {
    "duration": 250,
    "start_time": "2023-07-23T20:28:33.201Z"
   },
   {
    "duration": 873,
    "start_time": "2023-07-23T20:28:33.453Z"
   },
   {
    "duration": 3376,
    "start_time": "2023-07-23T20:28:34.328Z"
   },
   {
    "duration": 3669,
    "start_time": "2023-07-23T20:28:42.399Z"
   },
   {
    "duration": 3656,
    "start_time": "2023-07-23T20:31:06.491Z"
   },
   {
    "duration": 1423,
    "start_time": "2023-07-23T20:31:22.404Z"
   },
   {
    "duration": 823,
    "start_time": "2023-07-23T20:31:23.829Z"
   },
   {
    "duration": 209,
    "start_time": "2023-07-23T20:31:24.654Z"
   },
   {
    "duration": 111,
    "start_time": "2023-07-23T20:31:24.867Z"
   },
   {
    "duration": 132,
    "start_time": "2023-07-23T20:31:24.980Z"
   },
   {
    "duration": 560,
    "start_time": "2023-07-23T20:31:25.113Z"
   },
   {
    "duration": 1159,
    "start_time": "2023-07-23T20:31:25.675Z"
   },
   {
    "duration": 299,
    "start_time": "2023-07-23T20:31:26.836Z"
   },
   {
    "duration": 17,
    "start_time": "2023-07-23T20:31:27.137Z"
   },
   {
    "duration": 83,
    "start_time": "2023-07-23T20:31:27.155Z"
   },
   {
    "duration": 34,
    "start_time": "2023-07-23T20:31:27.240Z"
   },
   {
    "duration": 73,
    "start_time": "2023-07-23T20:31:27.276Z"
   },
   {
    "duration": 82,
    "start_time": "2023-07-23T20:31:27.351Z"
   },
   {
    "duration": 37,
    "start_time": "2023-07-23T20:31:27.437Z"
   },
   {
    "duration": 75,
    "start_time": "2023-07-23T20:31:27.475Z"
   },
   {
    "duration": 21,
    "start_time": "2023-07-23T20:31:27.551Z"
   },
   {
    "duration": 34,
    "start_time": "2023-07-23T20:31:27.574Z"
   },
   {
    "duration": 36,
    "start_time": "2023-07-23T20:31:27.610Z"
   },
   {
    "duration": 37,
    "start_time": "2023-07-23T20:31:27.648Z"
   },
   {
    "duration": 97,
    "start_time": "2023-07-23T20:31:27.686Z"
   },
   {
    "duration": 97,
    "start_time": "2023-07-23T20:31:27.785Z"
   },
   {
    "duration": 37,
    "start_time": "2023-07-23T20:31:27.884Z"
   },
   {
    "duration": 163,
    "start_time": "2023-07-23T20:31:27.923Z"
   },
   {
    "duration": 260,
    "start_time": "2023-07-23T20:31:28.088Z"
   },
   {
    "duration": 894,
    "start_time": "2023-07-23T20:31:28.349Z"
   },
   {
    "duration": 3667,
    "start_time": "2023-07-23T20:31:29.246Z"
   },
   {
    "duration": 193,
    "start_time": "2023-07-23T20:31:32.915Z"
   },
   {
    "duration": 22,
    "start_time": "2023-07-23T20:31:33.109Z"
   },
   {
    "duration": 0,
    "start_time": "2023-07-23T20:31:33.133Z"
   },
   {
    "duration": 0,
    "start_time": "2023-07-23T20:31:33.136Z"
   },
   {
    "duration": 14,
    "start_time": "2023-07-23T20:37:00.104Z"
   },
   {
    "duration": 13,
    "start_time": "2023-07-23T20:37:27.691Z"
   },
   {
    "duration": 1579,
    "start_time": "2023-07-23T20:37:46.456Z"
   },
   {
    "duration": 883,
    "start_time": "2023-07-23T20:37:48.038Z"
   },
   {
    "duration": 156,
    "start_time": "2023-07-23T20:37:48.923Z"
   },
   {
    "duration": 104,
    "start_time": "2023-07-23T20:37:49.081Z"
   },
   {
    "duration": 131,
    "start_time": "2023-07-23T20:37:49.188Z"
   },
   {
    "duration": 502,
    "start_time": "2023-07-23T20:37:49.320Z"
   },
   {
    "duration": 537,
    "start_time": "2023-07-23T20:37:49.824Z"
   },
   {
    "duration": 115,
    "start_time": "2023-07-23T20:37:50.362Z"
   },
   {
    "duration": 19,
    "start_time": "2023-07-23T20:37:50.479Z"
   },
   {
    "duration": 44,
    "start_time": "2023-07-23T20:37:50.499Z"
   },
   {
    "duration": 30,
    "start_time": "2023-07-23T20:37:50.546Z"
   },
   {
    "duration": 30,
    "start_time": "2023-07-23T20:37:50.578Z"
   },
   {
    "duration": 22,
    "start_time": "2023-07-23T20:37:50.610Z"
   },
   {
    "duration": 49,
    "start_time": "2023-07-23T20:37:50.635Z"
   },
   {
    "duration": 1604,
    "start_time": "2023-07-23T20:37:50.685Z"
   },
   {
    "duration": 0,
    "start_time": "2023-07-23T20:37:52.290Z"
   },
   {
    "duration": 0,
    "start_time": "2023-07-23T20:37:52.291Z"
   },
   {
    "duration": 0,
    "start_time": "2023-07-23T20:37:52.292Z"
   },
   {
    "duration": 0,
    "start_time": "2023-07-23T20:37:52.293Z"
   },
   {
    "duration": 0,
    "start_time": "2023-07-23T20:37:52.294Z"
   },
   {
    "duration": 0,
    "start_time": "2023-07-23T20:37:52.294Z"
   },
   {
    "duration": 0,
    "start_time": "2023-07-23T20:37:52.295Z"
   },
   {
    "duration": 0,
    "start_time": "2023-07-23T20:37:52.296Z"
   },
   {
    "duration": 0,
    "start_time": "2023-07-23T20:37:52.297Z"
   },
   {
    "duration": 0,
    "start_time": "2023-07-23T20:37:52.298Z"
   },
   {
    "duration": 0,
    "start_time": "2023-07-23T20:37:52.299Z"
   },
   {
    "duration": 0,
    "start_time": "2023-07-23T20:37:52.300Z"
   },
   {
    "duration": 0,
    "start_time": "2023-07-23T20:37:52.301Z"
   },
   {
    "duration": 0,
    "start_time": "2023-07-23T20:37:52.301Z"
   },
   {
    "duration": 0,
    "start_time": "2023-07-23T20:37:52.302Z"
   },
   {
    "duration": 94,
    "start_time": "2023-07-23T20:38:59.146Z"
   },
   {
    "duration": 154,
    "start_time": "2023-07-23T20:39:05.023Z"
   },
   {
    "duration": 1495,
    "start_time": "2023-07-23T20:39:15.816Z"
   },
   {
    "duration": 912,
    "start_time": "2023-07-23T20:39:17.313Z"
   },
   {
    "duration": 149,
    "start_time": "2023-07-23T20:39:18.227Z"
   },
   {
    "duration": 144,
    "start_time": "2023-07-23T20:39:18.378Z"
   },
   {
    "duration": 135,
    "start_time": "2023-07-23T20:39:18.531Z"
   },
   {
    "duration": 471,
    "start_time": "2023-07-23T20:39:18.667Z"
   },
   {
    "duration": 1022,
    "start_time": "2023-07-23T20:39:19.140Z"
   },
   {
    "duration": 272,
    "start_time": "2023-07-23T20:39:20.164Z"
   },
   {
    "duration": 16,
    "start_time": "2023-07-23T20:39:20.438Z"
   },
   {
    "duration": 84,
    "start_time": "2023-07-23T20:39:20.455Z"
   },
   {
    "duration": 37,
    "start_time": "2023-07-23T20:39:20.541Z"
   },
   {
    "duration": 79,
    "start_time": "2023-07-23T20:39:20.579Z"
   },
   {
    "duration": 16,
    "start_time": "2023-07-23T20:39:20.660Z"
   },
   {
    "duration": 89,
    "start_time": "2023-07-23T20:39:20.678Z"
   },
   {
    "duration": 1853,
    "start_time": "2023-07-23T20:39:20.768Z"
   },
   {
    "duration": 0,
    "start_time": "2023-07-23T20:39:22.623Z"
   },
   {
    "duration": 0,
    "start_time": "2023-07-23T20:39:22.624Z"
   },
   {
    "duration": 0,
    "start_time": "2023-07-23T20:39:22.625Z"
   },
   {
    "duration": 0,
    "start_time": "2023-07-23T20:39:22.626Z"
   },
   {
    "duration": 0,
    "start_time": "2023-07-23T20:39:22.627Z"
   },
   {
    "duration": 0,
    "start_time": "2023-07-23T20:39:22.628Z"
   },
   {
    "duration": 0,
    "start_time": "2023-07-23T20:39:22.629Z"
   },
   {
    "duration": 0,
    "start_time": "2023-07-23T20:39:22.630Z"
   },
   {
    "duration": 0,
    "start_time": "2023-07-23T20:39:22.630Z"
   },
   {
    "duration": 0,
    "start_time": "2023-07-23T20:39:22.632Z"
   },
   {
    "duration": 0,
    "start_time": "2023-07-23T20:39:22.635Z"
   },
   {
    "duration": 0,
    "start_time": "2023-07-23T20:39:22.636Z"
   },
   {
    "duration": 0,
    "start_time": "2023-07-23T20:39:22.637Z"
   },
   {
    "duration": 0,
    "start_time": "2023-07-23T20:39:22.639Z"
   },
   {
    "duration": 0,
    "start_time": "2023-07-23T20:39:22.640Z"
   },
   {
    "duration": 4,
    "start_time": "2023-07-23T20:39:30.049Z"
   },
   {
    "duration": 938,
    "start_time": "2023-07-23T20:39:30.055Z"
   },
   {
    "duration": 132,
    "start_time": "2023-07-23T20:39:30.995Z"
   },
   {
    "duration": 250,
    "start_time": "2023-07-23T20:39:31.132Z"
   },
   {
    "duration": 129,
    "start_time": "2023-07-23T20:39:31.384Z"
   },
   {
    "duration": 461,
    "start_time": "2023-07-23T20:39:31.514Z"
   },
   {
    "duration": 466,
    "start_time": "2023-07-23T20:39:31.977Z"
   },
   {
    "duration": 115,
    "start_time": "2023-07-23T20:39:32.446Z"
   },
   {
    "duration": 10,
    "start_time": "2023-07-23T20:39:32.563Z"
   },
   {
    "duration": 94,
    "start_time": "2023-07-23T20:39:32.574Z"
   },
   {
    "duration": 41,
    "start_time": "2023-07-23T20:39:32.669Z"
   },
   {
    "duration": 87,
    "start_time": "2023-07-23T20:39:32.712Z"
   },
   {
    "duration": 23,
    "start_time": "2023-07-23T20:39:32.801Z"
   },
   {
    "duration": 58,
    "start_time": "2023-07-23T20:39:32.826Z"
   },
   {
    "duration": 1814,
    "start_time": "2023-07-23T20:39:32.886Z"
   },
   {
    "duration": 0,
    "start_time": "2023-07-23T20:39:34.702Z"
   },
   {
    "duration": 0,
    "start_time": "2023-07-23T20:39:34.703Z"
   },
   {
    "duration": 0,
    "start_time": "2023-07-23T20:39:34.705Z"
   },
   {
    "duration": 0,
    "start_time": "2023-07-23T20:39:34.706Z"
   },
   {
    "duration": 0,
    "start_time": "2023-07-23T20:39:34.708Z"
   },
   {
    "duration": 0,
    "start_time": "2023-07-23T20:39:34.709Z"
   },
   {
    "duration": 0,
    "start_time": "2023-07-23T20:39:34.711Z"
   },
   {
    "duration": 0,
    "start_time": "2023-07-23T20:39:34.732Z"
   },
   {
    "duration": 0,
    "start_time": "2023-07-23T20:39:34.733Z"
   },
   {
    "duration": 0,
    "start_time": "2023-07-23T20:39:34.735Z"
   },
   {
    "duration": 0,
    "start_time": "2023-07-23T20:39:34.737Z"
   },
   {
    "duration": 0,
    "start_time": "2023-07-23T20:39:34.740Z"
   },
   {
    "duration": 1,
    "start_time": "2023-07-23T20:39:34.741Z"
   },
   {
    "duration": 0,
    "start_time": "2023-07-23T20:39:34.744Z"
   },
   {
    "duration": 0,
    "start_time": "2023-07-23T20:39:34.745Z"
   },
   {
    "duration": 3,
    "start_time": "2023-07-23T20:41:59.412Z"
   },
   {
    "duration": 4,
    "start_time": "2023-07-23T20:42:01.748Z"
   },
   {
    "duration": 75,
    "start_time": "2023-07-23T20:42:08.851Z"
   },
   {
    "duration": 167,
    "start_time": "2023-07-23T20:42:20.703Z"
   },
   {
    "duration": 161,
    "start_time": "2023-07-23T20:42:27.397Z"
   },
   {
    "duration": 0,
    "start_time": "2023-07-23T20:42:27.560Z"
   },
   {
    "duration": 182,
    "start_time": "2023-07-23T20:42:28.333Z"
   },
   {
    "duration": 28,
    "start_time": "2023-07-23T20:42:28.518Z"
   },
   {
    "duration": 0,
    "start_time": "2023-07-23T20:42:28.548Z"
   },
   {
    "duration": 0,
    "start_time": "2023-07-23T20:42:28.549Z"
   },
   {
    "duration": 4,
    "start_time": "2023-07-23T20:43:06.410Z"
   },
   {
    "duration": 909,
    "start_time": "2023-07-23T20:43:06.416Z"
   },
   {
    "duration": 141,
    "start_time": "2023-07-23T20:43:07.326Z"
   },
   {
    "duration": 100,
    "start_time": "2023-07-23T20:43:07.468Z"
   },
   {
    "duration": 125,
    "start_time": "2023-07-23T20:43:07.570Z"
   },
   {
    "duration": 458,
    "start_time": "2023-07-23T20:43:07.697Z"
   },
   {
    "duration": 1094,
    "start_time": "2023-07-23T20:43:08.157Z"
   },
   {
    "duration": 223,
    "start_time": "2023-07-23T20:43:09.253Z"
   },
   {
    "duration": 80,
    "start_time": "2023-07-23T20:43:09.478Z"
   },
   {
    "duration": 19,
    "start_time": "2023-07-23T20:43:09.560Z"
   },
   {
    "duration": 79,
    "start_time": "2023-07-23T20:43:09.581Z"
   },
   {
    "duration": 96,
    "start_time": "2023-07-23T20:43:09.661Z"
   },
   {
    "duration": 94,
    "start_time": "2023-07-23T20:43:09.758Z"
   },
   {
    "duration": 102,
    "start_time": "2023-07-23T20:43:09.855Z"
   },
   {
    "duration": 21,
    "start_time": "2023-07-23T20:43:09.958Z"
   },
   {
    "duration": 9,
    "start_time": "2023-07-23T20:43:09.980Z"
   },
   {
    "duration": 43,
    "start_time": "2023-07-23T20:43:10.033Z"
   },
   {
    "duration": 72,
    "start_time": "2023-07-23T20:43:10.078Z"
   },
   {
    "duration": 34,
    "start_time": "2023-07-23T20:43:10.152Z"
   },
   {
    "duration": 92,
    "start_time": "2023-07-23T20:43:10.187Z"
   },
   {
    "duration": 75,
    "start_time": "2023-07-23T20:43:10.281Z"
   },
   {
    "duration": 65,
    "start_time": "2023-07-23T20:43:10.358Z"
   },
   {
    "duration": 183,
    "start_time": "2023-07-23T20:43:10.424Z"
   },
   {
    "duration": 164,
    "start_time": "2023-07-23T20:43:10.609Z"
   },
   {
    "duration": 837,
    "start_time": "2023-07-23T20:43:10.775Z"
   },
   {
    "duration": 29242,
    "start_time": "2023-07-23T20:43:11.613Z"
   },
   {
    "duration": 1213,
    "start_time": "2023-07-23T20:43:40.857Z"
   },
   {
    "duration": 36066,
    "start_time": "2023-07-23T20:43:42.072Z"
   },
   {
    "duration": 154,
    "start_time": "2023-07-23T20:44:18.140Z"
   },
   {
    "duration": 0,
    "start_time": "2023-07-23T20:44:18.295Z"
   },
   {
    "duration": 147,
    "start_time": "2023-07-23T20:44:35.800Z"
   },
   {
    "duration": 14,
    "start_time": "2023-07-23T20:45:49.844Z"
   }
  ],
  "kernelspec": {
   "display_name": "Python 3 (ipykernel)",
   "language": "python",
   "name": "python3"
  },
  "language_info": {
   "codemirror_mode": {
    "name": "ipython",
    "version": 3
   },
   "file_extension": ".py",
   "mimetype": "text/x-python",
   "name": "python",
   "nbconvert_exporter": "python",
   "pygments_lexer": "ipython3",
   "version": "3.11.3"
  },
  "toc": {
   "base_numbering": 1,
   "nav_menu": {},
   "number_sections": true,
   "sideBar": true,
   "skip_h1_title": true,
   "title_cell": "Table of Contents",
   "title_sidebar": "Contents",
   "toc_cell": true,
   "toc_position": {},
   "toc_section_display": true,
   "toc_window_display": true
  }
 },
 "nbformat": 4,
 "nbformat_minor": 2
}
