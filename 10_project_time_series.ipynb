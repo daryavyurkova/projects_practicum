{
 "cells": [
  {
   "cell_type": "markdown",
   "metadata": {
    "toc": true
   },
   "source": [
    "<h1>Содержание<span class=\"tocSkip\"></span></h1>\n",
    "<div class=\"toc\"><ul class=\"toc-item\"><li><span><a href=\"#Подготовка\" data-toc-modified-id=\"Подготовка-1\"><span class=\"toc-item-num\">1&nbsp;&nbsp;</span>Подготовка</a></span></li><li><span><a href=\"#Анализ\" data-toc-modified-id=\"Анализ-2\"><span class=\"toc-item-num\">2&nbsp;&nbsp;</span>Анализ</a></span></li><li><span><a href=\"#Обучение\" data-toc-modified-id=\"Обучение-3\"><span class=\"toc-item-num\">3&nbsp;&nbsp;</span>Обучение</a></span></li><li><span><a href=\"#Тестирование\" data-toc-modified-id=\"Тестирование-4\"><span class=\"toc-item-num\">4&nbsp;&nbsp;</span>Тестирование</a></span></li><li><span><a href=\"#Чек-лист-проверки\" data-toc-modified-id=\"Чек-лист-проверки-5\"><span class=\"toc-item-num\">5&nbsp;&nbsp;</span>Чек-лист проверки</a></span></li></ul></div>"
   ]
  },
  {
   "cell_type": "markdown",
   "metadata": {},
   "source": [
    "#  Прогнозирование заказов такси"
   ]
  },
  {
   "cell_type": "markdown",
   "metadata": {},
   "source": [
    "Компания «Чётенькое такси» собрала исторические данные о заказах такси в аэропортах. Чтобы привлекать больше водителей в период пиковой нагрузки, нужно спрогнозировать количество заказов такси на следующий час. Постройте модель для такого предсказания.\n",
    "\n",
    "Значение метрики *RMSE* на тестовой выборке должно быть не больше 48.\n",
    "\n",
    "Вам нужно:\n",
    "\n",
    "1. Загрузить данные и выполнить их ресемплирование по одному часу.\n",
    "2. Проанализировать данные.\n",
    "3. Обучить разные модели с различными гиперпараметрами. Сделать тестовую выборку размером 10% от исходных данных.\n",
    "4. Проверить данные на тестовой выборке и сделать выводы.\n",
    "\n",
    "\n",
    "Данные лежат в файле `taxi.csv`. Количество заказов находится в столбце `num_orders` (от англ. *number of orders*, «число заказов»)."
   ]
  },
  {
   "cell_type": "markdown",
   "metadata": {},
   "source": [
    "## Подготовка"
   ]
  },
  {
   "cell_type": "markdown",
   "metadata": {},
   "source": [
    "Импортируем необходимые библиотеки"
   ]
  },
  {
   "cell_type": "code",
   "execution_count": 1,
   "metadata": {},
   "outputs": [],
   "source": [
    "import pandas as pd\n",
    "import numpy as np \n",
    "import matplotlib.pyplot as plt\n",
    "import statsmodels.api as sm\n",
    "\n",
    "from statsmodels.tsa.seasonal import seasonal_decompose\n",
    "from statsmodels.tsa.stattools import adfuller\n",
    "from statsmodels.iolib.table import SimpleTable\n",
    "from statsmodels.tsa.statespace.sarimax import SARIMAX\n",
    "\n",
    "from sklearn.linear_model import LinearRegression\n",
    "from sklearn.tree import DecisionTreeRegressor\n",
    "\n",
    "from sklearn.model_selection import train_test_split, TimeSeriesSplit, GridSearchCV\n",
    "from sklearn.model_selection import cross_val_score\n",
    "\n",
    "from sklearn.metrics import mean_squared_error\n",
    "from sklearn.preprocessing import PowerTransformer\n",
    "\n",
    "from catboost import Pool, CatBoostRegressor, cv\n",
    "from sklearn.ensemble import RandomForestRegressor\n",
    "from lightgbm import LGBMRegressor\n",
    "\n",
    "\n",
    "\n",
    "from itertools import product\n",
    "\n",
    "import warnings\n",
    "warnings.filterwarnings(\"ignore\")\n",
    "\n",
    "RND = 12345"
   ]
  },
  {
   "cell_type": "code",
   "execution_count": 2,
   "metadata": {},
   "outputs": [],
   "source": [
    "try:\n",
    "    data_taxi = pd.read_csv('taxi.csv') \n",
    "except:\n",
    "    data_taxi = pd.read_csv('/datasets/taxi.csv', index_col=[0], parse_dates=[0])"
   ]
  },
  {
   "cell_type": "code",
   "execution_count": 3,
   "metadata": {},
   "outputs": [
    {
     "name": "stdout",
     "output_type": "stream",
     "text": [
      "<class 'pandas.core.frame.DataFrame'>\n",
      "DatetimeIndex: 26496 entries, 2018-03-01 00:00:00 to 2018-08-31 23:50:00\n",
      "Data columns (total 1 columns):\n",
      " #   Column      Non-Null Count  Dtype\n",
      "---  ------      --------------  -----\n",
      " 0   num_orders  26496 non-null  int64\n",
      "dtypes: int64(1)\n",
      "memory usage: 414.0 KB\n"
     ]
    },
    {
     "data": {
      "text/plain": [
       "None"
      ]
     },
     "metadata": {},
     "output_type": "display_data"
    },
    {
     "data": {
      "text/html": [
       "<div>\n",
       "<style scoped>\n",
       "    .dataframe tbody tr th:only-of-type {\n",
       "        vertical-align: middle;\n",
       "    }\n",
       "\n",
       "    .dataframe tbody tr th {\n",
       "        vertical-align: top;\n",
       "    }\n",
       "\n",
       "    .dataframe thead th {\n",
       "        text-align: right;\n",
       "    }\n",
       "</style>\n",
       "<table border=\"1\" class=\"dataframe\">\n",
       "  <thead>\n",
       "    <tr style=\"text-align: right;\">\n",
       "      <th></th>\n",
       "      <th>num_orders</th>\n",
       "    </tr>\n",
       "    <tr>\n",
       "      <th>datetime</th>\n",
       "      <th></th>\n",
       "    </tr>\n",
       "  </thead>\n",
       "  <tbody>\n",
       "    <tr>\n",
       "      <th>2018-03-01 00:00:00</th>\n",
       "      <td>9</td>\n",
       "    </tr>\n",
       "    <tr>\n",
       "      <th>2018-03-01 00:10:00</th>\n",
       "      <td>14</td>\n",
       "    </tr>\n",
       "    <tr>\n",
       "      <th>2018-03-01 00:20:00</th>\n",
       "      <td>28</td>\n",
       "    </tr>\n",
       "    <tr>\n",
       "      <th>2018-03-01 00:30:00</th>\n",
       "      <td>20</td>\n",
       "    </tr>\n",
       "    <tr>\n",
       "      <th>2018-03-01 00:40:00</th>\n",
       "      <td>32</td>\n",
       "    </tr>\n",
       "    <tr>\n",
       "      <th>2018-03-01 00:50:00</th>\n",
       "      <td>21</td>\n",
       "    </tr>\n",
       "    <tr>\n",
       "      <th>2018-03-01 01:00:00</th>\n",
       "      <td>7</td>\n",
       "    </tr>\n",
       "    <tr>\n",
       "      <th>2018-03-01 01:10:00</th>\n",
       "      <td>5</td>\n",
       "    </tr>\n",
       "    <tr>\n",
       "      <th>2018-03-01 01:20:00</th>\n",
       "      <td>17</td>\n",
       "    </tr>\n",
       "    <tr>\n",
       "      <th>2018-03-01 01:30:00</th>\n",
       "      <td>12</td>\n",
       "    </tr>\n",
       "    <tr>\n",
       "      <th>2018-03-01 01:40:00</th>\n",
       "      <td>19</td>\n",
       "    </tr>\n",
       "    <tr>\n",
       "      <th>2018-03-01 01:50:00</th>\n",
       "      <td>25</td>\n",
       "    </tr>\n",
       "    <tr>\n",
       "      <th>2018-03-01 02:00:00</th>\n",
       "      <td>22</td>\n",
       "    </tr>\n",
       "    <tr>\n",
       "      <th>2018-03-01 02:10:00</th>\n",
       "      <td>12</td>\n",
       "    </tr>\n",
       "    <tr>\n",
       "      <th>2018-03-01 02:20:00</th>\n",
       "      <td>19</td>\n",
       "    </tr>\n",
       "    <tr>\n",
       "      <th>2018-03-01 02:30:00</th>\n",
       "      <td>8</td>\n",
       "    </tr>\n",
       "    <tr>\n",
       "      <th>2018-03-01 02:40:00</th>\n",
       "      <td>6</td>\n",
       "    </tr>\n",
       "    <tr>\n",
       "      <th>2018-03-01 02:50:00</th>\n",
       "      <td>4</td>\n",
       "    </tr>\n",
       "    <tr>\n",
       "      <th>2018-03-01 03:00:00</th>\n",
       "      <td>8</td>\n",
       "    </tr>\n",
       "    <tr>\n",
       "      <th>2018-03-01 03:10:00</th>\n",
       "      <td>17</td>\n",
       "    </tr>\n",
       "  </tbody>\n",
       "</table>\n",
       "</div>"
      ],
      "text/plain": [
       "                     num_orders\n",
       "datetime                       \n",
       "2018-03-01 00:00:00           9\n",
       "2018-03-01 00:10:00          14\n",
       "2018-03-01 00:20:00          28\n",
       "2018-03-01 00:30:00          20\n",
       "2018-03-01 00:40:00          32\n",
       "2018-03-01 00:50:00          21\n",
       "2018-03-01 01:00:00           7\n",
       "2018-03-01 01:10:00           5\n",
       "2018-03-01 01:20:00          17\n",
       "2018-03-01 01:30:00          12\n",
       "2018-03-01 01:40:00          19\n",
       "2018-03-01 01:50:00          25\n",
       "2018-03-01 02:00:00          22\n",
       "2018-03-01 02:10:00          12\n",
       "2018-03-01 02:20:00          19\n",
       "2018-03-01 02:30:00           8\n",
       "2018-03-01 02:40:00           6\n",
       "2018-03-01 02:50:00           4\n",
       "2018-03-01 03:00:00           8\n",
       "2018-03-01 03:10:00          17"
      ]
     },
     "execution_count": 3,
     "metadata": {},
     "output_type": "execute_result"
    }
   ],
   "source": [
    "display(data_taxi.info())\n",
    "data_taxi.sort_index(inplace=True)\n",
    "data_taxi.head(20)"
   ]
  },
  {
   "cell_type": "code",
   "execution_count": 4,
   "metadata": {},
   "outputs": [
    {
     "name": "stdout",
     "output_type": "stream",
     "text": [
      "Количество пропусков:\n"
     ]
    },
    {
     "data": {
      "text/plain": [
       "num_orders    0\n",
       "dtype: int64"
      ]
     },
     "metadata": {},
     "output_type": "display_data"
    }
   ],
   "source": [
    "print('Количество пропусков:')\n",
    "display(data_taxi.isna().sum())"
   ]
  },
  {
   "cell_type": "markdown",
   "metadata": {},
   "source": [
    "Датасет содержит 2 столбца, 26496 строк-записей, пропусков нет. Данные предоставлены с 1 марта по 31 августа 2018 года."
   ]
  },
  {
   "cell_type": "markdown",
   "metadata": {},
   "source": [
    "## Анализ"
   ]
  },
  {
   "cell_type": "markdown",
   "metadata": {},
   "source": [
    "Данные времени в датасете представлены с разницей в 10 минут, поскольку это слишком подробные данные, выполним ресемплирование с интервалом в 1 час, расположим в хронологическом порядке."
   ]
  },
  {
   "cell_type": "code",
   "execution_count": 5,
   "metadata": {},
   "outputs": [],
   "source": [
    "data_taxi.sort_index(inplace=True)\n",
    "data_taxi = data_taxi.resample('1H').sum()"
   ]
  },
  {
   "cell_type": "code",
   "execution_count": 6,
   "metadata": {},
   "outputs": [
    {
     "name": "stdout",
     "output_type": "stream",
     "text": [
      "<class 'pandas.core.frame.DataFrame'>\n",
      "DatetimeIndex: 4416 entries, 2018-03-01 00:00:00 to 2018-08-31 23:00:00\n",
      "Freq: H\n",
      "Data columns (total 1 columns):\n",
      " #   Column      Non-Null Count  Dtype\n",
      "---  ------      --------------  -----\n",
      " 0   num_orders  4416 non-null   int64\n",
      "dtypes: int64(1)\n",
      "memory usage: 69.0 KB\n"
     ]
    },
    {
     "data": {
      "text/plain": [
       "None"
      ]
     },
     "metadata": {},
     "output_type": "display_data"
    },
    {
     "data": {
      "text/html": [
       "<div>\n",
       "<style scoped>\n",
       "    .dataframe tbody tr th:only-of-type {\n",
       "        vertical-align: middle;\n",
       "    }\n",
       "\n",
       "    .dataframe tbody tr th {\n",
       "        vertical-align: top;\n",
       "    }\n",
       "\n",
       "    .dataframe thead th {\n",
       "        text-align: right;\n",
       "    }\n",
       "</style>\n",
       "<table border=\"1\" class=\"dataframe\">\n",
       "  <thead>\n",
       "    <tr style=\"text-align: right;\">\n",
       "      <th></th>\n",
       "      <th>num_orders</th>\n",
       "    </tr>\n",
       "    <tr>\n",
       "      <th>datetime</th>\n",
       "      <th></th>\n",
       "    </tr>\n",
       "  </thead>\n",
       "  <tbody>\n",
       "    <tr>\n",
       "      <th>2018-03-01 00:00:00</th>\n",
       "      <td>124</td>\n",
       "    </tr>\n",
       "    <tr>\n",
       "      <th>2018-03-01 01:00:00</th>\n",
       "      <td>85</td>\n",
       "    </tr>\n",
       "    <tr>\n",
       "      <th>2018-03-01 02:00:00</th>\n",
       "      <td>71</td>\n",
       "    </tr>\n",
       "    <tr>\n",
       "      <th>2018-03-01 03:00:00</th>\n",
       "      <td>66</td>\n",
       "    </tr>\n",
       "    <tr>\n",
       "      <th>2018-03-01 04:00:00</th>\n",
       "      <td>43</td>\n",
       "    </tr>\n",
       "    <tr>\n",
       "      <th>2018-03-01 05:00:00</th>\n",
       "      <td>6</td>\n",
       "    </tr>\n",
       "    <tr>\n",
       "      <th>2018-03-01 06:00:00</th>\n",
       "      <td>12</td>\n",
       "    </tr>\n",
       "    <tr>\n",
       "      <th>2018-03-01 07:00:00</th>\n",
       "      <td>15</td>\n",
       "    </tr>\n",
       "    <tr>\n",
       "      <th>2018-03-01 08:00:00</th>\n",
       "      <td>34</td>\n",
       "    </tr>\n",
       "    <tr>\n",
       "      <th>2018-03-01 09:00:00</th>\n",
       "      <td>69</td>\n",
       "    </tr>\n",
       "    <tr>\n",
       "      <th>2018-03-01 10:00:00</th>\n",
       "      <td>64</td>\n",
       "    </tr>\n",
       "    <tr>\n",
       "      <th>2018-03-01 11:00:00</th>\n",
       "      <td>96</td>\n",
       "    </tr>\n",
       "    <tr>\n",
       "      <th>2018-03-01 12:00:00</th>\n",
       "      <td>30</td>\n",
       "    </tr>\n",
       "    <tr>\n",
       "      <th>2018-03-01 13:00:00</th>\n",
       "      <td>32</td>\n",
       "    </tr>\n",
       "    <tr>\n",
       "      <th>2018-03-01 14:00:00</th>\n",
       "      <td>48</td>\n",
       "    </tr>\n",
       "    <tr>\n",
       "      <th>2018-03-01 15:00:00</th>\n",
       "      <td>66</td>\n",
       "    </tr>\n",
       "    <tr>\n",
       "      <th>2018-03-01 16:00:00</th>\n",
       "      <td>43</td>\n",
       "    </tr>\n",
       "    <tr>\n",
       "      <th>2018-03-01 17:00:00</th>\n",
       "      <td>44</td>\n",
       "    </tr>\n",
       "    <tr>\n",
       "      <th>2018-03-01 18:00:00</th>\n",
       "      <td>73</td>\n",
       "    </tr>\n",
       "    <tr>\n",
       "      <th>2018-03-01 19:00:00</th>\n",
       "      <td>45</td>\n",
       "    </tr>\n",
       "  </tbody>\n",
       "</table>\n",
       "</div>"
      ],
      "text/plain": [
       "                     num_orders\n",
       "datetime                       \n",
       "2018-03-01 00:00:00         124\n",
       "2018-03-01 01:00:00          85\n",
       "2018-03-01 02:00:00          71\n",
       "2018-03-01 03:00:00          66\n",
       "2018-03-01 04:00:00          43\n",
       "2018-03-01 05:00:00           6\n",
       "2018-03-01 06:00:00          12\n",
       "2018-03-01 07:00:00          15\n",
       "2018-03-01 08:00:00          34\n",
       "2018-03-01 09:00:00          69\n",
       "2018-03-01 10:00:00          64\n",
       "2018-03-01 11:00:00          96\n",
       "2018-03-01 12:00:00          30\n",
       "2018-03-01 13:00:00          32\n",
       "2018-03-01 14:00:00          48\n",
       "2018-03-01 15:00:00          66\n",
       "2018-03-01 16:00:00          43\n",
       "2018-03-01 17:00:00          44\n",
       "2018-03-01 18:00:00          73\n",
       "2018-03-01 19:00:00          45"
      ]
     },
     "execution_count": 6,
     "metadata": {},
     "output_type": "execute_result"
    }
   ],
   "source": [
    "display(data_taxi.info())\n",
    "data_taxi.head(20)"
   ]
  },
  {
   "cell_type": "markdown",
   "metadata": {},
   "source": [
    "Посмотрим распределение данных на графике"
   ]
  },
  {
   "cell_type": "code",
   "execution_count": 7,
   "metadata": {},
   "outputs": [
    {
     "data": {
      "image/png": "[encoded data removed]",
      "text/plain": [
       "<Figure size 936x576 with 1 Axes>"
      ]
     },
     "metadata": {
      "needs_background": "light"
     },
     "output_type": "display_data"
    }
   ],
   "source": [
    "figsize = (13, 8)\n",
    "data_taxi.plot(figsize=figsize)\n",
    "plt.title('ресемплированные данные с интервалом в 1 час')\n",
    "plt.xlabel('месяцы')\n",
    "plt.ylabel('заказы')\n",
    "plt.show()"
   ]
  },
  {
   "cell_type": "markdown",
   "metadata": {},
   "source": [
    "Чтобы лучше изучить этот временной ряд, рассмотрим тренд, сезонную составляющую (сезонность), остаток декомпозиции (шум)."
   ]
  },
  {
   "cell_type": "code",
   "execution_count": 8,
   "metadata": {},
   "outputs": [
    {
     "data": {
      "image/png": "[encoded data removed]",
      "text/plain": [
       "<Figure size 936x576 with 3 Axes>"
      ]
     },
     "metadata": {
      "needs_background": "light"
     },
     "output_type": "display_data"
    }
   ],
   "source": [
    "decomposed = seasonal_decompose(data_taxi)\n",
    "\n",
    "plt.figure(figsize=(13, 8))\n",
    "plt.subplot(311)\n",
    "\n",
    "decomposed.trend.plot(ax=plt.gca())\n",
    "plt.title('тренд')\n",
    "plt.subplot(312)\n",
    "decomposed.seasonal.plot(ax=plt.gca()) \n",
    "plt.title('сезонность')\n",
    "plt.subplot(313)\n",
    "decomposed.resid.plot(ax=plt.gca()) \n",
    "plt.title('шум')\n",
    "plt.tight_layout()"
   ]
  },
  {
   "cell_type": "markdown",
   "metadata": {},
   "source": [
    "Не слишком показательно. Посмотрим-ка за более короткий срок, например, за первую неделю марта. "
   ]
  },
  {
   "cell_type": "code",
   "execution_count": 9,
   "metadata": {},
   "outputs": [
    {
     "data": {
      "image/png": "[encoded data removed]",
      "text/plain": [
       "<Figure size 936x576 with 3 Axes>"
      ]
     },
     "metadata": {
      "needs_background": "light"
     },
     "output_type": "display_data"
    }
   ],
   "source": [
    "decomposed = seasonal_decompose(data_taxi['2018-03-01':'2018-03-07'])\n",
    "\n",
    "plt.figure(figsize=(13, 8))\n",
    "plt.subplot(311)\n",
    "\n",
    "decomposed.trend.plot(ax=plt.gca())\n",
    "plt.title('тренд')\n",
    "plt.subplot(312)\n",
    "decomposed.seasonal.plot(ax=plt.gca()) \n",
    "plt.title('сезонность')\n",
    "plt.subplot(313)\n",
    "decomposed.resid.plot(ax=plt.gca()) \n",
    "plt.title('шум')\n",
    "plt.tight_layout()"
   ]
  },
  {
   "cell_type": "markdown",
   "metadata": {},
   "source": [
    "Теперь можем увидеть сезонность суточную, по которой видно, что ночью заказов меньше."
   ]
  },
  {
   "cell_type": "code",
   "execution_count": 10,
   "metadata": {},
   "outputs": [
    {
     "data": {
      "text/plain": [
       "<AxesSubplot:xlabel='datetime'>"
      ]
     },
     "execution_count": 10,
     "metadata": {},
     "output_type": "execute_result"
    },
    {
     "data": {
      "image/png": "[encoded data removed]",
      "text/plain": [
       "<Figure size 936x576 with 1 Axes>"
      ]
     },
     "metadata": {
      "needs_background": "light"
     },
     "output_type": "display_data"
    }
   ],
   "source": [
    "data_taxi_plot = data_taxi.copy()\n",
    "\n",
    "data_taxi_plot['mean'] = data_taxi_plot['num_orders'].rolling(30).mean()\n",
    "data_taxi_plot['std'] = data_taxi_plot['num_orders'].rolling(30).std()\n",
    "data_taxi_plot.plot(figsize=(13, 8))\n"
   ]
  },
  {
   "cell_type": "markdown",
   "metadata": {},
   "source": [
    "Найдём разности значений, чтобы сделать числовой ряд  стационарным."
   ]
  },
  {
   "cell_type": "code",
   "execution_count": 11,
   "metadata": {},
   "outputs": [
    {
     "data": {
      "text/plain": [
       "<AxesSubplot:xlabel='datetime'>"
      ]
     },
     "execution_count": 11,
     "metadata": {},
     "output_type": "execute_result"
    },
    {
     "data": {
      "image/png": "[encoded data removed]",
      "text/plain": [
       "<Figure size 936x576 with 1 Axes>"
      ]
     },
     "metadata": {
      "needs_background": "light"
     },
     "output_type": "display_data"
    }
   ],
   "source": [
    "data_taxi_shift = data_taxi - data_taxi.shift(fill_value=0)\n",
    "data_taxi_shift['mean'] = data_taxi_shift['num_orders'].rolling(30).mean()\n",
    "data_taxi_shift['std'] = data_taxi_shift['num_orders'].rolling(30).std()\n",
    "data_taxi_shift.plot(figsize=(13, 8))"
   ]
  },
  {
   "cell_type": "markdown",
   "metadata": {},
   "source": [
    "Ряд стал более стационарным и значит готовым для прогнозов."
   ]
  },
  {
   "cell_type": "markdown",
   "metadata": {},
   "source": [
    "**Вывод по разделу анализа данных:**\n",
    "<br>\n",
    "Декомпозиция указала на общий тренд увеличения заказов.\n",
    "Сезоность показала высокий спрос в вечернее время и спад в ночное, утреннее."
   ]
  },
  {
   "cell_type": "markdown",
   "metadata": {},
   "source": [
    "## Обучение"
   ]
  },
  {
   "cell_type": "markdown",
   "metadata": {},
   "source": [
    "Создадим признаки для обучения моделей"
   ]
  },
  {
   "cell_type": "code",
   "execution_count": 12,
   "metadata": {},
   "outputs": [],
   "source": [
    "data = data_taxi.copy()"
   ]
  },
  {
   "cell_type": "code",
   "execution_count": 13,
   "metadata": {},
   "outputs": [],
   "source": [
    "\n",
    "def make_features(data, max_lag, rolling_mean_size):\n",
    "    \n",
    "    data['dayofweek'] = data.index.dayofweek\n",
    "    data['hour'] = data.index.hour\n",
    "    \n",
    "    for lag in range(1, max_lag + 1):\n",
    "        data['lag_{}'.format(lag)] = data['num_orders'].shift(lag)\n",
    "    data['rolling_mean'] = data['num_orders'].shift().rolling(rolling_mean_size).mean()\n",
    "    data = data.dropna()\n",
    "  \n",
    "    return data"
   ]
  },
  {
   "cell_type": "code",
   "execution_count": 14,
   "metadata": {},
   "outputs": [
    {
     "data": {
      "text/html": [
       "<div>\n",
       "<style scoped>\n",
       "    .dataframe tbody tr th:only-of-type {\n",
       "        vertical-align: middle;\n",
       "    }\n",
       "\n",
       "    .dataframe tbody tr th {\n",
       "        vertical-align: top;\n",
       "    }\n",
       "\n",
       "    .dataframe thead th {\n",
       "        text-align: right;\n",
       "    }\n",
       "</style>\n",
       "<table border=\"1\" class=\"dataframe\">\n",
       "  <thead>\n",
       "    <tr style=\"text-align: right;\">\n",
       "      <th></th>\n",
       "      <th>num_orders</th>\n",
       "      <th>dayofweek</th>\n",
       "      <th>hour</th>\n",
       "      <th>lag_1</th>\n",
       "      <th>lag_2</th>\n",
       "      <th>lag_3</th>\n",
       "      <th>lag_4</th>\n",
       "      <th>lag_5</th>\n",
       "      <th>lag_6</th>\n",
       "      <th>lag_7</th>\n",
       "      <th>...</th>\n",
       "      <th>lag_16</th>\n",
       "      <th>lag_17</th>\n",
       "      <th>lag_18</th>\n",
       "      <th>lag_19</th>\n",
       "      <th>lag_20</th>\n",
       "      <th>lag_21</th>\n",
       "      <th>lag_22</th>\n",
       "      <th>lag_23</th>\n",
       "      <th>lag_24</th>\n",
       "      <th>rolling_mean</th>\n",
       "    </tr>\n",
       "    <tr>\n",
       "      <th>datetime</th>\n",
       "      <th></th>\n",
       "      <th></th>\n",
       "      <th></th>\n",
       "      <th></th>\n",
       "      <th></th>\n",
       "      <th></th>\n",
       "      <th></th>\n",
       "      <th></th>\n",
       "      <th></th>\n",
       "      <th></th>\n",
       "      <th></th>\n",
       "      <th></th>\n",
       "      <th></th>\n",
       "      <th></th>\n",
       "      <th></th>\n",
       "      <th></th>\n",
       "      <th></th>\n",
       "      <th></th>\n",
       "      <th></th>\n",
       "      <th></th>\n",
       "      <th></th>\n",
       "    </tr>\n",
       "  </thead>\n",
       "  <tbody>\n",
       "    <tr>\n",
       "      <th>2018-03-05 04:00:00</th>\n",
       "      <td>34</td>\n",
       "      <td>0</td>\n",
       "      <td>4</td>\n",
       "      <td>51.0</td>\n",
       "      <td>32.0</td>\n",
       "      <td>176.0</td>\n",
       "      <td>86.0</td>\n",
       "      <td>68.0</td>\n",
       "      <td>83.0</td>\n",
       "      <td>75.0</td>\n",
       "      <td>...</td>\n",
       "      <td>30.0</td>\n",
       "      <td>41.0</td>\n",
       "      <td>19.0</td>\n",
       "      <td>39.0</td>\n",
       "      <td>39.0</td>\n",
       "      <td>12.0</td>\n",
       "      <td>11.0</td>\n",
       "      <td>22.0</td>\n",
       "      <td>27.0</td>\n",
       "      <td>56.46</td>\n",
       "    </tr>\n",
       "    <tr>\n",
       "      <th>2018-03-05 05:00:00</th>\n",
       "      <td>16</td>\n",
       "      <td>0</td>\n",
       "      <td>5</td>\n",
       "      <td>34.0</td>\n",
       "      <td>51.0</td>\n",
       "      <td>32.0</td>\n",
       "      <td>176.0</td>\n",
       "      <td>86.0</td>\n",
       "      <td>68.0</td>\n",
       "      <td>83.0</td>\n",
       "      <td>...</td>\n",
       "      <td>30.0</td>\n",
       "      <td>30.0</td>\n",
       "      <td>41.0</td>\n",
       "      <td>19.0</td>\n",
       "      <td>39.0</td>\n",
       "      <td>39.0</td>\n",
       "      <td>12.0</td>\n",
       "      <td>11.0</td>\n",
       "      <td>22.0</td>\n",
       "      <td>55.56</td>\n",
       "    </tr>\n",
       "    <tr>\n",
       "      <th>2018-03-05 06:00:00</th>\n",
       "      <td>3</td>\n",
       "      <td>0</td>\n",
       "      <td>6</td>\n",
       "      <td>16.0</td>\n",
       "      <td>34.0</td>\n",
       "      <td>51.0</td>\n",
       "      <td>32.0</td>\n",
       "      <td>176.0</td>\n",
       "      <td>86.0</td>\n",
       "      <td>68.0</td>\n",
       "      <td>...</td>\n",
       "      <td>56.0</td>\n",
       "      <td>30.0</td>\n",
       "      <td>30.0</td>\n",
       "      <td>41.0</td>\n",
       "      <td>19.0</td>\n",
       "      <td>39.0</td>\n",
       "      <td>39.0</td>\n",
       "      <td>12.0</td>\n",
       "      <td>11.0</td>\n",
       "      <td>54.87</td>\n",
       "    </tr>\n",
       "    <tr>\n",
       "      <th>2018-03-05 07:00:00</th>\n",
       "      <td>14</td>\n",
       "      <td>0</td>\n",
       "      <td>7</td>\n",
       "      <td>3.0</td>\n",
       "      <td>16.0</td>\n",
       "      <td>34.0</td>\n",
       "      <td>51.0</td>\n",
       "      <td>32.0</td>\n",
       "      <td>176.0</td>\n",
       "      <td>86.0</td>\n",
       "      <td>...</td>\n",
       "      <td>58.0</td>\n",
       "      <td>56.0</td>\n",
       "      <td>30.0</td>\n",
       "      <td>30.0</td>\n",
       "      <td>41.0</td>\n",
       "      <td>19.0</td>\n",
       "      <td>39.0</td>\n",
       "      <td>39.0</td>\n",
       "      <td>12.0</td>\n",
       "      <td>54.19</td>\n",
       "    </tr>\n",
       "    <tr>\n",
       "      <th>2018-03-05 08:00:00</th>\n",
       "      <td>31</td>\n",
       "      <td>0</td>\n",
       "      <td>8</td>\n",
       "      <td>14.0</td>\n",
       "      <td>3.0</td>\n",
       "      <td>16.0</td>\n",
       "      <td>34.0</td>\n",
       "      <td>51.0</td>\n",
       "      <td>32.0</td>\n",
       "      <td>176.0</td>\n",
       "      <td>...</td>\n",
       "      <td>64.0</td>\n",
       "      <td>58.0</td>\n",
       "      <td>56.0</td>\n",
       "      <td>30.0</td>\n",
       "      <td>30.0</td>\n",
       "      <td>41.0</td>\n",
       "      <td>19.0</td>\n",
       "      <td>39.0</td>\n",
       "      <td>39.0</td>\n",
       "      <td>53.67</td>\n",
       "    </tr>\n",
       "    <tr>\n",
       "      <th>...</th>\n",
       "      <td>...</td>\n",
       "      <td>...</td>\n",
       "      <td>...</td>\n",
       "      <td>...</td>\n",
       "      <td>...</td>\n",
       "      <td>...</td>\n",
       "      <td>...</td>\n",
       "      <td>...</td>\n",
       "      <td>...</td>\n",
       "      <td>...</td>\n",
       "      <td>...</td>\n",
       "      <td>...</td>\n",
       "      <td>...</td>\n",
       "      <td>...</td>\n",
       "      <td>...</td>\n",
       "      <td>...</td>\n",
       "      <td>...</td>\n",
       "      <td>...</td>\n",
       "      <td>...</td>\n",
       "      <td>...</td>\n",
       "      <td>...</td>\n",
       "    </tr>\n",
       "    <tr>\n",
       "      <th>2018-08-31 19:00:00</th>\n",
       "      <td>136</td>\n",
       "      <td>4</td>\n",
       "      <td>19</td>\n",
       "      <td>207.0</td>\n",
       "      <td>217.0</td>\n",
       "      <td>197.0</td>\n",
       "      <td>116.0</td>\n",
       "      <td>133.0</td>\n",
       "      <td>166.0</td>\n",
       "      <td>136.0</td>\n",
       "      <td>...</td>\n",
       "      <td>99.0</td>\n",
       "      <td>230.0</td>\n",
       "      <td>194.0</td>\n",
       "      <td>276.0</td>\n",
       "      <td>246.0</td>\n",
       "      <td>158.0</td>\n",
       "      <td>198.0</td>\n",
       "      <td>142.0</td>\n",
       "      <td>72.0</td>\n",
       "      <td>157.33</td>\n",
       "    </tr>\n",
       "    <tr>\n",
       "      <th>2018-08-31 20:00:00</th>\n",
       "      <td>154</td>\n",
       "      <td>4</td>\n",
       "      <td>20</td>\n",
       "      <td>136.0</td>\n",
       "      <td>207.0</td>\n",
       "      <td>217.0</td>\n",
       "      <td>197.0</td>\n",
       "      <td>116.0</td>\n",
       "      <td>133.0</td>\n",
       "      <td>166.0</td>\n",
       "      <td>...</td>\n",
       "      <td>268.0</td>\n",
       "      <td>99.0</td>\n",
       "      <td>230.0</td>\n",
       "      <td>194.0</td>\n",
       "      <td>276.0</td>\n",
       "      <td>246.0</td>\n",
       "      <td>158.0</td>\n",
       "      <td>198.0</td>\n",
       "      <td>142.0</td>\n",
       "      <td>156.74</td>\n",
       "    </tr>\n",
       "    <tr>\n",
       "      <th>2018-08-31 21:00:00</th>\n",
       "      <td>159</td>\n",
       "      <td>4</td>\n",
       "      <td>21</td>\n",
       "      <td>154.0</td>\n",
       "      <td>136.0</td>\n",
       "      <td>207.0</td>\n",
       "      <td>217.0</td>\n",
       "      <td>197.0</td>\n",
       "      <td>116.0</td>\n",
       "      <td>133.0</td>\n",
       "      <td>...</td>\n",
       "      <td>78.0</td>\n",
       "      <td>268.0</td>\n",
       "      <td>99.0</td>\n",
       "      <td>230.0</td>\n",
       "      <td>194.0</td>\n",
       "      <td>276.0</td>\n",
       "      <td>246.0</td>\n",
       "      <td>158.0</td>\n",
       "      <td>198.0</td>\n",
       "      <td>156.63</td>\n",
       "    </tr>\n",
       "    <tr>\n",
       "      <th>2018-08-31 22:00:00</th>\n",
       "      <td>223</td>\n",
       "      <td>4</td>\n",
       "      <td>22</td>\n",
       "      <td>159.0</td>\n",
       "      <td>154.0</td>\n",
       "      <td>136.0</td>\n",
       "      <td>207.0</td>\n",
       "      <td>217.0</td>\n",
       "      <td>197.0</td>\n",
       "      <td>116.0</td>\n",
       "      <td>...</td>\n",
       "      <td>35.0</td>\n",
       "      <td>78.0</td>\n",
       "      <td>268.0</td>\n",
       "      <td>99.0</td>\n",
       "      <td>230.0</td>\n",
       "      <td>194.0</td>\n",
       "      <td>276.0</td>\n",
       "      <td>246.0</td>\n",
       "      <td>158.0</td>\n",
       "      <td>156.40</td>\n",
       "    </tr>\n",
       "    <tr>\n",
       "      <th>2018-08-31 23:00:00</th>\n",
       "      <td>205</td>\n",
       "      <td>4</td>\n",
       "      <td>23</td>\n",
       "      <td>223.0</td>\n",
       "      <td>159.0</td>\n",
       "      <td>154.0</td>\n",
       "      <td>136.0</td>\n",
       "      <td>207.0</td>\n",
       "      <td>217.0</td>\n",
       "      <td>197.0</td>\n",
       "      <td>...</td>\n",
       "      <td>46.0</td>\n",
       "      <td>35.0</td>\n",
       "      <td>78.0</td>\n",
       "      <td>268.0</td>\n",
       "      <td>99.0</td>\n",
       "      <td>230.0</td>\n",
       "      <td>194.0</td>\n",
       "      <td>276.0</td>\n",
       "      <td>246.0</td>\n",
       "      <td>157.52</td>\n",
       "    </tr>\n",
       "  </tbody>\n",
       "</table>\n",
       "<p>4316 rows × 28 columns</p>\n",
       "</div>"
      ],
      "text/plain": [
       "                     num_orders  dayofweek  hour  lag_1  lag_2  lag_3  lag_4  \\\n",
       "datetime                                                                       \n",
       "2018-03-05 04:00:00          34          0     4   51.0   32.0  176.0   86.0   \n",
       "2018-03-05 05:00:00          16          0     5   34.0   51.0   32.0  176.0   \n",
       "2018-03-05 06:00:00           3          0     6   16.0   34.0   51.0   32.0   \n",
       "2018-03-05 07:00:00          14          0     7    3.0   16.0   34.0   51.0   \n",
       "2018-03-05 08:00:00          31          0     8   14.0    3.0   16.0   34.0   \n",
       "...                         ...        ...   ...    ...    ...    ...    ...   \n",
       "2018-08-31 19:00:00         136          4    19  207.0  217.0  197.0  116.0   \n",
       "2018-08-31 20:00:00         154          4    20  136.0  207.0  217.0  197.0   \n",
       "2018-08-31 21:00:00         159          4    21  154.0  136.0  207.0  217.0   \n",
       "2018-08-31 22:00:00         223          4    22  159.0  154.0  136.0  207.0   \n",
       "2018-08-31 23:00:00         205          4    23  223.0  159.0  154.0  136.0   \n",
       "\n",
       "                     lag_5  lag_6  lag_7  ...  lag_16  lag_17  lag_18  lag_19  \\\n",
       "datetime                                  ...                                   \n",
       "2018-03-05 04:00:00   68.0   83.0   75.0  ...    30.0    41.0    19.0    39.0   \n",
       "2018-03-05 05:00:00   86.0   68.0   83.0  ...    30.0    30.0    41.0    19.0   \n",
       "2018-03-05 06:00:00  176.0   86.0   68.0  ...    56.0    30.0    30.0    41.0   \n",
       "2018-03-05 07:00:00   32.0  176.0   86.0  ...    58.0    56.0    30.0    30.0   \n",
       "2018-03-05 08:00:00   51.0   32.0  176.0  ...    64.0    58.0    56.0    30.0   \n",
       "...                    ...    ...    ...  ...     ...     ...     ...     ...   \n",
       "2018-08-31 19:00:00  133.0  166.0  136.0  ...    99.0   230.0   194.0   276.0   \n",
       "2018-08-31 20:00:00  116.0  133.0  166.0  ...   268.0    99.0   230.0   194.0   \n",
       "2018-08-31 21:00:00  197.0  116.0  133.0  ...    78.0   268.0    99.0   230.0   \n",
       "2018-08-31 22:00:00  217.0  197.0  116.0  ...    35.0    78.0   268.0    99.0   \n",
       "2018-08-31 23:00:00  207.0  217.0  197.0  ...    46.0    35.0    78.0   268.0   \n",
       "\n",
       "                     lag_20  lag_21  lag_22  lag_23  lag_24  rolling_mean  \n",
       "datetime                                                                   \n",
       "2018-03-05 04:00:00    39.0    12.0    11.0    22.0    27.0         56.46  \n",
       "2018-03-05 05:00:00    39.0    39.0    12.0    11.0    22.0         55.56  \n",
       "2018-03-05 06:00:00    19.0    39.0    39.0    12.0    11.0         54.87  \n",
       "2018-03-05 07:00:00    41.0    19.0    39.0    39.0    12.0         54.19  \n",
       "2018-03-05 08:00:00    30.0    41.0    19.0    39.0    39.0         53.67  \n",
       "...                     ...     ...     ...     ...     ...           ...  \n",
       "2018-08-31 19:00:00   246.0   158.0   198.0   142.0    72.0        157.33  \n",
       "2018-08-31 20:00:00   276.0   246.0   158.0   198.0   142.0        156.74  \n",
       "2018-08-31 21:00:00   194.0   276.0   246.0   158.0   198.0        156.63  \n",
       "2018-08-31 22:00:00   230.0   194.0   276.0   246.0   158.0        156.40  \n",
       "2018-08-31 23:00:00    99.0   230.0   194.0   276.0   246.0        157.52  \n",
       "\n",
       "[4316 rows x 28 columns]"
      ]
     },
     "execution_count": 14,
     "metadata": {},
     "output_type": "execute_result"
    }
   ],
   "source": [
    "# выберем лаг 24 и скользящую равную 100\n",
    "make_features(data_taxi, 24, 100)"
   ]
  },
  {
   "cell_type": "code",
   "execution_count": 15,
   "metadata": {},
   "outputs": [],
   "source": [
    "# удалим пропуски\n",
    "data_taxi = data_taxi.dropna()"
   ]
  },
  {
   "cell_type": "code",
   "execution_count": 16,
   "metadata": {},
   "outputs": [
    {
     "data": {
      "text/plain": [
       "((3884, 27), (3884,), (432, 27), (432,))"
      ]
     },
     "execution_count": 16,
     "metadata": {},
     "output_type": "execute_result"
    }
   ],
   "source": [
    "# разделими признаки и целевой признак\n",
    "\n",
    "train, test = train_test_split(data_taxi, shuffle=False, test_size=0.1)\n",
    "\n",
    "features_train = train.drop(['num_orders'], axis=1)\n",
    "target_train = train['num_orders']\n",
    "features_test = test.drop(['num_orders'], axis=1)\n",
    "target_test = test['num_orders']\n",
    "\n",
    "features_train.shape, target_train.shape, features_test.shape, target_test.shape\n"
   ]
  },
  {
   "cell_type": "markdown",
   "metadata": {},
   "source": [
    "Обучим три модели: Линейную регрессию, Случайный лес и CatBoostRegressor."
   ]
  },
  {
   "cell_type": "markdown",
   "metadata": {},
   "source": [
    "**Линейная регрессия**"
   ]
  },
  {
   "cell_type": "code",
   "execution_count": 17,
   "metadata": {},
   "outputs": [],
   "source": [
    "model_lr = LinearRegression()\n",
    "model_lr.fit(features_train, target_train)\n",
    "predicted_lr = pd.Series(model_lr.predict(features_test))\n"
   ]
  },
  {
   "cell_type": "code",
   "execution_count": 18,
   "metadata": {},
   "outputs": [],
   "source": [
    "# подберем параметры c помощью TimeSeriesSplit\n",
    "tscv = TimeSeriesSplit(n_splits=5)\n",
    "cb_parameters = [{'learning_rate':[x/10 for x in range(1, 6)],\n",
    "                'random_state':[RND],\n",
    "                'verbose':[False]}]"
   ]
  },
  {
   "cell_type": "code",
   "execution_count": 19,
   "metadata": {},
   "outputs": [],
   "source": [
    "lr_parameters = {'fit_intercept':[True,False], 'copy_X':[True, False]}"
   ]
  },
  {
   "cell_type": "code",
   "execution_count": 20,
   "metadata": {},
   "outputs": [
    {
     "name": "stdout",
     "output_type": "stream",
     "text": [
      "Лучшие гиперпараметры:  {'copy_X': True, 'fit_intercept': False}\n",
      "Среднее MSE по кросс-валидации:  <built-in method mean of numpy.ndarray object at 0x7f1f4359f8d0>\n",
      "CPU times: user 1.01 s, sys: 2.1 s, total: 3.12 s\n",
      "Wall time: 3.09 s\n"
     ]
    }
   ],
   "source": [
    "%%time\n",
    "grid_lr = GridSearchCV(LinearRegression(), param_grid=lr_parameters, refit=False,\n",
    "                       scoring='neg_mean_squared_error', cv=tscv)\n",
    "grid_lr.fit(features_train, target_train)\n",
    "\n",
    "best_parameters_lr = grid_lr.best_params_\n",
    "lr_m = LinearRegression(**best_parameters_lr)\n",
    "lr_m.fit(features_train, target_train)\n",
    "\n",
    "mse_scores = cross_val_score(lr_m, features_train, target_train, scoring='neg_mean_squared_error', cv=tscv)\n",
    "mean_mse = mse_scores.mean\n",
    "\n",
    "test_pred_lr = lr_m.predict(features_test)\n",
    "\n",
    "print('Лучшие гиперпараметры: ', best_parameters_lr)\n",
    "print('Среднее MSE по кросс-валидации: ', mean_mse)"
   ]
  },
  {
   "cell_type": "markdown",
   "metadata": {},
   "source": [
    "**Случайный лес**"
   ]
  },
  {
   "cell_type": "code",
   "execution_count": 21,
   "metadata": {},
   "outputs": [],
   "source": [
    "rf_params = {\n",
    "        'n_estimators': range(5, 30, 5),\n",
    "        'max_depth': range(1, 15, 2),\n",
    "        'verbose': [0],\n",
    "        'random_state': [RND] \n",
    "        }\n"
   ]
  },
  {
   "cell_type": "code",
   "execution_count": 22,
   "metadata": {},
   "outputs": [
    {
     "name": "stdout",
     "output_type": "stream",
     "text": [
      "Лучшие гиперпараметры:  {'max_depth': 13, 'n_estimators': 20, 'random_state': 12345, 'verbose': 0}\n",
      "CPU times: user 38.6 s, sys: 58.5 ms, total: 38.7 s\n",
      "Wall time: 39.7 s\n"
     ]
    }
   ],
   "source": [
    "%%time\n",
    "rf_grid = GridSearchCV(RandomForestRegressor(), param_grid = rf_params, refit=False,\\\n",
    "                       scoring='neg_mean_squared_error', cv=tscv)\n",
    "rf_grid.fit(features_train, target_train)\n",
    "\n",
    "rf_best_params = rf_grid.best_params_\n",
    "rf_m = RandomForestRegressor(**rf_best_params)\n",
    "rf_m.fit(features_train, target_train)\n",
    "    \n",
    "rf_test_pred = rf_m.predict(features_test)\n",
    "\n",
    "print('Лучшие гиперпараметры: ', rf_best_params)"
   ]
  },
  {
   "cell_type": "markdown",
   "metadata": {},
   "source": [
    "**CatBoostRegressor**"
   ]
  },
  {
   "cell_type": "code",
   "execution_count": 23,
   "metadata": {},
   "outputs": [
    {
     "name": "stdout",
     "output_type": "stream",
     "text": [
      "Лучшие параметры на обучающем наборе данных:\n",
      "\n",
      "{'learning_rate': 0.1, 'random_state': 1234, 'verbose': False}\n",
      "\n",
      "Оценка комбинаций гиперпараметров на обучающей выборке:\n",
      "\n",
      "24.947026 для {'learning_rate': 0.1, 'random_state': 1234, 'verbose': False}\n",
      "25.424824 для {'learning_rate': 0.2, 'random_state': 1234, 'verbose': False}\n",
      "25.658823 для {'learning_rate': 0.3, 'random_state': 1234, 'verbose': False}\n",
      "\n",
      "CPU times: user 1min 9s, sys: 1.06 s, total: 1min 10s\n",
      "Wall time: 1min 33s\n"
     ]
    }
   ],
   "source": [
    "%%time\n",
    "\n",
    "# создаем модель CatBoostRegressor\n",
    "model_cb = CatBoostRegressor() \n",
    "\n",
    "cb_params = [{'learning_rate':[0.1, 0.2, 0.3],\n",
    "                'random_state':[1234],\n",
    "                'verbose':[False]}]\n",
    "\n",
    "tscv = TimeSeriesSplit(n_splits=5)\n",
    "\n",
    "cb_grid = GridSearchCV(model_cb, cb_params, scoring='neg_mean_squared_error', cv=tscv)\n",
    "cb_grid.fit(features_train, target_train)\n",
    "\n",
    "print(\"Лучшие параметры на обучающем наборе данных:\")\n",
    "print()\n",
    "print(cb_grid.best_params_)\n",
    "print()\n",
    "print(\"Оценка комбинаций гиперпараметров на обучающей выборке:\")\n",
    "print()\n",
    "means = cb_grid.cv_results_['mean_test_score']\n",
    "stds = cb_grid.cv_results_['std_test_score']\n",
    "for mean, std, params in zip(means, stds, cb_grid.cv_results_['params']):\n",
    "    print(\"%0.6f для %r\"% ((mean*-1)** 0.5, params))\n",
    "print()\n",
    "\n",
    "cv_rmse_cb_ordinal = (max(means)*-1) ** 0.5"
   ]
  },
  {
   "cell_type": "code",
   "execution_count": 24,
   "metadata": {},
   "outputs": [
    {
     "name": "stdout",
     "output_type": "stream",
     "text": [
      "Среднее значение RMSE при перекрестной проверке для CatBoostRegressor = 24.874799603623753\n",
      "CPU times: user 10.6 s, sys: 152 ms, total: 10.7 s\n",
      "Wall time: 17.2 s\n"
     ]
    }
   ],
   "source": [
    "%%time\n",
    "\n",
    "model_cb = CatBoostRegressor(learning_rate=0.1,\n",
    "                              iterations = 500,\n",
    "                              random_state=1234, \n",
    "                              verbose=False, \n",
    "                              ) \n",
    "tscv = TimeSeriesSplit(n_splits=5)\n",
    "cv_rmse_cb_ordinal = (cross_val_score(model_cb,\n",
    "                                      features_train,\n",
    "                                      target_train,\n",
    "                                      cv=tscv,\n",
    "                                      scoring='neg_mean_squared_error').mean() * -1) ** 0.5\n",
    "print('Среднее значение RMSE при перекрестной проверке для CatBoostRegressor =', cv_rmse_cb_ordinal)"
   ]
  },
  {
   "cell_type": "markdown",
   "metadata": {},
   "source": [
    "## Тестирование"
   ]
  },
  {
   "cell_type": "markdown",
   "metadata": {},
   "source": [
    "**Тестирование модели линейной регрессии**"
   ]
  },
  {
   "cell_type": "code",
   "execution_count": 25,
   "metadata": {},
   "outputs": [
    {
     "name": "stdout",
     "output_type": "stream",
     "text": [
      "45.1744169554933\n"
     ]
    },
    {
     "data": {
      "image/png": "[encoded data removed]",
      "text/plain": [
       "<Figure size 936x576 with 1 Axes>"
      ]
     },
     "metadata": {
      "needs_background": "light"
     },
     "output_type": "display_data"
    }
   ],
   "source": [
    "model_lr = LinearRegression()\n",
    "model_lr.fit(features_train, target_train)\n",
    "target_predict = model_lr.predict(features_test)\n",
    "rmse_lr = mean_squared_error(target_test, target_predict) ** 0.5\n",
    "print(rmse_lr)\n",
    "plt.figure(figsize=figsize)\n",
    "plt.plot(target_test.index, target_test, 'b-', target_test.index, target_predict,'r-')\n",
    "plt.show()"
   ]
  },
  {
   "cell_type": "markdown",
   "metadata": {},
   "source": [
    "**Тестирование модели случайного леса**"
   ]
  },
  {
   "cell_type": "code",
   "execution_count": 29,
   "metadata": {},
   "outputs": [
    {
     "name": "stdout",
     "output_type": "stream",
     "text": [
      "45.1716491595106\n"
     ]
    },
    {
     "data": {
      "image/png": "[encoded data removed]",
      "text/plain": [
       "<Figure size 936x576 with 1 Axes>"
      ]
     },
     "metadata": {
      "needs_background": "light"
     },
     "output_type": "display_data"
    },
    {
     "name": "stdout",
     "output_type": "stream",
     "text": [
      "CPU times: user 1.09 s, sys: 20 ms, total: 1.11 s\n",
      "Wall time: 1.11 s\n"
     ]
    }
   ],
   "source": [
    "%%time\n",
    "\n",
    "model_rf = RandomForestRegressor(random_state=42,\n",
    "                                     max_depth= 13,\n",
    "                                     n_estimators = 20)\n",
    "\n",
    "model_rf.fit(features_train, target_train)\n",
    "model_rf_predictions = model_rf.predict(features_test)\n",
    "\n",
    "rmse_forest = np.sqrt(mean_squared_error(target_test, model_rf_predictions))\n",
    "print(rmse_forest)\n",
    "\n",
    "plt.figure(figsize=figsize)\n",
    "plt.plot(target_test.index, target_test, 'b-', target_test.index, model_rf_predictions,'r-')\n",
    "plt.show()"
   ]
  },
  {
   "cell_type": "markdown",
   "metadata": {},
   "source": [
    "**Тестирование модели CatBoostRegressor**"
   ]
  },
  {
   "cell_type": "code",
   "execution_count": 27,
   "metadata": {},
   "outputs": [
    {
     "name": "stdout",
     "output_type": "stream",
     "text": [
      "43.862580569602045\n"
     ]
    },
    {
     "data": {
      "image/png": "[encoded data removed]",
      "text/plain": [
       "<Figure size 936x576 with 1 Axes>"
      ]
     },
     "metadata": {
      "needs_background": "light"
     },
     "output_type": "display_data"
    }
   ],
   "source": [
    "model_cb = CatBoostRegressor(depth = 3, iterations = 300, learning_rate = 0.1, verbose= False)\n",
    "model_cb.fit(features_train, target_train)\n",
    "model_cb_predict = model_cb.predict(features_test)\n",
    "rmse_cb = mean_squared_error(target_test, model_cb_predict) ** 0.5\n",
    "print(rmse_cb)\n",
    "plt.figure(figsize=figsize)\n",
    "plt.plot(target_test.index, target_test, 'b-', target_test.index, model_cb_predict,'r-')\n",
    "plt.show()"
   ]
  },
  {
   "cell_type": "code",
   "execution_count": 28,
   "metadata": {},
   "outputs": [
    {
     "data": {
      "text/html": [
       "<div>\n",
       "<style scoped>\n",
       "    .dataframe tbody tr th:only-of-type {\n",
       "        vertical-align: middle;\n",
       "    }\n",
       "\n",
       "    .dataframe tbody tr th {\n",
       "        vertical-align: top;\n",
       "    }\n",
       "\n",
       "    .dataframe thead th {\n",
       "        text-align: right;\n",
       "    }\n",
       "</style>\n",
       "<table border=\"1\" class=\"dataframe\">\n",
       "  <thead>\n",
       "    <tr style=\"text-align: right;\">\n",
       "      <th></th>\n",
       "      <th>model</th>\n",
       "      <th>testing_rmse</th>\n",
       "    </tr>\n",
       "  </thead>\n",
       "  <tbody>\n",
       "    <tr>\n",
       "      <th>0</th>\n",
       "      <td>Linear Regression</td>\n",
       "      <td>45.174417</td>\n",
       "    </tr>\n",
       "    <tr>\n",
       "      <th>1</th>\n",
       "      <td>Random Forest</td>\n",
       "      <td>45.171649</td>\n",
       "    </tr>\n",
       "    <tr>\n",
       "      <th>2</th>\n",
       "      <td>CatBoost</td>\n",
       "      <td>43.862581</td>\n",
       "    </tr>\n",
       "  </tbody>\n",
       "</table>\n",
       "</div>"
      ],
      "text/plain": [
       "               model  testing_rmse\n",
       "0  Linear Regression     45.174417\n",
       "1      Random Forest     45.171649\n",
       "2           CatBoost     43.862581"
      ]
     },
     "execution_count": 28,
     "metadata": {},
     "output_type": "execute_result"
    }
   ],
   "source": [
    "predictive_model_scores = pd.DataFrame(data=[('Linear Regression', rmse_lr),\n",
    "                                             ('Random Forest', rmse_forest),\n",
    "                                             ('CatBoost', rmse_cb)],\n",
    "                                       columns=['model', 'testing_rmse'])\n",
    "predictive_model_scores"
   ]
  },
  {
   "cell_type": "markdown",
   "metadata": {},
   "source": [
    "Все модели проходят по условиям задачи необходимого значения метрики RMSE на тестовой выборке не больше 48. "
   ]
  },
  {
   "cell_type": "markdown",
   "metadata": {},
   "source": [
    "**Вывод:** <br>\n",
    "Лучший результат получила модель CatBoost со значением 43.86"
   ]
  }
 ],
 "metadata": {
  "ExecuteTimeLog": [
   {
    "duration": 2216,
    "start_time": "2023-07-31T11:18:31.852Z"
   },
   {
    "duration": 195,
    "start_time": "2023-07-31T11:26:31.757Z"
   },
   {
    "duration": 27,
    "start_time": "2023-07-31T11:29:26.110Z"
   },
   {
    "duration": 18,
    "start_time": "2023-07-31T11:29:36.646Z"
   },
   {
    "duration": 137,
    "start_time": "2023-07-31T11:31:00.750Z"
   },
   {
    "duration": 1901,
    "start_time": "2023-07-31T11:39:52.161Z"
   },
   {
    "duration": 14,
    "start_time": "2023-07-31T11:40:24.164Z"
   },
   {
    "duration": 18,
    "start_time": "2023-07-31T11:40:43.066Z"
   },
   {
    "duration": 423,
    "start_time": "2023-07-31T11:48:31.550Z"
   },
   {
    "duration": 284,
    "start_time": "2023-07-31T11:48:37.575Z"
   },
   {
    "duration": 792,
    "start_time": "2023-07-31T12:05:41.954Z"
   },
   {
    "duration": 874,
    "start_time": "2023-07-31T12:09:03.253Z"
   },
   {
    "duration": 723,
    "start_time": "2023-07-31T12:09:29.673Z"
   },
   {
    "duration": 20,
    "start_time": "2023-07-31T13:10:00.801Z"
   },
   {
    "duration": 9,
    "start_time": "2023-07-31T13:20:50.763Z"
   },
   {
    "duration": 454,
    "start_time": "2023-07-31T13:51:11.349Z"
   },
   {
    "duration": 300,
    "start_time": "2023-07-31T14:20:38.593Z"
   },
   {
    "duration": 24,
    "start_time": "2023-07-31T15:55:53.117Z"
   },
   {
    "duration": 25,
    "start_time": "2023-07-31T15:57:31.520Z"
   },
   {
    "duration": 6,
    "start_time": "2023-07-31T15:57:40.251Z"
   },
   {
    "duration": 148,
    "start_time": "2023-07-31T15:57:40.260Z"
   },
   {
    "duration": 20,
    "start_time": "2023-07-31T15:57:40.410Z"
   },
   {
    "duration": 10,
    "start_time": "2023-07-31T15:57:40.432Z"
   },
   {
    "duration": 26,
    "start_time": "2023-07-31T15:57:40.445Z"
   },
   {
    "duration": 34,
    "start_time": "2023-07-31T15:57:40.473Z"
   },
   {
    "duration": 354,
    "start_time": "2023-07-31T15:57:40.509Z"
   },
   {
    "duration": 923,
    "start_time": "2023-07-31T15:57:40.865Z"
   },
   {
    "duration": 531,
    "start_time": "2023-07-31T15:57:41.790Z"
   },
   {
    "duration": 303,
    "start_time": "2023-07-31T15:57:42.322Z"
   },
   {
    "duration": 26,
    "start_time": "2023-07-31T15:57:50.850Z"
   },
   {
    "duration": 5,
    "start_time": "2023-07-31T15:58:07.667Z"
   },
   {
    "duration": 412,
    "start_time": "2023-07-31T15:58:07.676Z"
   },
   {
    "duration": 24,
    "start_time": "2023-07-31T15:58:08.091Z"
   },
   {
    "duration": 11,
    "start_time": "2023-07-31T15:58:08.118Z"
   },
   {
    "duration": 9,
    "start_time": "2023-07-31T15:58:08.131Z"
   },
   {
    "duration": 27,
    "start_time": "2023-07-31T15:58:08.168Z"
   },
   {
    "duration": 361,
    "start_time": "2023-07-31T15:58:08.197Z"
   },
   {
    "duration": 939,
    "start_time": "2023-07-31T15:58:08.560Z"
   },
   {
    "duration": 536,
    "start_time": "2023-07-31T15:58:09.501Z"
   },
   {
    "duration": 267,
    "start_time": "2023-07-31T15:58:10.039Z"
   },
   {
    "duration": 26,
    "start_time": "2023-07-31T16:31:11.278Z"
   },
   {
    "duration": 117,
    "start_time": "2023-07-31T16:31:29.472Z"
   },
   {
    "duration": 111,
    "start_time": "2023-07-31T16:32:05.988Z"
   },
   {
    "duration": 7,
    "start_time": "2023-07-31T16:32:09.754Z"
   },
   {
    "duration": 115,
    "start_time": "2023-07-31T16:32:09.763Z"
   },
   {
    "duration": 21,
    "start_time": "2023-07-31T16:32:09.881Z"
   },
   {
    "duration": 8,
    "start_time": "2023-07-31T16:32:09.905Z"
   },
   {
    "duration": 10,
    "start_time": "2023-07-31T16:32:09.916Z"
   },
   {
    "duration": 55,
    "start_time": "2023-07-31T16:32:09.928Z"
   },
   {
    "duration": 351,
    "start_time": "2023-07-31T16:32:09.986Z"
   },
   {
    "duration": 1055,
    "start_time": "2023-07-31T16:32:10.340Z"
   },
   {
    "duration": 1599,
    "start_time": "2023-07-31T16:32:11.397Z"
   },
   {
    "duration": 123,
    "start_time": "2023-07-31T16:32:13.001Z"
   },
   {
    "duration": 21,
    "start_time": "2023-07-31T16:32:20.280Z"
   },
   {
    "duration": 2628,
    "start_time": "2023-07-31T16:32:33.885Z"
   },
   {
    "duration": 157,
    "start_time": "2023-07-31T16:32:36.515Z"
   },
   {
    "duration": 36,
    "start_time": "2023-07-31T16:32:36.681Z"
   },
   {
    "duration": 52,
    "start_time": "2023-07-31T16:32:36.719Z"
   },
   {
    "duration": 24,
    "start_time": "2023-07-31T16:32:36.774Z"
   },
   {
    "duration": 78,
    "start_time": "2023-07-31T16:32:36.801Z"
   },
   {
    "duration": 1127,
    "start_time": "2023-07-31T16:32:36.882Z"
   },
   {
    "duration": 1314,
    "start_time": "2023-07-31T16:32:38.012Z"
   },
   {
    "duration": 535,
    "start_time": "2023-07-31T16:32:39.328Z"
   },
   {
    "duration": 168,
    "start_time": "2023-07-31T16:32:39.867Z"
   },
   {
    "duration": 23,
    "start_time": "2023-07-31T16:33:02.569Z"
   },
   {
    "duration": 19,
    "start_time": "2023-07-31T16:33:18.114Z"
   },
   {
    "duration": 21,
    "start_time": "2023-07-31T16:33:27.420Z"
   },
   {
    "duration": 21,
    "start_time": "2023-07-31T16:33:41.936Z"
   },
   {
    "duration": 508,
    "start_time": "2023-07-31T16:33:49.079Z"
   },
   {
    "duration": 623,
    "start_time": "2023-07-31T16:36:22.161Z"
   },
   {
    "duration": 538,
    "start_time": "2023-07-31T16:46:07.289Z"
   },
   {
    "duration": 181,
    "start_time": "2023-07-31T17:00:05.847Z"
   },
   {
    "duration": 557,
    "start_time": "2023-07-31T17:02:43.708Z"
   },
   {
    "duration": 905,
    "start_time": "2023-07-31T17:03:00.862Z"
   },
   {
    "duration": 153,
    "start_time": "2023-07-31T17:16:40.957Z"
   },
   {
    "duration": 18,
    "start_time": "2023-07-31T18:01:34.104Z"
   },
   {
    "duration": 7,
    "start_time": "2023-07-31T18:03:47.875Z"
   },
   {
    "duration": 127,
    "start_time": "2023-07-31T18:03:47.885Z"
   },
   {
    "duration": 24,
    "start_time": "2023-07-31T18:03:48.014Z"
   },
   {
    "duration": 8,
    "start_time": "2023-07-31T18:03:48.041Z"
   },
   {
    "duration": 19,
    "start_time": "2023-07-31T18:03:48.066Z"
   },
   {
    "duration": 38,
    "start_time": "2023-07-31T18:03:48.088Z"
   },
   {
    "duration": 509,
    "start_time": "2023-07-31T18:03:48.129Z"
   },
   {
    "duration": 1117,
    "start_time": "2023-07-31T18:03:48.641Z"
   },
   {
    "duration": 1146,
    "start_time": "2023-07-31T18:03:49.761Z"
   },
   {
    "duration": 1561,
    "start_time": "2023-07-31T18:03:50.909Z"
   },
   {
    "duration": 864,
    "start_time": "2023-07-31T18:03:52.473Z"
   },
   {
    "duration": 6,
    "start_time": "2023-07-31T18:03:53.340Z"
   },
   {
    "duration": 81,
    "start_time": "2023-07-31T18:03:53.348Z"
   },
   {
    "duration": 0,
    "start_time": "2023-07-31T18:03:53.431Z"
   },
   {
    "duration": 0,
    "start_time": "2023-07-31T18:03:53.433Z"
   },
   {
    "duration": 9,
    "start_time": "2023-07-31T18:04:18.455Z"
   },
   {
    "duration": 28,
    "start_time": "2023-07-31T18:04:20.067Z"
   },
   {
    "duration": 10,
    "start_time": "2023-07-31T18:04:22.176Z"
   },
   {
    "duration": 23,
    "start_time": "2023-07-31T18:04:23.862Z"
   },
   {
    "duration": 14,
    "start_time": "2023-07-31T18:04:47.751Z"
   },
   {
    "duration": 39,
    "start_time": "2023-07-31T18:21:20.253Z"
   },
   {
    "duration": 5,
    "start_time": "2023-07-31T18:22:26.755Z"
   },
   {
    "duration": 57,
    "start_time": "2023-07-31T18:22:28.152Z"
   },
   {
    "duration": 9,
    "start_time": "2023-07-31T18:22:33.590Z"
   },
   {
    "duration": 14,
    "start_time": "2023-07-31T18:22:35.094Z"
   },
   {
    "duration": 249,
    "start_time": "2023-07-31T18:22:37.745Z"
   },
   {
    "duration": 2277,
    "start_time": "2023-07-31T18:24:20.449Z"
   },
   {
    "duration": 123,
    "start_time": "2023-07-31T18:24:22.728Z"
   },
   {
    "duration": 36,
    "start_time": "2023-07-31T18:24:22.854Z"
   },
   {
    "duration": 9,
    "start_time": "2023-07-31T18:24:22.893Z"
   },
   {
    "duration": 13,
    "start_time": "2023-07-31T18:24:22.915Z"
   },
   {
    "duration": 47,
    "start_time": "2023-07-31T18:24:22.931Z"
   },
   {
    "duration": 630,
    "start_time": "2023-07-31T18:24:22.983Z"
   },
   {
    "duration": 1083,
    "start_time": "2023-07-31T18:24:23.616Z"
   },
   {
    "duration": 629,
    "start_time": "2023-07-31T18:24:24.702Z"
   },
   {
    "duration": 425,
    "start_time": "2023-07-31T18:24:25.333Z"
   },
   {
    "duration": 488,
    "start_time": "2023-07-31T18:24:25.766Z"
   },
   {
    "duration": 12,
    "start_time": "2023-07-31T18:24:26.256Z"
   },
   {
    "duration": 80,
    "start_time": "2023-07-31T18:24:26.270Z"
   },
   {
    "duration": 22,
    "start_time": "2023-07-31T18:24:26.353Z"
   },
   {
    "duration": 13,
    "start_time": "2023-07-31T18:24:26.378Z"
   },
   {
    "duration": 2723,
    "start_time": "2023-07-31T18:32:05.763Z"
   },
   {
    "duration": 112,
    "start_time": "2023-07-31T18:32:08.488Z"
   },
   {
    "duration": 24,
    "start_time": "2023-07-31T18:32:08.602Z"
   },
   {
    "duration": 9,
    "start_time": "2023-07-31T18:32:08.628Z"
   },
   {
    "duration": 40,
    "start_time": "2023-07-31T18:32:08.640Z"
   },
   {
    "duration": 24,
    "start_time": "2023-07-31T18:32:08.682Z"
   },
   {
    "duration": 496,
    "start_time": "2023-07-31T18:32:08.709Z"
   },
   {
    "duration": 845,
    "start_time": "2023-07-31T18:32:09.208Z"
   },
   {
    "duration": 557,
    "start_time": "2023-07-31T18:32:10.054Z"
   },
   {
    "duration": 390,
    "start_time": "2023-07-31T18:32:10.614Z"
   },
   {
    "duration": 508,
    "start_time": "2023-07-31T18:32:11.006Z"
   },
   {
    "duration": 5,
    "start_time": "2023-07-31T18:32:11.516Z"
   },
   {
    "duration": 84,
    "start_time": "2023-07-31T18:32:11.523Z"
   },
   {
    "duration": 9,
    "start_time": "2023-07-31T18:32:11.610Z"
   },
   {
    "duration": 18,
    "start_time": "2023-07-31T18:32:11.621Z"
   },
   {
    "duration": 2362,
    "start_time": "2023-07-31T18:47:17.556Z"
   },
   {
    "duration": 169,
    "start_time": "2023-07-31T18:47:19.921Z"
   },
   {
    "duration": 32,
    "start_time": "2023-07-31T18:47:20.099Z"
   },
   {
    "duration": 8,
    "start_time": "2023-07-31T18:47:20.134Z"
   },
   {
    "duration": 37,
    "start_time": "2023-07-31T18:47:20.145Z"
   },
   {
    "duration": 26,
    "start_time": "2023-07-31T18:47:20.185Z"
   },
   {
    "duration": 624,
    "start_time": "2023-07-31T18:47:20.214Z"
   },
   {
    "duration": 1112,
    "start_time": "2023-07-31T18:47:20.840Z"
   },
   {
    "duration": 794,
    "start_time": "2023-07-31T18:47:21.955Z"
   },
   {
    "duration": 594,
    "start_time": "2023-07-31T18:47:22.751Z"
   },
   {
    "duration": 779,
    "start_time": "2023-07-31T18:47:23.348Z"
   },
   {
    "duration": 9,
    "start_time": "2023-07-31T18:47:24.132Z"
   },
   {
    "duration": 137,
    "start_time": "2023-07-31T18:47:24.143Z"
   },
   {
    "duration": 16,
    "start_time": "2023-07-31T18:47:24.284Z"
   },
   {
    "duration": 42,
    "start_time": "2023-07-31T18:47:24.302Z"
   },
   {
    "duration": 167,
    "start_time": "2023-07-31T18:47:24.347Z"
   },
   {
    "duration": 342,
    "start_time": "2023-07-31T18:47:24.532Z"
   },
   {
    "duration": 0,
    "start_time": "2023-07-31T18:47:24.880Z"
   },
   {
    "duration": 0,
    "start_time": "2023-07-31T18:47:24.888Z"
   },
   {
    "duration": 7,
    "start_time": "2023-07-31T18:48:05.559Z"
   },
   {
    "duration": 21,
    "start_time": "2023-07-31T18:48:12.597Z"
   },
   {
    "duration": 8,
    "start_time": "2023-07-31T18:48:32.860Z"
   },
   {
    "duration": 6,
    "start_time": "2023-07-31T18:48:38.852Z"
   },
   {
    "duration": 5,
    "start_time": "2023-07-31T18:48:41.520Z"
   },
   {
    "duration": 9964,
    "start_time": "2023-07-31T18:48:43.321Z"
   },
   {
    "duration": 149,
    "start_time": "2023-07-31T18:49:56.807Z"
   },
   {
    "duration": 37,
    "start_time": "2023-07-31T18:50:32.384Z"
   },
   {
    "duration": 168,
    "start_time": "2023-07-31T18:50:37.062Z"
   },
   {
    "duration": 4,
    "start_time": "2023-07-31T18:51:04.001Z"
   },
   {
    "duration": 2052,
    "start_time": "2023-07-31T18:54:08.252Z"
   },
   {
    "duration": 114,
    "start_time": "2023-07-31T18:54:10.306Z"
   },
   {
    "duration": 138,
    "start_time": "2023-07-31T18:54:10.422Z"
   },
   {
    "duration": 14,
    "start_time": "2023-07-31T18:54:10.564Z"
   },
   {
    "duration": 26,
    "start_time": "2023-07-31T18:54:10.583Z"
   },
   {
    "duration": 26,
    "start_time": "2023-07-31T18:54:10.613Z"
   },
   {
    "duration": 546,
    "start_time": "2023-07-31T18:54:10.642Z"
   },
   {
    "duration": 946,
    "start_time": "2023-07-31T18:54:11.192Z"
   },
   {
    "duration": 736,
    "start_time": "2023-07-31T18:54:12.140Z"
   },
   {
    "duration": 614,
    "start_time": "2023-07-31T18:54:12.880Z"
   },
   {
    "duration": 579,
    "start_time": "2023-07-31T18:54:13.496Z"
   },
   {
    "duration": 13,
    "start_time": "2023-07-31T18:54:14.084Z"
   },
   {
    "duration": 99,
    "start_time": "2023-07-31T18:54:14.107Z"
   },
   {
    "duration": 19,
    "start_time": "2023-07-31T18:54:14.208Z"
   },
   {
    "duration": 24,
    "start_time": "2023-07-31T18:54:14.230Z"
   },
   {
    "duration": 239,
    "start_time": "2023-07-31T18:54:14.256Z"
   },
   {
    "duration": 15,
    "start_time": "2023-07-31T18:54:14.506Z"
   },
   {
    "duration": 9,
    "start_time": "2023-07-31T18:54:14.570Z"
   },
   {
    "duration": 11983,
    "start_time": "2023-07-31T18:54:14.586Z"
   },
   {
    "duration": 18,
    "start_time": "2023-07-31T18:54:26.579Z"
   },
   {
    "duration": 1963,
    "start_time": "2023-07-31T19:02:39.164Z"
   },
   {
    "duration": 121,
    "start_time": "2023-07-31T19:02:41.129Z"
   },
   {
    "duration": 136,
    "start_time": "2023-07-31T19:02:41.252Z"
   },
   {
    "duration": 12,
    "start_time": "2023-07-31T19:02:41.394Z"
   },
   {
    "duration": 16,
    "start_time": "2023-07-31T19:02:41.413Z"
   },
   {
    "duration": 70,
    "start_time": "2023-07-31T19:02:41.431Z"
   },
   {
    "duration": 395,
    "start_time": "2023-07-31T19:02:41.504Z"
   },
   {
    "duration": 873,
    "start_time": "2023-07-31T19:02:41.902Z"
   },
   {
    "duration": 589,
    "start_time": "2023-07-31T19:02:42.776Z"
   },
   {
    "duration": 527,
    "start_time": "2023-07-31T19:02:43.368Z"
   },
   {
    "duration": 464,
    "start_time": "2023-07-31T19:02:43.909Z"
   },
   {
    "duration": 16,
    "start_time": "2023-07-31T19:02:44.375Z"
   },
   {
    "duration": 111,
    "start_time": "2023-07-31T19:02:44.400Z"
   },
   {
    "duration": 20,
    "start_time": "2023-07-31T19:02:44.513Z"
   },
   {
    "duration": 14,
    "start_time": "2023-07-31T19:02:44.536Z"
   },
   {
    "duration": 147,
    "start_time": "2023-07-31T19:02:44.552Z"
   },
   {
    "duration": 68,
    "start_time": "2023-07-31T19:02:44.710Z"
   },
   {
    "duration": 7,
    "start_time": "2023-07-31T19:02:44.794Z"
   },
   {
    "duration": 12198,
    "start_time": "2023-07-31T19:02:44.806Z"
   },
   {
    "duration": 4,
    "start_time": "2023-07-31T19:02:57.010Z"
   },
   {
    "duration": 14,
    "start_time": "2023-07-31T19:02:57.077Z"
   },
   {
    "duration": 309,
    "start_time": "2023-07-31T19:02:57.094Z"
   },
   {
    "duration": 83,
    "start_time": "2023-07-31T19:03:36.917Z"
   },
   {
    "duration": 2188,
    "start_time": "2023-07-31T19:03:50.856Z"
   },
   {
    "duration": 145,
    "start_time": "2023-07-31T19:03:53.047Z"
   },
   {
    "duration": 29,
    "start_time": "2023-07-31T19:03:53.195Z"
   },
   {
    "duration": 7,
    "start_time": "2023-07-31T19:03:53.226Z"
   },
   {
    "duration": 38,
    "start_time": "2023-07-31T19:03:53.235Z"
   },
   {
    "duration": 34,
    "start_time": "2023-07-31T19:03:53.279Z"
   },
   {
    "duration": 418,
    "start_time": "2023-07-31T19:03:53.315Z"
   },
   {
    "duration": 1010,
    "start_time": "2023-07-31T19:03:53.735Z"
   },
   {
    "duration": 668,
    "start_time": "2023-07-31T19:03:54.746Z"
   },
   {
    "duration": 515,
    "start_time": "2023-07-31T19:03:55.416Z"
   },
   {
    "duration": 412,
    "start_time": "2023-07-31T19:03:55.933Z"
   },
   {
    "duration": 5,
    "start_time": "2023-07-31T19:03:56.346Z"
   },
   {
    "duration": 90,
    "start_time": "2023-07-31T19:03:56.353Z"
   },
   {
    "duration": 11,
    "start_time": "2023-07-31T19:03:56.447Z"
   },
   {
    "duration": 47,
    "start_time": "2023-07-31T19:03:56.460Z"
   },
   {
    "duration": 190,
    "start_time": "2023-07-31T19:03:56.510Z"
   },
   {
    "duration": 6,
    "start_time": "2023-07-31T19:03:56.703Z"
   },
   {
    "duration": 93,
    "start_time": "2023-07-31T19:03:56.711Z"
   },
   {
    "duration": 10295,
    "start_time": "2023-07-31T19:03:56.806Z"
   },
   {
    "duration": 5,
    "start_time": "2023-07-31T19:04:07.166Z"
   },
   {
    "duration": 13,
    "start_time": "2023-07-31T19:04:07.181Z"
   },
   {
    "duration": 149523,
    "start_time": "2023-07-31T19:04:07.204Z"
   },
   {
    "duration": 4,
    "start_time": "2023-07-31T19:07:32.005Z"
   },
   {
    "duration": 1973,
    "start_time": "2023-07-31T19:08:59.175Z"
   },
   {
    "duration": 111,
    "start_time": "2023-07-31T19:09:01.151Z"
   },
   {
    "duration": 29,
    "start_time": "2023-07-31T19:09:01.264Z"
   },
   {
    "duration": 63,
    "start_time": "2023-07-31T19:09:01.295Z"
   },
   {
    "duration": 50,
    "start_time": "2023-07-31T19:09:01.361Z"
   },
   {
    "duration": 45,
    "start_time": "2023-07-31T19:09:01.413Z"
   },
   {
    "duration": 398,
    "start_time": "2023-07-31T19:09:01.459Z"
   },
   {
    "duration": 871,
    "start_time": "2023-07-31T19:09:01.860Z"
   },
   {
    "duration": 581,
    "start_time": "2023-07-31T19:09:02.733Z"
   },
   {
    "duration": 479,
    "start_time": "2023-07-31T19:09:03.316Z"
   },
   {
    "duration": 491,
    "start_time": "2023-07-31T19:09:03.796Z"
   },
   {
    "duration": 9,
    "start_time": "2023-07-31T19:09:04.289Z"
   },
   {
    "duration": 75,
    "start_time": "2023-07-31T19:09:04.300Z"
   },
   {
    "duration": 13,
    "start_time": "2023-07-31T19:09:04.378Z"
   },
   {
    "duration": 12,
    "start_time": "2023-07-31T19:09:04.393Z"
   },
   {
    "duration": 169,
    "start_time": "2023-07-31T19:09:04.406Z"
   },
   {
    "duration": 4,
    "start_time": "2023-07-31T19:09:04.577Z"
   },
   {
    "duration": 88,
    "start_time": "2023-07-31T19:09:04.583Z"
   },
   {
    "duration": 7911,
    "start_time": "2023-07-31T19:09:04.674Z"
   },
   {
    "duration": 6,
    "start_time": "2023-07-31T19:09:12.667Z"
   },
   {
    "duration": 1899,
    "start_time": "2023-07-31T19:11:38.119Z"
   },
   {
    "duration": 112,
    "start_time": "2023-07-31T19:11:40.021Z"
   },
   {
    "duration": 25,
    "start_time": "2023-07-31T19:11:40.134Z"
   },
   {
    "duration": 14,
    "start_time": "2023-07-31T19:11:40.161Z"
   },
   {
    "duration": 21,
    "start_time": "2023-07-31T19:11:40.181Z"
   },
   {
    "duration": 21,
    "start_time": "2023-07-31T19:11:40.203Z"
   },
   {
    "duration": 359,
    "start_time": "2023-07-31T19:11:40.226Z"
   },
   {
    "duration": 820,
    "start_time": "2023-07-31T19:11:40.587Z"
   },
   {
    "duration": 580,
    "start_time": "2023-07-31T19:11:41.409Z"
   },
   {
    "duration": 501,
    "start_time": "2023-07-31T19:11:41.991Z"
   },
   {
    "duration": 368,
    "start_time": "2023-07-31T19:11:42.494Z"
   },
   {
    "duration": 13,
    "start_time": "2023-07-31T19:11:42.873Z"
   },
   {
    "duration": 61,
    "start_time": "2023-07-31T19:11:42.889Z"
   },
   {
    "duration": 22,
    "start_time": "2023-07-31T19:11:42.953Z"
   },
   {
    "duration": 11,
    "start_time": "2023-07-31T19:11:42.983Z"
   },
   {
    "duration": 81,
    "start_time": "2023-07-31T19:11:42.996Z"
   },
   {
    "duration": 90,
    "start_time": "2023-07-31T19:11:43.080Z"
   },
   {
    "duration": 17,
    "start_time": "2023-07-31T19:11:43.174Z"
   },
   {
    "duration": 7782,
    "start_time": "2023-07-31T19:11:43.194Z"
   },
   {
    "duration": 3,
    "start_time": "2023-07-31T19:11:50.978Z"
   },
   {
    "duration": 38343,
    "start_time": "2023-07-31T19:11:50.983Z"
   },
   {
    "duration": 129487,
    "start_time": "2023-07-31T19:12:29.328Z"
   },
   {
    "duration": 267,
    "start_time": "2023-07-31T19:15:16.995Z"
   },
   {
    "duration": 9,
    "start_time": "2023-07-31T19:16:08.464Z"
   },
   {
    "duration": 22045,
    "start_time": "2023-07-31T19:16:17.687Z"
   },
   {
    "duration": 642,
    "start_time": "2023-07-31T19:18:44.224Z"
   },
   {
    "duration": 1992,
    "start_time": "2023-07-31T19:19:01.056Z"
   },
   {
    "duration": 253,
    "start_time": "2023-07-31T19:20:17.997Z"
   },
   {
    "duration": 124,
    "start_time": "2023-07-31T19:22:47.053Z"
   },
   {
    "duration": 109,
    "start_time": "2023-07-31T19:23:19.371Z"
   },
   {
    "duration": 106,
    "start_time": "2023-07-31T19:23:28.173Z"
   },
   {
    "duration": 109,
    "start_time": "2023-07-31T19:23:40.352Z"
   },
   {
    "duration": 132,
    "start_time": "2023-07-31T19:28:44.154Z"
   },
   {
    "duration": 153,
    "start_time": "2023-07-31T19:31:40.669Z"
   },
   {
    "duration": 133,
    "start_time": "2023-07-31T19:33:01.884Z"
   },
   {
    "duration": 3,
    "start_time": "2023-07-31T19:33:34.366Z"
   },
   {
    "duration": 2004,
    "start_time": "2023-07-31T19:33:46.164Z"
   },
   {
    "duration": 105,
    "start_time": "2023-07-31T19:33:48.171Z"
   },
   {
    "duration": 24,
    "start_time": "2023-07-31T19:33:48.278Z"
   },
   {
    "duration": 8,
    "start_time": "2023-07-31T19:33:48.304Z"
   },
   {
    "duration": 13,
    "start_time": "2023-07-31T19:33:48.316Z"
   },
   {
    "duration": 52,
    "start_time": "2023-07-31T19:33:48.331Z"
   },
   {
    "duration": 384,
    "start_time": "2023-07-31T19:33:48.385Z"
   },
   {
    "duration": 849,
    "start_time": "2023-07-31T19:33:48.772Z"
   },
   {
    "duration": 589,
    "start_time": "2023-07-31T19:33:49.623Z"
   },
   {
    "duration": 482,
    "start_time": "2023-07-31T19:33:50.215Z"
   },
   {
    "duration": 433,
    "start_time": "2023-07-31T19:33:50.698Z"
   },
   {
    "duration": 5,
    "start_time": "2023-07-31T19:33:51.133Z"
   },
   {
    "duration": 82,
    "start_time": "2023-07-31T19:33:51.139Z"
   },
   {
    "duration": 9,
    "start_time": "2023-07-31T19:33:51.224Z"
   },
   {
    "duration": 10,
    "start_time": "2023-07-31T19:33:51.235Z"
   },
   {
    "duration": 200,
    "start_time": "2023-07-31T19:33:51.267Z"
   },
   {
    "duration": 7,
    "start_time": "2023-07-31T19:33:51.469Z"
   },
   {
    "duration": 23,
    "start_time": "2023-07-31T19:33:51.478Z"
   },
   {
    "duration": 7666,
    "start_time": "2023-07-31T19:33:51.503Z"
   },
   {
    "duration": 4,
    "start_time": "2023-07-31T19:33:59.171Z"
   },
   {
    "duration": 42050,
    "start_time": "2023-07-31T19:33:59.177Z"
   },
   {
    "duration": 146995,
    "start_time": "2023-07-31T19:34:41.230Z"
   },
   {
    "duration": 23639,
    "start_time": "2023-07-31T19:37:08.227Z"
   },
   {
    "duration": 526,
    "start_time": "2023-07-31T19:37:31.872Z"
   },
   {
    "duration": 308,
    "start_time": "2023-07-31T19:37:32.402Z"
   },
   {
    "duration": 1847,
    "start_time": "2023-07-31T19:37:32.712Z"
   },
   {
    "duration": 138,
    "start_time": "2023-07-31T19:37:34.574Z"
   },
   {
    "duration": 155,
    "start_time": "2023-07-31T19:42:48.357Z"
   },
   {
    "duration": 140,
    "start_time": "2023-07-31T19:42:56.963Z"
   },
   {
    "duration": 5,
    "start_time": "2023-07-31T19:43:01.115Z"
   },
   {
    "duration": 14,
    "start_time": "2023-07-31T19:43:11.173Z"
   },
   {
    "duration": 30,
    "start_time": "2023-07-31T19:43:25.216Z"
   },
   {
    "duration": 30,
    "start_time": "2023-07-31T19:43:51.388Z"
   },
   {
    "duration": 100,
    "start_time": "2023-07-31T19:44:49.923Z"
   },
   {
    "duration": 209,
    "start_time": "2023-07-31T19:44:58.926Z"
   },
   {
    "duration": 172,
    "start_time": "2023-07-31T19:45:41.689Z"
   },
   {
    "duration": 3695,
    "start_time": "2023-07-31T19:47:41.411Z"
   },
   {
    "duration": 209,
    "start_time": "2023-07-31T19:47:45.109Z"
   },
   {
    "duration": 49,
    "start_time": "2023-07-31T19:47:45.321Z"
   },
   {
    "duration": 18,
    "start_time": "2023-07-31T19:47:45.377Z"
   },
   {
    "duration": 27,
    "start_time": "2023-07-31T19:47:45.405Z"
   },
   {
    "duration": 44,
    "start_time": "2023-07-31T19:47:45.444Z"
   },
   {
    "duration": 718,
    "start_time": "2023-07-31T19:47:45.497Z"
   },
   {
    "duration": 1440,
    "start_time": "2023-07-31T19:47:46.223Z"
   },
   {
    "duration": 792,
    "start_time": "2023-07-31T19:47:47.666Z"
   },
   {
    "duration": 769,
    "start_time": "2023-07-31T19:47:48.465Z"
   },
   {
    "duration": 466,
    "start_time": "2023-07-31T19:47:49.237Z"
   },
   {
    "duration": 7,
    "start_time": "2023-07-31T19:47:49.708Z"
   },
   {
    "duration": 118,
    "start_time": "2023-07-31T19:47:49.717Z"
   },
   {
    "duration": 12,
    "start_time": "2023-07-31T19:47:49.842Z"
   },
   {
    "duration": 63,
    "start_time": "2023-07-31T19:47:49.857Z"
   },
   {
    "duration": 284,
    "start_time": "2023-07-31T19:47:49.923Z"
   },
   {
    "duration": 7,
    "start_time": "2023-07-31T19:47:50.231Z"
   },
   {
    "duration": 11,
    "start_time": "2023-07-31T19:47:50.291Z"
   },
   {
    "duration": 10319,
    "start_time": "2023-07-31T19:47:50.374Z"
   },
   {
    "duration": 52,
    "start_time": "2023-07-31T19:48:00.719Z"
   },
   {
    "duration": 45111,
    "start_time": "2023-07-31T19:48:00.785Z"
   },
   {
    "duration": 181454,
    "start_time": "2023-07-31T19:48:45.902Z"
   },
   {
    "duration": 32598,
    "start_time": "2023-07-31T19:51:47.358Z"
   },
   {
    "duration": 565,
    "start_time": "2023-07-31T19:52:19.960Z"
   },
   {
    "duration": 376,
    "start_time": "2023-07-31T19:52:20.528Z"
   },
   {
    "duration": 2554,
    "start_time": "2023-07-31T19:52:20.907Z"
   },
   {
    "duration": 27,
    "start_time": "2023-07-31T19:52:23.463Z"
   },
   {
    "duration": 228,
    "start_time": "2023-07-31T20:00:57.108Z"
   },
   {
    "duration": 2558,
    "start_time": "2023-07-31T20:01:41.615Z"
   },
   {
    "duration": 170,
    "start_time": "2023-07-31T20:01:44.176Z"
   },
   {
    "duration": 40,
    "start_time": "2023-07-31T20:01:44.348Z"
   },
   {
    "duration": 14,
    "start_time": "2023-07-31T20:01:44.391Z"
   },
   {
    "duration": 31,
    "start_time": "2023-07-31T20:01:44.408Z"
   },
   {
    "duration": 58,
    "start_time": "2023-07-31T20:01:44.441Z"
   },
   {
    "duration": 970,
    "start_time": "2023-07-31T20:01:44.501Z"
   },
   {
    "duration": 1924,
    "start_time": "2023-07-31T20:01:45.479Z"
   },
   {
    "duration": 683,
    "start_time": "2023-07-31T20:01:47.414Z"
   },
   {
    "duration": 562,
    "start_time": "2023-07-31T20:01:48.101Z"
   },
   {
    "duration": 475,
    "start_time": "2023-07-31T20:01:48.674Z"
   },
   {
    "duration": 6,
    "start_time": "2023-07-31T20:01:49.151Z"
   },
   {
    "duration": 90,
    "start_time": "2023-07-31T20:01:49.159Z"
   },
   {
    "duration": 26,
    "start_time": "2023-07-31T20:01:49.253Z"
   },
   {
    "duration": 13,
    "start_time": "2023-07-31T20:01:49.285Z"
   },
   {
    "duration": 80,
    "start_time": "2023-07-31T20:01:49.301Z"
   },
   {
    "duration": 14,
    "start_time": "2023-07-31T20:01:49.384Z"
   },
   {
    "duration": 94,
    "start_time": "2023-07-31T20:01:49.410Z"
   },
   {
    "duration": 9672,
    "start_time": "2023-07-31T20:01:49.507Z"
   },
   {
    "duration": 13,
    "start_time": "2023-07-31T20:01:59.182Z"
   },
   {
    "duration": 42616,
    "start_time": "2023-07-31T20:01:59.201Z"
   },
   {
    "duration": 188826,
    "start_time": "2023-07-31T20:02:41.820Z"
   },
   {
    "duration": 33417,
    "start_time": "2023-07-31T20:05:50.648Z"
   },
   {
    "duration": 742,
    "start_time": "2023-07-31T20:06:24.070Z"
   },
   {
    "duration": 471,
    "start_time": "2023-07-31T20:06:24.830Z"
   },
   {
    "duration": 2612,
    "start_time": "2023-07-31T20:06:25.306Z"
   },
   {
    "duration": 21,
    "start_time": "2023-07-31T20:06:27.922Z"
   },
   {
    "duration": 12,
    "start_time": "2023-07-31T20:10:38.223Z"
   },
   {
    "duration": 1342,
    "start_time": "2023-07-31T20:10:47.849Z"
   },
   {
    "duration": 2572,
    "start_time": "2023-07-31T20:11:11.471Z"
   },
   {
    "duration": 207,
    "start_time": "2023-07-31T20:11:14.048Z"
   },
   {
    "duration": 41,
    "start_time": "2023-07-31T20:11:14.258Z"
   },
   {
    "duration": 14,
    "start_time": "2023-07-31T20:11:14.305Z"
   },
   {
    "duration": 15,
    "start_time": "2023-07-31T20:11:14.323Z"
   },
   {
    "duration": 26,
    "start_time": "2023-07-31T20:11:14.345Z"
   },
   {
    "duration": 536,
    "start_time": "2023-07-31T20:11:14.376Z"
   },
   {
    "duration": 1181,
    "start_time": "2023-07-31T20:11:14.913Z"
   },
   {
    "duration": 727,
    "start_time": "2023-07-31T20:11:16.107Z"
   },
   {
    "duration": 608,
    "start_time": "2023-07-31T20:11:16.840Z"
   },
   {
    "duration": 575,
    "start_time": "2023-07-31T20:11:17.454Z"
   },
   {
    "duration": 8,
    "start_time": "2023-07-31T20:11:18.035Z"
   },
   {
    "duration": 107,
    "start_time": "2023-07-31T20:11:18.045Z"
   },
   {
    "duration": 16,
    "start_time": "2023-07-31T20:11:18.154Z"
   },
   {
    "duration": 30,
    "start_time": "2023-07-31T20:11:18.173Z"
   },
   {
    "duration": 193,
    "start_time": "2023-07-31T20:11:18.206Z"
   },
   {
    "duration": 17,
    "start_time": "2023-07-31T20:11:18.419Z"
   },
   {
    "duration": 6,
    "start_time": "2023-07-31T20:11:18.439Z"
   },
   {
    "duration": 8339,
    "start_time": "2023-07-31T20:11:18.447Z"
   },
   {
    "duration": 7,
    "start_time": "2023-07-31T20:11:26.792Z"
   },
   {
    "duration": 46693,
    "start_time": "2023-07-31T20:11:26.804Z"
   },
   {
    "duration": 165377,
    "start_time": "2023-07-31T20:12:13.499Z"
   },
   {
    "duration": 31575,
    "start_time": "2023-07-31T20:14:58.886Z"
   },
   {
    "duration": 567,
    "start_time": "2023-07-31T20:15:30.463Z"
   },
   {
    "duration": 1402,
    "start_time": "2023-07-31T20:15:31.032Z"
   },
   {
    "duration": 2384,
    "start_time": "2023-07-31T20:15:32.438Z"
   },
   {
    "duration": 24,
    "start_time": "2023-07-31T20:15:34.824Z"
   },
   {
    "duration": 1067,
    "start_time": "2023-07-31T20:21:44.564Z"
   },
   {
    "duration": 25,
    "start_time": "2023-07-31T20:21:50.753Z"
   },
   {
    "duration": 1199,
    "start_time": "2023-07-31T20:22:11.910Z"
   },
   {
    "duration": 1263,
    "start_time": "2023-07-31T20:22:29.003Z"
   },
   {
    "duration": 1128,
    "start_time": "2023-07-31T20:25:32.305Z"
   },
   {
    "duration": 11,
    "start_time": "2023-07-31T20:26:12.717Z"
   },
   {
    "duration": 186,
    "start_time": "2023-07-31T20:28:19.448Z"
   },
   {
    "duration": 60,
    "start_time": "2023-07-31T20:29:22.218Z"
   },
   {
    "duration": 23,
    "start_time": "2023-07-31T20:29:23.744Z"
   },
   {
    "duration": 4,
    "start_time": "2023-07-31T20:33:04.773Z"
   },
   {
    "duration": 10750,
    "start_time": "2023-07-31T20:33:05.866Z"
   },
   {
    "duration": 10844,
    "start_time": "2023-07-31T20:38:56.706Z"
   },
   {
    "duration": 9961,
    "start_time": "2023-07-31T20:40:42.459Z"
   },
   {
    "duration": 15,
    "start_time": "2023-07-31T20:41:40.798Z"
   },
   {
    "duration": 132,
    "start_time": "2023-07-31T20:41:40.815Z"
   },
   {
    "duration": 27,
    "start_time": "2023-07-31T20:41:40.949Z"
   },
   {
    "duration": 11,
    "start_time": "2023-07-31T20:41:40.979Z"
   },
   {
    "duration": 21,
    "start_time": "2023-07-31T20:41:40.994Z"
   },
   {
    "duration": 26,
    "start_time": "2023-07-31T20:41:41.021Z"
   },
   {
    "duration": 377,
    "start_time": "2023-07-31T20:41:41.049Z"
   },
   {
    "duration": 1007,
    "start_time": "2023-07-31T20:41:41.428Z"
   },
   {
    "duration": 872,
    "start_time": "2023-07-31T20:41:42.439Z"
   },
   {
    "duration": 1188,
    "start_time": "2023-07-31T20:41:43.322Z"
   },
   {
    "duration": 1400,
    "start_time": "2023-07-31T20:41:44.513Z"
   },
   {
    "duration": 6,
    "start_time": "2023-07-31T20:41:45.915Z"
   },
   {
    "duration": 201,
    "start_time": "2023-07-31T20:41:45.924Z"
   },
   {
    "duration": 55,
    "start_time": "2023-07-31T20:41:46.128Z"
   },
   {
    "duration": 30,
    "start_time": "2023-07-31T20:41:46.193Z"
   },
   {
    "duration": 288,
    "start_time": "2023-07-31T20:41:46.229Z"
   },
   {
    "duration": 21,
    "start_time": "2023-07-31T20:41:46.580Z"
   },
   {
    "duration": 11,
    "start_time": "2023-07-31T20:41:46.680Z"
   },
   {
    "duration": 12173,
    "start_time": "2023-07-31T20:41:46.694Z"
   },
   {
    "duration": 9,
    "start_time": "2023-07-31T20:41:58.872Z"
   },
   {
    "duration": 41841,
    "start_time": "2023-07-31T20:41:58.888Z"
   },
   {
    "duration": 2205,
    "start_time": "2023-07-31T20:45:24.278Z"
   },
   {
    "duration": 145,
    "start_time": "2023-07-31T20:45:26.485Z"
   },
   {
    "duration": 26,
    "start_time": "2023-07-31T20:45:26.632Z"
   },
   {
    "duration": 6,
    "start_time": "2023-07-31T20:45:26.660Z"
   },
   {
    "duration": 16,
    "start_time": "2023-07-31T20:45:26.684Z"
   },
   {
    "duration": 27,
    "start_time": "2023-07-31T20:45:26.709Z"
   },
   {
    "duration": 449,
    "start_time": "2023-07-31T20:45:26.738Z"
   },
   {
    "duration": 972,
    "start_time": "2023-07-31T20:45:27.191Z"
   },
   {
    "duration": 610,
    "start_time": "2023-07-31T20:45:28.171Z"
   },
   {
    "duration": 586,
    "start_time": "2023-07-31T20:45:28.784Z"
   },
   {
    "duration": 447,
    "start_time": "2023-07-31T20:45:29.375Z"
   },
   {
    "duration": 5,
    "start_time": "2023-07-31T20:45:29.828Z"
   },
   {
    "duration": 91,
    "start_time": "2023-07-31T20:45:29.835Z"
   },
   {
    "duration": 10,
    "start_time": "2023-07-31T20:45:29.931Z"
   },
   {
    "duration": 13,
    "start_time": "2023-07-31T20:45:29.944Z"
   },
   {
    "duration": 257,
    "start_time": "2023-07-31T20:45:29.959Z"
   },
   {
    "duration": 21,
    "start_time": "2023-07-31T20:45:30.269Z"
   },
   {
    "duration": 47,
    "start_time": "2023-07-31T20:45:30.300Z"
   },
   {
    "duration": 9729,
    "start_time": "2023-07-31T20:45:30.349Z"
   },
   {
    "duration": 9,
    "start_time": "2023-07-31T20:45:40.090Z"
   },
   {
    "duration": 42380,
    "start_time": "2023-07-31T20:45:40.105Z"
   },
   {
    "duration": 28481,
    "start_time": "2023-07-31T20:49:12.544Z"
   },
   {
    "duration": 593,
    "start_time": "2023-07-31T20:49:41.027Z"
   },
   {
    "duration": 1017,
    "start_time": "2023-07-31T20:49:41.623Z"
   },
   {
    "duration": 2381,
    "start_time": "2023-07-31T20:49:42.642Z"
   },
   {
    "duration": 10,
    "start_time": "2023-07-31T20:49:45.029Z"
   },
   {
    "duration": 169921,
    "start_time": "2023-07-31T20:49:45.044Z"
   },
   {
    "duration": 12,
    "start_time": "2023-07-31T20:53:17.802Z"
   },
   {
    "duration": 42375,
    "start_time": "2023-07-31T20:53:17.822Z"
   },
   {
    "duration": 170364,
    "start_time": "2023-07-31T20:54:00.201Z"
   },
   {
    "duration": 164795,
    "start_time": "2023-07-31T21:22:22.525Z"
   },
   {
    "duration": 51953,
    "start_time": "2023-07-31T21:25:07.323Z"
   },
   {
    "duration": 602,
    "start_time": "2023-07-31T21:25:59.282Z"
   },
   {
    "duration": 2141,
    "start_time": "2023-07-31T21:27:56.169Z"
   },
   {
    "duration": 37,
    "start_time": "2023-07-31T21:27:59.757Z"
   },
   {
    "duration": 1031,
    "start_time": "2023-07-31T21:28:23.121Z"
   },
   {
    "duration": 1031,
    "start_time": "2023-07-31T21:28:52.018Z"
   },
   {
    "duration": 1411,
    "start_time": "2023-07-31T21:29:04.827Z"
   },
   {
    "duration": 15,
    "start_time": "2023-07-31T21:29:11.228Z"
   },
   {
    "duration": 3,
    "start_time": "2023-08-01T05:41:15.349Z"
   },
   {
    "duration": 162,
    "start_time": "2023-08-01T05:41:15.407Z"
   },
   {
    "duration": 6,
    "start_time": "2023-08-01T05:41:15.572Z"
   },
   {
    "duration": 24578,
    "start_time": "2023-08-01T05:41:15.580Z"
   },
   {
    "duration": 194,
    "start_time": "2023-08-01T05:52:07.056Z"
   },
   {
    "duration": 3,
    "start_time": "2023-08-01T06:06:04.153Z"
   },
   {
    "duration": 764,
    "start_time": "2023-08-01T06:12:36.595Z"
   },
   {
    "duration": 263,
    "start_time": "2023-08-01T06:14:25.274Z"
   },
   {
    "duration": 144,
    "start_time": "2023-08-01T06:14:28.219Z"
   },
   {
    "duration": 119,
    "start_time": "2023-08-01T06:14:31.438Z"
   },
   {
    "duration": 234,
    "start_time": "2023-08-01T06:17:41.802Z"
   },
   {
    "duration": 86,
    "start_time": "2023-08-01T06:18:18.622Z"
   },
   {
    "duration": 223,
    "start_time": "2023-08-01T06:21:05.899Z"
   },
   {
    "duration": 106,
    "start_time": "2023-08-01T06:26:33.089Z"
   },
   {
    "duration": 113,
    "start_time": "2023-08-01T06:28:06.045Z"
   },
   {
    "duration": 1888,
    "start_time": "2023-08-01T06:28:19.178Z"
   },
   {
    "duration": 167,
    "start_time": "2023-08-01T06:28:21.068Z"
   },
   {
    "duration": 21,
    "start_time": "2023-08-01T06:28:21.237Z"
   },
   {
    "duration": 20,
    "start_time": "2023-08-01T06:28:21.259Z"
   },
   {
    "duration": 27,
    "start_time": "2023-08-01T06:28:21.281Z"
   },
   {
    "duration": 30,
    "start_time": "2023-08-01T06:28:21.309Z"
   },
   {
    "duration": 325,
    "start_time": "2023-08-01T06:28:21.341Z"
   },
   {
    "duration": 760,
    "start_time": "2023-08-01T06:28:21.668Z"
   },
   {
    "duration": 491,
    "start_time": "2023-08-01T06:28:22.429Z"
   },
   {
    "duration": 395,
    "start_time": "2023-08-01T06:28:22.922Z"
   },
   {
    "duration": 328,
    "start_time": "2023-08-01T06:28:23.319Z"
   },
   {
    "duration": 4,
    "start_time": "2023-08-01T06:28:23.648Z"
   },
   {
    "duration": 51,
    "start_time": "2023-08-01T06:28:23.653Z"
   },
   {
    "duration": 9,
    "start_time": "2023-08-01T06:28:23.708Z"
   },
   {
    "duration": 15,
    "start_time": "2023-08-01T06:28:23.721Z"
   },
   {
    "duration": 299,
    "start_time": "2023-08-01T06:28:23.737Z"
   },
   {
    "duration": 0,
    "start_time": "2023-08-01T06:28:24.037Z"
   },
   {
    "duration": 1,
    "start_time": "2023-08-01T06:28:24.038Z"
   },
   {
    "duration": 0,
    "start_time": "2023-08-01T06:28:24.039Z"
   },
   {
    "duration": 0,
    "start_time": "2023-08-01T06:28:24.040Z"
   },
   {
    "duration": 0,
    "start_time": "2023-08-01T06:28:24.041Z"
   },
   {
    "duration": 1,
    "start_time": "2023-08-01T06:28:24.042Z"
   },
   {
    "duration": 0,
    "start_time": "2023-08-01T06:28:24.043Z"
   },
   {
    "duration": 0,
    "start_time": "2023-08-01T06:28:24.044Z"
   },
   {
    "duration": 0,
    "start_time": "2023-08-01T06:28:24.045Z"
   },
   {
    "duration": 0,
    "start_time": "2023-08-01T06:28:24.046Z"
   },
   {
    "duration": 0,
    "start_time": "2023-08-01T06:28:24.047Z"
   },
   {
    "duration": 10,
    "start_time": "2023-08-01T06:38:53.285Z"
   },
   {
    "duration": 7,
    "start_time": "2023-08-01T06:39:22.954Z"
   },
   {
    "duration": 127,
    "start_time": "2023-08-01T06:39:26.265Z"
   },
   {
    "duration": 9,
    "start_time": "2023-08-01T06:42:00.439Z"
   },
   {
    "duration": 407,
    "start_time": "2023-08-01T06:42:03.094Z"
   },
   {
    "duration": 1710,
    "start_time": "2023-08-01T06:42:29.542Z"
   },
   {
    "duration": 301,
    "start_time": "2023-08-01T06:42:31.254Z"
   },
   {
    "duration": 16,
    "start_time": "2023-08-01T06:42:31.557Z"
   },
   {
    "duration": 21,
    "start_time": "2023-08-01T06:42:31.575Z"
   },
   {
    "duration": 47,
    "start_time": "2023-08-01T06:42:31.598Z"
   },
   {
    "duration": 29,
    "start_time": "2023-08-01T06:42:31.647Z"
   },
   {
    "duration": 373,
    "start_time": "2023-08-01T06:42:31.677Z"
   },
   {
    "duration": 707,
    "start_time": "2023-08-01T06:42:32.052Z"
   },
   {
    "duration": 468,
    "start_time": "2023-08-01T06:42:32.760Z"
   },
   {
    "duration": 385,
    "start_time": "2023-08-01T06:42:33.229Z"
   },
   {
    "duration": 317,
    "start_time": "2023-08-01T06:42:33.617Z"
   },
   {
    "duration": 5,
    "start_time": "2023-08-01T06:42:33.936Z"
   },
   {
    "duration": 69,
    "start_time": "2023-08-01T06:42:33.942Z"
   },
   {
    "duration": 5,
    "start_time": "2023-08-01T06:42:34.014Z"
   },
   {
    "duration": 32,
    "start_time": "2023-08-01T06:42:34.020Z"
   },
   {
    "duration": 258,
    "start_time": "2023-08-01T06:42:34.054Z"
   },
   {
    "duration": 0,
    "start_time": "2023-08-01T06:42:34.317Z"
   },
   {
    "duration": 0,
    "start_time": "2023-08-01T06:42:34.319Z"
   },
   {
    "duration": 0,
    "start_time": "2023-08-01T06:42:34.320Z"
   },
   {
    "duration": 0,
    "start_time": "2023-08-01T06:42:34.321Z"
   },
   {
    "duration": 0,
    "start_time": "2023-08-01T06:42:34.322Z"
   },
   {
    "duration": 0,
    "start_time": "2023-08-01T06:42:34.324Z"
   },
   {
    "duration": 0,
    "start_time": "2023-08-01T06:42:34.325Z"
   },
   {
    "duration": 0,
    "start_time": "2023-08-01T06:42:34.326Z"
   },
   {
    "duration": 0,
    "start_time": "2023-08-01T06:42:34.327Z"
   },
   {
    "duration": 0,
    "start_time": "2023-08-01T06:42:34.328Z"
   },
   {
    "duration": 0,
    "start_time": "2023-08-01T06:42:34.329Z"
   },
   {
    "duration": 10,
    "start_time": "2023-08-01T07:17:57.621Z"
   },
   {
    "duration": 52,
    "start_time": "2023-08-01T07:21:16.955Z"
   },
   {
    "duration": 4,
    "start_time": "2023-08-01T07:21:20.954Z"
   },
   {
    "duration": 8,
    "start_time": "2023-08-01T07:21:22.719Z"
   },
   {
    "duration": 156,
    "start_time": "2023-08-01T07:21:24.942Z"
   },
   {
    "duration": 3,
    "start_time": "2023-08-01T07:21:56.452Z"
   },
   {
    "duration": 120,
    "start_time": "2023-08-01T07:21:58.764Z"
   },
   {
    "duration": 10,
    "start_time": "2023-08-01T07:22:17.618Z"
   },
   {
    "duration": 194,
    "start_time": "2023-08-01T07:22:23.615Z"
   },
   {
    "duration": 5,
    "start_time": "2023-08-01T07:24:56.927Z"
   },
   {
    "duration": 55,
    "start_time": "2023-08-01T07:25:01.118Z"
   },
   {
    "duration": 7,
    "start_time": "2023-08-01T07:25:03.613Z"
   },
   {
    "duration": 9,
    "start_time": "2023-08-01T07:25:05.181Z"
   },
   {
    "duration": 302,
    "start_time": "2023-08-01T07:25:09.359Z"
   },
   {
    "duration": 2361,
    "start_time": "2023-08-01T07:25:28.889Z"
   },
   {
    "duration": 139,
    "start_time": "2023-08-01T07:25:31.252Z"
   },
   {
    "duration": 38,
    "start_time": "2023-08-01T07:25:31.393Z"
   },
   {
    "duration": 57,
    "start_time": "2023-08-01T07:25:31.432Z"
   },
   {
    "duration": 75,
    "start_time": "2023-08-01T07:25:31.492Z"
   },
   {
    "duration": 30,
    "start_time": "2023-08-01T07:25:31.569Z"
   },
   {
    "duration": 417,
    "start_time": "2023-08-01T07:25:31.601Z"
   },
   {
    "duration": 818,
    "start_time": "2023-08-01T07:25:32.020Z"
   },
   {
    "duration": 518,
    "start_time": "2023-08-01T07:25:32.840Z"
   },
   {
    "duration": 489,
    "start_time": "2023-08-01T07:25:33.360Z"
   },
   {
    "duration": 404,
    "start_time": "2023-08-01T07:25:33.851Z"
   },
   {
    "duration": 3,
    "start_time": "2023-08-01T07:25:34.257Z"
   },
   {
    "duration": 71,
    "start_time": "2023-08-01T07:25:34.262Z"
   },
   {
    "duration": 6,
    "start_time": "2023-08-01T07:25:34.340Z"
   },
   {
    "duration": 29,
    "start_time": "2023-08-01T07:25:34.348Z"
   },
   {
    "duration": 557,
    "start_time": "2023-08-01T07:25:34.378Z"
   },
   {
    "duration": 0,
    "start_time": "2023-08-01T07:25:34.939Z"
   },
   {
    "duration": 0,
    "start_time": "2023-08-01T07:25:34.941Z"
   },
   {
    "duration": 0,
    "start_time": "2023-08-01T07:25:34.942Z"
   },
   {
    "duration": 0,
    "start_time": "2023-08-01T07:25:34.943Z"
   },
   {
    "duration": 0,
    "start_time": "2023-08-01T07:25:34.944Z"
   },
   {
    "duration": 0,
    "start_time": "2023-08-01T07:25:34.944Z"
   },
   {
    "duration": 0,
    "start_time": "2023-08-01T07:25:34.945Z"
   },
   {
    "duration": 0,
    "start_time": "2023-08-01T07:25:34.946Z"
   },
   {
    "duration": 0,
    "start_time": "2023-08-01T07:25:34.947Z"
   },
   {
    "duration": 0,
    "start_time": "2023-08-01T07:25:34.949Z"
   },
   {
    "duration": 0,
    "start_time": "2023-08-01T07:25:34.950Z"
   },
   {
    "duration": 6,
    "start_time": "2023-08-01T07:28:11.122Z"
   },
   {
    "duration": 67,
    "start_time": "2023-08-01T07:28:13.484Z"
   },
   {
    "duration": 22,
    "start_time": "2023-08-01T07:28:15.795Z"
   },
   {
    "duration": 9,
    "start_time": "2023-08-01T07:28:16.985Z"
   },
   {
    "duration": 219,
    "start_time": "2023-08-01T07:28:19.293Z"
   },
   {
    "duration": 7,
    "start_time": "2023-08-01T07:28:39.826Z"
   },
   {
    "duration": 153,
    "start_time": "2023-08-01T07:28:39.835Z"
   },
   {
    "duration": 21,
    "start_time": "2023-08-01T07:28:39.989Z"
   },
   {
    "duration": 52,
    "start_time": "2023-08-01T07:28:40.012Z"
   },
   {
    "duration": 17,
    "start_time": "2023-08-01T07:28:40.066Z"
   },
   {
    "duration": 76,
    "start_time": "2023-08-01T07:28:40.084Z"
   },
   {
    "duration": 308,
    "start_time": "2023-08-01T07:28:40.161Z"
   },
   {
    "duration": 814,
    "start_time": "2023-08-01T07:28:40.471Z"
   },
   {
    "duration": 617,
    "start_time": "2023-08-01T07:28:41.286Z"
   },
   {
    "duration": 349,
    "start_time": "2023-08-01T07:28:41.916Z"
   },
   {
    "duration": 374,
    "start_time": "2023-08-01T07:28:42.267Z"
   },
   {
    "duration": 4,
    "start_time": "2023-08-01T07:28:42.642Z"
   },
   {
    "duration": 66,
    "start_time": "2023-08-01T07:28:42.647Z"
   },
   {
    "duration": 16,
    "start_time": "2023-08-01T07:28:42.716Z"
   },
   {
    "duration": 45,
    "start_time": "2023-08-01T07:28:42.734Z"
   },
   {
    "duration": 36,
    "start_time": "2023-08-01T07:28:42.781Z"
   },
   {
    "duration": 139,
    "start_time": "2023-08-01T07:28:42.821Z"
   },
   {
    "duration": 25,
    "start_time": "2023-08-01T07:28:42.963Z"
   },
   {
    "duration": 78,
    "start_time": "2023-08-01T07:28:42.990Z"
   },
   {
    "duration": 0,
    "start_time": "2023-08-01T07:28:43.070Z"
   },
   {
    "duration": 0,
    "start_time": "2023-08-01T07:28:43.070Z"
   },
   {
    "duration": 0,
    "start_time": "2023-08-01T07:28:43.072Z"
   },
   {
    "duration": 0,
    "start_time": "2023-08-01T07:28:43.073Z"
   },
   {
    "duration": 0,
    "start_time": "2023-08-01T07:28:43.073Z"
   },
   {
    "duration": 0,
    "start_time": "2023-08-01T07:28:43.075Z"
   },
   {
    "duration": 0,
    "start_time": "2023-08-01T07:28:43.076Z"
   },
   {
    "duration": 0,
    "start_time": "2023-08-01T07:28:43.076Z"
   },
   {
    "duration": 4657,
    "start_time": "2023-08-01T07:29:42.287Z"
   },
   {
    "duration": 3561,
    "start_time": "2023-08-01T07:29:55.543Z"
   },
   {
    "duration": 2148,
    "start_time": "2023-08-01T07:30:14.841Z"
   },
   {
    "duration": 244,
    "start_time": "2023-08-01T07:30:16.991Z"
   },
   {
    "duration": 21,
    "start_time": "2023-08-01T07:30:17.237Z"
   },
   {
    "duration": 15,
    "start_time": "2023-08-01T07:30:17.259Z"
   },
   {
    "duration": 18,
    "start_time": "2023-08-01T07:30:17.276Z"
   },
   {
    "duration": 42,
    "start_time": "2023-08-01T07:30:17.295Z"
   },
   {
    "duration": 414,
    "start_time": "2023-08-01T07:30:17.340Z"
   },
   {
    "duration": 867,
    "start_time": "2023-08-01T07:30:17.757Z"
   },
   {
    "duration": 517,
    "start_time": "2023-08-01T07:30:18.626Z"
   },
   {
    "duration": 483,
    "start_time": "2023-08-01T07:30:19.145Z"
   },
   {
    "duration": 364,
    "start_time": "2023-08-01T07:30:19.631Z"
   },
   {
    "duration": 5,
    "start_time": "2023-08-01T07:30:19.997Z"
   },
   {
    "duration": 105,
    "start_time": "2023-08-01T07:30:20.004Z"
   },
   {
    "duration": 22,
    "start_time": "2023-08-01T07:30:20.113Z"
   },
   {
    "duration": 32,
    "start_time": "2023-08-01T07:30:20.137Z"
   },
   {
    "duration": 137,
    "start_time": "2023-08-01T07:30:20.171Z"
   },
   {
    "duration": 32,
    "start_time": "2023-08-01T07:30:20.311Z"
   },
   {
    "duration": 121,
    "start_time": "2023-08-01T07:30:20.345Z"
   },
   {
    "duration": 3956,
    "start_time": "2023-08-01T07:30:20.468Z"
   },
   {
    "duration": 83,
    "start_time": "2023-08-01T07:30:24.427Z"
   },
   {
    "duration": 42371,
    "start_time": "2023-08-01T07:30:24.514Z"
   },
   {
    "duration": 111990,
    "start_time": "2023-08-01T07:31:06.886Z"
   },
   {
    "duration": 20859,
    "start_time": "2023-08-01T07:32:58.878Z"
   },
   {
    "duration": 430,
    "start_time": "2023-08-01T07:33:19.738Z"
   },
   {
    "duration": 1299,
    "start_time": "2023-08-01T07:33:20.170Z"
   },
   {
    "duration": 2300,
    "start_time": "2023-08-01T07:33:21.470Z"
   },
   {
    "duration": 0,
    "start_time": "2023-08-01T07:33:23.772Z"
   },
   {
    "duration": 1717,
    "start_time": "2023-08-01T07:36:33.072Z"
   },
   {
    "duration": 8,
    "start_time": "2023-08-01T07:36:34.816Z"
   },
   {
    "duration": 7,
    "start_time": "2023-08-01T07:36:38.446Z"
   },
   {
    "duration": 1170,
    "start_time": "2023-08-01T07:36:44.748Z"
   },
   {
    "duration": 3,
    "start_time": "2023-08-01T07:37:44.415Z"
   },
   {
    "duration": 34,
    "start_time": "2023-08-01T07:37:46.851Z"
   },
   {
    "duration": 6,
    "start_time": "2023-08-01T07:37:49.654Z"
   },
   {
    "duration": 11,
    "start_time": "2023-08-01T07:37:50.920Z"
   },
   {
    "duration": 15,
    "start_time": "2023-08-01T07:37:53.549Z"
   },
   {
    "duration": 3,
    "start_time": "2023-08-01T07:37:57.071Z"
   },
   {
    "duration": 4,
    "start_time": "2023-08-01T07:37:59.211Z"
   },
   {
    "duration": 2700,
    "start_time": "2023-08-01T07:38:00.700Z"
   },
   {
    "duration": 1836,
    "start_time": "2023-08-01T07:38:14.960Z"
   },
   {
    "duration": 94,
    "start_time": "2023-08-01T07:38:16.798Z"
   },
   {
    "duration": 30,
    "start_time": "2023-08-01T07:38:16.894Z"
   },
   {
    "duration": 41,
    "start_time": "2023-08-01T07:38:16.929Z"
   },
   {
    "duration": 14,
    "start_time": "2023-08-01T07:38:16.972Z"
   },
   {
    "duration": 35,
    "start_time": "2023-08-01T07:38:16.987Z"
   },
   {
    "duration": 369,
    "start_time": "2023-08-01T07:38:17.025Z"
   },
   {
    "duration": 831,
    "start_time": "2023-08-01T07:38:17.396Z"
   },
   {
    "duration": 559,
    "start_time": "2023-08-01T07:38:18.230Z"
   },
   {
    "duration": 447,
    "start_time": "2023-08-01T07:38:18.792Z"
   },
   {
    "duration": 360,
    "start_time": "2023-08-01T07:38:19.241Z"
   },
   {
    "duration": 9,
    "start_time": "2023-08-01T07:38:19.604Z"
   },
   {
    "duration": 58,
    "start_time": "2023-08-01T07:38:19.615Z"
   },
   {
    "duration": 4,
    "start_time": "2023-08-01T07:38:19.674Z"
   },
   {
    "duration": 22,
    "start_time": "2023-08-01T07:38:19.680Z"
   },
   {
    "duration": 284,
    "start_time": "2023-08-01T07:38:19.704Z"
   },
   {
    "duration": 0,
    "start_time": "2023-08-01T07:38:19.990Z"
   },
   {
    "duration": 0,
    "start_time": "2023-08-01T07:38:19.991Z"
   },
   {
    "duration": 0,
    "start_time": "2023-08-01T07:38:19.992Z"
   },
   {
    "duration": 0,
    "start_time": "2023-08-01T07:38:19.993Z"
   },
   {
    "duration": 0,
    "start_time": "2023-08-01T07:38:19.994Z"
   },
   {
    "duration": 0,
    "start_time": "2023-08-01T07:38:19.995Z"
   },
   {
    "duration": 0,
    "start_time": "2023-08-01T07:38:19.995Z"
   },
   {
    "duration": 0,
    "start_time": "2023-08-01T07:38:19.996Z"
   },
   {
    "duration": 0,
    "start_time": "2023-08-01T07:38:19.997Z"
   },
   {
    "duration": 0,
    "start_time": "2023-08-01T07:38:19.998Z"
   },
   {
    "duration": 0,
    "start_time": "2023-08-01T07:38:19.999Z"
   },
   {
    "duration": 9,
    "start_time": "2023-08-01T07:39:41.922Z"
   },
   {
    "duration": 4,
    "start_time": "2023-08-01T07:40:17.991Z"
   },
   {
    "duration": 6,
    "start_time": "2023-08-01T07:45:12.420Z"
   },
   {
    "duration": 5,
    "start_time": "2023-08-01T07:47:32.419Z"
   },
   {
    "duration": 3,
    "start_time": "2023-08-01T07:47:39.245Z"
   },
   {
    "duration": 49,
    "start_time": "2023-08-01T07:47:42.149Z"
   },
   {
    "duration": 4,
    "start_time": "2023-08-01T07:48:25.547Z"
   },
   {
    "duration": 10,
    "start_time": "2023-08-01T07:48:29.652Z"
   },
   {
    "duration": 51,
    "start_time": "2023-08-01T07:48:41.288Z"
   },
   {
    "duration": 10,
    "start_time": "2023-08-01T07:48:44.146Z"
   },
   {
    "duration": 64,
    "start_time": "2023-08-01T07:48:50.580Z"
   },
   {
    "duration": 11,
    "start_time": "2023-08-01T07:49:05.547Z"
   },
   {
    "duration": 2173,
    "start_time": "2023-08-01T07:49:16.685Z"
   },
   {
    "duration": 119,
    "start_time": "2023-08-01T07:49:18.860Z"
   },
   {
    "duration": 23,
    "start_time": "2023-08-01T07:49:18.980Z"
   },
   {
    "duration": 14,
    "start_time": "2023-08-01T07:49:19.005Z"
   },
   {
    "duration": 9,
    "start_time": "2023-08-01T07:49:19.021Z"
   },
   {
    "duration": 24,
    "start_time": "2023-08-01T07:49:19.031Z"
   },
   {
    "duration": 318,
    "start_time": "2023-08-01T07:49:19.056Z"
   },
   {
    "duration": 773,
    "start_time": "2023-08-01T07:49:19.375Z"
   },
   {
    "duration": 487,
    "start_time": "2023-08-01T07:49:20.150Z"
   },
   {
    "duration": 409,
    "start_time": "2023-08-01T07:49:20.638Z"
   },
   {
    "duration": 323,
    "start_time": "2023-08-01T07:49:21.049Z"
   },
   {
    "duration": 4,
    "start_time": "2023-08-01T07:49:21.373Z"
   },
   {
    "duration": 65,
    "start_time": "2023-08-01T07:49:21.378Z"
   },
   {
    "duration": 2,
    "start_time": "2023-08-01T07:49:21.446Z"
   },
   {
    "duration": 174,
    "start_time": "2023-08-01T07:49:21.449Z"
   },
   {
    "duration": 0,
    "start_time": "2023-08-01T07:49:21.625Z"
   },
   {
    "duration": 0,
    "start_time": "2023-08-01T07:49:21.627Z"
   },
   {
    "duration": 0,
    "start_time": "2023-08-01T07:49:21.628Z"
   },
   {
    "duration": 0,
    "start_time": "2023-08-01T07:49:21.629Z"
   },
   {
    "duration": 0,
    "start_time": "2023-08-01T07:49:21.630Z"
   },
   {
    "duration": 0,
    "start_time": "2023-08-01T07:49:21.632Z"
   },
   {
    "duration": 0,
    "start_time": "2023-08-01T07:49:21.633Z"
   },
   {
    "duration": 0,
    "start_time": "2023-08-01T07:49:21.634Z"
   },
   {
    "duration": 0,
    "start_time": "2023-08-01T07:49:21.635Z"
   },
   {
    "duration": 0,
    "start_time": "2023-08-01T07:49:21.636Z"
   },
   {
    "duration": 0,
    "start_time": "2023-08-01T07:49:21.637Z"
   },
   {
    "duration": 0,
    "start_time": "2023-08-01T07:49:21.638Z"
   },
   {
    "duration": 3,
    "start_time": "2023-08-01T07:50:19.367Z"
   },
   {
    "duration": 51,
    "start_time": "2023-08-01T07:50:22.886Z"
   },
   {
    "duration": 10,
    "start_time": "2023-08-01T07:50:26.351Z"
   },
   {
    "duration": 7,
    "start_time": "2023-08-01T07:50:37.957Z"
   },
   {
    "duration": 507,
    "start_time": "2023-08-01T07:50:41.553Z"
   },
   {
    "duration": 2,
    "start_time": "2023-08-01T07:53:10.363Z"
   },
   {
    "duration": 6,
    "start_time": "2023-08-01T07:53:11.617Z"
   },
   {
    "duration": 45,
    "start_time": "2023-08-01T07:53:13.843Z"
   },
   {
    "duration": 11,
    "start_time": "2023-08-01T07:53:16.609Z"
   },
   {
    "duration": 17,
    "start_time": "2023-08-01T07:53:20.665Z"
   },
   {
    "duration": 7,
    "start_time": "2023-08-01T07:53:31.943Z"
   },
   {
    "duration": 8,
    "start_time": "2023-08-01T07:53:33.348Z"
   },
   {
    "duration": 187,
    "start_time": "2023-08-01T07:53:35.413Z"
   },
   {
    "duration": 1916,
    "start_time": "2023-08-01T07:53:59.811Z"
   },
   {
    "duration": 362,
    "start_time": "2023-08-01T07:54:01.729Z"
   },
   {
    "duration": 24,
    "start_time": "2023-08-01T07:54:02.093Z"
   },
   {
    "duration": 21,
    "start_time": "2023-08-01T07:54:02.118Z"
   },
   {
    "duration": 52,
    "start_time": "2023-08-01T07:54:02.141Z"
   },
   {
    "duration": 50,
    "start_time": "2023-08-01T07:54:02.195Z"
   },
   {
    "duration": 366,
    "start_time": "2023-08-01T07:54:02.247Z"
   },
   {
    "duration": 706,
    "start_time": "2023-08-01T07:54:02.614Z"
   },
   {
    "duration": 499,
    "start_time": "2023-08-01T07:54:03.321Z"
   },
   {
    "duration": 384,
    "start_time": "2023-08-01T07:54:03.821Z"
   },
   {
    "duration": 339,
    "start_time": "2023-08-01T07:54:04.210Z"
   },
   {
    "duration": 2,
    "start_time": "2023-08-01T07:54:04.551Z"
   },
   {
    "duration": 20,
    "start_time": "2023-08-01T07:54:04.555Z"
   },
   {
    "duration": 67,
    "start_time": "2023-08-01T07:54:04.577Z"
   },
   {
    "duration": 6,
    "start_time": "2023-08-01T07:54:04.646Z"
   },
   {
    "duration": 24,
    "start_time": "2023-08-01T07:54:04.654Z"
   },
   {
    "duration": 131,
    "start_time": "2023-08-01T07:54:04.680Z"
   },
   {
    "duration": 99,
    "start_time": "2023-08-01T07:54:04.813Z"
   },
   {
    "duration": 81,
    "start_time": "2023-08-01T07:54:04.919Z"
   },
   {
    "duration": 3111,
    "start_time": "2023-08-01T07:54:05.002Z"
   },
   {
    "duration": 4,
    "start_time": "2023-08-01T07:54:08.116Z"
   },
   {
    "duration": 39737,
    "start_time": "2023-08-01T07:54:08.122Z"
   },
   {
    "duration": 93014,
    "start_time": "2023-08-01T07:54:47.860Z"
   },
   {
    "duration": 17190,
    "start_time": "2023-08-01T07:56:20.875Z"
   },
   {
    "duration": 399,
    "start_time": "2023-08-01T07:56:38.066Z"
   },
   {
    "duration": 1174,
    "start_time": "2023-08-01T07:56:38.467Z"
   },
   {
    "duration": 1576,
    "start_time": "2023-08-01T07:56:39.643Z"
   },
   {
    "duration": 8,
    "start_time": "2023-08-01T07:56:41.221Z"
   },
   {
    "duration": 1117,
    "start_time": "2023-08-01T07:57:16.837Z"
   }
  ],
  "kernelspec": {
   "display_name": "Python 3 (ipykernel)",
   "language": "python",
   "name": "python3"
  },
  "language_info": {
   "codemirror_mode": {
    "name": "ipython",
    "version": 3
   },
   "file_extension": ".py",
   "mimetype": "text/x-python",
   "name": "python",
   "nbconvert_exporter": "python",
   "pygments_lexer": "ipython3",
   "version": "3.11.3"
  },
  "toc": {
   "base_numbering": 1,
   "nav_menu": {},
   "number_sections": true,
   "sideBar": true,
   "skip_h1_title": true,
   "title_cell": "Содержание",
   "title_sidebar": "Contents",
   "toc_cell": true,
   "toc_position": {
    "height": "calc(100% - 180px)",
    "left": "10px",
    "top": "150px",
    "width": "275px"
   },
   "toc_section_display": true,
   "toc_window_display": true
  }
 },
 "nbformat": 4,
 "nbformat_minor": 2
}
