{
 "cells": [
  {
   "cell_type": "markdown",
   "metadata": {
    "toc": true
   },
   "source": [
    "<h1>Содержание<span class=\"tocSkip\"></span></h1>\n",
    "<div class=\"toc\"><ul class=\"toc-item\"><li><span><a href=\"#Подготовка-данных\" data-toc-modified-id=\"Подготовка-данных-1\"><span class=\"toc-item-num\">1&nbsp;&nbsp;</span>Подготовка данных</a></span></li><li><span><a href=\"#Анализ-данных\" data-toc-modified-id=\"Анализ-данных-2\"><span class=\"toc-item-num\">2&nbsp;&nbsp;</span>Анализ данных</a></span></li><li><span><a href=\"#Модель\" data-toc-modified-id=\"Модель-3\"><span class=\"toc-item-num\">3&nbsp;&nbsp;</span>Модель</a></span></li><li><span><a href=\"#Чек-лист-готовности-проекта\" data-toc-modified-id=\"Чек-лист-готовности-проекта-4\"><span class=\"toc-item-num\">4&nbsp;&nbsp;</span>Чек-лист готовности проекта</a></span></li></ul></div>"
   ]
  },
  {
   "cell_type": "markdown",
   "metadata": {},
   "source": [
    "# Восстановление золота из руды"
   ]
  },
  {
   "cell_type": "markdown",
   "metadata": {},
   "source": [
    "Подготовьте прототип модели машинного обучения для «Цифры». Компания разрабатывает решения для эффективной работы промышленных предприятий.\n",
    "\n",
    "Модель должна предсказать коэффициент восстановления золота из золотосодержащей руды. Используйте данные с параметрами добычи и очистки. \n",
    "\n",
    "Модель поможет оптимизировать производство, чтобы не запускать предприятие с убыточными характеристиками.\n",
    "\n",
    "Вам нужно:\n",
    "\n",
    "1. Подготовить данные;\n",
    "2. Провести исследовательский анализ данных;\n",
    "3. Построить и обучить модель.\n",
    "\n",
    "Чтобы выполнить проект, обращайтесь к библиотекам *pandas*, *matplotlib* и *sklearn.* Вам поможет их документация.\n",
    "\n",
    "Описание данных\n",
    "<br>\n",
    "<br>\n",
    "Технологический процесс<br>\n",
    "Rougher feed — исходное сырье<br>\n",
    "Rougher additions (или reagent additions) — флотационные реагенты: Xanthate, Sulphate, Depressant <br>\n",
    "Xanthate — ксантогенат (промотер, или активатор флотации);<br>\n",
    "Sulphate — сульфат (на данном производстве сульфид натрия);<br>\n",
    "Depressant — депрессант (силикат натрия).<br>\n",
    "Rougher process (англ. «грубый процесс») — флотация<br>\n",
    "Rougher tails — отвальные хвосты<br>\n",
    "Float banks — флотационная установка<br>\n",
    "Cleaner process — очистка<br>\n",
    "Rougher Au — черновой концентрат золота<br>\n",
    "Final Au — финальный концентрат золота<br>\n",
    "<br>\n",
    "Параметры этапов<br>\n",
    "air amount — объём воздуха<br>\n",
    "fluid levels — уровень жидкости<br>\n",
    "feed size — размер гранул сырья<br>\n",
    "feed rate — скорость подачи<br>\n",
    "<br>"
   ]
  },
  {
   "cell_type": "markdown",
   "metadata": {},
   "source": [
    "## Подготовка данных"
   ]
  },
  {
   "cell_type": "markdown",
   "metadata": {},
   "source": [
    "Импортируем все необходимые для работы библиотеки"
   ]
  },
  {
   "cell_type": "code",
   "execution_count": 1,
   "metadata": {},
   "outputs": [],
   "source": [
    "import pandas as pd\n",
    "import seaborn as sns\n",
    "import matplotlib.pyplot as plt\n",
    "import numpy as np\n",
    "\n",
    "from sklearn.ensemble import RandomForestRegressor\n",
    "from sklearn.ensemble import ExtraTreesRegressor\n",
    "\n",
    "from sklearn.tree import DecisionTreeRegressor\n",
    "\n",
    "from sklearn.linear_model import LinearRegression\n",
    "from sklearn.linear_model import Ridge\n",
    "\n",
    "from sklearn.model_selection import cross_val_score\n",
    "from sklearn.model_selection import train_test_split\n",
    "from sklearn.model_selection import GridSearchCV\n",
    "\n",
    "from sklearn.metrics import make_scorer\n",
    "from sklearn.metrics import r2_score\n",
    "from sklearn.metrics import mean_absolute_error as mae\n",
    "\n",
    "from sklearn.preprocessing import StandardScaler\n",
    "from sklearn.preprocessing import PolynomialFeatures\n",
    "\n",
    "from sklearn.pipeline import Pipeline\n",
    "from sklearn.pipeline import  make_pipeline\n",
    "\n",
    "from sklearn.impute import KNNImputer\n",
    "from sklearn.dummy import DummyRegressor\n",
    "\n",
    "import warnings\n",
    "warnings.filterwarnings('ignore')"
   ]
  },
  {
   "cell_type": "markdown",
   "metadata": {},
   "source": [
    "Загрузим выборки"
   ]
  },
  {
   "cell_type": "code",
   "execution_count": 2,
   "metadata": {},
   "outputs": [],
   "source": [
    "data_train = pd.read_csv('/datasets/gold_industry_train.csv')\n",
    "data_test = pd.read_csv('/datasets/gold_industry_test.csv')\n",
    "data_full = pd.read_csv('/datasets/gold_industry_full.csv')"
   ]
  },
  {
   "cell_type": "markdown",
   "metadata": {},
   "source": [
    "Посмотрим информацию по выборкам"
   ]
  },
  {
   "cell_type": "code",
   "execution_count": 3,
   "metadata": {
    "collapsed": true
   },
   "outputs": [
    {
     "name": "stdout",
     "output_type": "stream",
     "text": [
      "<class 'pandas.core.frame.DataFrame'>\n",
      "RangeIndex: 14579 entries, 0 to 14578\n",
      "Data columns (total 87 columns):\n",
      " #   Column                                              Non-Null Count  Dtype  \n",
      "---  ------                                              --------------  -----  \n",
      " 0   date                                                14579 non-null  object \n",
      " 1   rougher.input.feed_au                               14579 non-null  float64\n",
      " 2   rougher.input.feed_ag                               14579 non-null  float64\n",
      " 3   rougher.input.feed_pb                               14507 non-null  float64\n",
      " 4   rougher.input.feed_sol                              14502 non-null  float64\n",
      " 5   rougher.input.feed_rate                             14572 non-null  float64\n",
      " 6   rougher.input.feed_size                             14478 non-null  float64\n",
      " 7   rougher.input.floatbank10_sulfate                   14548 non-null  float64\n",
      " 8   rougher.input.floatbank10_xanthate                  14572 non-null  float64\n",
      " 9   rougher.state.floatbank10_a_air                     14579 non-null  float64\n",
      " 10  rougher.state.floatbank10_a_level                   14579 non-null  float64\n",
      " 11  rougher.state.floatbank10_b_air                     14579 non-null  float64\n",
      " 12  rougher.state.floatbank10_b_level                   14579 non-null  float64\n",
      " 13  rougher.state.floatbank10_c_air                     14579 non-null  float64\n",
      " 14  rougher.state.floatbank10_c_level                   14579 non-null  float64\n",
      " 15  rougher.state.floatbank10_d_air                     14579 non-null  float64\n",
      " 16  rougher.state.floatbank10_d_level                   14579 non-null  float64\n",
      " 17  rougher.state.floatbank10_e_air                     14150 non-null  float64\n",
      " 18  rougher.state.floatbank10_e_level                   14579 non-null  float64\n",
      " 19  rougher.state.floatbank10_f_air                     14579 non-null  float64\n",
      " 20  rougher.state.floatbank10_f_level                   14579 non-null  float64\n",
      " 21  rougher.input.floatbank11_sulfate                   14543 non-null  float64\n",
      " 22  rougher.input.floatbank11_xanthate                  14172 non-null  float64\n",
      " 23  rougher.calculation.sulfate_to_au_concentrate       14578 non-null  float64\n",
      " 24  rougher.calculation.floatbank10_sulfate_to_au_feed  14578 non-null  float64\n",
      " 25  rougher.calculation.floatbank11_sulfate_to_au_feed  14578 non-null  float64\n",
      " 26  rougher.calculation.au_pb_ratio                     14579 non-null  float64\n",
      " 27  rougher.output.concentrate_au                       14579 non-null  float64\n",
      " 28  rougher.output.concentrate_ag                       14579 non-null  float64\n",
      " 29  rougher.output.concentrate_pb                       14579 non-null  float64\n",
      " 30  rougher.output.concentrate_sol                      14561 non-null  float64\n",
      " 31  rougher.output.recovery                             14579 non-null  float64\n",
      " 32  rougher.output.tail_au                              14579 non-null  float64\n",
      " 33  rougher.output.tail_ag                              14578 non-null  float64\n",
      " 34  rougher.output.tail_pb                              14579 non-null  float64\n",
      " 35  rougher.output.tail_sol                             14579 non-null  float64\n",
      " 36  primary_cleaner.input.sulfate                       14556 non-null  float64\n",
      " 37  primary_cleaner.input.depressant                    14551 non-null  float64\n",
      " 38  primary_cleaner.input.feed_size                     14579 non-null  float64\n",
      " 39  primary_cleaner.input.xanthate                      14518 non-null  float64\n",
      " 40  primary_cleaner.state.floatbank8_a_air              14576 non-null  float64\n",
      " 41  primary_cleaner.state.floatbank8_a_level            14579 non-null  float64\n",
      " 42  primary_cleaner.state.floatbank8_b_air              14576 non-null  float64\n",
      " 43  primary_cleaner.state.floatbank8_b_level            14579 non-null  float64\n",
      " 44  primary_cleaner.state.floatbank8_c_air              14579 non-null  float64\n",
      " 45  primary_cleaner.state.floatbank8_c_level            14579 non-null  float64\n",
      " 46  primary_cleaner.state.floatbank8_d_air              14578 non-null  float64\n",
      " 47  primary_cleaner.state.floatbank8_d_level            14579 non-null  float64\n",
      " 48  primary_cleaner.output.concentrate_au               14579 non-null  float64\n",
      " 49  primary_cleaner.output.concentrate_ag               14579 non-null  float64\n",
      " 50  primary_cleaner.output.concentrate_pb               14491 non-null  float64\n",
      " 51  primary_cleaner.output.concentrate_sol              14314 non-null  float64\n",
      " 52  primary_cleaner.output.tail_au                      14579 non-null  float64\n",
      " 53  primary_cleaner.output.tail_ag                      14575 non-null  float64\n",
      " 54  primary_cleaner.output.tail_pb                      14573 non-null  float64\n",
      " 55  primary_cleaner.output.tail_sol                     14534 non-null  float64\n",
      " 56  secondary_cleaner.state.floatbank2_a_air            14485 non-null  float64\n",
      " 57  secondary_cleaner.state.floatbank2_a_level          14579 non-null  float64\n",
      " 58  secondary_cleaner.state.floatbank2_b_air            14557 non-null  float64\n",
      " 59  secondary_cleaner.state.floatbank2_b_level          14579 non-null  float64\n",
      " 60  secondary_cleaner.state.floatbank3_a_air            14567 non-null  float64\n",
      " 61  secondary_cleaner.state.floatbank3_a_level          14579 non-null  float64\n",
      " 62  secondary_cleaner.state.floatbank3_b_air            14579 non-null  float64\n",
      " 63  secondary_cleaner.state.floatbank3_b_level          14579 non-null  float64\n",
      " 64  secondary_cleaner.state.floatbank4_a_air            14574 non-null  float64\n",
      " 65  secondary_cleaner.state.floatbank4_a_level          14579 non-null  float64\n",
      " 66  secondary_cleaner.state.floatbank4_b_air            14579 non-null  float64\n",
      " 67  secondary_cleaner.state.floatbank4_b_level          14579 non-null  float64\n",
      " 68  secondary_cleaner.state.floatbank5_a_air            14579 non-null  float64\n",
      " 69  secondary_cleaner.state.floatbank5_a_level          14579 non-null  float64\n",
      " 70  secondary_cleaner.state.floatbank5_b_air            14579 non-null  float64\n",
      " 71  secondary_cleaner.state.floatbank5_b_level          14579 non-null  float64\n",
      " 72  secondary_cleaner.state.floatbank6_a_air            14578 non-null  float64\n",
      " 73  secondary_cleaner.state.floatbank6_a_level          14579 non-null  float64\n",
      " 74  secondary_cleaner.output.tail_au                    14579 non-null  float64\n",
      " 75  secondary_cleaner.output.tail_ag                    14578 non-null  float64\n",
      " 76  secondary_cleaner.output.tail_pb                    14575 non-null  float64\n",
      " 77  secondary_cleaner.output.tail_sol                   13659 non-null  float64\n",
      " 78  final.output.concentrate_au                         14579 non-null  float64\n",
      " 79  final.output.concentrate_ag                         14578 non-null  float64\n",
      " 80  final.output.concentrate_pb                         14578 non-null  float64\n",
      " 81  final.output.concentrate_sol                        14387 non-null  float64\n",
      " 82  final.output.recovery                               14579 non-null  float64\n",
      " 83  final.output.tail_au                                14579 non-null  float64\n",
      " 84  final.output.tail_ag                                14578 non-null  float64\n",
      " 85  final.output.tail_pb                                14504 non-null  float64\n",
      " 86  final.output.tail_sol                               14574 non-null  float64\n",
      "dtypes: float64(86), object(1)\n",
      "memory usage: 9.7+ MB\n"
     ]
    }
   ],
   "source": [
    "data_train.info()"
   ]
  },
  {
   "cell_type": "code",
   "execution_count": 4,
   "metadata": {
    "collapsed": true
   },
   "outputs": [
    {
     "name": "stdout",
     "output_type": "stream",
     "text": [
      "<class 'pandas.core.frame.DataFrame'>\n",
      "RangeIndex: 4860 entries, 0 to 4859\n",
      "Data columns (total 53 columns):\n",
      " #   Column                                      Non-Null Count  Dtype  \n",
      "---  ------                                      --------------  -----  \n",
      " 0   date                                        4860 non-null   object \n",
      " 1   rougher.input.feed_au                       4860 non-null   float64\n",
      " 2   rougher.input.feed_ag                       4860 non-null   float64\n",
      " 3   rougher.input.feed_pb                       4832 non-null   float64\n",
      " 4   rougher.input.feed_sol                      4838 non-null   float64\n",
      " 5   rougher.input.feed_rate                     4856 non-null   float64\n",
      " 6   rougher.input.feed_size                     4816 non-null   float64\n",
      " 7   rougher.input.floatbank10_sulfate           4857 non-null   float64\n",
      " 8   rougher.input.floatbank10_xanthate          4859 non-null   float64\n",
      " 9   rougher.state.floatbank10_a_air             4859 non-null   float64\n",
      " 10  rougher.state.floatbank10_a_level           4859 non-null   float64\n",
      " 11  rougher.state.floatbank10_b_air             4859 non-null   float64\n",
      " 12  rougher.state.floatbank10_b_level           4859 non-null   float64\n",
      " 13  rougher.state.floatbank10_c_air             4859 non-null   float64\n",
      " 14  rougher.state.floatbank10_c_level           4859 non-null   float64\n",
      " 15  rougher.state.floatbank10_d_air             4860 non-null   float64\n",
      " 16  rougher.state.floatbank10_d_level           4860 non-null   float64\n",
      " 17  rougher.state.floatbank10_e_air             4853 non-null   float64\n",
      " 18  rougher.state.floatbank10_e_level           4860 non-null   float64\n",
      " 19  rougher.state.floatbank10_f_air             4860 non-null   float64\n",
      " 20  rougher.state.floatbank10_f_level           4860 non-null   float64\n",
      " 21  rougher.input.floatbank11_sulfate           4852 non-null   float64\n",
      " 22  rougher.input.floatbank11_xanthate          4814 non-null   float64\n",
      " 23  primary_cleaner.input.sulfate               4859 non-null   float64\n",
      " 24  primary_cleaner.input.depressant            4851 non-null   float64\n",
      " 25  primary_cleaner.input.feed_size             4860 non-null   float64\n",
      " 26  primary_cleaner.input.xanthate              4817 non-null   float64\n",
      " 27  primary_cleaner.state.floatbank8_a_air      4859 non-null   float64\n",
      " 28  primary_cleaner.state.floatbank8_a_level    4859 non-null   float64\n",
      " 29  primary_cleaner.state.floatbank8_b_air      4859 non-null   float64\n",
      " 30  primary_cleaner.state.floatbank8_b_level    4859 non-null   float64\n",
      " 31  primary_cleaner.state.floatbank8_c_air      4858 non-null   float64\n",
      " 32  primary_cleaner.state.floatbank8_c_level    4859 non-null   float64\n",
      " 33  primary_cleaner.state.floatbank8_d_air      4858 non-null   float64\n",
      " 34  primary_cleaner.state.floatbank8_d_level    4859 non-null   float64\n",
      " 35  secondary_cleaner.state.floatbank2_a_air    4734 non-null   float64\n",
      " 36  secondary_cleaner.state.floatbank2_a_level  4859 non-null   float64\n",
      " 37  secondary_cleaner.state.floatbank2_b_air    4859 non-null   float64\n",
      " 38  secondary_cleaner.state.floatbank2_b_level  4859 non-null   float64\n",
      " 39  secondary_cleaner.state.floatbank3_a_air    4859 non-null   float64\n",
      " 40  secondary_cleaner.state.floatbank3_a_level  4859 non-null   float64\n",
      " 41  secondary_cleaner.state.floatbank3_b_air    4859 non-null   float64\n",
      " 42  secondary_cleaner.state.floatbank3_b_level  4859 non-null   float64\n",
      " 43  secondary_cleaner.state.floatbank4_a_air    4859 non-null   float64\n",
      " 44  secondary_cleaner.state.floatbank4_a_level  4859 non-null   float64\n",
      " 45  secondary_cleaner.state.floatbank4_b_air    4859 non-null   float64\n",
      " 46  secondary_cleaner.state.floatbank4_b_level  4859 non-null   float64\n",
      " 47  secondary_cleaner.state.floatbank5_a_air    4859 non-null   float64\n",
      " 48  secondary_cleaner.state.floatbank5_a_level  4859 non-null   float64\n",
      " 49  secondary_cleaner.state.floatbank5_b_air    4859 non-null   float64\n",
      " 50  secondary_cleaner.state.floatbank5_b_level  4859 non-null   float64\n",
      " 51  secondary_cleaner.state.floatbank6_a_air    4859 non-null   float64\n",
      " 52  secondary_cleaner.state.floatbank6_a_level  4859 non-null   float64\n",
      "dtypes: float64(52), object(1)\n",
      "memory usage: 2.0+ MB\n"
     ]
    }
   ],
   "source": [
    "data_test.info()"
   ]
  },
  {
   "cell_type": "code",
   "execution_count": 5,
   "metadata": {
    "collapsed": true
   },
   "outputs": [
    {
     "name": "stdout",
     "output_type": "stream",
     "text": [
      "<class 'pandas.core.frame.DataFrame'>\n",
      "RangeIndex: 19439 entries, 0 to 19438\n",
      "Data columns (total 87 columns):\n",
      " #   Column                                              Non-Null Count  Dtype  \n",
      "---  ------                                              --------------  -----  \n",
      " 0   date                                                19439 non-null  object \n",
      " 1   rougher.input.feed_au                               19439 non-null  float64\n",
      " 2   rougher.input.feed_ag                               19439 non-null  float64\n",
      " 3   rougher.input.feed_pb                               19339 non-null  float64\n",
      " 4   rougher.input.feed_sol                              19340 non-null  float64\n",
      " 5   rougher.input.feed_rate                             19428 non-null  float64\n",
      " 6   rougher.input.feed_size                             19294 non-null  float64\n",
      " 7   rougher.input.floatbank10_sulfate                   19405 non-null  float64\n",
      " 8   rougher.input.floatbank10_xanthate                  19431 non-null  float64\n",
      " 9   rougher.state.floatbank10_a_air                     19438 non-null  float64\n",
      " 10  rougher.state.floatbank10_a_level                   19438 non-null  float64\n",
      " 11  rougher.state.floatbank10_b_air                     19438 non-null  float64\n",
      " 12  rougher.state.floatbank10_b_level                   19438 non-null  float64\n",
      " 13  rougher.state.floatbank10_c_air                     19438 non-null  float64\n",
      " 14  rougher.state.floatbank10_c_level                   19438 non-null  float64\n",
      " 15  rougher.state.floatbank10_d_air                     19439 non-null  float64\n",
      " 16  rougher.state.floatbank10_d_level                   19439 non-null  float64\n",
      " 17  rougher.state.floatbank10_e_air                     19003 non-null  float64\n",
      " 18  rougher.state.floatbank10_e_level                   19439 non-null  float64\n",
      " 19  rougher.state.floatbank10_f_air                     19439 non-null  float64\n",
      " 20  rougher.state.floatbank10_f_level                   19439 non-null  float64\n",
      " 21  rougher.input.floatbank11_sulfate                   19395 non-null  float64\n",
      " 22  rougher.input.floatbank11_xanthate                  18986 non-null  float64\n",
      " 23  rougher.calculation.sulfate_to_au_concentrate       19437 non-null  float64\n",
      " 24  rougher.calculation.floatbank10_sulfate_to_au_feed  19437 non-null  float64\n",
      " 25  rougher.calculation.floatbank11_sulfate_to_au_feed  19437 non-null  float64\n",
      " 26  rougher.calculation.au_pb_ratio                     19439 non-null  float64\n",
      " 27  rougher.output.concentrate_au                       19439 non-null  float64\n",
      " 28  rougher.output.concentrate_ag                       19439 non-null  float64\n",
      " 29  rougher.output.concentrate_pb                       19439 non-null  float64\n",
      " 30  rougher.output.concentrate_sol                      19416 non-null  float64\n",
      " 31  rougher.output.recovery                             19439 non-null  float64\n",
      " 32  rougher.output.tail_au                              19439 non-null  float64\n",
      " 33  rougher.output.tail_ag                              19438 non-null  float64\n",
      " 34  rougher.output.tail_pb                              19439 non-null  float64\n",
      " 35  rougher.output.tail_sol                             19439 non-null  float64\n",
      " 36  primary_cleaner.input.sulfate                       19415 non-null  float64\n",
      " 37  primary_cleaner.input.depressant                    19402 non-null  float64\n",
      " 38  primary_cleaner.input.feed_size                     19439 non-null  float64\n",
      " 39  primary_cleaner.input.xanthate                      19335 non-null  float64\n",
      " 40  primary_cleaner.state.floatbank8_a_air              19435 non-null  float64\n",
      " 41  primary_cleaner.state.floatbank8_a_level            19438 non-null  float64\n",
      " 42  primary_cleaner.state.floatbank8_b_air              19435 non-null  float64\n",
      " 43  primary_cleaner.state.floatbank8_b_level            19438 non-null  float64\n",
      " 44  primary_cleaner.state.floatbank8_c_air              19437 non-null  float64\n",
      " 45  primary_cleaner.state.floatbank8_c_level            19438 non-null  float64\n",
      " 46  primary_cleaner.state.floatbank8_d_air              19436 non-null  float64\n",
      " 47  primary_cleaner.state.floatbank8_d_level            19438 non-null  float64\n",
      " 48  primary_cleaner.output.concentrate_au               19439 non-null  float64\n",
      " 49  primary_cleaner.output.concentrate_ag               19439 non-null  float64\n",
      " 50  primary_cleaner.output.concentrate_pb               19323 non-null  float64\n",
      " 51  primary_cleaner.output.concentrate_sol              19069 non-null  float64\n",
      " 52  primary_cleaner.output.tail_au                      19439 non-null  float64\n",
      " 53  primary_cleaner.output.tail_ag                      19435 non-null  float64\n",
      " 54  primary_cleaner.output.tail_pb                      19418 non-null  float64\n",
      " 55  primary_cleaner.output.tail_sol                     19377 non-null  float64\n",
      " 56  secondary_cleaner.state.floatbank2_a_air            19219 non-null  float64\n",
      " 57  secondary_cleaner.state.floatbank2_a_level          19438 non-null  float64\n",
      " 58  secondary_cleaner.state.floatbank2_b_air            19416 non-null  float64\n",
      " 59  secondary_cleaner.state.floatbank2_b_level          19438 non-null  float64\n",
      " 60  secondary_cleaner.state.floatbank3_a_air            19426 non-null  float64\n",
      " 61  secondary_cleaner.state.floatbank3_a_level          19438 non-null  float64\n",
      " 62  secondary_cleaner.state.floatbank3_b_air            19438 non-null  float64\n",
      " 63  secondary_cleaner.state.floatbank3_b_level          19438 non-null  float64\n",
      " 64  secondary_cleaner.state.floatbank4_a_air            19433 non-null  float64\n",
      " 65  secondary_cleaner.state.floatbank4_a_level          19438 non-null  float64\n",
      " 66  secondary_cleaner.state.floatbank4_b_air            19438 non-null  float64\n",
      " 67  secondary_cleaner.state.floatbank4_b_level          19438 non-null  float64\n",
      " 68  secondary_cleaner.state.floatbank5_a_air            19438 non-null  float64\n",
      " 69  secondary_cleaner.state.floatbank5_a_level          19438 non-null  float64\n",
      " 70  secondary_cleaner.state.floatbank5_b_air            19438 non-null  float64\n",
      " 71  secondary_cleaner.state.floatbank5_b_level          19438 non-null  float64\n",
      " 72  secondary_cleaner.state.floatbank6_a_air            19437 non-null  float64\n",
      " 73  secondary_cleaner.state.floatbank6_a_level          19438 non-null  float64\n",
      " 74  secondary_cleaner.output.tail_au                    19439 non-null  float64\n",
      " 75  secondary_cleaner.output.tail_ag                    19437 non-null  float64\n",
      " 76  secondary_cleaner.output.tail_pb                    19427 non-null  float64\n",
      " 77  secondary_cleaner.output.tail_sol                   17691 non-null  float64\n",
      " 78  final.output.concentrate_au                         19439 non-null  float64\n",
      " 79  final.output.concentrate_ag                         19438 non-null  float64\n",
      " 80  final.output.concentrate_pb                         19438 non-null  float64\n",
      " 81  final.output.concentrate_sol                        19228 non-null  float64\n",
      " 82  final.output.recovery                               19439 non-null  float64\n",
      " 83  final.output.tail_au                                19439 non-null  float64\n",
      " 84  final.output.tail_ag                                19438 non-null  float64\n",
      " 85  final.output.tail_pb                                19338 non-null  float64\n",
      " 86  final.output.tail_sol                               19433 non-null  float64\n",
      "dtypes: float64(86), object(1)\n",
      "memory usage: 12.9+ MB\n"
     ]
    }
   ],
   "source": [
    "data_full.info()"
   ]
  },
  {
   "cell_type": "markdown",
   "metadata": {},
   "source": [
    "По первому взгляду на данные можно сказать, что, например, в тестовой выборке намного меньше признаков, чем в полной и тренировочной базах."
   ]
  },
  {
   "cell_type": "markdown",
   "metadata": {},
   "source": [
    "Изменим формат столбца date на тип данных datetime"
   ]
  },
  {
   "cell_type": "code",
   "execution_count": 6,
   "metadata": {},
   "outputs": [],
   "source": [
    "data_train.loc[:,'date'] = pd.to_datetime(data_train['date'], format=\"%Y-%m-%d %H:%M:%S\")\n",
    "data_test.loc[:,'date'] = pd.to_datetime(data_test['date'], format=\"%Y-%m-%d %H:%M:%S\")\n",
    "data_full.loc[:,'date'] = pd.to_datetime(data_full['date'], format=\"%Y-%m-%d %H:%M:%S\")"
   ]
  },
  {
   "cell_type": "code",
   "execution_count": 7,
   "metadata": {},
   "outputs": [],
   "source": [
    "data_train.index = data_train.loc[:,'date']\n",
    "data_train = data_train.drop(columns='date')\n",
    "\n",
    "data_test.index = data_test.loc[:,'date']\n",
    "data_test = data_test.drop(columns='date')\n",
    "\n",
    "data_full.index = data_full.loc[:,'date']\n",
    "data_full = data_full.drop(columns='date')"
   ]
  },
  {
   "cell_type": "markdown",
   "metadata": {},
   "source": [
    "Проверим датасеты на наличие дубликатов"
   ]
  },
  {
   "cell_type": "code",
   "execution_count": 8,
   "metadata": {},
   "outputs": [
    {
     "data": {
      "text/plain": [
       "0"
      ]
     },
     "execution_count": 8,
     "metadata": {},
     "output_type": "execute_result"
    }
   ],
   "source": [
    "data_train.duplicated().sum()"
   ]
  },
  {
   "cell_type": "code",
   "execution_count": 9,
   "metadata": {},
   "outputs": [
    {
     "data": {
      "text/plain": [
       "0"
      ]
     },
     "execution_count": 9,
     "metadata": {},
     "output_type": "execute_result"
    }
   ],
   "source": [
    "data_test.duplicated().sum()"
   ]
  },
  {
   "cell_type": "code",
   "execution_count": 10,
   "metadata": {},
   "outputs": [
    {
     "data": {
      "text/plain": [
       "0"
      ]
     },
     "execution_count": 10,
     "metadata": {},
     "output_type": "execute_result"
    }
   ],
   "source": [
    "data_full.duplicated().sum()"
   ]
  },
  {
   "cell_type": "markdown",
   "metadata": {},
   "source": [
    "Посмотрим числовые описания данных в наших выборках"
   ]
  },
  {
   "cell_type": "code",
   "execution_count": 11,
   "metadata": {},
   "outputs": [
    {
     "data": {
      "text/html": [
       "<div>\n",
       "<style scoped>\n",
       "    .dataframe tbody tr th:only-of-type {\n",
       "        vertical-align: middle;\n",
       "    }\n",
       "\n",
       "    .dataframe tbody tr th {\n",
       "        vertical-align: top;\n",
       "    }\n",
       "\n",
       "    .dataframe thead th {\n",
       "        text-align: right;\n",
       "    }\n",
       "</style>\n",
       "<table border=\"1\" class=\"dataframe\">\n",
       "  <thead>\n",
       "    <tr style=\"text-align: right;\">\n",
       "      <th></th>\n",
       "      <th>rougher.input.feed_au</th>\n",
       "      <th>rougher.input.feed_ag</th>\n",
       "      <th>rougher.input.feed_pb</th>\n",
       "      <th>rougher.input.feed_sol</th>\n",
       "      <th>rougher.input.feed_rate</th>\n",
       "      <th>rougher.input.feed_size</th>\n",
       "      <th>rougher.input.floatbank10_sulfate</th>\n",
       "      <th>rougher.input.floatbank10_xanthate</th>\n",
       "      <th>rougher.state.floatbank10_a_air</th>\n",
       "      <th>rougher.state.floatbank10_a_level</th>\n",
       "      <th>...</th>\n",
       "      <th>secondary_cleaner.output.tail_sol</th>\n",
       "      <th>final.output.concentrate_au</th>\n",
       "      <th>final.output.concentrate_ag</th>\n",
       "      <th>final.output.concentrate_pb</th>\n",
       "      <th>final.output.concentrate_sol</th>\n",
       "      <th>final.output.recovery</th>\n",
       "      <th>final.output.tail_au</th>\n",
       "      <th>final.output.tail_ag</th>\n",
       "      <th>final.output.tail_pb</th>\n",
       "      <th>final.output.tail_sol</th>\n",
       "    </tr>\n",
       "  </thead>\n",
       "  <tbody>\n",
       "    <tr>\n",
       "      <th>count</th>\n",
       "      <td>14579.000000</td>\n",
       "      <td>14579.000000</td>\n",
       "      <td>14507.000000</td>\n",
       "      <td>14502.000000</td>\n",
       "      <td>14572.000000</td>\n",
       "      <td>14478.000000</td>\n",
       "      <td>14548.000000</td>\n",
       "      <td>14572.000000</td>\n",
       "      <td>14579.000000</td>\n",
       "      <td>14579.000000</td>\n",
       "      <td>...</td>\n",
       "      <td>13659.000000</td>\n",
       "      <td>14579.000000</td>\n",
       "      <td>14578.000000</td>\n",
       "      <td>14578.000000</td>\n",
       "      <td>14387.000000</td>\n",
       "      <td>14579.000000</td>\n",
       "      <td>14579.000000</td>\n",
       "      <td>14578.000000</td>\n",
       "      <td>14504.000000</td>\n",
       "      <td>14574.000000</td>\n",
       "    </tr>\n",
       "    <tr>\n",
       "      <th>mean</th>\n",
       "      <td>8.352941</td>\n",
       "      <td>8.877460</td>\n",
       "      <td>3.604221</td>\n",
       "      <td>36.561420</td>\n",
       "      <td>474.332784</td>\n",
       "      <td>58.922712</td>\n",
       "      <td>12.427399</td>\n",
       "      <td>5.994854</td>\n",
       "      <td>1104.208278</td>\n",
       "      <td>-379.367166</td>\n",
       "      <td>...</td>\n",
       "      <td>7.111347</td>\n",
       "      <td>43.979499</td>\n",
       "      <td>5.192145</td>\n",
       "      <td>9.923809</td>\n",
       "      <td>9.566676</td>\n",
       "      <td>66.759066</td>\n",
       "      <td>3.087939</td>\n",
       "      <td>9.731972</td>\n",
       "      <td>2.719985</td>\n",
       "      <td>10.612745</td>\n",
       "    </tr>\n",
       "    <tr>\n",
       "      <th>std</th>\n",
       "      <td>1.934376</td>\n",
       "      <td>1.922536</td>\n",
       "      <td>1.056063</td>\n",
       "      <td>5.209823</td>\n",
       "      <td>108.503552</td>\n",
       "      <td>22.407410</td>\n",
       "      <td>3.428939</td>\n",
       "      <td>1.152873</td>\n",
       "      <td>162.235606</td>\n",
       "      <td>94.652311</td>\n",
       "      <td>...</td>\n",
       "      <td>3.909951</td>\n",
       "      <td>5.471437</td>\n",
       "      <td>1.388014</td>\n",
       "      <td>1.706976</td>\n",
       "      <td>2.805654</td>\n",
       "      <td>10.619709</td>\n",
       "      <td>0.915187</td>\n",
       "      <td>2.358143</td>\n",
       "      <td>0.958929</td>\n",
       "      <td>2.871075</td>\n",
       "    </tr>\n",
       "    <tr>\n",
       "      <th>min</th>\n",
       "      <td>0.010000</td>\n",
       "      <td>0.010000</td>\n",
       "      <td>0.010000</td>\n",
       "      <td>0.010000</td>\n",
       "      <td>0.002986</td>\n",
       "      <td>0.049194</td>\n",
       "      <td>0.001083</td>\n",
       "      <td>0.000568</td>\n",
       "      <td>-0.042069</td>\n",
       "      <td>-657.949759</td>\n",
       "      <td>...</td>\n",
       "      <td>0.000000</td>\n",
       "      <td>0.000000</td>\n",
       "      <td>0.000000</td>\n",
       "      <td>0.000000</td>\n",
       "      <td>0.000000</td>\n",
       "      <td>0.000000</td>\n",
       "      <td>0.000000</td>\n",
       "      <td>0.000000</td>\n",
       "      <td>0.000000</td>\n",
       "      <td>0.000000</td>\n",
       "    </tr>\n",
       "    <tr>\n",
       "      <th>25%</th>\n",
       "      <td>6.932996</td>\n",
       "      <td>7.341922</td>\n",
       "      <td>2.880490</td>\n",
       "      <td>34.093951</td>\n",
       "      <td>411.048483</td>\n",
       "      <td>47.278490</td>\n",
       "      <td>10.002832</td>\n",
       "      <td>5.304167</td>\n",
       "      <td>999.644856</td>\n",
       "      <td>-499.861797</td>\n",
       "      <td>...</td>\n",
       "      <td>3.784897</td>\n",
       "      <td>43.345906</td>\n",
       "      <td>4.283347</td>\n",
       "      <td>9.103183</td>\n",
       "      <td>7.860030</td>\n",
       "      <td>63.114596</td>\n",
       "      <td>2.505287</td>\n",
       "      <td>8.088928</td>\n",
       "      <td>2.036512</td>\n",
       "      <td>9.013412</td>\n",
       "    </tr>\n",
       "    <tr>\n",
       "      <th>50%</th>\n",
       "      <td>8.225284</td>\n",
       "      <td>8.715859</td>\n",
       "      <td>3.532399</td>\n",
       "      <td>37.097511</td>\n",
       "      <td>498.187968</td>\n",
       "      <td>54.361187</td>\n",
       "      <td>12.003320</td>\n",
       "      <td>6.003053</td>\n",
       "      <td>1000.982624</td>\n",
       "      <td>-300.314199</td>\n",
       "      <td>...</td>\n",
       "      <td>7.629968</td>\n",
       "      <td>44.975014</td>\n",
       "      <td>5.118647</td>\n",
       "      <td>10.046455</td>\n",
       "      <td>9.301970</td>\n",
       "      <td>67.962788</td>\n",
       "      <td>3.029238</td>\n",
       "      <td>9.818512</td>\n",
       "      <td>2.774847</td>\n",
       "      <td>10.670515</td>\n",
       "    </tr>\n",
       "    <tr>\n",
       "      <th>75%</th>\n",
       "      <td>9.832210</td>\n",
       "      <td>10.255843</td>\n",
       "      <td>4.257282</td>\n",
       "      <td>39.899799</td>\n",
       "      <td>549.586552</td>\n",
       "      <td>64.464926</td>\n",
       "      <td>14.929903</td>\n",
       "      <td>6.796632</td>\n",
       "      <td>1292.663971</td>\n",
       "      <td>-299.989315</td>\n",
       "      <td>...</td>\n",
       "      <td>10.367050</td>\n",
       "      <td>46.275153</td>\n",
       "      <td>5.925380</td>\n",
       "      <td>10.981203</td>\n",
       "      <td>11.001573</td>\n",
       "      <td>72.598187</td>\n",
       "      <td>3.614098</td>\n",
       "      <td>11.169187</td>\n",
       "      <td>3.353845</td>\n",
       "      <td>12.130827</td>\n",
       "    </tr>\n",
       "    <tr>\n",
       "      <th>max</th>\n",
       "      <td>13.731330</td>\n",
       "      <td>14.596026</td>\n",
       "      <td>7.052325</td>\n",
       "      <td>53.475325</td>\n",
       "      <td>717.508837</td>\n",
       "      <td>484.967466</td>\n",
       "      <td>36.118275</td>\n",
       "      <td>9.703448</td>\n",
       "      <td>1512.299531</td>\n",
       "      <td>-273.776101</td>\n",
       "      <td>...</td>\n",
       "      <td>26.000772</td>\n",
       "      <td>52.756638</td>\n",
       "      <td>16.001945</td>\n",
       "      <td>16.705297</td>\n",
       "      <td>19.423912</td>\n",
       "      <td>100.000000</td>\n",
       "      <td>8.245022</td>\n",
       "      <td>19.552149</td>\n",
       "      <td>5.804178</td>\n",
       "      <td>22.317730</td>\n",
       "    </tr>\n",
       "  </tbody>\n",
       "</table>\n",
       "<p>8 rows × 86 columns</p>\n",
       "</div>"
      ],
      "text/plain": [
       "       rougher.input.feed_au  rougher.input.feed_ag  rougher.input.feed_pb  \\\n",
       "count           14579.000000           14579.000000           14507.000000   \n",
       "mean                8.352941               8.877460               3.604221   \n",
       "std                 1.934376               1.922536               1.056063   \n",
       "min                 0.010000               0.010000               0.010000   \n",
       "25%                 6.932996               7.341922               2.880490   \n",
       "50%                 8.225284               8.715859               3.532399   \n",
       "75%                 9.832210              10.255843               4.257282   \n",
       "max                13.731330              14.596026               7.052325   \n",
       "\n",
       "       rougher.input.feed_sol  rougher.input.feed_rate  \\\n",
       "count            14502.000000             14572.000000   \n",
       "mean                36.561420               474.332784   \n",
       "std                  5.209823               108.503552   \n",
       "min                  0.010000                 0.002986   \n",
       "25%                 34.093951               411.048483   \n",
       "50%                 37.097511               498.187968   \n",
       "75%                 39.899799               549.586552   \n",
       "max                 53.475325               717.508837   \n",
       "\n",
       "       rougher.input.feed_size  rougher.input.floatbank10_sulfate  \\\n",
       "count             14478.000000                       14548.000000   \n",
       "mean                 58.922712                          12.427399   \n",
       "std                  22.407410                           3.428939   \n",
       "min                   0.049194                           0.001083   \n",
       "25%                  47.278490                          10.002832   \n",
       "50%                  54.361187                          12.003320   \n",
       "75%                  64.464926                          14.929903   \n",
       "max                 484.967466                          36.118275   \n",
       "\n",
       "       rougher.input.floatbank10_xanthate  rougher.state.floatbank10_a_air  \\\n",
       "count                        14572.000000                     14579.000000   \n",
       "mean                             5.994854                      1104.208278   \n",
       "std                              1.152873                       162.235606   \n",
       "min                              0.000568                        -0.042069   \n",
       "25%                              5.304167                       999.644856   \n",
       "50%                              6.003053                      1000.982624   \n",
       "75%                              6.796632                      1292.663971   \n",
       "max                              9.703448                      1512.299531   \n",
       "\n",
       "       rougher.state.floatbank10_a_level  ...  \\\n",
       "count                       14579.000000  ...   \n",
       "mean                         -379.367166  ...   \n",
       "std                            94.652311  ...   \n",
       "min                          -657.949759  ...   \n",
       "25%                          -499.861797  ...   \n",
       "50%                          -300.314199  ...   \n",
       "75%                          -299.989315  ...   \n",
       "max                          -273.776101  ...   \n",
       "\n",
       "       secondary_cleaner.output.tail_sol  final.output.concentrate_au  \\\n",
       "count                       13659.000000                 14579.000000   \n",
       "mean                            7.111347                    43.979499   \n",
       "std                             3.909951                     5.471437   \n",
       "min                             0.000000                     0.000000   \n",
       "25%                             3.784897                    43.345906   \n",
       "50%                             7.629968                    44.975014   \n",
       "75%                            10.367050                    46.275153   \n",
       "max                            26.000772                    52.756638   \n",
       "\n",
       "       final.output.concentrate_ag  final.output.concentrate_pb  \\\n",
       "count                 14578.000000                 14578.000000   \n",
       "mean                      5.192145                     9.923809   \n",
       "std                       1.388014                     1.706976   \n",
       "min                       0.000000                     0.000000   \n",
       "25%                       4.283347                     9.103183   \n",
       "50%                       5.118647                    10.046455   \n",
       "75%                       5.925380                    10.981203   \n",
       "max                      16.001945                    16.705297   \n",
       "\n",
       "       final.output.concentrate_sol  final.output.recovery  \\\n",
       "count                  14387.000000           14579.000000   \n",
       "mean                       9.566676              66.759066   \n",
       "std                        2.805654              10.619709   \n",
       "min                        0.000000               0.000000   \n",
       "25%                        7.860030              63.114596   \n",
       "50%                        9.301970              67.962788   \n",
       "75%                       11.001573              72.598187   \n",
       "max                       19.423912             100.000000   \n",
       "\n",
       "       final.output.tail_au  final.output.tail_ag  final.output.tail_pb  \\\n",
       "count          14579.000000          14578.000000          14504.000000   \n",
       "mean               3.087939              9.731972              2.719985   \n",
       "std                0.915187              2.358143              0.958929   \n",
       "min                0.000000              0.000000              0.000000   \n",
       "25%                2.505287              8.088928              2.036512   \n",
       "50%                3.029238              9.818512              2.774847   \n",
       "75%                3.614098             11.169187              3.353845   \n",
       "max                8.245022             19.552149              5.804178   \n",
       "\n",
       "       final.output.tail_sol  \n",
       "count           14574.000000  \n",
       "mean               10.612745  \n",
       "std                 2.871075  \n",
       "min                 0.000000  \n",
       "25%                 9.013412  \n",
       "50%                10.670515  \n",
       "75%                12.130827  \n",
       "max                22.317730  \n",
       "\n",
       "[8 rows x 86 columns]"
      ]
     },
     "execution_count": 11,
     "metadata": {},
     "output_type": "execute_result"
    }
   ],
   "source": [
    "data_train.describe()"
   ]
  },
  {
   "cell_type": "code",
   "execution_count": 12,
   "metadata": {},
   "outputs": [
    {
     "data": {
      "text/html": [
       "<div>\n",
       "<style scoped>\n",
       "    .dataframe tbody tr th:only-of-type {\n",
       "        vertical-align: middle;\n",
       "    }\n",
       "\n",
       "    .dataframe tbody tr th {\n",
       "        vertical-align: top;\n",
       "    }\n",
       "\n",
       "    .dataframe thead th {\n",
       "        text-align: right;\n",
       "    }\n",
       "</style>\n",
       "<table border=\"1\" class=\"dataframe\">\n",
       "  <thead>\n",
       "    <tr style=\"text-align: right;\">\n",
       "      <th></th>\n",
       "      <th>rougher.input.feed_au</th>\n",
       "      <th>rougher.input.feed_ag</th>\n",
       "      <th>rougher.input.feed_pb</th>\n",
       "      <th>rougher.input.feed_sol</th>\n",
       "      <th>rougher.input.feed_rate</th>\n",
       "      <th>rougher.input.feed_size</th>\n",
       "      <th>rougher.input.floatbank10_sulfate</th>\n",
       "      <th>rougher.input.floatbank10_xanthate</th>\n",
       "      <th>rougher.state.floatbank10_a_air</th>\n",
       "      <th>rougher.state.floatbank10_a_level</th>\n",
       "      <th>...</th>\n",
       "      <th>secondary_cleaner.state.floatbank4_a_air</th>\n",
       "      <th>secondary_cleaner.state.floatbank4_a_level</th>\n",
       "      <th>secondary_cleaner.state.floatbank4_b_air</th>\n",
       "      <th>secondary_cleaner.state.floatbank4_b_level</th>\n",
       "      <th>secondary_cleaner.state.floatbank5_a_air</th>\n",
       "      <th>secondary_cleaner.state.floatbank5_a_level</th>\n",
       "      <th>secondary_cleaner.state.floatbank5_b_air</th>\n",
       "      <th>secondary_cleaner.state.floatbank5_b_level</th>\n",
       "      <th>secondary_cleaner.state.floatbank6_a_air</th>\n",
       "      <th>secondary_cleaner.state.floatbank6_a_level</th>\n",
       "    </tr>\n",
       "  </thead>\n",
       "  <tbody>\n",
       "    <tr>\n",
       "      <th>count</th>\n",
       "      <td>4860.000000</td>\n",
       "      <td>4860.000000</td>\n",
       "      <td>4832.000000</td>\n",
       "      <td>4838.000000</td>\n",
       "      <td>4856.000000</td>\n",
       "      <td>4816.000000</td>\n",
       "      <td>4857.000000</td>\n",
       "      <td>4859.000000</td>\n",
       "      <td>4859.000000</td>\n",
       "      <td>4859.000000</td>\n",
       "      <td>...</td>\n",
       "      <td>4.859000e+03</td>\n",
       "      <td>4859.000000</td>\n",
       "      <td>4.859000e+03</td>\n",
       "      <td>4859.000000</td>\n",
       "      <td>4859.000000</td>\n",
       "      <td>4859.000000</td>\n",
       "      <td>4859.000000</td>\n",
       "      <td>4859.000000</td>\n",
       "      <td>4859.000000</td>\n",
       "      <td>4859.000000</td>\n",
       "    </tr>\n",
       "    <tr>\n",
       "      <th>mean</th>\n",
       "      <td>8.005584</td>\n",
       "      <td>8.547348</td>\n",
       "      <td>3.579662</td>\n",
       "      <td>37.095864</td>\n",
       "      <td>490.285103</td>\n",
       "      <td>59.113400</td>\n",
       "      <td>12.055735</td>\n",
       "      <td>6.101308</td>\n",
       "      <td>1108.635895</td>\n",
       "      <td>-368.340127</td>\n",
       "      <td>...</td>\n",
       "      <td>1.985770e+01</td>\n",
       "      <td>-488.665140</td>\n",
       "      <td>1.557025e+01</td>\n",
       "      <td>-464.176507</td>\n",
       "      <td>16.594103</td>\n",
       "      <td>-490.815250</td>\n",
       "      <td>12.945971</td>\n",
       "      <td>-489.583564</td>\n",
       "      <td>19.053888</td>\n",
       "      <td>-504.678924</td>\n",
       "    </tr>\n",
       "    <tr>\n",
       "      <th>std</th>\n",
       "      <td>1.993590</td>\n",
       "      <td>1.958601</td>\n",
       "      <td>1.029377</td>\n",
       "      <td>4.926284</td>\n",
       "      <td>94.371623</td>\n",
       "      <td>19.125122</td>\n",
       "      <td>3.407642</td>\n",
       "      <td>1.042754</td>\n",
       "      <td>156.493143</td>\n",
       "      <td>91.155929</td>\n",
       "      <td>...</td>\n",
       "      <td>5.913105e+00</td>\n",
       "      <td>44.392714</td>\n",
       "      <td>4.927361e+00</td>\n",
       "      <td>65.706994</td>\n",
       "      <td>5.724305</td>\n",
       "      <td>32.258443</td>\n",
       "      <td>5.533176</td>\n",
       "      <td>37.084609</td>\n",
       "      <td>5.548996</td>\n",
       "      <td>38.690186</td>\n",
       "    </tr>\n",
       "    <tr>\n",
       "      <th>min</th>\n",
       "      <td>0.010000</td>\n",
       "      <td>0.010000</td>\n",
       "      <td>0.010000</td>\n",
       "      <td>0.010000</td>\n",
       "      <td>0.012786</td>\n",
       "      <td>0.046369</td>\n",
       "      <td>0.018907</td>\n",
       "      <td>0.015783</td>\n",
       "      <td>300.792494</td>\n",
       "      <td>-600.568138</td>\n",
       "      <td>...</td>\n",
       "      <td>1.079872e-16</td>\n",
       "      <td>-799.704969</td>\n",
       "      <td>2.489718e-17</td>\n",
       "      <td>-799.860767</td>\n",
       "      <td>-0.371498</td>\n",
       "      <td>-797.142475</td>\n",
       "      <td>1.358469</td>\n",
       "      <td>-800.006180</td>\n",
       "      <td>0.160386</td>\n",
       "      <td>-809.734800</td>\n",
       "    </tr>\n",
       "    <tr>\n",
       "      <th>25%</th>\n",
       "      <td>6.574363</td>\n",
       "      <td>6.975898</td>\n",
       "      <td>2.903612</td>\n",
       "      <td>34.510841</td>\n",
       "      <td>434.099695</td>\n",
       "      <td>47.596984</td>\n",
       "      <td>9.890429</td>\n",
       "      <td>5.499808</td>\n",
       "      <td>999.715729</td>\n",
       "      <td>-499.731972</td>\n",
       "      <td>...</td>\n",
       "      <td>1.501123e+01</td>\n",
       "      <td>-500.704004</td>\n",
       "      <td>1.202172e+01</td>\n",
       "      <td>-500.196517</td>\n",
       "      <td>11.073822</td>\n",
       "      <td>-500.483564</td>\n",
       "      <td>9.011890</td>\n",
       "      <td>-500.129913</td>\n",
       "      <td>14.963953</td>\n",
       "      <td>-500.668501</td>\n",
       "    </tr>\n",
       "    <tr>\n",
       "      <th>50%</th>\n",
       "      <td>7.812923</td>\n",
       "      <td>8.179714</td>\n",
       "      <td>3.540772</td>\n",
       "      <td>37.499761</td>\n",
       "      <td>502.118742</td>\n",
       "      <td>55.509481</td>\n",
       "      <td>11.997859</td>\n",
       "      <td>6.099805</td>\n",
       "      <td>1001.414798</td>\n",
       "      <td>-300.181367</td>\n",
       "      <td>...</td>\n",
       "      <td>1.996807e+01</td>\n",
       "      <td>-499.892919</td>\n",
       "      <td>1.501240e+01</td>\n",
       "      <td>-499.540776</td>\n",
       "      <td>16.631195</td>\n",
       "      <td>-499.873136</td>\n",
       "      <td>11.999417</td>\n",
       "      <td>-499.955304</td>\n",
       "      <td>19.960006</td>\n",
       "      <td>-500.033769</td>\n",
       "    </tr>\n",
       "    <tr>\n",
       "      <th>75%</th>\n",
       "      <td>9.556589</td>\n",
       "      <td>10.084339</td>\n",
       "      <td>4.199847</td>\n",
       "      <td>40.461315</td>\n",
       "      <td>555.596563</td>\n",
       "      <td>66.661547</td>\n",
       "      <td>14.496072</td>\n",
       "      <td>6.802101</td>\n",
       "      <td>1202.837565</td>\n",
       "      <td>-299.961547</td>\n",
       "      <td>...</td>\n",
       "      <td>2.498900e+01</td>\n",
       "      <td>-498.652030</td>\n",
       "      <td>1.999949e+01</td>\n",
       "      <td>-400.302329</td>\n",
       "      <td>19.983191</td>\n",
       "      <td>-498.852815</td>\n",
       "      <td>15.004198</td>\n",
       "      <td>-499.643776</td>\n",
       "      <td>24.974583</td>\n",
       "      <td>-499.460134</td>\n",
       "    </tr>\n",
       "    <tr>\n",
       "      <th>max</th>\n",
       "      <td>13.417156</td>\n",
       "      <td>14.533698</td>\n",
       "      <td>7.142594</td>\n",
       "      <td>53.477742</td>\n",
       "      <td>702.523396</td>\n",
       "      <td>363.989699</td>\n",
       "      <td>30.010759</td>\n",
       "      <td>9.396928</td>\n",
       "      <td>1521.980372</td>\n",
       "      <td>-281.039299</td>\n",
       "      <td>...</td>\n",
       "      <td>3.008450e+01</td>\n",
       "      <td>-383.373053</td>\n",
       "      <td>2.398898e+01</td>\n",
       "      <td>-114.250832</td>\n",
       "      <td>33.215996</td>\n",
       "      <td>-288.963521</td>\n",
       "      <td>24.177106</td>\n",
       "      <td>-141.934397</td>\n",
       "      <td>32.028529</td>\n",
       "      <td>-104.427459</td>\n",
       "    </tr>\n",
       "  </tbody>\n",
       "</table>\n",
       "<p>8 rows × 52 columns</p>\n",
       "</div>"
      ],
      "text/plain": [
       "       rougher.input.feed_au  rougher.input.feed_ag  rougher.input.feed_pb  \\\n",
       "count            4860.000000            4860.000000            4832.000000   \n",
       "mean                8.005584               8.547348               3.579662   \n",
       "std                 1.993590               1.958601               1.029377   \n",
       "min                 0.010000               0.010000               0.010000   \n",
       "25%                 6.574363               6.975898               2.903612   \n",
       "50%                 7.812923               8.179714               3.540772   \n",
       "75%                 9.556589              10.084339               4.199847   \n",
       "max                13.417156              14.533698               7.142594   \n",
       "\n",
       "       rougher.input.feed_sol  rougher.input.feed_rate  \\\n",
       "count             4838.000000              4856.000000   \n",
       "mean                37.095864               490.285103   \n",
       "std                  4.926284                94.371623   \n",
       "min                  0.010000                 0.012786   \n",
       "25%                 34.510841               434.099695   \n",
       "50%                 37.499761               502.118742   \n",
       "75%                 40.461315               555.596563   \n",
       "max                 53.477742               702.523396   \n",
       "\n",
       "       rougher.input.feed_size  rougher.input.floatbank10_sulfate  \\\n",
       "count              4816.000000                        4857.000000   \n",
       "mean                 59.113400                          12.055735   \n",
       "std                  19.125122                           3.407642   \n",
       "min                   0.046369                           0.018907   \n",
       "25%                  47.596984                           9.890429   \n",
       "50%                  55.509481                          11.997859   \n",
       "75%                  66.661547                          14.496072   \n",
       "max                 363.989699                          30.010759   \n",
       "\n",
       "       rougher.input.floatbank10_xanthate  rougher.state.floatbank10_a_air  \\\n",
       "count                         4859.000000                      4859.000000   \n",
       "mean                             6.101308                      1108.635895   \n",
       "std                              1.042754                       156.493143   \n",
       "min                              0.015783                       300.792494   \n",
       "25%                              5.499808                       999.715729   \n",
       "50%                              6.099805                      1001.414798   \n",
       "75%                              6.802101                      1202.837565   \n",
       "max                              9.396928                      1521.980372   \n",
       "\n",
       "       rougher.state.floatbank10_a_level  ...  \\\n",
       "count                        4859.000000  ...   \n",
       "mean                         -368.340127  ...   \n",
       "std                            91.155929  ...   \n",
       "min                          -600.568138  ...   \n",
       "25%                          -499.731972  ...   \n",
       "50%                          -300.181367  ...   \n",
       "75%                          -299.961547  ...   \n",
       "max                          -281.039299  ...   \n",
       "\n",
       "       secondary_cleaner.state.floatbank4_a_air  \\\n",
       "count                              4.859000e+03   \n",
       "mean                               1.985770e+01   \n",
       "std                                5.913105e+00   \n",
       "min                                1.079872e-16   \n",
       "25%                                1.501123e+01   \n",
       "50%                                1.996807e+01   \n",
       "75%                                2.498900e+01   \n",
       "max                                3.008450e+01   \n",
       "\n",
       "       secondary_cleaner.state.floatbank4_a_level  \\\n",
       "count                                 4859.000000   \n",
       "mean                                  -488.665140   \n",
       "std                                     44.392714   \n",
       "min                                   -799.704969   \n",
       "25%                                   -500.704004   \n",
       "50%                                   -499.892919   \n",
       "75%                                   -498.652030   \n",
       "max                                   -383.373053   \n",
       "\n",
       "       secondary_cleaner.state.floatbank4_b_air  \\\n",
       "count                              4.859000e+03   \n",
       "mean                               1.557025e+01   \n",
       "std                                4.927361e+00   \n",
       "min                                2.489718e-17   \n",
       "25%                                1.202172e+01   \n",
       "50%                                1.501240e+01   \n",
       "75%                                1.999949e+01   \n",
       "max                                2.398898e+01   \n",
       "\n",
       "       secondary_cleaner.state.floatbank4_b_level  \\\n",
       "count                                 4859.000000   \n",
       "mean                                  -464.176507   \n",
       "std                                     65.706994   \n",
       "min                                   -799.860767   \n",
       "25%                                   -500.196517   \n",
       "50%                                   -499.540776   \n",
       "75%                                   -400.302329   \n",
       "max                                   -114.250832   \n",
       "\n",
       "       secondary_cleaner.state.floatbank5_a_air  \\\n",
       "count                               4859.000000   \n",
       "mean                                  16.594103   \n",
       "std                                    5.724305   \n",
       "min                                   -0.371498   \n",
       "25%                                   11.073822   \n",
       "50%                                   16.631195   \n",
       "75%                                   19.983191   \n",
       "max                                   33.215996   \n",
       "\n",
       "       secondary_cleaner.state.floatbank5_a_level  \\\n",
       "count                                 4859.000000   \n",
       "mean                                  -490.815250   \n",
       "std                                     32.258443   \n",
       "min                                   -797.142475   \n",
       "25%                                   -500.483564   \n",
       "50%                                   -499.873136   \n",
       "75%                                   -498.852815   \n",
       "max                                   -288.963521   \n",
       "\n",
       "       secondary_cleaner.state.floatbank5_b_air  \\\n",
       "count                               4859.000000   \n",
       "mean                                  12.945971   \n",
       "std                                    5.533176   \n",
       "min                                    1.358469   \n",
       "25%                                    9.011890   \n",
       "50%                                   11.999417   \n",
       "75%                                   15.004198   \n",
       "max                                   24.177106   \n",
       "\n",
       "       secondary_cleaner.state.floatbank5_b_level  \\\n",
       "count                                 4859.000000   \n",
       "mean                                  -489.583564   \n",
       "std                                     37.084609   \n",
       "min                                   -800.006180   \n",
       "25%                                   -500.129913   \n",
       "50%                                   -499.955304   \n",
       "75%                                   -499.643776   \n",
       "max                                   -141.934397   \n",
       "\n",
       "       secondary_cleaner.state.floatbank6_a_air  \\\n",
       "count                               4859.000000   \n",
       "mean                                  19.053888   \n",
       "std                                    5.548996   \n",
       "min                                    0.160386   \n",
       "25%                                   14.963953   \n",
       "50%                                   19.960006   \n",
       "75%                                   24.974583   \n",
       "max                                   32.028529   \n",
       "\n",
       "       secondary_cleaner.state.floatbank6_a_level  \n",
       "count                                 4859.000000  \n",
       "mean                                  -504.678924  \n",
       "std                                     38.690186  \n",
       "min                                   -809.734800  \n",
       "25%                                   -500.668501  \n",
       "50%                                   -500.033769  \n",
       "75%                                   -499.460134  \n",
       "max                                   -104.427459  \n",
       "\n",
       "[8 rows x 52 columns]"
      ]
     },
     "execution_count": 12,
     "metadata": {},
     "output_type": "execute_result"
    }
   ],
   "source": [
    "data_test.describe()"
   ]
  },
  {
   "cell_type": "code",
   "execution_count": 13,
   "metadata": {},
   "outputs": [
    {
     "data": {
      "text/html": [
       "<div>\n",
       "<style scoped>\n",
       "    .dataframe tbody tr th:only-of-type {\n",
       "        vertical-align: middle;\n",
       "    }\n",
       "\n",
       "    .dataframe tbody tr th {\n",
       "        vertical-align: top;\n",
       "    }\n",
       "\n",
       "    .dataframe thead th {\n",
       "        text-align: right;\n",
       "    }\n",
       "</style>\n",
       "<table border=\"1\" class=\"dataframe\">\n",
       "  <thead>\n",
       "    <tr style=\"text-align: right;\">\n",
       "      <th></th>\n",
       "      <th>rougher.input.feed_au</th>\n",
       "      <th>rougher.input.feed_ag</th>\n",
       "      <th>rougher.input.feed_pb</th>\n",
       "      <th>rougher.input.feed_sol</th>\n",
       "      <th>rougher.input.feed_rate</th>\n",
       "      <th>rougher.input.feed_size</th>\n",
       "      <th>rougher.input.floatbank10_sulfate</th>\n",
       "      <th>rougher.input.floatbank10_xanthate</th>\n",
       "      <th>rougher.state.floatbank10_a_air</th>\n",
       "      <th>rougher.state.floatbank10_a_level</th>\n",
       "      <th>...</th>\n",
       "      <th>secondary_cleaner.output.tail_sol</th>\n",
       "      <th>final.output.concentrate_au</th>\n",
       "      <th>final.output.concentrate_ag</th>\n",
       "      <th>final.output.concentrate_pb</th>\n",
       "      <th>final.output.concentrate_sol</th>\n",
       "      <th>final.output.recovery</th>\n",
       "      <th>final.output.tail_au</th>\n",
       "      <th>final.output.tail_ag</th>\n",
       "      <th>final.output.tail_pb</th>\n",
       "      <th>final.output.tail_sol</th>\n",
       "    </tr>\n",
       "  </thead>\n",
       "  <tbody>\n",
       "    <tr>\n",
       "      <th>count</th>\n",
       "      <td>19439.000000</td>\n",
       "      <td>19439.000000</td>\n",
       "      <td>19339.000000</td>\n",
       "      <td>19340.000000</td>\n",
       "      <td>19428.000000</td>\n",
       "      <td>19294.000000</td>\n",
       "      <td>19405.000000</td>\n",
       "      <td>19431.000000</td>\n",
       "      <td>19438.000000</td>\n",
       "      <td>19438.000000</td>\n",
       "      <td>...</td>\n",
       "      <td>17691.000000</td>\n",
       "      <td>19439.000000</td>\n",
       "      <td>19438.000000</td>\n",
       "      <td>19438.000000</td>\n",
       "      <td>19228.000000</td>\n",
       "      <td>19439.000000</td>\n",
       "      <td>19439.000000</td>\n",
       "      <td>19438.000000</td>\n",
       "      <td>19338.000000</td>\n",
       "      <td>19433.000000</td>\n",
       "    </tr>\n",
       "    <tr>\n",
       "      <th>mean</th>\n",
       "      <td>8.266097</td>\n",
       "      <td>8.794927</td>\n",
       "      <td>3.598085</td>\n",
       "      <td>36.695114</td>\n",
       "      <td>478.320042</td>\n",
       "      <td>58.970310</td>\n",
       "      <td>12.334373</td>\n",
       "      <td>6.021474</td>\n",
       "      <td>1105.315068</td>\n",
       "      <td>-376.610690</td>\n",
       "      <td>...</td>\n",
       "      <td>7.167247</td>\n",
       "      <td>44.076513</td>\n",
       "      <td>5.168470</td>\n",
       "      <td>9.978895</td>\n",
       "      <td>9.501224</td>\n",
       "      <td>67.050208</td>\n",
       "      <td>3.042467</td>\n",
       "      <td>9.688589</td>\n",
       "      <td>2.705795</td>\n",
       "      <td>10.583728</td>\n",
       "    </tr>\n",
       "    <tr>\n",
       "      <th>std</th>\n",
       "      <td>1.955092</td>\n",
       "      <td>1.936847</td>\n",
       "      <td>1.049486</td>\n",
       "      <td>5.145445</td>\n",
       "      <td>105.373758</td>\n",
       "      <td>21.634478</td>\n",
       "      <td>3.427317</td>\n",
       "      <td>1.127263</td>\n",
       "      <td>160.826798</td>\n",
       "      <td>93.909667</td>\n",
       "      <td>...</td>\n",
       "      <td>3.916079</td>\n",
       "      <td>5.129784</td>\n",
       "      <td>1.372348</td>\n",
       "      <td>1.669240</td>\n",
       "      <td>2.787537</td>\n",
       "      <td>10.125840</td>\n",
       "      <td>0.922808</td>\n",
       "      <td>2.328642</td>\n",
       "      <td>0.949077</td>\n",
       "      <td>2.868782</td>\n",
       "    </tr>\n",
       "    <tr>\n",
       "      <th>min</th>\n",
       "      <td>0.010000</td>\n",
       "      <td>0.010000</td>\n",
       "      <td>0.010000</td>\n",
       "      <td>0.010000</td>\n",
       "      <td>0.002986</td>\n",
       "      <td>0.046369</td>\n",
       "      <td>0.001083</td>\n",
       "      <td>0.000568</td>\n",
       "      <td>-0.042069</td>\n",
       "      <td>-657.949759</td>\n",
       "      <td>...</td>\n",
       "      <td>0.000000</td>\n",
       "      <td>0.000000</td>\n",
       "      <td>0.000000</td>\n",
       "      <td>0.000000</td>\n",
       "      <td>0.000000</td>\n",
       "      <td>0.000000</td>\n",
       "      <td>0.000000</td>\n",
       "      <td>0.000000</td>\n",
       "      <td>0.000000</td>\n",
       "      <td>0.000000</td>\n",
       "    </tr>\n",
       "    <tr>\n",
       "      <th>25%</th>\n",
       "      <td>6.854384</td>\n",
       "      <td>7.237967</td>\n",
       "      <td>2.887280</td>\n",
       "      <td>34.207799</td>\n",
       "      <td>416.525453</td>\n",
       "      <td>47.435103</td>\n",
       "      <td>10.000362</td>\n",
       "      <td>5.398678</td>\n",
       "      <td>999.661867</td>\n",
       "      <td>-499.835165</td>\n",
       "      <td>...</td>\n",
       "      <td>3.845475</td>\n",
       "      <td>43.402215</td>\n",
       "      <td>4.251240</td>\n",
       "      <td>9.137262</td>\n",
       "      <td>7.722820</td>\n",
       "      <td>63.299712</td>\n",
       "      <td>2.461138</td>\n",
       "      <td>8.062878</td>\n",
       "      <td>2.040119</td>\n",
       "      <td>8.938947</td>\n",
       "    </tr>\n",
       "    <tr>\n",
       "      <th>50%</th>\n",
       "      <td>8.125839</td>\n",
       "      <td>8.593574</td>\n",
       "      <td>3.534895</td>\n",
       "      <td>37.202650</td>\n",
       "      <td>499.416120</td>\n",
       "      <td>54.610197</td>\n",
       "      <td>12.001174</td>\n",
       "      <td>6.008273</td>\n",
       "      <td>1001.072890</td>\n",
       "      <td>-300.263994</td>\n",
       "      <td>...</td>\n",
       "      <td>7.685827</td>\n",
       "      <td>45.011244</td>\n",
       "      <td>5.066094</td>\n",
       "      <td>10.102433</td>\n",
       "      <td>9.218961</td>\n",
       "      <td>68.172738</td>\n",
       "      <td>2.984909</td>\n",
       "      <td>9.743623</td>\n",
       "      <td>2.748730</td>\n",
       "      <td>10.622456</td>\n",
       "    </tr>\n",
       "    <tr>\n",
       "      <th>75%</th>\n",
       "      <td>9.769917</td>\n",
       "      <td>10.213771</td>\n",
       "      <td>4.244161</td>\n",
       "      <td>40.039133</td>\n",
       "      <td>550.172183</td>\n",
       "      <td>65.023044</td>\n",
       "      <td>14.716595</td>\n",
       "      <td>6.798051</td>\n",
       "      <td>1205.620588</td>\n",
       "      <td>-299.981998</td>\n",
       "      <td>...</td>\n",
       "      <td>10.411296</td>\n",
       "      <td>46.275313</td>\n",
       "      <td>5.895527</td>\n",
       "      <td>11.035769</td>\n",
       "      <td>10.947813</td>\n",
       "      <td>72.686642</td>\n",
       "      <td>3.571351</td>\n",
       "      <td>11.134294</td>\n",
       "      <td>3.333216</td>\n",
       "      <td>12.104271</td>\n",
       "    </tr>\n",
       "    <tr>\n",
       "      <th>max</th>\n",
       "      <td>13.731330</td>\n",
       "      <td>14.596026</td>\n",
       "      <td>7.142594</td>\n",
       "      <td>53.477742</td>\n",
       "      <td>717.508837</td>\n",
       "      <td>484.967466</td>\n",
       "      <td>36.118275</td>\n",
       "      <td>9.703448</td>\n",
       "      <td>1521.980372</td>\n",
       "      <td>-273.776101</td>\n",
       "      <td>...</td>\n",
       "      <td>26.000772</td>\n",
       "      <td>52.756638</td>\n",
       "      <td>16.001945</td>\n",
       "      <td>17.031899</td>\n",
       "      <td>19.615720</td>\n",
       "      <td>100.000000</td>\n",
       "      <td>8.245022</td>\n",
       "      <td>19.552149</td>\n",
       "      <td>5.804178</td>\n",
       "      <td>22.317730</td>\n",
       "    </tr>\n",
       "  </tbody>\n",
       "</table>\n",
       "<p>8 rows × 86 columns</p>\n",
       "</div>"
      ],
      "text/plain": [
       "       rougher.input.feed_au  rougher.input.feed_ag  rougher.input.feed_pb  \\\n",
       "count           19439.000000           19439.000000           19339.000000   \n",
       "mean                8.266097               8.794927               3.598085   \n",
       "std                 1.955092               1.936847               1.049486   \n",
       "min                 0.010000               0.010000               0.010000   \n",
       "25%                 6.854384               7.237967               2.887280   \n",
       "50%                 8.125839               8.593574               3.534895   \n",
       "75%                 9.769917              10.213771               4.244161   \n",
       "max                13.731330              14.596026               7.142594   \n",
       "\n",
       "       rougher.input.feed_sol  rougher.input.feed_rate  \\\n",
       "count            19340.000000             19428.000000   \n",
       "mean                36.695114               478.320042   \n",
       "std                  5.145445               105.373758   \n",
       "min                  0.010000                 0.002986   \n",
       "25%                 34.207799               416.525453   \n",
       "50%                 37.202650               499.416120   \n",
       "75%                 40.039133               550.172183   \n",
       "max                 53.477742               717.508837   \n",
       "\n",
       "       rougher.input.feed_size  rougher.input.floatbank10_sulfate  \\\n",
       "count             19294.000000                       19405.000000   \n",
       "mean                 58.970310                          12.334373   \n",
       "std                  21.634478                           3.427317   \n",
       "min                   0.046369                           0.001083   \n",
       "25%                  47.435103                          10.000362   \n",
       "50%                  54.610197                          12.001174   \n",
       "75%                  65.023044                          14.716595   \n",
       "max                 484.967466                          36.118275   \n",
       "\n",
       "       rougher.input.floatbank10_xanthate  rougher.state.floatbank10_a_air  \\\n",
       "count                        19431.000000                     19438.000000   \n",
       "mean                             6.021474                      1105.315068   \n",
       "std                              1.127263                       160.826798   \n",
       "min                              0.000568                        -0.042069   \n",
       "25%                              5.398678                       999.661867   \n",
       "50%                              6.008273                      1001.072890   \n",
       "75%                              6.798051                      1205.620588   \n",
       "max                              9.703448                      1521.980372   \n",
       "\n",
       "       rougher.state.floatbank10_a_level  ...  \\\n",
       "count                       19438.000000  ...   \n",
       "mean                         -376.610690  ...   \n",
       "std                            93.909667  ...   \n",
       "min                          -657.949759  ...   \n",
       "25%                          -499.835165  ...   \n",
       "50%                          -300.263994  ...   \n",
       "75%                          -299.981998  ...   \n",
       "max                          -273.776101  ...   \n",
       "\n",
       "       secondary_cleaner.output.tail_sol  final.output.concentrate_au  \\\n",
       "count                       17691.000000                 19439.000000   \n",
       "mean                            7.167247                    44.076513   \n",
       "std                             3.916079                     5.129784   \n",
       "min                             0.000000                     0.000000   \n",
       "25%                             3.845475                    43.402215   \n",
       "50%                             7.685827                    45.011244   \n",
       "75%                            10.411296                    46.275313   \n",
       "max                            26.000772                    52.756638   \n",
       "\n",
       "       final.output.concentrate_ag  final.output.concentrate_pb  \\\n",
       "count                 19438.000000                 19438.000000   \n",
       "mean                      5.168470                     9.978895   \n",
       "std                       1.372348                     1.669240   \n",
       "min                       0.000000                     0.000000   \n",
       "25%                       4.251240                     9.137262   \n",
       "50%                       5.066094                    10.102433   \n",
       "75%                       5.895527                    11.035769   \n",
       "max                      16.001945                    17.031899   \n",
       "\n",
       "       final.output.concentrate_sol  final.output.recovery  \\\n",
       "count                  19228.000000           19439.000000   \n",
       "mean                       9.501224              67.050208   \n",
       "std                        2.787537              10.125840   \n",
       "min                        0.000000               0.000000   \n",
       "25%                        7.722820              63.299712   \n",
       "50%                        9.218961              68.172738   \n",
       "75%                       10.947813              72.686642   \n",
       "max                       19.615720             100.000000   \n",
       "\n",
       "       final.output.tail_au  final.output.tail_ag  final.output.tail_pb  \\\n",
       "count          19439.000000          19438.000000          19338.000000   \n",
       "mean               3.042467              9.688589              2.705795   \n",
       "std                0.922808              2.328642              0.949077   \n",
       "min                0.000000              0.000000              0.000000   \n",
       "25%                2.461138              8.062878              2.040119   \n",
       "50%                2.984909              9.743623              2.748730   \n",
       "75%                3.571351             11.134294              3.333216   \n",
       "max                8.245022             19.552149              5.804178   \n",
       "\n",
       "       final.output.tail_sol  \n",
       "count           19433.000000  \n",
       "mean               10.583728  \n",
       "std                 2.868782  \n",
       "min                 0.000000  \n",
       "25%                 8.938947  \n",
       "50%                10.622456  \n",
       "75%                12.104271  \n",
       "max                22.317730  \n",
       "\n",
       "[8 rows x 86 columns]"
      ]
     },
     "execution_count": 13,
     "metadata": {},
     "output_type": "execute_result"
    }
   ],
   "source": [
    "data_full.describe()"
   ]
  },
  {
   "cell_type": "markdown",
   "metadata": {},
   "source": [
    "Посмотрим пропуски данных"
   ]
  },
  {
   "cell_type": "code",
   "execution_count": 14,
   "metadata": {},
   "outputs": [
    {
     "data": {
      "text/plain": [
       "rougher.input.feed_au        0\n",
       "rougher.input.feed_ag        0\n",
       "rougher.input.feed_pb      100\n",
       "rougher.input.feed_sol      99\n",
       "rougher.input.feed_rate     11\n",
       "                          ... \n",
       "final.output.recovery        0\n",
       "final.output.tail_au         0\n",
       "final.output.tail_ag         1\n",
       "final.output.tail_pb       101\n",
       "final.output.tail_sol        6\n",
       "Length: 86, dtype: int64"
      ]
     },
     "execution_count": 14,
     "metadata": {},
     "output_type": "execute_result"
    }
   ],
   "source": [
    "data_train.isna().sum()\n",
    "data_test.isna().sum()\n",
    "data_full.isna().sum()"
   ]
  },
  {
   "cell_type": "markdown",
   "metadata": {},
   "source": [
    "Посчитаем эффективность обогащения (rougher.output.recovery), проверим её корректность <br>\n",
    "Формуля для расчёта recovery = C*(F-T)/F*(C-T)*100\n",
    "<br>\n",
    "где <br>\n",
    "C — доля золота в концентрате после флотации/очистки ('rougher.output.concentrate_au'); <br>\n",
    "F — доля золота в сырье/концентрате до флотации/очистки ('rougher.input.feed_au'); <br>\n",
    "T — доля золота в отвальных хвостах после флотации/очистки ('rougher.output.tail_au').<br> "
   ]
  },
  {
   "cell_type": "code",
   "execution_count": 15,
   "metadata": {},
   "outputs": [],
   "source": [
    "# напишем функцию для расчёта\n",
    "def recovery(row):\n",
    "    C = row['rougher.output.concentrate_au']\n",
    "    F = row['rougher.input.feed_au']\n",
    "    T = row['rougher.output.tail_au']\n",
    "    return C*(F-T)/(F*(C-T))*100"
   ]
  },
  {
   "cell_type": "code",
   "execution_count": 16,
   "metadata": {},
   "outputs": [],
   "source": [
    "# добавляем новый столбец\n",
    "data_train['rougher.output.new_recovery'] = data_train.apply(recovery, axis=1)"
   ]
  },
  {
   "cell_type": "markdown",
   "metadata": {},
   "source": [
    "Рассчитаем метрику MAE, чтобы посмотреть на разницу между расчетными и исходными данными по обогащению."
   ]
  },
  {
   "cell_type": "code",
   "execution_count": 17,
   "metadata": {
    "scrolled": true
   },
   "outputs": [
    {
     "data": {
      "text/plain": [
       "9.83758577644259e-15"
      ]
     },
     "execution_count": 17,
     "metadata": {},
     "output_type": "execute_result"
    }
   ],
   "source": [
    "mae(data_train['rougher.output.recovery'], data_train['rougher.output.new_recovery'])"
   ]
  },
  {
   "cell_type": "markdown",
   "metadata": {},
   "source": [
    "Вывод: вычисленное значение MAE имеет малое отклонение, значит параметр recovery в обучающей выборке посчитан верно."
   ]
  },
  {
   "cell_type": "markdown",
   "metadata": {},
   "source": [
    "Теперь можем удалить новый столбец"
   ]
  },
  {
   "cell_type": "code",
   "execution_count": 18,
   "metadata": {},
   "outputs": [],
   "source": [
    " data_train = data_train.drop('rougher.output.new_recovery', axis=1)"
   ]
  },
  {
   "cell_type": "markdown",
   "metadata": {},
   "source": [
    "Сравним признаки тестового и исходный датасетов"
   ]
  },
  {
   "cell_type": "code",
   "execution_count": 19,
   "metadata": {
    "collapsed": true
   },
   "outputs": [
    {
     "name": "stdout",
     "output_type": "stream",
     "text": [
      "rougher.calculation.sulfate_to_au_concentrate\n",
      "rougher.calculation.floatbank10_sulfate_to_au_feed\n",
      "rougher.calculation.floatbank11_sulfate_to_au_feed\n",
      "rougher.calculation.au_pb_ratio\n",
      "rougher.output.concentrate_au\n",
      "rougher.output.concentrate_ag\n",
      "rougher.output.concentrate_pb\n",
      "rougher.output.concentrate_sol\n",
      "rougher.output.recovery\n",
      "rougher.output.tail_au\n",
      "rougher.output.tail_ag\n",
      "rougher.output.tail_pb\n",
      "rougher.output.tail_sol\n",
      "primary_cleaner.output.concentrate_au\n",
      "primary_cleaner.output.concentrate_ag\n",
      "primary_cleaner.output.concentrate_pb\n",
      "primary_cleaner.output.concentrate_sol\n",
      "primary_cleaner.output.tail_au\n",
      "primary_cleaner.output.tail_ag\n",
      "primary_cleaner.output.tail_pb\n",
      "primary_cleaner.output.tail_sol\n",
      "secondary_cleaner.output.tail_au\n",
      "secondary_cleaner.output.tail_ag\n",
      "secondary_cleaner.output.tail_pb\n",
      "secondary_cleaner.output.tail_sol\n",
      "final.output.concentrate_au\n",
      "final.output.concentrate_ag\n",
      "final.output.concentrate_pb\n",
      "final.output.concentrate_sol\n",
      "final.output.recovery\n",
      "final.output.tail_au\n",
      "final.output.tail_ag\n",
      "final.output.tail_pb\n",
      "final.output.tail_sol\n"
     ]
    }
   ],
   "source": [
    "for col in data_full.columns:\n",
    "    if not data_test.columns.isin([col]).any():\n",
    "        print(col)"
   ]
  },
  {
   "cell_type": "markdown",
   "metadata": {},
   "source": [
    "**Вывод**\n",
    "<br>\n",
    "Количество признаков в тестовой выборке намного меньше, чем в двух других (53 против 87), вероятно признаки, которые отсутствую,  характерны для выходых данных промежуточных этапов технологического процесса извлечения золота из руды, которые заранее неизвестны. \n",
    "Необходимо будет добавить целевые признаки (rougher.output.recovery, final.output.recovery) в тестовую выборку."
   ]
  },
  {
   "cell_type": "markdown",
   "metadata": {},
   "source": [
    "<font color='blue'><b>Комментарий ревьюера: </b></font> ✔️\\\n",
    "<font color='green'> Верно!</font>"
   ]
  },
  {
   "cell_type": "markdown",
   "metadata": {},
   "source": [
    "Добавим целевые признаки в тестовую выборку"
   ]
  },
  {
   "cell_type": "code",
   "execution_count": 20,
   "metadata": {},
   "outputs": [],
   "source": [
    "data_test.loc[:,'rougher.output.recovery'] = data_full.loc[:,'rougher.output.recovery']\n",
    "data_test.loc[:,'final.output.recovery'] = data_full.loc[:,'final.output.recovery']"
   ]
  },
  {
   "cell_type": "markdown",
   "metadata": {},
   "source": [
    "Обработаем аномалии в датасетах"
   ]
  },
  {
   "cell_type": "markdown",
   "metadata": {},
   "source": [
    "Заполним пропуски данных"
   ]
  },
  {
   "cell_type": "code",
   "execution_count": 21,
   "metadata": {},
   "outputs": [],
   "source": [
    "data_train.fillna(method='ffill', inplace=True)\n",
    "data_test.fillna(method='ffill', inplace=True)\n",
    "data_full.fillna(method='ffill', inplace=True)"
   ]
  },
  {
   "cell_type": "code",
   "execution_count": 22,
   "metadata": {},
   "outputs": [
    {
     "data": {
      "text/html": [
       "<div>\n",
       "<style scoped>\n",
       "    .dataframe tbody tr th:only-of-type {\n",
       "        vertical-align: middle;\n",
       "    }\n",
       "\n",
       "    .dataframe tbody tr th {\n",
       "        vertical-align: top;\n",
       "    }\n",
       "\n",
       "    .dataframe thead th {\n",
       "        text-align: right;\n",
       "    }\n",
       "</style>\n",
       "<table border=\"1\" class=\"dataframe\">\n",
       "  <thead>\n",
       "    <tr style=\"text-align: right;\">\n",
       "      <th></th>\n",
       "      <th>data_train</th>\n",
       "      <th>data_test</th>\n",
       "      <th>data_full</th>\n",
       "    </tr>\n",
       "  </thead>\n",
       "  <tbody>\n",
       "    <tr>\n",
       "      <th>count NaN values</th>\n",
       "      <td>0</td>\n",
       "      <td>0</td>\n",
       "      <td>0</td>\n",
       "    </tr>\n",
       "  </tbody>\n",
       "</table>\n",
       "</div>"
      ],
      "text/plain": [
       "                  data_train  data_test  data_full\n",
       "count NaN values           0          0          0"
      ]
     },
     "execution_count": 22,
     "metadata": {},
     "output_type": "execute_result"
    }
   ],
   "source": [
    "# проверим\n",
    "pd.DataFrame({'data_train': data_train.isna().values.sum(),\n",
    "              'data_test': data_test.isna().values.sum(),\n",
    "              'data_full': data_full.isna().values.sum()}, index=['count NaN values'])"
   ]
  },
  {
   "cell_type": "markdown",
   "metadata": {},
   "source": [
    "**Вывод по этапу обработки данных**\n",
    "<br>\n",
    "<br>\n",
    "Признаков в полной и обучающей выборках - 87, в тестовой меньше - 53 (связано это с особенностью этапов технологического процесса, когда не все данные возможно внести сразу).\n",
    "<br>\n",
    "Провели расчет эффективности обогащения, он совпал с исходным.\n",
    "<br>\n",
    "Почти все признаки имеют тип float64 кроме столбца date, который был с типом object. Изменили тип данных этого столбца на datetime.\n",
    "Пропуски в данных обработали методом ffil. Дубликатов не обнаружен.  \n",
    "<br>"
   ]
  },
  {
   "cell_type": "markdown",
   "metadata": {},
   "source": [
    "## Анализ данных"
   ]
  },
  {
   "cell_type": "markdown",
   "metadata": {},
   "source": [
    "Посмотрим, как меняется концентрация металлов (Au, Ag, Pb) на различных этапах: в сырье, в черновом концентрате, в концентрате после первой очистки и в финальном концентрате. "
   ]
  },
  {
   "cell_type": "code",
   "execution_count": 23,
   "metadata": {},
   "outputs": [
    {
     "data": {
      "image/png": "[encoded data removed]",
      "text/plain": [
       "<Figure size 936x576 with 1 Axes>"
      ]
     },
     "metadata": {
      "needs_background": "light"
     },
     "output_type": "display_data"
    }
   ],
   "source": [
    "# концентрация золота\n",
    "plt.figure(figsize=(13,8))\n",
    "data_full['rougher.input.feed_au'].hist(bins=25, label='rougher.output.feed', alpha=0.8)\n",
    "data_full['rougher.output.concentrate_au'].hist(bins=25, label='rougher.output', alpha=0.5)\n",
    "data_full['primary_cleaner.output.concentrate_au'].hist(bins=25, label='primary_cleaner.output', alpha=0.5)\n",
    "data_full['final.output.concentrate_au'].hist(bins=25, label='secondary_cleaner.output', alpha=0.5)\n",
    "plt.title('Концентрация золота на различных этапах')\n",
    "plt.xlabel('Концентрация золота')\n",
    "plt.ylabel('Количество')\n",
    "plt.legend(loc='upper left')\n",
    "plt.show()"
   ]
  },
  {
   "cell_type": "code",
   "execution_count": 24,
   "metadata": {},
   "outputs": [
    {
     "data": {
      "image/png": "[encoded data removed]",
      "text/plain": [
       "<Figure size 936x576 with 1 Axes>"
      ]
     },
     "metadata": {
      "needs_background": "light"
     },
     "output_type": "display_data"
    }
   ],
   "source": [
    "# концентрация серебра\n",
    "plt.figure(figsize=(13,8))\n",
    "\n",
    "data_full['rougher.input.feed_ag'].hist(bins=25, label='rougher.output.feed', alpha=0.8)\n",
    "data_full['rougher.output.concentrate_ag'].hist(bins=25, label='rougher.output', alpha=0.5)\n",
    "data_full['primary_cleaner.output.concentrate_ag'].hist(bins=25, label='primary_cleaner.output', alpha=0.5)\n",
    "data_full['final.output.concentrate_ag'].hist(bins=25, label='secondary_cleaner.output', alpha=0.5)\n",
    "\n",
    "plt.title('Концентрация серебра на различных этапах')\n",
    "plt.legend(loc='upper right')\n",
    "plt.xlabel('Концентрация серебра')\n",
    "plt.ylabel('Количество')\n",
    "plt.show()"
   ]
  },
  {
   "cell_type": "code",
   "execution_count": 25,
   "metadata": {},
   "outputs": [
    {
     "data": {
      "image/png": "[encoded data removed]",
      "text/plain": [
       "<Figure size 936x576 with 1 Axes>"
      ]
     },
     "metadata": {
      "needs_background": "light"
     },
     "output_type": "display_data"
    }
   ],
   "source": [
    "# концентрация свинца\n",
    "\n",
    "plt.figure(figsize=(13,8))\n",
    "\n",
    "data_full['rougher.input.feed_pb'].hist(bins=25, label='rougher.output.feed', alpha=0.5)\n",
    "data_full['rougher.output.concentrate_pb'].hist(bins=25, label='rougher.output.concentrate', alpha=0.5)\n",
    "data_full['primary_cleaner.output.concentrate_pb'].hist(bins=25, label='primary_cleaner.output', alpha=0.5)\n",
    "data_full['final.output.concentrate_pb'].hist(bins=25, label='secondary_cleaner.output', alpha=0.5)\n",
    "plt.title('Концентрация свинца на различных этапах')\n",
    "plt.legend(loc='upper right')\n",
    "plt.xlabel('Концентрация свинца')\n",
    "plt.ylabel('Количество')\n",
    "plt.show()"
   ]
  },
  {
   "cell_type": "markdown",
   "metadata": {},
   "source": [
    "Концентрация золота на каждом этапе увеличивается. \n",
    "<br>\n",
    "У серебра наблюдается увеличение концентрации после первого этапа на втором, далее значения третьего этапа опускаются до значений первого. Далее резкое повышение на последнем этапе. \n",
    "<br>\n",
    "Концентрация свинца увеличивается после первого этапа очистки, на вторичной и первчиной очистке немного уменьшается. \n",
    "<br>\n",
    "На гистрограмах видны значения равные нулю, вероятно это выбросы."
   ]
  },
  {
   "cell_type": "markdown",
   "metadata": {},
   "source": [
    "Сравним распределения размеров гранул исходного сырья на обучающей и тестовой выборках. "
   ]
  },
  {
   "cell_type": "code",
   "execution_count": 26,
   "metadata": {},
   "outputs": [
    {
     "data": {
      "image/png": "[encoded data removed]",
      "text/plain": [
       "<Figure size 936x576 with 1 Axes>"
      ]
     },
     "metadata": {
      "needs_background": "light"
     },
     "output_type": "display_data"
    },
    {
     "name": "stdout",
     "output_type": "stream",
     "text": [
      "count    14579.000000\n",
      "mean        59.070865\n",
      "std         22.903811\n",
      "min          0.049194\n",
      "25%         47.322462\n",
      "50%         54.464259\n",
      "75%         64.469177\n",
      "max        484.967466\n",
      "Name: rougher.input.feed_size, dtype: float64\n",
      "count    4860.000000\n",
      "mean       59.136150\n",
      "std        19.512497\n",
      "min         0.046369\n",
      "25%        47.610795\n",
      "50%        55.461058\n",
      "75%        66.538910\n",
      "max       363.989699\n",
      "Name: rougher.input.feed_size, dtype: float64\n"
     ]
    }
   ],
   "source": [
    "# концентрация сырья на флотации в выборках train и test\n",
    "\n",
    "plt.figure(figsize=(13, 8))\n",
    "sns.kdeplot(data_train['rougher.input.feed_size'], label='train rougher.input.feed_size', alpha=0.5, shade=True)\n",
    "sns.kdeplot(data_test['rougher.input.feed_size'], label='test rougher.input.feed_size', alpha=0.7, shade=True)\n",
    "plt.xlim([0, 175])\n",
    "plt.xlabel('Размер гранул исходного сырья')\n",
    "plt.ylabel('Количество')\n",
    "plt.title('Распределение гранул сырья перед флотацией')\n",
    "plt.legend(loc='upper right')\n",
    "plt.show()\n",
    "print(data_train['rougher.input.feed_size'].describe())\n",
    "print(data_test['rougher.input.feed_size'].describe())"
   ]
  },
  {
   "cell_type": "code",
   "execution_count": 27,
   "metadata": {},
   "outputs": [
    {
     "data": {
      "image/png": "[encoded data removed]",
      "text/plain": [
       "<Figure size 936x576 with 1 Axes>"
      ]
     },
     "metadata": {
      "needs_background": "light"
     },
     "output_type": "display_data"
    },
    {
     "name": "stdout",
     "output_type": "stream",
     "text": [
      "count    14579.000000\n",
      "mean         7.307600\n",
      "std          0.621609\n",
      "min          1.080000\n",
      "25%          6.940000\n",
      "50%          7.280000\n",
      "75%          7.689666\n",
      "max         15.500000\n",
      "Name: primary_cleaner.input.feed_size, dtype: float64\n",
      "count    4860.000000\n",
      "mean        7.305514\n",
      "std         0.588602\n",
      "min         4.970000\n",
      "25%         6.940000\n",
      "50%         7.290000\n",
      "75%         7.630000\n",
      "max         9.630000\n",
      "Name: primary_cleaner.input.feed_size, dtype: float64\n"
     ]
    }
   ],
   "source": [
    "# концентрация сырья на этапе финальной очистки train и test\n",
    "\n",
    "plt.figure(figsize=(13, 8))\n",
    "sns.kdeplot(data_train['primary_cleaner.input.feed_size'], \n",
    "         label='train primary_cleaner.input.feed_size', alpha=0.3, shade=True)\n",
    "sns.kdeplot(data_test['primary_cleaner.input.feed_size'],  \n",
    "         label='test primary_cleaner.input.feed_size', alpha=0.3, shade=True)\n",
    "plt.xlim([5, 10])\n",
    "plt.xlabel('Размер гранул исходного сырья')\n",
    "plt.ylabel('Количество')\n",
    "plt.title('Распределение гранул сырья перед первичной очисткой')\n",
    "plt.legend(loc='upper right')\n",
    "plt.show()\n",
    "print(data_train['primary_cleaner.input.feed_size'].describe())\n",
    "print(data_test['primary_cleaner.input.feed_size'].describe())"
   ]
  },
  {
   "cell_type": "markdown",
   "metadata": {},
   "source": [
    "Диаграмы распределения оказались похожи, что может свидетельствовать об однородности данных размеров сырья в выборках обучающей и тестовой выборках. Наблюдаются выбросы."
   ]
  },
  {
   "cell_type": "markdown",
   "metadata": {},
   "source": [
    "Исследуем суммарную концентрацию металлов на разных стадиях: в сырье, в черновом концентрате, в концентрате после первой очистки и в финальном концентрате."
   ]
  },
  {
   "cell_type": "code",
   "execution_count": 28,
   "metadata": {},
   "outputs": [],
   "source": [
    "rougher_input_concentrate_train_sum = (data_train['rougher.input.feed_au'] + \n",
    "                                        data_train['rougher.input.feed_ag'] + \n",
    "                                        data_train['rougher.input.feed_pb'])\n",
    "\n",
    "rougher_output_concentrate_train_sum = (data_train['rougher.output.concentrate_au'] + \n",
    "                                        data_train['rougher.output.concentrate_ag'] + \n",
    "                                        data_train['rougher.output.concentrate_pb'])\n",
    "\n",
    "primary_cleaner_output_concentrate_train_sum = (data_train['primary_cleaner.output.concentrate_au'] + \n",
    "                                                data_train['primary_cleaner.output.concentrate_ag'] + \n",
    "                                                data_train['primary_cleaner.output.concentrate_pb'])\n",
    "\n",
    "final_output_concentrate_train_sum = (data_train['final.output.concentrate_au'] + \n",
    "                                      data_train['final.output.concentrate_ag'] + \n",
    "                                      data_train['final.output.concentrate_pb'])"
   ]
  },
  {
   "cell_type": "code",
   "execution_count": 29,
   "metadata": {},
   "outputs": [
    {
     "data": {
      "image/png": "[encoded data removed]",
      "text/plain": [
       "<Figure size 936x576 with 1 Axes>"
      ]
     },
     "metadata": {
      "needs_background": "light"
     },
     "output_type": "display_data"
    }
   ],
   "source": [
    "# строим гистограмму\n",
    "plt.figure(figsize=[13,8])\n",
    "\n",
    "plt.hist(rougher_input_concentrate_train_sum, bins=100, label = 'rougher_input', alpha=.4)\n",
    "plt.hist(rougher_output_concentrate_train_sum, bins=100, label = 'rougher_output', alpha=.4)\n",
    "plt.hist(primary_cleaner_output_concentrate_train_sum, bins=100, label = 'primary_cleaner_output', alpha=.4)\n",
    "plt.hist(final_output_concentrate_train_sum, bins=100, label = 'final_output', alpha=.4)\n",
    "\n",
    "plt.xlim([0, 100])\n",
    "plt.ylim([0, 3500])\n",
    "\n",
    "plt.xlabel(\"Сумма концентраций\")\n",
    "plt.ylabel(\"Количество\")\n",
    "\n",
    "plt.legend(loc='upper right', fontsize='x-large')\n",
    "\n",
    "plt.title(\"Распределение суммарной концентрации металлов на разных стадиях\")\n",
    "plt.show()"
   ]
  },
  {
   "cell_type": "markdown",
   "metadata": {},
   "source": [
    "Наблюдаем на графике аномальные нулевые значения."
   ]
  },
  {
   "cell_type": "markdown",
   "metadata": {},
   "source": [
    "Проверим их количество"
   ]
  },
  {
   "cell_type": "markdown",
   "metadata": {},
   "source": [
    "На этапе сырья"
   ]
  },
  {
   "cell_type": "code",
   "execution_count": 30,
   "metadata": {},
   "outputs": [
    {
     "data": {
      "text/plain": [
       "17"
      ]
     },
     "execution_count": 30,
     "metadata": {},
     "output_type": "execute_result"
    }
   ],
   "source": [
    "data_train[data_train['rougher.input.feed_au'] < 1]['rougher.input.feed_au'].count()"
   ]
  },
  {
   "cell_type": "code",
   "execution_count": 31,
   "metadata": {},
   "outputs": [
    {
     "data": {
      "text/plain": [
       "4"
      ]
     },
     "execution_count": 31,
     "metadata": {},
     "output_type": "execute_result"
    }
   ],
   "source": [
    "data_train[data_train['rougher.input.feed_ag'] < 1]['rougher.input.feed_ag'].count()"
   ]
  },
  {
   "cell_type": "code",
   "execution_count": 32,
   "metadata": {
    "scrolled": true
   },
   "outputs": [
    {
     "data": {
      "text/plain": [
       "4"
      ]
     },
     "execution_count": 32,
     "metadata": {},
     "output_type": "execute_result"
    }
   ],
   "source": [
    "data_train[data_train['rougher.input.feed_ag'] < 1]['rougher.input.feed_ag'].count()"
   ]
  },
  {
   "cell_type": "markdown",
   "metadata": {},
   "source": [
    "На этапе чернового концентрата"
   ]
  },
  {
   "cell_type": "code",
   "execution_count": 33,
   "metadata": {},
   "outputs": [
    {
     "data": {
      "text/plain": [
       "398"
      ]
     },
     "execution_count": 33,
     "metadata": {},
     "output_type": "execute_result"
    }
   ],
   "source": [
    "data_train[data_train['rougher.output.concentrate_au'] < 1]['rougher.output.concentrate_au'].count()"
   ]
  },
  {
   "cell_type": "code",
   "execution_count": 34,
   "metadata": {},
   "outputs": [
    {
     "data": {
      "text/plain": [
       "399"
      ]
     },
     "execution_count": 34,
     "metadata": {},
     "output_type": "execute_result"
    }
   ],
   "source": [
    "data_train[data_train['rougher.output.concentrate_ag'] < 1]['rougher.output.concentrate_ag'].count()"
   ]
  },
  {
   "cell_type": "code",
   "execution_count": 35,
   "metadata": {},
   "outputs": [
    {
     "data": {
      "text/plain": [
       "401"
      ]
     },
     "execution_count": 35,
     "metadata": {},
     "output_type": "execute_result"
    }
   ],
   "source": [
    "data_train[data_train['rougher.output.concentrate_pb'] < 1]['rougher.output.concentrate_pb'].count()"
   ]
  },
  {
   "cell_type": "markdown",
   "metadata": {},
   "source": [
    "На этапе концентрата после первой очистки"
   ]
  },
  {
   "cell_type": "code",
   "execution_count": 36,
   "metadata": {},
   "outputs": [
    {
     "data": {
      "text/plain": [
       "214"
      ]
     },
     "execution_count": 36,
     "metadata": {},
     "output_type": "execute_result"
    }
   ],
   "source": [
    "data_train[data_train['primary_cleaner.output.concentrate_au'] < 1]['primary_cleaner.output.concentrate_au'].count()"
   ]
  },
  {
   "cell_type": "code",
   "execution_count": 37,
   "metadata": {},
   "outputs": [
    {
     "data": {
      "text/plain": [
       "239"
      ]
     },
     "execution_count": 37,
     "metadata": {},
     "output_type": "execute_result"
    }
   ],
   "source": [
    "data_train[data_train['primary_cleaner.output.concentrate_ag'] < 1]['primary_cleaner.output.concentrate_ag'].count()"
   ]
  },
  {
   "cell_type": "code",
   "execution_count": 38,
   "metadata": {},
   "outputs": [
    {
     "data": {
      "text/plain": [
       "242"
      ]
     },
     "execution_count": 38,
     "metadata": {},
     "output_type": "execute_result"
    }
   ],
   "source": [
    "data_train[data_train['primary_cleaner.output.concentrate_pb'] < 1]['primary_cleaner.output.concentrate_pb'].count()"
   ]
  },
  {
   "cell_type": "markdown",
   "metadata": {},
   "source": [
    "На этапе финального концентрата"
   ]
  },
  {
   "cell_type": "code",
   "execution_count": 39,
   "metadata": {},
   "outputs": [
    {
     "data": {
      "text/plain": [
       "100"
      ]
     },
     "execution_count": 39,
     "metadata": {},
     "output_type": "execute_result"
    }
   ],
   "source": [
    "data_train[data_train['final.output.concentrate_au'] < 1]['final.output.concentrate_au'].count()"
   ]
  },
  {
   "cell_type": "code",
   "execution_count": 40,
   "metadata": {},
   "outputs": [
    {
     "data": {
      "text/plain": [
       "117"
      ]
     },
     "execution_count": 40,
     "metadata": {},
     "output_type": "execute_result"
    }
   ],
   "source": [
    "data_train[data_train['final.output.concentrate_ag'] < 1]['final.output.concentrate_ag'].count()"
   ]
  },
  {
   "cell_type": "code",
   "execution_count": 41,
   "metadata": {},
   "outputs": [
    {
     "data": {
      "text/plain": [
       "103"
      ]
     },
     "execution_count": 41,
     "metadata": {},
     "output_type": "execute_result"
    }
   ],
   "source": [
    "data_train[data_train['final.output.concentrate_pb'] < 1]['final.output.concentrate_pb'].count()"
   ]
  },
  {
   "cell_type": "markdown",
   "metadata": {},
   "source": [
    "Значений этих не очень много, поэтому удалим эти выбросы"
   ]
  },
  {
   "cell_type": "code",
   "execution_count": 42,
   "metadata": {},
   "outputs": [
    {
     "data": {
      "text/html": [
       "<div>\n",
       "<style scoped>\n",
       "    .dataframe tbody tr th:only-of-type {\n",
       "        vertical-align: middle;\n",
       "    }\n",
       "\n",
       "    .dataframe tbody tr th {\n",
       "        vertical-align: top;\n",
       "    }\n",
       "\n",
       "    .dataframe thead th {\n",
       "        text-align: right;\n",
       "    }\n",
       "</style>\n",
       "<table border=\"1\" class=\"dataframe\">\n",
       "  <thead>\n",
       "    <tr style=\"text-align: right;\">\n",
       "      <th></th>\n",
       "      <th>rougher.input.feed_au</th>\n",
       "      <th>rougher.input.feed_ag</th>\n",
       "      <th>rougher.input.feed_pb</th>\n",
       "      <th>rougher.input.feed_sol</th>\n",
       "      <th>rougher.input.feed_rate</th>\n",
       "      <th>rougher.input.feed_size</th>\n",
       "      <th>rougher.input.floatbank10_sulfate</th>\n",
       "      <th>rougher.input.floatbank10_xanthate</th>\n",
       "      <th>rougher.state.floatbank10_a_air</th>\n",
       "      <th>rougher.state.floatbank10_a_level</th>\n",
       "      <th>...</th>\n",
       "      <th>secondary_cleaner.output.tail_sol</th>\n",
       "      <th>final.output.concentrate_au</th>\n",
       "      <th>final.output.concentrate_ag</th>\n",
       "      <th>final.output.concentrate_pb</th>\n",
       "      <th>final.output.concentrate_sol</th>\n",
       "      <th>final.output.recovery</th>\n",
       "      <th>final.output.tail_au</th>\n",
       "      <th>final.output.tail_ag</th>\n",
       "      <th>final.output.tail_pb</th>\n",
       "      <th>final.output.tail_sol</th>\n",
       "    </tr>\n",
       "    <tr>\n",
       "      <th>date</th>\n",
       "      <th></th>\n",
       "      <th></th>\n",
       "      <th></th>\n",
       "      <th></th>\n",
       "      <th></th>\n",
       "      <th></th>\n",
       "      <th></th>\n",
       "      <th></th>\n",
       "      <th></th>\n",
       "      <th></th>\n",
       "      <th></th>\n",
       "      <th></th>\n",
       "      <th></th>\n",
       "      <th></th>\n",
       "      <th></th>\n",
       "      <th></th>\n",
       "      <th></th>\n",
       "      <th></th>\n",
       "      <th></th>\n",
       "      <th></th>\n",
       "      <th></th>\n",
       "    </tr>\n",
       "  </thead>\n",
       "  <tbody>\n",
       "  </tbody>\n",
       "</table>\n",
       "<p>0 rows × 86 columns</p>\n",
       "</div>"
      ],
      "text/plain": [
       "Empty DataFrame\n",
       "Columns: [rougher.input.feed_au, rougher.input.feed_ag, rougher.input.feed_pb, rougher.input.feed_sol, rougher.input.feed_rate, rougher.input.feed_size, rougher.input.floatbank10_sulfate, rougher.input.floatbank10_xanthate, rougher.state.floatbank10_a_air, rougher.state.floatbank10_a_level, rougher.state.floatbank10_b_air, rougher.state.floatbank10_b_level, rougher.state.floatbank10_c_air, rougher.state.floatbank10_c_level, rougher.state.floatbank10_d_air, rougher.state.floatbank10_d_level, rougher.state.floatbank10_e_air, rougher.state.floatbank10_e_level, rougher.state.floatbank10_f_air, rougher.state.floatbank10_f_level, rougher.input.floatbank11_sulfate, rougher.input.floatbank11_xanthate, rougher.calculation.sulfate_to_au_concentrate, rougher.calculation.floatbank10_sulfate_to_au_feed, rougher.calculation.floatbank11_sulfate_to_au_feed, rougher.calculation.au_pb_ratio, rougher.output.concentrate_au, rougher.output.concentrate_ag, rougher.output.concentrate_pb, rougher.output.concentrate_sol, rougher.output.recovery, rougher.output.tail_au, rougher.output.tail_ag, rougher.output.tail_pb, rougher.output.tail_sol, primary_cleaner.input.sulfate, primary_cleaner.input.depressant, primary_cleaner.input.feed_size, primary_cleaner.input.xanthate, primary_cleaner.state.floatbank8_a_air, primary_cleaner.state.floatbank8_a_level, primary_cleaner.state.floatbank8_b_air, primary_cleaner.state.floatbank8_b_level, primary_cleaner.state.floatbank8_c_air, primary_cleaner.state.floatbank8_c_level, primary_cleaner.state.floatbank8_d_air, primary_cleaner.state.floatbank8_d_level, primary_cleaner.output.concentrate_au, primary_cleaner.output.concentrate_ag, primary_cleaner.output.concentrate_pb, primary_cleaner.output.concentrate_sol, primary_cleaner.output.tail_au, primary_cleaner.output.tail_ag, primary_cleaner.output.tail_pb, primary_cleaner.output.tail_sol, secondary_cleaner.state.floatbank2_a_air, secondary_cleaner.state.floatbank2_a_level, secondary_cleaner.state.floatbank2_b_air, secondary_cleaner.state.floatbank2_b_level, secondary_cleaner.state.floatbank3_a_air, secondary_cleaner.state.floatbank3_a_level, secondary_cleaner.state.floatbank3_b_air, secondary_cleaner.state.floatbank3_b_level, secondary_cleaner.state.floatbank4_a_air, secondary_cleaner.state.floatbank4_a_level, secondary_cleaner.state.floatbank4_b_air, secondary_cleaner.state.floatbank4_b_level, secondary_cleaner.state.floatbank5_a_air, secondary_cleaner.state.floatbank5_a_level, secondary_cleaner.state.floatbank5_b_air, secondary_cleaner.state.floatbank5_b_level, secondary_cleaner.state.floatbank6_a_air, secondary_cleaner.state.floatbank6_a_level, secondary_cleaner.output.tail_au, secondary_cleaner.output.tail_ag, secondary_cleaner.output.tail_pb, secondary_cleaner.output.tail_sol, final.output.concentrate_au, final.output.concentrate_ag, final.output.concentrate_pb, final.output.concentrate_sol, final.output.recovery, final.output.tail_au, final.output.tail_ag, final.output.tail_pb, final.output.tail_sol]\n",
       "Index: []\n",
       "\n",
       "[0 rows x 86 columns]"
      ]
     },
     "execution_count": 42,
     "metadata": {},
     "output_type": "execute_result"
    }
   ],
   "source": [
    "data_train = data_train.drop(data_train[data_train['rougher.input.feed_au'] == 0].index)\n",
    "data_train[data_train['rougher.input.feed_au'] == 0].head()\n",
    "\n",
    "data_train = data_train.drop(data_train[data_train['rougher.input.feed_ag'] == 0].index)\n",
    "data_train[data_train['rougher.input.feed_ag'] == 0].head()\n",
    "\n",
    "data_train = data_train.drop(data_train[data_train['rougher.input.feed_pb'] == 0].index)\n",
    "data_train[data_train['rougher.input.feed_pb'] == 0].head()\n",
    "\n",
    "data_train = data_train.drop(data_train[data_train['rougher.output.concentrate_au'] == 0].index)\n",
    "data_train[data_train['rougher.output.concentrate_au'] == 0].head()\n",
    "\n",
    "data_train = data_train.drop(data_train[data_train['rougher.output.concentrate_ag'] == 0].index)\n",
    "data_train[data_train['rougher.output.concentrate_ag'] == 0].head()\n",
    "\n",
    "data_train = data_train.drop(data_train[data_train['rougher.output.concentrate_pb'] == 0].index)\n",
    "data_train[data_train['rougher.output.concentrate_pb'] == 0].head()\n",
    "\n",
    "data_train = data_train.drop(data_train[data_train['primary_cleaner.output.concentrate_au'] == 0].index)\n",
    "data_train[data_train['primary_cleaner.output.concentrate_au'] == 0].head()\n",
    "\n",
    "data_train = data_train.drop(data_train[data_train['primary_cleaner.output.concentrate_ag'] == 0].index)\n",
    "data_train[data_train['primary_cleaner.output.concentrate_ag'] == 0].head()\n",
    "\n",
    "data_train = data_train.drop(data_train[data_train['primary_cleaner.output.concentrate_pb'] == 0].index)\n",
    "data_train[data_train['primary_cleaner.output.concentrate_pb'] == 0].head()\n",
    "\n",
    "data_train = data_train.drop(data_train[data_train['final.output.concentrate_au'] == 0].index)\n",
    "data_train[data_train['final.output.concentrate_au'] == 0].head()\n",
    "\n",
    "data_train = data_train.drop(data_train[data_train['final.output.concentrate_ag'] == 0].index)\n",
    "data_train[data_train['final.output.concentrate_ag'] == 0].head()\n",
    "\n",
    "data_train = data_train.drop(data_train[data_train['final.output.concentrate_pb'] == 0].index)\n",
    "data_train[data_train['final.output.concentrate_pb'] == 0].head()"
   ]
  },
  {
   "cell_type": "markdown",
   "metadata": {},
   "source": [
    "Посмотрим на график теперь"
   ]
  },
  {
   "cell_type": "code",
   "execution_count": 64,
   "metadata": {},
   "outputs": [
    {
     "data": {
      "image/png": "[encoded data removed]",
      "text/plain": [
       "<Figure size 936x576 with 1 Axes>"
      ]
     },
     "metadata": {
      "needs_background": "light"
     },
     "output_type": "display_data"
    }
   ],
   "source": [
    "plt.figure(figsize=[13,8])\n",
    "\n",
    "plt.hist(rougher_input_concentrate_train_sum, bins=100, label = 'rougher_input', alpha=.4)\n",
    "plt.hist(rougher_output_concentrate_train_sum, bins=100, label = 'rougher_output', alpha=.4)\n",
    "plt.hist(primary_cleaner_output_concentrate_train_sum, bins=100, label = 'primary_cleaner_output', alpha=.4)\n",
    "plt.hist(final_output_concentrate_train_sum, bins=100, label = 'final_output', alpha=.4)\n",
    "\n",
    "plt.xlim([0, 100])\n",
    "plt.ylim([0, 3500])\n",
    "\n",
    "plt.xlabel(\"Сумма концентраций металлов\")\n",
    "plt.ylabel(\"Количество\")\n",
    "\n",
    "plt.legend(loc='upper right', fontsize='x-large')\n",
    "\n",
    "plt.title(\"Распределение суммарной концентрации металлов на разных стадиях (после удаления выбросов)\")\n",
    "plt.show()"
   ]
  },
  {
   "cell_type": "markdown",
   "metadata": {},
   "source": [
    "**Вывод по этапу анализа данных**\n",
    "- изучили и проанализировали концентрация металлов (Au, Ag, Pb) на разных этапах очистки;\n",
    "- изучили и проанализировали размер гранул сырья на обучающей и тестовой выборках;\n",
    "- посчитали суммарную концентрация металлов на разных стадиях: в сырье, в черновом концентрате, в концентрате после первой очистки и в финальном концентрате;\n",
    "- вычислили и обработали аномалии. "
   ]
  },
  {
   "cell_type": "markdown",
   "metadata": {},
   "source": [
    "## Модель"
   ]
  },
  {
   "cell_type": "markdown",
   "metadata": {},
   "source": [
    "Напишим функцию для вычисления итоговой sMAPE."
   ]
  },
  {
   "cell_type": "markdown",
   "metadata": {},
   "source": [
    "Необходимо спрогнозировать две величины:\n",
    "- эффективность обогащения чернового концентрата rougher.output.recovery;\n",
    "- эффективность обогащения финального концентрата final.output.recovery."
   ]
  },
  {
   "cell_type": "code",
   "execution_count": 45,
   "metadata": {},
   "outputs": [],
   "source": [
    "def smape(target, prediction):\n",
    "    abs_diff_rougher = [abs(target['rougher.output.recovery'][i] - prediction[i][0]) for i in range(len(prediction))]\n",
    "    abs_diff_final = [abs(target['final.output.recovery'][i] - prediction[i][1]) for i in range(len(prediction))]\n",
    "    \n",
    "    denominator_rougher = [(abs(target['rougher.output.recovery'][i]) + abs(prediction[i][0])) / 2 for i in range(len(prediction))]\n",
    "    denominator_final = [(abs(target['final.output.recovery'][i]) + abs(prediction[i][1])) / 2 for i in range(len(prediction))]\n",
    "\n",
    "    smape_rougher = sum(abs_diff_rougher) / sum(denominator_rougher) * 100\n",
    "    smape_final = sum(abs_diff_final) / sum(denominator_final) * 100\n",
    "    \n",
    "    smape_combined = 0.25 * smape_rougher + 0.75 * smape_final\n",
    "    \n",
    "    return smape_combined"
   ]
  },
  {
   "cell_type": "code",
   "execution_count": 46,
   "metadata": {},
   "outputs": [],
   "source": [
    "columns = list(set(data_train.columns) - set(data_test.columns))"
   ]
  },
  {
   "cell_type": "code",
   "execution_count": 47,
   "metadata": {},
   "outputs": [],
   "source": [
    "data_train.drop(columns, axis=1, inplace = True)"
   ]
  },
  {
   "cell_type": "code",
   "execution_count": 48,
   "metadata": {},
   "outputs": [],
   "source": [
    "target_train = data_train[['rougher.output.recovery', 'final.output.recovery']]\n",
    "features_train = data_train.drop(['rougher.output.recovery', 'final.output.recovery'],axis = 1)\n",
    "\n",
    "target_test = data_test[['rougher.output.recovery', 'final.output.recovery']]\n",
    "features_test = data_test.drop(['rougher.output.recovery', 'final.output.recovery'],axis = 1)"
   ]
  },
  {
   "cell_type": "code",
   "execution_count": 49,
   "metadata": {},
   "outputs": [],
   "source": [
    "score = make_scorer(smape)"
   ]
  },
  {
   "cell_type": "markdown",
   "metadata": {},
   "source": [
    "Обучим разные модели и оценим их качество кросс-валидацией. "
   ]
  },
  {
   "cell_type": "markdown",
   "metadata": {},
   "source": [
    "**Линейная регрессия**"
   ]
  },
  {
   "cell_type": "code",
   "execution_count": 50,
   "metadata": {},
   "outputs": [
    {
     "data": {
      "text/plain": [
       "LinearRegression()"
      ]
     },
     "execution_count": 50,
     "metadata": {},
     "output_type": "execute_result"
    }
   ],
   "source": [
    "model_LR = LinearRegression()\n",
    "model_LR.fit(features_train, target_train)"
   ]
  },
  {
   "cell_type": "code",
   "execution_count": 51,
   "metadata": {},
   "outputs": [
    {
     "data": {
      "text/plain": [
       "8.507849981455417"
      ]
     },
     "execution_count": 51,
     "metadata": {},
     "output_type": "execute_result"
    }
   ],
   "source": [
    "score_LR = cross_val_score(model_LR, features_train, target_train, cv=5, scoring=score)\n",
    "score_LR.mean()"
   ]
  },
  {
   "cell_type": "code",
   "execution_count": 52,
   "metadata": {},
   "outputs": [
    {
     "name": "stdout",
     "output_type": "stream",
     "text": [
      "Лучшее значение smape для модели дерева решений: 8.795396927122656 с глубиной (depth) = 4 и количеством наблюдений (samples) =  2\n"
     ]
    }
   ],
   "source": [
    "# найдём лучшие параметры max_depth и min_samples_leaf для модели дерева решений\n",
    "# %%time\n",
    "best = 1000\n",
    "d = 0\n",
    "s = 0\n",
    "for depth in range(4,20,2):\n",
    "    for samples in range(2, 11,2):\n",
    "        model_DTR = DecisionTreeRegressor(max_depth = depth,min_samples_leaf = samples, random_state = 42)\n",
    "        score_DTR = cross_val_score(model_DTR, features_train, target_train, cv=5, scoring = score).mean()\n",
    "        if score_DTR < best:\n",
    "            best = score_DTR\n",
    "            d = depth\n",
    "            s = samples\n",
    "print('Лучшее значение smape для модели дерева решений:', best, 'с глубиной (depth) =', d, 'и количеством наблюдений (samples) = ', s)"
   ]
  },
  {
   "cell_type": "code",
   "execution_count": 53,
   "metadata": {},
   "outputs": [
    {
     "name": "stdout",
     "output_type": "stream",
     "text": [
      "Лучшее значение smape для модели случайного леса: 8.150955125451166 с глубиной (depth) = 3 и количеством деревьев (estimators) =  27\n"
     ]
    }
   ],
   "source": [
    "# найдём лучшие параметры max_depth и n_estimators для модели случайного леса\n",
    "\n",
    "# %%time\n",
    "best = 1000\n",
    "d = 0\n",
    "e = 0\n",
    "for depth in range(1,16,2):\n",
    "    for estim in range(1,30,2):\n",
    "        model_RFR = RandomForestRegressor(max_depth = depth, n_estimators = estim, random_state = 42)\n",
    "        score_RFR = cross_val_score(model_RFR, features_train, target_train, cv=5, scoring = score).mean()\n",
    "        if score_RFR < best:\n",
    "            best = score_RFR\n",
    "            d = depth\n",
    "            e = estim\n",
    "print('Лучшее значение smape для модели случайного леса:', best, 'с глубиной (depth) =', d, 'и количеством деревьев (estimators) = ', e)"
   ]
  },
  {
   "cell_type": "markdown",
   "metadata": {},
   "source": [
    "Выберем лучшую модель.\n",
    "В нашем случае это получилась модель случайного леса с параметрами:\n",
    "- глубина 3, количество деревьев 27."
   ]
  },
  {
   "cell_type": "code",
   "execution_count": null,
   "metadata": {},
   "outputs": [],
   "source": [
    "# создаем модель случайного леса с заданными параметрами\n",
    "model_RFR = RandomForestRegressor(max_depth=3, n_estimators=27, random_state=42)\n",
    "scores_RFR = cross_val_score(model_RFR, features_train, target_train, cv=5, scoring='neg_mean_absolute_percentage_error')\n",
    "\n",
    "# выбираем и обучаем лучшую модель на основе кросс-валидации\n",
    "best_model_RFR = model_RFR\n",
    "best_model_RFR.fit(features_train, target_train)\n",
    "\n",
    "prediction_RFR = best_model_RFR.predict(features_test)\n",
    "\n",
    "# вычисляем SMAPE между истинными и предсказанными значениями\n",
    "smape_RFR = smape(target_test, prediction_RFR)\n",
    "smape_RFR\n"
   ]
  },
  {
   "cell_type": "code",
   "execution_count": 66,
   "metadata": {},
   "outputs": [
    {
     "data": {
      "text/plain": [
       "6.982128044422887"
      ]
     },
     "execution_count": 66,
     "metadata": {},
     "output_type": "execute_result"
    }
   ],
   "source": [
    "# создание модели решающего дерева с заданными параметрами\n",
    "model_DTR = DecisionTreeRegressor(max_depth=4, min_samples_leaf=2, random_state=42)\n",
    "\n",
    "# кросс-валидация и выбор лучшей модели \n",
    "scores_DTR = cross_val_score(model_DTR, features_train, target_train, cv=5, scoring='neg_mean_absolute_percentage_error')\n",
    "best_model_DTR = model_DTR\n",
    "\n",
    "# обучаем модель на полном наборе обучающих данных\n",
    "best_model_DTR.fit(features_train, target_train)\n",
    "\n",
    "# предсказание целевой переменной с использованием лучшей модели\n",
    "prediction_DTR = best_model_DTR.predict(features_test)\n",
    "# вычисление SMAPE \n",
    "smape_DTR = smape(target_test, prediction_DTR)\n",
    "smape_DTR"
   ]
  },
  {
   "cell_type": "markdown",
   "metadata": {},
   "source": [
    "Проверим лучшую модель на тестовой выборке. "
   ]
  },
  {
   "cell_type": "code",
   "execution_count": 58,
   "metadata": {},
   "outputs": [],
   "source": [
    "def model_RFR_test(features_train, target_train, features_test, depth, estimators):\n",
    "   \n",
    "    model_RFR_test = RandomForestRegressor(random_state=12345, max_depth = 3, n_estimators=27)\n",
    "    model_RFR_test.fit(features_train, target_train)\n",
    "    predict_model_RFR_test = model_RFR_test.predict(features_test)\n",
    "\n",
    "    return predict_model_RFR_test"
   ]
  },
  {
   "cell_type": "code",
   "execution_count": 59,
   "metadata": {},
   "outputs": [],
   "source": [
    "predict_test = model_RFR_test(features_train, target_train, features_test, 5, 150)"
   ]
  },
  {
   "cell_type": "code",
   "execution_count": 60,
   "metadata": {},
   "outputs": [],
   "source": [
    "smape_test = smape(target_test, predict_test)"
   ]
  },
  {
   "cell_type": "code",
   "execution_count": 61,
   "metadata": {},
   "outputs": [
    {
     "name": "stdout",
     "output_type": "stream",
     "text": [
      "smape на тестовых данных = 7.2\n"
     ]
    }
   ],
   "source": [
    "print('smape на тестовых данных =', round(smape_test, 3))"
   ]
  },
  {
   "cell_type": "markdown",
   "metadata": {},
   "source": [
    "Проверим модель на адекватность"
   ]
  },
  {
   "cell_type": "code",
   "execution_count": 62,
   "metadata": {},
   "outputs": [
    {
     "data": {
      "text/plain": [
       "8.261050723121862"
      ]
     },
     "execution_count": 62,
     "metadata": {},
     "output_type": "execute_result"
    }
   ],
   "source": [
    "# проверяем на адекватность\n",
    "\n",
    "model_constant = target_test[['rougher.output.recovery','final.output.recovery']]\n",
    "model_constant['rougher.output.recovery'] = target_train['rougher.output.recovery'].mean()\n",
    "model_constant['final.output.recovery'] = target_train['final.output.recovery'].mean()\n",
    "smape(target_test,model_constant.to_numpy())\n"
   ]
  },
  {
   "cell_type": "code",
   "execution_count": 63,
   "metadata": {
    "scrolled": true
   },
   "outputs": [
    {
     "name": "stdout",
     "output_type": "stream",
     "text": [
      "Итоговое значение smape константной модели на тестовой выборке равна 8\n"
     ]
    }
   ],
   "source": [
    "print('Итоговое значение smape константной модели на тестовой выборке равна', round(smape(target_test,model_constant.to_numpy())))"
   ]
  },
  {
   "cell_type": "markdown",
   "metadata": {},
   "source": [
    "**Вывод**\n",
    "<br>\n",
    "- рассчитали функцию для вычисления sMAPE;\n",
    "- обучили на обучающей выборке модели линейной регрессии, дерева решений и случайного леса;\n",
    "- оценили каждый модель и выбрали модель случайного леса с параметрами: глубина = 3, количество деревьев = 27; такие параметры позволили получить smape = 7.47;\n",
    "- после проверки модели на адекватность, итоговая оценка smape константной модели на тестовых данных получилась 8."
   ]
  }
 ],
 "metadata": {
  "ExecuteTimeLog": [
   {
    "duration": 10,
    "start_time": "2023-06-16T08:36:04.514Z"
   },
   {
    "duration": 1546,
    "start_time": "2023-06-17T19:04:38.440Z"
   },
   {
    "duration": 2513,
    "start_time": "2023-06-17T19:04:39.988Z"
   },
   {
    "duration": 0,
    "start_time": "2023-06-17T19:04:42.503Z"
   },
   {
    "duration": 0,
    "start_time": "2023-06-17T19:04:42.504Z"
   },
   {
    "duration": 0,
    "start_time": "2023-06-17T19:04:42.505Z"
   },
   {
    "duration": 0,
    "start_time": "2023-06-17T19:04:42.507Z"
   },
   {
    "duration": 0,
    "start_time": "2023-06-17T19:04:42.507Z"
   },
   {
    "duration": 0,
    "start_time": "2023-06-17T19:04:42.509Z"
   },
   {
    "duration": 0,
    "start_time": "2023-06-17T19:04:42.510Z"
   },
   {
    "duration": 0,
    "start_time": "2023-06-17T19:04:42.510Z"
   },
   {
    "duration": 0,
    "start_time": "2023-06-17T19:04:42.512Z"
   },
   {
    "duration": 0,
    "start_time": "2023-06-17T19:04:42.513Z"
   },
   {
    "duration": 0,
    "start_time": "2023-06-17T19:04:42.514Z"
   },
   {
    "duration": 0,
    "start_time": "2023-06-17T19:04:42.515Z"
   },
   {
    "duration": 0,
    "start_time": "2023-06-17T19:04:42.516Z"
   },
   {
    "duration": 0,
    "start_time": "2023-06-17T19:04:42.517Z"
   },
   {
    "duration": 1,
    "start_time": "2023-06-17T19:04:42.517Z"
   },
   {
    "duration": 0,
    "start_time": "2023-06-17T19:04:42.519Z"
   },
   {
    "duration": 0,
    "start_time": "2023-06-17T19:04:42.520Z"
   },
   {
    "duration": 0,
    "start_time": "2023-06-17T19:04:42.520Z"
   },
   {
    "duration": 0,
    "start_time": "2023-06-17T19:04:42.521Z"
   },
   {
    "duration": 0,
    "start_time": "2023-06-17T19:04:42.524Z"
   },
   {
    "duration": 0,
    "start_time": "2023-06-17T19:04:42.525Z"
   },
   {
    "duration": 0,
    "start_time": "2023-06-17T19:04:42.526Z"
   },
   {
    "duration": 0,
    "start_time": "2023-06-17T19:04:42.527Z"
   },
   {
    "duration": 0,
    "start_time": "2023-06-17T19:04:42.528Z"
   },
   {
    "duration": 0,
    "start_time": "2023-06-17T19:04:42.529Z"
   },
   {
    "duration": 0,
    "start_time": "2023-06-17T19:04:42.530Z"
   },
   {
    "duration": 88,
    "start_time": "2023-06-17T19:05:19.359Z"
   },
   {
    "duration": 2561,
    "start_time": "2023-06-17T19:05:29.451Z"
   },
   {
    "duration": 819,
    "start_time": "2023-06-17T19:05:34.608Z"
   },
   {
    "duration": 2433,
    "start_time": "2023-06-17T19:06:44.412Z"
   },
   {
    "duration": 7,
    "start_time": "2023-06-17T19:06:51.726Z"
   },
   {
    "duration": 826,
    "start_time": "2023-06-17T19:06:51.740Z"
   },
   {
    "duration": 76,
    "start_time": "2023-06-17T19:06:52.568Z"
   },
   {
    "duration": 0,
    "start_time": "2023-06-17T19:06:52.647Z"
   },
   {
    "duration": 0,
    "start_time": "2023-06-17T19:06:52.648Z"
   },
   {
    "duration": 0,
    "start_time": "2023-06-17T19:06:52.649Z"
   },
   {
    "duration": 0,
    "start_time": "2023-06-17T19:06:52.650Z"
   },
   {
    "duration": 0,
    "start_time": "2023-06-17T19:06:52.651Z"
   },
   {
    "duration": 0,
    "start_time": "2023-06-17T19:06:52.653Z"
   },
   {
    "duration": 0,
    "start_time": "2023-06-17T19:06:52.654Z"
   },
   {
    "duration": 0,
    "start_time": "2023-06-17T19:06:52.655Z"
   },
   {
    "duration": 0,
    "start_time": "2023-06-17T19:06:52.656Z"
   },
   {
    "duration": 0,
    "start_time": "2023-06-17T19:06:52.657Z"
   },
   {
    "duration": 0,
    "start_time": "2023-06-17T19:06:52.658Z"
   },
   {
    "duration": 0,
    "start_time": "2023-06-17T19:06:52.659Z"
   },
   {
    "duration": 0,
    "start_time": "2023-06-17T19:06:52.661Z"
   },
   {
    "duration": 0,
    "start_time": "2023-06-17T19:06:52.665Z"
   },
   {
    "duration": 0,
    "start_time": "2023-06-17T19:06:52.666Z"
   },
   {
    "duration": 0,
    "start_time": "2023-06-17T19:06:52.667Z"
   },
   {
    "duration": 0,
    "start_time": "2023-06-17T19:06:52.669Z"
   },
   {
    "duration": 0,
    "start_time": "2023-06-17T19:06:52.670Z"
   },
   {
    "duration": 0,
    "start_time": "2023-06-17T19:06:52.671Z"
   },
   {
    "duration": 0,
    "start_time": "2023-06-17T19:06:52.672Z"
   },
   {
    "duration": 0,
    "start_time": "2023-06-17T19:06:52.673Z"
   },
   {
    "duration": 0,
    "start_time": "2023-06-17T19:06:52.674Z"
   },
   {
    "duration": 0,
    "start_time": "2023-06-17T19:06:52.675Z"
   },
   {
    "duration": 0,
    "start_time": "2023-06-17T19:06:52.676Z"
   },
   {
    "duration": 0,
    "start_time": "2023-06-17T19:06:52.677Z"
   },
   {
    "duration": 4,
    "start_time": "2023-06-17T19:07:06.893Z"
   },
   {
    "duration": 759,
    "start_time": "2023-06-17T19:07:06.899Z"
   },
   {
    "duration": 16,
    "start_time": "2023-06-17T19:07:07.660Z"
   },
   {
    "duration": 13,
    "start_time": "2023-06-17T19:07:07.678Z"
   },
   {
    "duration": 21,
    "start_time": "2023-06-17T19:07:07.693Z"
   },
   {
    "duration": 85,
    "start_time": "2023-06-17T19:07:07.739Z"
   },
   {
    "duration": 0,
    "start_time": "2023-06-17T19:07:07.827Z"
   },
   {
    "duration": 0,
    "start_time": "2023-06-17T19:07:07.828Z"
   },
   {
    "duration": 0,
    "start_time": "2023-06-17T19:07:07.830Z"
   },
   {
    "duration": 0,
    "start_time": "2023-06-17T19:07:07.831Z"
   },
   {
    "duration": 0,
    "start_time": "2023-06-17T19:07:07.832Z"
   },
   {
    "duration": 0,
    "start_time": "2023-06-17T19:07:07.832Z"
   },
   {
    "duration": 0,
    "start_time": "2023-06-17T19:07:07.833Z"
   },
   {
    "duration": 0,
    "start_time": "2023-06-17T19:07:07.833Z"
   },
   {
    "duration": 0,
    "start_time": "2023-06-17T19:07:07.834Z"
   },
   {
    "duration": 1,
    "start_time": "2023-06-17T19:07:07.834Z"
   },
   {
    "duration": 0,
    "start_time": "2023-06-17T19:07:07.840Z"
   },
   {
    "duration": 0,
    "start_time": "2023-06-17T19:07:07.841Z"
   },
   {
    "duration": 0,
    "start_time": "2023-06-17T19:07:07.842Z"
   },
   {
    "duration": 0,
    "start_time": "2023-06-17T19:07:07.843Z"
   },
   {
    "duration": 0,
    "start_time": "2023-06-17T19:07:07.844Z"
   },
   {
    "duration": 0,
    "start_time": "2023-06-17T19:07:07.844Z"
   },
   {
    "duration": 0,
    "start_time": "2023-06-17T19:07:07.846Z"
   },
   {
    "duration": 0,
    "start_time": "2023-06-17T19:07:07.846Z"
   },
   {
    "duration": 0,
    "start_time": "2023-06-17T19:07:07.847Z"
   },
   {
    "duration": 0,
    "start_time": "2023-06-17T19:07:07.849Z"
   },
   {
    "duration": 0,
    "start_time": "2023-06-17T19:07:07.850Z"
   },
   {
    "duration": 13,
    "start_time": "2023-06-17T19:07:31.107Z"
   },
   {
    "duration": 62,
    "start_time": "2023-06-17T19:07:31.122Z"
   },
   {
    "duration": 185,
    "start_time": "2023-06-17T19:07:31.186Z"
   },
   {
    "duration": 21,
    "start_time": "2023-06-17T19:07:31.373Z"
   },
   {
    "duration": 166,
    "start_time": "2023-06-17T19:07:31.395Z"
   },
   {
    "duration": 258,
    "start_time": "2023-06-17T19:07:31.564Z"
   },
   {
    "duration": 164,
    "start_time": "2023-06-17T19:07:31.824Z"
   },
   {
    "duration": 253,
    "start_time": "2023-06-17T19:07:31.990Z"
   },
   {
    "duration": 14,
    "start_time": "2023-06-17T19:07:32.244Z"
   },
   {
    "duration": 24,
    "start_time": "2023-06-17T19:07:32.261Z"
   },
   {
    "duration": 209,
    "start_time": "2023-06-17T19:07:32.286Z"
   },
   {
    "duration": 9,
    "start_time": "2023-06-17T19:07:32.497Z"
   },
   {
    "duration": 0,
    "start_time": "2023-06-17T19:07:32.508Z"
   },
   {
    "duration": 0,
    "start_time": "2023-06-17T19:07:32.509Z"
   },
   {
    "duration": 0,
    "start_time": "2023-06-17T19:07:32.510Z"
   },
   {
    "duration": 0,
    "start_time": "2023-06-17T19:07:32.511Z"
   },
   {
    "duration": 0,
    "start_time": "2023-06-17T19:07:32.535Z"
   },
   {
    "duration": 0,
    "start_time": "2023-06-17T19:07:32.536Z"
   },
   {
    "duration": 0,
    "start_time": "2023-06-17T19:07:32.537Z"
   },
   {
    "duration": 0,
    "start_time": "2023-06-17T19:07:32.537Z"
   },
   {
    "duration": 0,
    "start_time": "2023-06-17T19:07:32.541Z"
   },
   {
    "duration": 6,
    "start_time": "2023-06-17T19:08:56.997Z"
   },
   {
    "duration": 5,
    "start_time": "2023-06-17T19:09:02.920Z"
   },
   {
    "duration": 68,
    "start_time": "2023-06-17T19:10:12.257Z"
   },
   {
    "duration": 6,
    "start_time": "2023-06-17T19:10:14.995Z"
   },
   {
    "duration": 10,
    "start_time": "2023-06-17T19:10:20.088Z"
   },
   {
    "duration": 11,
    "start_time": "2023-06-17T19:10:25.307Z"
   },
   {
    "duration": 9,
    "start_time": "2023-06-17T19:10:52.407Z"
   },
   {
    "duration": 28,
    "start_time": "2023-06-17T19:10:55.027Z"
   },
   {
    "duration": 410,
    "start_time": "2023-06-17T20:02:27.525Z"
   },
   {
    "duration": 284,
    "start_time": "2023-06-17T20:30:57.243Z"
   },
   {
    "duration": 371,
    "start_time": "2023-06-17T21:29:20.866Z"
   },
   {
    "duration": 893,
    "start_time": "2023-06-17T22:52:56.867Z"
   },
   {
    "duration": 360,
    "start_time": "2023-06-17T22:53:02.348Z"
   },
   {
    "duration": 369,
    "start_time": "2023-06-17T22:53:12.821Z"
   },
   {
    "duration": 436,
    "start_time": "2023-06-17T22:53:17.175Z"
   },
   {
    "duration": 336,
    "start_time": "2023-06-17T22:53:23.660Z"
   },
   {
    "duration": 343,
    "start_time": "2023-06-17T22:53:31.574Z"
   },
   {
    "duration": 333,
    "start_time": "2023-06-17T22:53:41.672Z"
   },
   {
    "duration": 370,
    "start_time": "2023-06-17T22:54:06.424Z"
   },
   {
    "duration": 463,
    "start_time": "2023-06-17T22:54:17.220Z"
   },
   {
    "duration": 342,
    "start_time": "2023-06-17T22:54:23.861Z"
   },
   {
    "duration": 358,
    "start_time": "2023-06-17T22:54:31.108Z"
   },
   {
    "duration": 400,
    "start_time": "2023-06-17T23:40:14.178Z"
   },
   {
    "duration": 417,
    "start_time": "2023-06-17T23:41:17.340Z"
   },
   {
    "duration": 403,
    "start_time": "2023-06-17T23:41:42.354Z"
   },
   {
    "duration": 434,
    "start_time": "2023-06-17T23:44:13.921Z"
   },
   {
    "duration": 457,
    "start_time": "2023-06-18T04:40:22.599Z"
   },
   {
    "duration": 406,
    "start_time": "2023-06-18T04:41:07.848Z"
   },
   {
    "duration": 567,
    "start_time": "2023-06-18T04:41:12.692Z"
   },
   {
    "duration": 1946,
    "start_time": "2023-06-18T05:18:17.286Z"
   },
   {
    "duration": 7,
    "start_time": "2023-06-18T05:20:28.502Z"
   },
   {
    "duration": 727,
    "start_time": "2023-06-18T05:22:29.185Z"
   },
   {
    "duration": 655,
    "start_time": "2023-06-18T05:22:38.783Z"
   },
   {
    "duration": 769,
    "start_time": "2023-06-18T05:22:50.677Z"
   },
   {
    "duration": 620,
    "start_time": "2023-06-18T05:24:18.427Z"
   },
   {
    "duration": 689,
    "start_time": "2023-06-18T05:24:28.805Z"
   },
   {
    "duration": 623,
    "start_time": "2023-06-18T05:24:35.173Z"
   },
   {
    "duration": 694,
    "start_time": "2023-06-18T05:24:41.737Z"
   },
   {
    "duration": 604,
    "start_time": "2023-06-18T05:25:48.343Z"
   },
   {
    "duration": 714,
    "start_time": "2023-06-18T05:26:03.571Z"
   },
   {
    "duration": 5,
    "start_time": "2023-06-18T05:39:38.069Z"
   },
   {
    "duration": 9,
    "start_time": "2023-06-18T05:40:23.041Z"
   },
   {
    "duration": 5,
    "start_time": "2023-06-18T05:40:53.581Z"
   },
   {
    "duration": 5,
    "start_time": "2023-06-18T05:40:55.757Z"
   },
   {
    "duration": 15,
    "start_time": "2023-06-18T05:41:58.670Z"
   },
   {
    "duration": 48,
    "start_time": "2023-06-18T05:42:01.100Z"
   },
   {
    "duration": 55,
    "start_time": "2023-06-18T05:42:02.762Z"
   },
   {
    "duration": 54,
    "start_time": "2023-06-18T05:42:53.009Z"
   },
   {
    "duration": 671,
    "start_time": "2023-06-18T05:44:36.101Z"
   },
   {
    "duration": 5,
    "start_time": "2023-06-18T05:44:53.970Z"
   },
   {
    "duration": 775,
    "start_time": "2023-06-18T05:44:53.977Z"
   },
   {
    "duration": 15,
    "start_time": "2023-06-18T05:44:54.754Z"
   },
   {
    "duration": 32,
    "start_time": "2023-06-18T05:44:54.770Z"
   },
   {
    "duration": 27,
    "start_time": "2023-06-18T05:44:54.804Z"
   },
   {
    "duration": 26,
    "start_time": "2023-06-18T05:44:54.832Z"
   },
   {
    "duration": 45,
    "start_time": "2023-06-18T05:44:54.860Z"
   },
   {
    "duration": 140,
    "start_time": "2023-06-18T05:44:54.907Z"
   },
   {
    "duration": 20,
    "start_time": "2023-06-18T05:44:55.049Z"
   },
   {
    "duration": 109,
    "start_time": "2023-06-18T05:44:55.071Z"
   },
   {
    "duration": 200,
    "start_time": "2023-06-18T05:44:55.181Z"
   },
   {
    "duration": 119,
    "start_time": "2023-06-18T05:44:55.383Z"
   },
   {
    "duration": 233,
    "start_time": "2023-06-18T05:44:55.503Z"
   },
   {
    "duration": 12,
    "start_time": "2023-06-18T05:44:55.739Z"
   },
   {
    "duration": 11,
    "start_time": "2023-06-18T05:44:55.752Z"
   },
   {
    "duration": 169,
    "start_time": "2023-06-18T05:44:55.764Z"
   },
   {
    "duration": 4,
    "start_time": "2023-06-18T05:44:55.935Z"
   },
   {
    "duration": 12,
    "start_time": "2023-06-18T05:44:55.941Z"
   },
   {
    "duration": 19,
    "start_time": "2023-06-18T05:44:55.955Z"
   },
   {
    "duration": 7,
    "start_time": "2023-06-18T05:44:55.976Z"
   },
   {
    "duration": 10,
    "start_time": "2023-06-18T05:44:55.985Z"
   },
   {
    "duration": 17,
    "start_time": "2023-06-18T05:44:55.997Z"
   },
   {
    "duration": 292,
    "start_time": "2023-06-18T05:44:56.032Z"
   },
   {
    "duration": 294,
    "start_time": "2023-06-18T05:44:56.326Z"
   },
   {
    "duration": 297,
    "start_time": "2023-06-18T05:44:56.622Z"
   },
   {
    "duration": 529,
    "start_time": "2023-06-18T05:44:56.920Z"
   },
   {
    "duration": 431,
    "start_time": "2023-06-18T05:44:57.451Z"
   },
   {
    "duration": 6,
    "start_time": "2023-06-18T05:44:57.883Z"
   },
   {
    "duration": 593,
    "start_time": "2023-06-18T05:44:57.891Z"
   },
   {
    "duration": 5,
    "start_time": "2023-06-18T05:44:58.485Z"
   },
   {
    "duration": 9,
    "start_time": "2023-06-18T05:44:58.492Z"
   },
   {
    "duration": 6,
    "start_time": "2023-06-18T05:44:58.502Z"
   },
   {
    "duration": 32,
    "start_time": "2023-06-18T05:44:58.510Z"
   },
   {
    "duration": 47,
    "start_time": "2023-06-18T05:44:58.543Z"
   },
   {
    "duration": 13,
    "start_time": "2023-06-18T05:44:58.591Z"
   },
   {
    "duration": 691,
    "start_time": "2023-06-18T05:44:58.606Z"
   },
   {
    "duration": 595,
    "start_time": "2023-06-18T05:45:22.072Z"
   },
   {
    "duration": 7,
    "start_time": "2023-06-18T05:46:08.669Z"
   },
   {
    "duration": 722,
    "start_time": "2023-06-18T05:46:11.191Z"
   },
   {
    "duration": 7,
    "start_time": "2023-06-18T05:49:10.490Z"
   },
   {
    "duration": 7,
    "start_time": "2023-06-18T05:50:26.364Z"
   },
   {
    "duration": 6,
    "start_time": "2023-06-18T05:50:32.348Z"
   },
   {
    "duration": 5,
    "start_time": "2023-06-18T05:50:58.956Z"
   },
   {
    "duration": 6,
    "start_time": "2023-06-18T05:53:20.236Z"
   },
   {
    "duration": 7,
    "start_time": "2023-06-18T05:53:41.536Z"
   },
   {
    "duration": 6,
    "start_time": "2023-06-18T05:54:01.198Z"
   },
   {
    "duration": 7,
    "start_time": "2023-06-18T05:55:05.657Z"
   },
   {
    "duration": 6,
    "start_time": "2023-06-18T05:55:21.928Z"
   },
   {
    "duration": 7,
    "start_time": "2023-06-18T05:55:38.305Z"
   },
   {
    "duration": 2136,
    "start_time": "2023-06-18T06:00:39.836Z"
   },
   {
    "duration": 645,
    "start_time": "2023-06-18T06:00:57.773Z"
   },
   {
    "duration": 603,
    "start_time": "2023-06-18T06:01:39.036Z"
   },
   {
    "duration": 8,
    "start_time": "2023-06-18T06:01:43.009Z"
   },
   {
    "duration": 628,
    "start_time": "2023-06-18T06:01:46.738Z"
   },
   {
    "duration": 5,
    "start_time": "2023-06-18T06:02:36.623Z"
   },
   {
    "duration": 748,
    "start_time": "2023-06-18T06:02:36.630Z"
   },
   {
    "duration": 15,
    "start_time": "2023-06-18T06:02:37.379Z"
   },
   {
    "duration": 26,
    "start_time": "2023-06-18T06:02:37.395Z"
   },
   {
    "duration": 43,
    "start_time": "2023-06-18T06:02:37.422Z"
   },
   {
    "duration": 38,
    "start_time": "2023-06-18T06:02:37.466Z"
   },
   {
    "duration": 33,
    "start_time": "2023-06-18T06:02:37.505Z"
   },
   {
    "duration": 135,
    "start_time": "2023-06-18T06:02:37.539Z"
   },
   {
    "duration": 19,
    "start_time": "2023-06-18T06:02:37.676Z"
   },
   {
    "duration": 97,
    "start_time": "2023-06-18T06:02:37.697Z"
   },
   {
    "duration": 221,
    "start_time": "2023-06-18T06:02:37.796Z"
   },
   {
    "duration": 119,
    "start_time": "2023-06-18T06:02:38.019Z"
   },
   {
    "duration": 227,
    "start_time": "2023-06-18T06:02:38.139Z"
   },
   {
    "duration": 12,
    "start_time": "2023-06-18T06:02:38.370Z"
   },
   {
    "duration": 3,
    "start_time": "2023-06-18T06:02:38.383Z"
   },
   {
    "duration": 182,
    "start_time": "2023-06-18T06:02:38.387Z"
   },
   {
    "duration": 5,
    "start_time": "2023-06-18T06:02:38.570Z"
   },
   {
    "duration": 31,
    "start_time": "2023-06-18T06:02:38.576Z"
   },
   {
    "duration": 8,
    "start_time": "2023-06-18T06:02:38.608Z"
   },
   {
    "duration": 22,
    "start_time": "2023-06-18T06:02:38.618Z"
   },
   {
    "duration": 15,
    "start_time": "2023-06-18T06:02:38.641Z"
   },
   {
    "duration": 13,
    "start_time": "2023-06-18T06:02:38.658Z"
   },
   {
    "duration": 381,
    "start_time": "2023-06-18T06:02:38.672Z"
   },
   {
    "duration": 308,
    "start_time": "2023-06-18T06:02:39.055Z"
   },
   {
    "duration": 326,
    "start_time": "2023-06-18T06:02:39.365Z"
   },
   {
    "duration": 462,
    "start_time": "2023-06-18T06:02:39.693Z"
   },
   {
    "duration": 399,
    "start_time": "2023-06-18T06:02:40.156Z"
   },
   {
    "duration": 6,
    "start_time": "2023-06-18T06:02:40.556Z"
   },
   {
    "duration": 706,
    "start_time": "2023-06-18T06:02:40.563Z"
   },
   {
    "duration": 5,
    "start_time": "2023-06-18T06:02:41.271Z"
   },
   {
    "duration": 7,
    "start_time": "2023-06-18T06:02:41.277Z"
   },
   {
    "duration": 26,
    "start_time": "2023-06-18T06:02:41.286Z"
   },
   {
    "duration": 91,
    "start_time": "2023-06-18T06:02:41.313Z"
   },
   {
    "duration": 0,
    "start_time": "2023-06-18T06:02:41.406Z"
   },
   {
    "duration": 0,
    "start_time": "2023-06-18T06:02:41.408Z"
   },
   {
    "duration": 0,
    "start_time": "2023-06-18T06:02:41.409Z"
   },
   {
    "duration": 0,
    "start_time": "2023-06-18T06:02:41.410Z"
   },
   {
    "duration": 0,
    "start_time": "2023-06-18T06:02:41.411Z"
   },
   {
    "duration": 0,
    "start_time": "2023-06-18T06:02:41.413Z"
   },
   {
    "duration": 0,
    "start_time": "2023-06-18T06:02:41.414Z"
   },
   {
    "duration": 0,
    "start_time": "2023-06-18T06:02:41.415Z"
   },
   {
    "duration": 0,
    "start_time": "2023-06-18T06:02:41.417Z"
   },
   {
    "duration": 0,
    "start_time": "2023-06-18T06:02:41.418Z"
   },
   {
    "duration": 0,
    "start_time": "2023-06-18T06:02:41.419Z"
   },
   {
    "duration": 0,
    "start_time": "2023-06-18T06:02:41.420Z"
   },
   {
    "duration": 0,
    "start_time": "2023-06-18T06:02:41.422Z"
   },
   {
    "duration": 5,
    "start_time": "2023-06-18T06:03:12.844Z"
   },
   {
    "duration": 864,
    "start_time": "2023-06-18T06:03:12.851Z"
   },
   {
    "duration": 23,
    "start_time": "2023-06-18T06:03:13.717Z"
   },
   {
    "duration": 11,
    "start_time": "2023-06-18T06:03:13.742Z"
   },
   {
    "duration": 22,
    "start_time": "2023-06-18T06:03:13.755Z"
   },
   {
    "duration": 13,
    "start_time": "2023-06-18T06:03:13.778Z"
   },
   {
    "duration": 15,
    "start_time": "2023-06-18T06:03:13.793Z"
   },
   {
    "duration": 130,
    "start_time": "2023-06-18T06:03:13.810Z"
   },
   {
    "duration": 20,
    "start_time": "2023-06-18T06:03:13.942Z"
   },
   {
    "duration": 97,
    "start_time": "2023-06-18T06:03:13.963Z"
   },
   {
    "duration": 213,
    "start_time": "2023-06-18T06:03:14.061Z"
   },
   {
    "duration": 125,
    "start_time": "2023-06-18T06:03:14.275Z"
   },
   {
    "duration": 284,
    "start_time": "2023-06-18T06:03:14.402Z"
   },
   {
    "duration": 14,
    "start_time": "2023-06-18T06:03:14.689Z"
   },
   {
    "duration": 9,
    "start_time": "2023-06-18T06:03:14.704Z"
   },
   {
    "duration": 187,
    "start_time": "2023-06-18T06:03:14.715Z"
   },
   {
    "duration": 4,
    "start_time": "2023-06-18T06:03:14.904Z"
   },
   {
    "duration": 34,
    "start_time": "2023-06-18T06:03:14.910Z"
   },
   {
    "duration": 11,
    "start_time": "2023-06-18T06:03:14.946Z"
   },
   {
    "duration": 15,
    "start_time": "2023-06-18T06:03:14.958Z"
   },
   {
    "duration": 21,
    "start_time": "2023-06-18T06:03:14.974Z"
   },
   {
    "duration": 13,
    "start_time": "2023-06-18T06:03:14.997Z"
   },
   {
    "duration": 354,
    "start_time": "2023-06-18T06:03:15.012Z"
   },
   {
    "duration": 329,
    "start_time": "2023-06-18T06:03:15.368Z"
   },
   {
    "duration": 403,
    "start_time": "2023-06-18T06:03:15.698Z"
   },
   {
    "duration": 451,
    "start_time": "2023-06-18T06:03:16.103Z"
   },
   {
    "duration": 390,
    "start_time": "2023-06-18T06:03:16.556Z"
   },
   {
    "duration": 5,
    "start_time": "2023-06-18T06:03:16.948Z"
   },
   {
    "duration": 981,
    "start_time": "2023-06-18T06:03:16.955Z"
   },
   {
    "duration": 4,
    "start_time": "2023-06-18T06:03:17.938Z"
   },
   {
    "duration": 14,
    "start_time": "2023-06-18T06:03:17.944Z"
   },
   {
    "duration": 8,
    "start_time": "2023-06-18T06:03:17.959Z"
   },
   {
    "duration": 11,
    "start_time": "2023-06-18T06:03:17.969Z"
   },
   {
    "duration": 6,
    "start_time": "2023-06-18T06:03:17.981Z"
   },
   {
    "duration": 5,
    "start_time": "2023-06-18T06:03:18.032Z"
   },
   {
    "duration": 10,
    "start_time": "2023-06-18T06:03:18.039Z"
   },
   {
    "duration": 8,
    "start_time": "2023-06-18T06:03:18.050Z"
   },
   {
    "duration": 9,
    "start_time": "2023-06-18T06:03:18.059Z"
   },
   {
    "duration": 7,
    "start_time": "2023-06-18T06:03:18.069Z"
   },
   {
    "duration": 56,
    "start_time": "2023-06-18T06:03:18.077Z"
   },
   {
    "duration": 18,
    "start_time": "2023-06-18T06:03:18.136Z"
   },
   {
    "duration": 785,
    "start_time": "2023-06-18T06:03:18.156Z"
   },
   {
    "duration": 5,
    "start_time": "2023-06-18T06:03:18.943Z"
   },
   {
    "duration": 658,
    "start_time": "2023-06-18T06:03:18.950Z"
   },
   {
    "duration": 569,
    "start_time": "2023-06-18T06:03:48.818Z"
   },
   {
    "duration": 744,
    "start_time": "2023-06-18T06:04:09.252Z"
   },
   {
    "duration": 599,
    "start_time": "2023-06-18T06:04:25.649Z"
   },
   {
    "duration": 5,
    "start_time": "2023-06-18T06:04:56.509Z"
   },
   {
    "duration": 6,
    "start_time": "2023-06-18T06:04:58.548Z"
   },
   {
    "duration": 6,
    "start_time": "2023-06-18T06:05:00.897Z"
   },
   {
    "duration": 7,
    "start_time": "2023-06-18T06:05:04.540Z"
   },
   {
    "duration": 5,
    "start_time": "2023-06-18T06:05:06.320Z"
   },
   {
    "duration": 6,
    "start_time": "2023-06-18T06:05:08.017Z"
   },
   {
    "duration": 5,
    "start_time": "2023-06-18T06:05:11.550Z"
   },
   {
    "duration": 5,
    "start_time": "2023-06-18T06:05:13.521Z"
   },
   {
    "duration": 5,
    "start_time": "2023-06-18T06:05:15.207Z"
   },
   {
    "duration": 5,
    "start_time": "2023-06-18T06:05:17.738Z"
   },
   {
    "duration": 5,
    "start_time": "2023-06-18T06:05:19.303Z"
   },
   {
    "duration": 5,
    "start_time": "2023-06-18T06:05:20.801Z"
   },
   {
    "duration": 611,
    "start_time": "2023-06-18T06:05:23.563Z"
   },
   {
    "duration": 783,
    "start_time": "2023-06-18T06:05:27.155Z"
   },
   {
    "duration": 9,
    "start_time": "2023-06-18T06:47:59.498Z"
   },
   {
    "duration": 35,
    "start_time": "2023-06-18T06:48:32.071Z"
   },
   {
    "duration": 4,
    "start_time": "2023-06-18T07:00:02.256Z"
   },
   {
    "duration": 5,
    "start_time": "2023-06-18T07:22:59.999Z"
   },
   {
    "duration": 8,
    "start_time": "2023-06-18T07:23:22.377Z"
   },
   {
    "duration": 5,
    "start_time": "2023-06-18T07:32:43.365Z"
   },
   {
    "duration": 7,
    "start_time": "2023-06-18T07:32:48.449Z"
   },
   {
    "duration": 3,
    "start_time": "2023-06-18T07:48:26.440Z"
   },
   {
    "duration": 3,
    "start_time": "2023-06-18T07:48:28.114Z"
   },
   {
    "duration": 8,
    "start_time": "2023-06-18T07:48:49.664Z"
   },
   {
    "duration": 9,
    "start_time": "2023-06-18T07:57:55.596Z"
   },
   {
    "duration": 4,
    "start_time": "2023-06-18T08:12:30.822Z"
   },
   {
    "duration": 9,
    "start_time": "2023-06-18T16:04:55.439Z"
   },
   {
    "duration": 9,
    "start_time": "2023-06-18T16:04:58.973Z"
   },
   {
    "duration": 3,
    "start_time": "2023-06-18T17:04:32.253Z"
   },
   {
    "duration": 3,
    "start_time": "2023-06-18T17:04:34.047Z"
   },
   {
    "duration": 4,
    "start_time": "2023-06-18T17:04:35.561Z"
   },
   {
    "duration": 11,
    "start_time": "2023-06-18T17:28:43.674Z"
   },
   {
    "duration": 2,
    "start_time": "2023-06-18T17:28:47.640Z"
   },
   {
    "duration": 1901,
    "start_time": "2023-06-18T17:28:48.731Z"
   },
   {
    "duration": 1812,
    "start_time": "2023-06-18T17:29:29.123Z"
   },
   {
    "duration": 2,
    "start_time": "2023-06-18T17:58:46.420Z"
   },
   {
    "duration": 5,
    "start_time": "2023-06-18T17:58:47.669Z"
   },
   {
    "duration": 8,
    "start_time": "2023-06-18T17:58:49.253Z"
   },
   {
    "duration": 3,
    "start_time": "2023-06-18T17:59:56.897Z"
   },
   {
    "duration": 8,
    "start_time": "2023-06-18T18:00:54.469Z"
   },
   {
    "duration": 3,
    "start_time": "2023-06-18T18:00:56.052Z"
   },
   {
    "duration": 21,
    "start_time": "2023-06-18T18:00:57.365Z"
   },
   {
    "duration": 1445,
    "start_time": "2023-06-18T18:01:52.392Z"
   },
   {
    "duration": 7,
    "start_time": "2023-06-18T18:03:50.960Z"
   },
   {
    "duration": 18,
    "start_time": "2023-06-18T18:03:59.169Z"
   },
   {
    "duration": 2,
    "start_time": "2023-06-18T18:04:41.883Z"
   },
   {
    "duration": 3,
    "start_time": "2023-06-18T18:04:43.724Z"
   },
   {
    "duration": 23,
    "start_time": "2023-06-18T18:04:45.084Z"
   },
   {
    "duration": 191,
    "start_time": "2023-06-18T18:04:46.651Z"
   },
   {
    "duration": 3,
    "start_time": "2023-06-18T18:05:25.561Z"
   },
   {
    "duration": 3,
    "start_time": "2023-06-18T18:05:27.104Z"
   },
   {
    "duration": 18,
    "start_time": "2023-06-18T18:05:28.495Z"
   },
   {
    "duration": 9,
    "start_time": "2023-06-18T18:08:51.983Z"
   },
   {
    "duration": 3,
    "start_time": "2023-06-18T18:09:29.518Z"
   },
   {
    "duration": 2,
    "start_time": "2023-06-18T18:09:31.774Z"
   },
   {
    "duration": 17,
    "start_time": "2023-06-18T18:09:32.973Z"
   },
   {
    "duration": 1414,
    "start_time": "2023-06-18T18:09:35.223Z"
   },
   {
    "duration": 4,
    "start_time": "2023-06-18T18:10:54.720Z"
   },
   {
    "duration": 3,
    "start_time": "2023-06-18T18:11:09.344Z"
   },
   {
    "duration": 4,
    "start_time": "2023-06-18T18:11:11.100Z"
   },
   {
    "duration": 7,
    "start_time": "2023-06-18T18:11:12.923Z"
   },
   {
    "duration": 5,
    "start_time": "2023-06-18T18:11:15.395Z"
   },
   {
    "duration": 3,
    "start_time": "2023-06-18T18:11:17.597Z"
   },
   {
    "duration": 22,
    "start_time": "2023-06-18T18:11:19.011Z"
   },
   {
    "duration": 1645,
    "start_time": "2023-06-18T18:11:21.009Z"
   },
   {
    "duration": 3,
    "start_time": "2023-06-18T18:13:04.901Z"
   },
   {
    "duration": 5,
    "start_time": "2023-06-18T18:13:06.076Z"
   },
   {
    "duration": 8,
    "start_time": "2023-06-18T18:13:08.852Z"
   },
   {
    "duration": 2,
    "start_time": "2023-06-18T18:13:10.570Z"
   },
   {
    "duration": 2,
    "start_time": "2023-06-18T18:13:12.283Z"
   },
   {
    "duration": 19,
    "start_time": "2023-06-18T18:13:13.731Z"
   },
   {
    "duration": 1416,
    "start_time": "2023-06-18T18:13:15.942Z"
   },
   {
    "duration": 110,
    "start_time": "2023-06-18T18:16:05.422Z"
   },
   {
    "duration": 1655,
    "start_time": "2023-06-18T18:16:06.908Z"
   },
   {
    "duration": 4,
    "start_time": "2023-06-18T18:16:14.408Z"
   },
   {
    "duration": 6,
    "start_time": "2023-06-18T18:16:28.166Z"
   },
   {
    "duration": 816,
    "start_time": "2023-06-18T18:16:28.174Z"
   },
   {
    "duration": 17,
    "start_time": "2023-06-18T18:16:28.993Z"
   },
   {
    "duration": 26,
    "start_time": "2023-06-18T18:16:29.013Z"
   },
   {
    "duration": 21,
    "start_time": "2023-06-18T18:16:29.041Z"
   },
   {
    "duration": 14,
    "start_time": "2023-06-18T18:16:29.064Z"
   },
   {
    "duration": 52,
    "start_time": "2023-06-18T18:16:29.080Z"
   },
   {
    "duration": 143,
    "start_time": "2023-06-18T18:16:29.134Z"
   },
   {
    "duration": 28,
    "start_time": "2023-06-18T18:16:29.278Z"
   },
   {
    "duration": 117,
    "start_time": "2023-06-18T18:16:29.310Z"
   },
   {
    "duration": 244,
    "start_time": "2023-06-18T18:16:29.431Z"
   },
   {
    "duration": 149,
    "start_time": "2023-06-18T18:16:29.676Z"
   },
   {
    "duration": 252,
    "start_time": "2023-06-18T18:16:29.827Z"
   },
   {
    "duration": 13,
    "start_time": "2023-06-18T18:16:30.080Z"
   },
   {
    "duration": 22,
    "start_time": "2023-06-18T18:16:30.094Z"
   },
   {
    "duration": 191,
    "start_time": "2023-06-18T18:16:30.117Z"
   },
   {
    "duration": 5,
    "start_time": "2023-06-18T18:16:30.309Z"
   },
   {
    "duration": 33,
    "start_time": "2023-06-18T18:16:30.315Z"
   },
   {
    "duration": 29,
    "start_time": "2023-06-18T18:16:30.349Z"
   },
   {
    "duration": 43,
    "start_time": "2023-06-18T18:16:30.379Z"
   },
   {
    "duration": 33,
    "start_time": "2023-06-18T18:16:30.424Z"
   },
   {
    "duration": 47,
    "start_time": "2023-06-18T18:16:30.459Z"
   },
   {
    "duration": 312,
    "start_time": "2023-06-18T18:16:30.508Z"
   },
   {
    "duration": 317,
    "start_time": "2023-06-18T18:16:30.821Z"
   },
   {
    "duration": 327,
    "start_time": "2023-06-18T18:16:31.141Z"
   },
   {
    "duration": 586,
    "start_time": "2023-06-18T18:16:31.469Z"
   },
   {
    "duration": 416,
    "start_time": "2023-06-18T18:16:32.056Z"
   },
   {
    "duration": 7,
    "start_time": "2023-06-18T18:16:32.475Z"
   },
   {
    "duration": 629,
    "start_time": "2023-06-18T18:16:32.484Z"
   },
   {
    "duration": 5,
    "start_time": "2023-06-18T18:16:33.115Z"
   },
   {
    "duration": 19,
    "start_time": "2023-06-18T18:16:33.121Z"
   },
   {
    "duration": 36,
    "start_time": "2023-06-18T18:16:33.142Z"
   },
   {
    "duration": 33,
    "start_time": "2023-06-18T18:16:33.180Z"
   },
   {
    "duration": 20,
    "start_time": "2023-06-18T18:16:33.215Z"
   },
   {
    "duration": 24,
    "start_time": "2023-06-18T18:16:33.237Z"
   },
   {
    "duration": 11,
    "start_time": "2023-06-18T18:16:33.262Z"
   },
   {
    "duration": 13,
    "start_time": "2023-06-18T18:16:33.275Z"
   },
   {
    "duration": 20,
    "start_time": "2023-06-18T18:16:33.289Z"
   },
   {
    "duration": 24,
    "start_time": "2023-06-18T18:16:33.310Z"
   },
   {
    "duration": 7,
    "start_time": "2023-06-18T18:16:33.336Z"
   },
   {
    "duration": 11,
    "start_time": "2023-06-18T18:16:33.344Z"
   },
   {
    "duration": 468,
    "start_time": "2023-06-18T18:16:33.357Z"
   },
   {
    "duration": 635,
    "start_time": "2023-06-18T18:16:33.831Z"
   },
   {
    "duration": 2,
    "start_time": "2023-06-18T18:16:34.468Z"
   },
   {
    "duration": 10,
    "start_time": "2023-06-18T18:16:34.472Z"
   },
   {
    "duration": 12,
    "start_time": "2023-06-18T18:16:34.484Z"
   },
   {
    "duration": 34,
    "start_time": "2023-06-18T18:16:34.497Z"
   },
   {
    "duration": 8,
    "start_time": "2023-06-18T18:16:34.533Z"
   },
   {
    "duration": 18,
    "start_time": "2023-06-18T18:16:34.542Z"
   },
   {
    "duration": 33,
    "start_time": "2023-06-18T18:16:34.562Z"
   },
   {
    "duration": 18,
    "start_time": "2023-06-18T18:16:34.597Z"
   },
   {
    "duration": 10,
    "start_time": "2023-06-18T18:16:34.617Z"
   },
   {
    "duration": 8,
    "start_time": "2023-06-18T18:16:34.630Z"
   },
   {
    "duration": 14,
    "start_time": "2023-06-18T18:16:34.640Z"
   },
   {
    "duration": 16,
    "start_time": "2023-06-18T18:16:34.656Z"
   },
   {
    "duration": 14,
    "start_time": "2023-06-18T18:16:34.673Z"
   },
   {
    "duration": 31,
    "start_time": "2023-06-18T18:16:34.689Z"
   },
   {
    "duration": 19,
    "start_time": "2023-06-18T18:16:34.722Z"
   },
   {
    "duration": 5,
    "start_time": "2023-06-18T18:16:34.743Z"
   },
   {
    "duration": 85,
    "start_time": "2023-06-18T18:16:34.749Z"
   },
   {
    "duration": 1720,
    "start_time": "2023-06-18T18:16:34.837Z"
   },
   {
    "duration": 3,
    "start_time": "2023-06-18T18:19:03.328Z"
   },
   {
    "duration": 5,
    "start_time": "2023-06-18T18:19:04.632Z"
   },
   {
    "duration": 3,
    "start_time": "2023-06-18T18:19:06.957Z"
   },
   {
    "duration": 5,
    "start_time": "2023-06-18T18:19:08.031Z"
   },
   {
    "duration": 8,
    "start_time": "2023-06-18T18:19:09.121Z"
   },
   {
    "duration": 3,
    "start_time": "2023-06-18T18:19:11.899Z"
   },
   {
    "duration": 2,
    "start_time": "2023-06-18T18:19:12.733Z"
   },
   {
    "duration": 57,
    "start_time": "2023-06-18T18:19:14.275Z"
   },
   {
    "duration": 1539,
    "start_time": "2023-06-18T18:19:16.104Z"
   },
   {
    "duration": 4,
    "start_time": "2023-06-18T18:21:44.894Z"
   },
   {
    "duration": 4,
    "start_time": "2023-06-18T18:24:02.918Z"
   },
   {
    "duration": 3,
    "start_time": "2023-06-18T18:24:04.539Z"
   },
   {
    "duration": 4,
    "start_time": "2023-06-18T18:24:06.012Z"
   },
   {
    "duration": 8,
    "start_time": "2023-06-18T18:24:07.517Z"
   },
   {
    "duration": 3,
    "start_time": "2023-06-18T18:24:09.100Z"
   },
   {
    "duration": 19,
    "start_time": "2023-06-18T18:24:10.429Z"
   },
   {
    "duration": 1451,
    "start_time": "2023-06-18T18:24:12.603Z"
   },
   {
    "duration": 4,
    "start_time": "2023-06-18T18:30:38.469Z"
   },
   {
    "duration": 2,
    "start_time": "2023-06-18T18:30:39.814Z"
   },
   {
    "duration": 4,
    "start_time": "2023-06-18T18:30:41.403Z"
   },
   {
    "duration": 7,
    "start_time": "2023-06-18T18:30:42.907Z"
   },
   {
    "duration": 3,
    "start_time": "2023-06-18T18:30:46.500Z"
   },
   {
    "duration": 21,
    "start_time": "2023-06-18T18:30:55.973Z"
   },
   {
    "duration": 84,
    "start_time": "2023-06-18T18:31:19.248Z"
   },
   {
    "duration": 1662,
    "start_time": "2023-06-18T18:31:20.990Z"
   },
   {
    "duration": 5,
    "start_time": "2023-06-18T19:00:25.505Z"
   },
   {
    "duration": 5,
    "start_time": "2023-06-18T19:35:49.646Z"
   },
   {
    "duration": 714,
    "start_time": "2023-06-18T19:35:49.652Z"
   },
   {
    "duration": 15,
    "start_time": "2023-06-18T19:35:50.368Z"
   },
   {
    "duration": 11,
    "start_time": "2023-06-18T19:35:50.385Z"
   },
   {
    "duration": 39,
    "start_time": "2023-06-18T19:35:50.397Z"
   },
   {
    "duration": 12,
    "start_time": "2023-06-18T19:35:50.438Z"
   },
   {
    "duration": 16,
    "start_time": "2023-06-18T19:35:50.452Z"
   },
   {
    "duration": 136,
    "start_time": "2023-06-18T19:35:50.469Z"
   },
   {
    "duration": 26,
    "start_time": "2023-06-18T19:35:50.606Z"
   },
   {
    "duration": 85,
    "start_time": "2023-06-18T19:35:50.635Z"
   },
   {
    "duration": 213,
    "start_time": "2023-06-18T19:35:50.731Z"
   },
   {
    "duration": 123,
    "start_time": "2023-06-18T19:35:50.946Z"
   },
   {
    "duration": 237,
    "start_time": "2023-06-18T19:35:51.070Z"
   },
   {
    "duration": 22,
    "start_time": "2023-06-18T19:35:51.309Z"
   },
   {
    "duration": 3,
    "start_time": "2023-06-18T19:35:51.333Z"
   },
   {
    "duration": 179,
    "start_time": "2023-06-18T19:35:51.337Z"
   },
   {
    "duration": 5,
    "start_time": "2023-06-18T19:35:51.518Z"
   },
   {
    "duration": 34,
    "start_time": "2023-06-18T19:35:51.532Z"
   },
   {
    "duration": 11,
    "start_time": "2023-06-18T19:35:51.568Z"
   },
   {
    "duration": 29,
    "start_time": "2023-06-18T19:35:51.580Z"
   },
   {
    "duration": 32,
    "start_time": "2023-06-18T19:35:51.611Z"
   },
   {
    "duration": 34,
    "start_time": "2023-06-18T19:35:51.645Z"
   },
   {
    "duration": 319,
    "start_time": "2023-06-18T19:35:51.681Z"
   },
   {
    "duration": 404,
    "start_time": "2023-06-18T19:35:52.001Z"
   },
   {
    "duration": 312,
    "start_time": "2023-06-18T19:35:52.407Z"
   },
   {
    "duration": 432,
    "start_time": "2023-06-18T19:35:52.721Z"
   },
   {
    "duration": 437,
    "start_time": "2023-06-18T19:35:53.155Z"
   },
   {
    "duration": 6,
    "start_time": "2023-06-18T19:35:53.595Z"
   },
   {
    "duration": 644,
    "start_time": "2023-06-18T19:35:53.602Z"
   },
   {
    "duration": 5,
    "start_time": "2023-06-18T19:35:54.248Z"
   },
   {
    "duration": 14,
    "start_time": "2023-06-18T19:35:54.254Z"
   },
   {
    "duration": 8,
    "start_time": "2023-06-18T19:35:54.269Z"
   },
   {
    "duration": 12,
    "start_time": "2023-06-18T19:35:54.278Z"
   },
   {
    "duration": 20,
    "start_time": "2023-06-18T19:35:54.291Z"
   },
   {
    "duration": 10,
    "start_time": "2023-06-18T19:35:54.313Z"
   },
   {
    "duration": 27,
    "start_time": "2023-06-18T19:35:54.324Z"
   },
   {
    "duration": 8,
    "start_time": "2023-06-18T19:35:54.353Z"
   },
   {
    "duration": 12,
    "start_time": "2023-06-18T19:35:54.362Z"
   },
   {
    "duration": 44,
    "start_time": "2023-06-18T19:35:54.376Z"
   },
   {
    "duration": 14,
    "start_time": "2023-06-18T19:35:54.422Z"
   },
   {
    "duration": 8,
    "start_time": "2023-06-18T19:35:54.438Z"
   },
   {
    "duration": 540,
    "start_time": "2023-06-18T19:35:54.447Z"
   },
   {
    "duration": 608,
    "start_time": "2023-06-18T19:35:54.989Z"
   },
   {
    "duration": 5,
    "start_time": "2023-06-18T19:35:55.598Z"
   },
   {
    "duration": 8,
    "start_time": "2023-06-18T19:35:55.604Z"
   },
   {
    "duration": 25,
    "start_time": "2023-06-18T19:35:55.613Z"
   },
   {
    "duration": 36,
    "start_time": "2023-06-18T19:35:55.640Z"
   },
   {
    "duration": 21,
    "start_time": "2023-06-18T19:35:55.678Z"
   },
   {
    "duration": 39,
    "start_time": "2023-06-18T19:35:55.701Z"
   },
   {
    "duration": 1626,
    "start_time": "2023-06-18T19:35:55.831Z"
   },
   {
    "duration": 6,
    "start_time": "2023-06-18T19:35:57.459Z"
   },
   {
    "duration": 0,
    "start_time": "2023-06-18T19:35:57.466Z"
   },
   {
    "duration": 0,
    "start_time": "2023-06-18T19:35:57.467Z"
   },
   {
    "duration": 0,
    "start_time": "2023-06-18T19:35:57.469Z"
   },
   {
    "duration": 0,
    "start_time": "2023-06-18T19:35:57.471Z"
   },
   {
    "duration": 0,
    "start_time": "2023-06-18T19:35:57.473Z"
   },
   {
    "duration": 0,
    "start_time": "2023-06-18T19:35:57.474Z"
   },
   {
    "duration": 78,
    "start_time": "2023-06-18T19:37:51.833Z"
   },
   {
    "duration": 5,
    "start_time": "2023-06-18T19:38:35.689Z"
   },
   {
    "duration": 729,
    "start_time": "2023-06-18T19:38:35.696Z"
   },
   {
    "duration": 18,
    "start_time": "2023-06-18T19:38:36.431Z"
   },
   {
    "duration": 17,
    "start_time": "2023-06-18T19:38:36.451Z"
   },
   {
    "duration": 17,
    "start_time": "2023-06-18T19:38:36.470Z"
   },
   {
    "duration": 16,
    "start_time": "2023-06-18T19:38:36.489Z"
   },
   {
    "duration": 14,
    "start_time": "2023-06-18T19:38:36.531Z"
   },
   {
    "duration": 125,
    "start_time": "2023-06-18T19:38:36.546Z"
   },
   {
    "duration": 21,
    "start_time": "2023-06-18T19:38:36.672Z"
   },
   {
    "duration": 90,
    "start_time": "2023-06-18T19:38:36.695Z"
   },
   {
    "duration": 221,
    "start_time": "2023-06-18T19:38:36.786Z"
   },
   {
    "duration": 124,
    "start_time": "2023-06-18T19:38:37.008Z"
   },
   {
    "duration": 229,
    "start_time": "2023-06-18T19:38:37.134Z"
   },
   {
    "duration": 13,
    "start_time": "2023-06-18T19:38:37.366Z"
   },
   {
    "duration": 3,
    "start_time": "2023-06-18T19:38:37.380Z"
   },
   {
    "duration": 186,
    "start_time": "2023-06-18T19:38:37.385Z"
   },
   {
    "duration": 6,
    "start_time": "2023-06-18T19:38:37.573Z"
   },
   {
    "duration": 16,
    "start_time": "2023-06-18T19:38:37.581Z"
   },
   {
    "duration": 12,
    "start_time": "2023-06-18T19:38:37.598Z"
   },
   {
    "duration": 28,
    "start_time": "2023-06-18T19:38:37.611Z"
   },
   {
    "duration": 39,
    "start_time": "2023-06-18T19:38:37.641Z"
   },
   {
    "duration": 54,
    "start_time": "2023-06-18T19:38:37.682Z"
   },
   {
    "duration": 836,
    "start_time": "2023-06-18T19:38:37.738Z"
   },
   {
    "duration": 657,
    "start_time": "2023-06-18T19:38:38.575Z"
   },
   {
    "duration": 395,
    "start_time": "2023-06-18T19:38:39.233Z"
   },
   {
    "duration": 419,
    "start_time": "2023-06-18T19:38:39.631Z"
   },
   {
    "duration": 402,
    "start_time": "2023-06-18T19:38:40.052Z"
   },
   {
    "duration": 7,
    "start_time": "2023-06-18T19:38:40.456Z"
   },
   {
    "duration": 704,
    "start_time": "2023-06-18T19:38:40.464Z"
   },
   {
    "duration": 5,
    "start_time": "2023-06-18T19:38:41.170Z"
   },
   {
    "duration": 19,
    "start_time": "2023-06-18T19:38:41.176Z"
   },
   {
    "duration": 7,
    "start_time": "2023-06-18T19:38:41.196Z"
   },
   {
    "duration": 9,
    "start_time": "2023-06-18T19:38:41.205Z"
   },
   {
    "duration": 13,
    "start_time": "2023-06-18T19:38:41.215Z"
   },
   {
    "duration": 7,
    "start_time": "2023-06-18T19:38:41.229Z"
   },
   {
    "duration": 7,
    "start_time": "2023-06-18T19:38:41.237Z"
   },
   {
    "duration": 7,
    "start_time": "2023-06-18T19:38:41.246Z"
   },
   {
    "duration": 6,
    "start_time": "2023-06-18T19:38:41.255Z"
   },
   {
    "duration": 6,
    "start_time": "2023-06-18T19:38:41.262Z"
   },
   {
    "duration": 6,
    "start_time": "2023-06-18T19:38:41.269Z"
   },
   {
    "duration": 15,
    "start_time": "2023-06-18T19:38:41.278Z"
   },
   {
    "duration": 443,
    "start_time": "2023-06-18T19:38:41.295Z"
   },
   {
    "duration": 628,
    "start_time": "2023-06-18T19:38:41.739Z"
   },
   {
    "duration": 5,
    "start_time": "2023-06-18T19:38:42.370Z"
   },
   {
    "duration": 8,
    "start_time": "2023-06-18T19:38:42.377Z"
   },
   {
    "duration": 13,
    "start_time": "2023-06-18T19:38:42.386Z"
   },
   {
    "duration": 11,
    "start_time": "2023-06-18T19:38:42.401Z"
   },
   {
    "duration": 22,
    "start_time": "2023-06-18T19:38:42.414Z"
   },
   {
    "duration": 106,
    "start_time": "2023-06-18T19:38:42.438Z"
   },
   {
    "duration": 2127,
    "start_time": "2023-06-18T19:38:42.545Z"
   },
   {
    "duration": 1432,
    "start_time": "2023-06-18T19:40:28.638Z"
   },
   {
    "duration": 750,
    "start_time": "2023-06-18T19:40:30.072Z"
   },
   {
    "duration": 21,
    "start_time": "2023-06-18T19:40:30.824Z"
   },
   {
    "duration": 29,
    "start_time": "2023-06-18T19:40:30.847Z"
   },
   {
    "duration": 56,
    "start_time": "2023-06-18T19:40:30.878Z"
   },
   {
    "duration": 35,
    "start_time": "2023-06-18T19:40:30.936Z"
   },
   {
    "duration": 40,
    "start_time": "2023-06-18T19:40:30.973Z"
   },
   {
    "duration": 170,
    "start_time": "2023-06-18T19:40:31.015Z"
   },
   {
    "duration": 20,
    "start_time": "2023-06-18T19:40:31.187Z"
   },
   {
    "duration": 103,
    "start_time": "2023-06-18T19:40:31.210Z"
   },
   {
    "duration": 230,
    "start_time": "2023-06-18T19:40:31.315Z"
   },
   {
    "duration": 133,
    "start_time": "2023-06-18T19:40:31.547Z"
   },
   {
    "duration": 249,
    "start_time": "2023-06-18T19:40:31.682Z"
   },
   {
    "duration": 13,
    "start_time": "2023-06-18T19:40:31.932Z"
   },
   {
    "duration": 12,
    "start_time": "2023-06-18T19:40:31.946Z"
   },
   {
    "duration": 188,
    "start_time": "2023-06-18T19:40:31.960Z"
   },
   {
    "duration": 5,
    "start_time": "2023-06-18T19:40:32.150Z"
   },
   {
    "duration": 25,
    "start_time": "2023-06-18T19:40:32.156Z"
   },
   {
    "duration": 44,
    "start_time": "2023-06-18T19:40:32.183Z"
   },
   {
    "duration": 60,
    "start_time": "2023-06-18T19:40:32.229Z"
   },
   {
    "duration": 28,
    "start_time": "2023-06-18T19:40:32.291Z"
   },
   {
    "duration": 17,
    "start_time": "2023-06-18T19:40:32.322Z"
   },
   {
    "duration": 423,
    "start_time": "2023-06-18T19:40:32.341Z"
   },
   {
    "duration": 328,
    "start_time": "2023-06-18T19:40:32.765Z"
   },
   {
    "duration": 346,
    "start_time": "2023-06-18T19:40:33.095Z"
   },
   {
    "duration": 624,
    "start_time": "2023-06-18T19:40:33.443Z"
   },
   {
    "duration": 483,
    "start_time": "2023-06-18T19:40:34.068Z"
   },
   {
    "duration": 6,
    "start_time": "2023-06-18T19:40:34.555Z"
   },
   {
    "duration": 805,
    "start_time": "2023-06-18T19:40:34.563Z"
   },
   {
    "duration": 6,
    "start_time": "2023-06-18T19:40:35.369Z"
   },
   {
    "duration": 22,
    "start_time": "2023-06-18T19:40:35.376Z"
   },
   {
    "duration": 12,
    "start_time": "2023-06-18T19:40:35.400Z"
   },
   {
    "duration": 6,
    "start_time": "2023-06-18T19:40:35.413Z"
   },
   {
    "duration": 13,
    "start_time": "2023-06-18T19:40:35.421Z"
   },
   {
    "duration": 18,
    "start_time": "2023-06-18T19:40:35.436Z"
   },
   {
    "duration": 7,
    "start_time": "2023-06-18T19:40:35.456Z"
   },
   {
    "duration": 8,
    "start_time": "2023-06-18T19:40:35.464Z"
   },
   {
    "duration": 7,
    "start_time": "2023-06-18T19:40:35.474Z"
   },
   {
    "duration": 10,
    "start_time": "2023-06-18T19:40:35.482Z"
   },
   {
    "duration": 8,
    "start_time": "2023-06-18T19:40:35.493Z"
   },
   {
    "duration": 10,
    "start_time": "2023-06-18T19:40:35.502Z"
   },
   {
    "duration": 476,
    "start_time": "2023-06-18T19:40:35.514Z"
   },
   {
    "duration": 644,
    "start_time": "2023-06-18T19:40:35.992Z"
   },
   {
    "duration": 4,
    "start_time": "2023-06-18T19:40:36.638Z"
   },
   {
    "duration": 8,
    "start_time": "2023-06-18T19:40:36.643Z"
   },
   {
    "duration": 21,
    "start_time": "2023-06-18T19:40:36.652Z"
   },
   {
    "duration": 16,
    "start_time": "2023-06-18T19:40:36.674Z"
   },
   {
    "duration": 5,
    "start_time": "2023-06-18T19:40:36.691Z"
   },
   {
    "duration": 145,
    "start_time": "2023-06-18T19:40:36.698Z"
   },
   {
    "duration": 2418,
    "start_time": "2023-06-18T19:40:36.845Z"
   },
   {
    "duration": 106783,
    "start_time": "2023-06-18T19:40:39.264Z"
   },
   {
    "duration": 2212850,
    "start_time": "2023-06-18T19:42:26.049Z"
   },
   {
    "duration": 366,
    "start_time": "2023-06-18T20:19:18.900Z"
   },
   {
    "duration": 2399,
    "start_time": "2023-06-18T20:19:19.267Z"
   },
   {
    "duration": 4,
    "start_time": "2023-06-18T20:19:21.668Z"
   },
   {
    "duration": 125,
    "start_time": "2023-06-18T20:19:21.673Z"
   },
   {
    "duration": 73,
    "start_time": "2023-06-18T20:19:21.799Z"
   },
   {
    "duration": 3,
    "start_time": "2023-06-18T20:35:16.291Z"
   },
   {
    "duration": 3867,
    "start_time": "2023-06-18T20:35:19.350Z"
   },
   {
    "duration": 4,
    "start_time": "2023-06-18T20:35:23.218Z"
   },
   {
    "duration": 87,
    "start_time": "2023-06-18T20:35:24.690Z"
   },
   {
    "duration": 71,
    "start_time": "2023-06-18T20:36:05.704Z"
   },
   {
    "duration": 1718,
    "start_time": "2023-06-19T22:42:43.827Z"
   },
   {
    "duration": 2367,
    "start_time": "2023-06-19T22:42:45.547Z"
   },
   {
    "duration": 21,
    "start_time": "2023-06-19T22:42:47.916Z"
   },
   {
    "duration": 17,
    "start_time": "2023-06-19T22:42:47.940Z"
   },
   {
    "duration": 42,
    "start_time": "2023-06-19T22:42:47.960Z"
   },
   {
    "duration": 23,
    "start_time": "2023-06-19T22:42:48.004Z"
   },
   {
    "duration": 21,
    "start_time": "2023-06-19T22:42:48.029Z"
   },
   {
    "duration": 178,
    "start_time": "2023-06-19T22:42:48.052Z"
   },
   {
    "duration": 38,
    "start_time": "2023-06-19T22:42:48.232Z"
   },
   {
    "duration": 154,
    "start_time": "2023-06-19T22:42:48.273Z"
   },
   {
    "duration": 274,
    "start_time": "2023-06-19T22:42:48.429Z"
   },
   {
    "duration": 134,
    "start_time": "2023-06-19T22:42:48.704Z"
   },
   {
    "duration": 258,
    "start_time": "2023-06-19T22:42:48.840Z"
   },
   {
    "duration": 15,
    "start_time": "2023-06-19T22:42:49.099Z"
   },
   {
    "duration": 25,
    "start_time": "2023-06-19T22:42:49.116Z"
   },
   {
    "duration": 227,
    "start_time": "2023-06-19T22:42:49.143Z"
   },
   {
    "duration": 7,
    "start_time": "2023-06-19T22:42:49.372Z"
   },
   {
    "duration": 17,
    "start_time": "2023-06-19T22:42:49.380Z"
   },
   {
    "duration": 12,
    "start_time": "2023-06-19T22:42:49.399Z"
   },
   {
    "duration": 17,
    "start_time": "2023-06-19T22:42:49.413Z"
   },
   {
    "duration": 11,
    "start_time": "2023-06-19T22:42:49.432Z"
   },
   {
    "duration": 108,
    "start_time": "2023-06-19T22:42:49.456Z"
   },
   {
    "duration": 523,
    "start_time": "2023-06-19T22:42:49.566Z"
   },
   {
    "duration": 392,
    "start_time": "2023-06-19T22:42:50.091Z"
   },
   {
    "duration": 441,
    "start_time": "2023-06-19T22:42:50.486Z"
   },
   {
    "duration": 531,
    "start_time": "2023-06-19T22:42:50.930Z"
   },
   {
    "duration": 452,
    "start_time": "2023-06-19T22:42:51.463Z"
   },
   {
    "duration": 7,
    "start_time": "2023-06-19T22:42:51.920Z"
   },
   {
    "duration": 887,
    "start_time": "2023-06-19T22:42:51.929Z"
   },
   {
    "duration": 8,
    "start_time": "2023-06-19T22:42:52.818Z"
   },
   {
    "duration": 12,
    "start_time": "2023-06-19T22:42:52.828Z"
   },
   {
    "duration": 40,
    "start_time": "2023-06-19T22:42:52.842Z"
   },
   {
    "duration": 15,
    "start_time": "2023-06-19T22:42:52.884Z"
   },
   {
    "duration": 21,
    "start_time": "2023-06-19T22:42:52.901Z"
   },
   {
    "duration": 9,
    "start_time": "2023-06-19T22:42:52.924Z"
   },
   {
    "duration": 15,
    "start_time": "2023-06-19T22:42:52.935Z"
   },
   {
    "duration": 26,
    "start_time": "2023-06-19T22:42:52.954Z"
   },
   {
    "duration": 14,
    "start_time": "2023-06-19T22:42:52.982Z"
   },
   {
    "duration": 17,
    "start_time": "2023-06-19T22:42:52.997Z"
   },
   {
    "duration": 21,
    "start_time": "2023-06-19T22:42:53.015Z"
   },
   {
    "duration": 9,
    "start_time": "2023-06-19T22:42:53.038Z"
   },
   {
    "duration": 537,
    "start_time": "2023-06-19T22:42:53.049Z"
   },
   {
    "duration": 757,
    "start_time": "2023-06-19T22:42:53.588Z"
   },
   {
    "duration": 6,
    "start_time": "2023-06-19T22:42:54.347Z"
   },
   {
    "duration": 31,
    "start_time": "2023-06-19T22:42:54.354Z"
   },
   {
    "duration": 12,
    "start_time": "2023-06-19T22:42:54.387Z"
   },
   {
    "duration": 24,
    "start_time": "2023-06-19T22:42:54.400Z"
   },
   {
    "duration": 8,
    "start_time": "2023-06-19T22:42:54.426Z"
   },
   {
    "duration": 219,
    "start_time": "2023-06-19T22:42:54.437Z"
   },
   {
    "duration": 6442,
    "start_time": "2023-06-19T22:42:54.659Z"
   },
   {
    "duration": 112375,
    "start_time": "2023-06-19T22:43:01.103Z"
   },
   {
    "duration": 2363361,
    "start_time": "2023-06-19T22:44:53.480Z"
   },
   {
    "duration": 369,
    "start_time": "2023-06-19T23:24:16.843Z"
   },
   {
    "duration": 107,
    "start_time": "2023-06-19T23:24:21.208Z"
   },
   {
    "duration": 97,
    "start_time": "2023-06-19T23:24:21.318Z"
   },
   {
    "duration": 4274,
    "start_time": "2023-06-19T23:24:21.419Z"
   },
   {
    "duration": 11,
    "start_time": "2023-06-19T23:24:25.700Z"
   },
   {
    "duration": 103,
    "start_time": "2023-06-19T23:51:26.778Z"
   },
   {
    "duration": 9,
    "start_time": "2023-06-19T23:51:34.326Z"
   },
   {
    "duration": 3,
    "start_time": "2023-06-19T23:51:38.905Z"
   },
   {
    "duration": 3525,
    "start_time": "2023-06-19T23:51:40.154Z"
   },
   {
    "duration": 73,
    "start_time": "2023-06-19T23:51:43.681Z"
   },
   {
    "duration": 4,
    "start_time": "2023-06-19T23:52:56.734Z"
   },
   {
    "duration": 4,
    "start_time": "2023-06-19T23:54:04.728Z"
   },
   {
    "duration": 96,
    "start_time": "2023-06-19T23:54:29.166Z"
   },
   {
    "duration": 87,
    "start_time": "2023-06-19T23:55:50.753Z"
   },
   {
    "duration": 21376,
    "start_time": "2023-06-20T04:46:45.223Z"
   },
   {
    "duration": 1732,
    "start_time": "2023-06-20T04:47:06.601Z"
   },
   {
    "duration": 21,
    "start_time": "2023-06-20T04:52:18.372Z"
   },
   {
    "duration": 1170,
    "start_time": "2023-06-20T04:52:18.402Z"
   },
   {
    "duration": 24,
    "start_time": "2023-06-20T04:52:19.578Z"
   },
   {
    "duration": 36,
    "start_time": "2023-06-20T04:52:19.608Z"
   },
   {
    "duration": 97,
    "start_time": "2023-06-20T04:52:19.649Z"
   },
   {
    "duration": 32,
    "start_time": "2023-06-20T04:52:19.749Z"
   },
   {
    "duration": 90,
    "start_time": "2023-06-20T04:52:19.784Z"
   },
   {
    "duration": 195,
    "start_time": "2023-06-20T04:52:19.883Z"
   },
   {
    "duration": 41,
    "start_time": "2023-06-20T04:52:20.090Z"
   },
   {
    "duration": 231,
    "start_time": "2023-06-20T04:52:20.133Z"
   },
   {
    "duration": 353,
    "start_time": "2023-06-20T04:52:20.366Z"
   },
   {
    "duration": 190,
    "start_time": "2023-06-20T04:52:20.722Z"
   },
   {
    "duration": 318,
    "start_time": "2023-06-20T04:52:20.916Z"
   },
   {
    "duration": 43,
    "start_time": "2023-06-20T04:52:21.236Z"
   },
   {
    "duration": 26,
    "start_time": "2023-06-20T04:52:21.292Z"
   },
   {
    "duration": 380,
    "start_time": "2023-06-20T04:52:21.322Z"
   },
   {
    "duration": 8,
    "start_time": "2023-06-20T04:52:21.704Z"
   },
   {
    "duration": 93,
    "start_time": "2023-06-20T04:52:21.717Z"
   },
   {
    "duration": 32,
    "start_time": "2023-06-20T04:52:21.812Z"
   },
   {
    "duration": 95,
    "start_time": "2023-06-20T04:52:21.846Z"
   },
   {
    "duration": 29,
    "start_time": "2023-06-20T04:52:21.943Z"
   },
   {
    "duration": 39,
    "start_time": "2023-06-20T04:52:21.981Z"
   },
   {
    "duration": 402,
    "start_time": "2023-06-20T04:52:22.022Z"
   },
   {
    "duration": 544,
    "start_time": "2023-06-20T04:52:22.426Z"
   },
   {
    "duration": 421,
    "start_time": "2023-06-20T04:52:22.975Z"
   },
   {
    "duration": 517,
    "start_time": "2023-06-20T04:52:23.405Z"
   },
   {
    "duration": 544,
    "start_time": "2023-06-20T04:52:23.924Z"
   },
   {
    "duration": 25,
    "start_time": "2023-06-20T04:52:24.475Z"
   },
   {
    "duration": 868,
    "start_time": "2023-06-20T04:52:24.502Z"
   },
   {
    "duration": 19,
    "start_time": "2023-06-20T04:52:25.379Z"
   },
   {
    "duration": 24,
    "start_time": "2023-06-20T04:52:25.402Z"
   },
   {
    "duration": 12,
    "start_time": "2023-06-20T04:52:25.428Z"
   },
   {
    "duration": 60,
    "start_time": "2023-06-20T04:52:25.442Z"
   },
   {
    "duration": 25,
    "start_time": "2023-06-20T04:52:25.503Z"
   },
   {
    "duration": 17,
    "start_time": "2023-06-20T04:52:25.530Z"
   },
   {
    "duration": 61,
    "start_time": "2023-06-20T04:52:25.549Z"
   },
   {
    "duration": 17,
    "start_time": "2023-06-20T04:52:25.611Z"
   },
   {
    "duration": 17,
    "start_time": "2023-06-20T04:52:25.629Z"
   },
   {
    "duration": 57,
    "start_time": "2023-06-20T04:52:25.648Z"
   },
   {
    "duration": 18,
    "start_time": "2023-06-20T04:52:25.707Z"
   },
   {
    "duration": 20,
    "start_time": "2023-06-20T04:52:25.727Z"
   },
   {
    "duration": 754,
    "start_time": "2023-06-20T04:52:25.749Z"
   },
   {
    "duration": 843,
    "start_time": "2023-06-20T04:52:26.506Z"
   },
   {
    "duration": 26,
    "start_time": "2023-06-20T04:52:27.353Z"
   },
   {
    "duration": 32,
    "start_time": "2023-06-20T04:52:27.386Z"
   },
   {
    "duration": 11,
    "start_time": "2023-06-20T04:52:27.421Z"
   },
   {
    "duration": 36,
    "start_time": "2023-06-20T04:52:27.435Z"
   },
   {
    "duration": 25,
    "start_time": "2023-06-20T04:52:27.480Z"
   },
   {
    "duration": 293,
    "start_time": "2023-06-20T04:52:27.507Z"
   },
   {
    "duration": 7904,
    "start_time": "2023-06-20T04:52:27.870Z"
   },
   {
    "duration": 128036,
    "start_time": "2023-06-20T04:52:35.777Z"
   },
   {
    "duration": 1682,
    "start_time": "2023-06-20T05:07:23.887Z"
   },
   {
    "duration": 898,
    "start_time": "2023-06-20T05:07:25.571Z"
   },
   {
    "duration": 35,
    "start_time": "2023-06-20T05:07:26.476Z"
   },
   {
    "duration": 16,
    "start_time": "2023-06-20T05:07:26.512Z"
   },
   {
    "duration": 42,
    "start_time": "2023-06-20T05:07:26.531Z"
   },
   {
    "duration": 36,
    "start_time": "2023-06-20T05:07:26.575Z"
   },
   {
    "duration": 27,
    "start_time": "2023-06-20T05:07:26.613Z"
   },
   {
    "duration": 200,
    "start_time": "2023-06-20T05:07:26.642Z"
   },
   {
    "duration": 43,
    "start_time": "2023-06-20T05:07:26.843Z"
   },
   {
    "duration": 255,
    "start_time": "2023-06-20T05:07:26.892Z"
   },
   {
    "duration": 281,
    "start_time": "2023-06-20T05:07:27.149Z"
   },
   {
    "duration": 169,
    "start_time": "2023-06-20T05:07:27.432Z"
   },
   {
    "duration": 295,
    "start_time": "2023-06-20T05:07:27.603Z"
   },
   {
    "duration": 16,
    "start_time": "2023-06-20T05:07:27.903Z"
   },
   {
    "duration": 8,
    "start_time": "2023-06-20T05:07:27.922Z"
   },
   {
    "duration": 262,
    "start_time": "2023-06-20T05:07:27.932Z"
   },
   {
    "duration": 6,
    "start_time": "2023-06-20T05:07:28.196Z"
   },
   {
    "duration": 206,
    "start_time": "2023-06-20T05:07:28.203Z"
   },
   {
    "duration": 24,
    "start_time": "2023-06-20T05:07:28.412Z"
   },
   {
    "duration": 73,
    "start_time": "2023-06-20T05:07:28.439Z"
   },
   {
    "duration": 28,
    "start_time": "2023-06-20T05:07:28.515Z"
   },
   {
    "duration": 23,
    "start_time": "2023-06-20T05:07:28.545Z"
   },
   {
    "duration": 553,
    "start_time": "2023-06-20T05:07:28.570Z"
   },
   {
    "duration": 399,
    "start_time": "2023-06-20T05:07:29.125Z"
   },
   {
    "duration": 402,
    "start_time": "2023-06-20T05:07:29.526Z"
   },
   {
    "duration": 635,
    "start_time": "2023-06-20T05:07:29.930Z"
   },
   {
    "duration": 495,
    "start_time": "2023-06-20T05:07:30.576Z"
   },
   {
    "duration": 13,
    "start_time": "2023-06-20T05:07:31.078Z"
   },
   {
    "duration": 1113,
    "start_time": "2023-06-20T05:07:31.094Z"
   },
   {
    "duration": 8,
    "start_time": "2023-06-20T05:07:32.209Z"
   },
   {
    "duration": 25,
    "start_time": "2023-06-20T05:07:32.220Z"
   },
   {
    "duration": 70,
    "start_time": "2023-06-20T05:07:32.247Z"
   },
   {
    "duration": 39,
    "start_time": "2023-06-20T05:07:32.319Z"
   },
   {
    "duration": 59,
    "start_time": "2023-06-20T05:07:32.360Z"
   },
   {
    "duration": 35,
    "start_time": "2023-06-20T05:07:32.421Z"
   },
   {
    "duration": 55,
    "start_time": "2023-06-20T05:07:32.460Z"
   },
   {
    "duration": 25,
    "start_time": "2023-06-20T05:07:32.518Z"
   },
   {
    "duration": 48,
    "start_time": "2023-06-20T05:07:32.545Z"
   },
   {
    "duration": 14,
    "start_time": "2023-06-20T05:07:32.596Z"
   },
   {
    "duration": 13,
    "start_time": "2023-06-20T05:07:32.612Z"
   },
   {
    "duration": 115,
    "start_time": "2023-06-20T05:07:32.629Z"
   },
   {
    "duration": 653,
    "start_time": "2023-06-20T05:07:32.746Z"
   },
   {
    "duration": 851,
    "start_time": "2023-06-20T05:07:33.401Z"
   },
   {
    "duration": 6,
    "start_time": "2023-06-20T05:07:34.254Z"
   },
   {
    "duration": 9,
    "start_time": "2023-06-20T05:07:34.262Z"
   },
   {
    "duration": 131,
    "start_time": "2023-06-20T05:07:34.277Z"
   },
   {
    "duration": 73,
    "start_time": "2023-06-20T05:07:34.410Z"
   },
   {
    "duration": 37,
    "start_time": "2023-06-20T05:07:34.485Z"
   },
   {
    "duration": 23,
    "start_time": "2023-06-20T05:07:34.525Z"
   },
   {
    "duration": 909,
    "start_time": "2023-06-20T05:07:34.550Z"
   },
   {
    "duration": 4057,
    "start_time": "2023-06-20T05:07:35.461Z"
   },
   {
    "duration": 125679,
    "start_time": "2023-06-20T05:07:39.521Z"
   },
   {
    "duration": 2659675,
    "start_time": "2023-06-20T05:09:45.202Z"
   },
   {
    "duration": 3,
    "start_time": "2023-06-20T05:54:04.879Z"
   },
   {
    "duration": 2,
    "start_time": "2023-06-20T05:54:04.883Z"
   },
   {
    "duration": 25880,
    "start_time": "2023-06-20T05:54:04.887Z"
   },
   {
    "duration": 1950,
    "start_time": "2023-06-20T05:54:30.770Z"
   },
   {
    "duration": 4,
    "start_time": "2023-06-20T05:54:32.723Z"
   },
   {
    "duration": 4381,
    "start_time": "2023-06-20T05:54:32.729Z"
   },
   {
    "duration": 96,
    "start_time": "2023-06-20T05:54:37.111Z"
   },
   {
    "duration": 4,
    "start_time": "2023-06-20T05:54:37.209Z"
   },
   {
    "duration": 136,
    "start_time": "2023-06-20T05:54:37.215Z"
   },
   {
    "duration": 147,
    "start_time": "2023-06-20T05:54:37.356Z"
   },
   {
    "duration": 876,
    "start_time": "2023-06-20T05:54:37.506Z"
   },
   {
    "duration": 21830,
    "start_time": "2023-06-20T06:02:22.986Z"
   },
   {
    "duration": 1913,
    "start_time": "2023-06-20T06:03:09.314Z"
   }
  ],
  "kernelspec": {
   "display_name": "Python 3 (ipykernel)",
   "language": "python",
   "name": "python3"
  },
  "language_info": {
   "codemirror_mode": {
    "name": "ipython",
    "version": 3
   },
   "file_extension": ".py",
   "mimetype": "text/x-python",
   "name": "python",
   "nbconvert_exporter": "python",
   "pygments_lexer": "ipython3",
   "version": "3.11.3"
  },
  "toc": {
   "base_numbering": 1,
   "nav_menu": {},
   "number_sections": true,
   "sideBar": true,
   "skip_h1_title": true,
   "title_cell": "Содержание",
   "title_sidebar": "Contents",
   "toc_cell": true,
   "toc_position": {
    "height": "calc(100% - 180px)",
    "left": "10px",
    "top": "150px",
    "width": "165px"
   },
   "toc_section_display": true,
   "toc_window_display": true
  }
 },
 "nbformat": 4,
 "nbformat_minor": 2
}
