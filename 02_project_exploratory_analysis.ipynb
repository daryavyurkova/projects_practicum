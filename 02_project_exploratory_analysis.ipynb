{
 "cells": [
  {
   "cell_type": "markdown",
   "metadata": {},
   "source": [
    "# Исследование объявлений о продаже квартир\n",
    "\n",
    "В вашем распоряжении данные сервиса Яндекс.Недвижимость — архив объявлений о продаже квартир в Санкт-Петербурге и соседних населённых пунктов за несколько лет. Нужно научиться определять рыночную стоимость объектов недвижимости. Ваша задача — установить параметры. Это позволит построить автоматизированную систему: она отследит аномалии и мошенническую деятельность. \n",
    "\n",
    "По каждой квартире на продажу доступны два вида данных. Первые вписаны пользователем, вторые — получены автоматически на основе картографических данных. Например, расстояние до центра, аэропорта, ближайшего парка и водоёма. "
   ]
  },
  {
   "cell_type": "markdown",
   "metadata": {},
   "source": [
    "**Цели исследования:**\n",
    "\n",
    "1. Найти интересные особенности и зависимости, которые существуют на рынке недвижимости в предложенном сегменте.\n",
    "2. Понять насколько качественно были внесены данные людьми.\n",
    "3. Определить насколько качественно заполнились автоматизированные данные (в данном случае картографические).\n",
    "4. Найти взаимосвязь общей итоговой стоиомсти квартир от данных нам параметров (с какими связь есть, с какими нет).\n",
    "\n",
    "**Ход исследования**\n",
    "<br>\n",
    "1. Изучение данных из файла.\n",
    "На это этапе нас ждёт общее ознакомительное знакомство с данными. Выведем гистограммы для наглядности. Сделаем первые выводы о данных:\n",
    "- насколько их достаточно для проведения анализа;\n",
    "- нет ли явных аномалий, которые могут помешать работе;\n",
    "- все ли типы данных соотвествуют содержанию.\n",
    "<br>\n",
    "2. Предобработка данных.\n",
    "На этом этапе мы:\n",
    "- найдём и изучим все пропущенные значения, \n",
    "- постараемся понять их природу и устранить те, которые сможем с помощью заполненения определенными данными, в которых уверены (например, 0 - когда знаем, что пропуск означает нулевое значение); медианными значениями, когда это безопасно и не исказит общую картину. \n",
    "- удалим строки, если их количество будет достаточно маленьким и их отсутствие не повредит целостности таблицы;\n",
    "- поменяем типы данных некоторых столбцов, чтобы облегчить дальнейшие вычисления. \n",
    "<br>\n",
    "3. Расчёты и добавление результатов в таблицу.\n",
    "В этом пункет нам понадоится добавить несколько параметров, которые помогут дальше при вычислении взаимосвязей. Значения этих столбцов будут базироваться на значениях других (где-то \n",
    "<br>\n",
    "<br>\n",
    "4. Исследовательский анализ данных.\n",
    "Построим сводные таблицы, графики, вычислим коэффициенты корреляции, найдём взаимосвязи и взаимовлияния.\n",
    "<br>\n",
    "<br>\n",
    "5. Общий вывод.\n",
    "Этот пункт будет состоять из единого сборного вывода из вышеперечисленных пунктов и общего вывода о проведённой работе. \n",
    "<br>\n",
    "<br>\n",
    "По каждому пункту хода исследования мы сделаем промежуточные выводы, которые в конце соберём в большой единый."
   ]
  },
  {
   "cell_type": "markdown",
   "metadata": {},
   "source": []
  },
  {
   "cell_type": "markdown",
   "metadata": {},
   "source": [
    "### Откройте файл с данными и изучите общую информацию. "
   ]
  },
  {
   "cell_type": "code",
   "execution_count": 4,
   "metadata": {},
   "outputs": [
    {
     "name": "stdout",
     "output_type": "stream",
     "text": [
      "<class 'pandas.core.frame.DataFrame'>\n",
      "RangeIndex: 23699 entries, 0 to 23698\n",
      "Data columns (total 22 columns):\n",
      " #   Column                Non-Null Count  Dtype  \n",
      "---  ------                --------------  -----  \n",
      " 0   total_images          23699 non-null  int64  \n",
      " 1   last_price            23699 non-null  float64\n",
      " 2   total_area            23699 non-null  float64\n",
      " 3   first_day_exposition  23699 non-null  object \n",
      " 4   rooms                 23699 non-null  int64  \n",
      " 5   ceiling_height        14504 non-null  float64\n",
      " 6   floors_total          23613 non-null  float64\n",
      " 7   living_area           21796 non-null  float64\n",
      " 8   floor                 23699 non-null  int64  \n",
      " 9   is_apartment          2775 non-null   object \n",
      " 10  studio                23699 non-null  bool   \n",
      " 11  open_plan             23699 non-null  bool   \n",
      " 12  kitchen_area          21421 non-null  float64\n",
      " 13  balcony               12180 non-null  float64\n",
      " 14  locality_name         23650 non-null  object \n",
      " 15  airports_nearest      18157 non-null  float64\n",
      " 16  cityCenters_nearest   18180 non-null  float64\n",
      " 17  parks_around3000      18181 non-null  float64\n",
      " 18  parks_nearest         8079 non-null   float64\n",
      " 19  ponds_around3000      18181 non-null  float64\n",
      " 20  ponds_nearest         9110 non-null   float64\n",
      " 21  days_exposition       20518 non-null  float64\n",
      "dtypes: bool(2), float64(14), int64(3), object(3)\n",
      "memory usage: 3.7+ MB\n",
      "   total_images  last_price  total_area first_day_exposition  rooms  \\\n",
      "0            20  13000000.0       108.0  2019-03-07T00:00:00      3   \n",
      "1             7   3350000.0        40.4  2018-12-04T00:00:00      1   \n",
      "2            10   5196000.0        56.0  2015-08-20T00:00:00      2   \n",
      "3             0  64900000.0       159.0  2015-07-24T00:00:00      3   \n",
      "4             2  10000000.0       100.0  2018-06-19T00:00:00      2   \n",
      "\n",
      "   ceiling_height  floors_total  living_area  floor is_apartment  ...  \\\n",
      "0            2.70          16.0         51.0      8          NaN  ...   \n",
      "1             NaN          11.0         18.6      1          NaN  ...   \n",
      "2             NaN           5.0         34.3      4          NaN  ...   \n",
      "3             NaN          14.0          NaN      9          NaN  ...   \n",
      "4            3.03          14.0         32.0     13          NaN  ...   \n",
      "\n",
      "   kitchen_area  balcony    locality_name  airports_nearest  \\\n",
      "0          25.0      NaN  Санкт-Петербург           18863.0   \n",
      "1          11.0      2.0   посёлок Шушары           12817.0   \n",
      "2           8.3      0.0  Санкт-Петербург           21741.0   \n",
      "3           NaN      0.0  Санкт-Петербург           28098.0   \n",
      "4          41.0      NaN  Санкт-Петербург           31856.0   \n",
      "\n",
      "  cityCenters_nearest  parks_around3000  parks_nearest  ponds_around3000  \\\n",
      "0             16028.0               1.0          482.0               2.0   \n",
      "1             18603.0               0.0            NaN               0.0   \n",
      "2             13933.0               1.0           90.0               2.0   \n",
      "3              6800.0               2.0           84.0               3.0   \n",
      "4              8098.0               2.0          112.0               1.0   \n",
      "\n",
      "   ponds_nearest  days_exposition  \n",
      "0          755.0              NaN  \n",
      "1            NaN             81.0  \n",
      "2          574.0            558.0  \n",
      "3          234.0            424.0  \n",
      "4           48.0            121.0  \n",
      "\n",
      "[5 rows x 22 columns]\n"
     ]
    }
   ],
   "source": [
    "# импортируем\n",
    "import pandas as pd\n",
    "data = pd.read_csv('/datasets/real_estate_data.csv', sep='\\t')\n",
    "# выводим общие данные по таблице\n",
    "data.info()\n",
    "print(data.head())"
   ]
  },
  {
   "cell_type": "markdown",
   "metadata": {},
   "source": [
    "У нас есть 23699 записей о квартирах по 22 параметрам. Для необходимого анализа информации нам будет достаточно. В данных есть много пропусков, несколько столбцов нуждаются в переименовании, в некоторых нужно будет изменить типа данных."
   ]
  },
  {
   "cell_type": "code",
   "execution_count": 5,
   "metadata": {
    "scrolled": true
   },
   "outputs": [
    {
     "data": {
      "image/png": "[encoded data removed]",
      "text/plain": [
       "<Figure size 1080x1440 with 20 Axes>"
      ]
     },
     "metadata": {
      "needs_background": "light"
     },
     "output_type": "display_data"
    }
   ],
   "source": [
    "# построим гистограммы для числовых столбцов\n",
    "data.hist(figsize=(15, 20));\n",
    "\n"
   ]
  },
  {
   "cell_type": "markdown",
   "metadata": {},
   "source": [
    "### Предобработка данных"
   ]
  },
  {
   "cell_type": "markdown",
   "metadata": {},
   "source": [
    "**Переименуем столбцы**"
   ]
  },
  {
   "cell_type": "markdown",
   "metadata": {},
   "source": [
    "Для унификации переименуем некоторые названия столбцов в соответствии со \"змеиным регистром\"."
   ]
  },
  {
   "cell_type": "code",
   "execution_count": 6,
   "metadata": {},
   "outputs": [
    {
     "name": "stdout",
     "output_type": "stream",
     "text": [
      "<class 'pandas.core.frame.DataFrame'>\n",
      "RangeIndex: 23699 entries, 0 to 23698\n",
      "Data columns (total 22 columns):\n",
      " #   Column                Non-Null Count  Dtype  \n",
      "---  ------                --------------  -----  \n",
      " 0   total_images          23699 non-null  int64  \n",
      " 1   last_price            23699 non-null  float64\n",
      " 2   total_area            23699 non-null  float64\n",
      " 3   first_day_exposition  23699 non-null  object \n",
      " 4   rooms                 23699 non-null  int64  \n",
      " 5   ceiling_height        14504 non-null  float64\n",
      " 6   floors_total          23613 non-null  float64\n",
      " 7   living_area           21796 non-null  float64\n",
      " 8   floor                 23699 non-null  int64  \n",
      " 9   is_apartment          2775 non-null   object \n",
      " 10  studio                23699 non-null  bool   \n",
      " 11  open_plan             23699 non-null  bool   \n",
      " 12  kitchen_area          21421 non-null  float64\n",
      " 13  balcony               12180 non-null  float64\n",
      " 14  locality_name         23650 non-null  object \n",
      " 15  airports_nearest      18157 non-null  float64\n",
      " 16  city_centers_nearest  18180 non-null  float64\n",
      " 17  parks_around_3000     18181 non-null  float64\n",
      " 18  parks_nearest         8079 non-null   float64\n",
      " 19  ponds_around_3000     18181 non-null  float64\n",
      " 20  ponds_nearest         9110 non-null   float64\n",
      " 21  days_exposition       20518 non-null  float64\n",
      "dtypes: bool(2), float64(14), int64(3), object(3)\n",
      "memory usage: 3.7+ MB\n"
     ]
    }
   ],
   "source": [
    "data = data.rename(columns={'cityCenters_nearest': 'city_centers_nearest',\n",
    "                            'parks_around3000': 'parks_around_3000',\n",
    "                            'ponds_around3000': 'ponds_around_3000'})\n",
    "# проверим результат:\n",
    "data.info()\n",
    "\n"
   ]
  },
  {
   "cell_type": "markdown",
   "metadata": {},
   "source": [
    "**Определим, в каких столбцах есть пропуски**"
   ]
  },
  {
   "cell_type": "code",
   "execution_count": 7,
   "metadata": {},
   "outputs": [
    {
     "data": {
      "text/plain": [
       "total_images                0\n",
       "last_price                  0\n",
       "total_area                  0\n",
       "first_day_exposition        0\n",
       "rooms                       0\n",
       "ceiling_height           9195\n",
       "floors_total               86\n",
       "living_area              1903\n",
       "floor                       0\n",
       "is_apartment            20924\n",
       "studio                      0\n",
       "open_plan                   0\n",
       "kitchen_area             2278\n",
       "balcony                 11519\n",
       "locality_name              49\n",
       "airports_nearest         5542\n",
       "city_centers_nearest     5519\n",
       "parks_around_3000        5518\n",
       "parks_nearest           15620\n",
       "ponds_around_3000        5518\n",
       "ponds_nearest           14589\n",
       "days_exposition          3181\n",
       "dtype: int64"
      ]
     },
     "execution_count": 7,
     "metadata": {},
     "output_type": "execute_result"
    }
   ],
   "source": [
    "data.isna().sum()\n"
   ]
  },
  {
   "cell_type": "code",
   "execution_count": 98,
   "metadata": {},
   "outputs": [
    {
     "data": {
      "text/html": [
       "<style  type=\"text/css\" >\n",
       "#T_74baa_row0_col0,#T_74baa_row1_col0,#T_74baa_row2_col0,#T_74baa_row3_col0,#T_74baa_row4_col0,#T_74baa_row5_col0,#T_74baa_row6_col0,#T_74baa_row7_col0,#T_74baa_row8_col0,#T_74baa_row9_col0,#T_74baa_row10_col0,#T_74baa_row11_col0,#T_74baa_row12_col0,#T_74baa_row13_col0,#T_74baa_row14_col0,#T_74baa_row17_col0,#T_74baa_row19_col0,#T_74baa_row21_col0,#T_74baa_row22_col0,#T_74baa_row23_col0,#T_74baa_row24_col0,#T_74baa_row25_col0,#T_74baa_row26_col0{\n",
       "            background-color:  #3b4cc0;\n",
       "            color:  #f1f1f1;\n",
       "        }#T_74baa_row15_col0,#T_74baa_row16_col0,#T_74baa_row27_col0{\n",
       "            background-color:  #a5c3fe;\n",
       "            color:  #000000;\n",
       "        }#T_74baa_row18_col0{\n",
       "            background-color:  #b40426;\n",
       "            color:  #f1f1f1;\n",
       "        }#T_74baa_row20_col0{\n",
       "            background-color:  #c53334;\n",
       "            color:  #f1f1f1;\n",
       "        }</style><table id=\"T_74baa_\" ><thead>    <tr>        <th class=\"blank level0\" ></th>        <th class=\"col_heading level0 col0\" >0</th>    </tr></thead><tbody>\n",
       "                <tr>\n",
       "                        <th id=\"T_74baa_level0_row0\" class=\"row_heading level0 row0\" >total_images</th>\n",
       "                        <td id=\"T_74baa_row0_col0\" class=\"data row0 col0\" >0.000000</td>\n",
       "            </tr>\n",
       "            <tr>\n",
       "                        <th id=\"T_74baa_level0_row1\" class=\"row_heading level0 row1\" >last_price</th>\n",
       "                        <td id=\"T_74baa_row1_col0\" class=\"data row1 col0\" >0.000000</td>\n",
       "            </tr>\n",
       "            <tr>\n",
       "                        <th id=\"T_74baa_level0_row2\" class=\"row_heading level0 row2\" >total_area</th>\n",
       "                        <td id=\"T_74baa_row2_col0\" class=\"data row2 col0\" >0.000000</td>\n",
       "            </tr>\n",
       "            <tr>\n",
       "                        <th id=\"T_74baa_level0_row3\" class=\"row_heading level0 row3\" >first_day_exposition</th>\n",
       "                        <td id=\"T_74baa_row3_col0\" class=\"data row3 col0\" >0.000000</td>\n",
       "            </tr>\n",
       "            <tr>\n",
       "                        <th id=\"T_74baa_level0_row4\" class=\"row_heading level0 row4\" >rooms</th>\n",
       "                        <td id=\"T_74baa_row4_col0\" class=\"data row4 col0\" >0.000000</td>\n",
       "            </tr>\n",
       "            <tr>\n",
       "                        <th id=\"T_74baa_level0_row5\" class=\"row_heading level0 row5\" >ceiling_height</th>\n",
       "                        <td id=\"T_74baa_row5_col0\" class=\"data row5 col0\" >0.000000</td>\n",
       "            </tr>\n",
       "            <tr>\n",
       "                        <th id=\"T_74baa_level0_row6\" class=\"row_heading level0 row6\" >floors_total</th>\n",
       "                        <td id=\"T_74baa_row6_col0\" class=\"data row6 col0\" >0.000000</td>\n",
       "            </tr>\n",
       "            <tr>\n",
       "                        <th id=\"T_74baa_level0_row7\" class=\"row_heading level0 row7\" >living_area</th>\n",
       "                        <td id=\"T_74baa_row7_col0\" class=\"data row7 col0\" >0.000000</td>\n",
       "            </tr>\n",
       "            <tr>\n",
       "                        <th id=\"T_74baa_level0_row8\" class=\"row_heading level0 row8\" >floor</th>\n",
       "                        <td id=\"T_74baa_row8_col0\" class=\"data row8 col0\" >0.000000</td>\n",
       "            </tr>\n",
       "            <tr>\n",
       "                        <th id=\"T_74baa_level0_row9\" class=\"row_heading level0 row9\" >is_apartment</th>\n",
       "                        <td id=\"T_74baa_row9_col0\" class=\"data row9 col0\" >0.000000</td>\n",
       "            </tr>\n",
       "            <tr>\n",
       "                        <th id=\"T_74baa_level0_row10\" class=\"row_heading level0 row10\" >studio</th>\n",
       "                        <td id=\"T_74baa_row10_col0\" class=\"data row10 col0\" >0.000000</td>\n",
       "            </tr>\n",
       "            <tr>\n",
       "                        <th id=\"T_74baa_level0_row11\" class=\"row_heading level0 row11\" >open_plan</th>\n",
       "                        <td id=\"T_74baa_row11_col0\" class=\"data row11 col0\" >0.000000</td>\n",
       "            </tr>\n",
       "            <tr>\n",
       "                        <th id=\"T_74baa_level0_row12\" class=\"row_heading level0 row12\" >kitchen_area</th>\n",
       "                        <td id=\"T_74baa_row12_col0\" class=\"data row12 col0\" >0.000000</td>\n",
       "            </tr>\n",
       "            <tr>\n",
       "                        <th id=\"T_74baa_level0_row13\" class=\"row_heading level0 row13\" >balcony</th>\n",
       "                        <td id=\"T_74baa_row13_col0\" class=\"data row13 col0\" >0.000000</td>\n",
       "            </tr>\n",
       "            <tr>\n",
       "                        <th id=\"T_74baa_level0_row14\" class=\"row_heading level0 row14\" >locality_name</th>\n",
       "                        <td id=\"T_74baa_row14_col0\" class=\"data row14 col0\" >0.000000</td>\n",
       "            </tr>\n",
       "            <tr>\n",
       "                        <th id=\"T_74baa_level0_row15\" class=\"row_heading level0 row15\" >airports_nearest</th>\n",
       "                        <td id=\"T_74baa_row15_col0\" class=\"data row15 col0\" >20.000000</td>\n",
       "            </tr>\n",
       "            <tr>\n",
       "                        <th id=\"T_74baa_level0_row16\" class=\"row_heading level0 row16\" >city_centers_nearest</th>\n",
       "                        <td id=\"T_74baa_row16_col0\" class=\"data row16 col0\" >20.000000</td>\n",
       "            </tr>\n",
       "            <tr>\n",
       "                        <th id=\"T_74baa_level0_row17\" class=\"row_heading level0 row17\" >parks_around_3000</th>\n",
       "                        <td id=\"T_74baa_row17_col0\" class=\"data row17 col0\" >0.000000</td>\n",
       "            </tr>\n",
       "            <tr>\n",
       "                        <th id=\"T_74baa_level0_row18\" class=\"row_heading level0 row18\" >parks_nearest</th>\n",
       "                        <td id=\"T_74baa_row18_col0\" class=\"data row18 col0\" >63.000000</td>\n",
       "            </tr>\n",
       "            <tr>\n",
       "                        <th id=\"T_74baa_level0_row19\" class=\"row_heading level0 row19\" >ponds_around_3000</th>\n",
       "                        <td id=\"T_74baa_row19_col0\" class=\"data row19 col0\" >0.000000</td>\n",
       "            </tr>\n",
       "            <tr>\n",
       "                        <th id=\"T_74baa_level0_row20\" class=\"row_heading level0 row20\" >ponds_nearest</th>\n",
       "                        <td id=\"T_74baa_row20_col0\" class=\"data row20 col0\" >60.000000</td>\n",
       "            </tr>\n",
       "            <tr>\n",
       "                        <th id=\"T_74baa_level0_row21\" class=\"row_heading level0 row21\" >days_exposition</th>\n",
       "                        <td id=\"T_74baa_row21_col0\" class=\"data row21 col0\" >0.000000</td>\n",
       "            </tr>\n",
       "            <tr>\n",
       "                        <th id=\"T_74baa_level0_row22\" class=\"row_heading level0 row22\" >price_sqm</th>\n",
       "                        <td id=\"T_74baa_row22_col0\" class=\"data row22 col0\" >0.000000</td>\n",
       "            </tr>\n",
       "            <tr>\n",
       "                        <th id=\"T_74baa_level0_row23\" class=\"row_heading level0 row23\" >exposition_weekday</th>\n",
       "                        <td id=\"T_74baa_row23_col0\" class=\"data row23 col0\" >0.000000</td>\n",
       "            </tr>\n",
       "            <tr>\n",
       "                        <th id=\"T_74baa_level0_row24\" class=\"row_heading level0 row24\" >exposition_month</th>\n",
       "                        <td id=\"T_74baa_row24_col0\" class=\"data row24 col0\" >0.000000</td>\n",
       "            </tr>\n",
       "            <tr>\n",
       "                        <th id=\"T_74baa_level0_row25\" class=\"row_heading level0 row25\" >exposition_year</th>\n",
       "                        <td id=\"T_74baa_row25_col0\" class=\"data row25 col0\" >0.000000</td>\n",
       "            </tr>\n",
       "            <tr>\n",
       "                        <th id=\"T_74baa_level0_row26\" class=\"row_heading level0 row26\" >floor_type</th>\n",
       "                        <td id=\"T_74baa_row26_col0\" class=\"data row26 col0\" >0.000000</td>\n",
       "            </tr>\n",
       "            <tr>\n",
       "                        <th id=\"T_74baa_level0_row27\" class=\"row_heading level0 row27\" >distance_center</th>\n",
       "                        <td id=\"T_74baa_row27_col0\" class=\"data row27 col0\" >20.000000</td>\n",
       "            </tr>\n",
       "    </tbody></table>"
      ],
      "text/plain": [
       "<pandas.io.formats.style.Styler at 0x7f87b642fe50>"
      ]
     },
     "execution_count": 98,
     "metadata": {},
     "output_type": "execute_result"
    }
   ],
   "source": [
    "# пробую твой способ\n",
    "pd.DataFrame(round(data.isna().mean()*100,)).style.background_gradient('coolwarm')"
   ]
  },
  {
   "cell_type": "markdown",
   "metadata": {},
   "source": [
    "**Проанализируем данные по пропущенным значениям:**\n",
    "<br>\n",
    "<br>\n",
    "Высота потолков (ceiling_height) – 9195, более, чем у трети записей не указана высота потолков. Заполнять средними или медианным значениями будет неверным решением, так как квартиры в центре Петербурга, в старом фонде и в новостройке в его пригороде могут значительно отличаться, заполнить средними будет несправедливо, оставляем.\n",
    "<br>\n",
    "<br>\n",
    "Этажей в доме (floors_total) – 86, возможно пропуски в этом столбце могут означать, что дом одноэтажный, либо данные не были заполненный случайно или намерены. Их количество составляет 0,4%. Это довольно немyого, поэтому ими можно пожертвоать и удалить строки. \n",
    "<br>\n",
    "<br>\n",
    "Жилая площадь (living_area) – 1903, оставляем незаполненными.\n",
    "<br>\n",
    "<br>\n",
    "Апартаменты (is_apartment) – 20924, скорее всего произошла ошибка при заполнении. Так как это булев тип данных, незаполненность параметра вероятнее всего означает –\"нет\", поэтому заполним эти пропуски как False.\n",
    "<br>\n",
    "<br>\n",
    "Площадь кухни (kitchen_area) – 2278, могла остаться незаполненной, потому что это квартира-студия. \n",
    "<br>\n",
    "<br>\n",
    "Балкон (balcony) – 11519, пропущенное значение в столбце с балконами вероятно означает его отсутствие, заполним 0.\n",
    "<br>\n",
    "<br>\n",
    "Название населённого пунтка (locality_name) – 49, скорее всего пропустили при заполнении и так как заполнить нечем, учитывая, что это количестов всего 0,2% от количества всех строк, можем удалить.\n",
    "<br>\n",
    "<br>\n",
    "Центр города (city_centers_nearest) – 5519, к этим квартирам центр не близок, оставляем пропуск.\n",
    "<br>\n",
    "<br>\n",
    "Как парки в радиусе 3 км (parks_around_3000) – 5518, так и водоёмы в радуисе 3 км (ponds_around_3000) – 5518 не были заполнены. Так как эти данные загружаются автоматически на основе картографических данных, можем предположить, что могла не определиться геолокация и данные не подгрузилиcь. Либо этих объектов ближе 3 км просто нет. Поэтому можно заполнить нулём. \n",
    "<br>\n",
    "<br>\n",
    "Расстояние до аэропорта (airports_nearest) – 5542, до ближайшего парка (parks_nearest) – 15620 и ближайшего водоёма (ponds_nearest) – 14589 не заполнены скорее всего тоже из-за сбоя подгрузки геоданных.\n",
    "<br>\n",
    "<br>\n",
    "Значения сколько дней было опубликовано объявление (days_exposition) оказалось пропущенным в 3181 строках. Незаполненное значение может означать, что объявление на данный момент активно. При необходимости заполнения, можем вычислить количество дней, которо вычитая из текущей даты, дату размещения объявления."
   ]
  },
  {
   "cell_type": "markdown",
   "metadata": {},
   "source": [
    "**Заполним некоторые пропуски**"
   ]
  },
  {
   "cell_type": "code",
   "execution_count": 8,
   "metadata": {},
   "outputs": [],
   "source": [
    "# заполняем пропуски в столбце is_apartment параметром False\n",
    "data['is_apartment'] = data['is_apartment'].fillna('False')\n",
    "\n",
    "# заполняем пропуски в столбцах balcony, parks_around_3000, ponds_around_3000 нулём\n",
    "data['balcony'] = data['balcony'].fillna(0)\n",
    "data['parks_around_3000'] = data['parks_around_3000'].fillna(0)\n",
    "data['ponds_around_3000'] = data['ponds_around_3000'].fillna(0)"
   ]
  },
  {
   "cell_type": "markdown",
   "metadata": {},
   "source": [
    "**Удалим некоторые пропуски**"
   ]
  },
  {
   "cell_type": "code",
   "execution_count": 9,
   "metadata": {},
   "outputs": [],
   "source": [
    "# удаляем те пропуски, строками с которыми можно пожертвовать: в столбцах locality_name и floors_total\n",
    "data.dropna(subset=['locality_name'], inplace=True) \n",
    "data.dropna(subset=['floors_total'], inplace=True)"
   ]
  },
  {
   "cell_type": "markdown",
   "metadata": {},
   "source": [
    "**Поменяем тип данных у некоторых столбцов, для возомжности корректной работы с ними:**\n",
    "<br>\n",
    "1. Тип данных столбцов last_price, floors_total, balcony, parks_around_3000, ponds_around_3000 с float изменим на целочисленный int, так как цена, количество этажей и балконов, количество парков и водоёмов могут быть только целыми.\n",
    "2. Тип данных у first_day_exposition сделаем 'datetime'.\n",
    "3. В столбце is_apartment установим булев тип данных."
   ]
  },
  {
   "cell_type": "code",
   "execution_count": 10,
   "metadata": {},
   "outputs": [
    {
     "name": "stdout",
     "output_type": "stream",
     "text": [
      "<class 'pandas.core.frame.DataFrame'>\n",
      "Int64Index: 23565 entries, 0 to 23698\n",
      "Data columns (total 22 columns):\n",
      " #   Column                Non-Null Count  Dtype         \n",
      "---  ------                --------------  -----         \n",
      " 0   total_images          23565 non-null  int64         \n",
      " 1   last_price            23565 non-null  int64         \n",
      " 2   total_area            23565 non-null  float64       \n",
      " 3   first_day_exposition  23565 non-null  datetime64[ns]\n",
      " 4   rooms                 23565 non-null  int64         \n",
      " 5   ceiling_height        14481 non-null  float64       \n",
      " 6   floors_total          23565 non-null  int64         \n",
      " 7   living_area           21700 non-null  float64       \n",
      " 8   floor                 23565 non-null  int64         \n",
      " 9   is_apartment          23565 non-null  bool          \n",
      " 10  studio                23565 non-null  bool          \n",
      " 11  open_plan             23565 non-null  bool          \n",
      " 12  kitchen_area          21343 non-null  float64       \n",
      " 13  balcony               23565 non-null  int64         \n",
      " 14  locality_name         23565 non-null  object        \n",
      " 15  airports_nearest      18041 non-null  float64       \n",
      " 16  city_centers_nearest  18064 non-null  float64       \n",
      " 17  parks_around_3000     23565 non-null  int64         \n",
      " 18  parks_nearest         8030 non-null   float64       \n",
      " 19  ponds_around_3000     23565 non-null  int64         \n",
      " 20  ponds_nearest         9036 non-null   float64       \n",
      " 21  days_exposition       20394 non-null  float64       \n",
      "dtypes: bool(3), datetime64[ns](1), float64(9), int64(8), object(1)\n",
      "memory usage: 3.7+ MB\n"
     ]
    },
    {
     "data": {
      "text/plain": [
       "total_images                0\n",
       "last_price                  0\n",
       "total_area                  0\n",
       "first_day_exposition        0\n",
       "rooms                       0\n",
       "ceiling_height           9084\n",
       "floors_total                0\n",
       "living_area              1865\n",
       "floor                       0\n",
       "is_apartment                0\n",
       "studio                      0\n",
       "open_plan                   0\n",
       "kitchen_area             2222\n",
       "balcony                     0\n",
       "locality_name               0\n",
       "airports_nearest         5524\n",
       "city_centers_nearest     5501\n",
       "parks_around_3000           0\n",
       "parks_nearest           15535\n",
       "ponds_around_3000           0\n",
       "ponds_nearest           14529\n",
       "days_exposition          3171\n",
       "dtype: int64"
      ]
     },
     "execution_count": 10,
     "metadata": {},
     "output_type": "execute_result"
    }
   ],
   "source": [
    "# заменяем тип данных столбцов last_price, floors_total, balcony, parks_around_3000, ponds_around_3000\n",
    "data['last_price'] = data['last_price'].astype(int)\n",
    "data['floors_total'] = data['floors_total'].astype(int)\n",
    "data['balcony'] = data['balcony'].astype(int)\n",
    "data['parks_around_3000'] = data['parks_around_3000'].astype(int)\n",
    "data['ponds_around_3000'] = data['ponds_around_3000'].astype(int)\n",
    "\n",
    "# заменяем тип данных столбцов first_day_exposition\n",
    "data['first_day_exposition'] = pd.to_datetime(data['first_day_exposition'], format='%Y-%m-%dT%H:%M:%S')\n",
    "\n",
    "# заменяем тип данных столбца is_apartment\n",
    "data['is_apartment'] = data['is_apartment'].astype('bool')\n",
    "\n",
    "# проверим как прошло с типами данных\n",
    "data.info()\n",
    "\n",
    "# проверим как дела с пропусками\n",
    "data.isna().sum()"
   ]
  },
  {
   "cell_type": "markdown",
   "metadata": {},
   "source": [
    "**Проанализируем уникальные значения и дубликаты**"
   ]
  },
  {
   "cell_type": "markdown",
   "metadata": {},
   "source": [
    "Проверим датафрейм на явные дубликаты"
   ]
  },
  {
   "cell_type": "code",
   "execution_count": 11,
   "metadata": {},
   "outputs": [
    {
     "data": {
      "text/plain": [
       "0"
      ]
     },
     "execution_count": 11,
     "metadata": {},
     "output_type": "execute_result"
    }
   ],
   "source": [
    "data.duplicated().sum()"
   ]
  },
  {
   "cell_type": "markdown",
   "metadata": {},
   "source": [
    "Явных дубликатов не выявлено."
   ]
  },
  {
   "cell_type": "markdown",
   "metadata": {},
   "source": [
    "Проверим сколько уникальных значений в столбце locality_name"
   ]
  },
  {
   "cell_type": "code",
   "execution_count": 12,
   "metadata": {},
   "outputs": [
    {
     "data": {
      "text/plain": [
       "array(['Санкт-Петербург', 'посёлок Шушары', 'городской посёлок Янино-1',\n",
       "       'посёлок Парголово', 'посёлок Мурино', 'Ломоносов', 'Сертолово',\n",
       "       'Петергоф', 'Пушкин', 'деревня Кудрово', 'Коммунар', 'Колпино',\n",
       "       'поселок городского типа Красный Бор', 'Гатчина', 'поселок Мурино',\n",
       "       'деревня Фёдоровское', 'Выборг', 'Кронштадт', 'Кировск',\n",
       "       'деревня Новое Девяткино', 'посёлок Металлострой',\n",
       "       'посёлок городского типа Лебяжье',\n",
       "       'посёлок городского типа Сиверский', 'поселок Молодцово',\n",
       "       'поселок городского типа Кузьмоловский',\n",
       "       'садовое товарищество Новая Ропша', 'Павловск',\n",
       "       'деревня Пикколово', 'Всеволожск', 'Волхов', 'Кингисепп',\n",
       "       'Приозерск', 'Сестрорецк', 'деревня Куттузи', 'посёлок Аннино',\n",
       "       'поселок городского типа Ефимовский', 'посёлок Плодовое',\n",
       "       'деревня Заклинье', 'поселок Торковичи', 'поселок Первомайское',\n",
       "       'Красное Село', 'посёлок Понтонный', 'Сясьстрой', 'деревня Старая',\n",
       "       'деревня Лесколово', 'посёлок Новый Свет', 'Сланцы',\n",
       "       'село Путилово', 'Ивангород', 'Мурино', 'Шлиссельбург',\n",
       "       'Никольское', 'Зеленогорск', 'Сосновый Бор', 'поселок Новый Свет',\n",
       "       'деревня Оржицы', 'деревня Кальтино', 'Кудрово',\n",
       "       'поселок Романовка', 'посёлок Бугры', 'поселок Бугры',\n",
       "       'поселок городского типа Рощино', 'Кириши', 'Луга', 'Волосово',\n",
       "       'Отрадное', 'село Павлово', 'поселок Оредеж', 'село Копорье',\n",
       "       'посёлок городского типа Красный Бор', 'посёлок Молодёжное',\n",
       "       'Тихвин', 'посёлок Победа', 'деревня Нурма',\n",
       "       'поселок городского типа Синявино', 'Тосно',\n",
       "       'посёлок городского типа Кузьмоловский', 'посёлок Стрельна',\n",
       "       'Бокситогорск', 'посёлок Александровская', 'деревня Лопухинка',\n",
       "       'Пикалёво', 'поселок Терволово',\n",
       "       'поселок городского типа Советский', 'Подпорожье',\n",
       "       'посёлок Петровское', 'посёлок городского типа Токсово',\n",
       "       'поселок Сельцо', 'посёлок городского типа Вырица',\n",
       "       'деревня Кипень', 'деревня Келози', 'деревня Вартемяги',\n",
       "       'посёлок Тельмана', 'поселок Севастьяново',\n",
       "       'городской поселок Большая Ижора', 'городской посёлок Павлово',\n",
       "       'деревня Агалатово', 'посёлок Новогорелово',\n",
       "       'городской посёлок Лесогорский', 'деревня Лаголово',\n",
       "       'поселок Цвелодубово', 'поселок городского типа Рахья',\n",
       "       'поселок городского типа Вырица', 'деревня Белогорка',\n",
       "       'поселок Заводской', 'городской посёлок Новоселье',\n",
       "       'деревня Большие Колпаны', 'деревня Горбунки', 'деревня Батово',\n",
       "       'деревня Заневка', 'деревня Иссад', 'Приморск',\n",
       "       'городской посёлок Фёдоровское', 'деревня Мистолово',\n",
       "       'Новая Ладога', 'поселок Зимитицы', 'поселок Барышево',\n",
       "       'деревня Разметелево', 'поселок городского типа имени Свердлова',\n",
       "       'деревня Пеники', 'поселок Рябово', 'деревня Пудомяги',\n",
       "       'поселок станции Корнево', 'деревня Низино', 'деревня Бегуницы',\n",
       "       'посёлок Поляны', 'городской посёлок Мга', 'поселок Елизаветино',\n",
       "       'посёлок городского типа Кузнечное', 'деревня Колтуши',\n",
       "       'поселок Запорожское', 'посёлок городского типа Рощино',\n",
       "       'деревня Гостилицы', 'деревня Малое Карлино',\n",
       "       'посёлок Мичуринское', 'посёлок городского типа имени Морозова',\n",
       "       'посёлок Песочный', 'посёлок Сосново', 'деревня Аро',\n",
       "       'поселок Ильичёво', 'посёлок городского типа Тайцы',\n",
       "       'деревня Малое Верево', 'деревня Извара', 'поселок станции Вещево',\n",
       "       'село Паша', 'деревня Калитино',\n",
       "       'посёлок городского типа Ульяновка', 'деревня Чудской Бор',\n",
       "       'поселок городского типа Дубровка', 'деревня Мины',\n",
       "       'поселок Войсковицы', 'посёлок городского типа имени Свердлова',\n",
       "       'деревня Коркино', 'посёлок Ропша',\n",
       "       'поселок городского типа Приладожский', 'посёлок Щеглово',\n",
       "       'посёлок Гаврилово', 'Лодейное Поле', 'деревня Рабитицы',\n",
       "       'поселок городского типа Никольский', 'деревня Кузьмолово',\n",
       "       'деревня Малые Колпаны', 'поселок Тельмана',\n",
       "       'посёлок Петро-Славянка', 'городской посёлок Назия',\n",
       "       'посёлок Репино', 'посёлок Ильичёво', 'поселок Углово',\n",
       "       'поселок Старая Малукса', 'садовое товарищество Рахья',\n",
       "       'поселок Аннино', 'поселок Победа', 'деревня Меньково',\n",
       "       'деревня Старые Бегуницы', 'посёлок Сапёрный', 'поселок Семрино',\n",
       "       'поселок Гаврилово', 'поселок Глажево', 'поселок Кобринское',\n",
       "       'деревня Гарболово', 'деревня Юкки',\n",
       "       'поселок станции Приветнинское', 'деревня Мануйлово',\n",
       "       'деревня Пчева', 'поселок Поляны', 'поселок Цвылёво',\n",
       "       'поселок Мельниково', 'посёлок Пудость', 'посёлок Усть-Луга',\n",
       "       'Светогорск', 'Любань', 'поселок Селезнёво',\n",
       "       'поселок городского типа Рябово', 'Каменногорск', 'деревня Кривко',\n",
       "       'поселок Глебычево', 'деревня Парицы', 'поселок Жилпосёлок',\n",
       "       'посёлок городского типа Мга', 'городской поселок Янино-1',\n",
       "       'посёлок Войскорово', 'село Никольское', 'посёлок Терволово',\n",
       "       'поселок Стеклянный', 'посёлок городского типа Важины',\n",
       "       'посёлок Мыза-Ивановка', 'село Русско-Высоцкое',\n",
       "       'поселок городского типа Лебяжье',\n",
       "       'поселок городского типа Форносово', 'село Старая Ладога',\n",
       "       'поселок Житково', 'городской посёлок Виллози', 'деревня Лампово',\n",
       "       'деревня Шпаньково', 'деревня Лаврики', 'посёлок Сумино',\n",
       "       'посёлок Возрождение', 'деревня Старосиверская',\n",
       "       'посёлок Кикерино', 'поселок Возрождение',\n",
       "       'деревня Старое Хинколово', 'посёлок Пригородный',\n",
       "       'посёлок Торфяное', 'городской посёлок Будогощь',\n",
       "       'поселок Суходолье', 'поселок Красная Долина', 'деревня Хапо-Ое',\n",
       "       'поселок городского типа Дружная Горка', 'поселок Лисий Нос',\n",
       "       'деревня Яльгелево', 'посёлок Стеклянный', 'село Рождествено',\n",
       "       'деревня Старополье', 'посёлок Левашово', 'деревня Сяськелево',\n",
       "       'деревня Камышовка',\n",
       "       'садоводческое некоммерческое товарищество Лесная Поляна',\n",
       "       'деревня Хязельки', 'поселок Жилгородок',\n",
       "       'посёлок городского типа Павлово', 'деревня Ялгино',\n",
       "       'поселок Новый Учхоз', 'городской посёлок Рощино',\n",
       "       'поселок Гончарово', 'поселок Почап', 'посёлок Сапёрное',\n",
       "       'посёлок Платформа 69-й километр', 'поселок Каложицы',\n",
       "       'деревня Фалилеево', 'деревня Пельгора',\n",
       "       'поселок городского типа Лесогорский', 'деревня Торошковичи',\n",
       "       'посёлок Белоостров', 'посёлок Алексеевка', 'поселок Серебрянский',\n",
       "       'поселок Лукаши', 'поселок Петровское', 'деревня Щеглово',\n",
       "       'поселок Мичуринское', 'деревня Тарасово', 'поселок Кингисеппский',\n",
       "       'посёлок при железнодорожной станции Вещево', 'поселок Ушаки',\n",
       "       'деревня Котлы', 'деревня Сижно', 'деревня Торосово',\n",
       "       'посёлок Форт Красная Горка', 'деревня Новолисино',\n",
       "       'посёлок станции Громово', 'деревня Глинка', 'посёлок Мельниково',\n",
       "       'поселок городского типа Назия', 'деревня Старая Пустошь',\n",
       "       'поселок Коммунары', 'поселок Починок',\n",
       "       'посёлок городского типа Вознесенье', 'деревня Разбегаево',\n",
       "       'посёлок городского типа Рябово', 'поселок Гладкое',\n",
       "       'посёлок при железнодорожной станции Приветнинское',\n",
       "       'поселок Тёсово-4', 'посёлок Жилгородок', 'деревня Бор',\n",
       "       'посёлок Коробицыно', 'деревня Большая Вруда', 'деревня Курковицы',\n",
       "       'посёлок Лисий Нос', 'городской посёлок Советский',\n",
       "       'посёлок Кобралово', 'деревня Суоранда', 'поселок Кобралово',\n",
       "       'поселок городского типа Кондратьево',\n",
       "       'коттеджный поселок Счастье', 'поселок Любань', 'деревня Реброво',\n",
       "       'деревня Зимитицы', 'деревня Тойворово', 'поселок Семиозерье',\n",
       "       'поселок Лесное', 'поселок Совхозный', 'поселок Усть-Луга',\n",
       "       'посёлок Ленинское', 'посёлок Суйда',\n",
       "       'посёлок городского типа Форносово', 'деревня Нижние Осельки',\n",
       "       'посёлок станции Свирь', 'поселок Перово', 'Высоцк',\n",
       "       'поселок Гарболово', 'село Шум', 'поселок Котельский',\n",
       "       'поселок станции Лужайка', 'деревня Большая Пустомержа',\n",
       "       'поселок Красносельское', 'деревня Вахнова Кара', 'деревня Пижма',\n",
       "       'коттеджный поселок Кивеннапа Север', 'поселок Коробицыно',\n",
       "       'поселок Ромашки', 'посёлок Перово', 'деревня Каськово',\n",
       "       'деревня Куровицы', 'посёлок Плоское', 'поселок Сумино',\n",
       "       'поселок городского типа Большая Ижора', 'поселок Кирпичное',\n",
       "       'деревня Ям-Тесово', 'деревня Раздолье', 'деревня Терпилицы',\n",
       "       'поселок городского типа Токсово', 'посёлок Шугозеро',\n",
       "       'деревня Ваганово', 'поселок Пушное', 'садовое товарищество Садко',\n",
       "       'посёлок Усть-Ижора', 'деревня Выскатка',\n",
       "       'городской посёлок Свирьстрой', 'поселок Громово',\n",
       "       'деревня Кисельня', 'посёлок Старая Малукса',\n",
       "       'деревня Трубников Бор', 'поселок Калитино',\n",
       "       'посёлок Высокоключевой', 'садовое товарищество Приладожский',\n",
       "       'посёлок Пансионат Зелёный Бор', 'деревня Ненимяки',\n",
       "       'поселок Пансионат Зелёный Бор', 'деревня Снегирёвка',\n",
       "       'деревня Рапполово', 'деревня Пустынка', 'поселок Рабитицы',\n",
       "       'деревня Большой Сабск', 'деревня Русско', 'деревня Лупполово',\n",
       "       'деревня Большое Рейзино', 'деревня Малая Романовка',\n",
       "       'поселок Дружноселье', 'поселок Пчевжа', 'поселок Володарское',\n",
       "       'деревня Нижняя', 'коттеджный посёлок Лесное', 'деревня Тихковицы',\n",
       "       'деревня Борисова Грива', 'посёлок Дзержинского'], dtype=object)"
      ]
     },
     "execution_count": 12,
     "metadata": {},
     "output_type": "execute_result"
    }
   ],
   "source": [
    "data['locality_name'].unique()"
   ]
  },
  {
   "cell_type": "code",
   "execution_count": 13,
   "metadata": {},
   "outputs": [
    {
     "name": "stdout",
     "output_type": "stream",
     "text": [
      "Количество уникальных названий населённых пунктов: 364\n"
     ]
    }
   ],
   "source": [
    "print('Количество уникальных названий населённых пунктов:', data['locality_name'].nunique())"
   ]
  },
  {
   "cell_type": "markdown",
   "metadata": {},
   "source": [
    "Заменим в столбце locality_name букву ё на е."
   ]
  },
  {
   "cell_type": "code",
   "execution_count": 14,
   "metadata": {},
   "outputs": [],
   "source": [
    "data['locality_name'] = data['locality_name'].str.replace('ё', 'е')\n"
   ]
  },
  {
   "cell_type": "markdown",
   "metadata": {},
   "source": [
    "Заменим в столбце locality_name значения \"поселок\",\"городской поселок\" на \"поселок городского типа\"."
   ]
  },
  {
   "cell_type": "code",
   "execution_count": 15,
   "metadata": {},
   "outputs": [],
   "source": [
    "# data['locality_name'] = data['locality_name'].str.replace('городской поселок','поселок городского типа'\n",
    "#                                                         ).str.replace('поселок','поселок городского типа')"
   ]
  },
  {
   "cell_type": "code",
   "execution_count": 16,
   "metadata": {},
   "outputs": [
    {
     "data": {
      "text/plain": [
       "330"
      ]
     },
     "execution_count": 16,
     "metadata": {},
     "output_type": "execute_result"
    }
   ],
   "source": [
    "data = data.apply(lambda x: x.replace({'поселок':'посёлок', 'городской посёлок': 'посёлок', 'посёлок городского типа': 'посёлок', 'коттеджный посёлок': 'посёлок', 'посёлок при железнодорожной станции': 'посёлок станции'}, regex=True))\n",
    "\n",
    "len(data.locality_name.unique())"
   ]
  },
  {
   "cell_type": "markdown",
   "metadata": {},
   "source": [
    "Проверим количество уникальных значений после замен"
   ]
  },
  {
   "cell_type": "code",
   "execution_count": 17,
   "metadata": {},
   "outputs": [
    {
     "name": "stdout",
     "output_type": "stream",
     "text": [
      "Количество уникальных названий населённых пунктов: 330\n"
     ]
    }
   ],
   "source": [
    "print('Количество уникальных названий населённых пунктов:', data['locality_name'].nunique())"
   ]
  },
  {
   "cell_type": "markdown",
   "metadata": {},
   "source": [
    "Итого мы сократили количестов неявных дубликатов на 41 шт."
   ]
  },
  {
   "cell_type": "markdown",
   "metadata": {},
   "source": [
    "**Поработаем с редкими, выбивающимися значениями**"
   ]
  },
  {
   "cell_type": "markdown",
   "metadata": {},
   "source": [
    "Изучим статистические данные по столбцам таблицы"
   ]
  },
  {
   "cell_type": "code",
   "execution_count": 18,
   "metadata": {},
   "outputs": [
    {
     "data": {
      "text/html": [
       "<div>\n",
       "<style scoped>\n",
       "    .dataframe tbody tr th:only-of-type {\n",
       "        vertical-align: middle;\n",
       "    }\n",
       "\n",
       "    .dataframe tbody tr th {\n",
       "        vertical-align: top;\n",
       "    }\n",
       "\n",
       "    .dataframe thead th {\n",
       "        text-align: right;\n",
       "    }\n",
       "</style>\n",
       "<table border=\"1\" class=\"dataframe\">\n",
       "  <thead>\n",
       "    <tr style=\"text-align: right;\">\n",
       "      <th></th>\n",
       "      <th>total_images</th>\n",
       "      <th>last_price</th>\n",
       "      <th>total_area</th>\n",
       "      <th>rooms</th>\n",
       "      <th>ceiling_height</th>\n",
       "      <th>floors_total</th>\n",
       "      <th>living_area</th>\n",
       "      <th>floor</th>\n",
       "      <th>kitchen_area</th>\n",
       "      <th>balcony</th>\n",
       "      <th>airports_nearest</th>\n",
       "      <th>city_centers_nearest</th>\n",
       "      <th>parks_around_3000</th>\n",
       "      <th>parks_nearest</th>\n",
       "      <th>ponds_around_3000</th>\n",
       "      <th>ponds_nearest</th>\n",
       "      <th>days_exposition</th>\n",
       "    </tr>\n",
       "  </thead>\n",
       "  <tbody>\n",
       "    <tr>\n",
       "      <th>count</th>\n",
       "      <td>23565.000000</td>\n",
       "      <td>2.356500e+04</td>\n",
       "      <td>23565.000000</td>\n",
       "      <td>23565.000000</td>\n",
       "      <td>14481.000000</td>\n",
       "      <td>23565.000000</td>\n",
       "      <td>21700.000000</td>\n",
       "      <td>23565.000000</td>\n",
       "      <td>21343.000000</td>\n",
       "      <td>23565.000000</td>\n",
       "      <td>18041.000000</td>\n",
       "      <td>18064.000000</td>\n",
       "      <td>23565.000000</td>\n",
       "      <td>8030.000000</td>\n",
       "      <td>23565.000000</td>\n",
       "      <td>9036.000000</td>\n",
       "      <td>20394.000000</td>\n",
       "    </tr>\n",
       "    <tr>\n",
       "      <th>mean</th>\n",
       "      <td>9.878421</td>\n",
       "      <td>6.540058e+06</td>\n",
       "      <td>60.322824</td>\n",
       "      <td>2.070656</td>\n",
       "      <td>2.771283</td>\n",
       "      <td>10.675875</td>\n",
       "      <td>34.454822</td>\n",
       "      <td>5.878124</td>\n",
       "      <td>10.560994</td>\n",
       "      <td>0.593677</td>\n",
       "      <td>28797.082701</td>\n",
       "      <td>14192.656056</td>\n",
       "      <td>0.468831</td>\n",
       "      <td>490.580448</td>\n",
       "      <td>0.589900</td>\n",
       "      <td>518.289509</td>\n",
       "      <td>180.741395</td>\n",
       "    </tr>\n",
       "    <tr>\n",
       "      <th>std</th>\n",
       "      <td>5.681156</td>\n",
       "      <td>1.091093e+07</td>\n",
       "      <td>35.657060</td>\n",
       "      <td>1.078591</td>\n",
       "      <td>1.261983</td>\n",
       "      <td>6.594823</td>\n",
       "      <td>22.045359</td>\n",
       "      <td>4.871485</td>\n",
       "      <td>5.900630</td>\n",
       "      <td>0.960660</td>\n",
       "      <td>12632.499735</td>\n",
       "      <td>8613.348153</td>\n",
       "      <td>0.748403</td>\n",
       "      <td>341.572956</td>\n",
       "      <td>0.883966</td>\n",
       "      <td>278.009558</td>\n",
       "      <td>219.732782</td>\n",
       "    </tr>\n",
       "    <tr>\n",
       "      <th>min</th>\n",
       "      <td>0.000000</td>\n",
       "      <td>1.219000e+04</td>\n",
       "      <td>12.000000</td>\n",
       "      <td>0.000000</td>\n",
       "      <td>1.000000</td>\n",
       "      <td>1.000000</td>\n",
       "      <td>2.000000</td>\n",
       "      <td>1.000000</td>\n",
       "      <td>1.300000</td>\n",
       "      <td>0.000000</td>\n",
       "      <td>0.000000</td>\n",
       "      <td>181.000000</td>\n",
       "      <td>0.000000</td>\n",
       "      <td>1.000000</td>\n",
       "      <td>0.000000</td>\n",
       "      <td>13.000000</td>\n",
       "      <td>1.000000</td>\n",
       "    </tr>\n",
       "    <tr>\n",
       "      <th>25%</th>\n",
       "      <td>6.000000</td>\n",
       "      <td>3.400000e+06</td>\n",
       "      <td>40.000000</td>\n",
       "      <td>1.000000</td>\n",
       "      <td>2.510000</td>\n",
       "      <td>5.000000</td>\n",
       "      <td>18.600000</td>\n",
       "      <td>2.000000</td>\n",
       "      <td>7.000000</td>\n",
       "      <td>0.000000</td>\n",
       "      <td>18565.000000</td>\n",
       "      <td>9238.000000</td>\n",
       "      <td>0.000000</td>\n",
       "      <td>288.000000</td>\n",
       "      <td>0.000000</td>\n",
       "      <td>293.000000</td>\n",
       "      <td>45.000000</td>\n",
       "    </tr>\n",
       "    <tr>\n",
       "      <th>50%</th>\n",
       "      <td>9.000000</td>\n",
       "      <td>4.646000e+06</td>\n",
       "      <td>52.000000</td>\n",
       "      <td>2.000000</td>\n",
       "      <td>2.650000</td>\n",
       "      <td>9.000000</td>\n",
       "      <td>30.000000</td>\n",
       "      <td>4.000000</td>\n",
       "      <td>9.100000</td>\n",
       "      <td>0.000000</td>\n",
       "      <td>26757.000000</td>\n",
       "      <td>13096.500000</td>\n",
       "      <td>0.000000</td>\n",
       "      <td>455.000000</td>\n",
       "      <td>0.000000</td>\n",
       "      <td>503.000000</td>\n",
       "      <td>95.000000</td>\n",
       "    </tr>\n",
       "    <tr>\n",
       "      <th>75%</th>\n",
       "      <td>14.000000</td>\n",
       "      <td>6.790000e+06</td>\n",
       "      <td>69.700000</td>\n",
       "      <td>3.000000</td>\n",
       "      <td>2.800000</td>\n",
       "      <td>16.000000</td>\n",
       "      <td>42.300000</td>\n",
       "      <td>8.000000</td>\n",
       "      <td>12.000000</td>\n",
       "      <td>1.000000</td>\n",
       "      <td>37273.000000</td>\n",
       "      <td>16285.000000</td>\n",
       "      <td>1.000000</td>\n",
       "      <td>612.000000</td>\n",
       "      <td>1.000000</td>\n",
       "      <td>730.000000</td>\n",
       "      <td>231.000000</td>\n",
       "    </tr>\n",
       "    <tr>\n",
       "      <th>max</th>\n",
       "      <td>50.000000</td>\n",
       "      <td>7.630000e+08</td>\n",
       "      <td>900.000000</td>\n",
       "      <td>19.000000</td>\n",
       "      <td>100.000000</td>\n",
       "      <td>60.000000</td>\n",
       "      <td>409.700000</td>\n",
       "      <td>33.000000</td>\n",
       "      <td>112.000000</td>\n",
       "      <td>5.000000</td>\n",
       "      <td>84869.000000</td>\n",
       "      <td>65968.000000</td>\n",
       "      <td>3.000000</td>\n",
       "      <td>3190.000000</td>\n",
       "      <td>3.000000</td>\n",
       "      <td>1344.000000</td>\n",
       "      <td>1580.000000</td>\n",
       "    </tr>\n",
       "  </tbody>\n",
       "</table>\n",
       "</div>"
      ],
      "text/plain": [
       "       total_images    last_price    total_area         rooms  ceiling_height  \\\n",
       "count  23565.000000  2.356500e+04  23565.000000  23565.000000    14481.000000   \n",
       "mean       9.878421  6.540058e+06     60.322824      2.070656        2.771283   \n",
       "std        5.681156  1.091093e+07     35.657060      1.078591        1.261983   \n",
       "min        0.000000  1.219000e+04     12.000000      0.000000        1.000000   \n",
       "25%        6.000000  3.400000e+06     40.000000      1.000000        2.510000   \n",
       "50%        9.000000  4.646000e+06     52.000000      2.000000        2.650000   \n",
       "75%       14.000000  6.790000e+06     69.700000      3.000000        2.800000   \n",
       "max       50.000000  7.630000e+08    900.000000     19.000000      100.000000   \n",
       "\n",
       "       floors_total   living_area         floor  kitchen_area       balcony  \\\n",
       "count  23565.000000  21700.000000  23565.000000  21343.000000  23565.000000   \n",
       "mean      10.675875     34.454822      5.878124     10.560994      0.593677   \n",
       "std        6.594823     22.045359      4.871485      5.900630      0.960660   \n",
       "min        1.000000      2.000000      1.000000      1.300000      0.000000   \n",
       "25%        5.000000     18.600000      2.000000      7.000000      0.000000   \n",
       "50%        9.000000     30.000000      4.000000      9.100000      0.000000   \n",
       "75%       16.000000     42.300000      8.000000     12.000000      1.000000   \n",
       "max       60.000000    409.700000     33.000000    112.000000      5.000000   \n",
       "\n",
       "       airports_nearest  city_centers_nearest  parks_around_3000  \\\n",
       "count      18041.000000          18064.000000       23565.000000   \n",
       "mean       28797.082701          14192.656056           0.468831   \n",
       "std        12632.499735           8613.348153           0.748403   \n",
       "min            0.000000            181.000000           0.000000   \n",
       "25%        18565.000000           9238.000000           0.000000   \n",
       "50%        26757.000000          13096.500000           0.000000   \n",
       "75%        37273.000000          16285.000000           1.000000   \n",
       "max        84869.000000          65968.000000           3.000000   \n",
       "\n",
       "       parks_nearest  ponds_around_3000  ponds_nearest  days_exposition  \n",
       "count    8030.000000       23565.000000    9036.000000     20394.000000  \n",
       "mean      490.580448           0.589900     518.289509       180.741395  \n",
       "std       341.572956           0.883966     278.009558       219.732782  \n",
       "min         1.000000           0.000000      13.000000         1.000000  \n",
       "25%       288.000000           0.000000     293.000000        45.000000  \n",
       "50%       455.000000           0.000000     503.000000        95.000000  \n",
       "75%       612.000000           1.000000     730.000000       231.000000  \n",
       "max      3190.000000           3.000000    1344.000000      1580.000000  "
      ]
     },
     "execution_count": 18,
     "metadata": {},
     "output_type": "execute_result"
    }
   ],
   "source": [
    "data.describe()"
   ]
  },
  {
   "cell_type": "code",
   "execution_count": null,
   "metadata": {},
   "outputs": [],
   "source": []
  },
  {
   "cell_type": "markdown",
   "metadata": {},
   "source": [
    "Изучим столбец ceiling_height.\n",
    "<br>\n"
   ]
  },
  {
   "cell_type": "code",
   "execution_count": 19,
   "metadata": {},
   "outputs": [
    {
     "data": {
      "text/plain": [
       "count    14481.000000\n",
       "mean         2.771283\n",
       "std          1.261983\n",
       "min          1.000000\n",
       "25%          2.510000\n",
       "50%          2.650000\n",
       "75%          2.800000\n",
       "max        100.000000\n",
       "Name: ceiling_height, dtype: float64"
      ]
     },
     "execution_count": 19,
     "metadata": {},
     "output_type": "execute_result"
    },
    {
     "data": {
      "image/png": "[encoded data removed]",
      "text/plain": [
       "<Figure size 432x288 with 1 Axes>"
      ]
     },
     "metadata": {
      "needs_background": "light"
     },
     "output_type": "display_data"
    }
   ],
   "source": [
    "# построим гистрограму\n",
    "data['ceiling_height'].hist(bins=10, range=(2, 5))\n",
    "# изучим статистические данные\n",
    "data['ceiling_height'].describe()"
   ]
  },
  {
   "cell_type": "code",
   "execution_count": 20,
   "metadata": {
    "scrolled": true
   },
   "outputs": [
    {
     "name": "stdout",
     "output_type": "stream",
     "text": [
      "[1.0, 2.0, 2.3, 2.4, 2.45, 2.46, 2.48, 2.53, 2.59, 2.62, 2.63, 2.7, nan, 1.2, 1.75, 2.2, 2.25, 2.34, 2.47, 2.49, 2.5, 2.51, 2.52, 2.54, 2.55, 2.56, 2.57, 2.58, 2.6, 2.61, 2.64, 2.65, 2.66, 2.67, 2.68, 2.69, 2.71, 2.72, 2.73, 2.74, 2.75, 2.76, 2.77, 2.78, 2.79, 2.8, 2.81, 2.82, 2.83, 2.84, 2.85, 2.86, 2.87, 2.88, 2.89, 2.9, 2.91, 2.92, 2.93, 2.94, 2.95, 2.96, 2.97, 2.98, 2.99, 3.0, 3.01, 3.02, 3.03, 3.04, 3.05, 3.06, 3.07, 3.08, 3.09, 3.1, 3.11, 3.12, 3.13, 3.14, 3.15, 3.16, 3.17, 3.18, 3.2, 3.21, 3.22, 3.23, 3.24, 3.25, 3.26, 3.27, 3.28, 3.29, 3.3, 3.31, 3.32, 3.33, 3.34, 3.35, 3.36, 3.37, 3.38, 3.39, 3.4, 3.42, 3.43, 3.44, 3.45, 3.46, 3.47, 3.48, 3.49, 3.5, 3.51, 3.52, 3.53, 3.54, 3.55, 3.56, 3.57, 3.58, 3.59, 3.6, 3.62, 3.63, 3.65, 3.66, 3.67, 3.68, 3.69, 3.7, 3.75, 3.76, 3.78, 3.8, 3.82, 3.83, 3.84, 3.85, 3.86, 3.87, 3.88, 3.9, 3.93, 3.95, 3.98, 4.0, 4.06, 4.1, 4.14, 4.15, 4.19, 4.2, 4.25, 4.3, 4.37, 4.4, 4.45, 4.5, 4.65, 4.7, 4.8, 4.9, 5.0, 5.2, 5.3, 5.5, 5.6, 5.8, 6.0, 8.0, 8.3, 10.3, 14.0, 20.0, 22.6, 24.0, 25.0, 26.0, 27.0, 27.5, 32.0, 100.0]\n"
     ]
    }
   ],
   "source": [
    "# изучим уникальные значения \n",
    "\n",
    "unique_ceiling_height = data['ceiling_height'].unique()\n",
    "# отсортируем и выведем значения по возрастанию, чтобы наглядно увидеть все значения и размах выбросов\n",
    "print(sorted(unique_ceiling_height))"
   ]
  },
  {
   "cell_type": "markdown",
   "metadata": {},
   "source": [
    "Выбиваются значения с двузначной и трехзначныой целой частью, например: 27,5; 32; 27; 26; 22,6; 10,3; 24; 25; 20 - такая высота потолка в метрах слабопредставима. Вероятнее всего, при введении данных ошиблись с запятой. Эти данные нужно будет поправить, вернуть запятую на место. \n",
    "<br>\n"
   ]
  },
  {
   "cell_type": "code",
   "execution_count": 21,
   "metadata": {},
   "outputs": [
    {
     "name": "stdout",
     "output_type": "stream",
     "text": [
      "[1.0, 1.2, 1.75, 2.0, 2.2, 2.25, 2.7, nan, 2.3, 2.34, 2.4, 2.45, 2.46, 2.47, 2.48, 2.49, 2.5, 2.51, 2.52, 2.53, 2.54, 2.55, 2.56, 2.57, 2.58, 2.59, 2.6, 2.61, 2.62, 2.63, 2.64, 2.65, 2.66, 2.67, 2.68, 2.69, 2.71, 2.72, 2.73, 2.74, 2.75, 2.76, 2.77, 2.78, 2.79, 2.8, 2.81, 2.82, 2.83, 2.84, 2.85, 2.86, 2.87, 2.88, 2.89, 2.9, 2.91, 2.92, 2.93, 2.94, 2.95, 2.96, 2.97, 2.98, 2.99, 3.0, 3.01, 3.02, 3.03, 3.04, 3.05, 3.06, 3.07, 3.08, 3.09, 3.1, 3.11, 3.12, 3.13, 3.14, 3.15, 3.16, 3.17, 3.18, 3.2, 3.21, 3.22, 3.23, 3.24, 3.25, 3.26, 3.27, 3.28, 3.29, 3.3, 3.31, 3.32, 3.33, 3.34, 3.35, 3.36, 3.37, 3.38, 3.39, 3.4, 3.42, 3.43, 3.44, 3.45, 3.46, 3.47, 3.48, 3.49, 3.5, 3.51, 3.52, 3.53, 3.54, 3.55, 3.56, 3.57, 3.58, 3.59, 3.6, 3.62, 3.63, 3.65, 3.66, 3.67, 3.68, 3.69, 3.7, 3.75, 3.76, 3.78, 3.8, 3.82, 3.83, 3.84, 3.85, 3.86, 3.87, 3.88, 3.9, 3.93, 3.95, 3.98, 4.0, 4.06, 4.1, 4.14, 4.15, 4.19, 4.2, 4.25, 4.3, 4.37, 4.4, 4.45, 4.5, 4.65, 4.7, 4.8, 4.9, 5.0, 5.2, 5.3, 5.5, 5.6, 5.8, 6.0, 8.0, 8.3, 10.3, 14.0, 20.0, 22.6, 24.0, 100.0]\n"
     ]
    }
   ],
   "source": [
    "data.update(data[(data['ceiling_height'] >= 25) & (data['ceiling_height'] <= 50\n",
    "                                                  )]['ceiling_height']/10)\n",
    "\n",
    "unique_ceiling_height = data['ceiling_height'].unique()\n",
    "# отсортируем и проверим, все ли запятые нашли свои места\n",
    "print(sorted(unique_ceiling_height))"
   ]
  },
  {
   "cell_type": "markdown",
   "metadata": {},
   "source": [
    "Встречаются явные выбросы: 1м , 100м. От них нужно будет избавиться.\n",
    "<br>\n",
    "По СНИПу высота потолка не может быть ниже 2,5 м. Максимальная высота потолков, например, в старом фондев Петербурге может достигать и 4,5 м. Округлим  на всякий случай до 5 м (жили же люди!). \n",
    "<br>\n",
    "<br>\n",
    "Итого удаляем значения:\n",
    "- меньше 2,5.\n",
    "- больше 5."
   ]
  },
  {
   "cell_type": "code",
   "execution_count": 22,
   "metadata": {},
   "outputs": [
    {
     "name": "stdout",
     "output_type": "stream",
     "text": [
      "[2.5, 2.51, 2.52, 2.53, 2.54, 2.55, 2.56, 2.57, 2.58, 2.59, 2.6, 2.61, 2.62, 2.63, 2.64, 2.65, 2.66, 2.67, 2.68, 2.69, 2.7, 2.71, 2.72, 2.73, 2.74, 2.75, 2.76, 2.77, 2.78, 2.79, 2.8, 2.81, 2.82, 2.83, 2.84, 2.85, 2.86, 2.87, 2.88, 2.89, 2.9, 2.91, 2.92, 2.93, 2.94, 2.95, 2.96, 2.97, 2.98, 2.99, 3.0, 3.01, 3.02, 3.03, 3.04, 3.05, 3.06, 3.07, 3.08, 3.09, 3.1, 3.11, 3.12, 3.13, 3.14, 3.15, 3.16, 3.17, 3.18, 3.2, 3.21, 3.22, 3.23, 3.24, 3.25, 3.26, 3.27, 3.28, 3.29, 3.3, 3.31, 3.32, 3.33, 3.34, 3.35, 3.36, 3.37, 3.38, 3.39, 3.4, 3.42, 3.43, 3.44, 3.45, 3.46, 3.47, 3.48, 3.49, 3.5, 3.51, 3.52, 3.53, 3.54, 3.55, 3.56, 3.57, 3.58, 3.59, 3.6, 3.62, 3.63, 3.65, 3.66, 3.67, 3.68, 3.69, 3.7, 3.75, 3.76, 3.78, 3.8, 3.82, 3.83, 3.84, 3.85, 3.86, 3.87, 3.88, 3.9, 3.93, 3.95, 3.98, 4.0, 4.06, 4.1, 4.14, 4.15, 4.19, 4.2, 4.25, 4.3, 4.37, 4.4, 4.45, 4.5, 4.65, 4.7, 4.8, 4.9, 5.0]\n"
     ]
    }
   ],
   "source": [
    "data = data[(data['ceiling_height'] >= 2.5) & (data['ceiling_height'] <= 5)]\n",
    "unique_ceiling_height = data['ceiling_height'].unique()\n",
    "# отсортируем и выведем уникальные значения по возрастанию после удаления выбросов\n",
    "print(sorted(unique_ceiling_height))"
   ]
  },
  {
   "cell_type": "markdown",
   "metadata": {},
   "source": [
    "Теперь можно заполнить пропуски в столбце медианными значениями"
   ]
  },
  {
   "cell_type": "code",
   "execution_count": 23,
   "metadata": {},
   "outputs": [
    {
     "data": {
      "text/plain": [
       "False    14391\n",
       "Name: ceiling_height, dtype: int64"
      ]
     },
     "execution_count": 23,
     "metadata": {},
     "output_type": "execute_result"
    }
   ],
   "source": [
    "median_ceiling_height = data['ceiling_height'].median()\n",
    "data['ceiling_height'].fillna(median_ceiling_height, inplace=True)\n",
    "# проверим \n",
    "data['ceiling_height'].isna().value_counts()"
   ]
  },
  {
   "cell_type": "markdown",
   "metadata": {},
   "source": [
    "**Вывод раздела по предобработке данных**\n",
    "<br>\n",
    "<br>\n",
    "Качество исходных данных не позволило работать с ними сразу, многие столбцы датафрейма потребовали предобработки. Природу ошибок можно предположить – технические сбои при автоматических загрузках данных и человеческий фактор при заполнении – ошибки людей.\n",
    "<br>\n",
    "<br>\n",
    "Однако, многие несовершенства нам удалось преододелеть. Что смогли на данном этапи удалил, что смогли заполнили корректиными данными. С остальным будем работать дальше, на следующих этапах.В процессе предобработки данных\n",
    "<br>\n",
    "<br>\n",
    "**Что было сделано**\n",
    "<br>\n",
    "<br>\n",
    "Были удалены строки с пропусками у столбцов:\n",
    "- locality_name\n",
    "- floors_total\n",
    "<br>\n",
    "<br>\n",
    "Заполнены пропуски:\n",
    "- balcony\n",
    "- parks_around_3000\n",
    "- ponds_around_3000\n",
    "<br>\n",
    "<br>\n",
    "Для возомжности корректной обработки, изменён тип данных столбцов:\n",
    "- last_price \n",
    "- floors_total\n",
    "- balcony\n",
    "- parks_around_3000 \n",
    "- ponds_around_3000\n",
    "- first_day_exposition\n",
    "- first_day_exposition\n",
    "- is_apartment\n",
    "<br>\n",
    "<br>\n",
    "Обработаны и заполнены медианными значениями:\n",
    "- ceiling_height\n",
    "- locality_name\n"
   ]
  },
  {
   "cell_type": "markdown",
   "metadata": {},
   "source": [
    "### Посчитайте и добавьте в таблицу новые столбцы"
   ]
  },
  {
   "cell_type": "markdown",
   "metadata": {},
   "source": [
    "Добавляем в датафрейм столбец \"Цена за квадртаный метр\""
   ]
  },
  {
   "cell_type": "code",
   "execution_count": 24,
   "metadata": {},
   "outputs": [],
   "source": [
    "data['price_sqm'] = data['last_price']/data['total_area']\n"
   ]
  },
  {
   "cell_type": "markdown",
   "metadata": {},
   "source": [
    "Добавляем столбец \"День недели публикации объявления\""
   ]
  },
  {
   "cell_type": "code",
   "execution_count": 25,
   "metadata": {},
   "outputs": [],
   "source": [
    "data['exposition_weekday'] = data['first_day_exposition'].dt.weekday"
   ]
  },
  {
   "cell_type": "markdown",
   "metadata": {},
   "source": [
    "Добавляем столбец \"Месяц публикации объявления\""
   ]
  },
  {
   "cell_type": "code",
   "execution_count": 26,
   "metadata": {},
   "outputs": [],
   "source": [
    "data['exposition_month'] = data['first_day_exposition'].dt.month"
   ]
  },
  {
   "cell_type": "markdown",
   "metadata": {},
   "source": [
    "Добавляем столбец \"Год публикации объявления\""
   ]
  },
  {
   "cell_type": "code",
   "execution_count": 27,
   "metadata": {},
   "outputs": [],
   "source": [
    "data['exposition_year'] = data['first_day_exposition'].dt.year"
   ]
  },
  {
   "cell_type": "markdown",
   "metadata": {},
   "source": [
    "Добавляем столбец \"Тип этажа квартиры\" (значения — «первый», «последний», «другой»)"
   ]
  },
  {
   "cell_type": "code",
   "execution_count": 28,
   "metadata": {},
   "outputs": [],
   "source": [
    "\n",
    "\n",
    "def get_floor_type(row):\n",
    "    if row['floor'] == 1:\n",
    "        return 'первый'\n",
    "    elif row['floor'] == row['floors_total']:\n",
    "        return 'последний'\n",
    "    else:\n",
    "        return 'другой'\n",
    "    \n",
    "data['floor_type'] = data.apply(get_floor_type, axis=1)\n"
   ]
  },
  {
   "cell_type": "markdown",
   "metadata": {},
   "source": [
    "Добавляем столбец \"Расстояние до центра\"."
   ]
  },
  {
   "cell_type": "code",
   "execution_count": 29,
   "metadata": {},
   "outputs": [],
   "source": [
    "data['distance_center'] = round(data['city_centers_nearest'] / 1000)"
   ]
  },
  {
   "cell_type": "markdown",
   "metadata": {},
   "source": [
    "Проверим добавленные столбцы"
   ]
  },
  {
   "cell_type": "code",
   "execution_count": 30,
   "metadata": {
    "scrolled": true
   },
   "outputs": [
    {
     "name": "stdout",
     "output_type": "stream",
     "text": [
      "<class 'pandas.core.frame.DataFrame'>\n",
      "Int64Index: 14391 entries, 0 to 23698\n",
      "Data columns (total 28 columns):\n",
      " #   Column                Non-Null Count  Dtype         \n",
      "---  ------                --------------  -----         \n",
      " 0   total_images          14391 non-null  int64         \n",
      " 1   last_price            14391 non-null  int64         \n",
      " 2   total_area            14391 non-null  float64       \n",
      " 3   first_day_exposition  14391 non-null  datetime64[ns]\n",
      " 4   rooms                 14391 non-null  int64         \n",
      " 5   ceiling_height        14391 non-null  float64       \n",
      " 6   floors_total          14391 non-null  int64         \n",
      " 7   living_area           13605 non-null  float64       \n",
      " 8   floor                 14391 non-null  int64         \n",
      " 9   is_apartment          14391 non-null  bool          \n",
      " 10  studio                14391 non-null  bool          \n",
      " 11  open_plan             14391 non-null  bool          \n",
      " 12  kitchen_area          13468 non-null  float64       \n",
      " 13  balcony               14391 non-null  int64         \n",
      " 14  locality_name         14391 non-null  object        \n",
      " 15  airports_nearest      11462 non-null  float64       \n",
      " 16  city_centers_nearest  11482 non-null  float64       \n",
      " 17  parks_around_3000     14391 non-null  int64         \n",
      " 18  parks_nearest         5248 non-null   float64       \n",
      " 19  ponds_around_3000     14391 non-null  int64         \n",
      " 20  ponds_nearest         5684 non-null   float64       \n",
      " 21  days_exposition       11954 non-null  float64       \n",
      " 22  price_sqm             14391 non-null  float64       \n",
      " 23  exposition_weekday    14391 non-null  int64         \n",
      " 24  exposition_month      14391 non-null  int64         \n",
      " 25  exposition_year       14391 non-null  int64         \n",
      " 26  floor_type            14391 non-null  object        \n",
      " 27  distance_center       11482 non-null  float64       \n",
      "dtypes: bool(3), datetime64[ns](1), float64(11), int64(11), object(2)\n",
      "memory usage: 2.9+ MB\n",
      "    total_images  last_price  total_area first_day_exposition  rooms  \\\n",
      "0             20    13000000       108.0           2019-03-07      3   \n",
      "4              2    10000000       100.0           2018-06-19      2   \n",
      "9             18     5400000        61.0           2017-02-26      3   \n",
      "10             5     5050000        39.6           2017-11-16      1   \n",
      "13            20     3550000        42.8           2017-07-01      2   \n",
      "\n",
      "    ceiling_height  floors_total  living_area  floor  is_apartment  ...  \\\n",
      "0             2.70            16         51.0      8          True  ...   \n",
      "4             3.03            14         32.0     13          True  ...   \n",
      "9             2.50             9         43.6      7          True  ...   \n",
      "10            2.67            12         20.3      3          True  ...   \n",
      "13            2.56             5         27.0      5          True  ...   \n",
      "\n",
      "    parks_nearest  ponds_around_3000  ponds_nearest  days_exposition  \\\n",
      "0           482.0                  2          755.0              NaN   \n",
      "4           112.0                  1           48.0            121.0   \n",
      "9             NaN                  0            NaN            289.0   \n",
      "10          310.0                  2          553.0            137.0   \n",
      "13          294.0                  3          298.0            366.0   \n",
      "\n",
      "        price_sqm  exposition_weekday  exposition_month  exposition_year  \\\n",
      "0   120370.370370                   3                 3             2019   \n",
      "4   100000.000000                   1                 6             2018   \n",
      "9    88524.590164                   6                 2             2017   \n",
      "10  127525.252525                   3                11             2017   \n",
      "13   82943.925234                   5                 7             2017   \n",
      "\n",
      "    floor_type  distance_center  \n",
      "0       другой             16.0  \n",
      "4       другой              8.0  \n",
      "9       другой             15.0  \n",
      "10      другой             14.0  \n",
      "13   последний             33.0  \n",
      "\n",
      "[5 rows x 28 columns]\n"
     ]
    }
   ],
   "source": [
    "data.info()\n",
    "print(data.head())"
   ]
  },
  {
   "cell_type": "markdown",
   "metadata": {},
   "source": [
    "### Проведите исследовательский анализ данных"
   ]
  },
  {
   "cell_type": "markdown",
   "metadata": {},
   "source": [
    "**Изучим параметр объекта \"Общая площадь\"**"
   ]
  },
  {
   "cell_type": "code",
   "execution_count": 31,
   "metadata": {},
   "outputs": [
    {
     "data": {
      "text/plain": [
       "count    14391.000000\n",
       "mean        61.883570\n",
       "std         36.852883\n",
       "min         12.000000\n",
       "25%         41.000000\n",
       "50%         53.400000\n",
       "75%         71.400000\n",
       "max        900.000000\n",
       "Name: total_area, dtype: float64"
      ]
     },
     "execution_count": 31,
     "metadata": {},
     "output_type": "execute_result"
    }
   ],
   "source": [
    "data['total_area'].describe()"
   ]
  },
  {
   "cell_type": "code",
   "execution_count": 32,
   "metadata": {
    "scrolled": true
   },
   "outputs": [
    {
     "data": {
      "image/png": "[encoded data removed]",
      "text/plain": [
       "<Figure size 432x288 with 1 Axes>"
      ]
     },
     "metadata": {
      "needs_background": "light"
     },
     "output_type": "display_data"
    }
   ],
   "source": [
    "# строим гистограмму\n",
    "import matplotlib.pyplot as plt\n",
    "\n",
    "data['total_area'].hist(range=(0, 100), bins=100)\n",
    "\n",
    "plt.xlabel('Площадь квартиры, кв.м')\n",
    "plt.ylabel('Количество квартир')\n",
    "plt.title('total_area')\n",
    "\n",
    "plt.show()"
   ]
  },
  {
   "cell_type": "markdown",
   "metadata": {},
   "source": [
    "На гистограмме видно, что большинство квартир имеют площадь от 20 до 100 кв.м, при этом наиболее распространенные площади находятся в диапазоне 40-60 кв.м. Распределение схоже с нормальным, но имеет несколько пиков в районе 30, 50 и 60 кв.м."
   ]
  },
  {
   "cell_type": "markdown",
   "metadata": {},
   "source": [
    "**Изучим параметр объекта \"Жилая площадь\"**"
   ]
  },
  {
   "cell_type": "code",
   "execution_count": 33,
   "metadata": {},
   "outputs": [
    {
     "data": {
      "text/plain": [
       "count    13605.000000\n",
       "mean        35.675009\n",
       "std         22.819838\n",
       "min          2.000000\n",
       "25%         19.200000\n",
       "50%         30.800000\n",
       "75%         43.300000\n",
       "max        409.700000\n",
       "Name: living_area, dtype: float64"
      ]
     },
     "execution_count": 33,
     "metadata": {},
     "output_type": "execute_result"
    }
   ],
   "source": [
    "data['living_area'].describe()"
   ]
  },
  {
   "cell_type": "code",
   "execution_count": 34,
   "metadata": {
    "scrolled": true
   },
   "outputs": [
    {
     "data": {
      "image/png": "[encoded data removed]",
      "text/plain": [
       "<Figure size 432x288 with 1 Axes>"
      ]
     },
     "metadata": {
      "needs_background": "light"
     },
     "output_type": "display_data"
    }
   ],
   "source": [
    "# строим гистограмму\n",
    "import matplotlib.pyplot as plt\n",
    "\n",
    "data['living_area'].hist(range=(0, 100), bins=30)\n",
    "\n",
    "plt.xlabel('Жилая площадь, кв.м')\n",
    "plt.ylabel('Количество квартир')\n",
    "plt.title('living_area')\n",
    "\n",
    "plt.show()"
   ]
  },
  {
   "cell_type": "markdown",
   "metadata": {},
   "source": [
    "Из графика видно, что большинство жилой площади квартир составляет от 30 до 50 кв.м. Наблюдаем несколько пиков – в районе 30 кв.м (что объяснимо популярностью однокомнатных квартир) и в районе 20 кв.м (это могут быть квартиры-студии). Есть выбросы как в минимальную, так и в максимальную сторону. \n",
    "<br>\n",
    "Посмотрим сколько очень маленьких и очень больших по площади квартир. Выберем с помощью квартилей диапазон в 5% и 99% (взять классические 25% и 75% срежет слишком много, судя по данным из describe)"
   ]
  },
  {
   "cell_type": "code",
   "execution_count": 35,
   "metadata": {},
   "outputs": [
    {
     "name": "stdout",
     "output_type": "stream",
     "text": [
      "Количество совсем маленьких значений площади: 674\n",
      "Количество совсем больших значений площади: 137\n"
     ]
    }
   ],
   "source": [
    "living_area = data['living_area']\n",
    "lower_quartile = living_area.quantile(0.05)\n",
    "upper_quartile = living_area.quantile(0.99)\n",
    "\n",
    "very_small = living_area[living_area < lower_quartile]\n",
    "very_large = living_area[living_area > upper_quartile]\n",
    "\n",
    "print(\"Количество совсем маленьких значений площади:\", len(very_small))\n",
    "print(\"Количество совсем больших значений площади:\", len(very_large))"
   ]
  },
  {
   "cell_type": "markdown",
   "metadata": {},
   "source": [
    "Удалим эти строки"
   ]
  },
  {
   "cell_type": "code",
   "execution_count": 36,
   "metadata": {
    "scrolled": true
   },
   "outputs": [],
   "source": [
    "data = data.drop(data[(data['living_area'] < lower_quartile) | (data['living_area'] > upper_quartile)].index)\n"
   ]
  },
  {
   "cell_type": "code",
   "execution_count": null,
   "metadata": {},
   "outputs": [],
   "source": []
  },
  {
   "cell_type": "code",
   "execution_count": 37,
   "metadata": {},
   "outputs": [
    {
     "data": {
      "text/plain": [
       "count    12794.000000\n",
       "mean        35.358662\n",
       "std         17.363728\n",
       "min         15.600000\n",
       "25%         20.100000\n",
       "50%         31.200000\n",
       "75%         43.500000\n",
       "max        123.000000\n",
       "Name: living_area, dtype: float64"
      ]
     },
     "execution_count": 37,
     "metadata": {},
     "output_type": "execute_result"
    }
   ],
   "source": [
    "data['living_area'].describe()"
   ]
  },
  {
   "cell_type": "markdown",
   "metadata": {},
   "source": [
    "Теперь пропуски в living_area можно заполнить медианным значением"
   ]
  },
  {
   "cell_type": "code",
   "execution_count": 38,
   "metadata": {},
   "outputs": [
    {
     "data": {
      "text/plain": [
       "False    13580\n",
       "Name: living_area, dtype: int64"
      ]
     },
     "execution_count": 38,
     "metadata": {},
     "output_type": "execute_result"
    }
   ],
   "source": [
    "median = data['living_area'].median()\n",
    "data['living_area'].fillna(median, inplace=True)\n",
    "# проверим количество пропусков в столбце\n",
    "\n",
    "data['living_area'].isna().value_counts()"
   ]
  },
  {
   "cell_type": "markdown",
   "metadata": {},
   "source": [
    "Построим гистограму"
   ]
  },
  {
   "cell_type": "code",
   "execution_count": null,
   "metadata": {},
   "outputs": [],
   "source": []
  },
  {
   "cell_type": "code",
   "execution_count": 39,
   "metadata": {
    "scrolled": true
   },
   "outputs": [
    {
     "data": {
      "image/png": "[encoded data removed]",
      "text/plain": [
       "<Figure size 432x288 with 1 Axes>"
      ]
     },
     "metadata": {
      "needs_background": "light"
     },
     "output_type": "display_data"
    }
   ],
   "source": [
    "# строим гистограмму\n",
    "import matplotlib.pyplot as plt\n",
    "\n",
    "data['living_area'].hist(range=(0, 120), bins=30)\n",
    "\n",
    "plt.xlabel('Жилая площадь, кв.м')\n",
    "plt.ylabel('Количество квартир')\n",
    "plt.title('living_area')\n",
    "\n",
    "plt.show()\n"
   ]
  },
  {
   "cell_type": "markdown",
   "metadata": {},
   "source": [
    "**Изучим параметр объекта \"Площадь кухни\"**"
   ]
  },
  {
   "cell_type": "code",
   "execution_count": 40,
   "metadata": {},
   "outputs": [
    {
     "data": {
      "text/plain": [
       "count    12690.000000\n",
       "mean        10.422420\n",
       "std          5.696947\n",
       "min          1.300000\n",
       "25%          7.000000\n",
       "50%          9.000000\n",
       "75%         12.000000\n",
       "max         93.200000\n",
       "Name: kitchen_area, dtype: float64"
      ]
     },
     "execution_count": 40,
     "metadata": {},
     "output_type": "execute_result"
    }
   ],
   "source": [
    "data['kitchen_area'].describe()"
   ]
  },
  {
   "cell_type": "code",
   "execution_count": 41,
   "metadata": {
    "scrolled": true
   },
   "outputs": [
    {
     "data": {
      "image/png": "[encoded data removed]",
      "text/plain": [
       "<Figure size 432x288 with 1 Axes>"
      ]
     },
     "metadata": {
      "needs_background": "light"
     },
     "output_type": "display_data"
    }
   ],
   "source": [
    "# строим гистограмму\n",
    "import matplotlib.pyplot as plt\n",
    "\n",
    "data['kitchen_area'].hist(range=(0, 50), bins=25)\n",
    "\n",
    "plt.xlabel('Площадь кухни, кв.м')\n",
    "plt.ylabel('Количество квартир')\n",
    "plt.title('kitchen_area')\n",
    "\n",
    "plt.show()"
   ]
  },
  {
   "cell_type": "markdown",
   "metadata": {},
   "source": [
    "Большинство квартир имеют относительно небольшую площадь кухни, около 10 квадртных метров.Больше 25 метров кухонь совсем мало.  Максимальная площадь кухни 93 м, можно предположить, что такая кваритра относится или к элитному жилью или к квартире со свободной планировкой. \n",
    "<br>\n"
   ]
  },
  {
   "cell_type": "code",
   "execution_count": 42,
   "metadata": {},
   "outputs": [
    {
     "data": {
      "text/plain": [
       "total_images               0\n",
       "last_price                 0\n",
       "total_area                 0\n",
       "first_day_exposition       0\n",
       "rooms                      0\n",
       "ceiling_height             0\n",
       "floors_total               0\n",
       "living_area                0\n",
       "floor                      0\n",
       "is_apartment               0\n",
       "studio                     0\n",
       "open_plan                  0\n",
       "kitchen_area               0\n",
       "balcony                    0\n",
       "locality_name              0\n",
       "airports_nearest        2749\n",
       "city_centers_nearest    2732\n",
       "parks_around_3000          0\n",
       "parks_nearest           8612\n",
       "ponds_around_3000          0\n",
       "ponds_nearest           8198\n",
       "days_exposition         2320\n",
       "price_sqm                  0\n",
       "exposition_weekday         0\n",
       "exposition_month           0\n",
       "exposition_year            0\n",
       "floor_type                 0\n",
       "distance_center         2732\n",
       "dtype: int64"
      ]
     },
     "execution_count": 42,
     "metadata": {},
     "output_type": "execute_result"
    }
   ],
   "source": [
    "median_kitchen_area = data['kitchen_area'].median()\n",
    "data['kitchen_area'].fillna(median_kitchen_area, inplace=True)\n",
    "\n",
    "# проверим, убрали ли мы все пропущенные значения в kitchen_area\n",
    "data.isna().sum()"
   ]
  },
  {
   "cell_type": "markdown",
   "metadata": {},
   "source": [
    "**Изучим параметр объекта \"Цена объекта\"**"
   ]
  },
  {
   "cell_type": "code",
   "execution_count": 43,
   "metadata": {},
   "outputs": [
    {
     "data": {
      "text/plain": [
       "count    1.358000e+04\n",
       "mean     6.521925e+06\n",
       "std      7.370422e+06\n",
       "min      1.219000e+04\n",
       "25%      3.600000e+06\n",
       "50%      4.950000e+06\n",
       "75%      7.100000e+06\n",
       "max      3.300000e+08\n",
       "Name: last_price, dtype: float64"
      ]
     },
     "execution_count": 43,
     "metadata": {},
     "output_type": "execute_result"
    }
   ],
   "source": [
    "data['last_price'].describe()"
   ]
  },
  {
   "cell_type": "code",
   "execution_count": 44,
   "metadata": {
    "scrolled": true
   },
   "outputs": [
    {
     "data": {
      "image/png": "[encoded data removed]",
      "text/plain": [
       "<Figure size 432x288 with 1 Axes>"
      ]
     },
     "metadata": {
      "needs_background": "light"
     },
     "output_type": "display_data"
    }
   ],
   "source": [
    "# строим гистограмму\n",
    "import matplotlib.pyplot as plt\n",
    "\n",
    "data['last_price'].hist(range=(0, 20_000_000), bins=100)\n",
    "\n",
    "plt.xlabel('Цена')\n",
    "plt.ylabel('Количество квартир')\n",
    "plt.title('last_price')\n",
    "\n",
    "plt.show()"
   ]
  },
  {
   "cell_type": "markdown",
   "metadata": {},
   "source": [
    "Из гистограммы видно, что большинство недвижимости продаются в ценовом диапазоне от 0 до 5 миллионов рублей, причем наиболее часто продаются объекты стоимостью от 3 до 5 миллионов рублей. Есть небольшой всплекс в районе 10 млн. Более дорого жилья процент не велик. \n",
    "<br>\n",
    "Выведем список из самых дорогих квартир, посмотрим, подумаем, нужно ли откинуть эти значения."
   ]
  },
  {
   "cell_type": "code",
   "execution_count": 45,
   "metadata": {},
   "outputs": [
    {
     "name": "stdout",
     "output_type": "stream",
     "text": [
      "ТОП-10 максимальных цен:\n",
      "1436     330000000\n",
      "22831    289238400\n",
      "15016    150000000\n",
      "12674    140000000\n",
      "17912    135000000\n",
      "2243     130278280\n",
      "4996     124000000\n",
      "16647    122000000\n",
      "492       95000000\n",
      "12045     86738800\n",
      "Name: last_price, dtype: int64\n"
     ]
    }
   ],
   "source": [
    "print('ТОП-10 максимальных цен:')\n",
    "print(data['last_price'].sort_values(ascending=False).head(10))"
   ]
  },
  {
   "cell_type": "markdown",
   "metadata": {},
   "source": [
    "посмотрим строку самой дорогой квартиры\n"
   ]
  },
  {
   "cell_type": "code",
   "execution_count": 46,
   "metadata": {},
   "outputs": [
    {
     "name": "stdout",
     "output_type": "stream",
     "text": [
      "      total_images  last_price  total_area first_day_exposition  rooms  \\\n",
      "1436            19   330000000       190.0           2018-04-04      3   \n",
      "\n",
      "      ceiling_height  floors_total  living_area  floor  is_apartment  ...  \\\n",
      "1436             3.5             7         95.0      5          True  ...   \n",
      "\n",
      "      parks_nearest  ponds_around_3000  ponds_nearest  days_exposition  \\\n",
      "1436          519.0                  3          285.0            233.0   \n",
      "\n",
      "         price_sqm  exposition_weekday  exposition_month  exposition_year  \\\n",
      "1436  1.736842e+06                   2                 4             2018   \n",
      "\n",
      "      floor_type  distance_center  \n",
      "1436      другой              1.0  \n",
      "\n",
      "[1 rows x 28 columns]\n"
     ]
    }
   ],
   "source": [
    "print(data.query('last_price == 330000000'))"
   ]
  },
  {
   "cell_type": "markdown",
   "metadata": {},
   "source": [
    "Что ж, может это в Эрмитаже?"
   ]
  },
  {
   "cell_type": "markdown",
   "metadata": {},
   "source": [
    "**Изучим параметр объекта \"Количество комнат\"**"
   ]
  },
  {
   "cell_type": "code",
   "execution_count": 47,
   "metadata": {},
   "outputs": [
    {
     "data": {
      "text/plain": [
       "count    13580.000000\n",
       "mean        35.117962\n",
       "std         16.881657\n",
       "min         15.600000\n",
       "25%         21.000000\n",
       "50%         31.200000\n",
       "75%         43.000000\n",
       "max        123.000000\n",
       "Name: living_area, dtype: float64"
      ]
     },
     "execution_count": 47,
     "metadata": {},
     "output_type": "execute_result"
    }
   ],
   "source": [
    "data['living_area'].describe()"
   ]
  },
  {
   "cell_type": "code",
   "execution_count": 48,
   "metadata": {},
   "outputs": [
    {
     "data": {
      "text/plain": [
       "count    13580.000000\n",
       "mean         2.150957\n",
       "std          1.000425\n",
       "min          0.000000\n",
       "25%          1.000000\n",
       "50%          2.000000\n",
       "75%          3.000000\n",
       "max          9.000000\n",
       "Name: rooms, dtype: float64"
      ]
     },
     "execution_count": 48,
     "metadata": {},
     "output_type": "execute_result"
    }
   ],
   "source": [
    "data['rooms'].describe()"
   ]
  },
  {
   "cell_type": "code",
   "execution_count": 49,
   "metadata": {
    "scrolled": true
   },
   "outputs": [
    {
     "data": {
      "image/png": "[encoded data removed]",
      "text/plain": [
       "<Figure size 432x288 with 1 Axes>"
      ]
     },
     "metadata": {
      "needs_background": "light"
     },
     "output_type": "display_data"
    }
   ],
   "source": [
    "# строим гистограмму\n",
    "import matplotlib.pyplot as plt\n",
    "\n",
    "data['rooms'].hist(range=(0, 10), bins=10)\n",
    "\n",
    "plt.xlabel('Количество комнат')\n",
    "plt.ylabel('Количество квартир')\n",
    "plt.title('rooms')\n",
    "\n",
    "plt.show()"
   ]
  },
  {
   "cell_type": "markdown",
   "metadata": {},
   "source": [
    "Максимальное количество комнат – 9, что вполне возможно. Минимальное – 0. Возможно это варианты с открытой планировкой.\n",
    "<br>\n",
    "Проверим нашу теорию."
   ]
  },
  {
   "cell_type": "code",
   "execution_count": 50,
   "metadata": {},
   "outputs": [
    {
     "name": "stdout",
     "output_type": "stream",
     "text": [
      "            last_price\n",
      "total_area            \n",
      "23.06                1\n",
      "25.00                2\n",
      "26.00                1\n",
      "27.30                1\n",
      "27.32                1\n",
      "28.00                1\n",
      "30.50                1\n",
      "371.00               1\n"
     ]
    }
   ],
   "source": [
    "pivot = pd.pivot_table(data.loc[(\n",
    "    data['rooms'] == 0) & (\n",
    "    data['open_plan'] == True)], values='last_price', index=['total_area'], aggfunc='count')\n",
    "\n",
    "print(pivot)"
   ]
  },
  {
   "cell_type": "markdown",
   "metadata": {},
   "source": [
    "Площадь вариантов от 23 до 30 кв м может соответствовать квартирам студиям, при заполнении данных могли интерпретировать как отсутсвие комнат; а 371 - тоже может быть квартира без отделки и без стен, как раз открытой планировки. \n",
    "<br>"
   ]
  },
  {
   "cell_type": "markdown",
   "metadata": {},
   "source": [
    "**Изучим параметр объекта \"Высота потолков\"**"
   ]
  },
  {
   "cell_type": "code",
   "execution_count": 51,
   "metadata": {},
   "outputs": [
    {
     "data": {
      "text/plain": [
       "count    13580.000000\n",
       "mean         2.722529\n",
       "std          0.263496\n",
       "min          2.500000\n",
       "25%          2.510000\n",
       "50%          2.650000\n",
       "75%          2.800000\n",
       "max          5.000000\n",
       "Name: ceiling_height, dtype: float64"
      ]
     },
     "execution_count": 51,
     "metadata": {},
     "output_type": "execute_result"
    }
   ],
   "source": [
    "data['ceiling_height'].describe()"
   ]
  },
  {
   "cell_type": "code",
   "execution_count": 52,
   "metadata": {
    "scrolled": true
   },
   "outputs": [
    {
     "data": {
      "image/png": "[encoded data removed]",
      "text/plain": [
       "<Figure size 432x288 with 1 Axes>"
      ]
     },
     "metadata": {
      "needs_background": "light"
     },
     "output_type": "display_data"
    }
   ],
   "source": [
    "# строим гистограмму\n",
    "import matplotlib.pyplot as plt\n",
    "\n",
    "data['ceiling_height'].hist(range=(0, 5), bins=30)\n",
    "\n",
    "plt.xlabel('Высота потолков')\n",
    "plt.ylabel('Количество квартир')\n",
    "plt.title('ceiling_height')\n",
    "\n",
    "plt.show()"
   ]
  },
  {
   "cell_type": "markdown",
   "metadata": {},
   "source": [
    "Ранее мы уже поработали с выбросами и заполненеим пропусков в этом параметре. Большая часть квартир с высотой 2,5; 2,75; далее какое-то количество около 3 и далее до 5 совсем незначительное.\n",
    "<br>"
   ]
  },
  {
   "cell_type": "markdown",
   "metadata": {},
   "source": [
    "**Изучим параметр объекта \"Этаж квартиры\"**"
   ]
  },
  {
   "cell_type": "code",
   "execution_count": 53,
   "metadata": {},
   "outputs": [
    {
     "data": {
      "text/plain": [
       "count    13580.000000\n",
       "mean         5.551694\n",
       "std          4.537143\n",
       "min          1.000000\n",
       "25%          2.000000\n",
       "50%          4.000000\n",
       "75%          7.000000\n",
       "max         30.000000\n",
       "Name: floor, dtype: float64"
      ]
     },
     "execution_count": 53,
     "metadata": {},
     "output_type": "execute_result"
    }
   ],
   "source": [
    "data['floor'].describe()"
   ]
  },
  {
   "cell_type": "code",
   "execution_count": 54,
   "metadata": {
    "scrolled": true
   },
   "outputs": [
    {
     "data": {
      "image/png": "[encoded data removed]",
      "text/plain": [
       "<Figure size 432x288 with 1 Axes>"
      ]
     },
     "metadata": {
      "needs_background": "light"
     },
     "output_type": "display_data"
    }
   ],
   "source": [
    "# строим гистограмму\n",
    "import matplotlib.pyplot as plt\n",
    "\n",
    "data['floor'].hist(range=(0, 30), bins=40)\n",
    "\n",
    "plt.xlabel('Этаж')\n",
    "plt.ylabel('Количество квартир')\n",
    "plt.title('floor')\n",
    "\n",
    "plt.show()"
   ]
  },
  {
   "cell_type": "markdown",
   "metadata": {},
   "source": [
    "Наибольшее число квартир от 1 до 5. Остальных намного меньше. Пропущенных значений нет. Максимум 30 – оказалось, в Петербурге такие дома существуют, так что данные соответствует действительности, идём дальше.\n",
    "<br>"
   ]
  },
  {
   "cell_type": "markdown",
   "metadata": {},
   "source": [
    "**Изучим параметр объекта \"Тип этажа квартиры\"**"
   ]
  },
  {
   "cell_type": "code",
   "execution_count": 55,
   "metadata": {},
   "outputs": [
    {
     "data": {
      "text/plain": [
       "count      13580\n",
       "unique         3\n",
       "top       другой\n",
       "freq        9896\n",
       "Name: floor_type, dtype: object"
      ]
     },
     "execution_count": 55,
     "metadata": {},
     "output_type": "execute_result"
    }
   ],
   "source": [
    "data['floor_type'].describe()"
   ]
  },
  {
   "cell_type": "code",
   "execution_count": 56,
   "metadata": {
    "scrolled": true
   },
   "outputs": [
    {
     "data": {
      "image/png": "[encoded data removed]",
      "text/plain": [
       "<Figure size 432x288 with 1 Axes>"
      ]
     },
     "metadata": {
      "needs_background": "light"
     },
     "output_type": "display_data"
    }
   ],
   "source": [
    "# строим гистограмму\n",
    "import matplotlib.pyplot as plt\n",
    "\n",
    "data['floor_type'].hist(range=(0, 3), bins=10)\n",
    "\n",
    "plt.xlabel('Тип этажа')\n",
    "plt.ylabel('Количество квартир')\n",
    "plt.title('floor_type')\n",
    "\n",
    "plt.show()"
   ]
  },
  {
   "cell_type": "markdown",
   "metadata": {},
   "source": [
    "Больше всего квартир с типом этажа \"другой\" – это вполне логично и выглядит правдоподобно."
   ]
  },
  {
   "cell_type": "markdown",
   "metadata": {},
   "source": [
    "**Изучим параметр объекта \"Общее количество этажей в доме\"**"
   ]
  },
  {
   "cell_type": "code",
   "execution_count": 57,
   "metadata": {},
   "outputs": [
    {
     "data": {
      "text/plain": [
       "count    13580.000000\n",
       "mean        10.067378\n",
       "std          6.108570\n",
       "min          1.000000\n",
       "25%          5.000000\n",
       "50%          9.000000\n",
       "75%         14.000000\n",
       "max         60.000000\n",
       "Name: floors_total, dtype: float64"
      ]
     },
     "execution_count": 57,
     "metadata": {},
     "output_type": "execute_result"
    }
   ],
   "source": [
    "data['floors_total'].describe()"
   ]
  },
  {
   "cell_type": "code",
   "execution_count": 58,
   "metadata": {
    "scrolled": true
   },
   "outputs": [
    {
     "data": {
      "image/png": "[encoded data removed]",
      "text/plain": [
       "<Figure size 432x288 with 1 Axes>"
      ]
     },
     "metadata": {
      "needs_background": "light"
     },
     "output_type": "display_data"
    }
   ],
   "source": [
    "# строим гистограмму\n",
    "import matplotlib.pyplot as plt\n",
    "\n",
    "data['floors_total'].hist(range=(0, 60), bins=10)\n",
    "\n",
    "plt.xlabel('Общее количество этажей в доме')\n",
    "plt.ylabel('Количество квартир')\n",
    "plt.title('floors_total')\n",
    "\n",
    "plt.show()"
   ]
  },
  {
   "cell_type": "markdown",
   "metadata": {},
   "source": [
    "А здесь наблюдаем явный выбром в виде дома в 60 этаже. Такой вряд ли существует, в Петербурге из высокоэтажных только Лахта-центр, но и там 88, следующий по высотности 42-этажный (нежилой, офисный) и потом 37-этажный (жилой). Интересно, сколько их?\n",
    "<br>\n",
    "Смело убираем значения больше 37."
   ]
  },
  {
   "cell_type": "code",
   "execution_count": 59,
   "metadata": {},
   "outputs": [
    {
     "name": "stdout",
     "output_type": "stream",
     "text": [
      "1\n"
     ]
    }
   ],
   "source": [
    "floors_above_37 = data.query('floors_total > 37')['floors_total'].count()\n",
    "\n",
    "print(floors_above_37)"
   ]
  },
  {
   "cell_type": "code",
   "execution_count": 60,
   "metadata": {},
   "outputs": [
    {
     "name": "stdout",
     "output_type": "stream",
     "text": [
      "Series([], dtype: int64)\n"
     ]
    }
   ],
   "source": [
    "data = data[data['floors_total'] < 37]\n",
    "print(data[data['floors_total'] > 37].value_counts())"
   ]
  },
  {
   "cell_type": "markdown",
   "metadata": {},
   "source": [
    "**Изучим параметр объекта \"Расстояние до центра\"**"
   ]
  },
  {
   "cell_type": "code",
   "execution_count": 61,
   "metadata": {},
   "outputs": [
    {
     "data": {
      "text/plain": [
       "count    10847.000000\n",
       "mean        14.120218\n",
       "std          8.802760\n",
       "min          0.000000\n",
       "25%          9.000000\n",
       "50%         13.000000\n",
       "75%         16.000000\n",
       "max         66.000000\n",
       "Name: distance_center, dtype: float64"
      ]
     },
     "execution_count": 61,
     "metadata": {},
     "output_type": "execute_result"
    }
   ],
   "source": [
    "data['distance_center'].describe()"
   ]
  },
  {
   "cell_type": "code",
   "execution_count": 62,
   "metadata": {
    "scrolled": true
   },
   "outputs": [
    {
     "data": {
      "image/png": "[encoded data removed]",
      "text/plain": [
       "<Figure size 432x288 with 1 Axes>"
      ]
     },
     "metadata": {
      "needs_background": "light"
     },
     "output_type": "display_data"
    }
   ],
   "source": [
    "# строим гистограмму\n",
    "import matplotlib.pyplot as plt\n",
    "\n",
    "data['distance_center'].hist(range=(0, 70), bins=50)\n",
    "\n",
    "plt.xlabel('Расстояние до центра')\n",
    "plt.ylabel('Количество квартир')\n",
    "plt.title('distance_center')\n",
    "\n",
    "plt.show()"
   ]
  },
  {
   "cell_type": "markdown",
   "metadata": {},
   "source": [
    "Лидирует показатель расстояния до центра около 15 км; остальная масса почти равномерно расположилась от 0 до 20 км. Есть и отдельные \"выскочки\", но аномалий не наблюдаем.\n",
    "<br>\n"
   ]
  },
  {
   "cell_type": "markdown",
   "metadata": {},
   "source": [
    "**Изучим параметр объекта \"Расстояние до ближайшего аэропорта\"**"
   ]
  },
  {
   "cell_type": "code",
   "execution_count": 63,
   "metadata": {},
   "outputs": [
    {
     "data": {
      "text/plain": [
       "count    10830.000000\n",
       "mean     28817.713389\n",
       "std      12618.402122\n",
       "min          0.000000\n",
       "25%      18504.250000\n",
       "50%      26770.000000\n",
       "75%      37051.250000\n",
       "max      84869.000000\n",
       "Name: airports_nearest, dtype: float64"
      ]
     },
     "execution_count": 63,
     "metadata": {},
     "output_type": "execute_result"
    }
   ],
   "source": [
    "data['airports_nearest'].describe()\n"
   ]
  },
  {
   "cell_type": "code",
   "execution_count": 64,
   "metadata": {
    "scrolled": true
   },
   "outputs": [
    {
     "data": {
      "image/png": "[encoded data removed]",
      "text/plain": [
       "<Figure size 432x288 with 1 Axes>"
      ]
     },
     "metadata": {
      "needs_background": "light"
     },
     "output_type": "display_data"
    }
   ],
   "source": [
    "# строим гистограмму\n",
    "import matplotlib.pyplot as plt\n",
    "\n",
    "data['airports_nearest'].hist(bins=20)\n",
    "\n",
    "plt.xlabel('Расстояние до аэропорта')\n",
    "plt.ylabel('Количество квартир')\n",
    "plt.title('airports_nearest')\n",
    "\n",
    "plt.show()\n"
   ]
  },
  {
   "cell_type": "markdown",
   "metadata": {},
   "source": [
    "Основные значения лежат в области от 10 до 40 км до аэропорта. Есть небольшой выброс около 80, но такое вполне возможно. Посмотрим, к каким наслённым пунктам они относятся.\n"
   ]
  },
  {
   "cell_type": "code",
   "execution_count": 65,
   "metadata": {},
   "outputs": [
    {
     "name": "stdout",
     "output_type": "stream",
     "text": [
      "                      airports_nearest\n",
      "locality_name                         \n",
      "Зеленогорск                         18\n",
      "Колпино                            193\n",
      "Красное Село                       106\n",
      "Кронштадт                           61\n",
      "Ломоносов                           88\n",
      "Павловск                            23\n",
      "Петергоф                           142\n",
      "Пушкин                             223\n",
      "Санкт-Петербург                   9463\n",
      "Сестрорецк                         122\n",
      "посёлок Лисий Нос                    2\n",
      "посёлок Металлострой                47\n",
      "посёлок Молодежное                   5\n",
      "посёлок Парголово                  101\n",
      "посёлок Песочный                     2\n",
      "посёлок Понтонный                   12\n",
      "посёлок Репино                       4\n",
      "посёлок Саперный                     3\n",
      "посёлок Стрельна                    26\n",
      "посёлок Шушары                     188\n"
     ]
    }
   ],
   "source": [
    "pivot_table = pd.pivot_table(\n",
    "    data[(data['airports_nearest'] > 60)][['airports_nearest', 'locality_name']], \n",
    "    index='locality_name', \n",
    "    values='airports_nearest', \n",
    "    aggfunc='count'\n",
    ")\n",
    "\n",
    "print(pivot_table)"
   ]
  },
  {
   "cell_type": "markdown",
   "metadata": {},
   "source": [
    "Да, всё верно, не смотря на то, что большая часть (9463) этих квартир в Петербурге.Границы Санкт-Петербурга в Курортном районе достигают Зеленогорска и это как раз около 80 км. "
   ]
  },
  {
   "cell_type": "markdown",
   "metadata": {},
   "source": [
    "**Изучим параметр объекта \"Расстояние до ближайшего парка\"**"
   ]
  },
  {
   "cell_type": "code",
   "execution_count": 66,
   "metadata": {},
   "outputs": [
    {
     "data": {
      "text/plain": [
       "count    4967.000000\n",
       "mean      477.903564\n",
       "std       320.847995\n",
       "min         3.000000\n",
       "25%       287.000000\n",
       "50%       451.000000\n",
       "75%       602.000000\n",
       "max      3190.000000\n",
       "Name: parks_nearest, dtype: float64"
      ]
     },
     "execution_count": 66,
     "metadata": {},
     "output_type": "execute_result"
    }
   ],
   "source": [
    "data['parks_nearest'].describe()\n"
   ]
  },
  {
   "cell_type": "code",
   "execution_count": 67,
   "metadata": {
    "scrolled": true
   },
   "outputs": [
    {
     "data": {
      "image/png": "[encoded data removed]",
      "text/plain": [
       "<Figure size 432x288 with 1 Axes>"
      ]
     },
     "metadata": {
      "needs_background": "light"
     },
     "output_type": "display_data"
    }
   ],
   "source": [
    "# строим гистограмму\n",
    "import matplotlib.pyplot as plt\n",
    "\n",
    "data['parks_nearest'].hist(bins=20)\n",
    "\n",
    "plt.xlabel('Расстояние до парка')\n",
    "plt.ylabel('Количество квартир')\n",
    "plt.title('parks_nearest')\n",
    "\n",
    "plt.show()\n"
   ]
  },
  {
   "cell_type": "markdown",
   "metadata": {},
   "source": [
    "Большая часть квартир располагается всего в полкилометре от ближайшего парка. То ли повезло, то ли парков так много!\n",
    "Но не будем забывать о пропусках значений в этом столбце и их было не мало. А именно 15 620, это 66%. Не подгрузились картографические данные или совсем с парками беда? В любом случае заполнить пустые значения нечем.\n"
   ]
  },
  {
   "cell_type": "markdown",
   "metadata": {},
   "source": [
    "**Изучим параметр объекта \"Расстояние до ближайшего водоёма\"**"
   ]
  },
  {
   "cell_type": "code",
   "execution_count": 68,
   "metadata": {},
   "outputs": [
    {
     "data": {
      "text/plain": [
       "count    5381.000000\n",
       "mean      520.426129\n",
       "std       280.079206\n",
       "min        16.000000\n",
       "25%       289.000000\n",
       "50%       505.000000\n",
       "75%       734.000000\n",
       "max      1344.000000\n",
       "Name: ponds_nearest, dtype: float64"
      ]
     },
     "execution_count": 68,
     "metadata": {},
     "output_type": "execute_result"
    }
   ],
   "source": [
    "data['ponds_nearest'].describe()\n"
   ]
  },
  {
   "cell_type": "code",
   "execution_count": 69,
   "metadata": {
    "scrolled": true
   },
   "outputs": [
    {
     "data": {
      "image/png": "[encoded data removed]",
      "text/plain": [
       "<Figure size 432x288 with 1 Axes>"
      ]
     },
     "metadata": {
      "needs_background": "light"
     },
     "output_type": "display_data"
    }
   ],
   "source": [
    "# строим гистограмму\n",
    "import matplotlib.pyplot as plt\n",
    "\n",
    "data['ponds_nearest'].hist(bins=20)\n",
    "\n",
    "plt.xlabel('Расстояние до водоёма')\n",
    "plt.ylabel('Количество квартир')\n",
    "plt.title('ponds_nearest')\n",
    "\n",
    "plt.show()\n"
   ]
  },
  {
   "cell_type": "markdown",
   "metadata": {},
   "source": [
    "С водоёмами тоже красота - до 1 км. Максимум 1,3. Порадоваться бы за владельцев, но с грустью вспоминаем о пропусках значений как раз в этом параметре. Пропусков было аж 61,5%.\n",
    "Поскольку данные подгружались автоматически винить во всём будем бездушную машину, заполнить пропуски не представляется возомжным. \n"
   ]
  },
  {
   "cell_type": "markdown",
   "metadata": {},
   "source": [
    "**Изучим параметр объекта \"День недели публикации объявления\"**"
   ]
  },
  {
   "cell_type": "code",
   "execution_count": 70,
   "metadata": {},
   "outputs": [
    {
     "data": {
      "text/plain": [
       "count    13579.000000\n",
       "mean         2.505855\n",
       "std          1.790021\n",
       "min          0.000000\n",
       "25%          1.000000\n",
       "50%          2.000000\n",
       "75%          4.000000\n",
       "max          6.000000\n",
       "Name: exposition_weekday, dtype: float64"
      ]
     },
     "execution_count": 70,
     "metadata": {},
     "output_type": "execute_result"
    }
   ],
   "source": [
    "data['exposition_weekday'].describe()"
   ]
  },
  {
   "cell_type": "code",
   "execution_count": 71,
   "metadata": {
    "scrolled": true
   },
   "outputs": [
    {
     "data": {
      "image/png": "[encoded data removed]",
      "text/plain": [
       "<Figure size 432x288 with 1 Axes>"
      ]
     },
     "metadata": {
      "needs_background": "light"
     },
     "output_type": "display_data"
    }
   ],
   "source": [
    "# строим гистограмму\n",
    "import matplotlib.pyplot as plt\n",
    "\n",
    "data['exposition_weekday'].hist(bins=20)\n",
    "\n",
    "plt.xlabel('День недели публикации объявления')\n",
    "plt.ylabel('Количество квартир')\n",
    "plt.title('exposition_weekday')\n",
    "\n",
    "plt.show()\n"
   ]
  },
  {
   "cell_type": "markdown",
   "metadata": {},
   "source": [
    "Почти в два раза реже продаются квартиры в выходные, оно и понятно - не до этого, да и всем отдыхать надо, риэлторы, что не люди? В будние дни практически одинаково ровно. "
   ]
  },
  {
   "cell_type": "markdown",
   "metadata": {},
   "source": [
    "**Изучим параметр объекта \"Месяц публикации объявления\"**"
   ]
  },
  {
   "cell_type": "code",
   "execution_count": 72,
   "metadata": {},
   "outputs": [
    {
     "data": {
      "text/plain": [
       "count    13579.000000\n",
       "mean         6.318212\n",
       "std          3.506197\n",
       "min          1.000000\n",
       "25%          3.000000\n",
       "50%          6.000000\n",
       "75%         10.000000\n",
       "max         12.000000\n",
       "Name: exposition_month, dtype: float64"
      ]
     },
     "execution_count": 72,
     "metadata": {},
     "output_type": "execute_result"
    }
   ],
   "source": [
    "data['exposition_month'].describe()"
   ]
  },
  {
   "cell_type": "code",
   "execution_count": 73,
   "metadata": {
    "scrolled": true
   },
   "outputs": [
    {
     "data": {
      "image/png": "[encoded data removed]",
      "text/plain": [
       "<Figure size 432x288 with 1 Axes>"
      ]
     },
     "metadata": {
      "needs_background": "light"
     },
     "output_type": "display_data"
    }
   ],
   "source": [
    "# строим гистограмму\n",
    "import matplotlib.pyplot as plt\n",
    "\n",
    "data['exposition_month'].hist(bins=50)\n",
    "\n",
    "plt.xlabel('Месяц публикации объявления')\n",
    "plt.ylabel('Количество квартир')\n",
    "plt.title('exposition_month')\n",
    "\n",
    "plt.show()\n"
   ]
  },
  {
   "cell_type": "markdown",
   "metadata": {},
   "source": [
    "Рекорсмены по продажам февраль, март и апрель. Резкий спад в мае – видимо все по отпускам и не до квартир. Подбирается к тройке лидеров ноябрь – кто-то готовит подарки на новый год! "
   ]
  },
  {
   "cell_type": "markdown",
   "metadata": {},
   "source": [
    "**Изучим параметр объекта \"Год публикации объявления\"**"
   ]
  },
  {
   "cell_type": "code",
   "execution_count": 74,
   "metadata": {},
   "outputs": [
    {
     "data": {
      "text/plain": [
       "count    13579.000000\n",
       "mean      2017.514913\n",
       "std          1.027094\n",
       "min       2014.000000\n",
       "25%       2017.000000\n",
       "50%       2018.000000\n",
       "75%       2018.000000\n",
       "max       2019.000000\n",
       "Name: exposition_year, dtype: float64"
      ]
     },
     "execution_count": 74,
     "metadata": {},
     "output_type": "execute_result"
    }
   ],
   "source": [
    "data['exposition_year'].describe()"
   ]
  },
  {
   "cell_type": "code",
   "execution_count": 75,
   "metadata": {
    "scrolled": true
   },
   "outputs": [
    {
     "data": {
      "image/png": "[encoded data removed]",
      "text/plain": [
       "<Figure size 432x288 with 1 Axes>"
      ]
     },
     "metadata": {
      "needs_background": "light"
     },
     "output_type": "display_data"
    }
   ],
   "source": [
    "# строим гистограмму\n",
    "import matplotlib.pyplot as plt\n",
    "\n",
    "data['exposition_year'].hist(bins=20)\n",
    "\n",
    "plt.xlabel('Год публикации объявления')\n",
    "plt.ylabel('Количество квартир')\n",
    "plt.title('exposition_year')\n",
    "\n",
    "plt.show()\n"
   ]
  },
  {
   "cell_type": "markdown",
   "metadata": {},
   "source": [
    "За исследумый период (с 2014 по 2019 годы) самый урожаный на продажи выдался 2018. Затем покупательская способность резко снизилась. Возможно, данные за 2019 оказались не полные или все карты спутал экономический кризис (который из них, уже не разберёшь). "
   ]
  },
  {
   "cell_type": "markdown",
   "metadata": {},
   "source": [
    "**Изучим, как быстро продавались квартиры** "
   ]
  },
  {
   "cell_type": "markdown",
   "metadata": {},
   "source": [
    "Но для начала заполним пропуски медианными значениями"
   ]
  },
  {
   "cell_type": "code",
   "execution_count": 76,
   "metadata": {},
   "outputs": [
    {
     "data": {
      "text/plain": [
       "False    13579\n",
       "Name: days_exposition, dtype: int64"
      ]
     },
     "execution_count": 76,
     "metadata": {},
     "output_type": "execute_result"
    }
   ],
   "source": [
    "median_days_exposition = data['days_exposition'].median()\n",
    "data['days_exposition'].fillna(median_days_exposition, inplace=True)\n",
    "# сразу проверим \n",
    "data['days_exposition'].isna().value_counts()"
   ]
  },
  {
   "cell_type": "code",
   "execution_count": 77,
   "metadata": {},
   "outputs": [
    {
     "data": {
      "text/plain": [
       "count    13579.000000\n",
       "mean       174.908241\n",
       "std        209.907182\n",
       "min          1.000000\n",
       "25%         53.000000\n",
       "50%        103.000000\n",
       "75%        200.000000\n",
       "max       1580.000000\n",
       "Name: days_exposition, dtype: float64"
      ]
     },
     "execution_count": 77,
     "metadata": {},
     "output_type": "execute_result"
    }
   ],
   "source": [
    "data['days_exposition'].describe()\n"
   ]
  },
  {
   "cell_type": "code",
   "execution_count": 78,
   "metadata": {
    "scrolled": true
   },
   "outputs": [
    {
     "data": {
      "image/png": "[encoded data removed]",
      "text/plain": [
       "<Figure size 432x288 with 1 Axes>"
      ]
     },
     "metadata": {
      "needs_background": "light"
     },
     "output_type": "display_data"
    }
   ],
   "source": [
    "# строим гистограмму\n",
    "import matplotlib.pyplot as plt\n",
    "\n",
    "data['days_exposition'].hist(range=(0, 1600), bins=100)\n",
    "\n",
    "plt.xlabel('Время продажи')\n",
    "plt.ylabel('Количество квартир')\n",
    "plt.title('days_exposition')\n",
    "\n",
    "plt.show()\n"
   ]
  },
  {
   "cell_type": "markdown",
   "metadata": {},
   "source": [
    "Большая часть квартир продаётся примерно за 5 месяцев, немалая часть даже раньше. Есть единичные случаи зависания продажи и на 4 года. Быстрой продажей можно назвать ту, что уложилась в 50 дней, а долгая около 200 дней. \n",
    "<br> Среднее время продажи – 186 дней.\n",
    "<br> Медианнное – 165 дней.\n",
    "Оба значения довольно высоки, получилось так из-за объявлений висевших на сайте до 4 лет. "
   ]
  },
  {
   "cell_type": "code",
   "execution_count": 79,
   "metadata": {},
   "outputs": [
    {
     "data": {
      "image/png": "[encoded data removed]",
      "text/plain": [
       "<Figure size 432x288 with 1 Axes>"
      ]
     },
     "metadata": {
      "needs_background": "light"
     },
     "output_type": "display_data"
    }
   ],
   "source": [
    "import matplotlib.pyplot as plt\n",
    "\n",
    "data.boxplot(column=['days_exposition'])\n",
    "plt.title('Диаграмма размаха количества дней')\n",
    "plt.ylabel('Дни')\n",
    "plt.show()\n"
   ]
  },
  {
   "cell_type": "markdown",
   "metadata": {},
   "source": [
    "**Факторы, больше всего влияющие на продажи квартир** "
   ]
  },
  {
   "cell_type": "markdown",
   "metadata": {},
   "source": [
    "Чтобы определить какой из параметров:\n",
    "<br>- общая площадь;\n",
    "<br>- жилая площадь;\n",
    "<br>- площадь кухни;\n",
    "<br>- количество комнат;\n",
    "<br>- этаж, на котором расположена квартира (первый, последний, другой);\n",
    "<br>- дата размещения (день недели, месяц, год);\n",
    "<br>\n",
    "<br>\n",
    "как и насколько влияет на полную стоимость квартиры, постоим сводные таблицы и графики. "
   ]
  },
  {
   "cell_type": "code",
   "execution_count": 80,
   "metadata": {},
   "outputs": [
    {
     "data": {
      "text/plain": [
       "'Коэффициент корреляции между стоимостью и общей площадью:'"
      ]
     },
     "metadata": {},
     "output_type": "display_data"
    },
    {
     "data": {
      "text/plain": [
       "0.6562410175691639"
      ]
     },
     "metadata": {},
     "output_type": "display_data"
    },
    {
     "data": {
      "text/plain": [
       "'Коэффициент корреляции между стоимостью и жилой площадью:'"
      ]
     },
     "metadata": {},
     "output_type": "display_data"
    },
    {
     "data": {
      "text/plain": [
       "0.4799847120376781"
      ]
     },
     "metadata": {},
     "output_type": "display_data"
    },
    {
     "data": {
      "text/plain": [
       "'Коэффициент корреляции между стоимостью и площадью кухни:'"
      ]
     },
     "metadata": {},
     "output_type": "display_data"
    },
    {
     "data": {
      "text/plain": [
       "0.48411683197487176"
      ]
     },
     "metadata": {},
     "output_type": "display_data"
    },
    {
     "data": {
      "text/plain": [
       "'Коэффициент корреляции между стоимостью и количеством комнат:'"
      ]
     },
     "metadata": {},
     "output_type": "display_data"
    },
    {
     "data": {
      "text/plain": [
       "0.35448581893835107"
      ]
     },
     "metadata": {},
     "output_type": "display_data"
    },
    {
     "data": {
      "text/plain": [
       "'Коэффициент корреляции между стоимостью и днём размещения:'"
      ]
     },
     "metadata": {},
     "output_type": "display_data"
    },
    {
     "data": {
      "text/plain": [
       "-0.016548885311188873"
      ]
     },
     "metadata": {},
     "output_type": "display_data"
    },
    {
     "data": {
      "text/plain": [
       "'Коэффициент корреляции между стоимостью и месяцем размещения:'"
      ]
     },
     "metadata": {},
     "output_type": "display_data"
    },
    {
     "data": {
      "text/plain": [
       "-0.003986329272659307"
      ]
     },
     "metadata": {},
     "output_type": "display_data"
    },
    {
     "data": {
      "text/plain": [
       "'Коэффициент корреляции между стоимостью и годом размещения:'"
      ]
     },
     "metadata": {},
     "output_type": "display_data"
    },
    {
     "data": {
      "text/plain": [
       "-0.04765177678779825"
      ]
     },
     "metadata": {},
     "output_type": "display_data"
    }
   ],
   "source": [
    "display('Коэффициент корреляции между стоимостью и общей площадью:', data['total_area'].corr(data['last_price']))\n",
    "display('Коэффициент корреляции между стоимостью и жилой площадью:', data['living_area'].corr(data['last_price']))\n",
    "display('Коэффициент корреляции между стоимостью и площадью кухни:', data['kitchen_area'].corr(data['last_price']))\n",
    "display('Коэффициент корреляции между стоимостью и количеством комнат:', data['rooms'].corr(data['last_price']))\n",
    "display('Коэффициент корреляции между стоимостью и днём размещения:', data['exposition_weekday'].corr(data['last_price']))\n",
    "display('Коэффициент корреляции между стоимостью и месяцем размещения:', data['exposition_month'].corr(data['last_price']))\n",
    "display('Коэффициент корреляции между стоимостью и годом размещения:', data['exposition_year'].corr(data['last_price']))"
   ]
  },
  {
   "cell_type": "markdown",
   "metadata": {},
   "source": [
    "Стоимость имеет наибольшую положительную корреляцию с общей площадью квартиры (0.66), что означает, что при увеличении общей площади стоимость также увеличивается.\n",
    "<br>\n",
    "<br>\n",
    "Жилая площадь и площадь кухни имеют более слабую положительную корреляцию со стоимостью (0.48 для жилой площади и 0.48 для площади кухни), что означает, что при увеличении жилой площади или площади кухни стоимость также увеличивается, но не так сильно, как в случае с общей площадью.\n",
    "<br>\n",
    "<br>\n",
    "Количество комнат имеет слабую положительную корреляцию со стоимостью (0.35), что означает, что связь между количеством комнат и стоимостью не так сильна.\n",
    "<br>\n",
    "<br>\n",
    "День, месяц и год размещения имеют очень слабую отрицательную корреляцию со стоимостью, что означает, что связь между днем, месяцем и годом размещения и стоимостью практически отсутствует.\n",
    "<br>\n"
   ]
  },
  {
   "cell_type": "code",
   "execution_count": 81,
   "metadata": {},
   "outputs": [
    {
     "data": {
      "text/plain": [
       "<AxesSubplot:xlabel='total_area', ylabel='last_price'>"
      ]
     },
     "execution_count": 81,
     "metadata": {},
     "output_type": "execute_result"
    },
    {
     "data": {
      "image/png": "[encoded data removed]",
      "text/plain": [
       "<Figure size 432x288 with 1 Axes>"
      ]
     },
     "metadata": {
      "needs_background": "light"
     },
     "output_type": "display_data"
    }
   ],
   "source": [
    "# график зависмости цены и жилой площади\n",
    "data.plot(x='total_area', y='last_price', kind='scatter', alpha=0.1)"
   ]
  },
  {
   "cell_type": "code",
   "execution_count": 82,
   "metadata": {},
   "outputs": [
    {
     "data": {
      "text/plain": [
       "<AxesSubplot:xlabel='living_area', ylabel='last_price'>"
      ]
     },
     "execution_count": 82,
     "metadata": {},
     "output_type": "execute_result"
    },
    {
     "data": {
      "image/png": "[encoded data removed]",
      "text/plain": [
       "<Figure size 432x288 with 1 Axes>"
      ]
     },
     "metadata": {
      "needs_background": "light"
     },
     "output_type": "display_data"
    }
   ],
   "source": [
    "# график зависмости цены и жилой площади\n",
    "data.plot(x='living_area', y='last_price', kind='scatter', alpha=0.1)"
   ]
  },
  {
   "cell_type": "code",
   "execution_count": 83,
   "metadata": {},
   "outputs": [
    {
     "data": {
      "text/plain": [
       "<AxesSubplot:xlabel='kitchen_area', ylabel='last_price'>"
      ]
     },
     "execution_count": 83,
     "metadata": {},
     "output_type": "execute_result"
    },
    {
     "data": {
      "image/png": "[encoded data removed]",
      "text/plain": [
       "<Figure size 432x288 with 1 Axes>"
      ]
     },
     "metadata": {
      "needs_background": "light"
     },
     "output_type": "display_data"
    }
   ],
   "source": [
    "# график зависмости цены и площади кухни\n",
    "data.plot(x='kitchen_area', y='last_price', kind='scatter', alpha=0.1)"
   ]
  },
  {
   "cell_type": "markdown",
   "metadata": {},
   "source": [
    "<div class=\"alert alert-block alert-danger\">✍\n",
    "    \n",
    "\n",
    "__Комментарий от ревьюера №1__\n",
    "\n",
    "Отсутствует решение по кол-ву комнат\n",
    "</div>"
   ]
  },
  {
   "cell_type": "markdown",
   "metadata": {},
   "source": [
    "<div class=\"alert alert-info\"> <b>Комментарии студента №1:</b> Упс, пропустила – подготовила код и недоделала, исправляюсь :).</div>"
   ]
  },
  {
   "cell_type": "code",
   "execution_count": 84,
   "metadata": {},
   "outputs": [
    {
     "data": {
      "text/html": [
       "<div>\n",
       "<style scoped>\n",
       "    .dataframe tbody tr th:only-of-type {\n",
       "        vertical-align: middle;\n",
       "    }\n",
       "\n",
       "    .dataframe tbody tr th {\n",
       "        vertical-align: top;\n",
       "    }\n",
       "\n",
       "    .dataframe thead th {\n",
       "        text-align: right;\n",
       "    }\n",
       "</style>\n",
       "<table border=\"1\" class=\"dataframe\">\n",
       "  <thead>\n",
       "    <tr style=\"text-align: right;\">\n",
       "      <th></th>\n",
       "      <th>last_price</th>\n",
       "    </tr>\n",
       "    <tr>\n",
       "      <th>rooms</th>\n",
       "      <th></th>\n",
       "    </tr>\n",
       "  </thead>\n",
       "  <tbody>\n",
       "    <tr>\n",
       "      <th>0</th>\n",
       "      <td>3100000</td>\n",
       "    </tr>\n",
       "    <tr>\n",
       "      <th>1</th>\n",
       "      <td>3697000</td>\n",
       "    </tr>\n",
       "    <tr>\n",
       "      <th>2</th>\n",
       "      <td>4900000</td>\n",
       "    </tr>\n",
       "    <tr>\n",
       "      <th>3</th>\n",
       "      <td>6294500</td>\n",
       "    </tr>\n",
       "    <tr>\n",
       "      <th>4</th>\n",
       "      <td>9000000</td>\n",
       "    </tr>\n",
       "    <tr>\n",
       "      <th>5</th>\n",
       "      <td>12530000</td>\n",
       "    </tr>\n",
       "    <tr>\n",
       "      <th>6</th>\n",
       "      <td>13351000</td>\n",
       "    </tr>\n",
       "    <tr>\n",
       "      <th>7</th>\n",
       "      <td>24500000</td>\n",
       "    </tr>\n",
       "    <tr>\n",
       "      <th>8</th>\n",
       "      <td>19145000</td>\n",
       "    </tr>\n",
       "    <tr>\n",
       "      <th>9</th>\n",
       "      <td>17000000</td>\n",
       "    </tr>\n",
       "  </tbody>\n",
       "</table>\n",
       "</div>"
      ],
      "text/plain": [
       "       last_price\n",
       "rooms            \n",
       "0         3100000\n",
       "1         3697000\n",
       "2         4900000\n",
       "3         6294500\n",
       "4         9000000\n",
       "5        12530000\n",
       "6        13351000\n",
       "7        24500000\n",
       "8        19145000\n",
       "9        17000000"
      ]
     },
     "execution_count": 84,
     "metadata": {},
     "output_type": "execute_result"
    }
   ],
   "source": [
    "# выведем pivot table для цены и количеством комнат\n",
    "data.pivot_table(index='rooms', values='last_price', aggfunc='median')"
   ]
  },
  {
   "cell_type": "code",
   "execution_count": 85,
   "metadata": {},
   "outputs": [
    {
     "data": {
      "text/plain": [
       "<AxesSubplot:title={'center':'стоимость'}, xlabel='rooms'>"
      ]
     },
     "execution_count": 85,
     "metadata": {},
     "output_type": "execute_result"
    },
    {
     "data": {
      "image/png": "[encoded data removed]",
      "text/plain": [
       "<Figure size 432x288 with 1 Axes>"
      ]
     },
     "metadata": {
      "needs_background": "light"
     },
     "output_type": "display_data"
    }
   ],
   "source": [
    " # сделаем график зависимости цены и количества комнат\n",
    "\n",
    "data.pivot_table(index='rooms', values='last_price').plot(\n",
    "    y='last_price', kind='bar', title='стоимость')\n"
   ]
  },
  {
   "cell_type": "markdown",
   "metadata": {},
   "source": [
    "Как мы видим из графика цена различается в зависимости от количества комтат – так внезпано в лидеры выбились 7-комнатные квартиры. Хотя чего удивляться, такое колчиство комнат может свидетельствовать об элитном типе жилья."
   ]
  },
  {
   "cell_type": "markdown",
   "metadata": {},
   "source": [
    "<div class=\"alert alert-block alert-danger\">✍\n",
    "    \n",
    "\n",
    "__Комментарий от ревьюера №2__\n",
    "\n",
    "Моя ошибка. Проглядел этот момент на прошлой итерации. Сейчас ты считаешь кол-во объявлений по каждому пункту (кроме площадей и типа этажа). А нам нужна зависимость от конктерной \"метрики\"\n",
    "</div>"
   ]
  },
  {
   "cell_type": "markdown",
   "metadata": {},
   "source": [
    "<div class=\"alert alert-info\"> <b>Комментарии студента №2:</b> Ой, а возможно это и я на первой итерации поменяла после комментария про линейную или столбчатую диаграмму.. уже запуталась и точно не скажу.</div>"
   ]
  },
  {
   "cell_type": "markdown",
   "metadata": {},
   "source": [
    "<div class=\"alert alert-block alert-warning\">📝\n",
    "    \n",
    "\n",
    "__Комментарий от ревьюера №1__\n",
    "\n",
    "Зависимости прерывных данных (тип этажа, месяц, комнаты) лучше рассмотреть на линейной или столбчатой диаграмме (сгруппировав предварительно)\n",
    "</div>"
   ]
  },
  {
   "cell_type": "markdown",
   "metadata": {},
   "source": [
    "<div class=\"alert alert-info\"> <b>Комментарии студента №1:</b> Так и сделаю! Для комнат выбрала линейную, для остальных параметров стобчатую - для разнообразия.</div>"
   ]
  },
  {
   "cell_type": "code",
   "execution_count": 86,
   "metadata": {},
   "outputs": [
    {
     "data": {
      "text/html": [
       "<div>\n",
       "<style scoped>\n",
       "    .dataframe tbody tr th:only-of-type {\n",
       "        vertical-align: middle;\n",
       "    }\n",
       "\n",
       "    .dataframe tbody tr th {\n",
       "        vertical-align: top;\n",
       "    }\n",
       "\n",
       "    .dataframe thead th {\n",
       "        text-align: right;\n",
       "    }\n",
       "</style>\n",
       "<table border=\"1\" class=\"dataframe\">\n",
       "  <thead>\n",
       "    <tr style=\"text-align: right;\">\n",
       "      <th></th>\n",
       "      <th>last_price</th>\n",
       "    </tr>\n",
       "    <tr>\n",
       "      <th>exposition_weekday</th>\n",
       "      <th></th>\n",
       "    </tr>\n",
       "  </thead>\n",
       "  <tbody>\n",
       "    <tr>\n",
       "      <th>0</th>\n",
       "      <td>5000000</td>\n",
       "    </tr>\n",
       "    <tr>\n",
       "      <th>1</th>\n",
       "      <td>5025000</td>\n",
       "    </tr>\n",
       "    <tr>\n",
       "      <th>2</th>\n",
       "      <td>4950000</td>\n",
       "    </tr>\n",
       "    <tr>\n",
       "      <th>3</th>\n",
       "      <td>4900000</td>\n",
       "    </tr>\n",
       "    <tr>\n",
       "      <th>4</th>\n",
       "      <td>4800000</td>\n",
       "    </tr>\n",
       "    <tr>\n",
       "      <th>5</th>\n",
       "      <td>4800000</td>\n",
       "    </tr>\n",
       "    <tr>\n",
       "      <th>6</th>\n",
       "      <td>4770000</td>\n",
       "    </tr>\n",
       "  </tbody>\n",
       "</table>\n",
       "</div>"
      ],
      "text/plain": [
       "                    last_price\n",
       "exposition_weekday            \n",
       "0                      5000000\n",
       "1                      5025000\n",
       "2                      4950000\n",
       "3                      4900000\n",
       "4                      4800000\n",
       "5                      4800000\n",
       "6                      4770000"
      ]
     },
     "execution_count": 86,
     "metadata": {},
     "output_type": "execute_result"
    }
   ],
   "source": [
    "# выведем pivot table для дня размещения и стоимости\n",
    "data.pivot_table(index='exposition_weekday', values='last_price', aggfunc='median')"
   ]
  },
  {
   "cell_type": "code",
   "execution_count": 87,
   "metadata": {},
   "outputs": [
    {
     "data": {
      "text/plain": [
       "<AxesSubplot:title={'center':'стоимость'}, xlabel='exposition_weekday'>"
      ]
     },
     "execution_count": 87,
     "metadata": {},
     "output_type": "execute_result"
    },
    {
     "data": {
      "image/png": "[encoded data removed]",
      "text/plain": [
       "<Figure size 432x288 with 1 Axes>"
      ]
     },
     "metadata": {
      "needs_background": "light"
     },
     "output_type": "display_data"
    }
   ],
   "source": [
    " # сделаем график зависимости дня размещения и стоимости\n",
    "\n",
    "data.pivot_table(index='exposition_weekday', values='last_price').plot(\n",
    "    y='last_price', kind='bar', title='стоимость')"
   ]
  },
  {
   "cell_type": "markdown",
   "metadata": {},
   "source": [
    "Из графика видим – от дня недели размещения объявления цена не зависит!"
   ]
  },
  {
   "cell_type": "code",
   "execution_count": 88,
   "metadata": {},
   "outputs": [
    {
     "data": {
      "text/html": [
       "<div>\n",
       "<style scoped>\n",
       "    .dataframe tbody tr th:only-of-type {\n",
       "        vertical-align: middle;\n",
       "    }\n",
       "\n",
       "    .dataframe tbody tr th {\n",
       "        vertical-align: top;\n",
       "    }\n",
       "\n",
       "    .dataframe thead th {\n",
       "        text-align: right;\n",
       "    }\n",
       "</style>\n",
       "<table border=\"1\" class=\"dataframe\">\n",
       "  <thead>\n",
       "    <tr style=\"text-align: right;\">\n",
       "      <th></th>\n",
       "      <th>last_price</th>\n",
       "    </tr>\n",
       "    <tr>\n",
       "      <th>exposition_month</th>\n",
       "      <th></th>\n",
       "    </tr>\n",
       "  </thead>\n",
       "  <tbody>\n",
       "    <tr>\n",
       "      <th>1</th>\n",
       "      <td>4999500</td>\n",
       "    </tr>\n",
       "    <tr>\n",
       "      <th>2</th>\n",
       "      <td>4990000</td>\n",
       "    </tr>\n",
       "    <tr>\n",
       "      <th>3</th>\n",
       "      <td>4800000</td>\n",
       "    </tr>\n",
       "    <tr>\n",
       "      <th>4</th>\n",
       "      <td>5097500</td>\n",
       "    </tr>\n",
       "    <tr>\n",
       "      <th>5</th>\n",
       "      <td>4846000</td>\n",
       "    </tr>\n",
       "    <tr>\n",
       "      <th>6</th>\n",
       "      <td>4794500</td>\n",
       "    </tr>\n",
       "    <tr>\n",
       "      <th>7</th>\n",
       "      <td>5089500</td>\n",
       "    </tr>\n",
       "    <tr>\n",
       "      <th>8</th>\n",
       "      <td>4990000</td>\n",
       "    </tr>\n",
       "    <tr>\n",
       "      <th>9</th>\n",
       "      <td>4990000</td>\n",
       "    </tr>\n",
       "    <tr>\n",
       "      <th>10</th>\n",
       "      <td>4800000</td>\n",
       "    </tr>\n",
       "    <tr>\n",
       "      <th>11</th>\n",
       "      <td>4950000</td>\n",
       "    </tr>\n",
       "    <tr>\n",
       "      <th>12</th>\n",
       "      <td>5000000</td>\n",
       "    </tr>\n",
       "  </tbody>\n",
       "</table>\n",
       "</div>"
      ],
      "text/plain": [
       "                  last_price\n",
       "exposition_month            \n",
       "1                    4999500\n",
       "2                    4990000\n",
       "3                    4800000\n",
       "4                    5097500\n",
       "5                    4846000\n",
       "6                    4794500\n",
       "7                    5089500\n",
       "8                    4990000\n",
       "9                    4990000\n",
       "10                   4800000\n",
       "11                   4950000\n",
       "12                   5000000"
      ]
     },
     "execution_count": 88,
     "metadata": {},
     "output_type": "execute_result"
    }
   ],
   "source": [
    "# выведем pivot table для месяца размещения и стоимости\n",
    "data.pivot_table(index='exposition_month', values='last_price', aggfunc='median')"
   ]
  },
  {
   "cell_type": "code",
   "execution_count": 89,
   "metadata": {},
   "outputs": [
    {
     "data": {
      "text/plain": [
       "<AxesSubplot:title={'center':'стоимость'}, xlabel='exposition_month'>"
      ]
     },
     "execution_count": 89,
     "metadata": {},
     "output_type": "execute_result"
    },
    {
     "data": {
      "image/png": "[encoded data removed]",
      "text/plain": [
       "<Figure size 432x288 with 1 Axes>"
      ]
     },
     "metadata": {
      "needs_background": "light"
     },
     "output_type": "display_data"
    }
   ],
   "source": [
    "# график зависмости цены и месяца размещения объявления\n",
    "data.pivot_table(index='exposition_month', values='last_price').plot(\n",
    "    y='last_price', kind='bar', title='стоимость')\n"
   ]
  },
  {
   "cell_type": "markdown",
   "metadata": {},
   "source": [
    "Зависимости стоимости квартир от месяца размещения объявления практически не наблюдаем."
   ]
  },
  {
   "cell_type": "code",
   "execution_count": 90,
   "metadata": {},
   "outputs": [
    {
     "data": {
      "text/html": [
       "<div>\n",
       "<style scoped>\n",
       "    .dataframe tbody tr th:only-of-type {\n",
       "        vertical-align: middle;\n",
       "    }\n",
       "\n",
       "    .dataframe tbody tr th {\n",
       "        vertical-align: top;\n",
       "    }\n",
       "\n",
       "    .dataframe thead th {\n",
       "        text-align: right;\n",
       "    }\n",
       "</style>\n",
       "<table border=\"1\" class=\"dataframe\">\n",
       "  <thead>\n",
       "    <tr style=\"text-align: right;\">\n",
       "      <th></th>\n",
       "      <th>last_price</th>\n",
       "    </tr>\n",
       "    <tr>\n",
       "      <th>exposition_year</th>\n",
       "      <th></th>\n",
       "    </tr>\n",
       "  </thead>\n",
       "  <tbody>\n",
       "    <tr>\n",
       "      <th>2014</th>\n",
       "      <td>7640000</td>\n",
       "    </tr>\n",
       "    <tr>\n",
       "      <th>2015</th>\n",
       "      <td>5600000</td>\n",
       "    </tr>\n",
       "    <tr>\n",
       "      <th>2016</th>\n",
       "      <td>4950000</td>\n",
       "    </tr>\n",
       "    <tr>\n",
       "      <th>2017</th>\n",
       "      <td>4800000</td>\n",
       "    </tr>\n",
       "    <tr>\n",
       "      <th>2018</th>\n",
       "      <td>4800000</td>\n",
       "    </tr>\n",
       "    <tr>\n",
       "      <th>2019</th>\n",
       "      <td>5250000</td>\n",
       "    </tr>\n",
       "  </tbody>\n",
       "</table>\n",
       "</div>"
      ],
      "text/plain": [
       "                 last_price\n",
       "exposition_year            \n",
       "2014                7640000\n",
       "2015                5600000\n",
       "2016                4950000\n",
       "2017                4800000\n",
       "2018                4800000\n",
       "2019                5250000"
      ]
     },
     "execution_count": 90,
     "metadata": {},
     "output_type": "execute_result"
    }
   ],
   "source": [
    "# выведем pivot table для года размещения и стоимости\n",
    "data.pivot_table(index='exposition_year', values='last_price', aggfunc='median')"
   ]
  },
  {
   "cell_type": "code",
   "execution_count": 91,
   "metadata": {},
   "outputs": [
    {
     "data": {
      "text/plain": [
       "<AxesSubplot:title={'center':'стоимость'}, xlabel='exposition_year'>"
      ]
     },
     "execution_count": 91,
     "metadata": {},
     "output_type": "execute_result"
    },
    {
     "data": {
      "image/png": "[encoded data removed]",
      "text/plain": [
       "<Figure size 432x288 with 1 Axes>"
      ]
     },
     "metadata": {
      "needs_background": "light"
     },
     "output_type": "display_data"
    }
   ],
   "source": [
    "# график зависмости цены и года размещения объявления\n",
    "data.pivot_table(index='exposition_year', values='last_price').plot(\n",
    "    y='last_price', kind='bar', title='стоимость')"
   ]
  },
  {
   "cell_type": "markdown",
   "metadata": {},
   "source": [
    "Зависимость от года публикации объявления небольшая."
   ]
  },
  {
   "cell_type": "markdown",
   "metadata": {},
   "source": [
    "<div class=\"alert alert-block alert-success\">✔️\n",
    "    \n",
    "\n",
    "__Комментарий от ревьюера №3__\n",
    "\n",
    "Отличный инсайд для заказчика) Молодец\n",
    "</div>"
   ]
  },
  {
   "cell_type": "code",
   "execution_count": 92,
   "metadata": {},
   "outputs": [
    {
     "data": {
      "text/html": [
       "<div>\n",
       "<style scoped>\n",
       "    .dataframe tbody tr th:only-of-type {\n",
       "        vertical-align: middle;\n",
       "    }\n",
       "\n",
       "    .dataframe tbody tr th {\n",
       "        vertical-align: top;\n",
       "    }\n",
       "\n",
       "    .dataframe thead th {\n",
       "        text-align: right;\n",
       "    }\n",
       "</style>\n",
       "<table border=\"1\" class=\"dataframe\">\n",
       "  <thead>\n",
       "    <tr style=\"text-align: right;\">\n",
       "      <th></th>\n",
       "      <th>last_price</th>\n",
       "    </tr>\n",
       "    <tr>\n",
       "      <th>floor_type</th>\n",
       "      <th></th>\n",
       "    </tr>\n",
       "  </thead>\n",
       "  <tbody>\n",
       "    <tr>\n",
       "      <th>другой</th>\n",
       "      <td>5120000</td>\n",
       "    </tr>\n",
       "    <tr>\n",
       "      <th>первый</th>\n",
       "      <td>4100000</td>\n",
       "    </tr>\n",
       "    <tr>\n",
       "      <th>последний</th>\n",
       "      <td>4540000</td>\n",
       "    </tr>\n",
       "  </tbody>\n",
       "</table>\n",
       "</div>"
      ],
      "text/plain": [
       "            last_price\n",
       "floor_type            \n",
       "другой         5120000\n",
       "первый         4100000\n",
       "последний      4540000"
      ]
     },
     "execution_count": 92,
     "metadata": {},
     "output_type": "execute_result"
    }
   ],
   "source": [
    "# выведем pivot table для типа этажа\n",
    "data.pivot_table(index='floor_type', values='last_price', aggfunc='median')\n"
   ]
  },
  {
   "cell_type": "code",
   "execution_count": 93,
   "metadata": {},
   "outputs": [
    {
     "data": {
      "text/plain": [
       "<AxesSubplot:title={'center':'стоимость'}, xlabel='floor_type'>"
      ]
     },
     "execution_count": 93,
     "metadata": {},
     "output_type": "execute_result"
    },
    {
     "data": {
      "image/png": "[encoded data removed]",
      "text/plain": [
       "<Figure size 432x288 with 1 Axes>"
      ]
     },
     "metadata": {
      "needs_background": "light"
     },
     "output_type": "display_data"
    }
   ],
   "source": [
    "# сделаем график для получившейся pivot table\n",
    "data.pivot_table(index='floor_type', values='last_price').plot(\n",
    "    y='last_price', kind='bar', title='стоимость')\n"
   ]
  },
  {
   "cell_type": "markdown",
   "metadata": {},
   "source": [
    "Зависимости цены от типа этажа почти нет. "
   ]
  },
  {
   "cell_type": "markdown",
   "metadata": {},
   "source": [
    "<div class=\"alert alert-block alert-success\">✔️\n",
    "    \n",
    "\n",
    "__Комментарий от ревьюера №1__\n",
    "\n",
    "Как в песне, \"первый и последний этаж не предлагать\". Традиционно, квартиры на первом и последнем этажах считаются самыми неудобными для жизни и это отражается на их стоимости.\n",
    "</div>"
   ]
  },
  {
   "cell_type": "markdown",
   "metadata": {},
   "source": [
    "Зависимость цены от параметров распределилась следующим образом (по убыванию):\n",
    "<br>- общая площадь квартир;\n",
    "<br>- площадь кухни;\n",
    "<br>- жилая площадь;\n",
    "<br>- количество комнат.\n",
    "<br>\n",
    "<br>\n",
    "А вот зависимости цены от дня, месяца, года размещения объявления и этажа квартиры – нет."
   ]
  },
  {
   "cell_type": "markdown",
   "metadata": {},
   "source": [
    "**Средняя цена одного квадратного метра в 10 населённых пунктах**\n",
    "<br>\n",
    "<br>\n",
    "Найдём топ-10 локаций с самым большим количеством объявлений"
   ]
  },
  {
   "cell_type": "code",
   "execution_count": 94,
   "metadata": {},
   "outputs": [
    {
     "data": {
      "text/plain": [
       "Санкт-Петербург    9509\n",
       "Всеволожск          255\n",
       "Пушкин              223\n",
       "Колпино             193\n",
       "посёлок Шушары      189\n",
       "посёлок Мурино      163\n",
       "Гатчина             149\n",
       "Петергоф            142\n",
       "Сестрорецк          122\n",
       "Красное Село        107\n",
       "Name: locality_name, dtype: int64"
      ]
     },
     "metadata": {},
     "output_type": "display_data"
    }
   ],
   "source": [
    "localities_top_10 = data['locality_name'].value_counts().head(10)\n",
    "display(localities_top_10)"
   ]
  },
  {
   "cell_type": "markdown",
   "metadata": {},
   "source": [
    "Больше всего объявлений предсказуемо в Санкт-Петербурге. Теперь посчитаем среднюю цену за квадратный метр в этих городах."
   ]
  },
  {
   "cell_type": "code",
   "execution_count": 95,
   "metadata": {},
   "outputs": [
    {
     "data": {
      "text/html": [
       "<div>\n",
       "<style scoped>\n",
       "    .dataframe tbody tr th:only-of-type {\n",
       "        vertical-align: middle;\n",
       "    }\n",
       "\n",
       "    .dataframe tbody tr th {\n",
       "        vertical-align: top;\n",
       "    }\n",
       "\n",
       "    .dataframe thead th {\n",
       "        text-align: right;\n",
       "    }\n",
       "</style>\n",
       "<table border=\"1\" class=\"dataframe\">\n",
       "  <thead>\n",
       "    <tr style=\"text-align: right;\">\n",
       "      <th></th>\n",
       "      <th>price_sqm</th>\n",
       "    </tr>\n",
       "    <tr>\n",
       "      <th>locality_name</th>\n",
       "      <th></th>\n",
       "    </tr>\n",
       "  </thead>\n",
       "  <tbody>\n",
       "    <tr>\n",
       "      <th>Санкт-Петербург</th>\n",
       "      <td>114390</td>\n",
       "    </tr>\n",
       "    <tr>\n",
       "      <th>Пушкин</th>\n",
       "      <td>103661</td>\n",
       "    </tr>\n",
       "    <tr>\n",
       "      <th>Сестрорецк</th>\n",
       "      <td>101785</td>\n",
       "    </tr>\n",
       "    <tr>\n",
       "      <th>Петергоф</th>\n",
       "      <td>85721</td>\n",
       "    </tr>\n",
       "    <tr>\n",
       "      <th>посёлок Мурино</th>\n",
       "      <td>84067</td>\n",
       "    </tr>\n",
       "    <tr>\n",
       "      <th>посёлок Шушары</th>\n",
       "      <td>77694</td>\n",
       "    </tr>\n",
       "    <tr>\n",
       "      <th>Колпино</th>\n",
       "      <td>75557</td>\n",
       "    </tr>\n",
       "    <tr>\n",
       "      <th>Красное Село</th>\n",
       "      <td>72593</td>\n",
       "    </tr>\n",
       "    <tr>\n",
       "      <th>Гатчина</th>\n",
       "      <td>69992</td>\n",
       "    </tr>\n",
       "    <tr>\n",
       "      <th>Всеволожск</th>\n",
       "      <td>67177</td>\n",
       "    </tr>\n",
       "  </tbody>\n",
       "</table>\n",
       "</div>"
      ],
      "text/plain": [
       "                 price_sqm\n",
       "locality_name             \n",
       "Санкт-Петербург     114390\n",
       "Пушкин              103661\n",
       "Сестрорецк          101785\n",
       "Петергоф             85721\n",
       "посёлок Мурино       84067\n",
       "посёлок Шушары       77694\n",
       "Колпино              75557\n",
       "Красное Село         72593\n",
       "Гатчина              69992\n",
       "Всеволожск           67177"
      ]
     },
     "execution_count": 95,
     "metadata": {},
     "output_type": "execute_result"
    }
   ],
   "source": [
    "localities_top_10_price = data.query('locality_name in @localities_top_10.index').pivot_table(index='locality_name', values='price_sqm')\n",
    "localities_top_10_price = localities_top_10_price.astype(int)\n",
    "localities_top_10_price.sort_values('price_sqm', ascending=False)\n"
   ]
  },
  {
   "cell_type": "markdown",
   "metadata": {},
   "source": [
    "Самая высокая стоимость за квадратный метр ожидаемо в Санкт-Петербурге, самая низкая – во Всеволожске."
   ]
  },
  {
   "cell_type": "markdown",
   "metadata": {},
   "source": [
    "<div class=\"alert alert-block alert-warning\">📝\n",
    "    \n",
    "\n",
    "__Комментарий от ревьюера №1__\n",
    "\n",
    "Смотри, как можно в 1 строку:\n",
    "</div>"
   ]
  },
  {
   "cell_type": "code",
   "execution_count": 96,
   "metadata": {},
   "outputs": [
    {
     "data": {
      "text/html": [
       "<div>\n",
       "<style scoped>\n",
       "    .dataframe tbody tr th:only-of-type {\n",
       "        vertical-align: middle;\n",
       "    }\n",
       "\n",
       "    .dataframe tbody tr th {\n",
       "        vertical-align: top;\n",
       "    }\n",
       "\n",
       "    .dataframe thead th {\n",
       "        text-align: right;\n",
       "    }\n",
       "</style>\n",
       "<table border=\"1\" class=\"dataframe\">\n",
       "  <thead>\n",
       "    <tr style=\"text-align: right;\">\n",
       "      <th></th>\n",
       "      <th>balcony</th>\n",
       "      <th>last_price</th>\n",
       "    </tr>\n",
       "    <tr>\n",
       "      <th>locality_name</th>\n",
       "      <th></th>\n",
       "      <th></th>\n",
       "    </tr>\n",
       "  </thead>\n",
       "  <tbody>\n",
       "    <tr>\n",
       "      <th>Санкт-Петербург</th>\n",
       "      <td>9509</td>\n",
       "      <td>5700000</td>\n",
       "    </tr>\n",
       "    <tr>\n",
       "      <th>Всеволожск</th>\n",
       "      <td>255</td>\n",
       "      <td>3600000</td>\n",
       "    </tr>\n",
       "    <tr>\n",
       "      <th>Пушкин</th>\n",
       "      <td>223</td>\n",
       "      <td>5194638</td>\n",
       "    </tr>\n",
       "    <tr>\n",
       "      <th>Колпино</th>\n",
       "      <td>193</td>\n",
       "      <td>3800000</td>\n",
       "    </tr>\n",
       "    <tr>\n",
       "      <th>посёлок Шушары</th>\n",
       "      <td>189</td>\n",
       "      <td>4160000</td>\n",
       "    </tr>\n",
       "    <tr>\n",
       "      <th>посёлок Мурино</th>\n",
       "      <td>163</td>\n",
       "      <td>3990000</td>\n",
       "    </tr>\n",
       "    <tr>\n",
       "      <th>Гатчина</th>\n",
       "      <td>149</td>\n",
       "      <td>3300000</td>\n",
       "    </tr>\n",
       "    <tr>\n",
       "      <th>Петергоф</th>\n",
       "      <td>142</td>\n",
       "      <td>3775000</td>\n",
       "    </tr>\n",
       "    <tr>\n",
       "      <th>Сестрорецк</th>\n",
       "      <td>122</td>\n",
       "      <td>5800000</td>\n",
       "    </tr>\n",
       "    <tr>\n",
       "      <th>Красное Село</th>\n",
       "      <td>107</td>\n",
       "      <td>3400000</td>\n",
       "    </tr>\n",
       "  </tbody>\n",
       "</table>\n",
       "</div>"
      ],
      "text/plain": [
       "                 balcony  last_price\n",
       "locality_name                       \n",
       "Санкт-Петербург     9509     5700000\n",
       "Всеволожск           255     3600000\n",
       "Пушкин               223     5194638\n",
       "Колпино              193     3800000\n",
       "посёлок Шушары       189     4160000\n",
       "посёлок Мурино       163     3990000\n",
       "Гатчина              149     3300000\n",
       "Петергоф             142     3775000\n",
       "Сестрорецк           122     5800000\n",
       "Красное Село         107     3400000"
      ]
     },
     "execution_count": 96,
     "metadata": {},
     "output_type": "execute_result"
    }
   ],
   "source": [
    "data.groupby('locality_name').agg({'balcony':'count', 'last_price':'median'}) \\\n",
    "    .sort_values(by = 'balcony', ascending = False) \\\n",
    "    .head(10)"
   ]
  },
  {
   "cell_type": "markdown",
   "metadata": {},
   "source": [
    "<div class=\"alert alert-info\"> <b>Комментарии студента №1:</b> Точно! Спасибо :).</div>"
   ]
  },
  {
   "cell_type": "markdown",
   "metadata": {},
   "source": [
    "**Cтоимость квартир Санкт-Петербурга в зависимости от расстояния до центра города**\n"
   ]
  },
  {
   "cell_type": "code",
   "execution_count": 97,
   "metadata": {},
   "outputs": [
    {
     "data": {
      "image/png": "[encoded data removed]",
      "text/plain": [
       "<Figure size 864x432 with 1 Axes>"
      ]
     },
     "metadata": {
      "needs_background": "light"
     },
     "output_type": "display_data"
    }
   ],
   "source": [
    "\n",
    "data_spb = data.query('locality_name == \"Санкт-Петербург\"')\n",
    "data_spb_km = data_spb.groupby('distance_center')['last_price'].mean()\n",
    "\n",
    "# визуализируем в виде графика\n",
    "data_spb_km.plot(style='o-', figsize=(12, 6), grid=True)\n",
    "plt.title('Зависимость стоимости объектов от расстояния до центра Санкт-Петербурга', fontsize=16)\n",
    "plt.xlabel('Расстояние до центра города', fontsize=14)\n",
    "plt.ylabel('Средняя стоимость', fontsize=14)\n",
    "plt.show()\n",
    "\n"
   ]
  },
  {
   "cell_type": "markdown",
   "metadata": {},
   "source": [
    "<div class=\"alert alert-block alert-success\">✔️\n",
    "    \n",
    "\n",
    "__Комментарий от ревьюера №1__\n",
    "\n",
    "Отличный и наглядный график 👍\n",
    "    \n",
    "Здорово, когда он подписан. Так быстрее понять о чем идёт речь на нём.\n",
    "    \n",
    "</div>"
   ]
  },
  {
   "cell_type": "markdown",
   "metadata": {},
   "source": [
    "Пик самой высокой стоимости квартир сконцентрировался в максимальной близости к центру города, что вполне логично. Также наблюдается некий всплеск на расстоянии около 27 км. Как раз примерно на таком расстоянии находится г.Пушкин, один из ближаших пригородов, со вторым показателем стоимости недвижимости после Петербурга. Примерно такая же цена соотвествует объектам, находящимся в 8 км от центра."
   ]
  },
  {
   "cell_type": "markdown",
   "metadata": {},
   "source": [
    "### Общий вывод"
   ]
  },
  {
   "cell_type": "markdown",
   "metadata": {},
   "source": [
    "1. Получив данные предоставленной таблицы, мы сразу изучили общие данные, получили статистические характеристики и информацию о пропусках. Визуально оценить информацию помогли гистограммы, выведенные по всем столбцам датафрейма. \n",
    "2. На шаге предобработки, мы избавились от пропусков – заполнили где возможно отсутствующие значения нулями, медианными значениями или удалили строки, если их количество было не критичным и их отсутствие не исказило бы общую картину. При анализе пропусков сделали выводы, что некоторые пропуски заполнить невозможно, а возникли некоторые из них видимо из-за технического сбоя автоматизированного заполнения из картографических данных.\n",
    "Для возможности дальнейшей корректной работы и для экономии памяти изменили тип данных у нескольких столбцов.\n",
    "3. Поработав с уникальными значениями поняли, что унификация некоторых парметров сильно важна, например, буква ё в или похожие но немного разные названия одних и тех же населённых пунктов.\n",
    "4. Поработали с редкими и выбивающимися значениями. Такие данные сильно вляют на средние, медианные значения, искажают графики и могут увести аналитика к ошибочным выводам.\n",
    "5. Добавление некоторых стобцов в таблицу в дальнейшем помогло исследовтельскому анализу данных, построению графиков.\n",
    "6. Проведя анализ архива объявлений о продаже квартир в Санкт-Петербурге и соседних населённых пунктах, можно сделать следующие выводы:\n",
    "- стоимость зависит от общая площадь квартир, площади кухни, жилой площади, в меньшей степени от количества комнат и не имеет зависимости от дня размещения объявления и этажа;\n",
    "- самые дорогие квартиры в Санкт-Петербурге, далее идут ближайшие пригороды. Замыкает топ-десятку населённых пунктов по продажам – цена во Всеволожске;\n",
    "- пик самой высокой стоимости квартир сконцентрирован в максимальной близости к центру города. Наблюдается всплеск на расстоянии около 27 км. Такая же цена соответствует объектам, находящимся в 8 км от центра."
   ]
  },
  {
   "cell_type": "markdown",
   "metadata": {},
   "source": [
    "<div class=\"alert alert-block alert-success\">✔️\n",
    "    \n",
    "\n",
    "__Комментарий от ревьюера №1__\n",
    "\n",
    "Шикарный вывод и рекомендации для бизнеса. Кстати, хорошей практикой является написание в общем выводе всех твоих действий (кратко) по проекту. Ведь вывод раскрывает для заказчика всю твою проделанную работу и за что он платит деньги, даже если ему не интересен весь процесс исследования, то в отчёт он заглянет обязательно. Ты молодец!\n",
    "</div>"
   ]
  },
  {
   "cell_type": "markdown",
   "metadata": {},
   "source": []
  },
  {
   "cell_type": "markdown",
   "metadata": {},
   "source": []
  },
  {
   "cell_type": "markdown",
   "metadata": {},
   "source": [
    "<div class=\"alert alert-block alert-warning\">📝\n",
    "Комментарий от ревьюера №1 </b> \n",
    "\n",
    "\n",
    "\n",
    "У тебя получилась очень сильная и хорошая работа. Здорово, что расчеты ты сопровождаешь иллюстрациями, а так же не забываешь про комментарии, твой проект интересно проверять. \n",
    "\n",
    "---\n",
    "\n",
    "Нужно поправить:\n",
    "\n",
    "1) Шаг 4.1 (день, месяц)\n",
    "\n",
    "2) Шаг 4.3 (кол-во комнат)\n",
    "\n",
    "3) После каждого раздела / графика (или серии тестов) писать вывод по полученным данным с учетом поставленной бизнес задачи\n",
    "\n",
    "4) Подправить выводы, после изменений\n",
    "\n",
    "----\n",
    "\n",
    "\n",
    "Если у тебя будут какие-то вопросы по моим комментариям - обязательно пиши! Буду ждать работу на повторное ревью :)</div>"
   ]
  },
  {
   "cell_type": "markdown",
   "metadata": {},
   "source": [
    "<div class=\"alert alert-info\"> <b>Комментарии студента №1:</b> Александр, спасибо большое за такую высокую \n",
    "оценку! Проект объёмный, всё-таки не удалось избежать некоторых пропусков описаний и выводов (а где-то наоборот возможно перемудрила). \n",
    "\n",
    "Мне было интересно и главное - полезно читать твои комментарии. Кое-что отметила себе ещё раз повторить, ссылочки сохранила на изучить!\n",
    "\n",
    "Постаралась учесть комментарии и скорректировать в соответсвии с ними. Фух, надеюсь ничего не упустила критично важного! Еще раз спасибо!</div>"
   ]
  },
  {
   "cell_type": "markdown",
   "metadata": {},
   "source": [
    "<div class=\"alert alert-block alert-warning\">📝\n",
    "Комментарий от ревьюера №2 </b> \n",
    "\n",
    "\n",
    "\n",
    "Дарья, у тебя отличная работа. Упустил один момент я((( Давай его поправим\n",
    "\n",
    "---\n",
    "\n",
    "Нужно поправить:\n",
    "\n",
    "\n",
    "1) Шаг 4.3 (построить графики зависимостей. День, месяц, год, кол-во комнат)\n",
    "\n",
    "2) Подправить выводы, после изменений\n",
    "\n",
    "----\n",
    "\n",
    "\n",
    "Если у тебя будут какие-то вопросы по моим комментариям - обязательно пиши! Буду ждать работу на повторное ревью :)</div>"
   ]
  },
  {
   "cell_type": "markdown",
   "metadata": {},
   "source": [
    "<div class=\"alert alert-info\"> <b>Комментарии студента №2:</b> Александр, вроде бы \"домучала\" шаг 4.3, надеюсь сейчас там ок или близко к тому 🤞 У меня вопросов в целом нет. Словила себя на мысли, что какие-то соображения по коду и графикам благодаря твоим комментариям лучше уложились в голову (во всяком случае надеюсь!) Спасибо:) </div>"
   ]
  },
  {
   "cell_type": "markdown",
   "metadata": {},
   "source": [
    "<div style=\"border:solid blue 3px; padding: 20px\">\n",
    "<div class=\"alert alert-block alert-success\">✔️\n",
    "    \n",
    "\n",
    "__Коментарий от ревьюера №3__\n",
    "\n",
    "\n",
    "Дарья, спасибо тебе за обратную связь и правки ^^    \n",
    "    \n",
    "---    \n",
    "    \n",
    "В остальном всё чудно😊. Твой проект так и просится на github =)   \n",
    "    \n",
    "Поздравляю с успешным завершением проекта 😊👍\n",
    "И желаю успехов в новых работах 😊\n",
    "    \n",
    "---\n",
    "    \n",
    "От себя хочу порекомендовать тебе отличную книгу про язык Python. Она очень классная (можно купить как новую, так и на Авито попадается. Вот ссылка на pdf этой книги)\n",
    "    \n",
    "https://monster-book.com/avtomatizaciya-zadach-s-python\n",
    "</div>"
   ]
  },
  {
   "cell_type": "markdown",
   "metadata": {},
   "source": [
    "**Чек-лист готовности проекта**\n",
    "\n",
    "Поставьте 'x' в выполненных пунктах. Далее нажмите Shift+Enter."
   ]
  },
  {
   "cell_type": "markdown",
   "metadata": {},
   "source": [
    "- [x]  открыт файл\n",
    "- [x]  файлы изучены (выведены первые строки, метод `info()`, гистограммы и т.д.)\n",
    "- [x]  определены пропущенные значения\n",
    "- [x]  заполнены пропущенные значения там, где это возможно\n",
    "- [x]  есть пояснение, какие пропущенные значения обнаружены\n",
    "- [x]  изменены типы данных\n",
    "- [x]  есть пояснение, в каких столбцах изменены типы и почему\n",
    "- [x]  устранены неявные дубликаты в названиях населённых пунктов\n",
    "- [x]  устранены редкие и выбивающиеся значения (аномалии) во всех столбцах\n",
    "- [x]  посчитано и добавлено в таблицу: цена одного квадратного метра\n",
    "- [x]  посчитано и добавлено в таблицу: день публикации объявления (0 - понедельник, 1 - вторник и т.д.)\n",
    "- [x]  посчитано и добавлено в таблицу: месяц публикации объявления\n",
    "- [x]  посчитано и добавлено в таблицу: год публикации объявления\n",
    "- [x]  посчитано и добавлено в таблицу: тип этажа квартиры (значения — «первый», «последний», «другой»)\n",
    "- [x]  посчитано и добавлено в таблицу: расстояние в км до центра города\n",
    "- [x]  изучены и описаны следующие параметры:\n",
    "        - общая площадь;\n",
    "        - жилая площадь;\n",
    "        - площадь кухни;\n",
    "        - цена объекта;\n",
    "        - количество комнат;\n",
    "        - высота потолков;\n",
    "        - этаж квартиры;\n",
    "        - тип этажа квартиры («первый», «последний», «другой»);\n",
    "        - общее количество этажей в доме;\n",
    "        - расстояние до центра города в метрах;\n",
    "        - расстояние до ближайшего аэропорта;\n",
    "        - расстояние до ближайшего парка;\n",
    "        - день и месяц публикации объявления\n",
    "- [x]  построены гистограммы для каждого параметра\n",
    "- [x]  выполнено задание: \"Изучите, как быстро продавались квартиры (столбец days_exposition). Этот параметр показывает, сколько дней «висело» каждое объявление.\n",
    "    - Постройте гистограмму.\n",
    "    - Посчитайте среднее и медиану.\n",
    "    - В ячейке типа markdown опишите, сколько обычно занимает продажа. Какие продажи можно считать быстрыми, а какие — необычно долгими?\"\n",
    "- [x]  выполнено задание: \"Какие факторы больше всего влияют на общую (полную) стоимость объекта? Постройте графики, которые покажут зависимость цены от указанных ниже параметров. Для подготовки данных перед визуализацией вы можете использовать сводные таблицы.\"\n",
    "        - общей площади;\n",
    "        - жилой площади;\n",
    "        - площади кухни;\n",
    "        - количество комнат;\n",
    "        - типа этажа, на котором расположена квартира (первый, последний, другой);\n",
    "        - даты размещения (день недели, месяц, год);\n",
    "- [x]  выполнено задание: \"Посчитайте среднюю цену одного квадратного метра в 10 населённых пунктах с наибольшим числом объявлений. Выделите населённые пункты с самой высокой и низкой стоимостью квадратного метра. Эти данные можно найти по имени в столбце `locality_name`.\"\n",
    "- [x]  выполнено задание: \"Ранее вы посчитали расстояние до центра в километрах. Теперь выделите квартиры в Санкт-Петербурге с помощью столбца `locality_name` и вычислите среднюю цену каждого километра. Опишите, как стоимость объектов зависит от расстояния до центра города.\"\n",
    "- [x]  в каждом этапе есть промежуточные выводы\n",
    "- [x]  есть общий вывод"
   ]
  }
 ],
 "metadata": {
  "ExecuteTimeLog": [
   {
    "duration": 1339,
    "start_time": "2023-03-20T21:49:05.076Z"
   },
   {
    "duration": 123,
    "start_time": "2023-03-20T21:51:19.661Z"
   },
   {
    "duration": 114,
    "start_time": "2023-03-20T21:51:49.213Z"
   },
   {
    "duration": 112,
    "start_time": "2023-03-20T21:54:41.453Z"
   },
   {
    "duration": 123,
    "start_time": "2023-03-20T21:54:50.613Z"
   },
   {
    "duration": 134,
    "start_time": "2023-03-20T21:56:27.682Z"
   },
   {
    "duration": 128,
    "start_time": "2023-03-20T21:57:37.504Z"
   },
   {
    "duration": 2703,
    "start_time": "2023-03-20T21:57:50.938Z"
   },
   {
    "duration": 148,
    "start_time": "2023-03-20T21:59:41.664Z"
   },
   {
    "duration": 2175,
    "start_time": "2023-03-20T22:00:58.122Z"
   },
   {
    "duration": 2056,
    "start_time": "2023-03-20T22:01:00.600Z"
   },
   {
    "duration": 151,
    "start_time": "2023-03-20T22:03:02.566Z"
   },
   {
    "duration": 18,
    "start_time": "2023-03-21T20:28:43.677Z"
   },
   {
    "duration": 10,
    "start_time": "2023-03-21T20:29:01.707Z"
   },
   {
    "duration": 18,
    "start_time": "2023-03-21T20:36:53.550Z"
   },
   {
    "duration": 17,
    "start_time": "2023-03-21T20:37:09.010Z"
   },
   {
    "duration": 25,
    "start_time": "2023-03-21T20:37:25.683Z"
   },
   {
    "duration": 52,
    "start_time": "2023-03-23T15:29:54.969Z"
   },
   {
    "duration": 7,
    "start_time": "2023-03-23T15:30:28.909Z"
   },
   {
    "duration": 1115,
    "start_time": "2023-03-23T15:30:48.356Z"
   },
   {
    "duration": 16,
    "start_time": "2023-03-23T15:31:00.036Z"
   },
   {
    "duration": 20,
    "start_time": "2023-03-23T15:31:10.665Z"
   },
   {
    "duration": 15,
    "start_time": "2023-03-23T15:31:24.416Z"
   },
   {
    "duration": 27,
    "start_time": "2023-03-23T19:46:44.745Z"
   },
   {
    "duration": 92,
    "start_time": "2023-03-23T20:02:21.149Z"
   },
   {
    "duration": 70,
    "start_time": "2023-03-23T20:02:30.989Z"
   },
   {
    "duration": 41,
    "start_time": "2023-03-23T20:23:51.498Z"
   },
   {
    "duration": 14,
    "start_time": "2023-03-23T20:24:06.661Z"
   },
   {
    "duration": 16,
    "start_time": "2023-03-23T20:24:08.904Z"
   },
   {
    "duration": 15,
    "start_time": "2023-03-23T20:24:49.891Z"
   },
   {
    "duration": 14,
    "start_time": "2023-03-23T20:24:54.021Z"
   },
   {
    "duration": 26,
    "start_time": "2023-03-23T20:25:46.505Z"
   },
   {
    "duration": 122,
    "start_time": "2023-03-23T20:26:26.529Z"
   },
   {
    "duration": 2481,
    "start_time": "2023-03-23T20:26:26.652Z"
   },
   {
    "duration": 20,
    "start_time": "2023-03-23T20:26:29.135Z"
   },
   {
    "duration": 16,
    "start_time": "2023-03-23T20:26:29.156Z"
   },
   {
    "duration": 30,
    "start_time": "2023-03-23T20:26:29.174Z"
   },
   {
    "duration": 81,
    "start_time": "2023-03-23T20:26:29.206Z"
   },
   {
    "duration": 0,
    "start_time": "2023-03-23T20:26:29.288Z"
   },
   {
    "duration": 23,
    "start_time": "2023-03-23T20:26:58.988Z"
   },
   {
    "duration": 20,
    "start_time": "2023-03-23T20:28:52.445Z"
   },
   {
    "duration": 13,
    "start_time": "2023-03-23T20:30:38.099Z"
   },
   {
    "duration": 21,
    "start_time": "2023-03-23T20:42:13.408Z"
   },
   {
    "duration": 125,
    "start_time": "2023-03-23T20:42:18.209Z"
   },
   {
    "duration": 2088,
    "start_time": "2023-03-23T20:42:18.336Z"
   },
   {
    "duration": 18,
    "start_time": "2023-03-23T20:42:20.426Z"
   },
   {
    "duration": 9,
    "start_time": "2023-03-23T20:42:20.446Z"
   },
   {
    "duration": 25,
    "start_time": "2023-03-23T20:42:20.458Z"
   },
   {
    "duration": 7,
    "start_time": "2023-03-23T20:42:20.517Z"
   },
   {
    "duration": 18,
    "start_time": "2023-03-23T20:42:20.526Z"
   },
   {
    "duration": 20,
    "start_time": "2023-03-23T20:42:20.546Z"
   },
   {
    "duration": 33,
    "start_time": "2023-03-23T20:44:45.063Z"
   },
   {
    "duration": 52,
    "start_time": "2023-03-23T20:45:59.454Z"
   },
   {
    "duration": 7,
    "start_time": "2023-03-23T21:16:02.618Z"
   },
   {
    "duration": 76,
    "start_time": "2023-03-23T21:17:59.507Z"
   },
   {
    "duration": 9,
    "start_time": "2023-03-23T21:18:18.960Z"
   },
   {
    "duration": 11,
    "start_time": "2023-03-23T21:18:29.119Z"
   },
   {
    "duration": 9,
    "start_time": "2023-03-23T21:18:56.263Z"
   },
   {
    "duration": 11,
    "start_time": "2023-03-23T21:18:58.798Z"
   },
   {
    "duration": 10,
    "start_time": "2023-03-23T21:19:51.406Z"
   },
   {
    "duration": 4,
    "start_time": "2023-03-23T21:19:56.106Z"
   },
   {
    "duration": 887,
    "start_time": "2023-03-23T21:19:58.297Z"
   },
   {
    "duration": 2637,
    "start_time": "2023-03-23T21:20:01.728Z"
   },
   {
    "duration": 116,
    "start_time": "2023-03-23T21:20:07.604Z"
   },
   {
    "duration": 1983,
    "start_time": "2023-03-23T21:20:07.722Z"
   },
   {
    "duration": 21,
    "start_time": "2023-03-23T21:20:09.708Z"
   },
   {
    "duration": 10,
    "start_time": "2023-03-23T21:20:09.731Z"
   },
   {
    "duration": 17,
    "start_time": "2023-03-23T21:20:09.742Z"
   },
   {
    "duration": 35,
    "start_time": "2023-03-23T21:20:09.761Z"
   },
   {
    "duration": 47,
    "start_time": "2023-03-23T21:20:09.798Z"
   },
   {
    "duration": 20,
    "start_time": "2023-03-23T21:20:09.847Z"
   },
   {
    "duration": 6,
    "start_time": "2023-03-23T21:20:09.869Z"
   },
   {
    "duration": 27,
    "start_time": "2023-03-23T21:20:09.877Z"
   },
   {
    "duration": 4,
    "start_time": "2023-03-23T21:20:09.918Z"
   },
   {
    "duration": 891,
    "start_time": "2023-03-23T21:20:09.924Z"
   },
   {
    "duration": 0,
    "start_time": "2023-03-23T21:20:10.817Z"
   },
   {
    "duration": 909,
    "start_time": "2023-03-23T21:20:51.526Z"
   },
   {
    "duration": 127,
    "start_time": "2023-03-23T21:21:49.391Z"
   },
   {
    "duration": 2115,
    "start_time": "2023-03-23T21:21:49.520Z"
   },
   {
    "duration": 17,
    "start_time": "2023-03-23T21:21:51.637Z"
   },
   {
    "duration": 10,
    "start_time": "2023-03-23T21:21:51.656Z"
   },
   {
    "duration": 9,
    "start_time": "2023-03-23T21:21:51.668Z"
   },
   {
    "duration": 41,
    "start_time": "2023-03-23T21:21:51.679Z"
   },
   {
    "duration": 40,
    "start_time": "2023-03-23T21:21:51.722Z"
   },
   {
    "duration": 22,
    "start_time": "2023-03-23T21:21:51.764Z"
   },
   {
    "duration": 7,
    "start_time": "2023-03-23T21:21:51.788Z"
   },
   {
    "duration": 29,
    "start_time": "2023-03-23T21:21:51.818Z"
   },
   {
    "duration": 23,
    "start_time": "2023-03-23T21:21:51.848Z"
   },
   {
    "duration": 910,
    "start_time": "2023-03-23T21:21:51.873Z"
   },
   {
    "duration": 0,
    "start_time": "2023-03-23T21:21:52.784Z"
   },
   {
    "duration": 967,
    "start_time": "2023-03-23T21:22:03.414Z"
   },
   {
    "duration": 887,
    "start_time": "2023-03-23T21:22:52.615Z"
   },
   {
    "duration": 898,
    "start_time": "2023-03-23T21:23:19.102Z"
   },
   {
    "duration": 812,
    "start_time": "2023-03-23T21:23:33.510Z"
   },
   {
    "duration": 1080,
    "start_time": "2023-03-23T21:23:43.803Z"
   },
   {
    "duration": 942,
    "start_time": "2023-03-23T21:24:30.244Z"
   },
   {
    "duration": 112,
    "start_time": "2023-03-23T21:35:37.495Z"
   },
   {
    "duration": 2020,
    "start_time": "2023-03-23T21:35:37.610Z"
   },
   {
    "duration": 18,
    "start_time": "2023-03-23T21:35:39.631Z"
   },
   {
    "duration": 10,
    "start_time": "2023-03-23T21:35:39.650Z"
   },
   {
    "duration": 15,
    "start_time": "2023-03-23T21:35:39.662Z"
   },
   {
    "duration": 16,
    "start_time": "2023-03-23T21:35:39.679Z"
   },
   {
    "duration": 63,
    "start_time": "2023-03-23T21:35:39.697Z"
   },
   {
    "duration": 21,
    "start_time": "2023-03-23T21:35:39.762Z"
   },
   {
    "duration": 6,
    "start_time": "2023-03-23T21:35:39.785Z"
   },
   {
    "duration": 3,
    "start_time": "2023-03-23T21:35:39.818Z"
   },
   {
    "duration": 21,
    "start_time": "2023-03-23T21:35:39.823Z"
   },
   {
    "duration": 18,
    "start_time": "2023-03-23T21:35:39.846Z"
   },
   {
    "duration": 887,
    "start_time": "2023-03-23T21:35:39.866Z"
   },
   {
    "duration": 1871,
    "start_time": "2023-03-23T22:15:04.285Z"
   },
   {
    "duration": 94,
    "start_time": "2023-03-23T22:15:25.735Z"
   },
   {
    "duration": 963,
    "start_time": "2023-03-23T22:15:47.253Z"
   },
   {
    "duration": 951,
    "start_time": "2023-03-23T22:17:00.880Z"
   },
   {
    "duration": 1109,
    "start_time": "2023-03-23T22:17:04.302Z"
   },
   {
    "duration": 123,
    "start_time": "2023-03-23T22:17:09.581Z"
   },
   {
    "duration": 2055,
    "start_time": "2023-03-23T22:17:09.706Z"
   },
   {
    "duration": 17,
    "start_time": "2023-03-23T22:17:11.763Z"
   },
   {
    "duration": 10,
    "start_time": "2023-03-23T22:17:11.782Z"
   },
   {
    "duration": 26,
    "start_time": "2023-03-23T22:17:11.795Z"
   },
   {
    "duration": 29,
    "start_time": "2023-03-23T22:17:11.823Z"
   },
   {
    "duration": 43,
    "start_time": "2023-03-23T22:17:11.854Z"
   },
   {
    "duration": 26,
    "start_time": "2023-03-23T22:17:11.899Z"
   },
   {
    "duration": 9,
    "start_time": "2023-03-23T22:17:11.926Z"
   },
   {
    "duration": 23,
    "start_time": "2023-03-23T22:17:11.938Z"
   },
   {
    "duration": 36,
    "start_time": "2023-03-23T22:17:11.963Z"
   },
   {
    "duration": 31,
    "start_time": "2023-03-23T22:17:12.001Z"
   },
   {
    "duration": 1170,
    "start_time": "2023-03-23T22:17:12.034Z"
   },
   {
    "duration": 929,
    "start_time": "2023-03-23T22:18:09.622Z"
   },
   {
    "duration": 871,
    "start_time": "2023-03-23T22:18:27.606Z"
   },
   {
    "duration": 891,
    "start_time": "2023-03-23T22:27:56.732Z"
   },
   {
    "duration": 855,
    "start_time": "2023-03-23T22:28:32.177Z"
   },
   {
    "duration": 917,
    "start_time": "2023-03-23T22:28:41.049Z"
   },
   {
    "duration": 860,
    "start_time": "2023-03-23T22:29:06.598Z"
   },
   {
    "duration": 127,
    "start_time": "2023-03-23T22:29:12.418Z"
   },
   {
    "duration": 1928,
    "start_time": "2023-03-23T22:29:12.548Z"
   },
   {
    "duration": 18,
    "start_time": "2023-03-23T22:29:14.477Z"
   },
   {
    "duration": 24,
    "start_time": "2023-03-23T22:29:14.497Z"
   },
   {
    "duration": 5,
    "start_time": "2023-03-23T22:29:14.524Z"
   },
   {
    "duration": 14,
    "start_time": "2023-03-23T22:29:14.530Z"
   },
   {
    "duration": 32,
    "start_time": "2023-03-23T22:29:14.546Z"
   },
   {
    "duration": 47,
    "start_time": "2023-03-23T22:29:14.580Z"
   },
   {
    "duration": 7,
    "start_time": "2023-03-23T22:29:14.628Z"
   },
   {
    "duration": 12,
    "start_time": "2023-03-23T22:29:14.636Z"
   },
   {
    "duration": 23,
    "start_time": "2023-03-23T22:29:14.649Z"
   },
   {
    "duration": 0,
    "start_time": "2023-03-23T22:29:14.674Z"
   },
   {
    "duration": 0,
    "start_time": "2023-03-23T22:29:14.675Z"
   },
   {
    "duration": 13,
    "start_time": "2023-03-23T22:29:33.177Z"
   },
   {
    "duration": 13,
    "start_time": "2023-03-23T22:29:37.810Z"
   },
   {
    "duration": 120,
    "start_time": "2023-03-23T22:29:41.386Z"
   },
   {
    "duration": 2115,
    "start_time": "2023-03-23T22:29:41.508Z"
   },
   {
    "duration": 17,
    "start_time": "2023-03-23T22:29:43.624Z"
   },
   {
    "duration": 9,
    "start_time": "2023-03-23T22:29:43.643Z"
   },
   {
    "duration": 6,
    "start_time": "2023-03-23T22:29:43.654Z"
   },
   {
    "duration": 13,
    "start_time": "2023-03-23T22:29:43.662Z"
   },
   {
    "duration": 70,
    "start_time": "2023-03-23T22:29:43.677Z"
   },
   {
    "duration": 20,
    "start_time": "2023-03-23T22:29:43.749Z"
   },
   {
    "duration": 7,
    "start_time": "2023-03-23T22:29:43.770Z"
   },
   {
    "duration": 8,
    "start_time": "2023-03-23T22:29:43.778Z"
   },
   {
    "duration": 38,
    "start_time": "2023-03-23T22:29:43.788Z"
   },
   {
    "duration": 16,
    "start_time": "2023-03-23T22:29:43.828Z"
   },
   {
    "duration": 1507,
    "start_time": "2023-03-23T22:29:43.845Z"
   },
   {
    "duration": 2478,
    "start_time": "2023-03-23T22:30:01.762Z"
   },
   {
    "duration": 950,
    "start_time": "2023-03-23T22:30:42.385Z"
   },
   {
    "duration": 963,
    "start_time": "2023-03-23T22:30:53.904Z"
   },
   {
    "duration": 853,
    "start_time": "2023-03-23T22:32:46.747Z"
   },
   {
    "duration": 112,
    "start_time": "2023-03-23T22:32:53.673Z"
   },
   {
    "duration": 2042,
    "start_time": "2023-03-23T22:32:53.787Z"
   },
   {
    "duration": 18,
    "start_time": "2023-03-23T22:32:55.832Z"
   },
   {
    "duration": 9,
    "start_time": "2023-03-23T22:32:55.852Z"
   },
   {
    "duration": 13,
    "start_time": "2023-03-23T22:32:55.864Z"
   },
   {
    "duration": 24,
    "start_time": "2023-03-23T22:32:55.879Z"
   },
   {
    "duration": 39,
    "start_time": "2023-03-23T22:32:55.919Z"
   },
   {
    "duration": 23,
    "start_time": "2023-03-23T22:32:55.959Z"
   },
   {
    "duration": 9,
    "start_time": "2023-03-23T22:32:55.983Z"
   },
   {
    "duration": 30,
    "start_time": "2023-03-23T22:32:55.994Z"
   },
   {
    "duration": 18,
    "start_time": "2023-03-23T22:32:56.026Z"
   },
   {
    "duration": 26,
    "start_time": "2023-03-23T22:32:56.045Z"
   },
   {
    "duration": 19,
    "start_time": "2023-03-23T22:32:56.072Z"
   },
   {
    "duration": 18,
    "start_time": "2023-03-23T22:45:47.144Z"
   },
   {
    "duration": 8,
    "start_time": "2023-03-23T22:45:49.821Z"
   },
   {
    "duration": 114,
    "start_time": "2023-03-23T22:45:54.617Z"
   },
   {
    "duration": 2027,
    "start_time": "2023-03-23T22:45:54.733Z"
   },
   {
    "duration": 17,
    "start_time": "2023-03-23T22:45:56.762Z"
   },
   {
    "duration": 23,
    "start_time": "2023-03-23T22:45:56.781Z"
   },
   {
    "duration": 27,
    "start_time": "2023-03-23T22:45:56.807Z"
   },
   {
    "duration": 21,
    "start_time": "2023-03-23T22:45:56.836Z"
   },
   {
    "duration": 36,
    "start_time": "2023-03-23T22:45:56.859Z"
   },
   {
    "duration": 20,
    "start_time": "2023-03-23T22:45:56.897Z"
   },
   {
    "duration": 23,
    "start_time": "2023-03-23T22:45:56.919Z"
   },
   {
    "duration": 26,
    "start_time": "2023-03-23T22:45:56.944Z"
   },
   {
    "duration": 33,
    "start_time": "2023-03-23T22:45:56.972Z"
   },
   {
    "duration": 32,
    "start_time": "2023-03-23T22:45:57.006Z"
   },
   {
    "duration": 29,
    "start_time": "2023-03-23T22:45:57.040Z"
   },
   {
    "duration": 19,
    "start_time": "2023-03-23T22:45:57.072Z"
   },
   {
    "duration": 112,
    "start_time": "2023-03-23T22:49:14.460Z"
   },
   {
    "duration": 1928,
    "start_time": "2023-03-23T22:49:14.575Z"
   },
   {
    "duration": 20,
    "start_time": "2023-03-23T22:49:16.505Z"
   },
   {
    "duration": 20,
    "start_time": "2023-03-23T22:49:16.526Z"
   },
   {
    "duration": 17,
    "start_time": "2023-03-23T22:49:16.548Z"
   },
   {
    "duration": 22,
    "start_time": "2023-03-23T22:49:16.567Z"
   },
   {
    "duration": 36,
    "start_time": "2023-03-23T22:49:16.591Z"
   },
   {
    "duration": 22,
    "start_time": "2023-03-23T22:49:16.629Z"
   },
   {
    "duration": 7,
    "start_time": "2023-03-23T22:49:16.652Z"
   },
   {
    "duration": 11,
    "start_time": "2023-03-23T22:49:16.660Z"
   },
   {
    "duration": 19,
    "start_time": "2023-03-23T22:49:16.673Z"
   },
   {
    "duration": 24,
    "start_time": "2023-03-23T22:49:16.694Z"
   },
   {
    "duration": 26,
    "start_time": "2023-03-23T22:49:16.720Z"
   },
   {
    "duration": 13,
    "start_time": "2023-03-23T22:49:16.748Z"
   },
   {
    "duration": 117,
    "start_time": "2023-03-23T22:49:27.461Z"
   },
   {
    "duration": 1898,
    "start_time": "2023-03-23T22:49:27.580Z"
   },
   {
    "duration": 16,
    "start_time": "2023-03-23T22:49:29.480Z"
   },
   {
    "duration": 27,
    "start_time": "2023-03-23T22:49:29.498Z"
   },
   {
    "duration": 13,
    "start_time": "2023-03-23T22:49:29.527Z"
   },
   {
    "duration": 18,
    "start_time": "2023-03-23T22:49:29.542Z"
   },
   {
    "duration": 178,
    "start_time": "2023-03-23T22:49:29.562Z"
   },
   {
    "duration": 19,
    "start_time": "2023-03-23T22:49:29.741Z"
   },
   {
    "duration": 7,
    "start_time": "2023-03-23T22:49:29.761Z"
   },
   {
    "duration": 10,
    "start_time": "2023-03-23T22:49:29.769Z"
   },
   {
    "duration": 36,
    "start_time": "2023-03-23T22:49:29.781Z"
   },
   {
    "duration": 15,
    "start_time": "2023-03-23T22:49:29.819Z"
   },
   {
    "duration": 26,
    "start_time": "2023-03-23T22:49:29.836Z"
   },
   {
    "duration": 19,
    "start_time": "2023-03-23T22:49:29.865Z"
   },
   {
    "duration": 113,
    "start_time": "2023-03-23T22:49:51.470Z"
   },
   {
    "duration": 1936,
    "start_time": "2023-03-23T22:49:51.585Z"
   },
   {
    "duration": 18,
    "start_time": "2023-03-23T22:49:53.523Z"
   },
   {
    "duration": 10,
    "start_time": "2023-03-23T22:49:53.543Z"
   },
   {
    "duration": 26,
    "start_time": "2023-03-23T22:49:53.556Z"
   },
   {
    "duration": 37,
    "start_time": "2023-03-23T22:49:53.584Z"
   },
   {
    "duration": 50,
    "start_time": "2023-03-23T22:49:53.623Z"
   },
   {
    "duration": 20,
    "start_time": "2023-03-23T22:49:53.675Z"
   },
   {
    "duration": 23,
    "start_time": "2023-03-23T22:49:53.697Z"
   },
   {
    "duration": 39,
    "start_time": "2023-03-23T22:49:53.721Z"
   },
   {
    "duration": 22,
    "start_time": "2023-03-23T22:49:53.762Z"
   },
   {
    "duration": 36,
    "start_time": "2023-03-23T22:49:53.786Z"
   },
   {
    "duration": 36,
    "start_time": "2023-03-23T22:49:53.824Z"
   },
   {
    "duration": 27,
    "start_time": "2023-03-23T22:49:53.862Z"
   },
   {
    "duration": 125,
    "start_time": "2023-03-23T22:50:01.659Z"
   },
   {
    "duration": 2057,
    "start_time": "2023-03-23T22:50:01.786Z"
   },
   {
    "duration": 17,
    "start_time": "2023-03-23T22:50:03.844Z"
   },
   {
    "duration": 25,
    "start_time": "2023-03-23T22:50:03.862Z"
   },
   {
    "duration": 13,
    "start_time": "2023-03-23T22:50:03.889Z"
   },
   {
    "duration": 24,
    "start_time": "2023-03-23T22:50:03.903Z"
   },
   {
    "duration": 55,
    "start_time": "2023-03-23T22:50:03.928Z"
   },
   {
    "duration": 19,
    "start_time": "2023-03-23T22:50:03.985Z"
   },
   {
    "duration": 7,
    "start_time": "2023-03-23T22:50:04.006Z"
   },
   {
    "duration": 24,
    "start_time": "2023-03-23T22:50:04.014Z"
   },
   {
    "duration": 24,
    "start_time": "2023-03-23T22:50:04.040Z"
   },
   {
    "duration": 23,
    "start_time": "2023-03-23T22:50:04.065Z"
   },
   {
    "duration": 34,
    "start_time": "2023-03-23T22:50:04.090Z"
   },
   {
    "duration": 29,
    "start_time": "2023-03-23T22:50:04.127Z"
   },
   {
    "duration": 120,
    "start_time": "2023-03-23T22:50:25.511Z"
   },
   {
    "duration": 2037,
    "start_time": "2023-03-23T22:50:25.633Z"
   },
   {
    "duration": 16,
    "start_time": "2023-03-23T22:50:27.672Z"
   },
   {
    "duration": 29,
    "start_time": "2023-03-23T22:50:27.690Z"
   },
   {
    "duration": 6,
    "start_time": "2023-03-23T22:50:27.722Z"
   },
   {
    "duration": 14,
    "start_time": "2023-03-23T22:50:27.730Z"
   },
   {
    "duration": 32,
    "start_time": "2023-03-23T22:50:27.746Z"
   },
   {
    "duration": 52,
    "start_time": "2023-03-23T22:50:27.781Z"
   },
   {
    "duration": 8,
    "start_time": "2023-03-23T22:50:27.835Z"
   },
   {
    "duration": 13,
    "start_time": "2023-03-23T22:50:27.845Z"
   },
   {
    "duration": 19,
    "start_time": "2023-03-23T22:50:27.860Z"
   },
   {
    "duration": 6,
    "start_time": "2023-03-23T22:50:27.881Z"
   },
   {
    "duration": 31,
    "start_time": "2023-03-23T22:50:27.888Z"
   },
   {
    "duration": 10,
    "start_time": "2023-03-23T22:50:27.922Z"
   },
   {
    "duration": 114,
    "start_time": "2023-03-23T22:52:47.636Z"
   },
   {
    "duration": 2010,
    "start_time": "2023-03-23T22:52:47.752Z"
   },
   {
    "duration": 17,
    "start_time": "2023-03-23T22:52:49.764Z"
   },
   {
    "duration": 10,
    "start_time": "2023-03-23T22:52:49.782Z"
   },
   {
    "duration": 25,
    "start_time": "2023-03-23T22:52:49.794Z"
   },
   {
    "duration": 13,
    "start_time": "2023-03-23T22:52:49.821Z"
   },
   {
    "duration": 34,
    "start_time": "2023-03-23T22:52:49.836Z"
   },
   {
    "duration": 48,
    "start_time": "2023-03-23T22:52:49.871Z"
   },
   {
    "duration": 7,
    "start_time": "2023-03-23T22:52:49.921Z"
   },
   {
    "duration": 18,
    "start_time": "2023-03-23T22:52:49.930Z"
   },
   {
    "duration": 20,
    "start_time": "2023-03-23T22:52:49.949Z"
   },
   {
    "duration": 103,
    "start_time": "2023-03-23T22:52:49.971Z"
   },
   {
    "duration": 0,
    "start_time": "2023-03-23T22:52:50.076Z"
   },
   {
    "duration": 0,
    "start_time": "2023-03-23T22:52:50.078Z"
   },
   {
    "duration": 27,
    "start_time": "2023-03-23T22:56:47.983Z"
   },
   {
    "duration": 129,
    "start_time": "2023-03-23T22:56:53.008Z"
   },
   {
    "duration": 2026,
    "start_time": "2023-03-23T22:56:53.139Z"
   },
   {
    "duration": 18,
    "start_time": "2023-03-23T22:56:55.167Z"
   },
   {
    "duration": 32,
    "start_time": "2023-03-23T22:56:55.187Z"
   },
   {
    "duration": 5,
    "start_time": "2023-03-23T22:56:55.222Z"
   },
   {
    "duration": 21,
    "start_time": "2023-03-23T22:56:55.228Z"
   },
   {
    "duration": 35,
    "start_time": "2023-03-23T22:56:55.251Z"
   },
   {
    "duration": 35,
    "start_time": "2023-03-23T22:56:55.287Z"
   },
   {
    "duration": 6,
    "start_time": "2023-03-23T22:56:55.324Z"
   },
   {
    "duration": 8,
    "start_time": "2023-03-23T22:56:55.332Z"
   },
   {
    "duration": 17,
    "start_time": "2023-03-23T22:56:55.342Z"
   },
   {
    "duration": 43,
    "start_time": "2023-03-23T22:56:55.360Z"
   },
   {
    "duration": 2,
    "start_time": "2023-03-23T22:56:55.405Z"
   },
   {
    "duration": 9,
    "start_time": "2023-03-23T22:56:55.417Z"
   },
   {
    "duration": 32,
    "start_time": "2023-03-23T22:57:50.101Z"
   },
   {
    "duration": 30,
    "start_time": "2023-03-23T22:58:20.744Z"
   },
   {
    "duration": 111,
    "start_time": "2023-03-23T22:58:23.740Z"
   },
   {
    "duration": 1894,
    "start_time": "2023-03-23T22:58:23.853Z"
   },
   {
    "duration": 17,
    "start_time": "2023-03-23T22:58:25.749Z"
   },
   {
    "duration": 9,
    "start_time": "2023-03-23T22:58:25.767Z"
   },
   {
    "duration": 6,
    "start_time": "2023-03-23T22:58:25.778Z"
   },
   {
    "duration": 40,
    "start_time": "2023-03-23T22:58:25.786Z"
   },
   {
    "duration": 31,
    "start_time": "2023-03-23T22:58:25.828Z"
   },
   {
    "duration": 19,
    "start_time": "2023-03-23T22:58:25.861Z"
   },
   {
    "duration": 6,
    "start_time": "2023-03-23T22:58:25.882Z"
   },
   {
    "duration": 38,
    "start_time": "2023-03-23T22:58:25.890Z"
   },
   {
    "duration": 16,
    "start_time": "2023-03-23T22:58:25.930Z"
   },
   {
    "duration": 46,
    "start_time": "2023-03-23T22:58:25.948Z"
   },
   {
    "duration": 8,
    "start_time": "2023-03-23T22:58:25.996Z"
   },
   {
    "duration": 18,
    "start_time": "2023-03-23T22:58:26.007Z"
   },
   {
    "duration": 58,
    "start_time": "2023-03-24T19:42:28.016Z"
   },
   {
    "duration": 823,
    "start_time": "2023-03-24T19:42:36.064Z"
   },
   {
    "duration": 2605,
    "start_time": "2023-03-24T19:42:36.890Z"
   },
   {
    "duration": 22,
    "start_time": "2023-03-24T19:42:39.498Z"
   },
   {
    "duration": 9,
    "start_time": "2023-03-24T19:42:39.522Z"
   },
   {
    "duration": 7,
    "start_time": "2023-03-24T19:42:39.533Z"
   },
   {
    "duration": 43,
    "start_time": "2023-03-24T19:42:39.544Z"
   },
   {
    "duration": 55,
    "start_time": "2023-03-24T19:42:39.591Z"
   },
   {
    "duration": 34,
    "start_time": "2023-03-24T19:42:39.647Z"
   },
   {
    "duration": 7,
    "start_time": "2023-03-24T19:42:39.683Z"
   },
   {
    "duration": 14,
    "start_time": "2023-03-24T19:42:39.692Z"
   },
   {
    "duration": 27,
    "start_time": "2023-03-24T19:42:39.708Z"
   },
   {
    "duration": 58,
    "start_time": "2023-03-24T19:42:39.737Z"
   },
   {
    "duration": 7,
    "start_time": "2023-03-24T19:42:39.797Z"
   },
   {
    "duration": 7,
    "start_time": "2023-03-24T19:42:39.806Z"
   },
   {
    "duration": 3,
    "start_time": "2023-03-24T19:42:39.814Z"
   },
   {
    "duration": 141,
    "start_time": "2023-03-24T21:05:42.900Z"
   },
   {
    "duration": 153,
    "start_time": "2023-03-24T21:05:56.911Z"
   },
   {
    "duration": 178,
    "start_time": "2023-03-24T21:06:04.426Z"
   },
   {
    "duration": 143,
    "start_time": "2023-03-24T21:06:10.128Z"
   },
   {
    "duration": 350,
    "start_time": "2023-03-24T21:06:17.757Z"
   },
   {
    "duration": 214,
    "start_time": "2023-03-24T21:06:29.296Z"
   },
   {
    "duration": 190,
    "start_time": "2023-03-24T21:06:45.026Z"
   },
   {
    "duration": 157,
    "start_time": "2023-03-24T21:07:25.941Z"
   },
   {
    "duration": 168,
    "start_time": "2023-03-24T21:08:04.409Z"
   },
   {
    "duration": 165,
    "start_time": "2023-03-24T21:08:15.203Z"
   },
   {
    "duration": 215,
    "start_time": "2023-03-24T21:12:19.700Z"
   },
   {
    "duration": 145,
    "start_time": "2023-03-24T21:12:29.001Z"
   },
   {
    "duration": 249,
    "start_time": "2023-03-24T21:12:34.207Z"
   },
   {
    "duration": 199,
    "start_time": "2023-03-24T21:12:43.342Z"
   },
   {
    "duration": 141,
    "start_time": "2023-03-24T21:13:00.815Z"
   },
   {
    "duration": 2420,
    "start_time": "2023-03-24T21:13:00.961Z"
   },
   {
    "duration": 27,
    "start_time": "2023-03-24T21:13:03.383Z"
   },
   {
    "duration": 32,
    "start_time": "2023-03-24T21:13:03.412Z"
   },
   {
    "duration": 10,
    "start_time": "2023-03-24T21:13:03.446Z"
   },
   {
    "duration": 53,
    "start_time": "2023-03-24T21:13:03.458Z"
   },
   {
    "duration": 50,
    "start_time": "2023-03-24T21:13:03.514Z"
   },
   {
    "duration": 32,
    "start_time": "2023-03-24T21:13:03.566Z"
   },
   {
    "duration": 9,
    "start_time": "2023-03-24T21:13:03.600Z"
   },
   {
    "duration": 35,
    "start_time": "2023-03-24T21:13:03.611Z"
   },
   {
    "duration": 26,
    "start_time": "2023-03-24T21:13:03.648Z"
   },
   {
    "duration": 59,
    "start_time": "2023-03-24T21:13:03.676Z"
   },
   {
    "duration": 10,
    "start_time": "2023-03-24T21:13:03.740Z"
   },
   {
    "duration": 246,
    "start_time": "2023-03-24T21:13:03.754Z"
   },
   {
    "duration": 8,
    "start_time": "2023-03-24T21:13:04.003Z"
   },
   {
    "duration": 23,
    "start_time": "2023-03-24T21:13:04.013Z"
   },
   {
    "duration": 305,
    "start_time": "2023-03-24T21:13:13.836Z"
   },
   {
    "duration": 300,
    "start_time": "2023-03-24T21:13:18.399Z"
   },
   {
    "duration": 361,
    "start_time": "2023-03-24T21:13:34.430Z"
   },
   {
    "duration": 541,
    "start_time": "2023-03-24T21:13:39.613Z"
   },
   {
    "duration": 199,
    "start_time": "2023-03-24T21:13:43.480Z"
   },
   {
    "duration": 195,
    "start_time": "2023-03-24T21:13:48.096Z"
   },
   {
    "duration": 232,
    "start_time": "2023-03-24T21:13:53.902Z"
   },
   {
    "duration": 215,
    "start_time": "2023-03-24T21:13:58.695Z"
   },
   {
    "duration": 433,
    "start_time": "2023-03-24T21:14:05.581Z"
   },
   {
    "duration": 236,
    "start_time": "2023-03-24T21:14:09.778Z"
   },
   {
    "duration": 215,
    "start_time": "2023-03-24T21:14:13.825Z"
   },
   {
    "duration": 171,
    "start_time": "2023-03-24T21:14:20.404Z"
   },
   {
    "duration": 198,
    "start_time": "2023-03-24T21:14:24.509Z"
   },
   {
    "duration": 204,
    "start_time": "2023-03-24T21:14:31.072Z"
   },
   {
    "duration": 198,
    "start_time": "2023-03-24T21:14:35.550Z"
   },
   {
    "duration": 170,
    "start_time": "2023-03-24T21:14:39.645Z"
   },
   {
    "duration": 159,
    "start_time": "2023-03-24T21:20:19.418Z"
   },
   {
    "duration": 251,
    "start_time": "2023-03-24T21:28:36.403Z"
   },
   {
    "duration": 553,
    "start_time": "2023-03-24T21:28:40.767Z"
   },
   {
    "duration": 208,
    "start_time": "2023-03-24T21:28:45.214Z"
   },
   {
    "duration": 53,
    "start_time": "2023-03-24T21:42:02.774Z"
   },
   {
    "duration": 8,
    "start_time": "2023-03-24T21:42:17.109Z"
   },
   {
    "duration": 17,
    "start_time": "2023-03-24T21:43:10.703Z"
   },
   {
    "duration": 15,
    "start_time": "2023-03-24T21:43:25.384Z"
   },
   {
    "duration": 4,
    "start_time": "2023-03-24T21:44:42.586Z"
   },
   {
    "duration": 15,
    "start_time": "2023-03-24T22:35:10.270Z"
   },
   {
    "duration": 13,
    "start_time": "2023-03-24T22:35:15.615Z"
   },
   {
    "duration": 17,
    "start_time": "2023-03-24T22:35:41.334Z"
   },
   {
    "duration": 19,
    "start_time": "2023-03-24T22:37:10.640Z"
   },
   {
    "duration": 12,
    "start_time": "2023-03-24T22:37:45.657Z"
   },
   {
    "duration": 13,
    "start_time": "2023-03-24T22:37:49.854Z"
   },
   {
    "duration": 8,
    "start_time": "2023-03-24T22:40:43.758Z"
   },
   {
    "duration": 9,
    "start_time": "2023-03-24T22:40:58.422Z"
   },
   {
    "duration": 80,
    "start_time": "2023-03-24T22:44:57.574Z"
   },
   {
    "duration": 109,
    "start_time": "2023-03-24T22:45:25.498Z"
   },
   {
    "duration": 1950,
    "start_time": "2023-03-24T22:45:25.610Z"
   },
   {
    "duration": 18,
    "start_time": "2023-03-24T22:45:27.562Z"
   },
   {
    "duration": 9,
    "start_time": "2023-03-24T22:45:27.583Z"
   },
   {
    "duration": 6,
    "start_time": "2023-03-24T22:45:27.594Z"
   },
   {
    "duration": 46,
    "start_time": "2023-03-24T22:45:27.602Z"
   },
   {
    "duration": 168,
    "start_time": "2023-03-24T22:45:27.650Z"
   },
   {
    "duration": 32,
    "start_time": "2023-03-24T22:45:27.820Z"
   },
   {
    "duration": 6,
    "start_time": "2023-03-24T22:45:27.854Z"
   },
   {
    "duration": 7,
    "start_time": "2023-03-24T22:45:27.862Z"
   },
   {
    "duration": 12,
    "start_time": "2023-03-24T22:45:27.870Z"
   },
   {
    "duration": 60,
    "start_time": "2023-03-24T22:45:27.884Z"
   },
   {
    "duration": 12,
    "start_time": "2023-03-24T22:45:27.946Z"
   },
   {
    "duration": 74,
    "start_time": "2023-03-24T22:45:27.959Z"
   },
   {
    "duration": 151,
    "start_time": "2023-03-24T22:45:28.042Z"
   },
   {
    "duration": 4,
    "start_time": "2023-03-24T22:45:28.194Z"
   },
   {
    "duration": 26,
    "start_time": "2023-03-24T22:45:28.200Z"
   },
   {
    "duration": 16,
    "start_time": "2023-03-24T22:45:28.228Z"
   },
   {
    "duration": 3,
    "start_time": "2023-03-24T22:45:28.246Z"
   },
   {
    "duration": 5,
    "start_time": "2023-03-24T23:02:57.577Z"
   },
   {
    "duration": 11,
    "start_time": "2023-03-24T23:03:16.405Z"
   },
   {
    "duration": 7,
    "start_time": "2023-03-24T23:03:53.971Z"
   },
   {
    "duration": 162,
    "start_time": "2023-03-25T13:22:24.540Z"
   },
   {
    "duration": 38,
    "start_time": "2023-03-25T13:36:18.622Z"
   },
   {
    "duration": 26,
    "start_time": "2023-03-25T13:36:55.804Z"
   },
   {
    "duration": 128,
    "start_time": "2023-03-25T13:37:07.345Z"
   },
   {
    "duration": 2308,
    "start_time": "2023-03-25T13:37:07.476Z"
   },
   {
    "duration": 19,
    "start_time": "2023-03-25T13:37:09.786Z"
   },
   {
    "duration": 11,
    "start_time": "2023-03-25T13:37:09.807Z"
   },
   {
    "duration": 6,
    "start_time": "2023-03-25T13:37:09.843Z"
   },
   {
    "duration": 24,
    "start_time": "2023-03-25T13:37:09.851Z"
   },
   {
    "duration": 27,
    "start_time": "2023-03-25T13:37:09.877Z"
   },
   {
    "duration": 0,
    "start_time": "2023-03-25T13:37:09.907Z"
   },
   {
    "duration": 0,
    "start_time": "2023-03-25T13:37:09.908Z"
   },
   {
    "duration": 0,
    "start_time": "2023-03-25T13:37:09.910Z"
   },
   {
    "duration": 0,
    "start_time": "2023-03-25T13:37:09.911Z"
   },
   {
    "duration": 0,
    "start_time": "2023-03-25T13:37:09.912Z"
   },
   {
    "duration": 0,
    "start_time": "2023-03-25T13:37:09.914Z"
   },
   {
    "duration": 0,
    "start_time": "2023-03-25T13:37:09.942Z"
   },
   {
    "duration": 0,
    "start_time": "2023-03-25T13:37:09.943Z"
   },
   {
    "duration": 0,
    "start_time": "2023-03-25T13:37:09.944Z"
   },
   {
    "duration": 0,
    "start_time": "2023-03-25T13:37:09.945Z"
   },
   {
    "duration": 0,
    "start_time": "2023-03-25T13:37:09.947Z"
   },
   {
    "duration": 0,
    "start_time": "2023-03-25T13:37:09.947Z"
   },
   {
    "duration": 0,
    "start_time": "2023-03-25T13:37:09.948Z"
   },
   {
    "duration": 163,
    "start_time": "2023-03-25T13:39:52.269Z"
   },
   {
    "duration": 2077,
    "start_time": "2023-03-25T13:39:52.443Z"
   },
   {
    "duration": 30,
    "start_time": "2023-03-25T13:39:54.522Z"
   },
   {
    "duration": 11,
    "start_time": "2023-03-25T13:39:54.554Z"
   },
   {
    "duration": 45,
    "start_time": "2023-03-25T13:39:54.567Z"
   },
   {
    "duration": 46,
    "start_time": "2023-03-25T13:39:54.615Z"
   },
   {
    "duration": 33,
    "start_time": "2023-03-25T13:39:54.663Z"
   },
   {
    "duration": 0,
    "start_time": "2023-03-25T13:39:54.698Z"
   },
   {
    "duration": 0,
    "start_time": "2023-03-25T13:39:54.700Z"
   },
   {
    "duration": 0,
    "start_time": "2023-03-25T13:39:54.701Z"
   },
   {
    "duration": 0,
    "start_time": "2023-03-25T13:39:54.702Z"
   },
   {
    "duration": 0,
    "start_time": "2023-03-25T13:39:54.703Z"
   },
   {
    "duration": 0,
    "start_time": "2023-03-25T13:39:54.704Z"
   },
   {
    "duration": 0,
    "start_time": "2023-03-25T13:39:54.706Z"
   },
   {
    "duration": 0,
    "start_time": "2023-03-25T13:39:54.970Z"
   },
   {
    "duration": 0,
    "start_time": "2023-03-25T13:39:54.972Z"
   },
   {
    "duration": 0,
    "start_time": "2023-03-25T13:39:54.974Z"
   },
   {
    "duration": 0,
    "start_time": "2023-03-25T13:39:54.975Z"
   },
   {
    "duration": 0,
    "start_time": "2023-03-25T13:39:54.976Z"
   },
   {
    "duration": 0,
    "start_time": "2023-03-25T13:39:54.977Z"
   },
   {
    "duration": 7,
    "start_time": "2023-03-25T14:31:56.112Z"
   },
   {
    "duration": 8,
    "start_time": "2023-03-25T14:32:10.399Z"
   },
   {
    "duration": 35,
    "start_time": "2023-03-25T14:32:16.059Z"
   },
   {
    "duration": 71,
    "start_time": "2023-03-25T14:43:56.316Z"
   },
   {
    "duration": 310,
    "start_time": "2023-03-25T15:29:56.384Z"
   },
   {
    "duration": 328,
    "start_time": "2023-03-25T15:31:31.514Z"
   },
   {
    "duration": 137,
    "start_time": "2023-03-25T15:31:38.190Z"
   },
   {
    "duration": 2042,
    "start_time": "2023-03-25T15:31:38.330Z"
   },
   {
    "duration": 25,
    "start_time": "2023-03-25T15:31:40.375Z"
   },
   {
    "duration": 15,
    "start_time": "2023-03-25T15:31:40.402Z"
   },
   {
    "duration": 29,
    "start_time": "2023-03-25T15:31:40.419Z"
   },
   {
    "duration": 21,
    "start_time": "2023-03-25T15:31:40.450Z"
   },
   {
    "duration": 78,
    "start_time": "2023-03-25T15:31:40.472Z"
   },
   {
    "duration": 23,
    "start_time": "2023-03-25T15:31:40.553Z"
   },
   {
    "duration": 7,
    "start_time": "2023-03-25T15:31:40.578Z"
   },
   {
    "duration": 10,
    "start_time": "2023-03-25T15:31:40.587Z"
   },
   {
    "duration": 44,
    "start_time": "2023-03-25T15:31:40.599Z"
   },
   {
    "duration": 28,
    "start_time": "2023-03-25T15:31:40.645Z"
   },
   {
    "duration": 7,
    "start_time": "2023-03-25T15:31:40.675Z"
   },
   {
    "duration": 100,
    "start_time": "2023-03-25T15:31:40.685Z"
   },
   {
    "duration": 171,
    "start_time": "2023-03-25T15:31:40.787Z"
   },
   {
    "duration": 5,
    "start_time": "2023-03-25T15:31:40.960Z"
   },
   {
    "duration": 24,
    "start_time": "2023-03-25T15:31:40.967Z"
   },
   {
    "duration": 8,
    "start_time": "2023-03-25T15:31:40.993Z"
   },
   {
    "duration": 7,
    "start_time": "2023-03-25T15:31:41.003Z"
   },
   {
    "duration": 31,
    "start_time": "2023-03-25T15:31:41.012Z"
   },
   {
    "duration": 69,
    "start_time": "2023-03-25T15:31:41.045Z"
   },
   {
    "duration": 0,
    "start_time": "2023-03-25T15:31:41.116Z"
   },
   {
    "duration": 0,
    "start_time": "2023-03-25T15:31:41.118Z"
   },
   {
    "duration": 0,
    "start_time": "2023-03-25T15:31:41.120Z"
   },
   {
    "duration": 384,
    "start_time": "2023-03-25T15:32:44.014Z"
   },
   {
    "duration": 5,
    "start_time": "2023-03-25T15:33:45.631Z"
   },
   {
    "duration": 314,
    "start_time": "2023-03-25T15:34:46.448Z"
   },
   {
    "duration": 775,
    "start_time": "2023-03-25T15:35:06.369Z"
   },
   {
    "duration": 139,
    "start_time": "2023-03-25T15:35:10.738Z"
   },
   {
    "duration": 2314,
    "start_time": "2023-03-25T15:35:10.880Z"
   },
   {
    "duration": 20,
    "start_time": "2023-03-25T15:35:13.197Z"
   },
   {
    "duration": 40,
    "start_time": "2023-03-25T15:35:13.220Z"
   },
   {
    "duration": 15,
    "start_time": "2023-03-25T15:35:13.262Z"
   },
   {
    "duration": 13,
    "start_time": "2023-03-25T15:35:13.279Z"
   },
   {
    "duration": 37,
    "start_time": "2023-03-25T15:35:13.294Z"
   },
   {
    "duration": 19,
    "start_time": "2023-03-25T15:35:13.341Z"
   },
   {
    "duration": 9,
    "start_time": "2023-03-25T15:35:13.361Z"
   },
   {
    "duration": 7,
    "start_time": "2023-03-25T15:35:13.373Z"
   },
   {
    "duration": 12,
    "start_time": "2023-03-25T15:35:13.381Z"
   },
   {
    "duration": 57,
    "start_time": "2023-03-25T15:35:13.395Z"
   },
   {
    "duration": 7,
    "start_time": "2023-03-25T15:35:13.454Z"
   },
   {
    "duration": 85,
    "start_time": "2023-03-25T15:35:13.463Z"
   },
   {
    "duration": 196,
    "start_time": "2023-03-25T15:35:13.550Z"
   },
   {
    "duration": 4,
    "start_time": "2023-03-25T15:35:13.748Z"
   },
   {
    "duration": 41,
    "start_time": "2023-03-25T15:35:13.754Z"
   },
   {
    "duration": 8,
    "start_time": "2023-03-25T15:35:13.797Z"
   },
   {
    "duration": 20,
    "start_time": "2023-03-25T15:35:13.807Z"
   },
   {
    "duration": 6,
    "start_time": "2023-03-25T15:35:13.829Z"
   },
   {
    "duration": 14,
    "start_time": "2023-03-25T15:35:13.837Z"
   },
   {
    "duration": 6,
    "start_time": "2023-03-25T15:35:13.853Z"
   },
   {
    "duration": 14,
    "start_time": "2023-03-25T15:35:13.861Z"
   },
   {
    "duration": 0,
    "start_time": "2023-03-25T15:35:14.934Z"
   },
   {
    "duration": 784,
    "start_time": "2023-03-25T15:35:17.936Z"
   },
   {
    "duration": 308,
    "start_time": "2023-03-25T15:35:40.104Z"
   },
   {
    "duration": 124,
    "start_time": "2023-03-25T15:35:44.518Z"
   },
   {
    "duration": 2332,
    "start_time": "2023-03-25T15:35:44.645Z"
   },
   {
    "duration": 20,
    "start_time": "2023-03-25T15:35:46.980Z"
   },
   {
    "duration": 11,
    "start_time": "2023-03-25T15:35:47.002Z"
   },
   {
    "duration": 9,
    "start_time": "2023-03-25T15:35:47.040Z"
   },
   {
    "duration": 13,
    "start_time": "2023-03-25T15:35:47.052Z"
   },
   {
    "duration": 41,
    "start_time": "2023-03-25T15:35:47.068Z"
   },
   {
    "duration": 33,
    "start_time": "2023-03-25T15:35:47.142Z"
   },
   {
    "duration": 9,
    "start_time": "2023-03-25T15:35:47.178Z"
   },
   {
    "duration": 9,
    "start_time": "2023-03-25T15:35:47.189Z"
   },
   {
    "duration": 43,
    "start_time": "2023-03-25T15:35:47.200Z"
   },
   {
    "duration": 39,
    "start_time": "2023-03-25T15:35:47.249Z"
   },
   {
    "duration": 8,
    "start_time": "2023-03-25T15:35:47.292Z"
   },
   {
    "duration": 94,
    "start_time": "2023-03-25T15:35:47.303Z"
   },
   {
    "duration": 195,
    "start_time": "2023-03-25T15:35:47.399Z"
   },
   {
    "duration": 4,
    "start_time": "2023-03-25T15:35:47.597Z"
   },
   {
    "duration": 29,
    "start_time": "2023-03-25T15:35:47.603Z"
   },
   {
    "duration": 11,
    "start_time": "2023-03-25T15:35:47.640Z"
   },
   {
    "duration": 9,
    "start_time": "2023-03-25T15:35:47.653Z"
   },
   {
    "duration": 7,
    "start_time": "2023-03-25T15:35:47.664Z"
   },
   {
    "duration": 14,
    "start_time": "2023-03-25T15:35:47.673Z"
   },
   {
    "duration": 10,
    "start_time": "2023-03-25T15:35:47.689Z"
   },
   {
    "duration": 7,
    "start_time": "2023-03-25T15:35:47.701Z"
   },
   {
    "duration": 388,
    "start_time": "2023-03-25T15:35:47.740Z"
   },
   {
    "duration": 29,
    "start_time": "2023-03-25T15:36:26.460Z"
   },
   {
    "duration": 298,
    "start_time": "2023-03-25T15:38:13.183Z"
   },
   {
    "duration": 33,
    "start_time": "2023-03-25T15:38:50.351Z"
   },
   {
    "duration": 37,
    "start_time": "2023-03-25T15:43:27.597Z"
   },
   {
    "duration": 117,
    "start_time": "2023-03-25T15:43:42.278Z"
   },
   {
    "duration": 2285,
    "start_time": "2023-03-25T15:43:42.398Z"
   },
   {
    "duration": 20,
    "start_time": "2023-03-25T15:43:44.685Z"
   },
   {
    "duration": 35,
    "start_time": "2023-03-25T15:43:44.707Z"
   },
   {
    "duration": 15,
    "start_time": "2023-03-25T15:43:44.746Z"
   },
   {
    "duration": 20,
    "start_time": "2023-03-25T15:43:44.764Z"
   },
   {
    "duration": 67,
    "start_time": "2023-03-25T15:43:44.787Z"
   },
   {
    "duration": 21,
    "start_time": "2023-03-25T15:43:44.856Z"
   },
   {
    "duration": 7,
    "start_time": "2023-03-25T15:43:44.879Z"
   },
   {
    "duration": 13,
    "start_time": "2023-03-25T15:43:44.888Z"
   },
   {
    "duration": 54,
    "start_time": "2023-03-25T15:43:44.904Z"
   },
   {
    "duration": 52,
    "start_time": "2023-03-25T15:43:44.961Z"
   },
   {
    "duration": 8,
    "start_time": "2023-03-25T15:43:45.015Z"
   },
   {
    "duration": 88,
    "start_time": "2023-03-25T15:43:45.043Z"
   },
   {
    "duration": 175,
    "start_time": "2023-03-25T15:43:45.134Z"
   },
   {
    "duration": 5,
    "start_time": "2023-03-25T15:43:45.311Z"
   },
   {
    "duration": 33,
    "start_time": "2023-03-25T15:43:45.318Z"
   },
   {
    "duration": 10,
    "start_time": "2023-03-25T15:43:45.353Z"
   },
   {
    "duration": 8,
    "start_time": "2023-03-25T15:43:45.365Z"
   },
   {
    "duration": 11,
    "start_time": "2023-03-25T15:43:45.375Z"
   },
   {
    "duration": 13,
    "start_time": "2023-03-25T15:43:45.388Z"
   },
   {
    "duration": 40,
    "start_time": "2023-03-25T15:43:45.403Z"
   },
   {
    "duration": 13,
    "start_time": "2023-03-25T15:43:45.445Z"
   },
   {
    "duration": 34,
    "start_time": "2023-03-25T15:43:45.459Z"
   },
   {
    "duration": 245,
    "start_time": "2023-03-25T15:48:49.284Z"
   },
   {
    "duration": 6,
    "start_time": "2023-03-25T15:54:17.245Z"
   },
   {
    "duration": 25,
    "start_time": "2023-03-25T15:54:54.821Z"
   },
   {
    "duration": 124,
    "start_time": "2023-03-25T15:55:16.175Z"
   },
   {
    "duration": 2213,
    "start_time": "2023-03-25T15:55:16.302Z"
   },
   {
    "duration": 32,
    "start_time": "2023-03-25T15:55:18.517Z"
   },
   {
    "duration": 10,
    "start_time": "2023-03-25T15:55:18.551Z"
   },
   {
    "duration": 8,
    "start_time": "2023-03-25T15:55:18.564Z"
   },
   {
    "duration": 19,
    "start_time": "2023-03-25T15:55:18.574Z"
   },
   {
    "duration": 64,
    "start_time": "2023-03-25T15:55:18.595Z"
   },
   {
    "duration": 31,
    "start_time": "2023-03-25T15:55:18.661Z"
   },
   {
    "duration": 10,
    "start_time": "2023-03-25T15:55:18.694Z"
   },
   {
    "duration": 35,
    "start_time": "2023-03-25T15:55:18.706Z"
   },
   {
    "duration": 12,
    "start_time": "2023-03-25T15:55:18.743Z"
   },
   {
    "duration": 37,
    "start_time": "2023-03-25T15:55:18.757Z"
   },
   {
    "duration": 14,
    "start_time": "2023-03-25T15:55:18.796Z"
   },
   {
    "duration": 101,
    "start_time": "2023-03-25T15:55:18.814Z"
   },
   {
    "duration": 169,
    "start_time": "2023-03-25T15:55:18.918Z"
   },
   {
    "duration": 5,
    "start_time": "2023-03-25T15:55:19.089Z"
   },
   {
    "duration": 22,
    "start_time": "2023-03-25T15:55:19.096Z"
   },
   {
    "duration": 25,
    "start_time": "2023-03-25T15:55:19.120Z"
   },
   {
    "duration": 8,
    "start_time": "2023-03-25T15:55:19.148Z"
   },
   {
    "duration": 9,
    "start_time": "2023-03-25T15:55:19.158Z"
   },
   {
    "duration": 10,
    "start_time": "2023-03-25T15:55:19.169Z"
   },
   {
    "duration": 6,
    "start_time": "2023-03-25T15:55:19.181Z"
   },
   {
    "duration": 12,
    "start_time": "2023-03-25T15:55:19.189Z"
   },
   {
    "duration": 432,
    "start_time": "2023-03-25T15:55:19.203Z"
   },
   {
    "duration": 6,
    "start_time": "2023-03-25T15:55:19.637Z"
   },
   {
    "duration": 36,
    "start_time": "2023-03-25T15:55:19.644Z"
   },
   {
    "duration": 10,
    "start_time": "2023-03-25T16:46:12.179Z"
   },
   {
    "duration": 12,
    "start_time": "2023-03-25T16:47:51.195Z"
   },
   {
    "duration": 230,
    "start_time": "2023-03-25T16:51:49.188Z"
   },
   {
    "duration": 264,
    "start_time": "2023-03-25T16:55:49.795Z"
   },
   {
    "duration": 288,
    "start_time": "2023-03-25T16:56:19.558Z"
   },
   {
    "duration": 251,
    "start_time": "2023-03-25T16:56:37.793Z"
   },
   {
    "duration": 10,
    "start_time": "2023-03-25T16:56:40.751Z"
   },
   {
    "duration": 190,
    "start_time": "2023-03-25T16:57:41.801Z"
   },
   {
    "duration": 170,
    "start_time": "2023-03-25T16:57:56.951Z"
   },
   {
    "duration": 1289,
    "start_time": "2023-03-25T16:58:02.160Z"
   },
   {
    "duration": 479,
    "start_time": "2023-03-25T16:58:06.504Z"
   },
   {
    "duration": 292,
    "start_time": "2023-03-25T16:58:12.465Z"
   },
   {
    "duration": 297,
    "start_time": "2023-03-25T16:59:15.606Z"
   },
   {
    "duration": 250,
    "start_time": "2023-03-25T17:01:38.225Z"
   },
   {
    "duration": 326,
    "start_time": "2023-03-25T17:02:23.841Z"
   },
   {
    "duration": 286,
    "start_time": "2023-03-25T17:02:30.559Z"
   },
   {
    "duration": 13,
    "start_time": "2023-03-25T17:11:22.728Z"
   },
   {
    "duration": 438,
    "start_time": "2023-03-25T17:12:52.262Z"
   },
   {
    "duration": 215,
    "start_time": "2023-03-25T17:15:27.064Z"
   },
   {
    "duration": 291,
    "start_time": "2023-03-25T17:17:33.484Z"
   },
   {
    "duration": 278,
    "start_time": "2023-03-25T17:31:22.801Z"
   },
   {
    "duration": 264,
    "start_time": "2023-03-25T17:31:27.696Z"
   },
   {
    "duration": 246,
    "start_time": "2023-03-25T17:32:37.070Z"
   },
   {
    "duration": 294,
    "start_time": "2023-03-25T17:32:42.795Z"
   },
   {
    "duration": 195,
    "start_time": "2023-03-25T17:32:47.151Z"
   },
   {
    "duration": 188,
    "start_time": "2023-03-25T17:32:51.566Z"
   },
   {
    "duration": 189,
    "start_time": "2023-03-25T17:33:10.752Z"
   },
   {
    "duration": 207,
    "start_time": "2023-03-25T17:33:18.702Z"
   },
   {
    "duration": 182,
    "start_time": "2023-03-25T17:33:22.158Z"
   },
   {
    "duration": 180,
    "start_time": "2023-03-25T17:33:27.936Z"
   },
   {
    "duration": 171,
    "start_time": "2023-03-25T17:33:34.847Z"
   },
   {
    "duration": 14,
    "start_time": "2023-03-25T17:38:20.417Z"
   },
   {
    "duration": 12,
    "start_time": "2023-03-25T17:38:23.386Z"
   },
   {
    "duration": 49,
    "start_time": "2023-03-25T17:38:50.828Z"
   },
   {
    "duration": 32,
    "start_time": "2023-03-25T17:39:27.738Z"
   },
   {
    "duration": 14,
    "start_time": "2023-03-25T18:01:19.654Z"
   },
   {
    "duration": 13,
    "start_time": "2023-03-25T18:03:46.130Z"
   },
   {
    "duration": 11,
    "start_time": "2023-03-25T18:03:53.050Z"
   },
   {
    "duration": 9,
    "start_time": "2023-03-25T18:04:39.180Z"
   },
   {
    "duration": 8,
    "start_time": "2023-03-25T18:04:46.865Z"
   },
   {
    "duration": 10,
    "start_time": "2023-03-25T18:04:54.333Z"
   },
   {
    "duration": 9,
    "start_time": "2023-03-25T18:04:59.448Z"
   },
   {
    "duration": 10,
    "start_time": "2023-03-25T18:05:02.904Z"
   },
   {
    "duration": 12,
    "start_time": "2023-03-25T18:05:08.229Z"
   },
   {
    "duration": 8,
    "start_time": "2023-03-25T18:16:43.296Z"
   },
   {
    "duration": 8,
    "start_time": "2023-03-25T18:16:47.671Z"
   },
   {
    "duration": 19,
    "start_time": "2023-03-25T18:17:25.301Z"
   },
   {
    "duration": 9,
    "start_time": "2023-03-25T18:17:43.962Z"
   },
   {
    "duration": 14,
    "start_time": "2023-03-25T18:17:58.743Z"
   },
   {
    "duration": 9,
    "start_time": "2023-03-25T18:18:16.571Z"
   },
   {
    "duration": 8,
    "start_time": "2023-03-25T18:18:27.908Z"
   },
   {
    "duration": 13,
    "start_time": "2023-03-25T18:18:31.339Z"
   },
   {
    "duration": 9,
    "start_time": "2023-03-25T18:18:49.094Z"
   },
   {
    "duration": 13,
    "start_time": "2023-03-25T18:18:52.519Z"
   },
   {
    "duration": 14,
    "start_time": "2023-03-25T18:18:55.659Z"
   },
   {
    "duration": 116,
    "start_time": "2023-03-25T18:19:00.440Z"
   },
   {
    "duration": 2043,
    "start_time": "2023-03-25T18:19:00.558Z"
   },
   {
    "duration": 16,
    "start_time": "2023-03-25T18:19:02.603Z"
   },
   {
    "duration": 22,
    "start_time": "2023-03-25T18:19:02.621Z"
   },
   {
    "duration": 6,
    "start_time": "2023-03-25T18:19:02.645Z"
   },
   {
    "duration": 15,
    "start_time": "2023-03-25T18:19:02.653Z"
   },
   {
    "duration": 37,
    "start_time": "2023-03-25T18:19:02.669Z"
   },
   {
    "duration": 42,
    "start_time": "2023-03-25T18:19:02.708Z"
   },
   {
    "duration": 8,
    "start_time": "2023-03-25T18:19:02.752Z"
   },
   {
    "duration": 6,
    "start_time": "2023-03-25T18:19:02.764Z"
   },
   {
    "duration": 19,
    "start_time": "2023-03-25T18:19:02.771Z"
   },
   {
    "duration": 36,
    "start_time": "2023-03-25T18:19:02.792Z"
   },
   {
    "duration": 15,
    "start_time": "2023-03-25T18:19:02.830Z"
   },
   {
    "duration": 70,
    "start_time": "2023-03-25T18:19:02.846Z"
   },
   {
    "duration": 161,
    "start_time": "2023-03-25T18:19:02.918Z"
   },
   {
    "duration": 4,
    "start_time": "2023-03-25T18:19:03.081Z"
   },
   {
    "duration": 21,
    "start_time": "2023-03-25T18:19:03.087Z"
   },
   {
    "duration": 7,
    "start_time": "2023-03-25T18:19:03.110Z"
   },
   {
    "duration": 24,
    "start_time": "2023-03-25T18:19:03.118Z"
   },
   {
    "duration": 4,
    "start_time": "2023-03-25T18:19:03.143Z"
   },
   {
    "duration": 13,
    "start_time": "2023-03-25T18:19:03.148Z"
   },
   {
    "duration": 6,
    "start_time": "2023-03-25T18:19:03.163Z"
   },
   {
    "duration": 10,
    "start_time": "2023-03-25T18:19:03.171Z"
   },
   {
    "duration": 380,
    "start_time": "2023-03-25T18:19:03.183Z"
   },
   {
    "duration": 4,
    "start_time": "2023-03-25T18:19:03.565Z"
   },
   {
    "duration": 28,
    "start_time": "2023-03-25T18:19:03.571Z"
   },
   {
    "duration": 10,
    "start_time": "2023-03-25T18:19:03.601Z"
   },
   {
    "duration": 373,
    "start_time": "2023-03-25T18:19:03.614Z"
   },
   {
    "duration": 10,
    "start_time": "2023-03-25T18:19:03.988Z"
   },
   {
    "duration": 175,
    "start_time": "2023-03-25T18:19:03.999Z"
   },
   {
    "duration": 9,
    "start_time": "2023-03-25T18:19:04.176Z"
   },
   {
    "duration": 37,
    "start_time": "2023-03-25T18:19:04.204Z"
   },
   {
    "duration": 9,
    "start_time": "2023-03-25T18:19:36.927Z"
   },
   {
    "duration": 110,
    "start_time": "2023-03-25T18:19:44.209Z"
   },
   {
    "duration": 2103,
    "start_time": "2023-03-25T18:19:44.321Z"
   },
   {
    "duration": 24,
    "start_time": "2023-03-25T18:19:46.427Z"
   },
   {
    "duration": 10,
    "start_time": "2023-03-25T18:19:46.453Z"
   },
   {
    "duration": 13,
    "start_time": "2023-03-25T18:19:46.466Z"
   },
   {
    "duration": 20,
    "start_time": "2023-03-25T18:19:46.480Z"
   },
   {
    "duration": 54,
    "start_time": "2023-03-25T18:19:46.502Z"
   },
   {
    "duration": 20,
    "start_time": "2023-03-25T18:19:46.558Z"
   },
   {
    "duration": 8,
    "start_time": "2023-03-25T18:19:46.580Z"
   },
   {
    "duration": 14,
    "start_time": "2023-03-25T18:19:46.591Z"
   },
   {
    "duration": 34,
    "start_time": "2023-03-25T18:19:46.607Z"
   },
   {
    "duration": 37,
    "start_time": "2023-03-25T18:19:46.644Z"
   },
   {
    "duration": 9,
    "start_time": "2023-03-25T18:19:46.684Z"
   },
   {
    "duration": 91,
    "start_time": "2023-03-25T18:19:46.696Z"
   },
   {
    "duration": 155,
    "start_time": "2023-03-25T18:19:46.789Z"
   },
   {
    "duration": 5,
    "start_time": "2023-03-25T18:19:46.945Z"
   },
   {
    "duration": 24,
    "start_time": "2023-03-25T18:19:46.951Z"
   },
   {
    "duration": 7,
    "start_time": "2023-03-25T18:19:46.977Z"
   },
   {
    "duration": 7,
    "start_time": "2023-03-25T18:19:46.986Z"
   },
   {
    "duration": 6,
    "start_time": "2023-03-25T18:19:46.995Z"
   },
   {
    "duration": 8,
    "start_time": "2023-03-25T18:19:47.002Z"
   },
   {
    "duration": 30,
    "start_time": "2023-03-25T18:19:47.012Z"
   },
   {
    "duration": 11,
    "start_time": "2023-03-25T18:19:47.044Z"
   },
   {
    "duration": 241,
    "start_time": "2023-03-25T18:19:47.056Z"
   },
   {
    "duration": 4,
    "start_time": "2023-03-25T18:19:47.299Z"
   },
   {
    "duration": 38,
    "start_time": "2023-03-25T18:19:47.305Z"
   },
   {
    "duration": 9,
    "start_time": "2023-03-25T18:19:47.344Z"
   },
   {
    "duration": 266,
    "start_time": "2023-03-25T18:19:47.354Z"
   },
   {
    "duration": 9,
    "start_time": "2023-03-25T18:19:47.622Z"
   },
   {
    "duration": 169,
    "start_time": "2023-03-25T18:19:47.641Z"
   },
   {
    "duration": 8,
    "start_time": "2023-03-25T18:19:47.812Z"
   },
   {
    "duration": 27,
    "start_time": "2023-03-25T18:19:47.822Z"
   },
   {
    "duration": 153,
    "start_time": "2023-03-25T18:21:07.758Z"
   },
   {
    "duration": 194,
    "start_time": "2023-03-25T18:21:13.585Z"
   },
   {
    "duration": 186,
    "start_time": "2023-03-25T18:21:21.379Z"
   },
   {
    "duration": 401,
    "start_time": "2023-03-25T18:21:35.688Z"
   },
   {
    "duration": 164,
    "start_time": "2023-03-25T18:21:47.388Z"
   },
   {
    "duration": 172,
    "start_time": "2023-03-25T18:22:59.183Z"
   },
   {
    "duration": 9,
    "start_time": "2023-03-25T18:23:34.499Z"
   },
   {
    "duration": 14,
    "start_time": "2023-03-25T18:23:37.898Z"
   },
   {
    "duration": 118,
    "start_time": "2023-03-25T18:23:41.442Z"
   },
   {
    "duration": 1974,
    "start_time": "2023-03-25T18:23:41.563Z"
   },
   {
    "duration": 18,
    "start_time": "2023-03-25T18:23:43.541Z"
   },
   {
    "duration": 21,
    "start_time": "2023-03-25T18:23:43.561Z"
   },
   {
    "duration": 7,
    "start_time": "2023-03-25T18:23:43.586Z"
   },
   {
    "duration": 18,
    "start_time": "2023-03-25T18:23:43.594Z"
   },
   {
    "duration": 56,
    "start_time": "2023-03-25T18:23:43.614Z"
   },
   {
    "duration": 20,
    "start_time": "2023-03-25T18:23:43.672Z"
   },
   {
    "duration": 6,
    "start_time": "2023-03-25T18:23:43.694Z"
   },
   {
    "duration": 6,
    "start_time": "2023-03-25T18:23:43.702Z"
   },
   {
    "duration": 40,
    "start_time": "2023-03-25T18:23:43.710Z"
   },
   {
    "duration": 35,
    "start_time": "2023-03-25T18:23:43.752Z"
   },
   {
    "duration": 10,
    "start_time": "2023-03-25T18:23:43.789Z"
   },
   {
    "duration": 83,
    "start_time": "2023-03-25T18:23:43.802Z"
   },
   {
    "duration": 161,
    "start_time": "2023-03-25T18:23:43.887Z"
   },
   {
    "duration": 5,
    "start_time": "2023-03-25T18:23:44.049Z"
   },
   {
    "duration": 26,
    "start_time": "2023-03-25T18:23:44.056Z"
   },
   {
    "duration": 9,
    "start_time": "2023-03-25T18:23:44.084Z"
   },
   {
    "duration": 9,
    "start_time": "2023-03-25T18:23:44.095Z"
   },
   {
    "duration": 5,
    "start_time": "2023-03-25T18:23:44.105Z"
   },
   {
    "duration": 33,
    "start_time": "2023-03-25T18:23:44.111Z"
   },
   {
    "duration": 22,
    "start_time": "2023-03-25T18:23:44.146Z"
   },
   {
    "duration": 9,
    "start_time": "2023-03-25T18:23:44.170Z"
   },
   {
    "duration": 236,
    "start_time": "2023-03-25T18:23:44.181Z"
   },
   {
    "duration": 4,
    "start_time": "2023-03-25T18:23:44.419Z"
   },
   {
    "duration": 36,
    "start_time": "2023-03-25T18:23:44.425Z"
   },
   {
    "duration": 9,
    "start_time": "2023-03-25T18:23:44.463Z"
   },
   {
    "duration": 273,
    "start_time": "2023-03-25T18:23:44.474Z"
   },
   {
    "duration": 9,
    "start_time": "2023-03-25T18:23:44.750Z"
   },
   {
    "duration": 180,
    "start_time": "2023-03-25T18:23:44.761Z"
   },
   {
    "duration": 8,
    "start_time": "2023-03-25T18:23:44.943Z"
   },
   {
    "duration": 16,
    "start_time": "2023-03-25T18:23:44.953Z"
   },
   {
    "duration": 194,
    "start_time": "2023-03-25T18:23:44.971Z"
   },
   {
    "duration": 13,
    "start_time": "2023-03-25T18:25:37.645Z"
   },
   {
    "duration": 8,
    "start_time": "2023-03-25T18:26:24.402Z"
   },
   {
    "duration": 10,
    "start_time": "2023-03-25T18:28:47.440Z"
   },
   {
    "duration": 105,
    "start_time": "2023-03-25T18:28:57.064Z"
   },
   {
    "duration": 2064,
    "start_time": "2023-03-25T18:28:57.171Z"
   },
   {
    "duration": 20,
    "start_time": "2023-03-25T18:28:59.240Z"
   },
   {
    "duration": 9,
    "start_time": "2023-03-25T18:28:59.262Z"
   },
   {
    "duration": 9,
    "start_time": "2023-03-25T18:28:59.274Z"
   },
   {
    "duration": 18,
    "start_time": "2023-03-25T18:28:59.285Z"
   },
   {
    "duration": 55,
    "start_time": "2023-03-25T18:28:59.304Z"
   },
   {
    "duration": 18,
    "start_time": "2023-03-25T18:28:59.360Z"
   },
   {
    "duration": 7,
    "start_time": "2023-03-25T18:28:59.379Z"
   },
   {
    "duration": 6,
    "start_time": "2023-03-25T18:28:59.388Z"
   },
   {
    "duration": 10,
    "start_time": "2023-03-25T18:28:59.396Z"
   },
   {
    "duration": 57,
    "start_time": "2023-03-25T18:28:59.408Z"
   },
   {
    "duration": 6,
    "start_time": "2023-03-25T18:28:59.467Z"
   },
   {
    "duration": 81,
    "start_time": "2023-03-25T18:28:59.476Z"
   },
   {
    "duration": 159,
    "start_time": "2023-03-25T18:28:59.559Z"
   },
   {
    "duration": 5,
    "start_time": "2023-03-25T18:28:59.720Z"
   },
   {
    "duration": 24,
    "start_time": "2023-03-25T18:28:59.726Z"
   },
   {
    "duration": 8,
    "start_time": "2023-03-25T18:28:59.751Z"
   },
   {
    "duration": 7,
    "start_time": "2023-03-25T18:28:59.761Z"
   },
   {
    "duration": 4,
    "start_time": "2023-03-25T18:28:59.770Z"
   },
   {
    "duration": 10,
    "start_time": "2023-03-25T18:28:59.776Z"
   },
   {
    "duration": 6,
    "start_time": "2023-03-25T18:28:59.788Z"
   },
   {
    "duration": 5,
    "start_time": "2023-03-25T18:28:59.795Z"
   },
   {
    "duration": 424,
    "start_time": "2023-03-25T18:28:59.801Z"
   },
   {
    "duration": 6,
    "start_time": "2023-03-25T18:29:00.227Z"
   },
   {
    "duration": 33,
    "start_time": "2023-03-25T18:29:00.241Z"
   },
   {
    "duration": 9,
    "start_time": "2023-03-25T18:29:00.276Z"
   },
   {
    "duration": 259,
    "start_time": "2023-03-25T18:29:00.287Z"
   },
   {
    "duration": 10,
    "start_time": "2023-03-25T18:29:00.548Z"
   },
   {
    "duration": 173,
    "start_time": "2023-03-25T18:29:00.560Z"
   },
   {
    "duration": 12,
    "start_time": "2023-03-25T18:29:00.734Z"
   },
   {
    "duration": 21,
    "start_time": "2023-03-25T18:29:00.748Z"
   },
   {
    "duration": 35,
    "start_time": "2023-03-25T18:29:00.771Z"
   },
   {
    "duration": 192,
    "start_time": "2023-03-25T18:29:00.808Z"
   },
   {
    "duration": 10,
    "start_time": "2023-03-25T18:30:07.744Z"
   },
   {
    "duration": 11,
    "start_time": "2023-03-25T18:30:11.157Z"
   },
   {
    "duration": 9,
    "start_time": "2023-03-25T18:30:30.801Z"
   },
   {
    "duration": 107,
    "start_time": "2023-03-25T18:30:33.859Z"
   },
   {
    "duration": 2143,
    "start_time": "2023-03-25T18:30:33.968Z"
   },
   {
    "duration": 30,
    "start_time": "2023-03-25T18:30:36.112Z"
   },
   {
    "duration": 10,
    "start_time": "2023-03-25T18:30:36.143Z"
   },
   {
    "duration": 8,
    "start_time": "2023-03-25T18:30:36.156Z"
   },
   {
    "duration": 18,
    "start_time": "2023-03-25T18:30:36.166Z"
   },
   {
    "duration": 56,
    "start_time": "2023-03-25T18:30:36.186Z"
   },
   {
    "duration": 21,
    "start_time": "2023-03-25T18:30:36.244Z"
   },
   {
    "duration": 10,
    "start_time": "2023-03-25T18:30:36.267Z"
   },
   {
    "duration": 33,
    "start_time": "2023-03-25T18:30:36.279Z"
   },
   {
    "duration": 23,
    "start_time": "2023-03-25T18:30:36.314Z"
   },
   {
    "duration": 29,
    "start_time": "2023-03-25T18:30:36.339Z"
   },
   {
    "duration": 8,
    "start_time": "2023-03-25T18:30:36.370Z"
   },
   {
    "duration": 90,
    "start_time": "2023-03-25T18:30:36.381Z"
   },
   {
    "duration": 184,
    "start_time": "2023-03-25T18:30:36.473Z"
   },
   {
    "duration": 5,
    "start_time": "2023-03-25T18:30:36.659Z"
   },
   {
    "duration": 52,
    "start_time": "2023-03-25T18:30:36.666Z"
   },
   {
    "duration": 8,
    "start_time": "2023-03-25T18:30:36.719Z"
   },
   {
    "duration": 7,
    "start_time": "2023-03-25T18:30:36.729Z"
   },
   {
    "duration": 7,
    "start_time": "2023-03-25T18:30:36.738Z"
   },
   {
    "duration": 10,
    "start_time": "2023-03-25T18:30:36.746Z"
   },
   {
    "duration": 5,
    "start_time": "2023-03-25T18:30:36.758Z"
   },
   {
    "duration": 7,
    "start_time": "2023-03-25T18:30:36.765Z"
   },
   {
    "duration": 236,
    "start_time": "2023-03-25T18:30:36.774Z"
   },
   {
    "duration": 4,
    "start_time": "2023-03-25T18:30:37.012Z"
   },
   {
    "duration": 36,
    "start_time": "2023-03-25T18:30:37.017Z"
   },
   {
    "duration": 8,
    "start_time": "2023-03-25T18:30:37.055Z"
   },
   {
    "duration": 245,
    "start_time": "2023-03-25T18:30:37.065Z"
   },
   {
    "duration": 8,
    "start_time": "2023-03-25T18:30:37.312Z"
   },
   {
    "duration": 169,
    "start_time": "2023-03-25T18:30:37.322Z"
   },
   {
    "duration": 8,
    "start_time": "2023-03-25T18:30:37.493Z"
   },
   {
    "duration": 11,
    "start_time": "2023-03-25T18:30:37.502Z"
   },
   {
    "duration": 31,
    "start_time": "2023-03-25T18:30:37.515Z"
   },
   {
    "duration": 184,
    "start_time": "2023-03-25T18:30:37.548Z"
   },
   {
    "duration": 171,
    "start_time": "2023-03-25T18:31:09.839Z"
   },
   {
    "duration": 11,
    "start_time": "2023-03-25T18:32:49.676Z"
   },
   {
    "duration": 8,
    "start_time": "2023-03-25T18:33:00.333Z"
   },
   {
    "duration": 6,
    "start_time": "2023-03-25T18:33:16.399Z"
   },
   {
    "duration": 375,
    "start_time": "2023-03-25T18:33:39.884Z"
   },
   {
    "duration": 176,
    "start_time": "2023-03-25T18:34:02.680Z"
   },
   {
    "duration": 16,
    "start_time": "2023-03-25T18:34:06.491Z"
   },
   {
    "duration": 13,
    "start_time": "2023-03-25T18:34:29.070Z"
   },
   {
    "duration": 9,
    "start_time": "2023-03-25T18:34:48.337Z"
   },
   {
    "duration": 121,
    "start_time": "2023-03-25T18:34:55.286Z"
   },
   {
    "duration": 1941,
    "start_time": "2023-03-25T18:34:55.409Z"
   },
   {
    "duration": 18,
    "start_time": "2023-03-25T18:34:57.352Z"
   },
   {
    "duration": 9,
    "start_time": "2023-03-25T18:34:57.372Z"
   },
   {
    "duration": 8,
    "start_time": "2023-03-25T18:34:57.383Z"
   },
   {
    "duration": 12,
    "start_time": "2023-03-25T18:34:57.393Z"
   },
   {
    "duration": 251,
    "start_time": "2023-03-25T18:34:57.407Z"
   },
   {
    "duration": 19,
    "start_time": "2023-03-25T18:34:57.660Z"
   },
   {
    "duration": 7,
    "start_time": "2023-03-25T18:34:57.681Z"
   },
   {
    "duration": 10,
    "start_time": "2023-03-25T18:34:57.689Z"
   },
   {
    "duration": 12,
    "start_time": "2023-03-25T18:34:57.700Z"
   },
   {
    "duration": 51,
    "start_time": "2023-03-25T18:34:57.713Z"
   },
   {
    "duration": 8,
    "start_time": "2023-03-25T18:34:57.766Z"
   },
   {
    "duration": 87,
    "start_time": "2023-03-25T18:34:57.777Z"
   },
   {
    "duration": 169,
    "start_time": "2023-03-25T18:34:57.866Z"
   },
   {
    "duration": 8,
    "start_time": "2023-03-25T18:34:58.037Z"
   },
   {
    "duration": 26,
    "start_time": "2023-03-25T18:34:58.048Z"
   },
   {
    "duration": 9,
    "start_time": "2023-03-25T18:34:58.077Z"
   },
   {
    "duration": 7,
    "start_time": "2023-03-25T18:34:58.088Z"
   },
   {
    "duration": 7,
    "start_time": "2023-03-25T18:34:58.097Z"
   },
   {
    "duration": 7,
    "start_time": "2023-03-25T18:34:58.106Z"
   },
   {
    "duration": 31,
    "start_time": "2023-03-25T18:34:58.114Z"
   },
   {
    "duration": 23,
    "start_time": "2023-03-25T18:34:58.147Z"
   },
   {
    "duration": 251,
    "start_time": "2023-03-25T18:34:58.172Z"
   },
   {
    "duration": 5,
    "start_time": "2023-03-25T18:34:58.426Z"
   },
   {
    "duration": 39,
    "start_time": "2023-03-25T18:34:58.434Z"
   },
   {
    "duration": 9,
    "start_time": "2023-03-25T18:34:58.475Z"
   },
   {
    "duration": 281,
    "start_time": "2023-03-25T18:34:58.486Z"
   },
   {
    "duration": 12,
    "start_time": "2023-03-25T18:34:58.769Z"
   },
   {
    "duration": 177,
    "start_time": "2023-03-25T18:34:58.783Z"
   },
   {
    "duration": 7,
    "start_time": "2023-03-25T18:34:58.962Z"
   },
   {
    "duration": 10,
    "start_time": "2023-03-25T18:34:58.971Z"
   },
   {
    "duration": 12,
    "start_time": "2023-03-25T18:34:58.983Z"
   },
   {
    "duration": 6,
    "start_time": "2023-03-25T18:34:58.997Z"
   },
   {
    "duration": 193,
    "start_time": "2023-03-25T18:34:59.004Z"
   },
   {
    "duration": 14,
    "start_time": "2023-03-25T18:35:31.332Z"
   },
   {
    "duration": 9,
    "start_time": "2023-03-25T18:35:59.711Z"
   },
   {
    "duration": 11,
    "start_time": "2023-03-25T18:36:05.038Z"
   },
   {
    "duration": 120,
    "start_time": "2023-03-25T18:36:08.893Z"
   },
   {
    "duration": 2104,
    "start_time": "2023-03-25T18:36:09.015Z"
   },
   {
    "duration": 36,
    "start_time": "2023-03-25T18:36:11.121Z"
   },
   {
    "duration": 10,
    "start_time": "2023-03-25T18:36:11.159Z"
   },
   {
    "duration": 8,
    "start_time": "2023-03-25T18:36:11.172Z"
   },
   {
    "duration": 18,
    "start_time": "2023-03-25T18:36:11.182Z"
   },
   {
    "duration": 75,
    "start_time": "2023-03-25T18:36:11.202Z"
   },
   {
    "duration": 22,
    "start_time": "2023-03-25T18:36:11.279Z"
   },
   {
    "duration": 7,
    "start_time": "2023-03-25T18:36:11.303Z"
   },
   {
    "duration": 33,
    "start_time": "2023-03-25T18:36:11.312Z"
   },
   {
    "duration": 11,
    "start_time": "2023-03-25T18:36:11.347Z"
   },
   {
    "duration": 34,
    "start_time": "2023-03-25T18:36:11.360Z"
   },
   {
    "duration": 9,
    "start_time": "2023-03-25T18:36:11.396Z"
   },
   {
    "duration": 93,
    "start_time": "2023-03-25T18:36:11.408Z"
   },
   {
    "duration": 157,
    "start_time": "2023-03-25T18:36:11.503Z"
   },
   {
    "duration": 4,
    "start_time": "2023-03-25T18:36:11.662Z"
   },
   {
    "duration": 21,
    "start_time": "2023-03-25T18:36:11.668Z"
   },
   {
    "duration": 7,
    "start_time": "2023-03-25T18:36:11.691Z"
   },
   {
    "duration": 10,
    "start_time": "2023-03-25T18:36:11.700Z"
   },
   {
    "duration": 11,
    "start_time": "2023-03-25T18:36:11.712Z"
   },
   {
    "duration": 20,
    "start_time": "2023-03-25T18:36:11.725Z"
   },
   {
    "duration": 6,
    "start_time": "2023-03-25T18:36:11.747Z"
   },
   {
    "duration": 5,
    "start_time": "2023-03-25T18:36:11.755Z"
   },
   {
    "duration": 243,
    "start_time": "2023-03-25T18:36:11.762Z"
   },
   {
    "duration": 4,
    "start_time": "2023-03-25T18:36:12.007Z"
   },
   {
    "duration": 39,
    "start_time": "2023-03-25T18:36:12.013Z"
   },
   {
    "duration": 8,
    "start_time": "2023-03-25T18:36:12.055Z"
   },
   {
    "duration": 405,
    "start_time": "2023-03-25T18:36:12.064Z"
   },
   {
    "duration": 10,
    "start_time": "2023-03-25T18:36:12.471Z"
   },
   {
    "duration": 179,
    "start_time": "2023-03-25T18:36:12.482Z"
   },
   {
    "duration": 8,
    "start_time": "2023-03-25T18:36:12.663Z"
   },
   {
    "duration": 11,
    "start_time": "2023-03-25T18:36:12.673Z"
   },
   {
    "duration": 9,
    "start_time": "2023-03-25T18:36:12.686Z"
   },
   {
    "duration": 11,
    "start_time": "2023-03-25T18:36:12.697Z"
   },
   {
    "duration": 195,
    "start_time": "2023-03-25T18:36:12.710Z"
   },
   {
    "duration": 10,
    "start_time": "2023-03-25T18:36:23.132Z"
   },
   {
    "duration": 105,
    "start_time": "2023-03-25T18:36:29.707Z"
   },
   {
    "duration": 2028,
    "start_time": "2023-03-25T18:36:29.814Z"
   },
   {
    "duration": 17,
    "start_time": "2023-03-25T18:36:31.845Z"
   },
   {
    "duration": 29,
    "start_time": "2023-03-25T18:36:31.865Z"
   },
   {
    "duration": 12,
    "start_time": "2023-03-25T18:36:31.896Z"
   },
   {
    "duration": 16,
    "start_time": "2023-03-25T18:36:31.910Z"
   },
   {
    "duration": 57,
    "start_time": "2023-03-25T18:36:31.927Z"
   },
   {
    "duration": 20,
    "start_time": "2023-03-25T18:36:31.987Z"
   },
   {
    "duration": 8,
    "start_time": "2023-03-25T18:36:32.009Z"
   },
   {
    "duration": 21,
    "start_time": "2023-03-25T18:36:32.020Z"
   },
   {
    "duration": 29,
    "start_time": "2023-03-25T18:36:32.043Z"
   },
   {
    "duration": 32,
    "start_time": "2023-03-25T18:36:32.074Z"
   },
   {
    "duration": 7,
    "start_time": "2023-03-25T18:36:32.108Z"
   },
   {
    "duration": 78,
    "start_time": "2023-03-25T18:36:32.116Z"
   },
   {
    "duration": 153,
    "start_time": "2023-03-25T18:36:32.195Z"
   },
   {
    "duration": 4,
    "start_time": "2023-03-25T18:36:32.350Z"
   },
   {
    "duration": 27,
    "start_time": "2023-03-25T18:36:32.355Z"
   },
   {
    "duration": 8,
    "start_time": "2023-03-25T18:36:32.384Z"
   },
   {
    "duration": 18,
    "start_time": "2023-03-25T18:36:32.393Z"
   },
   {
    "duration": 34,
    "start_time": "2023-03-25T18:36:32.413Z"
   },
   {
    "duration": 53,
    "start_time": "2023-03-25T18:36:32.449Z"
   },
   {
    "duration": 11,
    "start_time": "2023-03-25T18:36:32.504Z"
   },
   {
    "duration": 22,
    "start_time": "2023-03-25T18:36:32.517Z"
   },
   {
    "duration": 241,
    "start_time": "2023-03-25T18:36:32.541Z"
   },
   {
    "duration": 4,
    "start_time": "2023-03-25T18:36:32.784Z"
   },
   {
    "duration": 29,
    "start_time": "2023-03-25T18:36:32.790Z"
   },
   {
    "duration": 20,
    "start_time": "2023-03-25T18:36:32.821Z"
   },
   {
    "duration": 235,
    "start_time": "2023-03-25T18:36:32.844Z"
   },
   {
    "duration": 9,
    "start_time": "2023-03-25T18:36:33.081Z"
   },
   {
    "duration": 175,
    "start_time": "2023-03-25T18:36:33.092Z"
   },
   {
    "duration": 10,
    "start_time": "2023-03-25T18:36:33.269Z"
   },
   {
    "duration": 10,
    "start_time": "2023-03-25T18:36:33.281Z"
   },
   {
    "duration": 10,
    "start_time": "2023-03-25T18:36:33.293Z"
   },
   {
    "duration": 37,
    "start_time": "2023-03-25T18:36:33.304Z"
   },
   {
    "duration": 168,
    "start_time": "2023-03-25T18:36:33.344Z"
   },
   {
    "duration": 10,
    "start_time": "2023-03-25T18:36:33.514Z"
   },
   {
    "duration": 10,
    "start_time": "2023-03-25T18:40:08.131Z"
   },
   {
    "duration": 167,
    "start_time": "2023-03-25T18:40:20.589Z"
   },
   {
    "duration": 166,
    "start_time": "2023-03-25T18:40:37.933Z"
   },
   {
    "duration": 390,
    "start_time": "2023-03-25T18:40:46.673Z"
   },
   {
    "duration": 154,
    "start_time": "2023-03-25T18:41:01.925Z"
   },
   {
    "duration": 220,
    "start_time": "2023-03-25T18:41:05.717Z"
   },
   {
    "duration": 235,
    "start_time": "2023-03-25T18:41:11.450Z"
   },
   {
    "duration": 165,
    "start_time": "2023-03-25T18:41:33.525Z"
   },
   {
    "duration": 209,
    "start_time": "2023-03-25T18:41:36.595Z"
   },
   {
    "duration": 188,
    "start_time": "2023-03-25T18:41:42.560Z"
   },
   {
    "duration": 162,
    "start_time": "2023-03-25T18:41:47.529Z"
   },
   {
    "duration": 158,
    "start_time": "2023-03-25T18:41:51.613Z"
   },
   {
    "duration": 145,
    "start_time": "2023-03-25T18:42:03.525Z"
   },
   {
    "duration": 285,
    "start_time": "2023-03-25T18:42:08.626Z"
   },
   {
    "duration": 199,
    "start_time": "2023-03-25T18:42:13.347Z"
   },
   {
    "duration": 156,
    "start_time": "2023-03-25T18:44:07.050Z"
   },
   {
    "duration": 9,
    "start_time": "2023-03-25T18:54:17.355Z"
   },
   {
    "duration": 8,
    "start_time": "2023-03-25T18:55:10.379Z"
   },
   {
    "duration": 8,
    "start_time": "2023-03-25T18:55:58.832Z"
   },
   {
    "duration": 12,
    "start_time": "2023-03-25T18:56:04.079Z"
   },
   {
    "duration": 112,
    "start_time": "2023-03-25T18:56:50.277Z"
   },
   {
    "duration": 2107,
    "start_time": "2023-03-25T18:56:50.391Z"
   },
   {
    "duration": 19,
    "start_time": "2023-03-25T18:56:52.501Z"
   },
   {
    "duration": 13,
    "start_time": "2023-03-25T18:56:52.542Z"
   },
   {
    "duration": 8,
    "start_time": "2023-03-25T18:56:52.557Z"
   },
   {
    "duration": 16,
    "start_time": "2023-03-25T18:56:52.567Z"
   },
   {
    "duration": 64,
    "start_time": "2023-03-25T18:56:52.585Z"
   },
   {
    "duration": 31,
    "start_time": "2023-03-25T18:56:52.651Z"
   },
   {
    "duration": 10,
    "start_time": "2023-03-25T18:56:52.684Z"
   },
   {
    "duration": 7,
    "start_time": "2023-03-25T18:56:52.698Z"
   },
   {
    "duration": 43,
    "start_time": "2023-03-25T18:56:52.707Z"
   },
   {
    "duration": 29,
    "start_time": "2023-03-25T18:56:52.752Z"
   },
   {
    "duration": 7,
    "start_time": "2023-03-25T18:56:52.783Z"
   },
   {
    "duration": 83,
    "start_time": "2023-03-25T18:56:52.792Z"
   },
   {
    "duration": 143,
    "start_time": "2023-03-25T18:56:52.877Z"
   },
   {
    "duration": 4,
    "start_time": "2023-03-25T18:56:53.022Z"
   },
   {
    "duration": 28,
    "start_time": "2023-03-25T18:56:53.028Z"
   },
   {
    "duration": 8,
    "start_time": "2023-03-25T18:56:53.058Z"
   },
   {
    "duration": 8,
    "start_time": "2023-03-25T18:56:53.068Z"
   },
   {
    "duration": 8,
    "start_time": "2023-03-25T18:56:53.077Z"
   },
   {
    "duration": 14,
    "start_time": "2023-03-25T18:56:53.087Z"
   },
   {
    "duration": 9,
    "start_time": "2023-03-25T18:56:53.103Z"
   },
   {
    "duration": 5,
    "start_time": "2023-03-25T18:56:53.114Z"
   },
   {
    "duration": 252,
    "start_time": "2023-03-25T18:56:53.121Z"
   },
   {
    "duration": 6,
    "start_time": "2023-03-25T18:56:53.375Z"
   },
   {
    "duration": 26,
    "start_time": "2023-03-25T18:56:53.383Z"
   },
   {
    "duration": 32,
    "start_time": "2023-03-25T18:56:53.411Z"
   },
   {
    "duration": 251,
    "start_time": "2023-03-25T18:56:53.447Z"
   },
   {
    "duration": 9,
    "start_time": "2023-03-25T18:56:53.700Z"
   },
   {
    "duration": 160,
    "start_time": "2023-03-25T18:56:53.711Z"
   },
   {
    "duration": 9,
    "start_time": "2023-03-25T18:56:53.873Z"
   },
   {
    "duration": 17,
    "start_time": "2023-03-25T18:56:53.884Z"
   },
   {
    "duration": 15,
    "start_time": "2023-03-25T18:56:53.904Z"
   },
   {
    "duration": 21,
    "start_time": "2023-03-25T18:56:53.921Z"
   },
   {
    "duration": 167,
    "start_time": "2023-03-25T18:56:53.944Z"
   },
   {
    "duration": 9,
    "start_time": "2023-03-25T18:56:54.113Z"
   },
   {
    "duration": 171,
    "start_time": "2023-03-25T18:56:54.124Z"
   },
   {
    "duration": 10,
    "start_time": "2023-03-25T18:56:54.297Z"
   },
   {
    "duration": 7,
    "start_time": "2023-03-25T18:58:11.498Z"
   },
   {
    "duration": 9,
    "start_time": "2023-03-25T18:58:24.827Z"
   },
   {
    "duration": 10,
    "start_time": "2023-03-25T20:35:23.580Z"
   },
   {
    "duration": 7,
    "start_time": "2023-03-25T20:35:42.229Z"
   },
   {
    "duration": 8,
    "start_time": "2023-03-25T20:36:12.813Z"
   },
   {
    "duration": 14,
    "start_time": "2023-03-25T20:36:42.514Z"
   },
   {
    "duration": 7,
    "start_time": "2023-03-25T20:37:29.263Z"
   },
   {
    "duration": 9,
    "start_time": "2023-03-25T20:37:48.248Z"
   },
   {
    "duration": 9,
    "start_time": "2023-03-25T20:37:52.102Z"
   },
   {
    "duration": 7,
    "start_time": "2023-03-25T20:38:00.934Z"
   },
   {
    "duration": 9,
    "start_time": "2023-03-25T20:42:12.096Z"
   },
   {
    "duration": 11,
    "start_time": "2023-03-25T20:42:21.521Z"
   },
   {
    "duration": 11,
    "start_time": "2023-03-25T20:44:13.474Z"
   },
   {
    "duration": 149,
    "start_time": "2023-03-25T20:44:38.889Z"
   },
   {
    "duration": 1631,
    "start_time": "2023-03-25T20:44:49.468Z"
   },
   {
    "duration": 1497,
    "start_time": "2023-03-25T20:44:58.917Z"
   },
   {
    "duration": 1626,
    "start_time": "2023-03-25T20:46:24.797Z"
   },
   {
    "duration": 1623,
    "start_time": "2023-03-25T20:46:52.060Z"
   },
   {
    "duration": 1532,
    "start_time": "2023-03-25T20:47:03.788Z"
   },
   {
    "duration": 15131,
    "start_time": "2023-03-25T20:47:09.519Z"
   },
   {
    "duration": 8986,
    "start_time": "2023-03-25T20:47:35.445Z"
   },
   {
    "duration": 199,
    "start_time": "2023-03-25T20:48:27.235Z"
   },
   {
    "duration": 205,
    "start_time": "2023-03-25T20:48:40.466Z"
   },
   {
    "duration": 1009,
    "start_time": "2023-03-25T20:48:55.199Z"
   },
   {
    "duration": 183,
    "start_time": "2023-03-25T20:49:28.692Z"
   },
   {
    "duration": 187,
    "start_time": "2023-03-25T20:49:36.804Z"
   },
   {
    "duration": 191,
    "start_time": "2023-03-25T20:49:41.416Z"
   },
   {
    "duration": 188,
    "start_time": "2023-03-25T20:49:48.838Z"
   },
   {
    "duration": 235,
    "start_time": "2023-03-25T20:50:02.456Z"
   },
   {
    "duration": 390,
    "start_time": "2023-03-25T20:50:10.633Z"
   },
   {
    "duration": 266,
    "start_time": "2023-03-25T20:50:18.031Z"
   },
   {
    "duration": 272,
    "start_time": "2023-03-25T20:52:01.804Z"
   },
   {
    "duration": 258,
    "start_time": "2023-03-25T20:52:11.268Z"
   },
   {
    "duration": 214,
    "start_time": "2023-03-25T20:52:15.572Z"
   },
   {
    "duration": 247,
    "start_time": "2023-03-25T20:52:23.991Z"
   },
   {
    "duration": 392,
    "start_time": "2023-03-25T20:52:29.823Z"
   },
   {
    "duration": 295,
    "start_time": "2023-03-25T20:52:35.167Z"
   },
   {
    "duration": 295,
    "start_time": "2023-03-25T20:52:38.571Z"
   },
   {
    "duration": 274,
    "start_time": "2023-03-25T20:52:42.861Z"
   },
   {
    "duration": 288,
    "start_time": "2023-03-25T20:52:45.990Z"
   },
   {
    "duration": 392,
    "start_time": "2023-03-25T20:52:49.626Z"
   },
   {
    "duration": 237,
    "start_time": "2023-03-25T20:52:55.362Z"
   },
   {
    "duration": 251,
    "start_time": "2023-03-25T20:53:00.112Z"
   },
   {
    "duration": 186,
    "start_time": "2023-03-25T20:53:04.344Z"
   },
   {
    "duration": 332,
    "start_time": "2023-03-25T20:53:09.280Z"
   },
   {
    "duration": 306,
    "start_time": "2023-03-25T20:53:14.529Z"
   },
   {
    "duration": 576,
    "start_time": "2023-03-25T20:53:18.384Z"
   },
   {
    "duration": 263,
    "start_time": "2023-03-25T20:53:24.027Z"
   },
   {
    "duration": 252,
    "start_time": "2023-03-25T20:54:24.236Z"
   },
   {
    "duration": 7,
    "start_time": "2023-03-25T20:56:17.082Z"
   },
   {
    "duration": 23,
    "start_time": "2023-03-25T21:03:32.211Z"
   },
   {
    "duration": 5,
    "start_time": "2023-03-25T21:08:58.762Z"
   },
   {
    "duration": 17,
    "start_time": "2023-03-25T21:09:05.594Z"
   },
   {
    "duration": 132,
    "start_time": "2023-03-25T21:09:10.487Z"
   },
   {
    "duration": 2349,
    "start_time": "2023-03-25T21:09:10.622Z"
   },
   {
    "duration": 18,
    "start_time": "2023-03-25T21:09:12.973Z"
   },
   {
    "duration": 10,
    "start_time": "2023-03-25T21:09:12.994Z"
   },
   {
    "duration": 34,
    "start_time": "2023-03-25T21:09:13.007Z"
   },
   {
    "duration": 19,
    "start_time": "2023-03-25T21:09:13.043Z"
   },
   {
    "duration": 37,
    "start_time": "2023-03-25T21:09:13.064Z"
   },
   {
    "duration": 45,
    "start_time": "2023-03-25T21:09:13.103Z"
   },
   {
    "duration": 8,
    "start_time": "2023-03-25T21:09:13.150Z"
   },
   {
    "duration": 17,
    "start_time": "2023-03-25T21:09:13.163Z"
   },
   {
    "duration": 17,
    "start_time": "2023-03-25T21:09:13.183Z"
   },
   {
    "duration": 59,
    "start_time": "2023-03-25T21:09:13.202Z"
   },
   {
    "duration": 10,
    "start_time": "2023-03-25T21:09:13.263Z"
   },
   {
    "duration": 94,
    "start_time": "2023-03-25T21:09:13.275Z"
   },
   {
    "duration": 163,
    "start_time": "2023-03-25T21:09:13.370Z"
   },
   {
    "duration": 5,
    "start_time": "2023-03-25T21:09:13.541Z"
   },
   {
    "duration": 36,
    "start_time": "2023-03-25T21:09:13.547Z"
   },
   {
    "duration": 9,
    "start_time": "2023-03-25T21:09:13.585Z"
   },
   {
    "duration": 9,
    "start_time": "2023-03-25T21:09:13.596Z"
   },
   {
    "duration": 6,
    "start_time": "2023-03-25T21:09:13.607Z"
   },
   {
    "duration": 25,
    "start_time": "2023-03-25T21:09:13.615Z"
   },
   {
    "duration": 6,
    "start_time": "2023-03-25T21:09:13.642Z"
   },
   {
    "duration": 21,
    "start_time": "2023-03-25T21:09:13.650Z"
   },
   {
    "duration": 252,
    "start_time": "2023-03-25T21:09:13.673Z"
   },
   {
    "duration": 6,
    "start_time": "2023-03-25T21:09:13.927Z"
   },
   {
    "duration": 54,
    "start_time": "2023-03-25T21:09:13.942Z"
   },
   {
    "duration": 11,
    "start_time": "2023-03-25T21:09:13.998Z"
   },
   {
    "duration": 304,
    "start_time": "2023-03-25T21:09:14.014Z"
   },
   {
    "duration": 23,
    "start_time": "2023-03-25T21:09:14.321Z"
   },
   {
    "duration": 194,
    "start_time": "2023-03-25T21:09:14.345Z"
   },
   {
    "duration": 11,
    "start_time": "2023-03-25T21:09:14.542Z"
   },
   {
    "duration": 24,
    "start_time": "2023-03-25T21:09:14.555Z"
   },
   {
    "duration": 9,
    "start_time": "2023-03-25T21:09:14.581Z"
   },
   {
    "duration": 8,
    "start_time": "2023-03-25T21:09:14.592Z"
   },
   {
    "duration": 220,
    "start_time": "2023-03-25T21:09:14.602Z"
   },
   {
    "duration": 24,
    "start_time": "2023-03-25T21:09:14.825Z"
   },
   {
    "duration": 400,
    "start_time": "2023-03-25T21:09:14.851Z"
   },
   {
    "duration": 12,
    "start_time": "2023-03-25T21:09:15.253Z"
   },
   {
    "duration": 66,
    "start_time": "2023-03-25T21:09:15.268Z"
   },
   {
    "duration": 0,
    "start_time": "2023-03-25T21:09:15.337Z"
   },
   {
    "duration": 0,
    "start_time": "2023-03-25T21:09:15.339Z"
   },
   {
    "duration": 0,
    "start_time": "2023-03-25T21:09:15.341Z"
   },
   {
    "duration": 0,
    "start_time": "2023-03-25T21:09:15.342Z"
   },
   {
    "duration": 16,
    "start_time": "2023-03-25T21:09:38.388Z"
   },
   {
    "duration": 141,
    "start_time": "2023-03-25T21:09:55.157Z"
   },
   {
    "duration": 2070,
    "start_time": "2023-03-25T21:09:55.301Z"
   },
   {
    "duration": 16,
    "start_time": "2023-03-25T21:09:57.373Z"
   },
   {
    "duration": 9,
    "start_time": "2023-03-25T21:09:57.390Z"
   },
   {
    "duration": 6,
    "start_time": "2023-03-25T21:09:57.401Z"
   },
   {
    "duration": 45,
    "start_time": "2023-03-25T21:09:57.409Z"
   },
   {
    "duration": 47,
    "start_time": "2023-03-25T21:09:57.457Z"
   },
   {
    "duration": 36,
    "start_time": "2023-03-25T21:09:57.505Z"
   },
   {
    "duration": 10,
    "start_time": "2023-03-25T21:09:57.543Z"
   },
   {
    "duration": 15,
    "start_time": "2023-03-25T21:09:57.554Z"
   },
   {
    "duration": 13,
    "start_time": "2023-03-25T21:09:57.571Z"
   },
   {
    "duration": 32,
    "start_time": "2023-03-25T21:09:57.586Z"
   },
   {
    "duration": 30,
    "start_time": "2023-03-25T21:09:57.619Z"
   },
   {
    "duration": 70,
    "start_time": "2023-03-25T21:09:57.663Z"
   },
   {
    "duration": 149,
    "start_time": "2023-03-25T21:09:57.735Z"
   },
   {
    "duration": 4,
    "start_time": "2023-03-25T21:09:57.886Z"
   },
   {
    "duration": 21,
    "start_time": "2023-03-25T21:09:57.892Z"
   },
   {
    "duration": 8,
    "start_time": "2023-03-25T21:09:57.914Z"
   },
   {
    "duration": 25,
    "start_time": "2023-03-25T21:09:57.924Z"
   },
   {
    "duration": 14,
    "start_time": "2023-03-25T21:09:57.951Z"
   },
   {
    "duration": 10,
    "start_time": "2023-03-25T21:09:57.967Z"
   },
   {
    "duration": 8,
    "start_time": "2023-03-25T21:09:57.979Z"
   },
   {
    "duration": 10,
    "start_time": "2023-03-25T21:09:57.989Z"
   },
   {
    "duration": 420,
    "start_time": "2023-03-25T21:09:58.000Z"
   },
   {
    "duration": 5,
    "start_time": "2023-03-25T21:09:58.422Z"
   },
   {
    "duration": 41,
    "start_time": "2023-03-25T21:09:58.429Z"
   },
   {
    "duration": 10,
    "start_time": "2023-03-25T21:09:58.472Z"
   },
   {
    "duration": 294,
    "start_time": "2023-03-25T21:09:58.483Z"
   },
   {
    "duration": 12,
    "start_time": "2023-03-25T21:09:58.779Z"
   },
   {
    "duration": 188,
    "start_time": "2023-03-25T21:09:58.793Z"
   },
   {
    "duration": 8,
    "start_time": "2023-03-25T21:09:58.982Z"
   },
   {
    "duration": 13,
    "start_time": "2023-03-25T21:09:58.992Z"
   },
   {
    "duration": 12,
    "start_time": "2023-03-25T21:09:59.006Z"
   },
   {
    "duration": 23,
    "start_time": "2023-03-25T21:09:59.020Z"
   },
   {
    "duration": 171,
    "start_time": "2023-03-25T21:09:59.046Z"
   },
   {
    "duration": 9,
    "start_time": "2023-03-25T21:09:59.219Z"
   },
   {
    "duration": 171,
    "start_time": "2023-03-25T21:09:59.240Z"
   },
   {
    "duration": 11,
    "start_time": "2023-03-25T21:09:59.413Z"
   },
   {
    "duration": 24,
    "start_time": "2023-03-25T21:09:59.426Z"
   },
   {
    "duration": 278,
    "start_time": "2023-03-25T21:09:59.452Z"
   },
   {
    "duration": 10,
    "start_time": "2023-03-25T21:09:59.734Z"
   },
   {
    "duration": 34,
    "start_time": "2023-03-25T21:09:59.746Z"
   },
   {
    "duration": 255,
    "start_time": "2023-03-25T21:13:35.752Z"
   },
   {
    "duration": 11,
    "start_time": "2023-03-25T21:13:37.843Z"
   },
   {
    "duration": 319,
    "start_time": "2023-03-25T21:13:48.981Z"
   },
   {
    "duration": 151,
    "start_time": "2023-03-25T21:13:53.176Z"
   },
   {
    "duration": 186,
    "start_time": "2023-03-25T21:13:58.025Z"
   },
   {
    "duration": 147,
    "start_time": "2023-03-25T21:14:02.614Z"
   },
   {
    "duration": 142,
    "start_time": "2023-03-25T21:14:12.314Z"
   },
   {
    "duration": 10,
    "start_time": "2023-03-25T21:19:23.606Z"
   },
   {
    "duration": 11,
    "start_time": "2023-03-25T21:19:26.629Z"
   },
   {
    "duration": 12,
    "start_time": "2023-03-25T21:19:42.535Z"
   },
   {
    "duration": 16,
    "start_time": "2023-03-25T21:20:38.980Z"
   },
   {
    "duration": 16,
    "start_time": "2023-03-25T21:21:29.918Z"
   },
   {
    "duration": 14,
    "start_time": "2023-03-25T21:22:06.541Z"
   },
   {
    "duration": 19,
    "start_time": "2023-03-25T21:47:09.036Z"
   },
   {
    "duration": 141,
    "start_time": "2023-03-25T21:48:38.164Z"
   },
   {
    "duration": 258,
    "start_time": "2023-03-25T21:48:44.301Z"
   },
   {
    "duration": 238,
    "start_time": "2023-03-25T21:48:48.499Z"
   },
   {
    "duration": 407,
    "start_time": "2023-03-25T21:48:52.858Z"
   },
   {
    "duration": 286,
    "start_time": "2023-03-25T21:48:56.931Z"
   },
   {
    "duration": 177,
    "start_time": "2023-03-25T21:49:06.143Z"
   },
   {
    "duration": 155,
    "start_time": "2023-03-25T21:49:08.597Z"
   },
   {
    "duration": 157,
    "start_time": "2023-03-25T21:49:13.930Z"
   },
   {
    "duration": 182,
    "start_time": "2023-03-25T21:49:17.820Z"
   },
   {
    "duration": 11,
    "start_time": "2023-03-25T21:53:42.359Z"
   },
   {
    "duration": 226,
    "start_time": "2023-03-25T21:53:47.727Z"
   },
   {
    "duration": 206,
    "start_time": "2023-03-25T21:53:53.496Z"
   },
   {
    "duration": 133,
    "start_time": "2023-03-25T21:53:58.402Z"
   },
   {
    "duration": 165,
    "start_time": "2023-03-25T21:54:08.532Z"
   },
   {
    "duration": 353,
    "start_time": "2023-03-25T21:54:14.372Z"
   },
   {
    "duration": 229,
    "start_time": "2023-03-25T21:54:18.561Z"
   },
   {
    "duration": 257,
    "start_time": "2023-03-25T21:54:23.806Z"
   },
   {
    "duration": 14,
    "start_time": "2023-03-25T22:00:46.961Z"
   },
   {
    "duration": 175,
    "start_time": "2023-03-25T22:00:51.786Z"
   },
   {
    "duration": 195,
    "start_time": "2023-03-25T22:01:04.020Z"
   },
   {
    "duration": 14,
    "start_time": "2023-03-25T22:03:57.570Z"
   },
   {
    "duration": 179,
    "start_time": "2023-03-25T22:04:18.955Z"
   },
   {
    "duration": 200,
    "start_time": "2023-03-25T22:07:04.185Z"
   },
   {
    "duration": 155,
    "start_time": "2023-03-25T22:07:19.962Z"
   },
   {
    "duration": 219,
    "start_time": "2023-03-25T22:07:30.799Z"
   },
   {
    "duration": 15,
    "start_time": "2023-03-25T22:18:42.405Z"
   },
   {
    "duration": 12,
    "start_time": "2023-03-25T22:18:45.164Z"
   },
   {
    "duration": 11,
    "start_time": "2023-03-25T22:19:07.961Z"
   },
   {
    "duration": 127,
    "start_time": "2023-03-25T22:19:12.968Z"
   },
   {
    "duration": 2393,
    "start_time": "2023-03-25T22:19:13.098Z"
   },
   {
    "duration": 28,
    "start_time": "2023-03-25T22:19:15.494Z"
   },
   {
    "duration": 36,
    "start_time": "2023-03-25T22:19:15.526Z"
   },
   {
    "duration": 20,
    "start_time": "2023-03-25T22:19:15.564Z"
   },
   {
    "duration": 14,
    "start_time": "2023-03-25T22:19:15.587Z"
   },
   {
    "duration": 43,
    "start_time": "2023-03-25T22:19:15.603Z"
   },
   {
    "duration": 24,
    "start_time": "2023-03-25T22:19:15.651Z"
   },
   {
    "duration": 7,
    "start_time": "2023-03-25T22:19:15.677Z"
   },
   {
    "duration": 13,
    "start_time": "2023-03-25T22:19:15.687Z"
   },
   {
    "duration": 21,
    "start_time": "2023-03-25T22:19:15.703Z"
   },
   {
    "duration": 52,
    "start_time": "2023-03-25T22:19:15.726Z"
   },
   {
    "duration": 10,
    "start_time": "2023-03-25T22:19:15.780Z"
   },
   {
    "duration": 131,
    "start_time": "2023-03-25T22:19:15.792Z"
   },
   {
    "duration": 197,
    "start_time": "2023-03-25T22:19:15.925Z"
   },
   {
    "duration": 9,
    "start_time": "2023-03-25T22:19:16.124Z"
   },
   {
    "duration": 42,
    "start_time": "2023-03-25T22:19:16.146Z"
   },
   {
    "duration": 14,
    "start_time": "2023-03-25T22:19:16.190Z"
   },
   {
    "duration": 19,
    "start_time": "2023-03-25T22:19:16.206Z"
   },
   {
    "duration": 7,
    "start_time": "2023-03-25T22:19:16.227Z"
   },
   {
    "duration": 42,
    "start_time": "2023-03-25T22:19:16.236Z"
   },
   {
    "duration": 14,
    "start_time": "2023-03-25T22:19:16.280Z"
   },
   {
    "duration": 12,
    "start_time": "2023-03-25T22:19:16.296Z"
   },
   {
    "duration": 440,
    "start_time": "2023-03-25T22:19:16.310Z"
   },
   {
    "duration": 8,
    "start_time": "2023-03-25T22:19:16.754Z"
   },
   {
    "duration": 202,
    "start_time": "2023-03-25T22:19:16.764Z"
   },
   {
    "duration": 34,
    "start_time": "2023-03-25T22:19:16.969Z"
   },
   {
    "duration": 352,
    "start_time": "2023-03-25T22:19:17.008Z"
   },
   {
    "duration": 13,
    "start_time": "2023-03-25T22:19:17.363Z"
   },
   {
    "duration": 196,
    "start_time": "2023-03-25T22:19:17.379Z"
   },
   {
    "duration": 11,
    "start_time": "2023-03-25T22:19:17.577Z"
   },
   {
    "duration": 25,
    "start_time": "2023-03-25T22:19:17.591Z"
   },
   {
    "duration": 36,
    "start_time": "2023-03-25T22:19:17.619Z"
   },
   {
    "duration": 12,
    "start_time": "2023-03-25T22:19:17.656Z"
   },
   {
    "duration": 218,
    "start_time": "2023-03-25T22:19:17.671Z"
   },
   {
    "duration": 12,
    "start_time": "2023-03-25T22:19:17.891Z"
   },
   {
    "duration": 225,
    "start_time": "2023-03-25T22:19:17.904Z"
   },
   {
    "duration": 23,
    "start_time": "2023-03-25T22:19:18.132Z"
   },
   {
    "duration": 22,
    "start_time": "2023-03-25T22:19:18.158Z"
   },
   {
    "duration": 304,
    "start_time": "2023-03-25T22:19:18.183Z"
   },
   {
    "duration": 7,
    "start_time": "2023-03-25T22:19:18.489Z"
   },
   {
    "duration": 21,
    "start_time": "2023-03-25T22:19:18.498Z"
   },
   {
    "duration": 40,
    "start_time": "2023-03-25T22:19:18.521Z"
   },
   {
    "duration": 174,
    "start_time": "2023-03-25T22:19:18.564Z"
   },
   {
    "duration": 24,
    "start_time": "2023-03-25T22:19:18.740Z"
   },
   {
    "duration": 27,
    "start_time": "2023-03-25T22:19:18.766Z"
   },
   {
    "duration": 192,
    "start_time": "2023-03-25T22:19:18.795Z"
   },
   {
    "duration": 12,
    "start_time": "2023-03-25T22:19:18.990Z"
   },
   {
    "duration": 232,
    "start_time": "2023-03-25T22:19:19.005Z"
   },
   {
    "duration": 19,
    "start_time": "2023-03-25T22:19:19.240Z"
   },
   {
    "duration": 285,
    "start_time": "2023-03-25T22:19:19.261Z"
   },
   {
    "duration": 15,
    "start_time": "2023-03-25T22:19:19.548Z"
   },
   {
    "duration": 176,
    "start_time": "2023-03-25T22:19:19.565Z"
   },
   {
    "duration": 22,
    "start_time": "2023-03-25T22:19:19.779Z"
   },
   {
    "duration": 35,
    "start_time": "2023-03-25T22:19:42.161Z"
   },
   {
    "duration": 9,
    "start_time": "2023-03-25T22:23:21.370Z"
   },
   {
    "duration": 14,
    "start_time": "2023-03-25T22:23:51.724Z"
   },
   {
    "duration": 20,
    "start_time": "2023-03-25T22:24:14.139Z"
   },
   {
    "duration": 11,
    "start_time": "2023-03-25T22:25:07.221Z"
   },
   {
    "duration": 15,
    "start_time": "2023-03-25T22:25:26.098Z"
   },
   {
    "duration": 12,
    "start_time": "2023-03-25T22:29:42.440Z"
   },
   {
    "duration": 152,
    "start_time": "2023-03-25T22:30:31.066Z"
   },
   {
    "duration": 214,
    "start_time": "2023-03-25T22:30:38.830Z"
   },
   {
    "duration": 240,
    "start_time": "2023-03-25T22:30:43.182Z"
   },
   {
    "duration": 15,
    "start_time": "2023-03-25T22:35:18.941Z"
   },
   {
    "duration": 247,
    "start_time": "2023-03-25T22:35:52.498Z"
   },
   {
    "duration": 223,
    "start_time": "2023-03-25T22:36:39.685Z"
   },
   {
    "duration": 220,
    "start_time": "2023-03-25T22:37:28.705Z"
   },
   {
    "duration": 200,
    "start_time": "2023-03-25T22:37:41.813Z"
   },
   {
    "duration": 425,
    "start_time": "2023-03-25T22:37:50.380Z"
   },
   {
    "duration": 256,
    "start_time": "2023-03-25T22:37:51.279Z"
   },
   {
    "duration": 338,
    "start_time": "2023-03-25T22:37:55.896Z"
   },
   {
    "duration": 279,
    "start_time": "2023-03-25T22:38:00.196Z"
   },
   {
    "duration": 953,
    "start_time": "2023-03-25T22:38:04.957Z"
   },
   {
    "duration": 209,
    "start_time": "2023-03-25T22:38:10.452Z"
   },
   {
    "duration": 194,
    "start_time": "2023-03-25T22:38:27.802Z"
   },
   {
    "duration": 249,
    "start_time": "2023-03-25T22:38:33.588Z"
   },
   {
    "duration": 186,
    "start_time": "2023-03-25T22:38:38.253Z"
   },
   {
    "duration": 137,
    "start_time": "2023-03-25T22:38:43.116Z"
   },
   {
    "duration": 9,
    "start_time": "2023-03-25T22:38:49.050Z"
   },
   {
    "duration": 107,
    "start_time": "2023-03-25T22:39:48.182Z"
   },
   {
    "duration": 2015,
    "start_time": "2023-03-25T22:39:48.291Z"
   },
   {
    "duration": 34,
    "start_time": "2023-03-25T22:39:50.308Z"
   },
   {
    "duration": 11,
    "start_time": "2023-03-25T22:39:50.344Z"
   },
   {
    "duration": 9,
    "start_time": "2023-03-25T22:39:50.358Z"
   },
   {
    "duration": 13,
    "start_time": "2023-03-25T22:39:50.369Z"
   },
   {
    "duration": 67,
    "start_time": "2023-03-25T22:39:50.384Z"
   },
   {
    "duration": 23,
    "start_time": "2023-03-25T22:39:50.453Z"
   },
   {
    "duration": 8,
    "start_time": "2023-03-25T22:39:50.478Z"
   },
   {
    "duration": 22,
    "start_time": "2023-03-25T22:39:50.488Z"
   },
   {
    "duration": 30,
    "start_time": "2023-03-25T22:39:50.511Z"
   },
   {
    "duration": 27,
    "start_time": "2023-03-25T22:39:50.543Z"
   },
   {
    "duration": 17,
    "start_time": "2023-03-25T22:39:50.572Z"
   },
   {
    "duration": 79,
    "start_time": "2023-03-25T22:39:50.592Z"
   },
   {
    "duration": 153,
    "start_time": "2023-03-25T22:39:50.672Z"
   },
   {
    "duration": 4,
    "start_time": "2023-03-25T22:39:50.827Z"
   },
   {
    "duration": 15,
    "start_time": "2023-03-25T22:39:50.840Z"
   },
   {
    "duration": 17,
    "start_time": "2023-03-25T22:39:50.857Z"
   },
   {
    "duration": 15,
    "start_time": "2023-03-25T22:39:50.876Z"
   },
   {
    "duration": 7,
    "start_time": "2023-03-25T22:39:50.893Z"
   },
   {
    "duration": 9,
    "start_time": "2023-03-25T22:39:50.902Z"
   },
   {
    "duration": 33,
    "start_time": "2023-03-25T22:39:50.913Z"
   },
   {
    "duration": 47,
    "start_time": "2023-03-25T22:39:50.948Z"
   },
   {
    "duration": 389,
    "start_time": "2023-03-25T22:39:50.997Z"
   },
   {
    "duration": 5,
    "start_time": "2023-03-25T22:39:51.387Z"
   },
   {
    "duration": 30,
    "start_time": "2023-03-25T22:39:51.393Z"
   },
   {
    "duration": 20,
    "start_time": "2023-03-25T22:39:51.425Z"
   },
   {
    "duration": 249,
    "start_time": "2023-03-25T22:39:51.447Z"
   },
   {
    "duration": 9,
    "start_time": "2023-03-25T22:39:51.697Z"
   },
   {
    "duration": 166,
    "start_time": "2023-03-25T22:39:51.708Z"
   },
   {
    "duration": 8,
    "start_time": "2023-03-25T22:39:51.876Z"
   },
   {
    "duration": 14,
    "start_time": "2023-03-25T22:39:51.886Z"
   },
   {
    "duration": 9,
    "start_time": "2023-03-25T22:39:51.902Z"
   },
   {
    "duration": 12,
    "start_time": "2023-03-25T22:39:51.913Z"
   },
   {
    "duration": 175,
    "start_time": "2023-03-25T22:39:51.941Z"
   },
   {
    "duration": 9,
    "start_time": "2023-03-25T22:39:52.118Z"
   },
   {
    "duration": 164,
    "start_time": "2023-03-25T22:39:52.129Z"
   },
   {
    "duration": 9,
    "start_time": "2023-03-25T22:39:52.295Z"
   },
   {
    "duration": 7,
    "start_time": "2023-03-25T22:39:52.306Z"
   },
   {
    "duration": 268,
    "start_time": "2023-03-25T22:39:52.315Z"
   },
   {
    "duration": 6,
    "start_time": "2023-03-25T22:39:52.587Z"
   },
   {
    "duration": 23,
    "start_time": "2023-03-25T22:39:52.594Z"
   },
   {
    "duration": 24,
    "start_time": "2023-03-25T22:39:52.619Z"
   },
   {
    "duration": 8,
    "start_time": "2023-03-25T22:39:52.645Z"
   },
   {
    "duration": 145,
    "start_time": "2023-03-25T22:39:52.655Z"
   },
   {
    "duration": 12,
    "start_time": "2023-03-25T22:39:52.802Z"
   },
   {
    "duration": 25,
    "start_time": "2023-03-25T22:39:52.816Z"
   },
   {
    "duration": 166,
    "start_time": "2023-03-25T22:39:52.843Z"
   },
   {
    "duration": 9,
    "start_time": "2023-03-25T22:39:53.011Z"
   },
   {
    "duration": 197,
    "start_time": "2023-03-25T22:39:53.022Z"
   },
   {
    "duration": 19,
    "start_time": "2023-03-25T22:39:53.222Z"
   },
   {
    "duration": 127,
    "start_time": "2023-03-25T22:39:53.243Z"
   },
   {
    "duration": 9,
    "start_time": "2023-03-25T22:39:53.372Z"
   },
   {
    "duration": 291,
    "start_time": "2023-03-25T22:39:53.383Z"
   },
   {
    "duration": 7,
    "start_time": "2023-03-25T22:39:53.676Z"
   },
   {
    "duration": 21,
    "start_time": "2023-03-25T22:39:53.685Z"
   },
   {
    "duration": 8,
    "start_time": "2023-03-25T22:39:53.707Z"
   },
   {
    "duration": 211,
    "start_time": "2023-03-25T22:39:53.717Z"
   },
   {
    "duration": 18,
    "start_time": "2023-03-25T22:39:53.931Z"
   },
   {
    "duration": 152,
    "start_time": "2023-03-25T22:39:53.951Z"
   },
   {
    "duration": 141,
    "start_time": "2023-03-25T22:40:06.486Z"
   },
   {
    "duration": 152,
    "start_time": "2023-03-25T22:40:12.158Z"
   },
   {
    "duration": 153,
    "start_time": "2023-03-25T22:40:22.890Z"
   },
   {
    "duration": 226,
    "start_time": "2023-03-25T22:40:30.035Z"
   },
   {
    "duration": 201,
    "start_time": "2023-03-25T22:40:43.036Z"
   },
   {
    "duration": 187,
    "start_time": "2023-03-25T22:41:14.192Z"
   },
   {
    "duration": 112,
    "start_time": "2023-03-25T22:41:23.463Z"
   },
   {
    "duration": 2011,
    "start_time": "2023-03-25T22:41:23.577Z"
   },
   {
    "duration": 17,
    "start_time": "2023-03-25T22:41:25.590Z"
   },
   {
    "duration": 31,
    "start_time": "2023-03-25T22:41:25.610Z"
   },
   {
    "duration": 8,
    "start_time": "2023-03-25T22:41:25.644Z"
   },
   {
    "duration": 21,
    "start_time": "2023-03-25T22:41:25.653Z"
   },
   {
    "duration": 36,
    "start_time": "2023-03-25T22:41:25.676Z"
   },
   {
    "duration": 48,
    "start_time": "2023-03-25T22:41:25.714Z"
   },
   {
    "duration": 9,
    "start_time": "2023-03-25T22:41:25.767Z"
   },
   {
    "duration": 26,
    "start_time": "2023-03-25T22:41:25.778Z"
   },
   {
    "duration": 16,
    "start_time": "2023-03-25T22:41:25.807Z"
   },
   {
    "duration": 45,
    "start_time": "2023-03-25T22:41:25.825Z"
   },
   {
    "duration": 27,
    "start_time": "2023-03-25T22:41:25.874Z"
   },
   {
    "duration": 84,
    "start_time": "2023-03-25T22:41:25.905Z"
   },
   {
    "duration": 169,
    "start_time": "2023-03-25T22:41:25.992Z"
   },
   {
    "duration": 4,
    "start_time": "2023-03-25T22:41:26.164Z"
   },
   {
    "duration": 17,
    "start_time": "2023-03-25T22:41:26.170Z"
   },
   {
    "duration": 9,
    "start_time": "2023-03-25T22:41:26.188Z"
   },
   {
    "duration": 9,
    "start_time": "2023-03-25T22:41:26.199Z"
   },
   {
    "duration": 6,
    "start_time": "2023-03-25T22:41:26.242Z"
   },
   {
    "duration": 9,
    "start_time": "2023-03-25T22:41:26.249Z"
   },
   {
    "duration": 5,
    "start_time": "2023-03-25T22:41:26.260Z"
   },
   {
    "duration": 10,
    "start_time": "2023-03-25T22:41:26.267Z"
   },
   {
    "duration": 402,
    "start_time": "2023-03-25T22:41:26.279Z"
   },
   {
    "duration": 6,
    "start_time": "2023-03-25T22:41:26.683Z"
   },
   {
    "duration": 40,
    "start_time": "2023-03-25T22:41:26.691Z"
   },
   {
    "duration": 14,
    "start_time": "2023-03-25T22:41:26.733Z"
   },
   {
    "duration": 261,
    "start_time": "2023-03-25T22:41:26.748Z"
   },
   {
    "duration": 9,
    "start_time": "2023-03-25T22:41:27.011Z"
   },
   {
    "duration": 172,
    "start_time": "2023-03-25T22:41:27.022Z"
   },
   {
    "duration": 10,
    "start_time": "2023-03-25T22:41:27.196Z"
   },
   {
    "duration": 9,
    "start_time": "2023-03-25T22:41:27.208Z"
   },
   {
    "duration": 29,
    "start_time": "2023-03-25T22:41:27.219Z"
   },
   {
    "duration": 7,
    "start_time": "2023-03-25T22:41:27.249Z"
   },
   {
    "duration": 184,
    "start_time": "2023-03-25T22:41:27.258Z"
   },
   {
    "duration": 9,
    "start_time": "2023-03-25T22:41:27.444Z"
   },
   {
    "duration": 193,
    "start_time": "2023-03-25T22:41:27.455Z"
   },
   {
    "duration": 12,
    "start_time": "2023-03-25T22:41:27.650Z"
   },
   {
    "duration": 44,
    "start_time": "2023-03-25T22:41:27.664Z"
   },
   {
    "duration": 296,
    "start_time": "2023-03-25T22:41:27.711Z"
   },
   {
    "duration": 6,
    "start_time": "2023-03-25T22:41:28.011Z"
   },
   {
    "duration": 28,
    "start_time": "2023-03-25T22:41:28.019Z"
   },
   {
    "duration": 8,
    "start_time": "2023-03-25T22:41:28.049Z"
   },
   {
    "duration": 8,
    "start_time": "2023-03-25T22:41:28.059Z"
   },
   {
    "duration": 155,
    "start_time": "2023-03-25T22:41:28.068Z"
   },
   {
    "duration": 20,
    "start_time": "2023-03-25T22:41:28.225Z"
   },
   {
    "duration": 15,
    "start_time": "2023-03-25T22:41:28.247Z"
   },
   {
    "duration": 177,
    "start_time": "2023-03-25T22:41:28.264Z"
   },
   {
    "duration": 8,
    "start_time": "2023-03-25T22:41:28.444Z"
   },
   {
    "duration": 210,
    "start_time": "2023-03-25T22:41:28.453Z"
   },
   {
    "duration": 9,
    "start_time": "2023-03-25T22:41:28.664Z"
   },
   {
    "duration": 284,
    "start_time": "2023-03-25T22:41:28.675Z"
   },
   {
    "duration": 10,
    "start_time": "2023-03-25T22:41:28.961Z"
   },
   {
    "duration": 153,
    "start_time": "2023-03-25T22:41:28.972Z"
   },
   {
    "duration": 7,
    "start_time": "2023-03-25T22:41:29.127Z"
   },
   {
    "duration": 32,
    "start_time": "2023-03-25T22:41:29.141Z"
   },
   {
    "duration": 10,
    "start_time": "2023-03-25T22:41:29.174Z"
   },
   {
    "duration": 209,
    "start_time": "2023-03-25T22:41:29.186Z"
   },
   {
    "duration": 10,
    "start_time": "2023-03-25T22:41:29.397Z"
   },
   {
    "duration": 196,
    "start_time": "2023-03-25T22:41:29.409Z"
   },
   {
    "duration": 188,
    "start_time": "2023-03-25T22:42:38.177Z"
   },
   {
    "duration": 113,
    "start_time": "2023-03-25T22:45:13.915Z"
   },
   {
    "duration": 2280,
    "start_time": "2023-03-25T22:45:14.030Z"
   },
   {
    "duration": 18,
    "start_time": "2023-03-25T22:45:16.312Z"
   },
   {
    "duration": 10,
    "start_time": "2023-03-25T22:45:16.342Z"
   },
   {
    "duration": 16,
    "start_time": "2023-03-25T22:45:16.355Z"
   },
   {
    "duration": 16,
    "start_time": "2023-03-25T22:45:16.374Z"
   },
   {
    "duration": 57,
    "start_time": "2023-03-25T22:45:16.392Z"
   },
   {
    "duration": 20,
    "start_time": "2023-03-25T22:45:16.451Z"
   },
   {
    "duration": 9,
    "start_time": "2023-03-25T22:45:16.473Z"
   },
   {
    "duration": 14,
    "start_time": "2023-03-25T22:45:16.484Z"
   },
   {
    "duration": 47,
    "start_time": "2023-03-25T22:45:16.500Z"
   },
   {
    "duration": 32,
    "start_time": "2023-03-25T22:45:16.549Z"
   },
   {
    "duration": 20,
    "start_time": "2023-03-25T22:45:16.583Z"
   },
   {
    "duration": 94,
    "start_time": "2023-03-25T22:45:16.607Z"
   },
   {
    "duration": 172,
    "start_time": "2023-03-25T22:45:16.704Z"
   },
   {
    "duration": 5,
    "start_time": "2023-03-25T22:45:16.878Z"
   },
   {
    "duration": 34,
    "start_time": "2023-03-25T22:45:16.884Z"
   },
   {
    "duration": 15,
    "start_time": "2023-03-25T22:45:16.920Z"
   },
   {
    "duration": 23,
    "start_time": "2023-03-25T22:45:16.941Z"
   },
   {
    "duration": 12,
    "start_time": "2023-03-25T22:45:16.966Z"
   },
   {
    "duration": 17,
    "start_time": "2023-03-25T22:45:16.980Z"
   },
   {
    "duration": 16,
    "start_time": "2023-03-25T22:45:16.999Z"
   },
   {
    "duration": 13,
    "start_time": "2023-03-25T22:45:17.017Z"
   },
   {
    "duration": 235,
    "start_time": "2023-03-25T22:45:17.031Z"
   },
   {
    "duration": 5,
    "start_time": "2023-03-25T22:45:17.268Z"
   },
   {
    "duration": 56,
    "start_time": "2023-03-25T22:45:17.275Z"
   },
   {
    "duration": 10,
    "start_time": "2023-03-25T22:45:17.334Z"
   },
   {
    "duration": 312,
    "start_time": "2023-03-25T22:45:17.346Z"
   },
   {
    "duration": 12,
    "start_time": "2023-03-25T22:45:17.660Z"
   },
   {
    "duration": 371,
    "start_time": "2023-03-25T22:45:17.676Z"
   },
   {
    "duration": 9,
    "start_time": "2023-03-25T22:45:18.049Z"
   },
   {
    "duration": 11,
    "start_time": "2023-03-25T22:45:18.059Z"
   },
   {
    "duration": 11,
    "start_time": "2023-03-25T22:45:18.071Z"
   },
   {
    "duration": 8,
    "start_time": "2023-03-25T22:45:18.084Z"
   },
   {
    "duration": 214,
    "start_time": "2023-03-25T22:45:18.094Z"
   },
   {
    "duration": 15,
    "start_time": "2023-03-25T22:45:18.311Z"
   },
   {
    "duration": 216,
    "start_time": "2023-03-25T22:45:18.328Z"
   },
   {
    "duration": 14,
    "start_time": "2023-03-25T22:45:18.547Z"
   },
   {
    "duration": 16,
    "start_time": "2023-03-25T22:45:18.563Z"
   },
   {
    "duration": 315,
    "start_time": "2023-03-25T22:45:18.582Z"
   },
   {
    "duration": 6,
    "start_time": "2023-03-25T22:45:18.903Z"
   },
   {
    "duration": 35,
    "start_time": "2023-03-25T22:45:18.911Z"
   },
   {
    "duration": 11,
    "start_time": "2023-03-25T22:45:18.948Z"
   },
   {
    "duration": 11,
    "start_time": "2023-03-25T22:45:18.960Z"
   },
   {
    "duration": 175,
    "start_time": "2023-03-25T22:45:18.973Z"
   },
   {
    "duration": 17,
    "start_time": "2023-03-25T22:45:19.151Z"
   },
   {
    "duration": 11,
    "start_time": "2023-03-25T22:45:19.170Z"
   },
   {
    "duration": 233,
    "start_time": "2023-03-25T22:45:19.183Z"
   },
   {
    "duration": 24,
    "start_time": "2023-03-25T22:45:19.418Z"
   },
   {
    "duration": 208,
    "start_time": "2023-03-25T22:45:19.444Z"
   },
   {
    "duration": 11,
    "start_time": "2023-03-25T22:45:19.655Z"
   },
   {
    "duration": 182,
    "start_time": "2023-03-25T22:45:19.668Z"
   },
   {
    "duration": 10,
    "start_time": "2023-03-25T22:45:19.852Z"
   },
   {
    "duration": 170,
    "start_time": "2023-03-25T22:45:19.864Z"
   },
   {
    "duration": 12,
    "start_time": "2023-03-25T22:45:20.036Z"
   },
   {
    "duration": 18,
    "start_time": "2023-03-25T22:45:20.050Z"
   },
   {
    "duration": 10,
    "start_time": "2023-03-25T22:45:20.070Z"
   },
   {
    "duration": 240,
    "start_time": "2023-03-25T22:45:20.082Z"
   },
   {
    "duration": 22,
    "start_time": "2023-03-25T22:45:20.324Z"
   },
   {
    "duration": 379,
    "start_time": "2023-03-25T22:45:20.347Z"
   },
   {
    "duration": 10,
    "start_time": "2023-03-25T22:46:57.375Z"
   },
   {
    "duration": 207,
    "start_time": "2023-03-25T22:47:01.151Z"
   },
   {
    "duration": 9,
    "start_time": "2023-03-25T22:47:57.784Z"
   },
   {
    "duration": 214,
    "start_time": "2023-03-25T22:48:11.119Z"
   },
   {
    "duration": 188,
    "start_time": "2023-03-25T22:48:13.513Z"
   },
   {
    "duration": 123,
    "start_time": "2023-03-25T22:48:26.102Z"
   },
   {
    "duration": 83,
    "start_time": "2023-03-25T22:48:32.725Z"
   },
   {
    "duration": 138,
    "start_time": "2023-03-25T22:48:41.765Z"
   },
   {
    "duration": 139,
    "start_time": "2023-03-25T22:48:59.092Z"
   },
   {
    "duration": 10,
    "start_time": "2023-03-25T22:49:38.532Z"
   },
   {
    "duration": 10,
    "start_time": "2023-03-25T22:49:50.542Z"
   },
   {
    "duration": 143,
    "start_time": "2023-03-25T22:49:57.832Z"
   },
   {
    "duration": 14,
    "start_time": "2023-03-25T22:50:06.655Z"
   },
   {
    "duration": 172,
    "start_time": "2023-03-25T22:53:36.159Z"
   },
   {
    "duration": 191,
    "start_time": "2023-03-25T22:54:05.195Z"
   },
   {
    "duration": 92,
    "start_time": "2023-03-25T22:54:32.861Z"
   },
   {
    "duration": 83,
    "start_time": "2023-03-25T22:54:36.189Z"
   },
   {
    "duration": 133,
    "start_time": "2023-03-25T22:54:40.559Z"
   },
   {
    "duration": 161,
    "start_time": "2023-03-25T22:54:45.471Z"
   },
   {
    "duration": 77,
    "start_time": "2023-03-25T23:00:33.584Z"
   },
   {
    "duration": 76,
    "start_time": "2023-03-25T23:00:39.087Z"
   },
   {
    "duration": 77,
    "start_time": "2023-03-25T23:00:43.363Z"
   },
   {
    "duration": 235,
    "start_time": "2023-03-25T23:01:04.826Z"
   },
   {
    "duration": 74,
    "start_time": "2023-03-25T23:01:47.243Z"
   },
   {
    "duration": 73,
    "start_time": "2023-03-25T23:02:15.505Z"
   },
   {
    "duration": 105,
    "start_time": "2023-03-25T23:02:24.589Z"
   },
   {
    "duration": 76,
    "start_time": "2023-03-25T23:02:31.003Z"
   },
   {
    "duration": 14,
    "start_time": "2023-03-25T23:04:50.266Z"
   },
   {
    "duration": 10,
    "start_time": "2023-03-25T23:13:30.295Z"
   },
   {
    "duration": 13,
    "start_time": "2023-03-25T23:13:46.583Z"
   },
   {
    "duration": 10,
    "start_time": "2023-03-25T23:13:50.912Z"
   },
   {
    "duration": 324,
    "start_time": "2023-03-25T23:14:59.432Z"
   },
   {
    "duration": 159,
    "start_time": "2023-03-25T23:15:25.058Z"
   },
   {
    "duration": 716,
    "start_time": "2023-03-27T19:26:08.106Z"
   },
   {
    "duration": 9,
    "start_time": "2023-03-27T19:26:29.095Z"
   },
   {
    "duration": 8,
    "start_time": "2023-03-27T19:26:46.827Z"
   },
   {
    "duration": 945,
    "start_time": "2023-03-27T19:26:56.469Z"
   },
   {
    "duration": 2094,
    "start_time": "2023-03-27T19:26:57.416Z"
   },
   {
    "duration": 19,
    "start_time": "2023-03-27T19:26:59.511Z"
   },
   {
    "duration": 10,
    "start_time": "2023-03-27T19:26:59.532Z"
   },
   {
    "duration": 7,
    "start_time": "2023-03-27T19:26:59.544Z"
   },
   {
    "duration": 18,
    "start_time": "2023-03-27T19:26:59.553Z"
   },
   {
    "duration": 37,
    "start_time": "2023-03-27T19:26:59.572Z"
   },
   {
    "duration": 44,
    "start_time": "2023-03-27T19:26:59.610Z"
   },
   {
    "duration": 6,
    "start_time": "2023-03-27T19:26:59.656Z"
   },
   {
    "duration": 16,
    "start_time": "2023-03-27T19:26:59.664Z"
   },
   {
    "duration": 67,
    "start_time": "2023-03-27T19:26:59.682Z"
   },
   {
    "duration": 42,
    "start_time": "2023-03-27T19:26:59.751Z"
   },
   {
    "duration": 8,
    "start_time": "2023-03-27T19:26:59.795Z"
   },
   {
    "duration": 78,
    "start_time": "2023-03-27T19:26:59.807Z"
   },
   {
    "duration": 169,
    "start_time": "2023-03-27T19:26:59.886Z"
   },
   {
    "duration": 4,
    "start_time": "2023-03-27T19:27:00.057Z"
   },
   {
    "duration": 20,
    "start_time": "2023-03-27T19:27:00.063Z"
   },
   {
    "duration": 7,
    "start_time": "2023-03-27T19:27:00.085Z"
   },
   {
    "duration": 43,
    "start_time": "2023-03-27T19:27:00.094Z"
   },
   {
    "duration": 8,
    "start_time": "2023-03-27T19:27:00.138Z"
   },
   {
    "duration": 18,
    "start_time": "2023-03-27T19:27:00.148Z"
   },
   {
    "duration": 24,
    "start_time": "2023-03-27T19:27:00.168Z"
   },
   {
    "duration": 24,
    "start_time": "2023-03-27T19:27:00.194Z"
   },
   {
    "duration": 237,
    "start_time": "2023-03-27T19:27:00.220Z"
   },
   {
    "duration": 4,
    "start_time": "2023-03-27T19:27:00.459Z"
   },
   {
    "duration": 51,
    "start_time": "2023-03-27T19:27:00.464Z"
   },
   {
    "duration": 45,
    "start_time": "2023-03-27T19:27:00.517Z"
   },
   {
    "duration": 333,
    "start_time": "2023-03-27T19:27:00.564Z"
   },
   {
    "duration": 9,
    "start_time": "2023-03-27T19:27:00.898Z"
   },
   {
    "duration": 321,
    "start_time": "2023-03-27T19:27:00.909Z"
   },
   {
    "duration": 9,
    "start_time": "2023-03-27T19:27:01.232Z"
   },
   {
    "duration": 30,
    "start_time": "2023-03-27T19:27:01.242Z"
   },
   {
    "duration": 37,
    "start_time": "2023-03-27T19:27:01.274Z"
   },
   {
    "duration": 13,
    "start_time": "2023-03-27T19:27:01.313Z"
   },
   {
    "duration": 188,
    "start_time": "2023-03-27T19:27:01.328Z"
   },
   {
    "duration": 16,
    "start_time": "2023-03-27T19:27:01.518Z"
   },
   {
    "duration": 183,
    "start_time": "2023-03-27T19:27:01.536Z"
   },
   {
    "duration": 11,
    "start_time": "2023-03-27T19:27:01.720Z"
   },
   {
    "duration": 31,
    "start_time": "2023-03-27T19:27:01.734Z"
   },
   {
    "duration": 289,
    "start_time": "2023-03-27T19:27:01.767Z"
   },
   {
    "duration": 6,
    "start_time": "2023-03-27T19:27:02.062Z"
   },
   {
    "duration": 77,
    "start_time": "2023-03-27T19:27:02.070Z"
   },
   {
    "duration": 77,
    "start_time": "2023-03-27T19:27:02.149Z"
   },
   {
    "duration": 32,
    "start_time": "2023-03-27T19:27:02.228Z"
   },
   {
    "duration": 146,
    "start_time": "2023-03-27T19:27:02.262Z"
   },
   {
    "duration": 12,
    "start_time": "2023-03-27T19:27:02.409Z"
   },
   {
    "duration": 30,
    "start_time": "2023-03-27T19:27:02.423Z"
   },
   {
    "duration": 179,
    "start_time": "2023-03-27T19:27:02.455Z"
   },
   {
    "duration": 8,
    "start_time": "2023-03-27T19:27:02.636Z"
   },
   {
    "duration": 198,
    "start_time": "2023-03-27T19:27:02.645Z"
   },
   {
    "duration": 8,
    "start_time": "2023-03-27T19:27:02.845Z"
   },
   {
    "duration": 131,
    "start_time": "2023-03-27T19:27:02.855Z"
   },
   {
    "duration": 8,
    "start_time": "2023-03-27T19:27:02.988Z"
   },
   {
    "duration": 160,
    "start_time": "2023-03-27T19:27:02.998Z"
   },
   {
    "duration": 7,
    "start_time": "2023-03-27T19:27:03.160Z"
   },
   {
    "duration": 19,
    "start_time": "2023-03-27T19:27:03.168Z"
   },
   {
    "duration": 10,
    "start_time": "2023-03-27T19:27:03.189Z"
   },
   {
    "duration": 221,
    "start_time": "2023-03-27T19:27:03.201Z"
   },
   {
    "duration": 17,
    "start_time": "2023-03-27T19:27:03.423Z"
   },
   {
    "duration": 266,
    "start_time": "2023-03-27T19:27:03.442Z"
   },
   {
    "duration": 13,
    "start_time": "2023-03-27T19:27:03.710Z"
   },
   {
    "duration": 9,
    "start_time": "2023-03-27T19:27:03.734Z"
   },
   {
    "duration": 177,
    "start_time": "2023-03-27T19:27:03.745Z"
   },
   {
    "duration": 16,
    "start_time": "2023-03-27T19:27:03.924Z"
   },
   {
    "duration": 196,
    "start_time": "2023-03-27T19:27:03.942Z"
   },
   {
    "duration": 9,
    "start_time": "2023-03-27T19:27:04.140Z"
   },
   {
    "duration": 385,
    "start_time": "2023-03-27T19:27:04.150Z"
   },
   {
    "duration": 1639,
    "start_time": "2023-03-27T19:27:04.537Z"
   },
   {
    "duration": 274,
    "start_time": "2023-03-27T19:27:33.924Z"
   },
   {
    "duration": 127,
    "start_time": "2023-03-27T19:31:35.820Z"
   },
   {
    "duration": 2102,
    "start_time": "2023-03-27T19:31:35.949Z"
   },
   {
    "duration": 20,
    "start_time": "2023-03-27T19:31:38.053Z"
   },
   {
    "duration": 10,
    "start_time": "2023-03-27T19:31:38.075Z"
   },
   {
    "duration": 30,
    "start_time": "2023-03-27T19:31:38.087Z"
   },
   {
    "duration": 29,
    "start_time": "2023-03-27T19:31:38.119Z"
   },
   {
    "duration": 33,
    "start_time": "2023-03-27T19:31:38.150Z"
   },
   {
    "duration": 22,
    "start_time": "2023-03-27T19:31:38.185Z"
   },
   {
    "duration": 6,
    "start_time": "2023-03-27T19:31:38.209Z"
   },
   {
    "duration": 22,
    "start_time": "2023-03-27T19:31:38.217Z"
   },
   {
    "duration": 17,
    "start_time": "2023-03-27T19:31:38.240Z"
   },
   {
    "duration": 40,
    "start_time": "2023-03-27T19:31:38.259Z"
   },
   {
    "duration": 13,
    "start_time": "2023-03-27T19:31:38.301Z"
   },
   {
    "duration": 79,
    "start_time": "2023-03-27T19:31:38.317Z"
   },
   {
    "duration": 162,
    "start_time": "2023-03-27T19:31:38.398Z"
   },
   {
    "duration": 4,
    "start_time": "2023-03-27T19:31:38.562Z"
   },
   {
    "duration": 39,
    "start_time": "2023-03-27T19:31:38.568Z"
   },
   {
    "duration": 7,
    "start_time": "2023-03-27T19:31:38.609Z"
   },
   {
    "duration": 16,
    "start_time": "2023-03-27T19:31:38.618Z"
   },
   {
    "duration": 5,
    "start_time": "2023-03-27T19:31:38.635Z"
   },
   {
    "duration": 9,
    "start_time": "2023-03-27T19:31:38.641Z"
   },
   {
    "duration": 11,
    "start_time": "2023-03-27T19:31:38.652Z"
   },
   {
    "duration": 6,
    "start_time": "2023-03-27T19:31:38.665Z"
   },
   {
    "duration": 202,
    "start_time": "2023-03-27T19:31:38.673Z"
   },
   {
    "duration": 4,
    "start_time": "2023-03-27T19:31:38.876Z"
   },
   {
    "duration": 33,
    "start_time": "2023-03-27T19:31:38.882Z"
   },
   {
    "duration": 8,
    "start_time": "2023-03-27T19:31:38.917Z"
   },
   {
    "duration": 256,
    "start_time": "2023-03-27T19:31:38.934Z"
   },
   {
    "duration": 9,
    "start_time": "2023-03-27T19:31:39.191Z"
   },
   {
    "duration": 300,
    "start_time": "2023-03-27T19:31:39.202Z"
   },
   {
    "duration": 8,
    "start_time": "2023-03-27T19:31:39.503Z"
   },
   {
    "duration": 22,
    "start_time": "2023-03-27T19:31:39.513Z"
   },
   {
    "duration": 10,
    "start_time": "2023-03-27T19:31:39.536Z"
   },
   {
    "duration": 11,
    "start_time": "2023-03-27T19:31:39.547Z"
   },
   {
    "duration": 190,
    "start_time": "2023-03-27T19:31:39.560Z"
   },
   {
    "duration": 9,
    "start_time": "2023-03-27T19:31:39.752Z"
   },
   {
    "duration": 174,
    "start_time": "2023-03-27T19:31:39.762Z"
   },
   {
    "duration": 10,
    "start_time": "2023-03-27T19:31:39.938Z"
   },
   {
    "duration": 22,
    "start_time": "2023-03-27T19:31:39.949Z"
   },
   {
    "duration": 274,
    "start_time": "2023-03-27T19:31:39.972Z"
   },
   {
    "duration": 6,
    "start_time": "2023-03-27T19:31:40.251Z"
   },
   {
    "duration": 42,
    "start_time": "2023-03-27T19:31:40.259Z"
   },
   {
    "duration": 14,
    "start_time": "2023-03-27T19:31:40.303Z"
   },
   {
    "duration": 15,
    "start_time": "2023-03-27T19:31:40.319Z"
   },
   {
    "duration": 138,
    "start_time": "2023-03-27T19:31:40.336Z"
   },
   {
    "duration": 13,
    "start_time": "2023-03-27T19:31:40.476Z"
   },
   {
    "duration": 17,
    "start_time": "2023-03-27T19:31:40.491Z"
   },
   {
    "duration": 185,
    "start_time": "2023-03-27T19:31:40.510Z"
   },
   {
    "duration": 8,
    "start_time": "2023-03-27T19:31:40.697Z"
   },
   {
    "duration": 202,
    "start_time": "2023-03-27T19:31:40.707Z"
   },
   {
    "duration": 9,
    "start_time": "2023-03-27T19:31:40.911Z"
   },
   {
    "duration": 126,
    "start_time": "2023-03-27T19:31:40.935Z"
   },
   {
    "duration": 9,
    "start_time": "2023-03-27T19:31:41.063Z"
   },
   {
    "duration": 154,
    "start_time": "2023-03-27T19:31:41.074Z"
   },
   {
    "duration": 8,
    "start_time": "2023-03-27T19:31:41.230Z"
   },
   {
    "duration": 23,
    "start_time": "2023-03-27T19:31:41.240Z"
   },
   {
    "duration": 9,
    "start_time": "2023-03-27T19:31:41.265Z"
   },
   {
    "duration": 232,
    "start_time": "2023-03-27T19:31:41.275Z"
   },
   {
    "duration": 9,
    "start_time": "2023-03-27T19:31:41.510Z"
   },
   {
    "duration": 263,
    "start_time": "2023-03-27T19:31:41.520Z"
   },
   {
    "duration": 14,
    "start_time": "2023-03-27T19:31:41.784Z"
   },
   {
    "duration": 15,
    "start_time": "2023-03-27T19:31:41.800Z"
   },
   {
    "duration": 184,
    "start_time": "2023-03-27T19:31:41.817Z"
   },
   {
    "duration": 11,
    "start_time": "2023-03-27T19:31:42.002Z"
   },
   {
    "duration": 184,
    "start_time": "2023-03-27T19:31:42.014Z"
   },
   {
    "duration": 9,
    "start_time": "2023-03-27T19:31:42.200Z"
   },
   {
    "duration": 224,
    "start_time": "2023-03-27T19:31:42.211Z"
   },
   {
    "duration": 302,
    "start_time": "2023-03-27T19:31:42.436Z"
   },
   {
    "duration": 262,
    "start_time": "2023-03-27T19:33:53.326Z"
   },
   {
    "duration": 277,
    "start_time": "2023-03-27T19:34:08.541Z"
   },
   {
    "duration": 376,
    "start_time": "2023-03-27T19:37:44.590Z"
   },
   {
    "duration": 1432,
    "start_time": "2023-03-27T19:43:08.095Z"
   },
   {
    "duration": 10,
    "start_time": "2023-03-27T19:43:33.409Z"
   },
   {
    "duration": 14,
    "start_time": "2023-03-27T19:43:47.491Z"
   },
   {
    "duration": 320,
    "start_time": "2023-03-27T19:43:53.731Z"
   },
   {
    "duration": 169,
    "start_time": "2023-03-27T19:56:03.916Z"
   },
   {
    "duration": 149,
    "start_time": "2023-03-27T19:58:40.156Z"
   },
   {
    "duration": 15,
    "start_time": "2023-03-27T20:04:15.195Z"
   },
   {
    "duration": 16,
    "start_time": "2023-03-27T20:05:30.339Z"
   },
   {
    "duration": 10,
    "start_time": "2023-03-27T20:05:40.452Z"
   },
   {
    "duration": 139,
    "start_time": "2023-03-27T20:05:58.279Z"
   },
   {
    "duration": 157,
    "start_time": "2023-03-27T20:06:27.614Z"
   },
   {
    "duration": 156,
    "start_time": "2023-03-27T20:06:42.234Z"
   },
   {
    "duration": 225,
    "start_time": "2023-03-27T20:06:59.852Z"
   },
   {
    "duration": 173,
    "start_time": "2023-03-27T20:07:05.058Z"
   },
   {
    "duration": 245,
    "start_time": "2023-03-27T20:07:14.351Z"
   },
   {
    "duration": 132,
    "start_time": "2023-03-27T20:13:33.350Z"
   },
   {
    "duration": 9,
    "start_time": "2023-03-27T20:16:09.198Z"
   },
   {
    "duration": 9,
    "start_time": "2023-03-27T20:38:21.493Z"
   },
   {
    "duration": 417,
    "start_time": "2023-03-27T20:41:26.766Z"
   },
   {
    "duration": 9,
    "start_time": "2023-03-27T20:42:00.693Z"
   },
   {
    "duration": 9,
    "start_time": "2023-03-27T20:42:22.906Z"
   },
   {
    "duration": 32,
    "start_time": "2023-03-27T20:42:45.082Z"
   },
   {
    "duration": 10,
    "start_time": "2023-03-27T20:42:50.725Z"
   },
   {
    "duration": 225,
    "start_time": "2023-03-27T20:42:57.795Z"
   },
   {
    "duration": 236,
    "start_time": "2023-03-27T20:43:06.127Z"
   },
   {
    "duration": 312,
    "start_time": "2023-03-27T20:43:11.021Z"
   },
   {
    "duration": 196,
    "start_time": "2023-03-27T20:43:18.725Z"
   },
   {
    "duration": 190,
    "start_time": "2023-03-27T20:43:25.318Z"
   },
   {
    "duration": 220,
    "start_time": "2023-03-27T20:43:31.864Z"
   },
   {
    "duration": 230,
    "start_time": "2023-03-27T20:43:37.514Z"
   },
   {
    "duration": 16,
    "start_time": "2023-03-27T20:46:49.982Z"
   },
   {
    "duration": 206,
    "start_time": "2023-03-27T20:47:17.809Z"
   },
   {
    "duration": 1182,
    "start_time": "2023-03-27T20:47:31.643Z"
   },
   {
    "duration": 279,
    "start_time": "2023-03-27T20:47:40.686Z"
   },
   {
    "duration": 254,
    "start_time": "2023-03-27T20:47:45.173Z"
   },
   {
    "duration": 189,
    "start_time": "2023-03-27T20:47:49.682Z"
   },
   {
    "duration": 203,
    "start_time": "2023-03-27T20:48:10.672Z"
   },
   {
    "duration": 237,
    "start_time": "2023-03-27T20:48:45.369Z"
   },
   {
    "duration": 15,
    "start_time": "2023-03-27T20:50:40.548Z"
   },
   {
    "duration": 15,
    "start_time": "2023-03-27T20:52:32.867Z"
   },
   {
    "duration": 20,
    "start_time": "2023-03-27T20:52:54.993Z"
   },
   {
    "duration": 14,
    "start_time": "2023-03-27T20:53:01.746Z"
   },
   {
    "duration": 156,
    "start_time": "2023-03-27T20:53:49.446Z"
   },
   {
    "duration": 15,
    "start_time": "2023-03-27T20:54:05.743Z"
   },
   {
    "duration": 16,
    "start_time": "2023-03-27T20:54:19.679Z"
   },
   {
    "duration": 170,
    "start_time": "2023-03-27T20:54:28.553Z"
   },
   {
    "duration": 22,
    "start_time": "2023-03-27T20:54:41.540Z"
   },
   {
    "duration": 21,
    "start_time": "2023-03-27T20:54:52.980Z"
   },
   {
    "duration": 14,
    "start_time": "2023-03-27T20:54:58.728Z"
   },
   {
    "duration": 209,
    "start_time": "2023-03-27T20:56:09.832Z"
   },
   {
    "duration": 27,
    "start_time": "2023-03-27T20:56:47.616Z"
   },
   {
    "duration": 27,
    "start_time": "2023-03-27T20:57:16.992Z"
   },
   {
    "duration": 1150,
    "start_time": "2023-03-27T20:57:37.975Z"
   },
   {
    "duration": 164,
    "start_time": "2023-03-27T20:57:53.400Z"
   },
   {
    "duration": 150,
    "start_time": "2023-03-27T21:01:59.197Z"
   },
   {
    "duration": 33,
    "start_time": "2023-03-27T21:02:15.507Z"
   },
   {
    "duration": 32,
    "start_time": "2023-03-27T21:02:55.595Z"
   },
   {
    "duration": 183,
    "start_time": "2023-03-27T21:03:01.577Z"
   },
   {
    "duration": 264,
    "start_time": "2023-03-27T21:03:16.743Z"
   },
   {
    "duration": 1592,
    "start_time": "2023-03-27T21:04:29.580Z"
   },
   {
    "duration": 308,
    "start_time": "2023-03-27T21:04:38.065Z"
   },
   {
    "duration": 303,
    "start_time": "2023-03-27T21:04:46.459Z"
   },
   {
    "duration": 372,
    "start_time": "2023-03-27T21:04:51.853Z"
   },
   {
    "duration": 311,
    "start_time": "2023-03-27T21:04:59.465Z"
   },
   {
    "duration": 306,
    "start_time": "2023-03-27T21:05:06.286Z"
   },
   {
    "duration": 284,
    "start_time": "2023-03-27T21:05:11.248Z"
   },
   {
    "duration": 312,
    "start_time": "2023-03-27T21:05:15.879Z"
   },
   {
    "duration": 288,
    "start_time": "2023-03-27T21:05:23.301Z"
   },
   {
    "duration": 343,
    "start_time": "2023-03-27T21:05:29.935Z"
   },
   {
    "duration": 311,
    "start_time": "2023-03-27T21:05:34.425Z"
   },
   {
    "duration": 18,
    "start_time": "2023-03-27T21:06:24.953Z"
   },
   {
    "duration": 334,
    "start_time": "2023-03-27T21:06:28.966Z"
   },
   {
    "duration": 313,
    "start_time": "2023-03-27T21:06:35.593Z"
   },
   {
    "duration": 180,
    "start_time": "2023-03-27T21:18:31.281Z"
   },
   {
    "duration": 222,
    "start_time": "2023-03-27T21:18:44.249Z"
   },
   {
    "duration": 190,
    "start_time": "2023-03-27T21:19:08.583Z"
   },
   {
    "duration": 175,
    "start_time": "2023-03-27T21:19:22.183Z"
   },
   {
    "duration": 171,
    "start_time": "2023-03-27T21:19:27.756Z"
   },
   {
    "duration": 305,
    "start_time": "2023-03-27T21:19:31.829Z"
   },
   {
    "duration": 161,
    "start_time": "2023-03-27T21:19:35.044Z"
   },
   {
    "duration": 185,
    "start_time": "2023-03-27T21:19:38.702Z"
   },
   {
    "duration": 189,
    "start_time": "2023-03-27T21:19:45.996Z"
   },
   {
    "duration": 184,
    "start_time": "2023-03-27T21:20:22.269Z"
   },
   {
    "duration": 225,
    "start_time": "2023-03-27T21:33:48.078Z"
   },
   {
    "duration": 228,
    "start_time": "2023-03-27T21:33:51.051Z"
   },
   {
    "duration": 267,
    "start_time": "2023-03-27T21:33:56.630Z"
   },
   {
    "duration": 238,
    "start_time": "2023-03-27T21:34:05.618Z"
   },
   {
    "duration": 247,
    "start_time": "2023-03-27T21:34:09.313Z"
   },
   {
    "duration": 276,
    "start_time": "2023-03-27T21:34:16.525Z"
   },
   {
    "duration": 206,
    "start_time": "2023-03-27T21:34:20.967Z"
   },
   {
    "duration": 211,
    "start_time": "2023-03-27T21:34:39.813Z"
   },
   {
    "duration": 10,
    "start_time": "2023-03-27T21:34:55.367Z"
   },
   {
    "duration": 245,
    "start_time": "2023-03-27T21:34:59.753Z"
   },
   {
    "duration": 221,
    "start_time": "2023-03-27T21:36:15.534Z"
   },
   {
    "duration": 186,
    "start_time": "2023-03-27T21:38:08.359Z"
   },
   {
    "duration": 190,
    "start_time": "2023-03-27T21:38:54.704Z"
   },
   {
    "duration": 82,
    "start_time": "2023-03-27T21:39:57.850Z"
   },
   {
    "duration": 9,
    "start_time": "2023-03-27T21:56:28.222Z"
   },
   {
    "duration": 8,
    "start_time": "2023-03-27T21:56:33.413Z"
   },
   {
    "duration": 11,
    "start_time": "2023-03-27T21:56:53.413Z"
   },
   {
    "duration": 12,
    "start_time": "2023-03-27T21:57:02.224Z"
   },
   {
    "duration": 37,
    "start_time": "2023-03-27T22:07:28.351Z"
   },
   {
    "duration": 31,
    "start_time": "2023-03-27T22:07:39.365Z"
   },
   {
    "duration": 46,
    "start_time": "2023-03-27T22:08:14.079Z"
   },
   {
    "duration": 25,
    "start_time": "2023-03-27T22:09:17.133Z"
   },
   {
    "duration": 13,
    "start_time": "2023-03-27T22:09:26.268Z"
   },
   {
    "duration": 16,
    "start_time": "2023-03-27T22:09:29.048Z"
   },
   {
    "duration": 15,
    "start_time": "2023-03-27T22:14:17.840Z"
   },
   {
    "duration": 25,
    "start_time": "2023-03-27T22:15:40.199Z"
   },
   {
    "duration": 23,
    "start_time": "2023-03-27T22:16:19.224Z"
   },
   {
    "duration": 27,
    "start_time": "2023-03-27T22:17:02.064Z"
   },
   {
    "duration": 32,
    "start_time": "2023-03-27T22:17:26.431Z"
   },
   {
    "duration": 24,
    "start_time": "2023-03-27T22:22:33.162Z"
   },
   {
    "duration": 4,
    "start_time": "2023-03-27T22:22:43.907Z"
   },
   {
    "duration": 10,
    "start_time": "2023-03-27T22:22:49.041Z"
   },
   {
    "duration": 22,
    "start_time": "2023-03-27T22:22:52.858Z"
   },
   {
    "duration": 18,
    "start_time": "2023-03-27T22:22:58.304Z"
   },
   {
    "duration": 1565,
    "start_time": "2023-03-27T22:24:13.199Z"
   },
   {
    "duration": 1497,
    "start_time": "2023-03-27T22:24:45.460Z"
   },
   {
    "duration": 17,
    "start_time": "2023-03-27T22:25:00.394Z"
   },
   {
    "duration": 17,
    "start_time": "2023-03-27T22:26:25.506Z"
   },
   {
    "duration": 43,
    "start_time": "2023-03-27T22:27:05.612Z"
   },
   {
    "duration": 35,
    "start_time": "2023-03-27T22:29:38.651Z"
   },
   {
    "duration": 38,
    "start_time": "2023-03-27T22:29:46.729Z"
   },
   {
    "duration": 25,
    "start_time": "2023-03-27T22:30:46.950Z"
   },
   {
    "duration": 25,
    "start_time": "2023-03-27T22:30:52.960Z"
   },
   {
    "duration": 23,
    "start_time": "2023-03-27T22:31:13.867Z"
   },
   {
    "duration": 28,
    "start_time": "2023-03-27T22:31:35.582Z"
   },
   {
    "duration": 8,
    "start_time": "2023-03-27T22:37:11.103Z"
   },
   {
    "duration": 8,
    "start_time": "2023-03-27T22:42:00.271Z"
   },
   {
    "duration": 134,
    "start_time": "2023-03-27T22:42:04.471Z"
   },
   {
    "duration": 2409,
    "start_time": "2023-03-27T22:42:04.607Z"
   },
   {
    "duration": 40,
    "start_time": "2023-03-27T22:42:07.018Z"
   },
   {
    "duration": 10,
    "start_time": "2023-03-27T22:42:07.060Z"
   },
   {
    "duration": 21,
    "start_time": "2023-03-27T22:42:07.072Z"
   },
   {
    "duration": 23,
    "start_time": "2023-03-27T22:42:07.095Z"
   },
   {
    "duration": 41,
    "start_time": "2023-03-27T22:42:07.120Z"
   },
   {
    "duration": 19,
    "start_time": "2023-03-27T22:42:07.162Z"
   },
   {
    "duration": 8,
    "start_time": "2023-03-27T22:42:07.183Z"
   },
   {
    "duration": 7,
    "start_time": "2023-03-27T22:42:07.192Z"
   },
   {
    "duration": 38,
    "start_time": "2023-03-27T22:42:07.201Z"
   },
   {
    "duration": 37,
    "start_time": "2023-03-27T22:42:07.241Z"
   },
   {
    "duration": 18,
    "start_time": "2023-03-27T22:42:07.280Z"
   },
   {
    "duration": 91,
    "start_time": "2023-03-27T22:42:07.301Z"
   },
   {
    "duration": 167,
    "start_time": "2023-03-27T22:42:07.394Z"
   },
   {
    "duration": 4,
    "start_time": "2023-03-27T22:42:07.563Z"
   },
   {
    "duration": 20,
    "start_time": "2023-03-27T22:42:07.569Z"
   },
   {
    "duration": 7,
    "start_time": "2023-03-27T22:42:07.591Z"
   },
   {
    "duration": 12,
    "start_time": "2023-03-27T22:42:07.600Z"
   },
   {
    "duration": 30,
    "start_time": "2023-03-27T22:42:07.614Z"
   },
   {
    "duration": 10,
    "start_time": "2023-03-27T22:42:07.648Z"
   },
   {
    "duration": 11,
    "start_time": "2023-03-27T22:42:07.660Z"
   },
   {
    "duration": 10,
    "start_time": "2023-03-27T22:42:07.673Z"
   },
   {
    "duration": 221,
    "start_time": "2023-03-27T22:42:07.684Z"
   },
   {
    "duration": 5,
    "start_time": "2023-03-27T22:42:07.907Z"
   },
   {
    "duration": 41,
    "start_time": "2023-03-27T22:42:07.914Z"
   },
   {
    "duration": 10,
    "start_time": "2023-03-27T22:42:07.958Z"
   },
   {
    "duration": 459,
    "start_time": "2023-03-27T22:42:07.971Z"
   },
   {
    "duration": 17,
    "start_time": "2023-03-27T22:42:08.431Z"
   },
   {
    "duration": 182,
    "start_time": "2023-03-27T22:42:08.450Z"
   },
   {
    "duration": 12,
    "start_time": "2023-03-27T22:42:08.637Z"
   },
   {
    "duration": 14,
    "start_time": "2023-03-27T22:42:08.651Z"
   },
   {
    "duration": 9,
    "start_time": "2023-03-27T22:42:08.668Z"
   },
   {
    "duration": 9,
    "start_time": "2023-03-27T22:42:08.679Z"
   },
   {
    "duration": 211,
    "start_time": "2023-03-27T22:42:08.690Z"
   },
   {
    "duration": 10,
    "start_time": "2023-03-27T22:42:08.903Z"
   },
   {
    "duration": 203,
    "start_time": "2023-03-27T22:42:08.914Z"
   },
   {
    "duration": 23,
    "start_time": "2023-03-27T22:42:09.119Z"
   },
   {
    "duration": 10,
    "start_time": "2023-03-27T22:42:09.145Z"
   },
   {
    "duration": 306,
    "start_time": "2023-03-27T22:42:09.157Z"
   },
   {
    "duration": 5,
    "start_time": "2023-03-27T22:42:09.468Z"
   },
   {
    "duration": 17,
    "start_time": "2023-03-27T22:42:09.475Z"
   },
   {
    "duration": 8,
    "start_time": "2023-03-27T22:42:09.494Z"
   },
   {
    "duration": 39,
    "start_time": "2023-03-27T22:42:09.504Z"
   },
   {
    "duration": 160,
    "start_time": "2023-03-27T22:42:09.546Z"
   },
   {
    "duration": 12,
    "start_time": "2023-03-27T22:42:09.707Z"
   },
   {
    "duration": 30,
    "start_time": "2023-03-27T22:42:09.721Z"
   },
   {
    "duration": 202,
    "start_time": "2023-03-27T22:42:09.753Z"
   },
   {
    "duration": 9,
    "start_time": "2023-03-27T22:42:09.958Z"
   },
   {
    "duration": 241,
    "start_time": "2023-03-27T22:42:09.969Z"
   },
   {
    "duration": 9,
    "start_time": "2023-03-27T22:42:10.211Z"
   },
   {
    "duration": 150,
    "start_time": "2023-03-27T22:42:10.221Z"
   },
   {
    "duration": 8,
    "start_time": "2023-03-27T22:42:10.373Z"
   },
   {
    "duration": 170,
    "start_time": "2023-03-27T22:42:10.383Z"
   },
   {
    "duration": 7,
    "start_time": "2023-03-27T22:42:10.555Z"
   },
   {
    "duration": 15,
    "start_time": "2023-03-27T22:42:10.564Z"
   },
   {
    "duration": 9,
    "start_time": "2023-03-27T22:42:10.581Z"
   },
   {
    "duration": 260,
    "start_time": "2023-03-27T22:42:10.591Z"
   },
   {
    "duration": 9,
    "start_time": "2023-03-27T22:42:10.853Z"
   },
   {
    "duration": 192,
    "start_time": "2023-03-27T22:42:10.864Z"
   },
   {
    "duration": 13,
    "start_time": "2023-03-27T22:42:11.058Z"
   },
   {
    "duration": 9,
    "start_time": "2023-03-27T22:42:11.073Z"
   },
   {
    "duration": 378,
    "start_time": "2023-03-27T22:42:11.083Z"
   },
   {
    "duration": 10,
    "start_time": "2023-03-27T22:42:11.463Z"
   },
   {
    "duration": 197,
    "start_time": "2023-03-27T22:42:11.475Z"
   },
   {
    "duration": 8,
    "start_time": "2023-03-27T22:42:11.674Z"
   },
   {
    "duration": 18,
    "start_time": "2023-03-27T22:42:11.684Z"
   },
   {
    "duration": 300,
    "start_time": "2023-03-27T22:42:11.704Z"
   },
   {
    "duration": 159,
    "start_time": "2023-03-27T22:42:12.005Z"
   },
   {
    "duration": 29,
    "start_time": "2023-03-27T22:42:12.166Z"
   },
   {
    "duration": 174,
    "start_time": "2023-03-27T22:42:12.235Z"
   },
   {
    "duration": 185,
    "start_time": "2023-03-27T22:42:12.411Z"
   },
   {
    "duration": 182,
    "start_time": "2023-03-27T22:42:12.598Z"
   },
   {
    "duration": 192,
    "start_time": "2023-03-27T22:42:12.782Z"
   },
   {
    "duration": 190,
    "start_time": "2023-03-27T22:42:12.976Z"
   },
   {
    "duration": 182,
    "start_time": "2023-03-27T22:42:13.168Z"
   },
   {
    "duration": 175,
    "start_time": "2023-03-27T22:42:13.352Z"
   },
   {
    "duration": 20,
    "start_time": "2023-03-27T22:42:13.528Z"
   },
   {
    "duration": 175,
    "start_time": "2023-03-27T22:42:13.549Z"
   },
   {
    "duration": 15,
    "start_time": "2023-03-27T22:42:13.726Z"
   },
   {
    "duration": 30,
    "start_time": "2023-03-27T22:42:13.743Z"
   },
   {
    "duration": 7,
    "start_time": "2023-03-27T22:42:13.775Z"
   },
   {
    "duration": 31,
    "start_time": "2023-03-27T22:43:26.613Z"
   },
   {
    "duration": 20,
    "start_time": "2023-03-27T22:43:38.771Z"
   },
   {
    "duration": 77,
    "start_time": "2023-03-27T22:43:46.203Z"
   },
   {
    "duration": 102,
    "start_time": "2023-03-27T22:43:54.119Z"
   },
   {
    "duration": 21,
    "start_time": "2023-03-27T22:43:59.558Z"
   },
   {
    "duration": 20,
    "start_time": "2023-03-27T22:44:14.272Z"
   },
   {
    "duration": 20,
    "start_time": "2023-03-27T22:44:55.456Z"
   },
   {
    "duration": 13,
    "start_time": "2023-03-27T22:46:21.272Z"
   },
   {
    "duration": 17,
    "start_time": "2023-03-27T22:46:28.244Z"
   },
   {
    "duration": 17,
    "start_time": "2023-03-27T22:46:43.513Z"
   },
   {
    "duration": 16,
    "start_time": "2023-03-27T22:48:26.510Z"
   },
   {
    "duration": 10,
    "start_time": "2023-03-27T22:49:19.298Z"
   },
   {
    "duration": 10,
    "start_time": "2023-03-27T22:49:25.304Z"
   },
   {
    "duration": 11,
    "start_time": "2023-03-27T22:53:57.246Z"
   },
   {
    "duration": 12,
    "start_time": "2023-03-27T22:54:18.247Z"
   },
   {
    "duration": 128,
    "start_time": "2023-03-27T22:55:26.233Z"
   },
   {
    "duration": 2456,
    "start_time": "2023-03-27T22:55:26.363Z"
   },
   {
    "duration": 29,
    "start_time": "2023-03-27T22:55:28.821Z"
   },
   {
    "duration": 12,
    "start_time": "2023-03-27T22:55:28.852Z"
   },
   {
    "duration": 15,
    "start_time": "2023-03-27T22:55:28.866Z"
   },
   {
    "duration": 24,
    "start_time": "2023-03-27T22:55:28.883Z"
   },
   {
    "duration": 58,
    "start_time": "2023-03-27T22:55:28.908Z"
   },
   {
    "duration": 19,
    "start_time": "2023-03-27T22:55:28.967Z"
   },
   {
    "duration": 7,
    "start_time": "2023-03-27T22:55:28.988Z"
   },
   {
    "duration": 11,
    "start_time": "2023-03-27T22:55:28.997Z"
   },
   {
    "duration": 37,
    "start_time": "2023-03-27T22:55:29.010Z"
   },
   {
    "duration": 33,
    "start_time": "2023-03-27T22:55:29.050Z"
   },
   {
    "duration": 16,
    "start_time": "2023-03-27T22:55:29.085Z"
   },
   {
    "duration": 95,
    "start_time": "2023-03-27T22:55:29.105Z"
   },
   {
    "duration": 185,
    "start_time": "2023-03-27T22:55:29.202Z"
   },
   {
    "duration": 5,
    "start_time": "2023-03-27T22:55:29.389Z"
   },
   {
    "duration": 33,
    "start_time": "2023-03-27T22:55:29.396Z"
   },
   {
    "duration": 12,
    "start_time": "2023-03-27T22:55:29.431Z"
   },
   {
    "duration": 8,
    "start_time": "2023-03-27T22:55:29.457Z"
   },
   {
    "duration": 8,
    "start_time": "2023-03-27T22:55:29.467Z"
   },
   {
    "duration": 11,
    "start_time": "2023-03-27T22:55:29.477Z"
   },
   {
    "duration": 10,
    "start_time": "2023-03-27T22:55:29.489Z"
   },
   {
    "duration": 5,
    "start_time": "2023-03-27T22:55:29.501Z"
   },
   {
    "duration": 232,
    "start_time": "2023-03-27T22:55:29.508Z"
   },
   {
    "duration": 6,
    "start_time": "2023-03-27T22:55:29.748Z"
   },
   {
    "duration": 46,
    "start_time": "2023-03-27T22:55:29.757Z"
   },
   {
    "duration": 10,
    "start_time": "2023-03-27T22:55:29.805Z"
   },
   {
    "duration": 290,
    "start_time": "2023-03-27T22:55:29.817Z"
   },
   {
    "duration": 10,
    "start_time": "2023-03-27T22:55:30.109Z"
   },
   {
    "duration": 199,
    "start_time": "2023-03-27T22:55:30.121Z"
   },
   {
    "duration": 30,
    "start_time": "2023-03-27T22:55:30.322Z"
   },
   {
    "duration": 21,
    "start_time": "2023-03-27T22:55:30.354Z"
   },
   {
    "duration": 25,
    "start_time": "2023-03-27T22:55:30.378Z"
   },
   {
    "duration": 49,
    "start_time": "2023-03-27T22:55:30.405Z"
   },
   {
    "duration": 238,
    "start_time": "2023-03-27T22:55:30.456Z"
   },
   {
    "duration": 9,
    "start_time": "2023-03-27T22:55:30.696Z"
   },
   {
    "duration": 199,
    "start_time": "2023-03-27T22:55:30.707Z"
   },
   {
    "duration": 10,
    "start_time": "2023-03-27T22:55:30.907Z"
   },
   {
    "duration": 37,
    "start_time": "2023-03-27T22:55:30.919Z"
   },
   {
    "duration": 539,
    "start_time": "2023-03-27T22:55:30.957Z"
   },
   {
    "duration": 6,
    "start_time": "2023-03-27T22:55:31.502Z"
   },
   {
    "duration": 49,
    "start_time": "2023-03-27T22:55:31.510Z"
   },
   {
    "duration": 20,
    "start_time": "2023-03-27T22:55:31.561Z"
   },
   {
    "duration": 19,
    "start_time": "2023-03-27T22:55:31.583Z"
   },
   {
    "duration": 178,
    "start_time": "2023-03-27T22:55:31.603Z"
   },
   {
    "duration": 12,
    "start_time": "2023-03-27T22:55:31.783Z"
   },
   {
    "duration": 27,
    "start_time": "2023-03-27T22:55:31.797Z"
   },
   {
    "duration": 199,
    "start_time": "2023-03-27T22:55:31.826Z"
   },
   {
    "duration": 28,
    "start_time": "2023-03-27T22:55:32.027Z"
   },
   {
    "duration": 221,
    "start_time": "2023-03-27T22:55:32.058Z"
   },
   {
    "duration": 9,
    "start_time": "2023-03-27T22:55:32.281Z"
   },
   {
    "duration": 160,
    "start_time": "2023-03-27T22:55:32.292Z"
   },
   {
    "duration": 8,
    "start_time": "2023-03-27T22:55:32.454Z"
   },
   {
    "duration": 163,
    "start_time": "2023-03-27T22:55:32.464Z"
   },
   {
    "duration": 7,
    "start_time": "2023-03-27T22:55:32.634Z"
   },
   {
    "duration": 27,
    "start_time": "2023-03-27T22:55:32.647Z"
   },
   {
    "duration": 14,
    "start_time": "2023-03-27T22:55:32.676Z"
   },
   {
    "duration": 239,
    "start_time": "2023-03-27T22:55:32.692Z"
   },
   {
    "duration": 17,
    "start_time": "2023-03-27T22:55:32.933Z"
   },
   {
    "duration": 172,
    "start_time": "2023-03-27T22:55:32.952Z"
   },
   {
    "duration": 21,
    "start_time": "2023-03-27T22:55:33.126Z"
   },
   {
    "duration": 18,
    "start_time": "2023-03-27T22:55:33.150Z"
   },
   {
    "duration": 209,
    "start_time": "2023-03-27T22:55:33.169Z"
   },
   {
    "duration": 10,
    "start_time": "2023-03-27T22:55:33.380Z"
   },
   {
    "duration": 205,
    "start_time": "2023-03-27T22:55:33.392Z"
   },
   {
    "duration": 7,
    "start_time": "2023-03-27T22:55:33.599Z"
   },
   {
    "duration": 14,
    "start_time": "2023-03-27T22:55:33.608Z"
   },
   {
    "duration": 288,
    "start_time": "2023-03-27T22:55:33.634Z"
   },
   {
    "duration": 159,
    "start_time": "2023-03-27T22:55:33.923Z"
   },
   {
    "duration": 71,
    "start_time": "2023-03-27T22:55:34.084Z"
   },
   {
    "duration": 184,
    "start_time": "2023-03-27T22:55:34.156Z"
   },
   {
    "duration": 190,
    "start_time": "2023-03-27T22:55:34.343Z"
   },
   {
    "duration": 195,
    "start_time": "2023-03-27T22:55:34.541Z"
   },
   {
    "duration": 187,
    "start_time": "2023-03-27T22:55:34.738Z"
   },
   {
    "duration": 223,
    "start_time": "2023-03-27T22:55:34.926Z"
   },
   {
    "duration": 451,
    "start_time": "2023-03-27T22:55:35.151Z"
   },
   {
    "duration": 230,
    "start_time": "2023-03-27T22:55:35.604Z"
   },
   {
    "duration": 22,
    "start_time": "2023-03-27T22:55:35.839Z"
   },
   {
    "duration": 226,
    "start_time": "2023-03-27T22:55:35.862Z"
   },
   {
    "duration": 8,
    "start_time": "2023-03-27T22:55:36.090Z"
   },
   {
    "duration": 35,
    "start_time": "2023-03-27T22:55:36.100Z"
   },
   {
    "duration": 21,
    "start_time": "2023-03-27T22:55:36.139Z"
   },
   {
    "duration": 21,
    "start_time": "2023-03-27T22:56:36.759Z"
   },
   {
    "duration": 23,
    "start_time": "2023-03-27T22:56:39.849Z"
   },
   {
    "duration": 201,
    "start_time": "2023-03-27T22:56:56.487Z"
   },
   {
    "duration": 2529,
    "start_time": "2023-03-27T22:56:56.691Z"
   },
   {
    "duration": 39,
    "start_time": "2023-03-27T22:56:59.222Z"
   },
   {
    "duration": 14,
    "start_time": "2023-03-27T22:56:59.263Z"
   },
   {
    "duration": 7,
    "start_time": "2023-03-27T22:56:59.280Z"
   },
   {
    "duration": 30,
    "start_time": "2023-03-27T22:56:59.289Z"
   },
   {
    "duration": 77,
    "start_time": "2023-03-27T22:56:59.321Z"
   },
   {
    "duration": 21,
    "start_time": "2023-03-27T22:56:59.400Z"
   },
   {
    "duration": 22,
    "start_time": "2023-03-27T22:56:59.423Z"
   },
   {
    "duration": 21,
    "start_time": "2023-03-27T22:56:59.455Z"
   },
   {
    "duration": 24,
    "start_time": "2023-03-27T22:56:59.478Z"
   },
   {
    "duration": 59,
    "start_time": "2023-03-27T22:56:59.505Z"
   },
   {
    "duration": 10,
    "start_time": "2023-03-27T22:56:59.567Z"
   },
   {
    "duration": 96,
    "start_time": "2023-03-27T22:56:59.581Z"
   },
   {
    "duration": 198,
    "start_time": "2023-03-27T22:56:59.679Z"
   },
   {
    "duration": 5,
    "start_time": "2023-03-27T22:56:59.879Z"
   },
   {
    "duration": 19,
    "start_time": "2023-03-27T22:56:59.886Z"
   },
   {
    "duration": 38,
    "start_time": "2023-03-27T22:56:59.907Z"
   },
   {
    "duration": 14,
    "start_time": "2023-03-27T22:56:59.954Z"
   },
   {
    "duration": 10,
    "start_time": "2023-03-27T22:56:59.970Z"
   },
   {
    "duration": 16,
    "start_time": "2023-03-27T22:56:59.982Z"
   },
   {
    "duration": 17,
    "start_time": "2023-03-27T22:57:00.000Z"
   },
   {
    "duration": 61,
    "start_time": "2023-03-27T22:57:00.019Z"
   },
   {
    "duration": 519,
    "start_time": "2023-03-27T22:57:00.083Z"
   },
   {
    "duration": 6,
    "start_time": "2023-03-27T22:57:00.604Z"
   },
   {
    "duration": 101,
    "start_time": "2023-03-27T22:57:00.612Z"
   },
   {
    "duration": 54,
    "start_time": "2023-03-27T22:57:00.714Z"
   },
   {
    "duration": 349,
    "start_time": "2023-03-27T22:57:00.770Z"
   },
   {
    "duration": 10,
    "start_time": "2023-03-27T22:57:01.122Z"
   },
   {
    "duration": 232,
    "start_time": "2023-03-27T22:57:01.138Z"
   },
   {
    "duration": 8,
    "start_time": "2023-03-27T22:57:01.373Z"
   },
   {
    "duration": 34,
    "start_time": "2023-03-27T22:57:01.382Z"
   },
   {
    "duration": 65,
    "start_time": "2023-03-27T22:57:01.418Z"
   },
   {
    "duration": 26,
    "start_time": "2023-03-27T22:57:01.485Z"
   },
   {
    "duration": 301,
    "start_time": "2023-03-27T22:57:01.513Z"
   },
   {
    "duration": 23,
    "start_time": "2023-03-27T22:57:01.816Z"
   },
   {
    "duration": 316,
    "start_time": "2023-03-27T22:57:01.841Z"
   },
   {
    "duration": 15,
    "start_time": "2023-03-27T22:57:02.167Z"
   },
   {
    "duration": 37,
    "start_time": "2023-03-27T22:57:02.184Z"
   },
   {
    "duration": 379,
    "start_time": "2023-03-27T22:57:02.223Z"
   },
   {
    "duration": 6,
    "start_time": "2023-03-27T22:57:02.607Z"
   },
   {
    "duration": 86,
    "start_time": "2023-03-27T22:57:02.615Z"
   },
   {
    "duration": 54,
    "start_time": "2023-03-27T22:57:02.703Z"
   },
   {
    "duration": 48,
    "start_time": "2023-03-27T22:57:02.761Z"
   },
   {
    "duration": 187,
    "start_time": "2023-03-27T22:57:02.811Z"
   },
   {
    "duration": 14,
    "start_time": "2023-03-27T22:57:03.000Z"
   },
   {
    "duration": 54,
    "start_time": "2023-03-27T22:57:03.016Z"
   },
   {
    "duration": 248,
    "start_time": "2023-03-27T22:57:03.072Z"
   },
   {
    "duration": 30,
    "start_time": "2023-03-27T22:57:03.322Z"
   },
   {
    "duration": 237,
    "start_time": "2023-03-27T22:57:03.355Z"
   },
   {
    "duration": 9,
    "start_time": "2023-03-27T22:57:03.593Z"
   },
   {
    "duration": 166,
    "start_time": "2023-03-27T22:57:03.604Z"
   },
   {
    "duration": 9,
    "start_time": "2023-03-27T22:57:03.772Z"
   },
   {
    "duration": 194,
    "start_time": "2023-03-27T22:57:03.783Z"
   },
   {
    "duration": 10,
    "start_time": "2023-03-27T22:57:03.979Z"
   },
   {
    "duration": 26,
    "start_time": "2023-03-27T22:57:03.991Z"
   },
   {
    "duration": 33,
    "start_time": "2023-03-27T22:57:04.019Z"
   },
   {
    "duration": 326,
    "start_time": "2023-03-27T22:57:04.056Z"
   },
   {
    "duration": 9,
    "start_time": "2023-03-27T22:57:04.384Z"
   },
   {
    "duration": 224,
    "start_time": "2023-03-27T22:57:04.395Z"
   },
   {
    "duration": 27,
    "start_time": "2023-03-27T22:57:04.621Z"
   },
   {
    "duration": 37,
    "start_time": "2023-03-27T22:57:04.653Z"
   },
   {
    "duration": 199,
    "start_time": "2023-03-27T22:57:04.692Z"
   },
   {
    "duration": 10,
    "start_time": "2023-03-27T22:57:04.893Z"
   },
   {
    "duration": 221,
    "start_time": "2023-03-27T22:57:04.905Z"
   },
   {
    "duration": 33,
    "start_time": "2023-03-27T22:57:05.128Z"
   },
   {
    "duration": 33,
    "start_time": "2023-03-27T22:57:05.167Z"
   },
   {
    "duration": 676,
    "start_time": "2023-03-27T22:57:05.203Z"
   },
   {
    "duration": 190,
    "start_time": "2023-03-27T22:57:05.882Z"
   },
   {
    "duration": 71,
    "start_time": "2023-03-27T22:57:06.075Z"
   },
   {
    "duration": 224,
    "start_time": "2023-03-27T22:57:06.149Z"
   },
   {
    "duration": 255,
    "start_time": "2023-03-27T22:57:06.375Z"
   },
   {
    "duration": 277,
    "start_time": "2023-03-27T22:57:06.633Z"
   },
   {
    "duration": 273,
    "start_time": "2023-03-27T22:57:06.913Z"
   },
   {
    "duration": 250,
    "start_time": "2023-03-27T22:57:07.188Z"
   },
   {
    "duration": 237,
    "start_time": "2023-03-27T22:57:07.440Z"
   },
   {
    "duration": 217,
    "start_time": "2023-03-27T22:57:07.679Z"
   },
   {
    "duration": 20,
    "start_time": "2023-03-27T22:57:07.898Z"
   },
   {
    "duration": 238,
    "start_time": "2023-03-27T22:57:07.920Z"
   },
   {
    "duration": 9,
    "start_time": "2023-03-27T22:57:08.165Z"
   },
   {
    "duration": 35,
    "start_time": "2023-03-27T22:57:08.176Z"
   },
   {
    "duration": 18,
    "start_time": "2023-03-27T22:57:08.214Z"
   },
   {
    "duration": 4,
    "start_time": "2023-03-27T23:01:39.763Z"
   },
   {
    "duration": 18,
    "start_time": "2023-03-27T23:03:23.518Z"
   },
   {
    "duration": 236,
    "start_time": "2023-03-27T23:03:45.238Z"
   },
   {
    "duration": 221,
    "start_time": "2023-03-27T23:04:03.778Z"
   },
   {
    "duration": 647,
    "start_time": "2023-03-27T23:55:02.759Z"
   },
   {
    "duration": 3023,
    "start_time": "2023-03-27T23:55:03.409Z"
   },
   {
    "duration": 38,
    "start_time": "2023-03-27T23:55:06.434Z"
   },
   {
    "duration": 33,
    "start_time": "2023-03-27T23:55:06.474Z"
   },
   {
    "duration": 8,
    "start_time": "2023-03-27T23:55:06.510Z"
   },
   {
    "duration": 60,
    "start_time": "2023-03-27T23:55:06.520Z"
   },
   {
    "duration": 80,
    "start_time": "2023-03-27T23:55:06.582Z"
   },
   {
    "duration": 37,
    "start_time": "2023-03-27T23:55:06.670Z"
   },
   {
    "duration": 21,
    "start_time": "2023-03-27T23:55:06.709Z"
   },
   {
    "duration": 64,
    "start_time": "2023-03-27T23:55:06.732Z"
   },
   {
    "duration": 24,
    "start_time": "2023-03-27T23:55:06.798Z"
   },
   {
    "duration": 83,
    "start_time": "2023-03-27T23:55:06.824Z"
   },
   {
    "duration": 10,
    "start_time": "2023-03-27T23:55:06.909Z"
   },
   {
    "duration": 175,
    "start_time": "2023-03-27T23:55:06.923Z"
   },
   {
    "duration": 191,
    "start_time": "2023-03-27T23:55:07.100Z"
   },
   {
    "duration": 4,
    "start_time": "2023-03-27T23:55:07.294Z"
   },
   {
    "duration": 39,
    "start_time": "2023-03-27T23:55:07.301Z"
   },
   {
    "duration": 13,
    "start_time": "2023-03-27T23:55:07.342Z"
   },
   {
    "duration": 35,
    "start_time": "2023-03-27T23:55:07.357Z"
   },
   {
    "duration": 8,
    "start_time": "2023-03-27T23:55:07.394Z"
   },
   {
    "duration": 9,
    "start_time": "2023-03-27T23:55:07.403Z"
   },
   {
    "duration": 8,
    "start_time": "2023-03-27T23:55:07.414Z"
   },
   {
    "duration": 29,
    "start_time": "2023-03-27T23:55:07.424Z"
   },
   {
    "duration": 298,
    "start_time": "2023-03-27T23:55:07.457Z"
   },
   {
    "duration": 5,
    "start_time": "2023-03-27T23:55:07.757Z"
   },
   {
    "duration": 45,
    "start_time": "2023-03-27T23:55:07.771Z"
   },
   {
    "duration": 10,
    "start_time": "2023-03-27T23:55:07.818Z"
   },
   {
    "duration": 338,
    "start_time": "2023-03-27T23:55:07.831Z"
   },
   {
    "duration": 11,
    "start_time": "2023-03-27T23:55:08.170Z"
   },
   {
    "duration": 215,
    "start_time": "2023-03-27T23:55:08.183Z"
   },
   {
    "duration": 9,
    "start_time": "2023-03-27T23:55:08.400Z"
   },
   {
    "duration": 63,
    "start_time": "2023-03-27T23:55:08.410Z"
   },
   {
    "duration": 17,
    "start_time": "2023-03-27T23:55:08.478Z"
   },
   {
    "duration": 27,
    "start_time": "2023-03-27T23:55:08.497Z"
   },
   {
    "duration": 368,
    "start_time": "2023-03-27T23:55:08.526Z"
   },
   {
    "duration": 9,
    "start_time": "2023-03-27T23:55:08.896Z"
   },
   {
    "duration": 251,
    "start_time": "2023-03-27T23:55:08.906Z"
   },
   {
    "duration": 24,
    "start_time": "2023-03-27T23:55:09.161Z"
   },
   {
    "duration": 20,
    "start_time": "2023-03-27T23:55:09.187Z"
   },
   {
    "duration": 369,
    "start_time": "2023-03-27T23:55:09.210Z"
   },
   {
    "duration": 6,
    "start_time": "2023-03-27T23:55:09.586Z"
   },
   {
    "duration": 38,
    "start_time": "2023-03-27T23:55:09.594Z"
   },
   {
    "duration": 60,
    "start_time": "2023-03-27T23:55:09.637Z"
   },
   {
    "duration": 30,
    "start_time": "2023-03-27T23:55:09.698Z"
   },
   {
    "duration": 224,
    "start_time": "2023-03-27T23:55:09.730Z"
   },
   {
    "duration": 28,
    "start_time": "2023-03-27T23:55:09.958Z"
   },
   {
    "duration": 24,
    "start_time": "2023-03-27T23:55:09.988Z"
   },
   {
    "duration": 291,
    "start_time": "2023-03-27T23:55:10.015Z"
   },
   {
    "duration": 9,
    "start_time": "2023-03-27T23:55:10.307Z"
   },
   {
    "duration": 257,
    "start_time": "2023-03-27T23:55:10.317Z"
   },
   {
    "duration": 14,
    "start_time": "2023-03-27T23:55:10.576Z"
   },
   {
    "duration": 194,
    "start_time": "2023-03-27T23:55:10.592Z"
   },
   {
    "duration": 8,
    "start_time": "2023-03-27T23:55:10.787Z"
   },
   {
    "duration": 206,
    "start_time": "2023-03-27T23:55:10.797Z"
   },
   {
    "duration": 7,
    "start_time": "2023-03-27T23:55:11.005Z"
   },
   {
    "duration": 68,
    "start_time": "2023-03-27T23:55:11.013Z"
   },
   {
    "duration": 24,
    "start_time": "2023-03-27T23:55:11.083Z"
   },
   {
    "duration": 283,
    "start_time": "2023-03-27T23:55:11.109Z"
   },
   {
    "duration": 9,
    "start_time": "2023-03-27T23:55:11.394Z"
   },
   {
    "duration": 212,
    "start_time": "2023-03-27T23:55:11.405Z"
   },
   {
    "duration": 42,
    "start_time": "2023-03-27T23:55:11.619Z"
   },
   {
    "duration": 19,
    "start_time": "2023-03-27T23:55:11.663Z"
   },
   {
    "duration": 295,
    "start_time": "2023-03-27T23:55:11.684Z"
   },
   {
    "duration": 17,
    "start_time": "2023-03-27T23:55:11.981Z"
   },
   {
    "duration": 218,
    "start_time": "2023-03-27T23:55:12.000Z"
   },
   {
    "duration": 8,
    "start_time": "2023-03-27T23:55:12.220Z"
   },
   {
    "duration": 25,
    "start_time": "2023-03-27T23:55:12.249Z"
   },
   {
    "duration": 315,
    "start_time": "2023-03-27T23:55:12.276Z"
   },
   {
    "duration": 167,
    "start_time": "2023-03-27T23:55:12.593Z"
   },
   {
    "duration": 31,
    "start_time": "2023-03-27T23:55:12.761Z"
   },
   {
    "duration": 212,
    "start_time": "2023-03-27T23:55:12.801Z"
   },
   {
    "duration": 203,
    "start_time": "2023-03-27T23:55:13.015Z"
   },
   {
    "duration": 200,
    "start_time": "2023-03-27T23:55:13.219Z"
   },
   {
    "duration": 249,
    "start_time": "2023-03-27T23:55:13.421Z"
   },
   {
    "duration": 212,
    "start_time": "2023-03-27T23:55:13.673Z"
   },
   {
    "duration": 215,
    "start_time": "2023-03-27T23:55:13.888Z"
   },
   {
    "duration": 294,
    "start_time": "2023-03-27T23:55:14.104Z"
   },
   {
    "duration": 13,
    "start_time": "2023-03-27T23:55:14.400Z"
   },
   {
    "duration": 194,
    "start_time": "2023-03-27T23:55:14.415Z"
   },
   {
    "duration": 8,
    "start_time": "2023-03-27T23:55:14.611Z"
   },
   {
    "duration": 66,
    "start_time": "2023-03-27T23:55:14.620Z"
   },
   {
    "duration": 229,
    "start_time": "2023-03-27T23:55:14.688Z"
   },
   {
    "duration": 29,
    "start_time": "2023-03-27T23:57:57.158Z"
   },
   {
    "duration": 97,
    "start_time": "2023-03-27T23:58:02.868Z"
   },
   {
    "duration": 31,
    "start_time": "2023-03-28T00:00:58.053Z"
   },
   {
    "duration": 49,
    "start_time": "2023-03-28T08:37:12.943Z"
   },
   {
    "duration": 6,
    "start_time": "2023-03-28T08:37:23.765Z"
   },
   {
    "duration": 6,
    "start_time": "2023-03-28T08:37:32.408Z"
   },
   {
    "duration": 721,
    "start_time": "2023-03-28T08:38:10.459Z"
   },
   {
    "duration": 2278,
    "start_time": "2023-03-28T08:38:11.181Z"
   },
   {
    "duration": 20,
    "start_time": "2023-03-28T08:38:13.460Z"
   },
   {
    "duration": 59,
    "start_time": "2023-03-28T08:38:13.482Z"
   },
   {
    "duration": 0,
    "start_time": "2023-03-28T08:38:13.545Z"
   },
   {
    "duration": 0,
    "start_time": "2023-03-28T08:38:13.546Z"
   },
   {
    "duration": 0,
    "start_time": "2023-03-28T08:38:13.548Z"
   },
   {
    "duration": 0,
    "start_time": "2023-03-28T08:38:13.548Z"
   },
   {
    "duration": 0,
    "start_time": "2023-03-28T08:38:13.549Z"
   },
   {
    "duration": 0,
    "start_time": "2023-03-28T08:38:13.550Z"
   },
   {
    "duration": 0,
    "start_time": "2023-03-28T08:38:13.551Z"
   },
   {
    "duration": 0,
    "start_time": "2023-03-28T08:38:13.552Z"
   },
   {
    "duration": 0,
    "start_time": "2023-03-28T08:38:13.553Z"
   },
   {
    "duration": 0,
    "start_time": "2023-03-28T08:38:13.554Z"
   },
   {
    "duration": 0,
    "start_time": "2023-03-28T08:38:13.555Z"
   },
   {
    "duration": 0,
    "start_time": "2023-03-28T08:38:13.557Z"
   },
   {
    "duration": 0,
    "start_time": "2023-03-28T08:38:13.558Z"
   },
   {
    "duration": 0,
    "start_time": "2023-03-28T08:38:13.559Z"
   },
   {
    "duration": 1,
    "start_time": "2023-03-28T08:38:13.572Z"
   },
   {
    "duration": 0,
    "start_time": "2023-03-28T08:38:13.574Z"
   },
   {
    "duration": 0,
    "start_time": "2023-03-28T08:38:13.575Z"
   },
   {
    "duration": 0,
    "start_time": "2023-03-28T08:38:13.577Z"
   },
   {
    "duration": 0,
    "start_time": "2023-03-28T08:38:13.578Z"
   },
   {
    "duration": 0,
    "start_time": "2023-03-28T08:38:13.580Z"
   },
   {
    "duration": 0,
    "start_time": "2023-03-28T08:38:13.581Z"
   },
   {
    "duration": 0,
    "start_time": "2023-03-28T08:38:13.582Z"
   },
   {
    "duration": 0,
    "start_time": "2023-03-28T08:38:13.583Z"
   },
   {
    "duration": 0,
    "start_time": "2023-03-28T08:38:13.584Z"
   },
   {
    "duration": 0,
    "start_time": "2023-03-28T08:38:13.585Z"
   },
   {
    "duration": 0,
    "start_time": "2023-03-28T08:38:13.585Z"
   },
   {
    "duration": 0,
    "start_time": "2023-03-28T08:38:13.587Z"
   },
   {
    "duration": 0,
    "start_time": "2023-03-28T08:38:13.588Z"
   },
   {
    "duration": 0,
    "start_time": "2023-03-28T08:38:13.588Z"
   },
   {
    "duration": 0,
    "start_time": "2023-03-28T08:38:13.589Z"
   },
   {
    "duration": 0,
    "start_time": "2023-03-28T08:38:13.590Z"
   },
   {
    "duration": 0,
    "start_time": "2023-03-28T08:38:13.591Z"
   },
   {
    "duration": 0,
    "start_time": "2023-03-28T08:38:13.592Z"
   },
   {
    "duration": 0,
    "start_time": "2023-03-28T08:38:13.593Z"
   },
   {
    "duration": 0,
    "start_time": "2023-03-28T08:38:13.594Z"
   },
   {
    "duration": 0,
    "start_time": "2023-03-28T08:38:13.595Z"
   },
   {
    "duration": 0,
    "start_time": "2023-03-28T08:38:13.597Z"
   },
   {
    "duration": 0,
    "start_time": "2023-03-28T08:38:13.597Z"
   },
   {
    "duration": 0,
    "start_time": "2023-03-28T08:38:13.599Z"
   },
   {
    "duration": 0,
    "start_time": "2023-03-28T08:38:13.600Z"
   },
   {
    "duration": 0,
    "start_time": "2023-03-28T08:38:13.601Z"
   },
   {
    "duration": 0,
    "start_time": "2023-03-28T08:38:13.602Z"
   },
   {
    "duration": 0,
    "start_time": "2023-03-28T08:38:13.603Z"
   },
   {
    "duration": 0,
    "start_time": "2023-03-28T08:38:13.604Z"
   },
   {
    "duration": 0,
    "start_time": "2023-03-28T08:38:13.605Z"
   },
   {
    "duration": 0,
    "start_time": "2023-03-28T08:38:13.607Z"
   },
   {
    "duration": 0,
    "start_time": "2023-03-28T08:38:13.609Z"
   },
   {
    "duration": 0,
    "start_time": "2023-03-28T08:38:13.610Z"
   },
   {
    "duration": 0,
    "start_time": "2023-03-28T08:38:13.611Z"
   },
   {
    "duration": 0,
    "start_time": "2023-03-28T08:38:13.612Z"
   },
   {
    "duration": 0,
    "start_time": "2023-03-28T08:38:13.613Z"
   },
   {
    "duration": 0,
    "start_time": "2023-03-28T08:38:13.614Z"
   },
   {
    "duration": 0,
    "start_time": "2023-03-28T08:38:13.616Z"
   },
   {
    "duration": 0,
    "start_time": "2023-03-28T08:38:13.617Z"
   },
   {
    "duration": 0,
    "start_time": "2023-03-28T08:38:13.618Z"
   },
   {
    "duration": 0,
    "start_time": "2023-03-28T08:38:13.619Z"
   },
   {
    "duration": 0,
    "start_time": "2023-03-28T08:38:13.620Z"
   },
   {
    "duration": 0,
    "start_time": "2023-03-28T08:38:13.621Z"
   },
   {
    "duration": 0,
    "start_time": "2023-03-28T08:38:13.622Z"
   },
   {
    "duration": 1,
    "start_time": "2023-03-28T08:38:13.623Z"
   },
   {
    "duration": 0,
    "start_time": "2023-03-28T08:38:13.625Z"
   },
   {
    "duration": 0,
    "start_time": "2023-03-28T08:38:13.626Z"
   },
   {
    "duration": 0,
    "start_time": "2023-03-28T08:38:13.627Z"
   },
   {
    "duration": 0,
    "start_time": "2023-03-28T08:38:13.628Z"
   },
   {
    "duration": 0,
    "start_time": "2023-03-28T08:38:13.629Z"
   },
   {
    "duration": 0,
    "start_time": "2023-03-28T08:38:13.630Z"
   },
   {
    "duration": 0,
    "start_time": "2023-03-28T08:38:13.631Z"
   },
   {
    "duration": 0,
    "start_time": "2023-03-28T08:38:13.631Z"
   },
   {
    "duration": 0,
    "start_time": "2023-03-28T08:38:13.632Z"
   },
   {
    "duration": 0,
    "start_time": "2023-03-28T08:38:13.633Z"
   },
   {
    "duration": 0,
    "start_time": "2023-03-28T08:38:13.634Z"
   },
   {
    "duration": 0,
    "start_time": "2023-03-28T08:38:13.635Z"
   },
   {
    "duration": 0,
    "start_time": "2023-03-28T08:38:13.671Z"
   },
   {
    "duration": 0,
    "start_time": "2023-03-28T08:38:13.673Z"
   },
   {
    "duration": 0,
    "start_time": "2023-03-28T08:38:13.674Z"
   },
   {
    "duration": 0,
    "start_time": "2023-03-28T08:38:13.675Z"
   },
   {
    "duration": 0,
    "start_time": "2023-03-28T08:38:13.676Z"
   },
   {
    "duration": 0,
    "start_time": "2023-03-28T08:38:13.677Z"
   },
   {
    "duration": 0,
    "start_time": "2023-03-28T08:38:13.678Z"
   },
   {
    "duration": 51,
    "start_time": "2023-03-28T08:38:53.601Z"
   },
   {
    "duration": 190,
    "start_time": "2023-03-28T08:47:17.498Z"
   },
   {
    "duration": 246,
    "start_time": "2023-03-28T08:47:31.476Z"
   },
   {
    "duration": 1815,
    "start_time": "2023-03-28T09:09:10.031Z"
   },
   {
    "duration": 2385,
    "start_time": "2023-03-28T09:09:43.310Z"
   },
   {
    "duration": 102,
    "start_time": "2023-03-28T09:09:47.848Z"
   },
   {
    "duration": 1697,
    "start_time": "2023-03-28T09:09:47.951Z"
   },
   {
    "duration": 14,
    "start_time": "2023-03-28T09:09:49.649Z"
   },
   {
    "duration": 14,
    "start_time": "2023-03-28T09:09:49.672Z"
   },
   {
    "duration": 5,
    "start_time": "2023-03-28T09:09:49.688Z"
   },
   {
    "duration": 11,
    "start_time": "2023-03-28T09:09:49.695Z"
   },
   {
    "duration": 27,
    "start_time": "2023-03-28T09:09:49.707Z"
   },
   {
    "duration": 41,
    "start_time": "2023-03-28T09:09:49.735Z"
   },
   {
    "duration": 6,
    "start_time": "2023-03-28T09:09:49.777Z"
   },
   {
    "duration": 6,
    "start_time": "2023-03-28T09:09:49.784Z"
   },
   {
    "duration": 10,
    "start_time": "2023-03-28T09:09:49.791Z"
   },
   {
    "duration": 5,
    "start_time": "2023-03-28T09:09:49.802Z"
   },
   {
    "duration": 127,
    "start_time": "2023-03-28T09:09:49.807Z"
   },
   {
    "duration": 7,
    "start_time": "2023-03-28T09:09:49.936Z"
   },
   {
    "duration": 70,
    "start_time": "2023-03-28T09:09:49.944Z"
   },
   {
    "duration": 127,
    "start_time": "2023-03-28T09:09:50.016Z"
   },
   {
    "duration": 4,
    "start_time": "2023-03-28T09:09:50.144Z"
   },
   {
    "duration": 28,
    "start_time": "2023-03-28T09:09:50.150Z"
   },
   {
    "duration": 26,
    "start_time": "2023-03-28T09:09:50.180Z"
   },
   {
    "duration": 35,
    "start_time": "2023-03-28T09:09:50.207Z"
   },
   {
    "duration": 23,
    "start_time": "2023-03-28T09:09:50.243Z"
   },
   {
    "duration": 28,
    "start_time": "2023-03-28T09:09:50.267Z"
   },
   {
    "duration": 22,
    "start_time": "2023-03-28T09:09:50.296Z"
   },
   {
    "duration": 29,
    "start_time": "2023-03-28T09:09:50.320Z"
   },
   {
    "duration": 215,
    "start_time": "2023-03-28T09:09:50.350Z"
   },
   {
    "duration": 3,
    "start_time": "2023-03-28T09:09:50.567Z"
   },
   {
    "duration": 61,
    "start_time": "2023-03-28T09:09:50.572Z"
   },
   {
    "duration": 27,
    "start_time": "2023-03-28T09:09:50.635Z"
   },
   {
    "duration": 218,
    "start_time": "2023-03-28T09:09:50.663Z"
   },
   {
    "duration": 9,
    "start_time": "2023-03-28T09:09:50.883Z"
   },
   {
    "duration": 229,
    "start_time": "2023-03-28T09:09:50.894Z"
   },
   {
    "duration": 8,
    "start_time": "2023-03-28T09:09:51.125Z"
   },
   {
    "duration": 32,
    "start_time": "2023-03-28T09:09:51.134Z"
   },
   {
    "duration": 39,
    "start_time": "2023-03-28T09:09:51.167Z"
   },
   {
    "duration": 10,
    "start_time": "2023-03-28T09:09:51.207Z"
   },
   {
    "duration": 156,
    "start_time": "2023-03-28T09:09:51.219Z"
   },
   {
    "duration": 9,
    "start_time": "2023-03-28T09:09:51.376Z"
   },
   {
    "duration": 179,
    "start_time": "2023-03-28T09:09:51.387Z"
   },
   {
    "duration": 8,
    "start_time": "2023-03-28T09:09:51.567Z"
   },
   {
    "duration": 41,
    "start_time": "2023-03-28T09:09:51.577Z"
   },
   {
    "duration": 228,
    "start_time": "2023-03-28T09:09:51.623Z"
   },
   {
    "duration": 5,
    "start_time": "2023-03-28T09:09:51.852Z"
   },
   {
    "duration": 41,
    "start_time": "2023-03-28T09:09:51.858Z"
   },
   {
    "duration": 49,
    "start_time": "2023-03-28T09:09:51.901Z"
   },
   {
    "duration": 38,
    "start_time": "2023-03-28T09:09:51.951Z"
   },
   {
    "duration": 134,
    "start_time": "2023-03-28T09:09:51.991Z"
   },
   {
    "duration": 11,
    "start_time": "2023-03-28T09:09:52.127Z"
   },
   {
    "duration": 38,
    "start_time": "2023-03-28T09:09:52.139Z"
   },
   {
    "duration": 157,
    "start_time": "2023-03-28T09:09:52.179Z"
   },
   {
    "duration": 8,
    "start_time": "2023-03-28T09:09:52.338Z"
   },
   {
    "duration": 182,
    "start_time": "2023-03-28T09:09:52.348Z"
   },
   {
    "duration": 8,
    "start_time": "2023-03-28T09:09:52.532Z"
   },
   {
    "duration": 141,
    "start_time": "2023-03-28T09:09:52.542Z"
   },
   {
    "duration": 7,
    "start_time": "2023-03-28T09:09:52.685Z"
   },
   {
    "duration": 149,
    "start_time": "2023-03-28T09:09:52.693Z"
   },
   {
    "duration": 5,
    "start_time": "2023-03-28T09:09:52.844Z"
   },
   {
    "duration": 92,
    "start_time": "2023-03-28T09:09:52.850Z"
   },
   {
    "duration": 39,
    "start_time": "2023-03-28T09:09:52.944Z"
   },
   {
    "duration": 181,
    "start_time": "2023-03-28T09:09:52.984Z"
   },
   {
    "duration": 8,
    "start_time": "2023-03-28T09:09:53.167Z"
   },
   {
    "duration": 193,
    "start_time": "2023-03-28T09:09:53.176Z"
   },
   {
    "duration": 12,
    "start_time": "2023-03-28T09:09:53.370Z"
   },
   {
    "duration": 43,
    "start_time": "2023-03-28T09:09:53.383Z"
   },
   {
    "duration": 151,
    "start_time": "2023-03-28T09:09:53.428Z"
   },
   {
    "duration": 9,
    "start_time": "2023-03-28T09:09:53.581Z"
   },
   {
    "duration": 179,
    "start_time": "2023-03-28T09:09:53.592Z"
   },
   {
    "duration": 8,
    "start_time": "2023-03-28T09:09:53.773Z"
   },
   {
    "duration": 144,
    "start_time": "2023-03-28T09:09:53.782Z"
   },
   {
    "duration": 7,
    "start_time": "2023-03-28T09:09:53.927Z"
   },
   {
    "duration": 11,
    "start_time": "2023-03-28T09:09:53.935Z"
   },
   {
    "duration": 212,
    "start_time": "2023-03-28T09:09:53.948Z"
   },
   {
    "duration": 118,
    "start_time": "2023-03-28T09:09:54.162Z"
   },
   {
    "duration": 26,
    "start_time": "2023-03-28T09:09:54.282Z"
   },
   {
    "duration": 195,
    "start_time": "2023-03-28T09:09:54.310Z"
   },
   {
    "duration": 171,
    "start_time": "2023-03-28T09:09:54.506Z"
   },
   {
    "duration": 155,
    "start_time": "2023-03-28T09:09:54.679Z"
   },
   {
    "duration": 149,
    "start_time": "2023-03-28T09:09:54.835Z"
   },
   {
    "duration": 221,
    "start_time": "2023-03-28T09:09:54.986Z"
   },
   {
    "duration": 153,
    "start_time": "2023-03-28T09:09:55.209Z"
   },
   {
    "duration": 146,
    "start_time": "2023-03-28T09:09:55.364Z"
   },
   {
    "duration": 13,
    "start_time": "2023-03-28T09:09:55.511Z"
   },
   {
    "duration": 148,
    "start_time": "2023-03-28T09:09:55.525Z"
   },
   {
    "duration": 7,
    "start_time": "2023-03-28T09:09:55.675Z"
   },
   {
    "duration": 53,
    "start_time": "2023-03-28T09:09:55.684Z"
   },
   {
    "duration": 44,
    "start_time": "2023-03-28T09:09:55.738Z"
   },
   {
    "duration": 161,
    "start_time": "2023-03-28T09:09:55.784Z"
   },
   {
    "duration": 9,
    "start_time": "2023-03-28T09:12:14.943Z"
   },
   {
    "duration": 121,
    "start_time": "2023-03-28T09:13:29.083Z"
   },
   {
    "duration": 280,
    "start_time": "2023-03-28T09:13:47.705Z"
   },
   {
    "duration": 149,
    "start_time": "2023-03-28T09:14:22.214Z"
   },
   {
    "duration": 150,
    "start_time": "2023-03-28T09:14:32.253Z"
   },
   {
    "duration": 242,
    "start_time": "2023-03-28T09:14:43.619Z"
   },
   {
    "duration": 160,
    "start_time": "2023-03-28T09:14:51.941Z"
   },
   {
    "duration": 121,
    "start_time": "2023-03-28T09:17:51.589Z"
   },
   {
    "duration": 7,
    "start_time": "2023-03-28T09:18:12.920Z"
   },
   {
    "duration": 1855,
    "start_time": "2023-03-28T09:23:08.085Z"
   },
   {
    "duration": 226,
    "start_time": "2023-03-28T09:24:42.258Z"
   },
   {
    "duration": 228,
    "start_time": "2023-03-28T09:24:45.745Z"
   },
   {
    "duration": 2013,
    "start_time": "2023-03-28T09:26:12.065Z"
   },
   {
    "duration": 103,
    "start_time": "2023-03-28T09:26:16.034Z"
   },
   {
    "duration": 1774,
    "start_time": "2023-03-28T09:26:16.139Z"
   },
   {
    "duration": 13,
    "start_time": "2023-03-28T09:26:17.915Z"
   },
   {
    "duration": 31,
    "start_time": "2023-03-28T09:26:17.930Z"
   },
   {
    "duration": 5,
    "start_time": "2023-03-28T09:26:17.963Z"
   },
   {
    "duration": 47,
    "start_time": "2023-03-28T09:26:17.971Z"
   },
   {
    "duration": 25,
    "start_time": "2023-03-28T09:26:18.019Z"
   },
   {
    "duration": 16,
    "start_time": "2023-03-28T09:26:18.045Z"
   },
   {
    "duration": 5,
    "start_time": "2023-03-28T09:26:18.062Z"
   },
   {
    "duration": 5,
    "start_time": "2023-03-28T09:26:18.069Z"
   },
   {
    "duration": 9,
    "start_time": "2023-03-28T09:26:18.076Z"
   },
   {
    "duration": 4,
    "start_time": "2023-03-28T09:26:18.086Z"
   },
   {
    "duration": 106,
    "start_time": "2023-03-28T09:26:18.092Z"
   },
   {
    "duration": 6,
    "start_time": "2023-03-28T09:26:18.199Z"
   },
   {
    "duration": 71,
    "start_time": "2023-03-28T09:26:18.206Z"
   },
   {
    "duration": 121,
    "start_time": "2023-03-28T09:26:18.278Z"
   },
   {
    "duration": 3,
    "start_time": "2023-03-28T09:26:18.401Z"
   },
   {
    "duration": 14,
    "start_time": "2023-03-28T09:26:18.406Z"
   },
   {
    "duration": 6,
    "start_time": "2023-03-28T09:26:18.421Z"
   },
   {
    "duration": 6,
    "start_time": "2023-03-28T09:26:18.428Z"
   },
   {
    "duration": 6,
    "start_time": "2023-03-28T09:26:18.435Z"
   },
   {
    "duration": 36,
    "start_time": "2023-03-28T09:26:18.442Z"
   },
   {
    "duration": 7,
    "start_time": "2023-03-28T09:26:18.479Z"
   },
   {
    "duration": 3,
    "start_time": "2023-03-28T09:26:18.488Z"
   },
   {
    "duration": 183,
    "start_time": "2023-03-28T09:26:18.493Z"
   },
   {
    "duration": 4,
    "start_time": "2023-03-28T09:26:18.677Z"
   },
   {
    "duration": 42,
    "start_time": "2023-03-28T09:26:18.682Z"
   },
   {
    "duration": 7,
    "start_time": "2023-03-28T09:26:18.728Z"
   },
   {
    "duration": 203,
    "start_time": "2023-03-28T09:26:18.736Z"
   },
   {
    "duration": 6,
    "start_time": "2023-03-28T09:26:18.941Z"
   },
   {
    "duration": 131,
    "start_time": "2023-03-28T09:26:18.949Z"
   },
   {
    "duration": 7,
    "start_time": "2023-03-28T09:26:19.081Z"
   },
   {
    "duration": 43,
    "start_time": "2023-03-28T09:26:19.090Z"
   },
   {
    "duration": 11,
    "start_time": "2023-03-28T09:26:19.134Z"
   },
   {
    "duration": 12,
    "start_time": "2023-03-28T09:26:19.146Z"
   },
   {
    "duration": 144,
    "start_time": "2023-03-28T09:26:19.159Z"
   },
   {
    "duration": 7,
    "start_time": "2023-03-28T09:26:19.304Z"
   },
   {
    "duration": 138,
    "start_time": "2023-03-28T09:26:19.312Z"
   },
   {
    "duration": 8,
    "start_time": "2023-03-28T09:26:19.451Z"
   },
   {
    "duration": 17,
    "start_time": "2023-03-28T09:26:19.460Z"
   },
   {
    "duration": 298,
    "start_time": "2023-03-28T09:26:19.478Z"
   },
   {
    "duration": 5,
    "start_time": "2023-03-28T09:26:19.778Z"
   },
   {
    "duration": 21,
    "start_time": "2023-03-28T09:26:19.785Z"
   },
   {
    "duration": 8,
    "start_time": "2023-03-28T09:26:19.807Z"
   },
   {
    "duration": 7,
    "start_time": "2023-03-28T09:26:19.817Z"
   },
   {
    "duration": 129,
    "start_time": "2023-03-28T09:26:19.826Z"
   },
   {
    "duration": 18,
    "start_time": "2023-03-28T09:26:19.957Z"
   },
   {
    "duration": 8,
    "start_time": "2023-03-28T09:26:19.976Z"
   },
   {
    "duration": 145,
    "start_time": "2023-03-28T09:26:19.985Z"
   },
   {
    "duration": 7,
    "start_time": "2023-03-28T09:26:20.132Z"
   },
   {
    "duration": 181,
    "start_time": "2023-03-28T09:26:20.140Z"
   },
   {
    "duration": 8,
    "start_time": "2023-03-28T09:26:20.323Z"
   },
   {
    "duration": 116,
    "start_time": "2023-03-28T09:26:20.332Z"
   },
   {
    "duration": 6,
    "start_time": "2023-03-28T09:26:20.449Z"
   },
   {
    "duration": 126,
    "start_time": "2023-03-28T09:26:20.456Z"
   },
   {
    "duration": 7,
    "start_time": "2023-03-28T09:26:20.583Z"
   },
   {
    "duration": 14,
    "start_time": "2023-03-28T09:26:20.591Z"
   },
   {
    "duration": 17,
    "start_time": "2023-03-28T09:26:20.606Z"
   },
   {
    "duration": 173,
    "start_time": "2023-03-28T09:26:20.624Z"
   },
   {
    "duration": 8,
    "start_time": "2023-03-28T09:26:20.798Z"
   },
   {
    "duration": 137,
    "start_time": "2023-03-28T09:26:20.807Z"
   },
   {
    "duration": 11,
    "start_time": "2023-03-28T09:26:20.946Z"
   },
   {
    "duration": 25,
    "start_time": "2023-03-28T09:26:20.958Z"
   },
   {
    "duration": 139,
    "start_time": "2023-03-28T09:26:20.985Z"
   },
   {
    "duration": 7,
    "start_time": "2023-03-28T09:26:21.125Z"
   },
   {
    "duration": 206,
    "start_time": "2023-03-28T09:26:21.134Z"
   },
   {
    "duration": 6,
    "start_time": "2023-03-28T09:26:21.342Z"
   },
   {
    "duration": 135,
    "start_time": "2023-03-28T09:26:21.350Z"
   },
   {
    "duration": 7,
    "start_time": "2023-03-28T09:26:21.486Z"
   },
   {
    "duration": 169,
    "start_time": "2023-03-28T09:26:21.494Z"
   },
   {
    "duration": 8,
    "start_time": "2023-03-28T09:26:21.664Z"
   },
   {
    "duration": 136,
    "start_time": "2023-03-28T09:26:21.674Z"
   },
   {
    "duration": 8,
    "start_time": "2023-03-28T09:26:21.812Z"
   },
   {
    "duration": 33,
    "start_time": "2023-03-28T09:26:21.821Z"
   },
   {
    "duration": 206,
    "start_time": "2023-03-28T09:26:21.855Z"
   },
   {
    "duration": 109,
    "start_time": "2023-03-28T09:26:22.063Z"
   },
   {
    "duration": 25,
    "start_time": "2023-03-28T09:26:22.173Z"
   },
   {
    "duration": 163,
    "start_time": "2023-03-28T09:26:22.200Z"
   },
   {
    "duration": 137,
    "start_time": "2023-03-28T09:26:22.371Z"
   },
   {
    "duration": 132,
    "start_time": "2023-03-28T09:26:22.509Z"
   },
   {
    "duration": 1725,
    "start_time": "2023-03-28T09:26:22.642Z"
   },
   {
    "duration": 0,
    "start_time": "2023-03-28T09:26:24.369Z"
   },
   {
    "duration": 0,
    "start_time": "2023-03-28T09:26:24.370Z"
   },
   {
    "duration": 0,
    "start_time": "2023-03-28T09:26:24.371Z"
   },
   {
    "duration": 0,
    "start_time": "2023-03-28T09:26:24.372Z"
   },
   {
    "duration": 0,
    "start_time": "2023-03-28T09:26:24.373Z"
   },
   {
    "duration": 0,
    "start_time": "2023-03-28T09:26:24.374Z"
   },
   {
    "duration": 0,
    "start_time": "2023-03-28T09:26:24.374Z"
   },
   {
    "duration": 0,
    "start_time": "2023-03-28T09:26:24.375Z"
   },
   {
    "duration": 0,
    "start_time": "2023-03-28T09:26:24.376Z"
   },
   {
    "duration": 265,
    "start_time": "2023-03-28T09:26:38.307Z"
   },
   {
    "duration": 107,
    "start_time": "2023-03-28T09:31:03.005Z"
   },
   {
    "duration": 1668,
    "start_time": "2023-03-28T09:31:03.114Z"
   },
   {
    "duration": 16,
    "start_time": "2023-03-28T09:31:04.784Z"
   },
   {
    "duration": 15,
    "start_time": "2023-03-28T09:31:04.802Z"
   },
   {
    "duration": 7,
    "start_time": "2023-03-28T09:31:04.818Z"
   },
   {
    "duration": 13,
    "start_time": "2023-03-28T09:31:04.826Z"
   },
   {
    "duration": 57,
    "start_time": "2023-03-28T09:31:04.842Z"
   },
   {
    "duration": 18,
    "start_time": "2023-03-28T09:31:04.901Z"
   },
   {
    "duration": 6,
    "start_time": "2023-03-28T09:31:04.920Z"
   },
   {
    "duration": 7,
    "start_time": "2023-03-28T09:31:04.928Z"
   },
   {
    "duration": 41,
    "start_time": "2023-03-28T09:31:04.936Z"
   },
   {
    "duration": 4,
    "start_time": "2023-03-28T09:31:04.979Z"
   },
   {
    "duration": 153,
    "start_time": "2023-03-28T09:31:04.985Z"
   },
   {
    "duration": 6,
    "start_time": "2023-03-28T09:31:05.140Z"
   },
   {
    "duration": 85,
    "start_time": "2023-03-28T09:31:05.148Z"
   },
   {
    "duration": 149,
    "start_time": "2023-03-28T09:31:05.235Z"
   },
   {
    "duration": 4,
    "start_time": "2023-03-28T09:31:05.385Z"
   },
   {
    "duration": 25,
    "start_time": "2023-03-28T09:31:05.390Z"
   },
   {
    "duration": 8,
    "start_time": "2023-03-28T09:31:05.417Z"
   },
   {
    "duration": 25,
    "start_time": "2023-03-28T09:31:05.426Z"
   },
   {
    "duration": 8,
    "start_time": "2023-03-28T09:31:05.453Z"
   },
   {
    "duration": 16,
    "start_time": "2023-03-28T09:31:05.463Z"
   },
   {
    "duration": 12,
    "start_time": "2023-03-28T09:31:05.481Z"
   },
   {
    "duration": 7,
    "start_time": "2023-03-28T09:31:05.494Z"
   },
   {
    "duration": 206,
    "start_time": "2023-03-28T09:31:05.505Z"
   },
   {
    "duration": 5,
    "start_time": "2023-03-28T09:31:05.713Z"
   },
   {
    "duration": 25,
    "start_time": "2023-03-28T09:31:05.719Z"
   },
   {
    "duration": 8,
    "start_time": "2023-03-28T09:31:05.745Z"
   },
   {
    "duration": 275,
    "start_time": "2023-03-28T09:31:05.771Z"
   },
   {
    "duration": 10,
    "start_time": "2023-03-28T09:31:06.048Z"
   },
   {
    "duration": 180,
    "start_time": "2023-03-28T09:31:06.072Z"
   },
   {
    "duration": 18,
    "start_time": "2023-03-28T09:31:06.254Z"
   },
   {
    "duration": 13,
    "start_time": "2023-03-28T09:31:06.274Z"
   },
   {
    "duration": 9,
    "start_time": "2023-03-28T09:31:06.289Z"
   },
   {
    "duration": 9,
    "start_time": "2023-03-28T09:31:06.300Z"
   },
   {
    "duration": 164,
    "start_time": "2023-03-28T09:31:06.311Z"
   },
   {
    "duration": 7,
    "start_time": "2023-03-28T09:31:06.477Z"
   },
   {
    "duration": 152,
    "start_time": "2023-03-28T09:31:06.486Z"
   },
   {
    "duration": 8,
    "start_time": "2023-03-28T09:31:06.640Z"
   },
   {
    "duration": 7,
    "start_time": "2023-03-28T09:31:06.649Z"
   },
   {
    "duration": 206,
    "start_time": "2023-03-28T09:31:06.672Z"
   },
   {
    "duration": 5,
    "start_time": "2023-03-28T09:31:06.880Z"
   },
   {
    "duration": 14,
    "start_time": "2023-03-28T09:31:06.887Z"
   },
   {
    "duration": 11,
    "start_time": "2023-03-28T09:31:06.902Z"
   },
   {
    "duration": 6,
    "start_time": "2023-03-28T09:31:06.915Z"
   },
   {
    "duration": 130,
    "start_time": "2023-03-28T09:31:06.923Z"
   },
   {
    "duration": 21,
    "start_time": "2023-03-28T09:31:07.055Z"
   },
   {
    "duration": 12,
    "start_time": "2023-03-28T09:31:07.078Z"
   },
   {
    "duration": 176,
    "start_time": "2023-03-28T09:31:07.091Z"
   },
   {
    "duration": 9,
    "start_time": "2023-03-28T09:31:07.268Z"
   },
   {
    "duration": 161,
    "start_time": "2023-03-28T09:31:07.278Z"
   },
   {
    "duration": 6,
    "start_time": "2023-03-28T09:31:07.441Z"
   },
   {
    "duration": 117,
    "start_time": "2023-03-28T09:31:07.448Z"
   },
   {
    "duration": 10,
    "start_time": "2023-03-28T09:31:07.567Z"
   },
   {
    "duration": 121,
    "start_time": "2023-03-28T09:31:07.578Z"
   },
   {
    "duration": 5,
    "start_time": "2023-03-28T09:31:07.701Z"
   },
   {
    "duration": 13,
    "start_time": "2023-03-28T09:31:07.708Z"
   },
   {
    "duration": 8,
    "start_time": "2023-03-28T09:31:07.722Z"
   },
   {
    "duration": 189,
    "start_time": "2023-03-28T09:31:07.732Z"
   },
   {
    "duration": 7,
    "start_time": "2023-03-28T09:31:07.922Z"
   },
   {
    "duration": 130,
    "start_time": "2023-03-28T09:31:07.930Z"
   },
   {
    "duration": 19,
    "start_time": "2023-03-28T09:31:08.062Z"
   },
   {
    "duration": 7,
    "start_time": "2023-03-28T09:31:08.082Z"
   },
   {
    "duration": 138,
    "start_time": "2023-03-28T09:31:08.090Z"
   },
   {
    "duration": 8,
    "start_time": "2023-03-28T09:31:08.230Z"
   },
   {
    "duration": 144,
    "start_time": "2023-03-28T09:31:08.239Z"
   },
   {
    "duration": 7,
    "start_time": "2023-03-28T09:31:08.384Z"
   },
   {
    "duration": 141,
    "start_time": "2023-03-28T09:31:08.393Z"
   },
   {
    "duration": 7,
    "start_time": "2023-03-28T09:31:08.536Z"
   },
   {
    "duration": 179,
    "start_time": "2023-03-28T09:31:08.544Z"
   },
   {
    "duration": 7,
    "start_time": "2023-03-28T09:31:08.725Z"
   },
   {
    "duration": 134,
    "start_time": "2023-03-28T09:31:08.733Z"
   },
   {
    "duration": 6,
    "start_time": "2023-03-28T09:31:08.871Z"
   },
   {
    "duration": 9,
    "start_time": "2023-03-28T09:31:08.879Z"
   },
   {
    "duration": 221,
    "start_time": "2023-03-28T09:31:08.890Z"
   },
   {
    "duration": 111,
    "start_time": "2023-03-28T09:31:09.112Z"
   },
   {
    "duration": 23,
    "start_time": "2023-03-28T09:31:09.224Z"
   },
   {
    "duration": 140,
    "start_time": "2023-03-28T09:31:09.271Z"
   },
   {
    "duration": 146,
    "start_time": "2023-03-28T09:31:09.417Z"
   },
   {
    "duration": 133,
    "start_time": "2023-03-28T09:31:09.565Z"
   },
   {
    "duration": 120248,
    "start_time": "2023-03-28T09:31:09.699Z"
   },
   {
    "duration": 331,
    "start_time": "2023-03-28T09:33:09.949Z"
   },
   {
    "duration": 337,
    "start_time": "2023-03-28T09:33:10.282Z"
   },
   {
    "duration": 259,
    "start_time": "2023-03-28T09:33:10.621Z"
   },
   {
    "duration": 12,
    "start_time": "2023-03-28T09:33:10.882Z"
   },
   {
    "duration": 138,
    "start_time": "2023-03-28T09:33:10.896Z"
   },
   {
    "duration": 7,
    "start_time": "2023-03-28T09:33:11.036Z"
   },
   {
    "duration": 29,
    "start_time": "2023-03-28T09:33:11.044Z"
   },
   {
    "duration": 13,
    "start_time": "2023-03-28T09:33:11.074Z"
   },
   {
    "duration": 163,
    "start_time": "2023-03-28T09:33:11.265Z"
   },
   {
    "duration": 12,
    "start_time": "2023-03-28T09:39:08.575Z"
   },
   {
    "duration": 11,
    "start_time": "2023-03-28T09:39:18.223Z"
   },
   {
    "duration": 15,
    "start_time": "2023-03-28T09:39:25.048Z"
   },
   {
    "duration": 16,
    "start_time": "2023-03-28T09:39:55.724Z"
   },
   {
    "duration": 11,
    "start_time": "2023-03-28T09:40:20.285Z"
   },
   {
    "duration": 12,
    "start_time": "2023-03-28T09:40:28.602Z"
   },
   {
    "duration": 12,
    "start_time": "2023-03-28T09:41:01.935Z"
   },
   {
    "duration": 11,
    "start_time": "2023-03-28T09:41:17.349Z"
   },
   {
    "duration": 124663,
    "start_time": "2023-03-28T09:42:05.591Z"
   },
   {
    "duration": 122033,
    "start_time": "2023-03-28T09:44:10.256Z"
   },
   {
    "duration": 124,
    "start_time": "2023-03-28T17:22:50.483Z"
   },
   {
    "duration": 105,
    "start_time": "2023-03-28T18:57:50.960Z"
   },
   {
    "duration": 110,
    "start_time": "2023-03-28T18:58:01.187Z"
   },
   {
    "duration": 142,
    "start_time": "2023-03-28T18:59:15.858Z"
   },
   {
    "duration": 116,
    "start_time": "2023-03-28T19:00:59.660Z"
   },
   {
    "duration": 1347,
    "start_time": "2023-03-28T19:01:34.476Z"
   },
   {
    "duration": 111,
    "start_time": "2023-03-28T19:01:58.497Z"
   },
   {
    "duration": 128,
    "start_time": "2023-03-28T19:05:26.275Z"
   },
   {
    "duration": 119,
    "start_time": "2023-03-28T19:05:44.725Z"
   },
   {
    "duration": 116,
    "start_time": "2023-03-28T19:05:52.631Z"
   },
   {
    "duration": 126,
    "start_time": "2023-03-28T19:05:59.809Z"
   },
   {
    "duration": 177,
    "start_time": "2023-03-28T19:06:06.462Z"
   },
   {
    "duration": 53,
    "start_time": "2023-03-29T20:25:19.384Z"
   },
   {
    "duration": 803,
    "start_time": "2023-03-29T20:25:26.911Z"
   },
   {
    "duration": 113,
    "start_time": "2023-03-29T20:25:37.614Z"
   },
   {
    "duration": 1903,
    "start_time": "2023-03-29T20:25:37.729Z"
   },
   {
    "duration": 18,
    "start_time": "2023-03-29T20:25:39.641Z"
   },
   {
    "duration": 18,
    "start_time": "2023-03-29T20:25:39.660Z"
   },
   {
    "duration": 7,
    "start_time": "2023-03-29T20:25:39.680Z"
   },
   {
    "duration": 41,
    "start_time": "2023-03-29T20:25:39.688Z"
   },
   {
    "duration": 29,
    "start_time": "2023-03-29T20:25:39.731Z"
   },
   {
    "duration": 17,
    "start_time": "2023-03-29T20:25:39.762Z"
   },
   {
    "duration": 6,
    "start_time": "2023-03-29T20:25:39.780Z"
   },
   {
    "duration": 9,
    "start_time": "2023-03-29T20:25:39.788Z"
   },
   {
    "duration": 31,
    "start_time": "2023-03-29T20:25:39.798Z"
   },
   {
    "duration": 15,
    "start_time": "2023-03-29T20:25:39.831Z"
   },
   {
    "duration": 112,
    "start_time": "2023-03-29T20:25:39.847Z"
   },
   {
    "duration": 6,
    "start_time": "2023-03-29T20:25:39.961Z"
   },
   {
    "duration": 91,
    "start_time": "2023-03-29T20:25:39.969Z"
   },
   {
    "duration": 134,
    "start_time": "2023-03-29T20:25:40.061Z"
   },
   {
    "duration": 5,
    "start_time": "2023-03-29T20:25:40.197Z"
   },
   {
    "duration": 51,
    "start_time": "2023-03-29T20:25:40.203Z"
   },
   {
    "duration": 7,
    "start_time": "2023-03-29T20:25:40.256Z"
   },
   {
    "duration": 18,
    "start_time": "2023-03-29T20:25:40.265Z"
   },
   {
    "duration": 8,
    "start_time": "2023-03-29T20:25:40.285Z"
   },
   {
    "duration": 8,
    "start_time": "2023-03-29T20:25:40.294Z"
   },
   {
    "duration": 10,
    "start_time": "2023-03-29T20:25:40.303Z"
   },
   {
    "duration": 5,
    "start_time": "2023-03-29T20:25:40.315Z"
   },
   {
    "duration": 196,
    "start_time": "2023-03-29T20:25:40.322Z"
   },
   {
    "duration": 5,
    "start_time": "2023-03-29T20:25:40.520Z"
   },
   {
    "duration": 33,
    "start_time": "2023-03-29T20:25:40.526Z"
   },
   {
    "duration": 9,
    "start_time": "2023-03-29T20:25:40.561Z"
   },
   {
    "duration": 254,
    "start_time": "2023-03-29T20:25:40.572Z"
   },
   {
    "duration": 13,
    "start_time": "2023-03-29T20:25:40.828Z"
   },
   {
    "duration": 149,
    "start_time": "2023-03-29T20:25:40.843Z"
   },
   {
    "duration": 10,
    "start_time": "2023-03-29T20:25:40.994Z"
   },
   {
    "duration": 9,
    "start_time": "2023-03-29T20:25:41.006Z"
   },
   {
    "duration": 32,
    "start_time": "2023-03-29T20:25:41.017Z"
   },
   {
    "duration": 27,
    "start_time": "2023-03-29T20:25:41.051Z"
   },
   {
    "duration": 161,
    "start_time": "2023-03-29T20:25:41.080Z"
   },
   {
    "duration": 10,
    "start_time": "2023-03-29T20:25:41.243Z"
   },
   {
    "duration": 172,
    "start_time": "2023-03-29T20:25:41.255Z"
   },
   {
    "duration": 17,
    "start_time": "2023-03-29T20:25:41.428Z"
   },
   {
    "duration": 10,
    "start_time": "2023-03-29T20:25:41.447Z"
   },
   {
    "duration": 429,
    "start_time": "2023-03-29T20:25:41.459Z"
   },
   {
    "duration": 6,
    "start_time": "2023-03-29T20:25:41.890Z"
   },
   {
    "duration": 19,
    "start_time": "2023-03-29T20:25:41.898Z"
   },
   {
    "duration": 23,
    "start_time": "2023-03-29T20:25:41.918Z"
   },
   {
    "duration": 6,
    "start_time": "2023-03-29T20:25:41.943Z"
   },
   {
    "duration": 136,
    "start_time": "2023-03-29T20:25:41.950Z"
   },
   {
    "duration": 13,
    "start_time": "2023-03-29T20:25:42.088Z"
   },
   {
    "duration": 19,
    "start_time": "2023-03-29T20:25:42.104Z"
   },
   {
    "duration": 171,
    "start_time": "2023-03-29T20:25:42.125Z"
   },
   {
    "duration": 8,
    "start_time": "2023-03-29T20:25:42.298Z"
   },
   {
    "duration": 190,
    "start_time": "2023-03-29T20:25:42.307Z"
   },
   {
    "duration": 9,
    "start_time": "2023-03-29T20:25:42.500Z"
   },
   {
    "duration": 139,
    "start_time": "2023-03-29T20:25:42.511Z"
   },
   {
    "duration": 10,
    "start_time": "2023-03-29T20:25:42.652Z"
   },
   {
    "duration": 156,
    "start_time": "2023-03-29T20:25:42.664Z"
   },
   {
    "duration": 7,
    "start_time": "2023-03-29T20:25:42.822Z"
   },
   {
    "duration": 16,
    "start_time": "2023-03-29T20:25:42.841Z"
   },
   {
    "duration": 9,
    "start_time": "2023-03-29T20:25:42.859Z"
   },
   {
    "duration": 198,
    "start_time": "2023-03-29T20:25:42.870Z"
   },
   {
    "duration": 9,
    "start_time": "2023-03-29T20:25:43.070Z"
   },
   {
    "duration": 181,
    "start_time": "2023-03-29T20:25:43.080Z"
   },
   {
    "duration": 17,
    "start_time": "2023-03-29T20:25:43.263Z"
   },
   {
    "duration": 11,
    "start_time": "2023-03-29T20:25:43.282Z"
   },
   {
    "duration": 174,
    "start_time": "2023-03-29T20:25:43.295Z"
   },
   {
    "duration": 9,
    "start_time": "2023-03-29T20:25:43.471Z"
   },
   {
    "duration": 164,
    "start_time": "2023-03-29T20:25:43.482Z"
   },
   {
    "duration": 9,
    "start_time": "2023-03-29T20:25:43.647Z"
   },
   {
    "duration": 268,
    "start_time": "2023-03-29T20:25:43.658Z"
   },
   {
    "duration": 16,
    "start_time": "2023-03-29T20:25:43.928Z"
   },
   {
    "duration": 199,
    "start_time": "2023-03-29T20:25:43.946Z"
   },
   {
    "duration": 9,
    "start_time": "2023-03-29T20:25:44.147Z"
   },
   {
    "duration": 155,
    "start_time": "2023-03-29T20:25:44.158Z"
   },
   {
    "duration": 8,
    "start_time": "2023-03-29T20:25:44.315Z"
   },
   {
    "duration": 17,
    "start_time": "2023-03-29T20:25:44.325Z"
   },
   {
    "duration": 251,
    "start_time": "2023-03-29T20:25:44.344Z"
   },
   {
    "duration": 125,
    "start_time": "2023-03-29T20:25:44.597Z"
   },
   {
    "duration": 31,
    "start_time": "2023-03-29T20:25:44.724Z"
   },
   {
    "duration": 186,
    "start_time": "2023-03-29T20:25:44.757Z"
   },
   {
    "duration": 177,
    "start_time": "2023-03-29T20:25:44.944Z"
   },
   {
    "duration": 186,
    "start_time": "2023-03-29T20:25:45.123Z"
   },
   {
    "duration": 13,
    "start_time": "2023-03-29T20:25:45.311Z"
   },
   {
    "duration": 143,
    "start_time": "2023-03-29T20:25:45.325Z"
   },
   {
    "duration": 287,
    "start_time": "2023-03-29T20:25:45.470Z"
   },
   {
    "duration": 175,
    "start_time": "2023-03-29T20:25:45.760Z"
   },
   {
    "duration": 18,
    "start_time": "2023-03-29T20:25:45.940Z"
   },
   {
    "duration": 177,
    "start_time": "2023-03-29T20:25:45.960Z"
   },
   {
    "duration": 9,
    "start_time": "2023-03-29T20:25:46.141Z"
   },
   {
    "duration": 87,
    "start_time": "2023-03-29T20:25:46.151Z"
   },
   {
    "duration": 56,
    "start_time": "2023-03-29T20:25:46.240Z"
   },
   {
    "duration": 182,
    "start_time": "2023-03-29T20:25:46.298Z"
   },
   {
    "duration": 165,
    "start_time": "2023-03-29T20:27:02.824Z"
   },
   {
    "duration": 169,
    "start_time": "2023-03-29T20:27:30.862Z"
   },
   {
    "duration": 13,
    "start_time": "2023-03-29T20:33:32.313Z"
   },
   {
    "duration": 173,
    "start_time": "2023-03-29T20:34:07.711Z"
   },
   {
    "duration": 175,
    "start_time": "2023-03-29T20:35:31.785Z"
   },
   {
    "duration": 13,
    "start_time": "2023-03-29T20:38:22.057Z"
   },
   {
    "duration": 174,
    "start_time": "2023-03-29T20:39:15.049Z"
   },
   {
    "duration": 15,
    "start_time": "2023-03-29T20:42:15.964Z"
   },
   {
    "duration": 119,
    "start_time": "2023-03-29T20:46:26.473Z"
   },
   {
    "duration": 2157,
    "start_time": "2023-03-29T20:46:26.594Z"
   },
   {
    "duration": 16,
    "start_time": "2023-03-29T20:46:28.753Z"
   },
   {
    "duration": 20,
    "start_time": "2023-03-29T20:46:28.771Z"
   },
   {
    "duration": 7,
    "start_time": "2023-03-29T20:46:28.793Z"
   },
   {
    "duration": 16,
    "start_time": "2023-03-29T20:46:28.802Z"
   },
   {
    "duration": 33,
    "start_time": "2023-03-29T20:46:28.840Z"
   },
   {
    "duration": 20,
    "start_time": "2023-03-29T20:46:28.875Z"
   },
   {
    "duration": 8,
    "start_time": "2023-03-29T20:46:28.897Z"
   },
   {
    "duration": 38,
    "start_time": "2023-03-29T20:46:28.907Z"
   },
   {
    "duration": 12,
    "start_time": "2023-03-29T20:46:28.948Z"
   },
   {
    "duration": 4,
    "start_time": "2023-03-29T20:46:28.963Z"
   },
   {
    "duration": 143,
    "start_time": "2023-03-29T20:46:28.968Z"
   },
   {
    "duration": 7,
    "start_time": "2023-03-29T20:46:29.114Z"
   },
   {
    "duration": 91,
    "start_time": "2023-03-29T20:46:29.123Z"
   },
   {
    "duration": 173,
    "start_time": "2023-03-29T20:46:29.216Z"
   },
   {
    "duration": 4,
    "start_time": "2023-03-29T20:46:29.391Z"
   },
   {
    "duration": 17,
    "start_time": "2023-03-29T20:46:29.397Z"
   },
   {
    "duration": 25,
    "start_time": "2023-03-29T20:46:29.416Z"
   },
   {
    "duration": 8,
    "start_time": "2023-03-29T20:46:29.443Z"
   },
   {
    "duration": 5,
    "start_time": "2023-03-29T20:46:29.453Z"
   },
   {
    "duration": 10,
    "start_time": "2023-03-29T20:46:29.459Z"
   },
   {
    "duration": 6,
    "start_time": "2023-03-29T20:46:29.471Z"
   },
   {
    "duration": 10,
    "start_time": "2023-03-29T20:46:29.479Z"
   },
   {
    "duration": 242,
    "start_time": "2023-03-29T20:46:29.491Z"
   },
   {
    "duration": 9,
    "start_time": "2023-03-29T20:46:29.735Z"
   },
   {
    "duration": 40,
    "start_time": "2023-03-29T20:46:29.745Z"
   },
   {
    "duration": 9,
    "start_time": "2023-03-29T20:46:29.787Z"
   },
   {
    "duration": 400,
    "start_time": "2023-03-29T20:46:29.798Z"
   },
   {
    "duration": 9,
    "start_time": "2023-03-29T20:46:30.200Z"
   },
   {
    "duration": 187,
    "start_time": "2023-03-29T20:46:30.211Z"
   },
   {
    "duration": 8,
    "start_time": "2023-03-29T20:46:30.400Z"
   },
   {
    "duration": 46,
    "start_time": "2023-03-29T20:46:30.410Z"
   },
   {
    "duration": 37,
    "start_time": "2023-03-29T20:46:30.458Z"
   },
   {
    "duration": 35,
    "start_time": "2023-03-29T20:46:30.497Z"
   },
   {
    "duration": 219,
    "start_time": "2023-03-29T20:46:30.533Z"
   },
   {
    "duration": 11,
    "start_time": "2023-03-29T20:46:30.754Z"
   },
   {
    "duration": 218,
    "start_time": "2023-03-29T20:46:30.767Z"
   },
   {
    "duration": 9,
    "start_time": "2023-03-29T20:46:30.987Z"
   },
   {
    "duration": 54,
    "start_time": "2023-03-29T20:46:30.998Z"
   },
   {
    "duration": 389,
    "start_time": "2023-03-29T20:46:31.057Z"
   },
   {
    "duration": 8,
    "start_time": "2023-03-29T20:46:31.448Z"
   },
   {
    "duration": 73,
    "start_time": "2023-03-29T20:46:31.458Z"
   },
   {
    "duration": 30,
    "start_time": "2023-03-29T20:46:31.533Z"
   },
   {
    "duration": 10,
    "start_time": "2023-03-29T20:46:31.565Z"
   },
   {
    "duration": 134,
    "start_time": "2023-03-29T20:46:31.576Z"
   },
   {
    "duration": 12,
    "start_time": "2023-03-29T20:46:31.712Z"
   },
   {
    "duration": 30,
    "start_time": "2023-03-29T20:46:31.725Z"
   },
   {
    "duration": 189,
    "start_time": "2023-03-29T20:46:31.757Z"
   },
   {
    "duration": 10,
    "start_time": "2023-03-29T20:46:31.948Z"
   },
   {
    "duration": 209,
    "start_time": "2023-03-29T20:46:31.959Z"
   },
   {
    "duration": 9,
    "start_time": "2023-03-29T20:46:32.170Z"
   },
   {
    "duration": 146,
    "start_time": "2023-03-29T20:46:32.181Z"
   },
   {
    "duration": 13,
    "start_time": "2023-03-29T20:46:32.329Z"
   },
   {
    "duration": 165,
    "start_time": "2023-03-29T20:46:32.344Z"
   },
   {
    "duration": 8,
    "start_time": "2023-03-29T20:46:32.511Z"
   },
   {
    "duration": 29,
    "start_time": "2023-03-29T20:46:32.520Z"
   },
   {
    "duration": 10,
    "start_time": "2023-03-29T20:46:32.551Z"
   },
   {
    "duration": 368,
    "start_time": "2023-03-29T20:46:32.563Z"
   },
   {
    "duration": 15,
    "start_time": "2023-03-29T20:46:32.933Z"
   },
   {
    "duration": 177,
    "start_time": "2023-03-29T20:46:32.950Z"
   },
   {
    "duration": 25,
    "start_time": "2023-03-29T20:46:33.129Z"
   },
   {
    "duration": 10,
    "start_time": "2023-03-29T20:46:33.156Z"
   },
   {
    "duration": 187,
    "start_time": "2023-03-29T20:46:33.168Z"
   },
   {
    "duration": 10,
    "start_time": "2023-03-29T20:46:33.357Z"
   },
   {
    "duration": 178,
    "start_time": "2023-03-29T20:46:33.370Z"
   },
   {
    "duration": 9,
    "start_time": "2023-03-29T20:46:33.550Z"
   },
   {
    "duration": 164,
    "start_time": "2023-03-29T20:46:33.560Z"
   },
   {
    "duration": 16,
    "start_time": "2023-03-29T20:46:33.726Z"
   },
   {
    "duration": 200,
    "start_time": "2023-03-29T20:46:33.743Z"
   },
   {
    "duration": 9,
    "start_time": "2023-03-29T20:46:33.944Z"
   },
   {
    "duration": 158,
    "start_time": "2023-03-29T20:46:33.955Z"
   },
   {
    "duration": 7,
    "start_time": "2023-03-29T20:46:34.115Z"
   },
   {
    "duration": 23,
    "start_time": "2023-03-29T20:46:34.124Z"
   },
   {
    "duration": 258,
    "start_time": "2023-03-29T20:46:34.148Z"
   },
   {
    "duration": 132,
    "start_time": "2023-03-29T20:46:34.407Z"
   },
   {
    "duration": 24,
    "start_time": "2023-03-29T20:46:34.540Z"
   },
   {
    "duration": 297,
    "start_time": "2023-03-29T20:46:34.566Z"
   },
   {
    "duration": 183,
    "start_time": "2023-03-29T20:46:34.865Z"
   },
   {
    "duration": 175,
    "start_time": "2023-03-29T20:46:35.049Z"
   },
   {
    "duration": 24,
    "start_time": "2023-03-29T20:46:35.227Z"
   },
   {
    "duration": 199,
    "start_time": "2023-03-29T20:46:35.254Z"
   },
   {
    "duration": 17,
    "start_time": "2023-03-29T20:46:35.458Z"
   },
   {
    "duration": 188,
    "start_time": "2023-03-29T20:46:35.478Z"
   },
   {
    "duration": 96,
    "start_time": "2023-03-29T20:46:35.669Z"
   },
   {
    "duration": 0,
    "start_time": "2023-03-29T20:46:35.766Z"
   },
   {
    "duration": 0,
    "start_time": "2023-03-29T20:46:35.768Z"
   },
   {
    "duration": 0,
    "start_time": "2023-03-29T20:46:35.769Z"
   },
   {
    "duration": 0,
    "start_time": "2023-03-29T20:46:35.770Z"
   },
   {
    "duration": 0,
    "start_time": "2023-03-29T20:46:35.772Z"
   },
   {
    "duration": 0,
    "start_time": "2023-03-29T20:46:35.773Z"
   },
   {
    "duration": 0,
    "start_time": "2023-03-29T20:46:35.773Z"
   },
   {
    "duration": 0,
    "start_time": "2023-03-29T20:46:35.774Z"
   },
   {
    "duration": 0,
    "start_time": "2023-03-29T20:46:35.775Z"
   },
   {
    "duration": 0,
    "start_time": "2023-03-29T20:46:35.776Z"
   },
   {
    "duration": 0,
    "start_time": "2023-03-29T20:46:35.777Z"
   },
   {
    "duration": 164,
    "start_time": "2023-03-29T20:47:41.412Z"
   },
   {
    "duration": 2760,
    "start_time": "2023-03-29T20:47:41.578Z"
   },
   {
    "duration": 17,
    "start_time": "2023-03-29T20:47:44.340Z"
   },
   {
    "duration": 16,
    "start_time": "2023-03-29T20:47:44.359Z"
   },
   {
    "duration": 10,
    "start_time": "2023-03-29T20:47:44.377Z"
   },
   {
    "duration": 12,
    "start_time": "2023-03-29T20:47:44.389Z"
   },
   {
    "duration": 60,
    "start_time": "2023-03-29T20:47:44.403Z"
   },
   {
    "duration": 18,
    "start_time": "2023-03-29T20:47:44.464Z"
   },
   {
    "duration": 7,
    "start_time": "2023-03-29T20:47:44.484Z"
   },
   {
    "duration": 9,
    "start_time": "2023-03-29T20:47:44.492Z"
   },
   {
    "duration": 43,
    "start_time": "2023-03-29T20:47:44.502Z"
   },
   {
    "duration": 3,
    "start_time": "2023-03-29T20:47:44.547Z"
   },
   {
    "duration": 170,
    "start_time": "2023-03-29T20:47:44.552Z"
   },
   {
    "duration": 18,
    "start_time": "2023-03-29T20:47:44.725Z"
   },
   {
    "duration": 67,
    "start_time": "2023-03-29T20:47:44.744Z"
   },
   {
    "duration": 163,
    "start_time": "2023-03-29T20:47:44.812Z"
   },
   {
    "duration": 5,
    "start_time": "2023-03-29T20:47:44.977Z"
   },
   {
    "duration": 17,
    "start_time": "2023-03-29T20:47:44.983Z"
   },
   {
    "duration": 8,
    "start_time": "2023-03-29T20:47:45.002Z"
   },
   {
    "duration": 39,
    "start_time": "2023-03-29T20:47:45.011Z"
   },
   {
    "duration": 8,
    "start_time": "2023-03-29T20:47:45.052Z"
   },
   {
    "duration": 15,
    "start_time": "2023-03-29T20:47:45.061Z"
   },
   {
    "duration": 14,
    "start_time": "2023-03-29T20:47:45.077Z"
   },
   {
    "duration": 37,
    "start_time": "2023-03-29T20:47:45.092Z"
   },
   {
    "duration": 206,
    "start_time": "2023-03-29T20:47:45.131Z"
   },
   {
    "duration": 4,
    "start_time": "2023-03-29T20:47:45.341Z"
   },
   {
    "duration": 31,
    "start_time": "2023-03-29T20:47:45.346Z"
   },
   {
    "duration": 9,
    "start_time": "2023-03-29T20:47:45.378Z"
   },
   {
    "duration": 243,
    "start_time": "2023-03-29T20:47:45.389Z"
   },
   {
    "duration": 14,
    "start_time": "2023-03-29T20:47:45.633Z"
   },
   {
    "duration": 170,
    "start_time": "2023-03-29T20:47:45.649Z"
   },
   {
    "duration": 9,
    "start_time": "2023-03-29T20:47:45.820Z"
   },
   {
    "duration": 10,
    "start_time": "2023-03-29T20:47:45.842Z"
   },
   {
    "duration": 24,
    "start_time": "2023-03-29T20:47:45.854Z"
   },
   {
    "duration": 12,
    "start_time": "2023-03-29T20:47:45.880Z"
   },
   {
    "duration": 180,
    "start_time": "2023-03-29T20:47:45.894Z"
   },
   {
    "duration": 12,
    "start_time": "2023-03-29T20:47:46.076Z"
   },
   {
    "duration": 270,
    "start_time": "2023-03-29T20:47:46.090Z"
   },
   {
    "duration": 9,
    "start_time": "2023-03-29T20:47:46.362Z"
   },
   {
    "duration": 13,
    "start_time": "2023-03-29T20:47:46.373Z"
   },
   {
    "duration": 430,
    "start_time": "2023-03-29T20:47:46.390Z"
   },
   {
    "duration": 5,
    "start_time": "2023-03-29T20:47:46.822Z"
   },
   {
    "duration": 28,
    "start_time": "2023-03-29T20:47:46.828Z"
   },
   {
    "duration": 10,
    "start_time": "2023-03-29T20:47:46.858Z"
   },
   {
    "duration": 69,
    "start_time": "2023-03-29T20:47:46.870Z"
   },
   {
    "duration": 144,
    "start_time": "2023-03-29T20:47:46.941Z"
   },
   {
    "duration": 12,
    "start_time": "2023-03-29T20:47:47.087Z"
   },
   {
    "duration": 41,
    "start_time": "2023-03-29T20:47:47.101Z"
   },
   {
    "duration": 182,
    "start_time": "2023-03-29T20:47:47.143Z"
   },
   {
    "duration": 15,
    "start_time": "2023-03-29T20:47:47.327Z"
   },
   {
    "duration": 185,
    "start_time": "2023-03-29T20:47:47.343Z"
   },
   {
    "duration": 15,
    "start_time": "2023-03-29T20:47:47.529Z"
   },
   {
    "duration": 135,
    "start_time": "2023-03-29T20:47:47.546Z"
   },
   {
    "duration": 7,
    "start_time": "2023-03-29T20:47:47.683Z"
   },
   {
    "duration": 150,
    "start_time": "2023-03-29T20:47:47.692Z"
   },
   {
    "duration": 7,
    "start_time": "2023-03-29T20:47:47.844Z"
   },
   {
    "duration": 15,
    "start_time": "2023-03-29T20:47:47.853Z"
   },
   {
    "duration": 9,
    "start_time": "2023-03-29T20:47:47.869Z"
   },
   {
    "duration": 219,
    "start_time": "2023-03-29T20:47:47.879Z"
   },
   {
    "duration": 8,
    "start_time": "2023-03-29T20:47:48.100Z"
   },
   {
    "duration": 190,
    "start_time": "2023-03-29T20:47:48.110Z"
   },
   {
    "duration": 12,
    "start_time": "2023-03-29T20:47:48.302Z"
   },
   {
    "duration": 9,
    "start_time": "2023-03-29T20:47:48.315Z"
   },
   {
    "duration": 172,
    "start_time": "2023-03-29T20:47:48.325Z"
   },
   {
    "duration": 10,
    "start_time": "2023-03-29T20:47:48.499Z"
   },
   {
    "duration": 287,
    "start_time": "2023-03-29T20:47:48.510Z"
   },
   {
    "duration": 9,
    "start_time": "2023-03-29T20:47:48.799Z"
   },
   {
    "duration": 161,
    "start_time": "2023-03-29T20:47:48.810Z"
   },
   {
    "duration": 10,
    "start_time": "2023-03-29T20:47:48.972Z"
   },
   {
    "duration": 206,
    "start_time": "2023-03-29T20:47:48.984Z"
   },
   {
    "duration": 8,
    "start_time": "2023-03-29T20:47:49.192Z"
   },
   {
    "duration": 156,
    "start_time": "2023-03-29T20:47:49.202Z"
   },
   {
    "duration": 9,
    "start_time": "2023-03-29T20:47:49.360Z"
   },
   {
    "duration": 72,
    "start_time": "2023-03-29T20:47:49.370Z"
   },
   {
    "duration": 274,
    "start_time": "2023-03-29T20:47:49.444Z"
   },
   {
    "duration": 127,
    "start_time": "2023-03-29T20:47:49.720Z"
   },
   {
    "duration": 25,
    "start_time": "2023-03-29T20:47:49.849Z"
   },
   {
    "duration": 212,
    "start_time": "2023-03-29T20:47:49.876Z"
   },
   {
    "duration": 187,
    "start_time": "2023-03-29T20:47:50.090Z"
   },
   {
    "duration": 162,
    "start_time": "2023-03-29T20:47:50.279Z"
   },
   {
    "duration": 13,
    "start_time": "2023-03-29T20:47:50.442Z"
   },
   {
    "duration": 292,
    "start_time": "2023-03-29T20:47:50.456Z"
   },
   {
    "duration": 13,
    "start_time": "2023-03-29T20:47:50.750Z"
   },
   {
    "duration": 161,
    "start_time": "2023-03-29T20:47:50.765Z"
   },
   {
    "duration": 140,
    "start_time": "2023-03-29T20:47:50.928Z"
   },
   {
    "duration": 0,
    "start_time": "2023-03-29T20:47:51.070Z"
   },
   {
    "duration": 0,
    "start_time": "2023-03-29T20:47:51.071Z"
   },
   {
    "duration": 0,
    "start_time": "2023-03-29T20:47:51.072Z"
   },
   {
    "duration": 0,
    "start_time": "2023-03-29T20:47:51.074Z"
   },
   {
    "duration": 0,
    "start_time": "2023-03-29T20:47:51.075Z"
   },
   {
    "duration": 0,
    "start_time": "2023-03-29T20:47:51.075Z"
   },
   {
    "duration": 0,
    "start_time": "2023-03-29T20:47:51.077Z"
   },
   {
    "duration": 0,
    "start_time": "2023-03-29T20:47:51.078Z"
   },
   {
    "duration": 0,
    "start_time": "2023-03-29T20:47:51.079Z"
   },
   {
    "duration": 0,
    "start_time": "2023-03-29T20:47:51.080Z"
   },
   {
    "duration": 0,
    "start_time": "2023-03-29T20:47:51.081Z"
   },
   {
    "duration": 17,
    "start_time": "2023-03-29T20:48:41.095Z"
   },
   {
    "duration": 196,
    "start_time": "2023-03-29T20:48:41.113Z"
   },
   {
    "duration": 119,
    "start_time": "2023-03-29T20:48:41.310Z"
   },
   {
    "duration": 0,
    "start_time": "2023-03-29T20:48:41.430Z"
   },
   {
    "duration": 0,
    "start_time": "2023-03-29T20:48:41.432Z"
   },
   {
    "duration": 0,
    "start_time": "2023-03-29T20:48:41.433Z"
   },
   {
    "duration": 0,
    "start_time": "2023-03-29T20:48:41.434Z"
   },
   {
    "duration": 0,
    "start_time": "2023-03-29T20:48:41.435Z"
   },
   {
    "duration": 0,
    "start_time": "2023-03-29T20:48:41.436Z"
   },
   {
    "duration": 0,
    "start_time": "2023-03-29T20:48:41.437Z"
   },
   {
    "duration": 0,
    "start_time": "2023-03-29T20:48:41.438Z"
   },
   {
    "duration": 119,
    "start_time": "2023-03-29T20:49:04.487Z"
   },
   {
    "duration": 2186,
    "start_time": "2023-03-29T20:49:04.609Z"
   },
   {
    "duration": 15,
    "start_time": "2023-03-29T20:49:06.797Z"
   },
   {
    "duration": 33,
    "start_time": "2023-03-29T20:49:06.815Z"
   },
   {
    "duration": 7,
    "start_time": "2023-03-29T20:49:06.850Z"
   },
   {
    "duration": 24,
    "start_time": "2023-03-29T20:49:06.858Z"
   },
   {
    "duration": 35,
    "start_time": "2023-03-29T20:49:06.884Z"
   },
   {
    "duration": 27,
    "start_time": "2023-03-29T20:49:06.921Z"
   },
   {
    "duration": 8,
    "start_time": "2023-03-29T20:49:06.950Z"
   },
   {
    "duration": 14,
    "start_time": "2023-03-29T20:49:06.962Z"
   },
   {
    "duration": 15,
    "start_time": "2023-03-29T20:49:06.978Z"
   },
   {
    "duration": 4,
    "start_time": "2023-03-29T20:49:06.995Z"
   },
   {
    "duration": 131,
    "start_time": "2023-03-29T20:49:07.000Z"
   },
   {
    "duration": 13,
    "start_time": "2023-03-29T20:49:07.132Z"
   },
   {
    "duration": 91,
    "start_time": "2023-03-29T20:49:07.146Z"
   },
   {
    "duration": 149,
    "start_time": "2023-03-29T20:49:07.240Z"
   },
   {
    "duration": 4,
    "start_time": "2023-03-29T20:49:07.391Z"
   },
   {
    "duration": 20,
    "start_time": "2023-03-29T20:49:07.397Z"
   },
   {
    "duration": 23,
    "start_time": "2023-03-29T20:49:07.419Z"
   },
   {
    "duration": 8,
    "start_time": "2023-03-29T20:49:07.444Z"
   },
   {
    "duration": 6,
    "start_time": "2023-03-29T20:49:07.453Z"
   },
   {
    "duration": 14,
    "start_time": "2023-03-29T20:49:07.461Z"
   },
   {
    "duration": 15,
    "start_time": "2023-03-29T20:49:07.477Z"
   },
   {
    "duration": 15,
    "start_time": "2023-03-29T20:49:07.494Z"
   },
   {
    "duration": 113,
    "start_time": "2023-03-29T20:49:13.875Z"
   },
   {
    "duration": 1916,
    "start_time": "2023-03-29T20:49:13.990Z"
   },
   {
    "duration": 17,
    "start_time": "2023-03-29T20:49:15.908Z"
   },
   {
    "duration": 29,
    "start_time": "2023-03-29T20:49:15.926Z"
   },
   {
    "duration": 7,
    "start_time": "2023-03-29T20:49:15.956Z"
   },
   {
    "duration": 35,
    "start_time": "2023-03-29T20:49:15.965Z"
   },
   {
    "duration": 45,
    "start_time": "2023-03-29T20:49:16.005Z"
   },
   {
    "duration": 29,
    "start_time": "2023-03-29T20:49:16.052Z"
   },
   {
    "duration": 9,
    "start_time": "2023-03-29T20:49:16.083Z"
   },
   {
    "duration": 20,
    "start_time": "2023-03-29T20:49:16.095Z"
   },
   {
    "duration": 15,
    "start_time": "2023-03-29T20:49:16.140Z"
   },
   {
    "duration": 10,
    "start_time": "2023-03-29T20:49:16.158Z"
   },
   {
    "duration": 133,
    "start_time": "2023-03-29T20:49:16.170Z"
   },
   {
    "duration": 8,
    "start_time": "2023-03-29T20:49:16.304Z"
   },
   {
    "duration": 79,
    "start_time": "2023-03-29T20:49:16.313Z"
   },
   {
    "duration": 161,
    "start_time": "2023-03-29T20:49:16.394Z"
   },
   {
    "duration": 5,
    "start_time": "2023-03-29T20:49:16.556Z"
   },
   {
    "duration": 32,
    "start_time": "2023-03-29T20:49:16.563Z"
   },
   {
    "duration": 8,
    "start_time": "2023-03-29T20:49:16.598Z"
   },
   {
    "duration": 33,
    "start_time": "2023-03-29T20:49:16.607Z"
   },
   {
    "duration": 23,
    "start_time": "2023-03-29T20:49:16.642Z"
   },
   {
    "duration": 55,
    "start_time": "2023-03-29T20:49:16.668Z"
   },
   {
    "duration": 14,
    "start_time": "2023-03-29T20:49:16.725Z"
   },
   {
    "duration": 7,
    "start_time": "2023-03-29T20:49:16.741Z"
   },
   {
    "duration": 364,
    "start_time": "2023-03-29T20:49:16.750Z"
   },
   {
    "duration": 4,
    "start_time": "2023-03-29T20:49:17.116Z"
   },
   {
    "duration": 109,
    "start_time": "2023-03-29T20:49:17.122Z"
   },
   {
    "duration": 54,
    "start_time": "2023-03-29T20:49:17.234Z"
   },
   {
    "duration": 234,
    "start_time": "2023-03-29T20:49:17.290Z"
   },
   {
    "duration": 17,
    "start_time": "2023-03-29T20:49:17.526Z"
   },
   {
    "duration": 263,
    "start_time": "2023-03-29T20:49:17.545Z"
   },
   {
    "duration": 9,
    "start_time": "2023-03-29T20:49:17.810Z"
   },
   {
    "duration": 30,
    "start_time": "2023-03-29T20:49:17.821Z"
   },
   {
    "duration": 13,
    "start_time": "2023-03-29T20:49:17.854Z"
   },
   {
    "duration": 11,
    "start_time": "2023-03-29T20:49:17.868Z"
   },
   {
    "duration": 185,
    "start_time": "2023-03-29T20:49:17.881Z"
   },
   {
    "duration": 10,
    "start_time": "2023-03-29T20:49:18.068Z"
   },
   {
    "duration": 170,
    "start_time": "2023-03-29T20:49:18.080Z"
   },
   {
    "duration": 10,
    "start_time": "2023-03-29T20:49:18.252Z"
   },
   {
    "duration": 29,
    "start_time": "2023-03-29T20:49:18.263Z"
   },
   {
    "duration": 301,
    "start_time": "2023-03-29T20:49:18.293Z"
   },
   {
    "duration": 8,
    "start_time": "2023-03-29T20:49:18.596Z"
   },
   {
    "duration": 53,
    "start_time": "2023-03-29T20:49:18.606Z"
   },
   {
    "duration": 38,
    "start_time": "2023-03-29T20:49:18.661Z"
   },
   {
    "duration": 27,
    "start_time": "2023-03-29T20:49:18.701Z"
   },
   {
    "duration": 170,
    "start_time": "2023-03-29T20:49:18.731Z"
   },
   {
    "duration": 13,
    "start_time": "2023-03-29T20:49:18.903Z"
   },
   {
    "duration": 35,
    "start_time": "2023-03-29T20:49:18.918Z"
   },
   {
    "duration": 181,
    "start_time": "2023-03-29T20:49:18.955Z"
   },
   {
    "duration": 10,
    "start_time": "2023-03-29T20:49:19.141Z"
   },
   {
    "duration": 392,
    "start_time": "2023-03-29T20:49:19.152Z"
   },
   {
    "duration": 10,
    "start_time": "2023-03-29T20:49:19.546Z"
   },
   {
    "duration": 153,
    "start_time": "2023-03-29T20:49:19.558Z"
   },
   {
    "duration": 21,
    "start_time": "2023-03-29T20:49:19.714Z"
   },
   {
    "duration": 150,
    "start_time": "2023-03-29T20:49:19.745Z"
   },
   {
    "duration": 7,
    "start_time": "2023-03-29T20:49:19.897Z"
   },
   {
    "duration": 31,
    "start_time": "2023-03-29T20:49:19.906Z"
   },
   {
    "duration": 18,
    "start_time": "2023-03-29T20:49:19.940Z"
   },
   {
    "duration": 216,
    "start_time": "2023-03-29T20:49:19.960Z"
   },
   {
    "duration": 10,
    "start_time": "2023-03-29T20:49:20.178Z"
   },
   {
    "duration": 181,
    "start_time": "2023-03-29T20:49:20.189Z"
   },
   {
    "duration": 15,
    "start_time": "2023-03-29T20:49:20.372Z"
   },
   {
    "duration": 9,
    "start_time": "2023-03-29T20:49:20.389Z"
   },
   {
    "duration": 186,
    "start_time": "2023-03-29T20:49:20.400Z"
   },
   {
    "duration": 9,
    "start_time": "2023-03-29T20:49:20.588Z"
   },
   {
    "duration": 257,
    "start_time": "2023-03-29T20:49:20.599Z"
   },
   {
    "duration": 9,
    "start_time": "2023-03-29T20:49:20.858Z"
   },
   {
    "duration": 173,
    "start_time": "2023-03-29T20:49:20.868Z"
   },
   {
    "duration": 8,
    "start_time": "2023-03-29T20:49:21.043Z"
   },
   {
    "duration": 227,
    "start_time": "2023-03-29T20:49:21.052Z"
   },
   {
    "duration": 9,
    "start_time": "2023-03-29T20:49:21.281Z"
   },
   {
    "duration": 167,
    "start_time": "2023-03-29T20:49:21.292Z"
   },
   {
    "duration": 8,
    "start_time": "2023-03-29T20:49:21.461Z"
   },
   {
    "duration": 11,
    "start_time": "2023-03-29T20:49:21.471Z"
   },
   {
    "duration": 425,
    "start_time": "2023-03-29T20:49:21.484Z"
   },
   {
    "duration": 138,
    "start_time": "2023-03-29T20:49:21.911Z"
   },
   {
    "duration": 22,
    "start_time": "2023-03-29T20:49:22.051Z"
   },
   {
    "duration": 198,
    "start_time": "2023-03-29T20:49:22.075Z"
   },
   {
    "duration": 174,
    "start_time": "2023-03-29T20:49:22.275Z"
   },
   {
    "duration": 158,
    "start_time": "2023-03-29T20:49:22.450Z"
   },
   {
    "duration": 13,
    "start_time": "2023-03-29T20:49:22.609Z"
   },
   {
    "duration": 183,
    "start_time": "2023-03-29T20:49:22.623Z"
   },
   {
    "duration": 14,
    "start_time": "2023-03-29T20:49:22.807Z"
   },
   {
    "duration": 170,
    "start_time": "2023-03-29T20:49:22.822Z"
   },
   {
    "duration": 13,
    "start_time": "2023-03-29T20:49:22.994Z"
   },
   {
    "duration": 237,
    "start_time": "2023-03-29T20:49:23.224Z"
   },
   {
    "duration": 13,
    "start_time": "2023-03-29T20:49:23.463Z"
   },
   {
    "duration": 163,
    "start_time": "2023-03-29T20:49:23.478Z"
   },
   {
    "duration": 15,
    "start_time": "2023-03-29T20:49:23.643Z"
   },
   {
    "duration": 160,
    "start_time": "2023-03-29T20:49:23.660Z"
   },
   {
    "duration": 8,
    "start_time": "2023-03-29T20:49:23.822Z"
   },
   {
    "duration": 19,
    "start_time": "2023-03-29T20:49:23.841Z"
   },
   {
    "duration": 24,
    "start_time": "2023-03-29T20:49:23.862Z"
   },
   {
    "duration": 184,
    "start_time": "2023-03-29T20:49:23.887Z"
   },
   {
    "duration": 41,
    "start_time": "2023-04-19T19:21:03.583Z"
   },
   {
    "duration": 6,
    "start_time": "2023-04-19T19:21:10.382Z"
   },
   {
    "duration": 10,
    "start_time": "2023-04-19T19:21:12.831Z"
   },
   {
    "duration": 603,
    "start_time": "2023-04-19T19:21:19.576Z"
   },
   {
    "duration": 3310,
    "start_time": "2023-04-19T19:21:20.181Z"
   },
   {
    "duration": 56,
    "start_time": "2023-04-19T19:21:23.493Z"
   },
   {
    "duration": 12,
    "start_time": "2023-04-19T19:21:23.552Z"
   },
   {
    "duration": 10,
    "start_time": "2023-04-19T19:21:23.568Z"
   },
   {
    "duration": 60,
    "start_time": "2023-04-19T19:21:23.579Z"
   },
   {
    "duration": 42,
    "start_time": "2023-04-19T19:21:23.641Z"
   },
   {
    "duration": 68,
    "start_time": "2023-04-19T19:21:23.684Z"
   },
   {
    "duration": 9,
    "start_time": "2023-04-19T19:21:23.754Z"
   },
   {
    "duration": 20,
    "start_time": "2023-04-19T19:21:23.765Z"
   },
   {
    "duration": 82,
    "start_time": "2023-04-19T19:21:23.787Z"
   },
   {
    "duration": 3,
    "start_time": "2023-04-19T19:21:23.872Z"
   },
   {
    "duration": 202,
    "start_time": "2023-04-19T19:21:23.876Z"
   },
   {
    "duration": 6,
    "start_time": "2023-04-19T19:21:24.081Z"
   },
   {
    "duration": 88,
    "start_time": "2023-04-19T19:21:24.088Z"
   },
   {
    "duration": 136,
    "start_time": "2023-04-19T19:21:24.180Z"
   },
   {
    "duration": 3,
    "start_time": "2023-04-19T19:21:24.318Z"
   },
   {
    "duration": 34,
    "start_time": "2023-04-19T19:21:24.322Z"
   },
   {
    "duration": 7,
    "start_time": "2023-04-19T19:21:24.362Z"
   },
   {
    "duration": 13,
    "start_time": "2023-04-19T19:21:24.371Z"
   },
   {
    "duration": 3,
    "start_time": "2023-04-19T19:21:24.385Z"
   },
   {
    "duration": 8,
    "start_time": "2023-04-19T19:21:24.390Z"
   },
   {
    "duration": 4,
    "start_time": "2023-04-19T19:21:24.399Z"
   },
   {
    "duration": 4,
    "start_time": "2023-04-19T19:21:24.404Z"
   },
   {
    "duration": 218,
    "start_time": "2023-04-19T19:21:24.409Z"
   },
   {
    "duration": 3,
    "start_time": "2023-04-19T19:21:24.629Z"
   },
   {
    "duration": 35,
    "start_time": "2023-04-19T19:21:24.634Z"
   },
   {
    "duration": 8,
    "start_time": "2023-04-19T19:21:24.674Z"
   },
   {
    "duration": 239,
    "start_time": "2023-04-19T19:21:24.684Z"
   },
   {
    "duration": 34,
    "start_time": "2023-04-19T19:21:24.925Z"
   },
   {
    "duration": 150,
    "start_time": "2023-04-19T19:21:24.963Z"
   },
   {
    "duration": 7,
    "start_time": "2023-04-19T19:21:25.115Z"
   },
   {
    "duration": 16,
    "start_time": "2023-04-19T19:21:25.123Z"
   },
   {
    "duration": 29,
    "start_time": "2023-04-19T19:21:25.141Z"
   },
   {
    "duration": 10,
    "start_time": "2023-04-19T19:21:25.174Z"
   },
   {
    "duration": 270,
    "start_time": "2023-04-19T19:21:25.185Z"
   },
   {
    "duration": 15,
    "start_time": "2023-04-19T19:21:25.462Z"
   },
   {
    "duration": 181,
    "start_time": "2023-04-19T19:21:25.479Z"
   },
   {
    "duration": 15,
    "start_time": "2023-04-19T19:21:25.663Z"
   },
   {
    "duration": 8,
    "start_time": "2023-04-19T19:21:25.680Z"
   },
   {
    "duration": 310,
    "start_time": "2023-04-19T19:21:25.692Z"
   },
   {
    "duration": 5,
    "start_time": "2023-04-19T19:21:26.004Z"
   },
   {
    "duration": 39,
    "start_time": "2023-04-19T19:21:26.010Z"
   },
   {
    "duration": 21,
    "start_time": "2023-04-19T19:21:26.056Z"
   },
   {
    "duration": 8,
    "start_time": "2023-04-19T19:21:26.078Z"
   },
   {
    "duration": 143,
    "start_time": "2023-04-19T19:21:26.088Z"
   },
   {
    "duration": 12,
    "start_time": "2023-04-19T19:21:26.238Z"
   },
   {
    "duration": 8,
    "start_time": "2023-04-19T19:21:26.252Z"
   },
   {
    "duration": 201,
    "start_time": "2023-04-19T19:21:26.262Z"
   },
   {
    "duration": 11,
    "start_time": "2023-04-19T19:21:26.464Z"
   },
   {
    "duration": 207,
    "start_time": "2023-04-19T19:21:26.476Z"
   },
   {
    "duration": 9,
    "start_time": "2023-04-19T19:21:26.685Z"
   },
   {
    "duration": 151,
    "start_time": "2023-04-19T19:21:26.696Z"
   },
   {
    "duration": 32,
    "start_time": "2023-04-19T19:21:26.850Z"
   },
   {
    "duration": 140,
    "start_time": "2023-04-19T19:21:26.883Z"
   },
   {
    "duration": 6,
    "start_time": "2023-04-19T19:21:27.025Z"
   },
   {
    "duration": 14,
    "start_time": "2023-04-19T19:21:27.036Z"
   },
   {
    "duration": 12,
    "start_time": "2023-04-19T19:21:27.052Z"
   },
   {
    "duration": 222,
    "start_time": "2023-04-19T19:21:27.066Z"
   },
   {
    "duration": 7,
    "start_time": "2023-04-19T19:21:27.290Z"
   },
   {
    "duration": 165,
    "start_time": "2023-04-19T19:21:27.299Z"
   },
   {
    "duration": 17,
    "start_time": "2023-04-19T19:21:27.466Z"
   },
   {
    "duration": 8,
    "start_time": "2023-04-19T19:21:27.484Z"
   },
   {
    "duration": 257,
    "start_time": "2023-04-19T19:21:27.494Z"
   },
   {
    "duration": 19,
    "start_time": "2023-04-19T19:21:27.754Z"
   },
   {
    "duration": 154,
    "start_time": "2023-04-19T19:21:27.778Z"
   },
   {
    "duration": 23,
    "start_time": "2023-04-19T19:21:27.933Z"
   },
   {
    "duration": 147,
    "start_time": "2023-04-19T19:21:27.968Z"
   },
   {
    "duration": 6,
    "start_time": "2023-04-19T19:21:28.117Z"
   },
   {
    "duration": 206,
    "start_time": "2023-04-19T19:21:28.124Z"
   },
   {
    "duration": 15,
    "start_time": "2023-04-19T19:21:28.332Z"
   },
   {
    "duration": 155,
    "start_time": "2023-04-19T19:21:28.348Z"
   },
   {
    "duration": 6,
    "start_time": "2023-04-19T19:21:28.505Z"
   },
   {
    "duration": 7,
    "start_time": "2023-04-19T19:21:28.513Z"
   },
   {
    "duration": 280,
    "start_time": "2023-04-19T19:21:28.521Z"
   },
   {
    "duration": 129,
    "start_time": "2023-04-19T19:21:28.802Z"
   },
   {
    "duration": 45,
    "start_time": "2023-04-19T19:21:28.935Z"
   },
   {
    "duration": 185,
    "start_time": "2023-04-19T19:21:28.982Z"
   },
   {
    "duration": 152,
    "start_time": "2023-04-19T19:21:29.174Z"
   },
   {
    "duration": 229,
    "start_time": "2023-04-19T19:21:29.327Z"
   },
   {
    "duration": 21,
    "start_time": "2023-04-19T19:21:29.557Z"
   },
   {
    "duration": 181,
    "start_time": "2023-04-19T19:21:29.580Z"
   },
   {
    "duration": 13,
    "start_time": "2023-04-19T19:21:29.770Z"
   },
   {
    "duration": 147,
    "start_time": "2023-04-19T19:21:29.785Z"
   },
   {
    "duration": 31,
    "start_time": "2023-04-19T19:21:29.937Z"
   },
   {
    "duration": 202,
    "start_time": "2023-04-19T19:21:29.973Z"
   },
   {
    "duration": 12,
    "start_time": "2023-04-19T19:21:30.177Z"
   },
   {
    "duration": 163,
    "start_time": "2023-04-19T19:21:30.190Z"
   },
   {
    "duration": 22,
    "start_time": "2023-04-19T19:21:30.356Z"
   },
   {
    "duration": 152,
    "start_time": "2023-04-19T19:21:30.380Z"
   },
   {
    "duration": 10,
    "start_time": "2023-04-19T19:21:30.534Z"
   },
   {
    "duration": 55,
    "start_time": "2023-04-19T19:21:30.545Z"
   },
   {
    "duration": 28,
    "start_time": "2023-04-19T19:21:30.602Z"
   },
   {
    "duration": 223,
    "start_time": "2023-04-19T19:21:30.632Z"
   },
   {
    "duration": 69,
    "start_time": "2023-04-19T19:21:44.127Z"
   }
  ],
  "kernelspec": {
   "display_name": "anaconda-2022.05-py39",
   "language": "python",
   "name": "conda-env-anaconda-2022.05-py39-py"
  },
  "language_info": {
   "codemirror_mode": {
    "name": "ipython",
    "version": 3
   },
   "file_extension": ".py",
   "mimetype": "text/x-python",
   "name": "python",
   "nbconvert_exporter": "python",
   "pygments_lexer": "ipython3",
   "version": "3.9.12"
  },
  "toc": {
   "base_numbering": 1,
   "nav_menu": {},
   "number_sections": true,
   "sideBar": true,
   "skip_h1_title": true,
   "title_cell": "Table of Contents",
   "title_sidebar": "Contents",
   "toc_cell": false,
   "toc_position": {},
   "toc_section_display": true,
   "toc_window_display": true
  }
 },
 "nbformat": 4,
 "nbformat_minor": 4
}
