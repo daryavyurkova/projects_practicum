{
 "cells": [
  {
   "cell_type": "markdown",
   "metadata": {
    "toc": true
   },
   "source": [
    "<h1>Содержание<span class=\"tocSkip\"></span></h1>\n",
    "<div class=\"toc\"><ul class=\"toc-item\"><li><span><a href=\"#Загрузка-данных\" data-toc-modified-id=\"Загрузка-данных-1\"><span class=\"toc-item-num\">1&nbsp;&nbsp;</span>Загрузка данных</a></span></li><li><span><a href=\"#Умножение-матриц\" data-toc-modified-id=\"Умножение-матриц-2\"><span class=\"toc-item-num\">2&nbsp;&nbsp;</span>Умножение матриц</a></span></li><li><span><a href=\"#Алгоритм-преобразования\" data-toc-modified-id=\"Алгоритм-преобразования-3\"><span class=\"toc-item-num\">3&nbsp;&nbsp;</span>Алгоритм преобразования</a></span></li><li><span><a href=\"#Проверка-алгоритма\" data-toc-modified-id=\"Проверка-алгоритма-4\"><span class=\"toc-item-num\">4&nbsp;&nbsp;</span>Проверка алгоритма</a></span></li><li><span><a href=\"#Чек-лист-проверки\" data-toc-modified-id=\"Чек-лист-проверки-5\"><span class=\"toc-item-num\">5&nbsp;&nbsp;</span>Чек-лист проверки</a></span></li></ul></div>"
   ]
  },
  {
   "cell_type": "markdown",
   "metadata": {},
   "source": [
    "# Защита персональных данных клиентов"
   ]
  },
  {
   "cell_type": "markdown",
   "metadata": {},
   "source": [
    "Вам нужно защитить данные клиентов страховой компании «Хоть потоп». Разработайте такой метод преобразования данных, чтобы по ним было сложно восстановить персональную информацию. Обоснуйте корректность его работы.\n",
    "\n",
    "Нужно защитить данные, чтобы при преобразовании качество моделей машинного обучения не ухудшилось. Подбирать наилучшую модель не требуется."
   ]
  },
  {
   "cell_type": "markdown",
   "metadata": {},
   "source": [
    "**Цели исследования:**\n",
    "\n",
    "1. Защитить данные, чтобы при преобразовании качество моделей машинного обучения не ухудшилось.\n",
    "2. Разработать такой метод преобразования данных, чтобы по ним было сложно восстановить персональную информацию. \n",
    "3. Обосновать корректность его работы.\n",
    "\n",
    "**Ход исследования**\n",
    "1. Загрузить и изучить данные.\n",
    "2. Ответить на вопрос \"Признаки умножают на обратимую матрицу. Изменится ли качество линейной регрессии?\" и обосновать решение. \n",
    "3. Предложить алгоритм преобразования данных для решения задачи. Обосновать, почему качество линейной регрессии не поменяется.\n",
    "4. Запрограммировать этот алгоритм, применив матричные операции. Проверить, что качество линейной регрессии из sklearn не отличается до и после преобразования. Применить метрику R2."
   ]
  },
  {
   "cell_type": "markdown",
   "metadata": {},
   "source": [
    "## Загрузка данных"
   ]
  },
  {
   "cell_type": "code",
   "execution_count": 7,
   "metadata": {},
   "outputs": [],
   "source": [
    "import pandas as pd \n",
    "import numpy as np\n",
    "import matplotlib.pyplot as plt\n",
    "import seaborn as sns\n",
    "\n",
    "from sklearn.metrics import r2_score\n",
    "from sklearn.model_selection import train_test_split\n",
    "from sklearn.linear_model import LinearRegression\n",
    "from sklearn.preprocessing import StandardScaler\n",
    "from sklearn.pipeline import Pipeline"
   ]
  },
  {
   "cell_type": "code",
   "execution_count": 9,
   "metadata": {},
   "outputs": [],
   "source": [
    "try:\n",
    "    data = pd.read_csv('/datasets/insurance.csv')\n",
    "except FileNotFoundError:\n",
    "    print(\"Файл не найден\")\n",
    "except pd.errors.EmptyDataError:\n",
    "    print(\"Файл пустой\")\n",
    "except pd.errors.ParserError:\n",
    "    print(\"Ошибка при чтении файла CSV\")"
   ]
  },
  {
   "cell_type": "code",
   "execution_count": 10,
   "metadata": {},
   "outputs": [
    {
     "name": "stdout",
     "output_type": "stream",
     "text": [
      "<class 'pandas.core.frame.DataFrame'>\n",
      "RangeIndex: 5000 entries, 0 to 4999\n",
      "Data columns (total 5 columns):\n",
      " #   Column             Non-Null Count  Dtype  \n",
      "---  ------             --------------  -----  \n",
      " 0   Пол                5000 non-null   int64  \n",
      " 1   Возраст            5000 non-null   float64\n",
      " 2   Зарплата           5000 non-null   float64\n",
      " 3   Члены семьи        5000 non-null   int64  \n",
      " 4   Страховые выплаты  5000 non-null   int64  \n",
      "dtypes: float64(2), int64(3)\n",
      "memory usage: 195.4 KB\n"
     ]
    }
   ],
   "source": [
    "data.info()"
   ]
  },
  {
   "cell_type": "code",
   "execution_count": 11,
   "metadata": {},
   "outputs": [
    {
     "data": {
      "text/html": [
       "<div>\n",
       "<style scoped>\n",
       "    .dataframe tbody tr th:only-of-type {\n",
       "        vertical-align: middle;\n",
       "    }\n",
       "\n",
       "    .dataframe tbody tr th {\n",
       "        vertical-align: top;\n",
       "    }\n",
       "\n",
       "    .dataframe thead th {\n",
       "        text-align: right;\n",
       "    }\n",
       "</style>\n",
       "<table border=\"1\" class=\"dataframe\">\n",
       "  <thead>\n",
       "    <tr style=\"text-align: right;\">\n",
       "      <th></th>\n",
       "      <th>Пол</th>\n",
       "      <th>Возраст</th>\n",
       "      <th>Зарплата</th>\n",
       "      <th>Члены семьи</th>\n",
       "      <th>Страховые выплаты</th>\n",
       "    </tr>\n",
       "  </thead>\n",
       "  <tbody>\n",
       "    <tr>\n",
       "      <th>count</th>\n",
       "      <td>5000.000000</td>\n",
       "      <td>5000.000000</td>\n",
       "      <td>5000.000000</td>\n",
       "      <td>5000.000000</td>\n",
       "      <td>5000.000000</td>\n",
       "    </tr>\n",
       "    <tr>\n",
       "      <th>mean</th>\n",
       "      <td>0.499000</td>\n",
       "      <td>30.952800</td>\n",
       "      <td>39916.360000</td>\n",
       "      <td>1.194200</td>\n",
       "      <td>0.148000</td>\n",
       "    </tr>\n",
       "    <tr>\n",
       "      <th>std</th>\n",
       "      <td>0.500049</td>\n",
       "      <td>8.440807</td>\n",
       "      <td>9900.083569</td>\n",
       "      <td>1.091387</td>\n",
       "      <td>0.463183</td>\n",
       "    </tr>\n",
       "    <tr>\n",
       "      <th>min</th>\n",
       "      <td>0.000000</td>\n",
       "      <td>18.000000</td>\n",
       "      <td>5300.000000</td>\n",
       "      <td>0.000000</td>\n",
       "      <td>0.000000</td>\n",
       "    </tr>\n",
       "    <tr>\n",
       "      <th>25%</th>\n",
       "      <td>0.000000</td>\n",
       "      <td>24.000000</td>\n",
       "      <td>33300.000000</td>\n",
       "      <td>0.000000</td>\n",
       "      <td>0.000000</td>\n",
       "    </tr>\n",
       "    <tr>\n",
       "      <th>50%</th>\n",
       "      <td>0.000000</td>\n",
       "      <td>30.000000</td>\n",
       "      <td>40200.000000</td>\n",
       "      <td>1.000000</td>\n",
       "      <td>0.000000</td>\n",
       "    </tr>\n",
       "    <tr>\n",
       "      <th>75%</th>\n",
       "      <td>1.000000</td>\n",
       "      <td>37.000000</td>\n",
       "      <td>46600.000000</td>\n",
       "      <td>2.000000</td>\n",
       "      <td>0.000000</td>\n",
       "    </tr>\n",
       "    <tr>\n",
       "      <th>max</th>\n",
       "      <td>1.000000</td>\n",
       "      <td>65.000000</td>\n",
       "      <td>79000.000000</td>\n",
       "      <td>6.000000</td>\n",
       "      <td>5.000000</td>\n",
       "    </tr>\n",
       "  </tbody>\n",
       "</table>\n",
       "</div>"
      ],
      "text/plain": [
       "               Пол      Возраст      Зарплата  Члены семьи  Страховые выплаты\n",
       "count  5000.000000  5000.000000   5000.000000  5000.000000        5000.000000\n",
       "mean      0.499000    30.952800  39916.360000     1.194200           0.148000\n",
       "std       0.500049     8.440807   9900.083569     1.091387           0.463183\n",
       "min       0.000000    18.000000   5300.000000     0.000000           0.000000\n",
       "25%       0.000000    24.000000  33300.000000     0.000000           0.000000\n",
       "50%       0.000000    30.000000  40200.000000     1.000000           0.000000\n",
       "75%       1.000000    37.000000  46600.000000     2.000000           0.000000\n",
       "max       1.000000    65.000000  79000.000000     6.000000           5.000000"
      ]
     },
     "execution_count": 11,
     "metadata": {},
     "output_type": "execute_result"
    }
   ],
   "source": [
    "data.describe()"
   ]
  },
  {
   "cell_type": "code",
   "execution_count": 12,
   "metadata": {},
   "outputs": [],
   "source": [
    "# поменяем типа даннных у столбцов \"Зарплата\" и \"Возраст\"\n",
    "data[['Зарплата', 'Возраст']] = data[['Зарплата', 'Возраст']].astype('int')"
   ]
  },
  {
   "cell_type": "code",
   "execution_count": 13,
   "metadata": {},
   "outputs": [
    {
     "data": {
      "text/plain": [
       "153"
      ]
     },
     "execution_count": 13,
     "metadata": {},
     "output_type": "execute_result"
    }
   ],
   "source": [
    "data.duplicated().sum()"
   ]
  },
  {
   "cell_type": "code",
   "execution_count": 14,
   "metadata": {},
   "outputs": [
    {
     "data": {
      "text/plain": [
       "0"
      ]
     },
     "execution_count": 14,
     "metadata": {},
     "output_type": "execute_result"
    }
   ],
   "source": [
    "# удаляем дубликаты\n",
    "data.drop_duplicates(inplace=True)\n",
    "\n",
    "# проверяем дубликаты снова\n",
    "data.duplicated().sum()"
   ]
  },
  {
   "cell_type": "code",
   "execution_count": 15,
   "metadata": {},
   "outputs": [
    {
     "data": {
      "image/png": "[encoded data removed]",
      "text/plain": [
       "<Figure size 576x360 with 2 Axes>"
      ]
     },
     "metadata": {
      "needs_background": "light"
     },
     "output_type": "display_data"
    }
   ],
   "source": [
    "# проверим на мультиколинеарность\n",
    "plt.rcParams['figure.figsize'] = (8.0, 5.0)\n",
    "sns.heatmap(data.corr(), linecolor='purple', linewidths=2, annot=True)\n",
    "plt.show()"
   ]
  },
  {
   "cell_type": "markdown",
   "metadata": {},
   "source": [
    "**Вывод по разделу загрузки и изучения данных:**\n",
    "\n",
    "- не пропусков, данные  заполнены корректно;\n",
    "- типы данных корректны, исправлять нет необходимости;\n",
    "- аномальных значений, выбросов не было найдено;\n",
    "- выявлены дубликаты;\n",
    "- выявленные дубликаты удалены;\n",
    "- заменили тип данных в столбцах \"Возраст\" и \"Зарплата\" на целочисленный;\n",
    "- выявлена высокая корреляция между зарплатой и возрастом (коэффициент корреляции 0.65);\n"
   ]
  },
  {
   "cell_type": "markdown",
   "metadata": {},
   "source": [
    "## Умножение матриц"
   ]
  },
  {
   "cell_type": "markdown",
   "metadata": {},
   "source": [
    "В этом задании вы можете записывать формулы в *Jupyter Notebook.*\n",
    "\n",
    "Чтобы записать формулу внутри текста, окружите её символами доллара \\\\$; если снаружи —  двойными символами \\\\$\\\\$. Эти формулы записываются на языке вёрстки *LaTeX.* \n",
    "\n",
    "Для примера мы записали формулы линейной регрессии. Можете их скопировать и отредактировать, чтобы решить задачу.\n",
    "\n",
    "Работать в *LaTeX* необязательно."
   ]
  },
  {
   "cell_type": "markdown",
   "metadata": {},
   "source": [
    "Обозначения:\n",
    "\n",
    "- $X$ — матрица признаков (нулевой столбец состоит из единиц)\n",
    "\n",
    "- $y$ — вектор целевого признака\n",
    "\n",
    "- $P$ — матрица, на которую умножаются признаки\n",
    "\n",
    "- $w$ — вектор весов линейной регрессии (нулевой элемент равен сдвигу)"
   ]
  },
  {
   "cell_type": "markdown",
   "metadata": {},
   "source": [
    "Предсказания:\n",
    "\n",
    "$$\n",
    "a = Xw\n",
    "$$\n",
    "\n",
    "Задача обучения:\n",
    "\n",
    "$$\n",
    "w = \\arg\\min_w MSE(Xw, y)\n",
    "$$\n",
    "\n",
    "Формула обучения:\n",
    "\n",
    "$$\n",
    "w = (X^T X)^{-1} X^T y\n",
    "$$"
   ]
  },
  {
   "cell_type": "markdown",
   "metadata": {},
   "source": [
    "**Вопрос:** Признаки умножают на обратимую матрицу. Изменится ли качество линейной регрессии?"
   ]
  },
  {
   "cell_type": "markdown",
   "metadata": {},
   "source": [
    "**Ответ:** При умножении признаков на обратимую матрицу качество линейной регрессии не изменится. \n",
    "\n",
    "**Обоснование:** Если признаки умножаются на обратимую матрицу $P$, то качество линейной регрессии не должно измениться. Это связано с тем, что умножение признаков на обратимую матрицу не меняет линейные зависимости между признаками и целевым признаком.\n",
    "\n",
    "Покажем это математически. Пусть $X$ — исходная матрица признаков, $X'$ — матрица признаков после умножения на обратимую матрицу $P$. Тогда формула обучения для линейной регрессии примет вид:\n",
    "<br>\n",
    "$$\n",
    "w' = ((X'P)^TX'P)^{-1}(X'P)^Ty\n",
    "$$ \n",
    "<br>\n",
    "Раскроем выражение:\n",
    "<br>\n",
    "$$\n",
    "w' = (P^TX'^TX'P)^{-1}P^TX'^Ty\n",
    "$$  \n",
    "<br>\n",
    "Обратимость матрицы $P$ позволяет сократить выражение:\n",
    "<br>\n",
    "$$\n",
    "w' = (X'^TX')^{-1}X'^Ty   \n",
    "$$\n",
    "<br>\n",
    "Используя $X' = XP$, получаем:\n",
    "<br><br>\n",
    "$$\n",
    "w' = ((XP)^TXP)^{-1}(XP)^Ty\n",
    "$$\n",
    "<br>\n",
    "Раскроем скобки:\n",
    "<br>\n",
    "$$\n",
    "w' = (P^TX^TXP)^{-1}P^TX^Ty\n",
    "$$\n",
    "<br>\n",
    "Используя свойство $(AB)^T = B^T A^T$, получаем:\n",
    "<br>\n",
    "$$\n",
    "w' = (P^T(X^TX)P)^{-1}P^TX^Ty\n",
    "$$\n",
    "<br>\n",
    "Так как матрица $(X^TX)$ является симметричной и положительно определенной, а умножение на обратимую матрицу не меняет симметричности и положительной определенности, то матрица $(P^T (X^T X) P)$ также будет симметричной и положительно определенной. \n",
    "<br>\n",
    "<br>\n",
    "Следовательно, она имеет обратную матрицу:\n",
    "<br>\n",
    "<br>\n",
    "$$\n",
    "w' = P^{-1}(X^TX)^{-1}(P^T)^{-1}P^TX^Ty   \n",
    "$$\n",
    "<br>\n",
    "Используя свойство $AA^{-1} = I$, где $I$ — единичная матрица, получаем:\n",
    "<br>\n",
    "$$\n",
    "w' = P^{-1}(X^TX)^{-1}X^Ty   \n",
    "$$\n",
    "<br>\n",
    "Таким образом, вектор весов $w'$ после умножения признаков на обратимую матрицу $P$ будет равен $w' = P^{-1} w$. Это означает, что предсказания $a'$ для новых признаков $X'$ можно получить, умножив исходные предсказания $a$ на обратную матрицу $P$"
   ]
  },
  {
   "cell_type": "markdown",
   "metadata": {},
   "source": [
    "## Алгоритм преобразования"
   ]
  },
  {
   "cell_type": "markdown",
   "metadata": {},
   "source": [
    "**Алгоритм**\n",
    "\n",
    "\n",
    "Алгоритм преобразования данных для решения задачи с умножением признаков на обратимую матрицу $P$ может быть следующим:\n",
    "\n",
    "Вычислить матрицу признаков $X$ и вектор целевого признака $y$.\n",
    "\n",
    "Сгенерировать обратимую матрицу $P$.\n",
    "\n",
    "Умножить матрицу признаков $X$ на матрицу $P$:\n",
    "\n",
    "$X' = XP$.\n",
    "\n",
    "Обучить модель линейной регрессии на преобразованных признаках $X'$ и векторе целевого признака $y$.\n",
    "\n",
    "Получить вектор весов $w'$ после обучения модели.\n",
    "\n",
    "Для получения предсказаний на новых данных с преобразованными признаками $X'$ умножить исходные предсказания $a$ на обратную матрицу $P$:\n",
    "\n",
    "$a' = aP^{-1}$."
   ]
  },
  {
   "cell_type": "markdown",
   "metadata": {},
   "source": [
    "**Обоснование**\n",
    "\n",
    "Качество линейной регрессии не поменяется при умножении признаков на обратимую матрицу $P$ из-за линейности модели. Предсказания модели линейной регрессии определяются весами $w$ и признаками $X$ следующим образом: $a = Xw$.\n",
    "\n",
    "После преобразования признаков $X$ в $X'$ (умножение на $P$) получаем новые предсказания $a' = X'w'$. Заменим $X'$ на $XP$:\n",
    "\n",
    "$a' = XPw'$.\n",
    "\n",
    "Заметим, что $Pw'$ — новый вектор весов, полученный после обучения модели на преобразованных признаках $X'$. Тогда предсказания $a'$ можно переписать следующим образом:\n",
    "\n",
    "$a' = XPw' = X(w'P) = Xw = a$.\n",
    "\n",
    "Таким образом, предсказания на преобразованных данных $a'$ будут равны предсказаниям на исходных данных $a$. Это означает, что качество линейной регрессии не изменится при умножении признаков на обратимую матрицу $P$."
   ]
  },
  {
   "cell_type": "markdown",
   "metadata": {},
   "source": [
    "Это значит, что если мы произведём умножение признаков тренировочной и тестовой выборок на одну и ту же обратимую матрицу, то результатом предсказания будет произведение нашей изменённой таблицы с признаками на вектор, который был получен из той же таблицы с изменёнными данными увеличенную на ту же величину, что и признаки тренировочных данных. Проверим работу данного алгоритма в следующей главе."
   ]
  },
  {
   "cell_type": "markdown",
   "metadata": {},
   "source": [
    "## Проверка алгоритма"
   ]
  },
  {
   "cell_type": "markdown",
   "metadata": {},
   "source": [
    "Для проверки алгоримта нам понадобится подготовить:\n",
    "- целевой признак;\n",
    "- исходные обучающие признаки;\n",
    "- обучающие признаки после умножения;\n",
    "- матрицу для умножения.\n",
    "\n",
    "Далее обучим линейную регрессию на исходных данных. После умножим признаки на рандомную матрицу и проведем обучение линейной регрессии на новых данных."
   ]
  },
  {
   "cell_type": "code",
   "execution_count": 16,
   "metadata": {},
   "outputs": [],
   "source": [
    "# выделим признаки и целевой признак\n",
    "features = data.drop('Страховые выплаты',axis=1)\n",
    "target = data['Страховые выплаты']"
   ]
  },
  {
   "cell_type": "code",
   "execution_count": 17,
   "metadata": {},
   "outputs": [],
   "source": [
    "# cоздадим обучающие и тестовые выборки \n",
    "features_train, features_test, target_train, target_test = train_test_split(\n",
    "    features, target, test_size=0.25, random_state=1234)"
   ]
  },
  {
   "cell_type": "code",
   "execution_count": 18,
   "metadata": {},
   "outputs": [
    {
     "name": "stdout",
     "output_type": "stream",
     "text": [
      "Метрика R2 для признаков в исходном состоянии: 0.4214584788072574\n"
     ]
    }
   ],
   "source": [
    "# модель линейной регрессии с исходными признаками без преобразования\n",
    "model = LinearRegression()\n",
    "model.fit(features_train, target_train)\n",
    "r2 = r2_score(target_test, model.predict(features_test))\n",
    "print(f'Метрика R2 для признаков в исходном состоянии: {r2}')"
   ]
  },
  {
   "cell_type": "code",
   "execution_count": 19,
   "metadata": {},
   "outputs": [
    {
     "name": "stdout",
     "output_type": "stream",
     "text": [
      "Метрика R2 с отмасштабированными признаками без преобразования: 0.4214584788072575\n"
     ]
    }
   ],
   "source": [
    "# модель с отмасштабированными признаками без преобразования\n",
    "regressor = LinearRegression()\n",
    "scaller = StandardScaler()\n",
    "pipeline = Pipeline([(\"standard_scaller\", scaller),(\"linear_regression\", regressor)])\n",
    "pipeline.fit(features_train, target_train)\n",
    "r2_scaled = r2_score(target_test, pipeline.predict(features_test))\n",
    "print(f'Метрика R2 с отмасштабированными признаками без преобразования: {r2_scaled}')"
   ]
  },
  {
   "cell_type": "code",
   "execution_count": 20,
   "metadata": {},
   "outputs": [
    {
     "data": {
      "text/plain": [
       "array([[-0.06   ,  0.06   , -0.01   ,  0.12   ],\n",
       "       [-0.3625 ,  0.1125 ,  0.29375,  0.1    ],\n",
       "       [ 0.1525 ,  0.0975 , -0.07875, -0.18   ],\n",
       "       [ 0.23   , -0.23   , -0.045  ,  0.04   ]])"
      ]
     },
     "execution_count": 20,
     "metadata": {},
     "output_type": "execute_result"
    }
   ],
   "source": [
    "# исследуем качество модели с преобразованием, создадим рандомную матрицу\n",
    "n = features.shape[1]\n",
    "matrix = np.random.randint(1,10, (n,n))\n",
    "# защищенные признаки \n",
    "matrix_features = features\n",
    "matrix_features = matrix_features @ matrix\n",
    "np.linalg.inv(matrix)"
   ]
  },
  {
   "cell_type": "code",
   "execution_count": 21,
   "metadata": {},
   "outputs": [
    {
     "data": {
      "text/html": [
       "<div>\n",
       "<style scoped>\n",
       "    .dataframe tbody tr th:only-of-type {\n",
       "        vertical-align: middle;\n",
       "    }\n",
       "\n",
       "    .dataframe tbody tr th {\n",
       "        vertical-align: top;\n",
       "    }\n",
       "\n",
       "    .dataframe thead th {\n",
       "        text-align: right;\n",
       "    }\n",
       "</style>\n",
       "<table border=\"1\" class=\"dataframe\">\n",
       "  <thead>\n",
       "    <tr style=\"text-align: right;\">\n",
       "      <th></th>\n",
       "      <th>Пол</th>\n",
       "      <th>Возраст</th>\n",
       "      <th>Зарплата</th>\n",
       "      <th>Члены семьи</th>\n",
       "    </tr>\n",
       "  </thead>\n",
       "  <tbody>\n",
       "    <tr>\n",
       "      <th>0</th>\n",
       "      <td>1</td>\n",
       "      <td>41</td>\n",
       "      <td>49600</td>\n",
       "      <td>1</td>\n",
       "    </tr>\n",
       "    <tr>\n",
       "      <th>1</th>\n",
       "      <td>0</td>\n",
       "      <td>46</td>\n",
       "      <td>38000</td>\n",
       "      <td>1</td>\n",
       "    </tr>\n",
       "    <tr>\n",
       "      <th>2</th>\n",
       "      <td>0</td>\n",
       "      <td>29</td>\n",
       "      <td>21000</td>\n",
       "      <td>0</td>\n",
       "    </tr>\n",
       "    <tr>\n",
       "      <th>3</th>\n",
       "      <td>0</td>\n",
       "      <td>21</td>\n",
       "      <td>41700</td>\n",
       "      <td>2</td>\n",
       "    </tr>\n",
       "    <tr>\n",
       "      <th>4</th>\n",
       "      <td>1</td>\n",
       "      <td>28</td>\n",
       "      <td>26100</td>\n",
       "      <td>0</td>\n",
       "    </tr>\n",
       "  </tbody>\n",
       "</table>\n",
       "</div>"
      ],
      "text/plain": [
       "   Пол  Возраст  Зарплата  Члены семьи\n",
       "0    1       41     49600            1\n",
       "1    0       46     38000            1\n",
       "2    0       29     21000            0\n",
       "3    0       21     41700            2\n",
       "4    1       28     26100            0"
      ]
     },
     "metadata": {},
     "output_type": "display_data"
    },
    {
     "data": {
      "text/html": [
       "<div>\n",
       "<style scoped>\n",
       "    .dataframe tbody tr th:only-of-type {\n",
       "        vertical-align: middle;\n",
       "    }\n",
       "\n",
       "    .dataframe tbody tr th {\n",
       "        vertical-align: top;\n",
       "    }\n",
       "\n",
       "    .dataframe thead th {\n",
       "        text-align: right;\n",
       "    }\n",
       "</style>\n",
       "<table border=\"1\" class=\"dataframe\">\n",
       "  <thead>\n",
       "    <tr style=\"text-align: right;\">\n",
       "      <th></th>\n",
       "      <th>0</th>\n",
       "      <th>1</th>\n",
       "      <th>2</th>\n",
       "      <th>3</th>\n",
       "    </tr>\n",
       "  </thead>\n",
       "  <tbody>\n",
       "    <tr>\n",
       "      <th>0</th>\n",
       "      <td>99501</td>\n",
       "      <td>297686</td>\n",
       "      <td>297854</td>\n",
       "      <td>297650</td>\n",
       "    </tr>\n",
       "    <tr>\n",
       "      <th>1</th>\n",
       "      <td>76330</td>\n",
       "      <td>228093</td>\n",
       "      <td>228277</td>\n",
       "      <td>228049</td>\n",
       "    </tr>\n",
       "    <tr>\n",
       "      <th>2</th>\n",
       "      <td>42203</td>\n",
       "      <td>126058</td>\n",
       "      <td>126174</td>\n",
       "      <td>126029</td>\n",
       "    </tr>\n",
       "    <tr>\n",
       "      <th>3</th>\n",
       "      <td>83563</td>\n",
       "      <td>250244</td>\n",
       "      <td>250328</td>\n",
       "      <td>250227</td>\n",
       "    </tr>\n",
       "    <tr>\n",
       "      <th>4</th>\n",
       "      <td>52402</td>\n",
       "      <td>156659</td>\n",
       "      <td>156775</td>\n",
       "      <td>156634</td>\n",
       "    </tr>\n",
       "  </tbody>\n",
       "</table>\n",
       "</div>"
      ],
      "text/plain": [
       "       0       1       2       3\n",
       "0  99501  297686  297854  297650\n",
       "1  76330  228093  228277  228049\n",
       "2  42203  126058  126174  126029\n",
       "3  83563  250244  250328  250227\n",
       "4  52402  156659  156775  156634"
      ]
     },
     "metadata": {},
     "output_type": "display_data"
    },
    {
     "data": {
      "text/plain": [
       "array([[6, 3, 7, 6],\n",
       "       [7, 2, 6, 1],\n",
       "       [2, 6, 6, 6],\n",
       "       [8, 1, 1, 3]])"
      ]
     },
     "execution_count": 21,
     "metadata": {},
     "output_type": "execute_result"
    }
   ],
   "source": [
    "display(features.head())\n",
    "display(matrix_features.head())\n",
    "matrix"
   ]
  },
  {
   "cell_type": "code",
   "execution_count": 22,
   "metadata": {},
   "outputs": [],
   "source": [
    "# разобьем данные на тестовую и тренировочную выборки, проверим качество\n",
    "features_train, features_test, target_train, target_test = train_test_split(\n",
    "    matrix_features, target, test_size=0.25, random_state=1234)"
   ]
  },
  {
   "cell_type": "code",
   "execution_count": 23,
   "metadata": {},
   "outputs": [
    {
     "name": "stdout",
     "output_type": "stream",
     "text": [
      "R2 = 0.42145847880723075\n"
     ]
    }
   ],
   "source": [
    "# модель с исходными признаками без преобразования\n",
    "model = LinearRegression()\n",
    "model.fit(features_train, target_train)\n",
    "r2_data = r2_score(target_test, model.predict(features_test))\n",
    "print(\"R2 =\", r2_data)"
   ]
  },
  {
   "cell_type": "code",
   "execution_count": 24,
   "metadata": {},
   "outputs": [
    {
     "name": "stdout",
     "output_type": "stream",
     "text": [
      "R2 = 0.4214584788072727\n"
     ]
    }
   ],
   "source": [
    "# модель с отмасштабированными признаками без преобразования\n",
    "regressor = LinearRegression()\n",
    "scaller = StandardScaler()\n",
    "pipeline = Pipeline([(\"standard_scaller\", scaller),(\"linear_regression\", regressor)])\n",
    "pipeline.fit(features_train, target_train)\n",
    "r2_data_scaled = r2_score(target_test, pipeline.predict(features_test))\n",
    "print(\"R2 =\", r2_data_scaled)"
   ]
  },
  {
   "cell_type": "code",
   "execution_count": 25,
   "metadata": {},
   "outputs": [
    {
     "data": {
      "text/html": [
       "<div>\n",
       "<style scoped>\n",
       "    .dataframe tbody tr th:only-of-type {\n",
       "        vertical-align: middle;\n",
       "    }\n",
       "\n",
       "    .dataframe tbody tr th {\n",
       "        vertical-align: top;\n",
       "    }\n",
       "\n",
       "    .dataframe thead th {\n",
       "        text-align: right;\n",
       "    }\n",
       "</style>\n",
       "<table border=\"1\" class=\"dataframe\">\n",
       "  <thead>\n",
       "    <tr style=\"text-align: right;\">\n",
       "      <th></th>\n",
       "      <th>r2</th>\n",
       "    </tr>\n",
       "  </thead>\n",
       "  <tbody>\n",
       "    <tr>\n",
       "      <th>Качество исходных данных</th>\n",
       "      <td>0.421458</td>\n",
       "    </tr>\n",
       "    <tr>\n",
       "      <th>Качество исходных данных c смасштабированных</th>\n",
       "      <td>0.421458</td>\n",
       "    </tr>\n",
       "    <tr>\n",
       "      <th>Качество на преобразованных признаках</th>\n",
       "      <td>0.421458</td>\n",
       "    </tr>\n",
       "    <tr>\n",
       "      <th>Качество на преобразованных признаках с масштабом</th>\n",
       "      <td>0.421458</td>\n",
       "    </tr>\n",
       "  </tbody>\n",
       "</table>\n",
       "</div>"
      ],
      "text/plain": [
       "                                                         r2\n",
       "Качество исходных данных                           0.421458\n",
       "Качество исходных данных c смасштабированных       0.421458\n",
       "Качество на преобразованных признаках              0.421458\n",
       "Качество на преобразованных признаках с масштабом  0.421458"
      ]
     },
     "execution_count": 25,
     "metadata": {},
     "output_type": "execute_result"
    }
   ],
   "source": [
    "# соберем все результаты наглядно рядом\n",
    "result = pd.DataFrame(data= [r2,\n",
    "                      r2_scaled,\n",
    "                      r2_data,\n",
    "                      r2_data_scaled], \n",
    "                      columns=['r2'], \n",
    "                      index=['Качество исходных данных',\n",
    "                            'Качество исходных данных c смасштабированных',\n",
    "                            'Качество на преобразованных признаках',\n",
    "                            'Качество на преобразованных признаках с масштабом',])\n",
    "result"
   ]
  },
  {
   "cell_type": "markdown",
   "metadata": {},
   "source": [
    "**Вывод по проверке алгоритма:**\n",
    "Качество линейной регресии не изменилось от использования исxодной матрицы и её же, умноженной на обратимую. Использовали метрику R2."
   ]
  },
  {
   "cell_type": "markdown",
   "metadata": {},
   "source": [
    "**Вывод**\n",
    "\n",
    "1) Загрузили и проанализировали данные (корректировки и больших изменений не затребовалась)\n",
    "\n",
    "2) Разработали алгоритм преобразования данных. Алгоритм обоснвоан и проверен.\n",
    "\n",
    "3) Качество линейной регресии не изменилось от использования исxодной матрицы и исходной матрицы, умноженной на обратимую."
   ]
  }
 ],
 "metadata": {
  "ExecuteTimeLog": [
   {
    "duration": 1499,
    "start_time": "2023-06-30T21:25:25.220Z"
   },
   {
    "duration": 118,
    "start_time": "2023-06-30T21:27:02.996Z"
   },
   {
    "duration": 106,
    "start_time": "2023-06-30T21:27:25.015Z"
   },
   {
    "duration": 11,
    "start_time": "2023-06-30T21:27:32.683Z"
   },
   {
    "duration": 27,
    "start_time": "2023-06-30T21:29:27.281Z"
   },
   {
    "duration": 5,
    "start_time": "2023-06-30T21:31:23.435Z"
   },
   {
    "duration": 7,
    "start_time": "2023-06-30T21:32:21.216Z"
   },
   {
    "duration": 397,
    "start_time": "2023-06-30T21:33:17.153Z"
   },
   {
    "duration": 365,
    "start_time": "2023-06-30T21:33:26.429Z"
   },
   {
    "duration": 319,
    "start_time": "2023-06-30T21:33:35.310Z"
   },
   {
    "duration": 336,
    "start_time": "2023-06-30T21:33:41.691Z"
   },
   {
    "duration": 421,
    "start_time": "2023-06-30T21:33:47.793Z"
   },
   {
    "duration": 365,
    "start_time": "2023-06-30T21:33:54.534Z"
   },
   {
    "duration": 319,
    "start_time": "2023-06-30T21:33:58.112Z"
   },
   {
    "duration": 385,
    "start_time": "2023-06-30T21:34:14.005Z"
   },
   {
    "duration": 359,
    "start_time": "2023-06-30T21:34:24.076Z"
   },
   {
    "duration": 328,
    "start_time": "2023-06-30T21:34:29.514Z"
   },
   {
    "duration": 316,
    "start_time": "2023-06-30T21:34:49.102Z"
   },
   {
    "duration": 411,
    "start_time": "2023-07-01T10:28:12.221Z"
   },
   {
    "duration": 6,
    "start_time": "2023-07-01T10:42:34.360Z"
   },
   {
    "duration": 5,
    "start_time": "2023-07-01T10:42:38.856Z"
   },
   {
    "duration": 140,
    "start_time": "2023-07-01T12:33:56.634Z"
   },
   {
    "duration": 194,
    "start_time": "2023-07-01T12:34:55.780Z"
   },
   {
    "duration": 3,
    "start_time": "2023-07-01T12:35:05.347Z"
   },
   {
    "duration": 34,
    "start_time": "2023-07-01T12:35:05.351Z"
   },
   {
    "duration": 11,
    "start_time": "2023-07-01T12:35:05.387Z"
   },
   {
    "duration": 30,
    "start_time": "2023-07-01T12:35:05.400Z"
   },
   {
    "duration": 5,
    "start_time": "2023-07-01T12:35:05.432Z"
   },
   {
    "duration": 22,
    "start_time": "2023-07-01T12:35:05.438Z"
   },
   {
    "duration": 13,
    "start_time": "2023-07-01T12:35:05.462Z"
   },
   {
    "duration": 349,
    "start_time": "2023-07-01T12:35:05.477Z"
   },
   {
    "duration": 184,
    "start_time": "2023-07-01T12:35:05.828Z"
   },
   {
    "duration": 162,
    "start_time": "2023-07-01T12:36:02.712Z"
   },
   {
    "duration": 183,
    "start_time": "2023-07-01T12:37:00.551Z"
   },
   {
    "duration": 120,
    "start_time": "2023-07-01T12:39:33.857Z"
   },
   {
    "duration": 151,
    "start_time": "2023-07-01T12:41:08.454Z"
   },
   {
    "duration": 156,
    "start_time": "2023-07-01T12:54:21.049Z"
   },
   {
    "duration": 161,
    "start_time": "2023-07-01T12:54:57.743Z"
   },
   {
    "duration": 3,
    "start_time": "2023-07-01T12:55:02.713Z"
   },
   {
    "duration": 30,
    "start_time": "2023-07-01T12:55:02.719Z"
   },
   {
    "duration": 11,
    "start_time": "2023-07-01T12:55:02.750Z"
   },
   {
    "duration": 43,
    "start_time": "2023-07-01T12:55:02.763Z"
   },
   {
    "duration": 4,
    "start_time": "2023-07-01T12:55:02.808Z"
   },
   {
    "duration": 13,
    "start_time": "2023-07-01T12:55:02.814Z"
   },
   {
    "duration": 11,
    "start_time": "2023-07-01T12:55:02.828Z"
   },
   {
    "duration": 378,
    "start_time": "2023-07-01T12:55:02.840Z"
   },
   {
    "duration": 154,
    "start_time": "2023-07-01T12:55:03.220Z"
   },
   {
    "duration": 173,
    "start_time": "2023-07-01T12:56:17.952Z"
   },
   {
    "duration": 155,
    "start_time": "2023-07-01T12:56:50.224Z"
   },
   {
    "duration": 205,
    "start_time": "2023-07-01T12:57:33.872Z"
   },
   {
    "duration": 177,
    "start_time": "2023-07-01T12:58:11.092Z"
   },
   {
    "duration": 154,
    "start_time": "2023-07-01T12:59:20.449Z"
   },
   {
    "duration": 210,
    "start_time": "2023-07-01T13:00:10.059Z"
   },
   {
    "duration": 1303,
    "start_time": "2023-07-01T13:00:19.594Z"
   },
   {
    "duration": 29,
    "start_time": "2023-07-01T13:00:20.899Z"
   },
   {
    "duration": 11,
    "start_time": "2023-07-01T13:00:20.930Z"
   },
   {
    "duration": 25,
    "start_time": "2023-07-01T13:00:20.942Z"
   },
   {
    "duration": 5,
    "start_time": "2023-07-01T13:00:20.969Z"
   },
   {
    "duration": 8,
    "start_time": "2023-07-01T13:00:20.975Z"
   },
   {
    "duration": 9,
    "start_time": "2023-07-01T13:00:20.984Z"
   },
   {
    "duration": 337,
    "start_time": "2023-07-01T13:00:20.994Z"
   },
   {
    "duration": 275,
    "start_time": "2023-07-01T13:00:21.333Z"
   },
   {
    "duration": 165,
    "start_time": "2023-07-01T13:01:41.408Z"
   },
   {
    "duration": 505,
    "start_time": "2023-07-01T13:03:43.599Z"
   },
   {
    "duration": 136,
    "start_time": "2023-07-01T13:05:07.337Z"
   },
   {
    "duration": 92,
    "start_time": "2023-07-01T20:47:28.885Z"
   },
   {
    "duration": 4,
    "start_time": "2023-07-01T21:26:21.282Z"
   },
   {
    "duration": 6,
    "start_time": "2023-07-01T21:27:13.100Z"
   },
   {
    "duration": 10,
    "start_time": "2023-07-01T21:30:10.995Z"
   },
   {
    "duration": 10,
    "start_time": "2023-07-01T21:39:57.908Z"
   },
   {
    "duration": 3,
    "start_time": "2023-07-01T21:40:52.111Z"
   },
   {
    "duration": 10,
    "start_time": "2023-07-01T21:40:56.192Z"
   },
   {
    "duration": 4,
    "start_time": "2023-07-01T21:41:16.102Z"
   },
   {
    "duration": 11,
    "start_time": "2023-07-01T21:41:20.932Z"
   },
   {
    "duration": 60,
    "start_time": "2023-07-01T21:41:54.500Z"
   },
   {
    "duration": 68,
    "start_time": "2023-07-01T21:42:10.030Z"
   },
   {
    "duration": 10,
    "start_time": "2023-07-01T21:42:14.216Z"
   },
   {
    "duration": 3,
    "start_time": "2023-07-01T21:42:22.391Z"
   },
   {
    "duration": 38,
    "start_time": "2023-07-01T21:42:22.396Z"
   },
   {
    "duration": 10,
    "start_time": "2023-07-01T21:42:22.435Z"
   },
   {
    "duration": 20,
    "start_time": "2023-07-01T21:42:22.446Z"
   },
   {
    "duration": 13,
    "start_time": "2023-07-01T21:42:22.468Z"
   },
   {
    "duration": 25,
    "start_time": "2023-07-01T21:42:22.482Z"
   },
   {
    "duration": 19,
    "start_time": "2023-07-01T21:42:22.509Z"
   },
   {
    "duration": 383,
    "start_time": "2023-07-01T21:42:22.530Z"
   },
   {
    "duration": 5,
    "start_time": "2023-07-01T21:42:22.915Z"
   },
   {
    "duration": 26,
    "start_time": "2023-07-01T21:42:22.921Z"
   },
   {
    "duration": 14,
    "start_time": "2023-07-01T21:42:22.948Z"
   },
   {
    "duration": 76,
    "start_time": "2023-07-01T21:42:22.964Z"
   },
   {
    "duration": 12,
    "start_time": "2023-07-01T21:42:51.982Z"
   },
   {
    "duration": 12,
    "start_time": "2023-07-01T21:43:43.380Z"
   },
   {
    "duration": 12,
    "start_time": "2023-07-01T21:44:02.405Z"
   },
   {
    "duration": 10,
    "start_time": "2023-07-01T21:46:13.191Z"
   },
   {
    "duration": 10,
    "start_time": "2023-07-01T21:46:16.180Z"
   },
   {
    "duration": 10,
    "start_time": "2023-07-01T21:46:23.095Z"
   },
   {
    "duration": 6,
    "start_time": "2023-07-01T21:46:28.980Z"
   },
   {
    "duration": 13,
    "start_time": "2023-07-01T21:47:22.380Z"
   },
   {
    "duration": 6,
    "start_time": "2023-07-01T21:49:16.792Z"
   },
   {
    "duration": 8,
    "start_time": "2023-07-01T21:50:52.118Z"
   },
   {
    "duration": 11,
    "start_time": "2023-07-01T21:52:29.537Z"
   },
   {
    "duration": 11,
    "start_time": "2023-07-01T21:55:47.006Z"
   },
   {
    "duration": 10,
    "start_time": "2023-07-01T21:55:48.476Z"
   },
   {
    "duration": 23,
    "start_time": "2023-07-01T21:56:14.547Z"
   },
   {
    "duration": 9,
    "start_time": "2023-07-01T21:56:44.594Z"
   },
   {
    "duration": 1644,
    "start_time": "2023-07-02T16:57:11.579Z"
   },
   {
    "duration": 32,
    "start_time": "2023-07-02T16:57:13.228Z"
   },
   {
    "duration": 12,
    "start_time": "2023-07-02T16:57:13.262Z"
   },
   {
    "duration": 29,
    "start_time": "2023-07-02T16:57:13.276Z"
   },
   {
    "duration": 7,
    "start_time": "2023-07-02T16:57:13.307Z"
   },
   {
    "duration": 8,
    "start_time": "2023-07-02T16:57:13.316Z"
   },
   {
    "duration": 14,
    "start_time": "2023-07-02T16:57:13.325Z"
   },
   {
    "duration": 481,
    "start_time": "2023-07-02T16:57:13.341Z"
   },
   {
    "duration": 4,
    "start_time": "2023-07-02T16:57:13.824Z"
   },
   {
    "duration": 7,
    "start_time": "2023-07-02T16:57:13.830Z"
   },
   {
    "duration": 10,
    "start_time": "2023-07-02T16:57:13.839Z"
   },
   {
    "duration": 13,
    "start_time": "2023-07-02T16:57:13.851Z"
   },
   {
    "duration": 9,
    "start_time": "2023-07-02T16:57:13.866Z"
   },
   {
    "duration": 101,
    "start_time": "2023-07-02T16:57:13.901Z"
   },
   {
    "duration": 5,
    "start_time": "2023-07-02T16:57:14.004Z"
   },
   {
    "duration": 9,
    "start_time": "2023-07-02T16:57:14.011Z"
   },
   {
    "duration": 11,
    "start_time": "2023-07-02T16:57:14.022Z"
   },
   {
    "duration": 130,
    "start_time": "2023-07-02T16:57:14.035Z"
   },
   {
    "duration": 54,
    "start_time": "2023-07-02T17:38:45.757Z"
   },
   {
    "duration": 1428,
    "start_time": "2023-07-02T17:39:07.614Z"
   },
   {
    "duration": 79,
    "start_time": "2023-07-02T17:39:09.357Z"
   },
   {
    "duration": 184,
    "start_time": "2023-07-02T17:45:33.897Z"
   },
   {
    "duration": 68,
    "start_time": "2023-07-02T17:57:28.797Z"
   },
   {
    "duration": 10,
    "start_time": "2023-07-02T17:57:49.697Z"
   },
   {
    "duration": 3,
    "start_time": "2023-07-02T17:57:59.600Z"
   },
   {
    "duration": 125,
    "start_time": "2023-07-02T17:57:59.605Z"
   },
   {
    "duration": 43,
    "start_time": "2023-07-02T17:57:59.733Z"
   },
   {
    "duration": 14,
    "start_time": "2023-07-02T17:57:59.778Z"
   },
   {
    "duration": 63,
    "start_time": "2023-07-02T17:57:59.795Z"
   },
   {
    "duration": 6,
    "start_time": "2023-07-02T17:57:59.860Z"
   },
   {
    "duration": 36,
    "start_time": "2023-07-02T17:57:59.868Z"
   },
   {
    "duration": 12,
    "start_time": "2023-07-02T17:57:59.906Z"
   },
   {
    "duration": 478,
    "start_time": "2023-07-02T17:57:59.920Z"
   },
   {
    "duration": 4,
    "start_time": "2023-07-02T17:58:00.400Z"
   },
   {
    "duration": 30,
    "start_time": "2023-07-02T17:58:00.407Z"
   },
   {
    "duration": 21,
    "start_time": "2023-07-02T17:58:00.438Z"
   },
   {
    "duration": 22,
    "start_time": "2023-07-02T17:58:00.461Z"
   },
   {
    "duration": 24,
    "start_time": "2023-07-02T17:58:00.485Z"
   },
   {
    "duration": 76,
    "start_time": "2023-07-02T17:58:00.511Z"
   },
   {
    "duration": 89,
    "start_time": "2023-07-02T17:58:00.589Z"
   },
   {
    "duration": 34,
    "start_time": "2023-07-02T17:58:00.679Z"
   },
   {
    "duration": 55,
    "start_time": "2023-07-02T17:58:00.715Z"
   },
   {
    "duration": 35,
    "start_time": "2023-07-02T17:58:00.771Z"
   }
  ],
  "kernelspec": {
   "display_name": "Python 3 (ipykernel)",
   "language": "python",
   "name": "python3"
  },
  "language_info": {
   "codemirror_mode": {
    "name": "ipython",
    "version": 3
   },
   "file_extension": ".py",
   "mimetype": "text/x-python",
   "name": "python",
   "nbconvert_exporter": "python",
   "pygments_lexer": "ipython3",
   "version": "3.11.3"
  },
  "toc": {
   "base_numbering": 1,
   "nav_menu": {},
   "number_sections": true,
   "sideBar": false,
   "skip_h1_title": true,
   "title_cell": "Содержание",
   "title_sidebar": "Contents",
   "toc_cell": true,
   "toc_position": {
    "height": "707px",
    "left": "69px",
    "top": "111.125px",
    "width": "165px"
   },
   "toc_section_display": false,
   "toc_window_display": true
  }
 },
 "nbformat": 4,
 "nbformat_minor": 2
}
