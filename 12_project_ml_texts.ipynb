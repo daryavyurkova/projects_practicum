{
 "cells": [
  {
   "cell_type": "markdown",
   "metadata": {},
   "source": [
    "<font color='blue' size=5><b>Комментарий ревьюера</b></font>\n",
    "\n",
    "<font color='blue'>Привет, Дарья! Меня зовут Павел Григорьев, и я буду проверять этот проект.<br>Моя основная цель - не указать на совершённые тобой ошибки, а поделиться своим опытом и помочь тебе совершенствоваться как профессионалу.<br>Спасибо за проделанную работу! Предлагаю общаться на «ты».</font>\n",
    "<details>\n",
    "\t<summary><u>Инструкция по организационным моментам (кликабельно)</u></summary>\n",
    "<font color='blue'>Я буду использовать различные цвета, чтобы было удобнее воспринимать мои комментарии:</font>\n",
    "\n",
    "\n",
    "---\n",
    "\n",
    "\n",
    "<font color='blue'>синий текст - просто текст комментария</font>\n",
    "\n",
    "<font color='green'>✔️ и зеленый текст - все отлично</font>\n",
    "\n",
    "<font color='orange'>⚠️ и оранжевый текст - сделано все правильно, однако есть рекомендации, на что стоит обратить внимание</font>\n",
    "\n",
    "<font color='red'>❌ и красный текст - есть недочеты</font>\n",
    "\n",
    "\n",
    "</details>    \n",
    "    </br>\n",
    "<font color='blue'>Пожалуйста, не удаляй мои комментарии в случае возврата работы, так будет проще разобраться, какие были недочеты, а также сразу увидеть исправленное. </font>\n",
    "\n",
    "Ответы на мои комментарии лучше тоже помечать.\n",
    "Например: <font color='purple'><b>Комментарий студента</b></font>\n",
    "\n",
    "<font color='blue'><b>Давай смотреть, что получилось!</b></font>"
   ]
  },
  {
   "cell_type": "markdown",
   "metadata": {},
   "source": [
    "<font color='purple'><b>Комментарий студента: </b></font>\n",
    "<font color='blue'> Павел, привет! Приятно познакомиться! По формату нашего взаимодействия всё понятно, благодарю </font>\n"
   ]
  },
  {
   "cell_type": "markdown",
   "metadata": {},
   "source": [
    "<font color='blue' size=3><b>Комментарий ревьюера 2</b></font>\n",
    "\n",
    "<font color='blue'>Привет еще раз. Спасибо, за исправления. Оформление комментариев по работе сохраняется. Только обозначим, что это вторая итерация.</font> "
   ]
  },
  {
   "cell_type": "markdown",
   "metadata": {
    "toc": true
   },
   "source": [
    "<h1>Содержание<span class=\"tocSkip\"></span></h1>\n",
    "<div class=\"toc\"><ul class=\"toc-item\"><li><span><a href=\"#Подготовка\" data-toc-modified-id=\"Подготовка-1\"><span class=\"toc-item-num\">1&nbsp;&nbsp;</span>Подготовка</a></span></li><li><span><a href=\"#Обучение\" data-toc-modified-id=\"Обучение-2\"><span class=\"toc-item-num\">2&nbsp;&nbsp;</span>Обучение</a></span></li><li><span><a href=\"#Выводы\" data-toc-modified-id=\"Выводы-3\"><span class=\"toc-item-num\">3&nbsp;&nbsp;</span>Выводы</a></span></li><li><span><a href=\"#Чек-лист-проверки\" data-toc-modified-id=\"Чек-лист-проверки-4\"><span class=\"toc-item-num\">4&nbsp;&nbsp;</span>Чек-лист проверки</a></span></li></ul></div>"
   ]
  },
  {
   "cell_type": "markdown",
   "metadata": {},
   "source": [
    "# Проект для «Викишоп»"
   ]
  },
  {
   "cell_type": "markdown",
   "metadata": {},
   "source": [
    "Интернет-магазин «Викишоп» запускает новый сервис. Теперь пользователи могут редактировать и дополнять описания товаров, как в вики-сообществах. То есть клиенты предлагают свои правки и комментируют изменения других. Магазину нужен инструмент, который будет искать токсичные комментарии и отправлять их на модерацию. \n",
    "\n",
    "Обучите модель классифицировать комментарии на позитивные и негативные. В вашем распоряжении набор данных с разметкой о токсичности правок.\n",
    "\n",
    "Постройте модель со значением метрики качества *F1* не меньше 0.75. \n",
    "\n",
    "**Инструкция по выполнению проекта**\n",
    "\n",
    "1. Загрузите и подготовьте данные.\n",
    "2. Обучите разные модели. \n",
    "3. Сделайте выводы.\n",
    "\n",
    "Для выполнения проекта применять *BERT* необязательно, но вы можете попробовать.\n",
    "\n",
    "**Описание данных**\n",
    "\n",
    "Данные находятся в файле `toxic_comments.csv`. Столбец *text* в нём содержит текст комментария, а *toxic* — целевой признак."
   ]
  },
  {
   "cell_type": "markdown",
   "metadata": {},
   "source": [
    "## Подготовка"
   ]
  },
  {
   "cell_type": "code",
   "execution_count": 1,
   "metadata": {},
   "outputs": [
    {
     "name": "stderr",
     "output_type": "stream",
     "text": [
      "[nltk_data] Downloading package averaged_perceptron_tagger to\n",
      "[nltk_data]     /home/jovyan/nltk_data...\n",
      "[nltk_data]   Package averaged_perceptron_tagger is already up-to-\n",
      "[nltk_data]       date!\n"
     ]
    }
   ],
   "source": [
    "import numpy as np\n",
    "import pandas as pd\n",
    "import re\n",
    "\n",
    "import nltk\n",
    "nltk.download('averaged_perceptron_tagger')\n",
    "from nltk import pos_tag\n",
    "from nltk.stem import WordNetLemmatizer\n",
    "from nltk.corpus import stopwords as nltk_stopwords\n",
    "from nltk.corpus import wordnet\n",
    "\n",
    "from sklearn.feature_extraction.text import TfidfVectorizer\n",
    "from sklearn.model_selection import train_test_split, cross_val_score, GridSearchCV, StratifiedKFold\n",
    "from sklearn.linear_model import LogisticRegression, SGDClassifier\n",
    "from sklearn.tree import DecisionTreeClassifier\n",
    "from sklearn.pipeline import Pipeline\n",
    "from sklearn.metrics import f1_score, precision_score, recall_score, accuracy_score, roc_auc_score, roc_curve\n",
    "from sklearn.utils import shuffle\n",
    "from sklearn.naive_bayes import MultinomialNB\n",
    "\n",
    "from catboost import CatBoostClassifier\n",
    "\n",
    "import matplotlib.pyplot as plt\n",
    "import warnings\n",
    "warnings.filterwarnings('ignore')\n"
   ]
  },
  {
   "cell_type": "markdown",
   "metadata": {},
   "source": [
    "<font color='blue'><b>Комментарий ревьюера: </b></font> ✔️\\\n",
    "<font color='green'> Хорошее оформление импортов! \\\n",
    "Импорты собраны в одной ячейке, сгрупированы по функциональности. Можно ещё разделить группы пустой строкой.</font>"
   ]
  },
  {
   "cell_type": "code",
   "execution_count": 2,
   "metadata": {},
   "outputs": [
    {
     "name": "stdout",
     "output_type": "stream",
     "text": [
      "<class 'pandas.core.frame.DataFrame'>\n",
      "RangeIndex: 159292 entries, 0 to 159291\n",
      "Data columns (total 3 columns):\n",
      " #   Column      Non-Null Count   Dtype \n",
      "---  ------      --------------   ----- \n",
      " 0   Unnamed: 0  159292 non-null  int64 \n",
      " 1   text        159292 non-null  object\n",
      " 2   toxic       159292 non-null  int64 \n",
      "dtypes: int64(2), object(1)\n",
      "memory usage: 3.6+ MB\n"
     ]
    }
   ],
   "source": [
    "toxic_comments = pd.read_csv('/datasets/toxic_comments.csv')\n",
    "toxic_comments.info()"
   ]
  },
  {
   "cell_type": "code",
   "execution_count": 3,
   "metadata": {},
   "outputs": [
    {
     "data": {
      "text/html": [
       "<div>\n",
       "<style scoped>\n",
       "    .dataframe tbody tr th:only-of-type {\n",
       "        vertical-align: middle;\n",
       "    }\n",
       "\n",
       "    .dataframe tbody tr th {\n",
       "        vertical-align: top;\n",
       "    }\n",
       "\n",
       "    .dataframe thead th {\n",
       "        text-align: right;\n",
       "    }\n",
       "</style>\n",
       "<table border=\"1\" class=\"dataframe\">\n",
       "  <thead>\n",
       "    <tr style=\"text-align: right;\">\n",
       "      <th></th>\n",
       "      <th>Unnamed: 0</th>\n",
       "      <th>text</th>\n",
       "      <th>toxic</th>\n",
       "    </tr>\n",
       "  </thead>\n",
       "  <tbody>\n",
       "    <tr>\n",
       "      <th>0</th>\n",
       "      <td>0</td>\n",
       "      <td>Explanation\\nWhy the edits made under my usern...</td>\n",
       "      <td>0</td>\n",
       "    </tr>\n",
       "    <tr>\n",
       "      <th>1</th>\n",
       "      <td>1</td>\n",
       "      <td>D'aww! He matches this background colour I'm s...</td>\n",
       "      <td>0</td>\n",
       "    </tr>\n",
       "    <tr>\n",
       "      <th>2</th>\n",
       "      <td>2</td>\n",
       "      <td>Hey man, I'm really not trying to edit war. It...</td>\n",
       "      <td>0</td>\n",
       "    </tr>\n",
       "    <tr>\n",
       "      <th>3</th>\n",
       "      <td>3</td>\n",
       "      <td>\"\\nMore\\nI can't make any real suggestions on ...</td>\n",
       "      <td>0</td>\n",
       "    </tr>\n",
       "    <tr>\n",
       "      <th>4</th>\n",
       "      <td>4</td>\n",
       "      <td>You, sir, are my hero. Any chance you remember...</td>\n",
       "      <td>0</td>\n",
       "    </tr>\n",
       "  </tbody>\n",
       "</table>\n",
       "</div>"
      ],
      "text/plain": [
       "   Unnamed: 0                                               text  toxic\n",
       "0           0  Explanation\\nWhy the edits made under my usern...      0\n",
       "1           1  D'aww! He matches this background colour I'm s...      0\n",
       "2           2  Hey man, I'm really not trying to edit war. It...      0\n",
       "3           3  \"\\nMore\\nI can't make any real suggestions on ...      0\n",
       "4           4  You, sir, are my hero. Any chance you remember...      0"
      ]
     },
     "execution_count": 3,
     "metadata": {},
     "output_type": "execute_result"
    }
   ],
   "source": [
    "toxic_comments.head()"
   ]
  },
  {
   "cell_type": "markdown",
   "metadata": {},
   "source": [
    "<font color='blue'><b>Комментарий ревьюера: </b></font> ✔️\\\n",
    "<font color='green'>Данные загружены корректно, первичный осмотр проведен.</font>"
   ]
  },
  {
   "cell_type": "code",
   "execution_count": 4,
   "metadata": {},
   "outputs": [
    {
     "data": {
      "text/plain": [
       "0    143106\n",
       "1     16186\n",
       "Name: toxic, dtype: int64"
      ]
     },
     "metadata": {},
     "output_type": "display_data"
    },
    {
     "data": {
      "text/plain": [
       "8.841344371679229"
      ]
     },
     "execution_count": 4,
     "metadata": {},
     "output_type": "execute_result"
    }
   ],
   "source": [
    "# проверим сколько токсичных и нектоксичных комментанриев, посчитаем соотношение\n",
    "display(toxic_comments['toxic'].value_counts())\n",
    "class_ratio = toxic_comments['toxic'].value_counts()[0] / toxic_comments['toxic'].value_counts()[1]\n",
    "class_ratio"
   ]
  },
  {
   "cell_type": "markdown",
   "metadata": {},
   "source": [
    "Классы не сбалансированы, поэтому будем применять разные способы балансировки и сравнивать их"
   ]
  },
  {
   "cell_type": "markdown",
   "metadata": {},
   "source": [
    "<font color='blue'><b>Комментарий ревьюера: </b></font> ✔️\\\n",
    "<font color='green'> Мы обнаружили серьёзный дисбаланс при исследовании данных. Как дополнительные материалы, рекомендую статью <a href='https://dyakonov.org/2021/05/27/imbalance/'>Дисбаланс классов</a>, очень классная, как и весь блог Дьяконова. Ещё такой <a href='https://github.com/Dyakonov/ml_hacks/blob/master/book_disbalance_public_v1.ipynb'>ноутбук</a> есть.</font>"
   ]
  },
  {
   "cell_type": "markdown",
   "metadata": {},
   "source": [
    "<font color='purple'><b>Комментарий студента: </b></font>\n",
    "<font color='blue'> Здорово! Спасибо за рекомендацию, буду изучать! </font>"
   ]
  },
  {
   "cell_type": "markdown",
   "metadata": {},
   "source": [
    "<font color='blue'><b>Комментарий ревьюера 2: </b></font> ✔️\\\n",
    "<font color='green'> 👍</font>"
   ]
  },
  {
   "cell_type": "code",
   "execution_count": 5,
   "metadata": {},
   "outputs": [],
   "source": [
    "lemmatizer = WordNetLemmatizer()\n",
    "\n",
    "def get_wordnet_pos(tag):\n",
    "\n",
    "    tag = tag[0].upper()\n",
    "    tag_dict = {\"J\": wordnet.ADJ,\n",
    "                \"N\": wordnet.NOUN,\n",
    "                \"V\": wordnet.VERB,\n",
    "                \"R\": wordnet.ADV}\n",
    "    return tag_dict.get(tag, wordnet.NOUN)  \n",
    "\n",
    "def lemmatize_text(text):\n",
    "    text = text.lower()\n",
    "    words = re.findall(r'\\b\\w+\\b', text)  \n",
    "    lemm_words = [lemmatizer.lemmatize(word, get_wordnet_pos(pos)) for word, pos in pos_tag(words)]\n",
    "    return \" \".join(lemm_words)\n",
    "\n",
    "toxic_comments['lemm_text'] = toxic_comments['text'].apply(lemmatize_text)\n",
    "\n",
    "toxic_comments = toxic_comments.drop(['text'], axis=1)\n"
   ]
  },
  {
   "cell_type": "markdown",
   "metadata": {},
   "source": [
    "<font color='blue'><b>Комментарий ревьюера: </b></font> ✔️\\\n",
    "<font color='green'>Очистка сделана верно! Мы оставили только символы Латинского алфавита и привели к нижнему регистру!</font>"
   ]
  },
  {
   "cell_type": "code",
   "execution_count": 6,
   "metadata": {},
   "outputs": [
    {
     "data": {
      "text/html": [
       "<div>\n",
       "<style scoped>\n",
       "    .dataframe tbody tr th:only-of-type {\n",
       "        vertical-align: middle;\n",
       "    }\n",
       "\n",
       "    .dataframe tbody tr th {\n",
       "        vertical-align: top;\n",
       "    }\n",
       "\n",
       "    .dataframe thead th {\n",
       "        text-align: right;\n",
       "    }\n",
       "</style>\n",
       "<table border=\"1\" class=\"dataframe\">\n",
       "  <thead>\n",
       "    <tr style=\"text-align: right;\">\n",
       "      <th></th>\n",
       "      <th>Unnamed: 0</th>\n",
       "      <th>toxic</th>\n",
       "      <th>lemm_text</th>\n",
       "    </tr>\n",
       "  </thead>\n",
       "  <tbody>\n",
       "    <tr>\n",
       "      <th>0</th>\n",
       "      <td>0</td>\n",
       "      <td>0</td>\n",
       "      <td>explanation why the edits make under my userna...</td>\n",
       "    </tr>\n",
       "    <tr>\n",
       "      <th>1</th>\n",
       "      <td>1</td>\n",
       "      <td>0</td>\n",
       "      <td>d aww he match this background colour i m seem...</td>\n",
       "    </tr>\n",
       "    <tr>\n",
       "      <th>2</th>\n",
       "      <td>2</td>\n",
       "      <td>0</td>\n",
       "      <td>hey man i m really not try to edit war it s ju...</td>\n",
       "    </tr>\n",
       "    <tr>\n",
       "      <th>3</th>\n",
       "      <td>3</td>\n",
       "      <td>0</td>\n",
       "      <td>more i can t make any real suggestion on impro...</td>\n",
       "    </tr>\n",
       "    <tr>\n",
       "      <th>4</th>\n",
       "      <td>4</td>\n",
       "      <td>0</td>\n",
       "      <td>you sir be my hero any chance you remember wha...</td>\n",
       "    </tr>\n",
       "  </tbody>\n",
       "</table>\n",
       "</div>"
      ],
      "text/plain": [
       "   Unnamed: 0  toxic                                          lemm_text\n",
       "0           0      0  explanation why the edits make under my userna...\n",
       "1           1      0  d aww he match this background colour i m seem...\n",
       "2           2      0  hey man i m really not try to edit war it s ju...\n",
       "3           3      0  more i can t make any real suggestion on impro...\n",
       "4           4      0  you sir be my hero any chance you remember wha..."
      ]
     },
     "execution_count": 6,
     "metadata": {},
     "output_type": "execute_result"
    }
   ],
   "source": [
    "toxic_comments.head()"
   ]
  },
  {
   "cell_type": "markdown",
   "metadata": {},
   "source": [
    "<font color='blue'><b>Комментарий ревьюера: </b></font> ❌\\\n",
    "<font color='red'><s>Обрати внимание, не все слова приведены к начальным формам. Чтобы корректно обработались все части речи, для WordNetLemmatizer() нужно использовать POS-теги (Part of Speech, части речи). Примеры работы с WordNetLemmatizer(), а также с другими инструментами для лемматизации, можно найти в [этой статье](https://webdevblog.ru/podhody-lemmatizacii-s-primerami-v-python/)</s></font>"
   ]
  },
  {
   "cell_type": "markdown",
   "metadata": {},
   "source": [
    "<font color='purple'><b>Комментарий студента: </b></font>\n",
    "<font color='blue'> Ага, поняла, исправляю. </font>"
   ]
  },
  {
   "cell_type": "markdown",
   "metadata": {},
   "source": [
    "<font color='blue'><b>Комментарий ревьюера 2: </b></font> ✔️\\\n",
    "<font color='green'> Отлично! Теперь видно, что слова в начальных формах.</font>"
   ]
  },
  {
   "cell_type": "markdown",
   "metadata": {},
   "source": [
    "Разделим выборку в соотношении 50/20/20. Выберем количество кроссвалидаций до 3."
   ]
  },
  {
   "cell_type": "code",
   "execution_count": 7,
   "metadata": {},
   "outputs": [
    {
     "name": "stderr",
     "output_type": "stream",
     "text": [
      "[nltk_data] Downloading package stopwords to /home/jovyan/nltk_data...\n",
      "[nltk_data]   Package stopwords is already up-to-date!\n"
     ]
    },
    {
     "name": "stdout",
     "output_type": "stream",
     "text": [
      "F1-score: 0.7054169202678028\n",
      "(79646, 114926)\n",
      "(39823, 114926)\n",
      "(39823, 114926)\n"
     ]
    }
   ],
   "source": [
    "\n",
    "target = toxic_comments['toxic']\n",
    "features = toxic_comments.drop(['toxic'], axis=1)\n",
    "\n",
    "features_train, features_valid, target_train, target_valid = train_test_split(features, \n",
    "                                                                              target, \n",
    "                                                                              test_size=0.5, \n",
    "                                                                              random_state=1515)\n",
    "features_valid, features_test, target_valid, target_test = train_test_split(features_valid, \n",
    "                                                                            target_valid, \n",
    "                                                                            test_size=0.5,\n",
    "                                                                            random_state=1515)\n",
    "\n",
    "nltk.download('stopwords')\n",
    "stopwords = set(nltk_stopwords.words('english'))\n",
    "\n",
    "count_tf_idf = TfidfVectorizer(stop_words=stopwords)\n",
    "\n",
    "features_train_tfidf = count_tf_idf.fit_transform(features_train['lemm_text'].values)\n",
    "features_valid_tfidf = count_tf_idf.transform(features_valid['lemm_text'].values)\n",
    "features_test_tfidf = count_tf_idf.transform(features_test['lemm_text'].values)\n",
    "\n",
    "classificator = LogisticRegression()\n",
    "\n",
    "# создаем Pipeline, объединяя векторизатор и модель\n",
    "pipeline = Pipeline([\n",
    "    ('model', classificator)  \n",
    "])\n",
    "\n",
    "# обучаем Pipeline на обучающей выборке\n",
    "pipeline.fit(features_train_tfidf, target_train)\n",
    "predictions = pipeline.predict(features_valid_tfidf)\n",
    "\n",
    "f1 = f1_score(target_valid, predictions)\n",
    "print(f\"F1-score: {f1}\")\n",
    "\n",
    "\n",
    "print(features_train_tfidf.shape)\n",
    "print(features_valid_tfidf.shape)\n",
    "print(features_test_tfidf.shape)\n",
    "\n",
    "cv_counts = 2\n"
   ]
  },
  {
   "cell_type": "markdown",
   "metadata": {},
   "source": [
    "<font color='blue'><b>Комментарий ревьюера : </b></font> ✔️\\\n",
    "<font color='green'> Здорово, что у нас есть три выборки!</font>"
   ]
  },
  {
   "cell_type": "markdown",
   "metadata": {},
   "source": [
    "<font color='blue'><b>Комментарий ревьюера: </b></font> ✔️\\\n",
    "<font color='green'> Классно, что векторизатор был обучен только на тренировочной части данных!</font>"
   ]
  },
  {
   "cell_type": "markdown",
   "metadata": {},
   "source": [
    "<font color='blue'><b>Комментарий ревьюера: </b></font> ⚠️\\\n",
    "<font color='darkorange'> Можно объединить Векторизатор с моделью через Pipeline. Так можно избежать утечек даже при кроссвалидации моделей.<br> Материалы по Pipeline:<br> [О Пайплайн](https://www.helenkapatsa.ru/paiplain/)<br>\n",
    "\n",
    "[Примеры работы с текстами](https://scikit-learn.org/stable/auto_examples/model_selection/plot_grid_search_text_feature_extraction.html)</font>"
   ]
  },
  {
   "cell_type": "markdown",
   "metadata": {},
   "source": [
    "<font color='blue'><b>Комментарий ревьюера: </b></font> ❌\\\n",
    "<font color='red'><s> Метод .astype('U') кодирует текст в максимально широкий Юникод U32, содержащий все возможные символы и эмоджи. Такое форматирование здесь не имеет смысла, так как после очистки останется только латинница (тексты, в основном, и так уже в Юникоде \"utf-8\"). Ни одна из используемых в проекте моделей не требует кодировки в Юникод. Можно обойтись и без него.</s></font>"
   ]
  },
  {
   "cell_type": "markdown",
   "metadata": {},
   "source": [
    "<font color='purple'><b>Комментарий студента: </b></font>\n",
    "<font color='blue'> поняла, спасибо! </font>"
   ]
  },
  {
   "cell_type": "markdown",
   "metadata": {},
   "source": [
    "<font color='blue'><b>Комментарий ревьюера 2: </b></font> ✔️\\\n",
    "<font color='green'> 👍</font>"
   ]
  },
  {
   "cell_type": "code",
   "execution_count": 8,
   "metadata": {},
   "outputs": [
    {
     "name": "stdout",
     "output_type": "stream",
     "text": [
      "F1 на CV = 0.6402255916528405\n"
     ]
    }
   ],
   "source": [
    "# создаем модель\n",
    "classificator = LogisticRegression()\n",
    "\n",
    "# вычисляем F1 на кросс-валидации\n",
    "train_f1 = cross_val_score(classificator, \n",
    "                           features_train_tfidf,  # Используем features_train_tfidf\n",
    "                           target_train, \n",
    "                           cv=cv_counts, \n",
    "                           scoring='f1').mean()\n",
    "\n",
    "print('F1 на CV =', train_f1)"
   ]
  },
  {
   "cell_type": "markdown",
   "metadata": {},
   "source": [
    "<font color='blue'><b>Комментарий ревьюера: </b></font> ✔️\\\n",
    "<font color='green'>Здорово что оценка кроссвалидацией.</font>"
   ]
  },
  {
   "cell_type": "markdown",
   "metadata": {},
   "source": [
    "Проводим балансировку классов (уменьшаем размер весов классов)"
   ]
  },
  {
   "cell_type": "markdown",
   "metadata": {},
   "source": [
    "<font color='blue'><b>Комментарий ревьюера: </b></font> ✔️\\\n",
    "<font color='green'>👍</font>"
   ]
  },
  {
   "cell_type": "code",
   "execution_count": 9,
   "metadata": {},
   "outputs": [
    {
     "name": "stdout",
     "output_type": "stream",
     "text": [
      "F1-score: 0.7327502429543246\n",
      "F1 на CV с балансированными классами = 0.7329483321262973\n"
     ]
    }
   ],
   "source": [
    "classificator = LogisticRegression(class_weight='balanced')\n",
    "\n",
    "pipeline = Pipeline([\n",
    "    ('model', classificator)  \n",
    "])\n",
    "\n",
    "\n",
    "pipeline.fit(features_train_tfidf, target_train)\n",
    "predictions = pipeline.predict(features_valid_tfidf)\n",
    "\n",
    "f1 = f1_score(target_valid, predictions)\n",
    "print(f\"F1-score: {f1}\")\n",
    "\n",
    "train_f1_balanced = cross_val_score(classificator, \n",
    "                           features_train_tfidf,  \n",
    "                           target_train, \n",
    "                           cv=cv_counts, \n",
    "                           scoring='f1').mean()\n",
    "\n",
    "print('F1 на CV с балансированными классами =', train_f1_balanced)\n"
   ]
  },
  {
   "cell_type": "markdown",
   "metadata": {},
   "source": [
    "<font color='blue'><b>Комментарий ревьюера: </b></font> ✔️\\\n",
    "<font color='green'>👍</font>"
   ]
  },
  {
   "cell_type": "markdown",
   "metadata": {},
   "source": [
    "Проведём ресемплинг с уменьшением класса 0"
   ]
  },
  {
   "cell_type": "code",
   "execution_count": 10,
   "metadata": {},
   "outputs": [],
   "source": [
    "toxic_comments_train = toxic_comments.iloc[target_train.index]\n",
    "\n",
    "target_train_class_zero = toxic_comments_train[toxic_comments_train['toxic'] == 0]['toxic']\n",
    "target_train_class_one = toxic_comments_train[toxic_comments_train['toxic'] == 1]['toxic']\n"
   ]
  },
  {
   "cell_type": "code",
   "execution_count": 11,
   "metadata": {},
   "outputs": [],
   "source": [
    "target_train_class_zero_downsample = target_train_class_zero.sample(target_train_class_one.shape[0],\n",
    "                                                                    random_state=1234)\n",
    "target_train_downsample = pd.concat([target_train_class_zero_downsample, target_train_class_one])\n",
    "\n",
    "features_train_downsample = toxic_comments.iloc[target_train_downsample.index]\n",
    "features_train_downsample, target_train_downsample = shuffle(features_train_downsample,\n",
    "                                                             target_train_downsample,\n",
    "                                                             random_state=1234)\n",
    "features_train_downsample = count_tf_idf.transform(features_train_downsample['lemm_text']\n",
    "                                                   .values)\n"
   ]
  },
  {
   "cell_type": "markdown",
   "metadata": {},
   "source": [
    "<font color='blue'><b>Комментарий ревьюера: </b></font> ✔️\\\n",
    "<font color='green'>Верно, что балансируются только обучающие данные.</font>"
   ]
  },
  {
   "cell_type": "code",
   "execution_count": 12,
   "metadata": {},
   "outputs": [
    {
     "name": "stdout",
     "output_type": "stream",
     "text": [
      "F1 на CV с уменьшением классов 0.8774694059281241\n"
     ]
    }
   ],
   "source": [
    "classificator = LogisticRegression()\n",
    "cv_counts = 3\n",
    "\n",
    "stratified_kfold = StratifiedKFold(n_splits=cv_counts, shuffle=True, random_state=42)\n",
    "\n",
    "train_f1_downsampled = cross_val_score(classificator,\n",
    "                                       features_train_downsample, \n",
    "                                       target_train_downsample, \n",
    "                                       cv=stratified_kfold, \n",
    "                                       scoring='f1').mean()\n",
    "\n",
    "print('F1 на CV с уменьшением классов', train_f1_downsampled)"
   ]
  },
  {
   "cell_type": "code",
   "execution_count": 13,
   "metadata": {},
   "outputs": [
    {
     "name": "stdout",
     "output_type": "stream",
     "text": [
      "Средний F1 на CV с несбалансированными данными = 0.6690649043258073\n"
     ]
    }
   ],
   "source": [
    "cv_counts = 3\n",
    "stratified_kfold = StratifiedKFold(n_splits=cv_counts, shuffle=True, random_state=42)\n",
    "\n",
    "f1_scores = []\n",
    "\n",
    "for train_index, val_index in stratified_kfold.split(features_train, target_train):\n",
    "    train_features, val_features = features_train_tfidf[train_index], features_train_tfidf[val_index]\n",
    "    train_target, val_target = target_train.iloc[train_index], target_train.iloc[val_index]\n",
    "\n",
    "    classificator = LogisticRegression()  \n",
    "    classificator.fit(train_features, train_target)\n",
    "    \n",
    "    predictions = classificator.predict(val_features)\n",
    "    f1 = f1_score(val_target, predictions)\n",
    "    f1_scores.append(f1)\n",
    "\n",
    "mean_f1 = sum(f1_scores) / len(f1_scores)\n",
    "print('Средний F1 на CV с несбалансированными данными =', mean_f1)\n"
   ]
  },
  {
   "cell_type": "markdown",
   "metadata": {},
   "source": [
    "<font color='blue'><b>Комментарий ревьюера: </b></font> ⚠️\\\n",
    "<font color='darkorange'>Кроссвалидация на сбалансированных данных даёт не корректную оценку. Лучше проверять на несбалансированной валидационной выборке.</font>"
   ]
  },
  {
   "cell_type": "code",
   "execution_count": 14,
   "metadata": {},
   "outputs": [
    {
     "data": {
      "image/png": "[encoded data removed]",
      "text/plain": [
       "<Figure size 864x648 with 1 Axes>"
      ]
     },
     "metadata": {
      "needs_background": "light"
     },
     "output_type": "display_data"
    }
   ],
   "source": [
    "dict_classes = {0: 1, 1: 5}         \n",
    "\n",
    "# Строим ROC-AUC графики балансировки\n",
    "plt.figure(figsize=[12,9])\n",
    "plt.plot([0, 1], [0, 1], linestyle='--', label='RandomModel')\n",
    "\n",
    "# Обучаем и оцениваем модель без балансировки\n",
    "classificator = LogisticRegression()\n",
    "classificator.fit(features_train_tfidf, target_train)\n",
    "probabilities_valid = classificator.predict_proba(features_valid_tfidf)\n",
    "probabilities_one_valid = probabilities_valid[:, 1]\n",
    "fpr, tpr, thresholds = roc_curve(target_valid, probabilities_one_valid)\n",
    "auc_roc = roc_auc_score(target_valid, probabilities_one_valid)\n",
    "valid_f1 = f1_score(target_valid, classificator.predict(features_valid_tfidf))\n",
    "plt.plot(fpr, tpr, label='LR')\n",
    "\n",
    "# Обучаем и оцениваем модель с балансировкой\n",
    "classificator = LogisticRegression(class_weight=dict_classes)\n",
    "classificator.fit(features_train_tfidf, target_train)\n",
    "probabilities_valid = classificator.predict_proba(features_valid_tfidf)\n",
    "probabilities_one_valid = probabilities_valid[:, 1]\n",
    "fpr, tpr, thresholds = roc_curve(target_valid, probabilities_one_valid)\n",
    "auc_roc_balanced = roc_auc_score(target_valid, probabilities_one_valid)\n",
    "valid_f1_balanced = f1_score(target_valid, classificator.predict(features_valid_tfidf))\n",
    "plt.plot(fpr, tpr, label='LR по весу')\n",
    "\n",
    "# Обучаем и оцениваем модель с downsampling\n",
    "classificator = LogisticRegression()\n",
    "classificator.fit(features_train_downsample, target_train_downsample)\n",
    "probabilities_valid = classificator.predict_proba(features_valid_tfidf)\n",
    "probabilities_one_valid = probabilities_valid[:, 1]\n",
    "fpr, tpr, thresholds = roc_curve(target_valid, probabilities_one_valid)\n",
    "auc_roc_downsampled = roc_auc_score(target_valid, probabilities_one_valid)\n",
    "valid_f1_downsampled = f1_score(target_valid, classificator.predict(features_valid_tfidf))\n",
    "plt.plot(fpr, tpr, label='LR с уменьшенными классами')\n",
    "\n",
    "plt.xlim([0,1])\n",
    "plt.ylim([0,1])\n",
    "plt.xlabel(\"Ложно положительная оценка\")\n",
    "plt.ylabel(\"Истинно положительная оценка\")\n",
    "\n",
    "plt.legend(loc='lower right', fontsize='x-large')\n",
    "\n",
    "plt.title(\"ROC-кривая\")\n",
    "plt.show()\n"
   ]
  },
  {
   "cell_type": "code",
   "execution_count": 15,
   "metadata": {},
   "outputs": [
    {
     "data": {
      "text/html": [
       "<div>\n",
       "<style scoped>\n",
       "    .dataframe tbody tr th:only-of-type {\n",
       "        vertical-align: middle;\n",
       "    }\n",
       "\n",
       "    .dataframe tbody tr th {\n",
       "        vertical-align: top;\n",
       "    }\n",
       "\n",
       "    .dataframe thead th {\n",
       "        text-align: right;\n",
       "    }\n",
       "</style>\n",
       "<table border=\"1\" class=\"dataframe\">\n",
       "  <thead>\n",
       "    <tr style=\"text-align: right;\">\n",
       "      <th></th>\n",
       "      <th>F1 на CV</th>\n",
       "      <th>F1 на валидации</th>\n",
       "      <th>AUC-ROC</th>\n",
       "    </tr>\n",
       "  </thead>\n",
       "  <tbody>\n",
       "    <tr>\n",
       "      <th>LogisticRegression</th>\n",
       "      <td>0.640226</td>\n",
       "      <td>0.705417</td>\n",
       "      <td>0.964038</td>\n",
       "    </tr>\n",
       "    <tr>\n",
       "      <th>LR по весу</th>\n",
       "      <td>0.732948</td>\n",
       "      <td>0.767904</td>\n",
       "      <td>0.965282</td>\n",
       "    </tr>\n",
       "    <tr>\n",
       "      <th>LR downsampled classes</th>\n",
       "      <td>0.877469</td>\n",
       "      <td>0.671386</td>\n",
       "      <td>0.956771</td>\n",
       "    </tr>\n",
       "  </tbody>\n",
       "</table>\n",
       "</div>"
      ],
      "text/plain": [
       "                        F1 на CV  F1 на валидации   AUC-ROC\n",
       "LogisticRegression      0.640226         0.705417  0.964038\n",
       "LR по весу              0.732948         0.767904  0.965282\n",
       "LR downsampled classes  0.877469         0.671386  0.956771"
      ]
     },
     "execution_count": 15,
     "metadata": {},
     "output_type": "execute_result"
    }
   ],
   "source": [
    "# выведем таблицу результатов баллансировки\n",
    "index = ['LogisticRegression',\n",
    "         'LR по весу',\n",
    "         'LR downsampled classes']\n",
    "data = {'F1 на CV':[train_f1,\n",
    "                    train_f1_balanced,\n",
    "                    train_f1_downsampled],\n",
    "        'F1 на валидации':[valid_f1,\n",
    "                           valid_f1_balanced,\n",
    "                           valid_f1_downsampled],\n",
    "        'AUC-ROC':[auc_roc,\n",
    "                   auc_roc_balanced,\n",
    "                   auc_roc_downsampled]}\n",
    "\n",
    "scores_data = pd.DataFrame(data=data, index=index)\n",
    "scores_data"
   ]
  },
  {
   "cell_type": "markdown",
   "metadata": {},
   "source": [
    "**Вывод по разделу анализа данных**\n",
    "<br><br>\n",
    "В процессе подготовки данных получили признаки для обучения. \n",
    "<br>\n",
    "Получили обучающую, валидационную и тестовую выборку.\n",
    "<br>\n",
    "После балансировки данных получили оптимальный вес.\n"
   ]
  },
  {
   "cell_type": "markdown",
   "metadata": {},
   "source": [
    "<font color='blue'><b>Комментарий ревьюера: </b></font> ✔️\\\n",
    "<font color='green'>👍</font>"
   ]
  },
  {
   "cell_type": "markdown",
   "metadata": {},
   "source": [
    "## Обучение"
   ]
  },
  {
   "cell_type": "markdown",
   "metadata": {},
   "source": [
    "Классификатор LogisticRegression"
   ]
  },
  {
   "cell_type": "code",
   "execution_count": null,
   "metadata": {},
   "outputs": [
    {
     "name": "stdout",
     "output_type": "stream",
     "text": [
      "Настройка гиперпараметров для f1-меры\n",
      "\n"
     ]
    }
   ],
   "source": [
    "classificator = LogisticRegression()\n",
    "hyperparams = [{'solver': ['newton-cg', 'lbfgs', 'liblinear'],\n",
    "                'C': [0.1, 1, 10],\n",
    "                'class_weight': [dict_classes]}]\n",
    "\n",
    "print(\"Настройка гиперпараметров для f1-меры\")\n",
    "print()\n",
    "clf = GridSearchCV(classificator, hyperparams, scoring='f1', cv=cv_counts)\n",
    "clf.fit(features_train_tfidf, target_train)\n",
    "print(\"Лучшие параметры найдены на наборе данных разработки:\")\n",
    "print()\n",
    "LR_best_params = clf.best_params_\n",
    "print(LR_best_params)\n",
    "print()\n",
    "print(\"Оценки сетки на наборе данных разработки:\")\n",
    "print()\n",
    "for mean, std, params in zip(clf.cv_results_['mean_test_score'], clf.cv_results_['std_test_score'], clf.cv_results_['params']):\n",
    "    print(\"%0.6f для %r\" % (mean, params))\n",
    "print()\n",
    "\n",
    "cv_f1_LR = max(clf.cv_results_['mean_test_score'])\n"
   ]
  },
  {
   "cell_type": "markdown",
   "metadata": {},
   "source": [
    "<font color='blue'><b>Комментарий ревьюера : </b></font> ✔️\\\n",
    "<font color='green'>Подбор гиперпараметров проведён верно.</font>"
   ]
  },
  {
   "cell_type": "code",
   "execution_count": null,
   "metadata": {
    "scrolled": true
   },
   "outputs": [],
   "source": [
    "classificator = LogisticRegression()\n",
    "classificator.set_params(**LR_best_params)\n",
    "classificator.fit(features_train_tfidf, target_train)\n",
    "target_predict = classificator.predict(features_valid_tfidf)\n",
    "valid_f1_LR = f1_score(target_valid, target_predict)\n",
    "print('F1 на cv', cv_f1_LR)\n",
    "print('F1 на валидации', valid_f1_LR)"
   ]
  },
  {
   "cell_type": "markdown",
   "metadata": {},
   "source": [
    "<font color='blue'><b>Комментарий ревьюера: </b></font> ✔️\\\n",
    "<font color='green'>Отлично, что используешь валидационную выборку для оценки моделей.</font>"
   ]
  },
  {
   "cell_type": "markdown",
   "metadata": {},
   "source": [
    "Классификатор DecisionTreeClassifier"
   ]
  },
  {
   "cell_type": "code",
   "execution_count": null,
   "metadata": {},
   "outputs": [],
   "source": [
    "classificator = DecisionTreeClassifier()\n",
    "hyperparams = [{'max_depth': [x for x in range(50, 100, 2)],\n",
    "                'random_state': [1515],\n",
    "                'class_weight': [dict_classes]}]\n",
    "\n",
    "print('# Настройка гиперпараметров для f1-меры')\n",
    "print()\n",
    "clf = GridSearchCV(classificator, hyperparams, scoring='f1', cv=cv_counts)\n",
    "clf.fit(features_train_tfidf, target_train)\n",
    "print(\"Лучшие параметры, найденные на наборе данных разработки:\")\n",
    "print()\n",
    "DTC_best_params = clf.best_params_\n",
    "print(DTC_best_params)\n",
    "print()\n",
    "print(\"Оценки сетки на наборе данных разработки:\")\n",
    "print()\n",
    "means = clf.cv_results_['mean_test_score']\n",
    "stds = clf.cv_results_['std_test_score']\n",
    "for mean, std, params in zip(means, stds, clf.cv_results_['params']):\n",
    "    print(\"%0.6f для %r\" % (mean, params))\n",
    "print()\n",
    "\n",
    "cv_f1_DTC = max(means)\n"
   ]
  },
  {
   "cell_type": "code",
   "execution_count": null,
   "metadata": {},
   "outputs": [],
   "source": [
    "classificator = DecisionTreeClassifier()\n",
    "classificator.set_params(**DTC_best_params)\n",
    "classificator.fit(features_train_tfidf, target_train)\n",
    "target_predict = classificator.predict(features_valid_tfidf)\n",
    "valid_f1_DTC = f1_score(target_valid, target_predict)\n",
    "print('F1 на cv', cv_f1_DTC)\n",
    "print('F1 на валидации', valid_f1_DTC)"
   ]
  },
  {
   "cell_type": "markdown",
   "metadata": {},
   "source": [
    "<font color='blue'><b>Комментарий ревьюера: </b></font> ✔️\\\n",
    "<font color='green'>👍</font>"
   ]
  },
  {
   "cell_type": "markdown",
   "metadata": {},
   "source": [
    "Классификатор CatBoostClassifier"
   ]
  },
  {
   "cell_type": "code",
   "execution_count": null,
   "metadata": {},
   "outputs": [],
   "source": [
    "classificator = CatBoostClassifier(verbose=False, iterations=250, text_features=['text_lemm'])\n",
    "classificator.fit(features_train_tfidf, target_train)\n",
    "target_predict = classificator.predict(features_valid_tfidf)\n",
    "cv_f1_CBC = cross_val_score(classificator,\n",
    "                                         features_train_tfidf, \n",
    "                                         target_train, \n",
    "                                         cv=cv_counts, \n",
    "                                         scoring='f1').mean()\n",
    "valid_f1_CBC = f1_score(target_valid, target_predict)\n",
    "print('F1 на cv', cv_f1_CBC)\n",
    "print('F1 на валидации', valid_f1_CBC)"
   ]
  },
  {
   "cell_type": "markdown",
   "metadata": {},
   "source": [
    "<font color='blue'><b>Комментарий ревьюера: </b></font> ✔️\\\n",
    "<font color='green'>CatBoost может сам векторизовать текст. Для этого указываем в класс модели текстовые данные. `text_features=[\"text_lemm\"]`</font>"
   ]
  },
  {
   "cell_type": "markdown",
   "metadata": {},
   "source": [
    " <font color='purple'><b>Комментарий студента: </b></font>\n",
    "<font color='blue'> Окей. </font>"
   ]
  },
  {
   "cell_type": "markdown",
   "metadata": {},
   "source": [
    "<font color='blue'><b>Комментарий ревьюера 2: </b></font> ⚠️\\\n",
    "<font color='darkorange'> Если указана текстовая фича, то текст нужно подавать невекторизованный (без tfidf), CatBoost обработает его сам.\\\n",
    "В таком исполнении код не сработает.</font>"
   ]
  },
  {
   "cell_type": "markdown",
   "metadata": {},
   "source": [
    "Вывод по классификаторам"
   ]
  },
  {
   "cell_type": "code",
   "execution_count": null,
   "metadata": {},
   "outputs": [],
   "source": [
    "index = ['LogisticRegression',\n",
    "         'DecisionTreeClassifier',\n",
    "         'CatBoostClassifier']\n",
    "data = {'F1 на CV':[cv_f1_LR,\n",
    "                    cv_f1_DTC,\n",
    "                    cv_f1_CBC],\n",
    "        'F1 на валидации':[valid_f1_LR,\n",
    "                           valid_f1_DTC,\n",
    "                           valid_f1_CBC]}\n",
    "\n",
    "scores_data = pd.DataFrame(data=data, index=index)\n",
    "scores_data['Выполнение задачи'] = scores_data['F1 на валидации'] > 0.75\n",
    "scores_data"
   ]
  },
  {
   "cell_type": "markdown",
   "metadata": {},
   "source": [
    "<font color='blue'><b>Комментарий ревьюера: </b></font> ✔️\\\n",
    "<font color='green'> Отлично, что есть табличка результатов для сравнения.</font>"
   ]
  },
  {
   "cell_type": "markdown",
   "metadata": {},
   "source": [
    "**Вывод по разделу обучения**\n",
    "\n",
    "К тестовому набору данных перейдут LogisticRegression"
   ]
  },
  {
   "cell_type": "markdown",
   "metadata": {},
   "source": [
    "<font color='blue'><b>Комментарий ревьюера: </b></font> ✔️\\\n",
    "<font color='green'>👍</font>"
   ]
  },
  {
   "cell_type": "markdown",
   "metadata": {},
   "source": [
    "## Выводы"
   ]
  },
  {
   "cell_type": "code",
   "execution_count": null,
   "metadata": {},
   "outputs": [],
   "source": [
    "plt.figure(figsize=[13, 8])\n",
    "\n",
    "plt.plot([0, 1], [0, 1], linestyle='--', label='Случайная модель')\n",
    "\n",
    "classificator = LogisticRegression()\n",
    "classificator.set_params(**LR_best_params)\n",
    "classificator.fit(features_train_tfidf, target_train)\n",
    "probabilities_test = classificator.predict_proba(features_test)\n",
    "probabilities_one_test = probabilities_test[:, 1]\n",
    "fpr, tpr, thresholds = roc_curve(target_test, probabilities_one_test)\n",
    "predict_test = classificator.predict(features_test)\n",
    "plt.plot(fpr, tpr, label='Логистическая регрессия')\n",
    "print('Метрики для логистической регрессии')\n",
    "print('ROC AUC:', roc_auc_score(target_test, probabilities_one_test))\n",
    "print('F1:', f1_score(target_test, predict_test))\n",
    "print('Precision:', precision_score(target_test, predict_test))\n",
    "print('Recall:', recall_score(target_test, predict_test))\n",
    "print('Accuracy:', accuracy_score(target_test, predict_test))\n",
    "print()\n",
    "\n",
    "plt.xlim([0, 1])\n",
    "plt.ylim([0, 1])\n",
    "\n",
    "plt.xlabel(\"Ложно положительная оценка\")\n",
    "plt.ylabel(\"Истинно положительная оценка\")\n",
    "\n",
    "plt.legend(loc='lower right', fontsize='x-large')\n",
    "\n",
    "plt.title(\"ROC-кривая и метрики качества моделей\")\n"
   ]
  },
  {
   "cell_type": "markdown",
   "metadata": {},
   "source": [
    "<font color='blue'><b>Комментарий ревьюера: </b></font> ✔️\\\n",
    "<font color='green'>Тестирование проведено верно.</font>"
   ]
  },
  {
   "cell_type": "markdown",
   "metadata": {},
   "source": [
    "**Общий вывод**\n",
    "<br>\n",
    "В процессе исследования: \n",
    "<br>\n",
    "1. Подготовили данные обучения.\n",
    "2. Выбрали способ баланса классов.\n",
    "3. Сформировали обучающую, валидационную и тестовую выборки.\n",
    "4. Обучили модели и выбрали лучшую на валидационной выборке.\n",
    "5. Показали параметры качества моделей.\n",
    "<br>\n",
    "У исходных данных большое количество признаков. \n",
    "<br>\n",
    "Лучше всего показала себя модель стала LogisticRegression."
   ]
  },
  {
   "cell_type": "markdown",
   "metadata": {},
   "source": [
    "<font color='blue'><b>Комментарий ревьюера: </b></font> ✔️\\\n",
    "<font color='green'> Очень приятно видеть вывод в конце проекта!\\\n",
    "Приведены ответы на главные вопросы проекта.</font>"
   ]
  },
  {
   "cell_type": "markdown",
   "metadata": {},
   "source": [
    "<font color='blue'><b>Итоговый комментарий ревьюера</b></font>\\\n",
    "<font color='green'>Дарья, хороший проект получился!\n",
    "Большое спасибо за проделанную работу. Видно, что приложено много усилий.\n",
    "</font>\n",
    "\n",
    "<font color='blue'>Что нужно исправить:</font>\n",
    "<ul><font color='red'>Не применяй метод .astype('U') для текстов на латинице.</font></ul>\n",
    "<ul><font color='red'>Поправь Лемматизацию.</font></ul>\n",
    "\n",
    "<font color='blue'>Что можно сделать лучше:</font>\n",
    "<font color='orange'>В работе я оставил несколько советов. Буду рад, если ты учтешь их.</font></ul>\n",
    "\n",
    "<font color='blue'><b>Жду новую версию проекта :)</b></font>"
   ]
  },
  {
   "cell_type": "markdown",
   "metadata": {},
   "source": [
    "<font color='purple'><b>Комментарий студента: </b></font>\n",
    "<font color='blue'> Павел, большое спасибо за рвеью и меткие комментарии, постаралась всё учесть, надеюсь работа стала лучше. </font>"
   ]
  },
  {
   "cell_type": "markdown",
   "metadata": {},
   "source": [
    "<font color='blue'><b>Итоговый комментарий ревьюера 2</b></font>\\\n",
    "<font color='green'> Дарья, проект принят! \\\n",
    "Все этапы пройдены. Все рекомендации учтены.\\\n",
    "Надеюсь, тебе понравился процесс выполнения и результат.</font> \\\n",
    "<font color='blue'><b>Спасибо, удачи в освоении профессии!</b></font>"
   ]
  },
  {
   "cell_type": "markdown",
   "metadata": {},
   "source": [
    "<font color='green'><b>Полезные (и просто интересные) материалы:</b> \\\n",
    "Для работы с текстами используют и другие подходы. Например, сейчас активно используются RNN (LSTM) и трансформеры (BERT и другие с улицы Сезам, например, ELMO). НО! Они не являются панацеей, не всегда они нужны, так как и TF-IDF или Word2Vec + модели из классического ML тоже могут справляться. \\\n",
    "BERT тяжелый, существует много его вариаций для разных задач, есть готовые модели, есть надстройки над библиотекой transformers. Если, обучать BERT на GPU (можно в Google Colab или Kaggle), то должно быть побыстрее.\\\n",
    "https://huggingface.co/transformers/model_doc/bert.html \\\n",
    "https://colah.github.io/posts/2015-08-Understanding-LSTMs/ - Про LSTM \\\n",
    "https://web.stanford.edu/~jurafsky/slp3/10.pdf - про энкодер-декодер модели, этеншены\\\n",
    "https://pytorch.org/tutorials/beginner/transformer_tutorial.html - официальный гайд\n",
    "по трансформеру от создателей pytorch\\\n",
    "Библиотеки: allennlp, fairseq, transformers, tensorflow-text — множествореализованных\n",
    "методов для трансформеров методов NLP \\\n",
    "Word2Vec https://radimrehurek.com/gensim/models/word2vec.html\n",
    "\n",
    "<font color='green'>Пример BERT с GPU:\n",
    "```python\n",
    "%%time\n",
    "from tqdm import notebook\n",
    "batch_size = 2 # для примера возьмем такой батч, где будет всего две строки датасета\n",
    "embeddings = []\n",
    "model.cuda()   # закидываем модель на GPU\n",
    "for i in notebook.tqdm(range(input_ids.shape[0] // batch_size)):\n",
    "        batch = torch.LongTensor(input_ids[batch_size*i:batch_size*(i+1)]).cuda() # закидываем тензор на GPU\n",
    "        attention_mask_batch = torch.LongTensor(attention_mask[batch_size*i:batch_size*(i+1)]).cuda()\n",
    "\n",
    "        with torch.no_grad():\n",
    "            batch_embeddings = model(batch, attention_mask=attention_mask_batch)\n",
    "\n",
    "        embeddings.append(batch_embeddings[0][:,0,:].cpu().numpy()) # перевод обратно на проц, чтобы в нумпай кинуть\n",
    "        del batch\n",
    "        del attention_mask_batch\n",
    "        del batch_embeddings\n",
    "\n",
    "features = np.concatenate(embeddings)\n",
    "```\n",
    "Можно сделать предварительную проверку на наличие GPU.\\\n",
    "Например, так: ```device = torch.device(\"cuda:0\") if torch.cuda.is_available() else torch.device(\"cpu\")```\\\n",
    "Тогда вместо .cuda() нужно писать .to(device)\n",
    "\n",
    "Если понравилась работа с текстами, то можешь посмотреть очень интересный (но очень-очень сложный) курс лекций: https://github.com/yandexdataschool/nlp_course .\n",
    "\n",
    "\n",
    "NLP от Samsung https://stepik.org/course/54098/promo \\\n",
    "NLP от Huawei https://ods.ai/tracks/nlp-course-spring-23 \\\n",
    "Transformers от Hugging Face https://huggingface.co/learn/nlp-course/chapter1/1\n",
    "</font>"
   ]
  },
  {
   "cell_type": "markdown",
   "metadata": {},
   "source": [
    "## Чек-лист проверки"
   ]
  },
  {
   "cell_type": "markdown",
   "metadata": {},
   "source": [
    "- [x]  Jupyter Notebook открыт\n",
    "- [x]  Весь код выполняется без ошибок\n",
    "- [x]  Ячейки с кодом расположены в порядке исполнения\n",
    "- [x]  Данные загружены и подготовлены\n",
    "- [x]  Модели обучены\n",
    "- [x]  Значение метрики *F1* не меньше 0.75\n",
    "- [x]  Выводы написаны"
   ]
  }
 ],
 "metadata": {
  "ExecuteTimeLog": [
   {
    "duration": 2824,
    "start_time": "2023-08-09T03:42:58.481Z"
   },
   {
    "duration": 2421,
    "start_time": "2023-08-09T03:43:01.309Z"
   },
   {
    "duration": 10,
    "start_time": "2023-08-09T03:43:03.732Z"
   },
   {
    "duration": 12,
    "start_time": "2023-08-09T03:43:08.750Z"
   },
   {
    "duration": 6182,
    "start_time": "2023-08-09T03:44:10.922Z"
   },
   {
    "duration": 10980,
    "start_time": "2023-08-09T03:45:33.995Z"
   },
   {
    "duration": 46411,
    "start_time": "2023-08-09T03:45:48.315Z"
   },
   {
    "duration": 42181,
    "start_time": "2023-08-09T03:47:11.028Z"
   },
   {
    "duration": 31307,
    "start_time": "2023-08-09T03:47:53.212Z"
   },
   {
    "duration": 27,
    "start_time": "2023-08-09T03:48:24.521Z"
   },
   {
    "duration": 120,
    "start_time": "2023-08-09T03:48:38.652Z"
   },
   {
    "duration": 1011,
    "start_time": "2023-08-09T03:48:42.763Z"
   },
   {
    "duration": 19736,
    "start_time": "2023-08-09T03:48:44.473Z"
   },
   {
    "duration": 109,
    "start_time": "2023-08-09T03:49:13.016Z"
   },
   {
    "duration": 76542,
    "start_time": "2023-08-09T03:49:47.613Z"
   },
   {
    "duration": 10,
    "start_time": "2023-08-09T03:51:04.157Z"
   },
   {
    "duration": 281486,
    "start_time": "2023-08-09T03:53:13.654Z"
   },
   {
    "duration": 30434,
    "start_time": "2023-08-09T04:10:15.934Z"
   },
   {
    "duration": 711454,
    "start_time": "2023-08-09T04:10:46.409Z"
   },
   {
    "duration": 31421,
    "start_time": "2023-08-09T04:22:37.865Z"
   },
   {
    "duration": 995449,
    "start_time": "2023-08-09T04:23:09.288Z"
   },
   {
    "duration": 11,
    "start_time": "2023-08-09T04:39:44.739Z"
   },
   {
    "duration": 31597,
    "start_time": "2023-08-09T04:39:44.752Z"
   },
   {
    "duration": 74,
    "start_time": "2023-08-10T22:11:19.223Z"
   },
   {
    "duration": 2672,
    "start_time": "2023-08-10T22:12:14.686Z"
   },
   {
    "duration": 4660,
    "start_time": "2023-08-10T22:12:17.361Z"
   },
   {
    "duration": 15,
    "start_time": "2023-08-10T22:12:22.022Z"
   },
   {
    "duration": 53,
    "start_time": "2023-08-10T22:12:22.045Z"
   },
   {
    "duration": 9921,
    "start_time": "2023-08-10T22:12:22.108Z"
   },
   {
    "duration": 15047,
    "start_time": "2023-08-10T22:12:32.042Z"
   },
   {
    "duration": 57455,
    "start_time": "2023-08-10T22:12:47.094Z"
   },
   {
    "duration": 46022,
    "start_time": "2023-08-10T22:13:44.560Z"
   },
   {
    "duration": 38111,
    "start_time": "2023-08-10T22:14:30.594Z"
   },
   {
    "duration": 54,
    "start_time": "2023-08-10T22:15:08.707Z"
   },
   {
    "duration": 1694,
    "start_time": "2023-08-10T22:15:08.767Z"
   },
   {
    "duration": 2357,
    "start_time": "2023-08-10T22:15:24.716Z"
   },
   {
    "duration": 1519,
    "start_time": "2023-08-10T22:15:27.079Z"
   },
   {
    "duration": 49,
    "start_time": "2023-08-10T22:15:28.614Z"
   },
   {
    "duration": 75,
    "start_time": "2023-08-10T22:15:28.674Z"
   },
   {
    "duration": 11823,
    "start_time": "2023-08-10T22:15:28.756Z"
   },
   {
    "duration": 17717,
    "start_time": "2023-08-10T22:15:40.586Z"
   },
   {
    "duration": 56024,
    "start_time": "2023-08-10T22:15:58.318Z"
   },
   {
    "duration": 47680,
    "start_time": "2023-08-10T22:16:54.349Z"
   },
   {
    "duration": 39100,
    "start_time": "2023-08-10T22:17:42.044Z"
   },
   {
    "duration": 50,
    "start_time": "2023-08-10T22:18:21.146Z"
   },
   {
    "duration": 1719,
    "start_time": "2023-08-10T22:18:21.198Z"
   },
   {
    "duration": 28445,
    "start_time": "2023-08-10T22:18:22.934Z"
   },
   {
    "duration": 98075,
    "start_time": "2023-08-10T22:18:51.386Z"
   },
   {
    "duration": 18,
    "start_time": "2023-08-10T22:20:29.463Z"
   },
   {
    "duration": 297686,
    "start_time": "2023-08-10T22:20:29.483Z"
   },
   {
    "duration": 25905,
    "start_time": "2023-08-10T22:25:27.171Z"
   },
   {
    "duration": 771871,
    "start_time": "2023-08-10T22:25:53.078Z"
   },
   {
    "duration": 32444,
    "start_time": "2023-08-10T22:38:44.951Z"
   },
   {
    "duration": 1118565,
    "start_time": "2023-08-10T22:39:17.396Z"
   },
   {
    "duration": 19,
    "start_time": "2023-08-10T22:57:55.963Z"
   },
   {
    "duration": 170,
    "start_time": "2023-08-10T22:57:55.983Z"
   },
   {
    "duration": 22574,
    "start_time": "2023-08-11T01:50:43.460Z"
   },
   {
    "duration": 48,
    "start_time": "2023-08-11T07:33:03.999Z"
   },
   {
    "duration": 3003,
    "start_time": "2023-08-11T07:33:33.762Z"
   },
   {
    "duration": 2495,
    "start_time": "2023-08-11T07:33:36.767Z"
   },
   {
    "duration": 9,
    "start_time": "2023-08-11T07:33:39.264Z"
   },
   {
    "duration": 9,
    "start_time": "2023-08-11T07:33:39.275Z"
   },
   {
    "duration": 1211,
    "start_time": "2023-08-11T07:33:39.286Z"
   },
   {
    "duration": 9,
    "start_time": "2023-08-11T07:33:40.499Z"
   },
   {
    "duration": 123,
    "start_time": "2023-08-11T13:03:59.186Z"
   },
   {
    "duration": 1896,
    "start_time": "2023-08-11T13:06:38.783Z"
   },
   {
    "duration": 4,
    "start_time": "2023-08-11T13:07:21.430Z"
   },
   {
    "duration": 204,
    "start_time": "2023-08-11T13:07:47.268Z"
   },
   {
    "duration": 4,
    "start_time": "2023-08-11T13:08:20.534Z"
   },
   {
    "duration": 2412,
    "start_time": "2023-08-11T13:08:20.541Z"
   },
   {
    "duration": 10,
    "start_time": "2023-08-11T13:08:22.954Z"
   },
   {
    "duration": 15,
    "start_time": "2023-08-11T13:08:22.966Z"
   },
   {
    "duration": 704,
    "start_time": "2023-08-11T13:08:22.982Z"
   },
   {
    "duration": 0,
    "start_time": "2023-08-11T13:08:23.688Z"
   },
   {
    "duration": 0,
    "start_time": "2023-08-11T13:08:23.689Z"
   },
   {
    "duration": 0,
    "start_time": "2023-08-11T13:08:23.691Z"
   },
   {
    "duration": 0,
    "start_time": "2023-08-11T13:08:23.692Z"
   },
   {
    "duration": 0,
    "start_time": "2023-08-11T13:08:23.693Z"
   },
   {
    "duration": 0,
    "start_time": "2023-08-11T13:08:23.694Z"
   },
   {
    "duration": 0,
    "start_time": "2023-08-11T13:08:23.695Z"
   },
   {
    "duration": 0,
    "start_time": "2023-08-11T13:08:23.696Z"
   },
   {
    "duration": 0,
    "start_time": "2023-08-11T13:08:23.698Z"
   },
   {
    "duration": 0,
    "start_time": "2023-08-11T13:08:23.699Z"
   },
   {
    "duration": 0,
    "start_time": "2023-08-11T13:08:23.700Z"
   },
   {
    "duration": 0,
    "start_time": "2023-08-11T13:08:23.701Z"
   },
   {
    "duration": 0,
    "start_time": "2023-08-11T13:08:23.702Z"
   },
   {
    "duration": 0,
    "start_time": "2023-08-11T13:08:23.703Z"
   },
   {
    "duration": 0,
    "start_time": "2023-08-11T13:08:23.704Z"
   },
   {
    "duration": 0,
    "start_time": "2023-08-11T13:08:23.705Z"
   },
   {
    "duration": 0,
    "start_time": "2023-08-11T13:08:23.706Z"
   },
   {
    "duration": 6,
    "start_time": "2023-08-11T13:16:21.549Z"
   },
   {
    "duration": 1000,
    "start_time": "2023-08-11T13:16:24.636Z"
   },
   {
    "duration": 427,
    "start_time": "2023-08-11T13:17:32.082Z"
   },
   {
    "duration": 0,
    "start_time": "2023-08-11T13:25:02.888Z"
   },
   {
    "duration": 0,
    "start_time": "2023-08-11T13:25:02.889Z"
   },
   {
    "duration": 0,
    "start_time": "2023-08-11T13:25:02.890Z"
   },
   {
    "duration": 0,
    "start_time": "2023-08-11T13:25:02.891Z"
   },
   {
    "duration": 9,
    "start_time": "2023-08-11T13:25:28.850Z"
   },
   {
    "duration": 13,
    "start_time": "2023-08-11T13:25:56.925Z"
   },
   {
    "duration": 10,
    "start_time": "2023-08-11T13:26:10.005Z"
   },
   {
    "duration": 10,
    "start_time": "2023-08-11T13:26:56.656Z"
   },
   {
    "duration": 9,
    "start_time": "2023-08-11T13:29:49.067Z"
   },
   {
    "duration": 9,
    "start_time": "2023-08-11T13:29:59.857Z"
   },
   {
    "duration": 1780,
    "start_time": "2023-08-11T13:30:11.743Z"
   },
   {
    "duration": 903,
    "start_time": "2023-08-11T13:30:13.525Z"
   },
   {
    "duration": 13,
    "start_time": "2023-08-11T13:30:14.430Z"
   },
   {
    "duration": 15,
    "start_time": "2023-08-11T13:30:14.444Z"
   },
   {
    "duration": 435855,
    "start_time": "2023-08-11T13:30:14.462Z"
   },
   {
    "duration": 7,
    "start_time": "2023-08-11T13:37:30.319Z"
   },
   {
    "duration": 5293,
    "start_time": "2023-08-11T13:37:30.327Z"
   },
   {
    "duration": 155,
    "start_time": "2023-08-11T13:37:35.622Z"
   },
   {
    "duration": 0,
    "start_time": "2023-08-11T13:37:35.779Z"
   },
   {
    "duration": 0,
    "start_time": "2023-08-11T13:37:35.781Z"
   },
   {
    "duration": 0,
    "start_time": "2023-08-11T13:37:35.782Z"
   },
   {
    "duration": 0,
    "start_time": "2023-08-11T13:37:35.783Z"
   },
   {
    "duration": 0,
    "start_time": "2023-08-11T13:37:35.784Z"
   },
   {
    "duration": 0,
    "start_time": "2023-08-11T13:37:35.785Z"
   },
   {
    "duration": 0,
    "start_time": "2023-08-11T13:37:35.786Z"
   },
   {
    "duration": 0,
    "start_time": "2023-08-11T13:37:35.787Z"
   },
   {
    "duration": 0,
    "start_time": "2023-08-11T13:37:35.788Z"
   },
   {
    "duration": 0,
    "start_time": "2023-08-11T13:37:35.790Z"
   },
   {
    "duration": 0,
    "start_time": "2023-08-11T13:37:35.791Z"
   },
   {
    "duration": 0,
    "start_time": "2023-08-11T13:37:35.792Z"
   },
   {
    "duration": 0,
    "start_time": "2023-08-11T13:37:35.793Z"
   },
   {
    "duration": 0,
    "start_time": "2023-08-11T13:37:35.794Z"
   },
   {
    "duration": 5168,
    "start_time": "2023-08-11T13:39:50.868Z"
   },
   {
    "duration": 13,
    "start_time": "2023-08-11T13:40:07.385Z"
   },
   {
    "duration": 5537,
    "start_time": "2023-08-11T13:40:26.500Z"
   },
   {
    "duration": 71,
    "start_time": "2023-08-11T13:41:01.408Z"
   },
   {
    "duration": 61,
    "start_time": "2023-08-11T13:41:31.270Z"
   },
   {
    "duration": 4983,
    "start_time": "2023-08-11T13:43:08.752Z"
   },
   {
    "duration": 59,
    "start_time": "2023-08-11T13:43:13.737Z"
   },
   {
    "duration": 61,
    "start_time": "2023-08-11T13:43:18.932Z"
   },
   {
    "duration": 57,
    "start_time": "2023-08-11T13:43:21.653Z"
   },
   {
    "duration": 23,
    "start_time": "2023-08-11T13:43:24.183Z"
   },
   {
    "duration": 966,
    "start_time": "2023-08-11T13:43:26.335Z"
   },
   {
    "duration": 32278,
    "start_time": "2023-08-11T13:43:30.067Z"
   },
   {
    "duration": 236,
    "start_time": "2023-08-11T13:44:02.348Z"
   },
   {
    "duration": 0,
    "start_time": "2023-08-11T13:44:02.587Z"
   },
   {
    "duration": 0,
    "start_time": "2023-08-11T13:44:02.591Z"
   },
   {
    "duration": 0,
    "start_time": "2023-08-11T13:44:02.591Z"
   },
   {
    "duration": 0,
    "start_time": "2023-08-11T13:44:02.593Z"
   },
   {
    "duration": 0,
    "start_time": "2023-08-11T13:44:02.593Z"
   },
   {
    "duration": 0,
    "start_time": "2023-08-11T13:44:02.594Z"
   },
   {
    "duration": 58,
    "start_time": "2023-08-11T16:12:03.790Z"
   },
   {
    "duration": 65,
    "start_time": "2023-08-11T16:12:06.146Z"
   },
   {
    "duration": 58,
    "start_time": "2023-08-11T16:12:32.131Z"
   },
   {
    "duration": 59,
    "start_time": "2023-08-11T16:12:34.290Z"
   },
   {
    "duration": 128,
    "start_time": "2023-08-11T16:12:39.606Z"
   },
   {
    "duration": 1568,
    "start_time": "2023-08-11T16:12:46.584Z"
   },
   {
    "duration": 872,
    "start_time": "2023-08-11T16:12:48.154Z"
   },
   {
    "duration": 12,
    "start_time": "2023-08-11T16:12:49.028Z"
   },
   {
    "duration": 56,
    "start_time": "2023-08-11T16:12:49.041Z"
   },
   {
    "duration": 419956,
    "start_time": "2023-08-11T16:12:49.100Z"
   },
   {
    "duration": 7,
    "start_time": "2023-08-11T16:19:49.058Z"
   },
   {
    "duration": 4737,
    "start_time": "2023-08-11T16:19:49.066Z"
   },
   {
    "duration": 133,
    "start_time": "2023-08-11T16:19:53.806Z"
   },
   {
    "duration": 0,
    "start_time": "2023-08-11T16:19:53.941Z"
   },
   {
    "duration": 0,
    "start_time": "2023-08-11T16:19:53.942Z"
   },
   {
    "duration": 0,
    "start_time": "2023-08-11T16:19:53.942Z"
   },
   {
    "duration": 0,
    "start_time": "2023-08-11T16:19:53.943Z"
   },
   {
    "duration": 0,
    "start_time": "2023-08-11T16:19:53.944Z"
   },
   {
    "duration": 0,
    "start_time": "2023-08-11T16:19:53.945Z"
   },
   {
    "duration": 0,
    "start_time": "2023-08-11T16:19:53.946Z"
   },
   {
    "duration": 0,
    "start_time": "2023-08-11T16:19:53.947Z"
   },
   {
    "duration": 0,
    "start_time": "2023-08-11T16:19:53.948Z"
   },
   {
    "duration": 0,
    "start_time": "2023-08-11T16:19:53.949Z"
   },
   {
    "duration": 0,
    "start_time": "2023-08-11T16:19:53.950Z"
   },
   {
    "duration": 0,
    "start_time": "2023-08-11T16:19:53.950Z"
   },
   {
    "duration": 0,
    "start_time": "2023-08-11T16:19:53.951Z"
   },
   {
    "duration": 0,
    "start_time": "2023-08-11T16:19:53.952Z"
   },
   {
    "duration": 4955,
    "start_time": "2023-08-11T16:25:39.179Z"
   },
   {
    "duration": 46,
    "start_time": "2023-08-11T16:25:44.138Z"
   },
   {
    "duration": 47,
    "start_time": "2023-08-11T16:30:35.764Z"
   },
   {
    "duration": 10053,
    "start_time": "2023-08-11T16:37:37.165Z"
   },
   {
    "duration": 39414,
    "start_time": "2023-08-11T16:39:55.537Z"
   },
   {
    "duration": 74,
    "start_time": "2023-08-11T16:59:48.550Z"
   },
   {
    "duration": 211,
    "start_time": "2023-08-11T17:00:27.522Z"
   },
   {
    "duration": 107,
    "start_time": "2023-08-11T17:00:44.829Z"
   },
   {
    "duration": 84,
    "start_time": "2023-08-11T17:01:15.366Z"
   },
   {
    "duration": 6278,
    "start_time": "2023-08-11T17:01:54.282Z"
   },
   {
    "duration": 6475,
    "start_time": "2023-08-11T17:03:14.238Z"
   },
   {
    "duration": 39109,
    "start_time": "2023-08-11T17:04:16.537Z"
   },
   {
    "duration": 6341,
    "start_time": "2023-08-11T17:18:43.066Z"
   },
   {
    "duration": 6131,
    "start_time": "2023-08-11T17:26:25.146Z"
   },
   {
    "duration": 6560,
    "start_time": "2023-08-11T17:27:08.029Z"
   },
   {
    "duration": 6439,
    "start_time": "2023-08-11T17:32:24.455Z"
   },
   {
    "duration": 6520,
    "start_time": "2023-08-11T18:46:35.695Z"
   },
   {
    "duration": 6232,
    "start_time": "2023-08-11T18:47:47.690Z"
   },
   {
    "duration": 6202,
    "start_time": "2023-08-11T18:48:53.104Z"
   },
   {
    "duration": 33849,
    "start_time": "2023-08-11T18:50:55.274Z"
   },
   {
    "duration": 84,
    "start_time": "2023-08-11T18:52:02.742Z"
   },
   {
    "duration": 87,
    "start_time": "2023-08-11T18:52:18.459Z"
   },
   {
    "duration": 188,
    "start_time": "2023-08-11T18:52:30.266Z"
   },
   {
    "duration": 89,
    "start_time": "2023-08-11T18:52:40.907Z"
   },
   {
    "duration": 81,
    "start_time": "2023-08-11T18:52:52.108Z"
   },
   {
    "duration": 74,
    "start_time": "2023-08-11T18:53:22.826Z"
   },
   {
    "duration": 83,
    "start_time": "2023-08-11T18:53:44.326Z"
   },
   {
    "duration": 89,
    "start_time": "2023-08-11T18:54:04.159Z"
   },
   {
    "duration": 34226,
    "start_time": "2023-08-11T18:55:35.722Z"
   },
   {
    "duration": 42,
    "start_time": "2023-08-11T18:58:18.907Z"
   },
   {
    "duration": 43,
    "start_time": "2023-08-11T18:58:21.126Z"
   },
   {
    "duration": 6399,
    "start_time": "2023-08-11T18:58:32.348Z"
   },
   {
    "duration": 6095,
    "start_time": "2023-08-11T18:59:22.675Z"
   },
   {
    "duration": 31588,
    "start_time": "2023-08-11T19:00:25.760Z"
   },
   {
    "duration": 43,
    "start_time": "2023-08-11T19:02:56.108Z"
   },
   {
    "duration": 46,
    "start_time": "2023-08-11T19:03:00.093Z"
   },
   {
    "duration": 38284,
    "start_time": "2023-08-11T19:04:37.554Z"
   },
   {
    "duration": 37,
    "start_time": "2023-08-11T19:05:22.104Z"
   },
   {
    "duration": 32498,
    "start_time": "2023-08-11T19:07:20.156Z"
   },
   {
    "duration": 118,
    "start_time": "2023-08-11T19:07:52.656Z"
   },
   {
    "duration": 40,
    "start_time": "2023-08-11T19:09:44.538Z"
   },
   {
    "duration": 38,
    "start_time": "2023-08-11T19:10:45.471Z"
   },
   {
    "duration": 31,
    "start_time": "2023-08-11T19:11:38.423Z"
   },
   {
    "duration": 40,
    "start_time": "2023-08-11T19:12:09.805Z"
   },
   {
    "duration": 30,
    "start_time": "2023-08-11T19:12:54.805Z"
   },
   {
    "duration": 33,
    "start_time": "2023-08-11T19:17:46.019Z"
   },
   {
    "duration": 31,
    "start_time": "2023-08-11T19:21:40.093Z"
   },
   {
    "duration": 30,
    "start_time": "2023-08-11T19:22:53.868Z"
   },
   {
    "duration": 1604,
    "start_time": "2023-08-11T19:23:02.659Z"
   },
   {
    "duration": 934,
    "start_time": "2023-08-11T19:23:04.265Z"
   },
   {
    "duration": 9,
    "start_time": "2023-08-11T19:23:05.201Z"
   },
   {
    "duration": 11,
    "start_time": "2023-08-11T19:23:05.212Z"
   },
   {
    "duration": 427877,
    "start_time": "2023-08-11T19:23:05.224Z"
   },
   {
    "duration": 7,
    "start_time": "2023-08-11T19:30:13.102Z"
   },
   {
    "duration": 39333,
    "start_time": "2023-08-11T19:30:13.110Z"
   },
   {
    "duration": 52297,
    "start_time": "2023-08-11T19:30:52.452Z"
   },
   {
    "duration": 152,
    "start_time": "2023-08-11T19:31:44.751Z"
   },
   {
    "duration": 0,
    "start_time": "2023-08-11T19:31:44.905Z"
   },
   {
    "duration": 0,
    "start_time": "2023-08-11T19:31:44.906Z"
   },
   {
    "duration": 0,
    "start_time": "2023-08-11T19:31:44.907Z"
   },
   {
    "duration": 0,
    "start_time": "2023-08-11T19:31:44.908Z"
   },
   {
    "duration": 0,
    "start_time": "2023-08-11T19:31:44.909Z"
   },
   {
    "duration": 0,
    "start_time": "2023-08-11T19:31:44.910Z"
   },
   {
    "duration": 0,
    "start_time": "2023-08-11T19:31:44.911Z"
   },
   {
    "duration": 0,
    "start_time": "2023-08-11T19:31:44.911Z"
   },
   {
    "duration": 0,
    "start_time": "2023-08-11T19:31:44.912Z"
   },
   {
    "duration": 0,
    "start_time": "2023-08-11T19:31:44.916Z"
   },
   {
    "duration": 0,
    "start_time": "2023-08-11T19:31:44.916Z"
   },
   {
    "duration": 0,
    "start_time": "2023-08-11T19:31:44.917Z"
   },
   {
    "duration": 0,
    "start_time": "2023-08-11T19:31:44.918Z"
   },
   {
    "duration": 27,
    "start_time": "2023-08-11T19:34:27.326Z"
   },
   {
    "duration": 76999,
    "start_time": "2023-08-11T19:36:56.864Z"
   },
   {
    "duration": 76472,
    "start_time": "2023-08-11T19:38:42.692Z"
   },
   {
    "duration": 91,
    "start_time": "2023-08-11T19:39:59.167Z"
   },
   {
    "duration": 22,
    "start_time": "2023-08-11T19:42:01.038Z"
   },
   {
    "duration": 916,
    "start_time": "2023-08-11T19:42:03.546Z"
   },
   {
    "duration": 32804,
    "start_time": "2023-08-11T19:42:13.455Z"
   },
   {
    "duration": 181,
    "start_time": "2023-08-11T19:43:20.836Z"
   },
   {
    "duration": 12,
    "start_time": "2023-08-11T19:44:24.139Z"
   },
   {
    "duration": 22041,
    "start_time": "2023-08-11T19:45:59.408Z"
   },
   {
    "duration": 0,
    "start_time": "2023-08-11T19:46:21.451Z"
   },
   {
    "duration": 55325,
    "start_time": "2023-08-11T19:52:39.760Z"
   },
   {
    "duration": 10,
    "start_time": "2023-08-11T19:54:00.144Z"
   },
   {
    "duration": 60371,
    "start_time": "2023-08-11T19:55:47.346Z"
   },
   {
    "duration": 9,
    "start_time": "2023-08-11T19:58:06.760Z"
   },
   {
    "duration": 44,
    "start_time": "2023-08-11T19:59:27.880Z"
   },
   {
    "duration": 55581,
    "start_time": "2023-08-11T20:00:58.357Z"
   },
   {
    "duration": 71319,
    "start_time": "2023-08-11T20:04:01.027Z"
   },
   {
    "duration": 9,
    "start_time": "2023-08-11T20:05:12.347Z"
   },
   {
    "duration": 1724,
    "start_time": "2023-08-11T20:05:19.850Z"
   },
   {
    "duration": 937,
    "start_time": "2023-08-11T20:05:21.576Z"
   },
   {
    "duration": 11,
    "start_time": "2023-08-11T20:05:22.515Z"
   },
   {
    "duration": 13,
    "start_time": "2023-08-11T20:05:22.537Z"
   },
   {
    "duration": 436918,
    "start_time": "2023-08-11T20:05:22.552Z"
   },
   {
    "duration": 6,
    "start_time": "2023-08-11T20:12:39.472Z"
   },
   {
    "duration": 30478,
    "start_time": "2023-08-11T20:12:39.480Z"
   },
   {
    "duration": 47483,
    "start_time": "2023-08-11T20:13:09.960Z"
   },
   {
    "duration": 67695,
    "start_time": "2023-08-11T20:13:57.445Z"
   },
   {
    "duration": 17,
    "start_time": "2023-08-11T20:15:05.142Z"
   },
   {
    "duration": 559,
    "start_time": "2023-08-11T20:15:05.161Z"
   },
   {
    "duration": 3,
    "start_time": "2023-08-11T20:15:05.721Z"
   },
   {
    "duration": 55827,
    "start_time": "2023-08-11T20:15:05.725Z"
   },
   {
    "duration": 136,
    "start_time": "2023-08-11T20:17:05.938Z"
   },
   {
    "duration": 0,
    "start_time": "2023-08-11T20:17:06.075Z"
   },
   {
    "duration": 0,
    "start_time": "2023-08-11T20:17:06.076Z"
   },
   {
    "duration": 0,
    "start_time": "2023-08-11T20:17:06.077Z"
   },
   {
    "duration": 0,
    "start_time": "2023-08-11T20:17:06.079Z"
   },
   {
    "duration": 0,
    "start_time": "2023-08-11T20:17:06.080Z"
   },
   {
    "duration": 0,
    "start_time": "2023-08-11T20:17:06.081Z"
   },
   {
    "duration": 0,
    "start_time": "2023-08-11T20:17:06.082Z"
   },
   {
    "duration": 0,
    "start_time": "2023-08-11T20:17:06.083Z"
   },
   {
    "duration": 70059,
    "start_time": "2023-08-12T02:43:43.890Z"
   },
   {
    "duration": 100,
    "start_time": "2023-08-12T02:44:53.951Z"
   },
   {
    "duration": 570,
    "start_time": "2023-08-12T02:44:54.053Z"
   },
   {
    "duration": 44321,
    "start_time": "2023-08-12T02:44:54.625Z"
   },
   {
    "duration": 15239,
    "start_time": "2023-08-12T02:46:36.199Z"
   },
   {
    "duration": 59226,
    "start_time": "2023-08-12T02:47:04.495Z"
   },
   {
    "duration": 9,
    "start_time": "2023-08-12T02:48:03.722Z"
   },
   {
    "duration": 380,
    "start_time": "2023-08-12T02:48:46.961Z"
   },
   {
    "duration": 386596,
    "start_time": "2023-08-12T03:00:52.164Z"
   },
   {
    "duration": 0,
    "start_time": "2023-08-12T03:07:36.279Z"
   },
   {
    "duration": 0,
    "start_time": "2023-08-12T03:07:36.280Z"
   },
   {
    "duration": 0,
    "start_time": "2023-08-12T03:07:36.281Z"
   },
   {
    "duration": 0,
    "start_time": "2023-08-12T03:07:36.282Z"
   },
   {
    "duration": 0,
    "start_time": "2023-08-12T03:07:36.283Z"
   },
   {
    "duration": 1701,
    "start_time": "2023-08-12T03:41:49.237Z"
   },
   {
    "duration": 897,
    "start_time": "2023-08-12T03:41:50.940Z"
   },
   {
    "duration": 9,
    "start_time": "2023-08-12T03:41:51.839Z"
   },
   {
    "duration": 14,
    "start_time": "2023-08-12T03:41:51.849Z"
   },
   {
    "duration": 406732,
    "start_time": "2023-08-12T03:41:51.865Z"
   },
   {
    "duration": 6,
    "start_time": "2023-08-12T03:48:38.598Z"
   },
   {
    "duration": 28837,
    "start_time": "2023-08-12T03:48:38.605Z"
   },
   {
    "duration": 39103,
    "start_time": "2023-08-12T03:49:07.444Z"
   },
   {
    "duration": 62696,
    "start_time": "2023-08-12T03:49:46.549Z"
   },
   {
    "duration": 17,
    "start_time": "2023-08-12T03:50:49.247Z"
   },
   {
    "duration": 558,
    "start_time": "2023-08-12T03:50:49.266Z"
   },
   {
    "duration": 17418,
    "start_time": "2023-08-12T03:50:49.825Z"
   },
   {
    "duration": 51194,
    "start_time": "2023-08-12T03:51:07.245Z"
   },
   {
    "duration": 61370,
    "start_time": "2023-08-12T03:51:58.442Z"
   },
   {
    "duration": 9,
    "start_time": "2023-08-12T03:52:59.814Z"
   },
   {
    "duration": 61,
    "start_time": "2023-08-12T09:23:54.042Z"
   },
   {
    "duration": 2870,
    "start_time": "2023-08-12T09:24:38.782Z"
   },
   {
    "duration": 237,
    "start_time": "2023-08-12T09:24:47.232Z"
   },
   {
    "duration": 11,
    "start_time": "2023-08-12T09:24:59.582Z"
   },
   {
    "duration": 3996,
    "start_time": "2023-08-12T09:24:59.595Z"
   },
   {
    "duration": 15,
    "start_time": "2023-08-12T09:25:03.593Z"
   },
   {
    "duration": 29,
    "start_time": "2023-08-12T09:25:03.610Z"
   },
   {
    "duration": 563831,
    "start_time": "2023-08-12T09:25:03.643Z"
   },
   {
    "duration": 7,
    "start_time": "2023-08-12T09:34:27.476Z"
   },
   {
    "duration": 37574,
    "start_time": "2023-08-12T09:34:27.485Z"
   },
   {
    "duration": 54408,
    "start_time": "2023-08-12T09:35:05.063Z"
   },
   {
    "duration": 84100,
    "start_time": "2023-08-12T09:35:59.473Z"
   },
   {
    "duration": 33,
    "start_time": "2023-08-12T09:37:23.575Z"
   },
   {
    "duration": 828,
    "start_time": "2023-08-12T09:37:23.610Z"
   },
   {
    "duration": 37523,
    "start_time": "2023-08-12T09:37:24.440Z"
   },
   {
    "duration": 70908,
    "start_time": "2023-08-12T09:38:01.971Z"
   },
   {
    "duration": 88499,
    "start_time": "2023-08-12T09:39:12.885Z"
   },
   {
    "duration": 10,
    "start_time": "2023-08-12T09:40:41.386Z"
   },
   {
    "duration": 528809,
    "start_time": "2023-08-12T09:40:41.398Z"
   },
   {
    "duration": 0,
    "start_time": "2023-08-12T09:49:50.821Z"
   },
   {
    "duration": 0,
    "start_time": "2023-08-12T09:49:50.822Z"
   },
   {
    "duration": 0,
    "start_time": "2023-08-12T09:49:50.823Z"
   },
   {
    "duration": 0,
    "start_time": "2023-08-12T09:49:50.825Z"
   },
   {
    "duration": 0,
    "start_time": "2023-08-12T09:49:50.826Z"
   },
   {
    "duration": 0,
    "start_time": "2023-08-12T09:49:50.827Z"
   },
   {
    "duration": 22635,
    "start_time": "2023-08-12T10:03:26.095Z"
   },
   {
    "duration": 0,
    "start_time": "2023-08-12T10:03:48.732Z"
   },
   {
    "duration": 0,
    "start_time": "2023-08-12T10:03:48.734Z"
   },
   {
    "duration": 0,
    "start_time": "2023-08-12T10:03:48.735Z"
   },
   {
    "duration": 0,
    "start_time": "2023-08-12T10:03:48.735Z"
   },
   {
    "duration": 0,
    "start_time": "2023-08-12T10:03:48.736Z"
   },
   {
    "duration": 20278,
    "start_time": "2023-08-12T10:35:52.416Z"
   },
   {
    "duration": 0,
    "start_time": "2023-08-12T11:07:07.020Z"
   },
   {
    "duration": 0,
    "start_time": "2023-08-12T11:07:07.022Z"
   },
   {
    "duration": 0,
    "start_time": "2023-08-12T11:07:07.023Z"
   },
   {
    "duration": 0,
    "start_time": "2023-08-12T11:07:07.025Z"
   },
   {
    "duration": 0,
    "start_time": "2023-08-12T11:07:07.027Z"
   },
   {
    "duration": 0,
    "start_time": "2023-08-12T11:07:07.028Z"
   },
   {
    "duration": 0,
    "start_time": "2023-08-12T11:07:07.060Z"
   },
   {
    "duration": 1894,
    "start_time": "2023-08-12T11:20:39.174Z"
   },
   {
    "duration": 931,
    "start_time": "2023-08-12T11:20:41.073Z"
   },
   {
    "duration": 14,
    "start_time": "2023-08-12T11:20:42.006Z"
   },
   {
    "duration": 15,
    "start_time": "2023-08-12T11:20:42.022Z"
   },
   {
    "duration": 542724,
    "start_time": "2023-08-12T11:20:42.039Z"
   },
   {
    "duration": 8,
    "start_time": "2023-08-12T11:29:44.773Z"
   },
   {
    "duration": 40181,
    "start_time": "2023-08-12T11:29:44.783Z"
   },
   {
    "duration": 56004,
    "start_time": "2023-08-12T11:30:24.973Z"
   },
   {
    "duration": 83812,
    "start_time": "2023-08-12T11:31:20.979Z"
   },
   {
    "duration": 36,
    "start_time": "2023-08-12T11:32:44.856Z"
   },
   {
    "duration": 692,
    "start_time": "2023-08-12T11:32:44.894Z"
   },
   {
    "duration": 36785,
    "start_time": "2023-08-12T11:32:45.588Z"
   },
   {
    "duration": 72988,
    "start_time": "2023-08-12T11:33:22.375Z"
   },
   {
    "duration": 89217,
    "start_time": "2023-08-12T11:34:35.370Z"
   },
   {
    "duration": 12,
    "start_time": "2023-08-12T11:36:04.589Z"
   }
  ],
  "kernelspec": {
   "display_name": "Python 3 (ipykernel)",
   "language": "python",
   "name": "python3"
  },
  "language_info": {
   "codemirror_mode": {
    "name": "ipython",
    "version": 3
   },
   "file_extension": ".py",
   "mimetype": "text/x-python",
   "name": "python",
   "nbconvert_exporter": "python",
   "pygments_lexer": "ipython3",
   "version": "3.9.5"
  },
  "toc": {
   "base_numbering": 1,
   "nav_menu": {},
   "number_sections": true,
   "sideBar": true,
   "skip_h1_title": true,
   "title_cell": "Содержание",
   "title_sidebar": "Contents",
   "toc_cell": true,
   "toc_position": {
    "height": "calc(100% - 180px)",
    "left": "10px",
    "top": "150px",
    "width": "302.391px"
   },
   "toc_section_display": true,
   "toc_window_display": false
  }
 },
 "nbformat": 4,
 "nbformat_minor": 2
}
