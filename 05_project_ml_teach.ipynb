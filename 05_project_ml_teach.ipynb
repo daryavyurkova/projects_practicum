{
 "cells": [
  {
   "cell_type": "markdown",
   "metadata": {
    "toc": true
   },
   "source": [
    "<h1>Содержание<span class=\"tocSkip\"></span></h1>\n",
    "<div class=\"toc\"><ul class=\"toc-item\"><li><span><a href=\"#Подготовка-данных\" data-toc-modified-id=\"Подготовка-данных-1\"><span class=\"toc-item-num\">1&nbsp;&nbsp;</span>Подготовка данных</a></span></li><li><span><a href=\"#Исследование-задачи\" data-toc-modified-id=\"Исследование-задачи-2\"><span class=\"toc-item-num\">2&nbsp;&nbsp;</span>Исследование задачи</a></span></li><li><span><a href=\"#Борьба-с-дисбалансом\" data-toc-modified-id=\"Борьба-с-дисбалансом-3\"><span class=\"toc-item-num\">3&nbsp;&nbsp;</span>Борьба с дисбалансом</a></span></li><li><span><a href=\"#Тестирование-модели\" data-toc-modified-id=\"Тестирование-модели-4\"><span class=\"toc-item-num\">4&nbsp;&nbsp;</span>Тестирование модели</a></span></li><li><span><a href=\"#Общие-выводы-исследования\" data-toc-modified-id=\"Общие-выводы-исследования-5\"><span class=\"toc-item-num\">5&nbsp;&nbsp;</span>Общие выводы исследования</a></span></li><li><span><a href=\"#Чек-лист-готовности-проекта\" data-toc-modified-id=\"Чек-лист-готовности-проекта-6\"><span class=\"toc-item-num\">6&nbsp;&nbsp;</span>Чек-лист готовности проекта</a></span></li></ul></div>"
   ]
  },
  {
   "cell_type": "markdown",
   "metadata": {},
   "source": [
    "# Отток клиентов"
   ]
  },
  {
   "cell_type": "markdown",
   "metadata": {},
   "source": [
    "Из «Бета-Банка» стали уходить клиенты. Каждый месяц. Немного, но заметно. Банковские маркетологи посчитали: сохранять текущих клиентов дешевле, чем привлекать новых. Нужно спрогнозировать, уйдёт клиент из банка в ближайшее время или нет. Нам предоставлены исторические данные о поведении клиентов и расторжении договоров с банком. "
   ]
  },
  {
   "cell_type": "markdown",
   "metadata": {},
   "source": [
    "**Цели исследования:**\n",
    "\n",
    "1. Построить модель с предельно большим значением F1-меры.\n",
    "2. Достичь F1-меры не менее 0.59.\n",
    "3. Проверить F1-меру на тестовой выборке.\n",
    "4. Измерять AUC-ROC, сравнивать её значение с F1-мерой.\n",
    "\n",
    "**Ход исследования**\n",
    "<br>\n",
    "1. Изучение общей информации, подготовка данных \n",
    "<br>\n",
    "Загрузить данные, изучить их, подготовить к дальнейшей работе.\n",
    "<br>\n",
    "2. Исследование задачи.\n",
    "<br>\n",
    "На этом этапе исследуем баланс классов, приступим к обучению модели.\n",
    "<br>\n",
    "3. Борьба с дисбалансом. \n",
    "<br>\n",
    "Учтём дисбаланс классов и улучшим качество модели, обучим разные модели, выберем лучшую.\n",
    "<br>\n",
    "4. Тестирование модели.\n",
    "<br>\n",
    "Проведём финальное тестирование на тестовой выборке.\n",
    "<br>\n",
    "5. Чек-лист готовности проекта. \n",
    "<br>\n",
    "Проверим качество выполненной работы по чек-листу.\n",
    "<br>\n",
    "**Описание данных**\n",
    "<br>\n",
    "<br>\n",
    "*Признаки:*\n",
    "<br>\n",
    "<br>\n",
    "RowNumber — индекс строки в данных <br>\n",
    "CustomerId — уникальный идентификатор клиента<br>\n",
    "Surname — фамилия<br>\n",
    "CreditScore — кредитный рейтинг<br>\n",
    "Geography — страна проживания<br>\n",
    "Gender — пол<br>\n",
    "Age — возраст<br>\n",
    "Tenure — сколько лет человек является клиентом банка<br>\n",
    "Balance — баланс на счёте<br>\n",
    "NumOfProducts — количество продуктов банка, используемых клиентом<br>\n",
    "HasCrCard — наличие кредитной карты<br>\n",
    "IsActiveMember — активность клиента<br>\n",
    "EstimatedSalary — предполагаемая зарплата<br>\n",
    "<br>\n",
    "*Целевой признак:*\n",
    "<br>\n",
    "<br>\n",
    "Exited — факт ухода клиента<br>"
   ]
  },
  {
   "cell_type": "markdown",
   "metadata": {},
   "source": [
    "## Подготовка данных"
   ]
  },
  {
   "cell_type": "markdown",
   "metadata": {},
   "source": [
    "**Загрузка данных и необходимых библиотек**"
   ]
  },
  {
   "cell_type": "code",
   "execution_count": 390,
   "metadata": {},
   "outputs": [
    {
     "name": "stdout",
     "output_type": "stream",
     "text": [
      "Requirement already satisfied: scikit-learn==1.1.3 in /opt/conda/lib/python3.9/site-packages (1.1.3)\n",
      "Requirement already satisfied: joblib>=1.0.0 in /opt/conda/lib/python3.9/site-packages (from scikit-learn==1.1.3) (1.2.0)\n",
      "Requirement already satisfied: threadpoolctl>=2.0.0 in /opt/conda/lib/python3.9/site-packages (from scikit-learn==1.1.3) (3.1.0)\n",
      "Requirement already satisfied: scipy>=1.3.2 in /opt/conda/lib/python3.9/site-packages (from scikit-learn==1.1.3) (1.9.1)\n",
      "Requirement already satisfied: numpy>=1.17.3 in /opt/conda/lib/python3.9/site-packages (from scikit-learn==1.1.3) (1.21.1)\n",
      "Requirement already satisfied: imblearn in /opt/conda/lib/python3.9/site-packages (0.0)\n",
      "Requirement already satisfied: imbalanced-learn in /opt/conda/lib/python3.9/site-packages (from imblearn) (0.10.1)\n",
      "Requirement already satisfied: scikit-learn>=1.0.2 in /opt/conda/lib/python3.9/site-packages (from imbalanced-learn->imblearn) (1.1.3)\n",
      "Requirement already satisfied: threadpoolctl>=2.0.0 in /opt/conda/lib/python3.9/site-packages (from imbalanced-learn->imblearn) (3.1.0)\n",
      "Requirement already satisfied: scipy>=1.3.2 in /opt/conda/lib/python3.9/site-packages (from imbalanced-learn->imblearn) (1.9.1)\n",
      "Requirement already satisfied: joblib>=1.1.1 in /opt/conda/lib/python3.9/site-packages (from imbalanced-learn->imblearn) (1.2.0)\n",
      "Requirement already satisfied: numpy>=1.17.3 in /opt/conda/lib/python3.9/site-packages (from imbalanced-learn->imblearn) (1.21.1)\n"
     ]
    }
   ],
   "source": [
    "!pip install scikit-learn==1.1.3\n",
    "!pip install imblearn\n",
    "\n",
    "# загрузим все необходимые библиотеки \n",
    "import pandas as pd\n",
    "import numpy as np\n",
    "import matplotlib.pyplot as plt\n",
    "import seaborn as sns\n",
    "import statsmodels.api as sm\n",
    "import scipy\n",
    "import math\n",
    "import time\n",
    "import warnings\n",
    "warnings.filterwarnings('ignore')\n",
    "RANDOM_STATE = 42\n",
    "\n",
    "from sklearn.linear_model import LogisticRegression, LinearRegression\n",
    "from sklearn.tree import DecisionTreeClassifier\n",
    "from sklearn.ensemble import RandomForestClassifier, RandomForestRegressor\n",
    "from sklearn.tree import DecisionTreeRegressor\n",
    "\n",
    "from sklearn.model_selection import train_test_split\n",
    "from sklearn.metrics import (\n",
    "    accuracy_score, \n",
    "    recall_score, \n",
    "    precision_recall_curve, \n",
    "    roc_curve, \n",
    "    roc_auc_score,\n",
    "    precision_score, \n",
    "    confusion_matrix, \n",
    "    plot_confusion_matrix, \n",
    "    f1_score\n",
    ")\n",
    "from sklearn.preprocessing import OneHotEncoder\n",
    "from sklearn.preprocessing import StandardScaler\n",
    "from sklearn.utils import shuffle\n",
    "from sklearn.dummy import DummyClassifier\n",
    "from imblearn.over_sampling import SMOTE"
   ]
  },
  {
   "cell_type": "code",
   "execution_count": 391,
   "metadata": {
    "scrolled": true
   },
   "outputs": [
    {
     "data": {
      "text/html": [
       "<div>\n",
       "<style scoped>\n",
       "    .dataframe tbody tr th:only-of-type {\n",
       "        vertical-align: middle;\n",
       "    }\n",
       "\n",
       "    .dataframe tbody tr th {\n",
       "        vertical-align: top;\n",
       "    }\n",
       "\n",
       "    .dataframe thead th {\n",
       "        text-align: right;\n",
       "    }\n",
       "</style>\n",
       "<table border=\"1\" class=\"dataframe\">\n",
       "  <thead>\n",
       "    <tr style=\"text-align: right;\">\n",
       "      <th></th>\n",
       "      <th>RowNumber</th>\n",
       "      <th>CustomerId</th>\n",
       "      <th>Surname</th>\n",
       "      <th>CreditScore</th>\n",
       "      <th>Geography</th>\n",
       "      <th>Gender</th>\n",
       "      <th>Age</th>\n",
       "      <th>Tenure</th>\n",
       "      <th>Balance</th>\n",
       "      <th>NumOfProducts</th>\n",
       "      <th>HasCrCard</th>\n",
       "      <th>IsActiveMember</th>\n",
       "      <th>EstimatedSalary</th>\n",
       "      <th>Exited</th>\n",
       "    </tr>\n",
       "  </thead>\n",
       "  <tbody>\n",
       "    <tr>\n",
       "      <th>0</th>\n",
       "      <td>1</td>\n",
       "      <td>15634602</td>\n",
       "      <td>Hargrave</td>\n",
       "      <td>619</td>\n",
       "      <td>France</td>\n",
       "      <td>Female</td>\n",
       "      <td>42</td>\n",
       "      <td>2.0</td>\n",
       "      <td>0.00</td>\n",
       "      <td>1</td>\n",
       "      <td>1</td>\n",
       "      <td>1</td>\n",
       "      <td>101348.88</td>\n",
       "      <td>1</td>\n",
       "    </tr>\n",
       "    <tr>\n",
       "      <th>1</th>\n",
       "      <td>2</td>\n",
       "      <td>15647311</td>\n",
       "      <td>Hill</td>\n",
       "      <td>608</td>\n",
       "      <td>Spain</td>\n",
       "      <td>Female</td>\n",
       "      <td>41</td>\n",
       "      <td>1.0</td>\n",
       "      <td>83807.86</td>\n",
       "      <td>1</td>\n",
       "      <td>0</td>\n",
       "      <td>1</td>\n",
       "      <td>112542.58</td>\n",
       "      <td>0</td>\n",
       "    </tr>\n",
       "    <tr>\n",
       "      <th>2</th>\n",
       "      <td>3</td>\n",
       "      <td>15619304</td>\n",
       "      <td>Onio</td>\n",
       "      <td>502</td>\n",
       "      <td>France</td>\n",
       "      <td>Female</td>\n",
       "      <td>42</td>\n",
       "      <td>8.0</td>\n",
       "      <td>159660.80</td>\n",
       "      <td>3</td>\n",
       "      <td>1</td>\n",
       "      <td>0</td>\n",
       "      <td>113931.57</td>\n",
       "      <td>1</td>\n",
       "    </tr>\n",
       "    <tr>\n",
       "      <th>3</th>\n",
       "      <td>4</td>\n",
       "      <td>15701354</td>\n",
       "      <td>Boni</td>\n",
       "      <td>699</td>\n",
       "      <td>France</td>\n",
       "      <td>Female</td>\n",
       "      <td>39</td>\n",
       "      <td>1.0</td>\n",
       "      <td>0.00</td>\n",
       "      <td>2</td>\n",
       "      <td>0</td>\n",
       "      <td>0</td>\n",
       "      <td>93826.63</td>\n",
       "      <td>0</td>\n",
       "    </tr>\n",
       "    <tr>\n",
       "      <th>4</th>\n",
       "      <td>5</td>\n",
       "      <td>15737888</td>\n",
       "      <td>Mitchell</td>\n",
       "      <td>850</td>\n",
       "      <td>Spain</td>\n",
       "      <td>Female</td>\n",
       "      <td>43</td>\n",
       "      <td>2.0</td>\n",
       "      <td>125510.82</td>\n",
       "      <td>1</td>\n",
       "      <td>1</td>\n",
       "      <td>1</td>\n",
       "      <td>79084.10</td>\n",
       "      <td>0</td>\n",
       "    </tr>\n",
       "  </tbody>\n",
       "</table>\n",
       "</div>"
      ],
      "text/plain": [
       "   RowNumber  CustomerId   Surname  CreditScore Geography  Gender  Age  \\\n",
       "0          1    15634602  Hargrave          619    France  Female   42   \n",
       "1          2    15647311      Hill          608     Spain  Female   41   \n",
       "2          3    15619304      Onio          502    France  Female   42   \n",
       "3          4    15701354      Boni          699    France  Female   39   \n",
       "4          5    15737888  Mitchell          850     Spain  Female   43   \n",
       "\n",
       "   Tenure    Balance  NumOfProducts  HasCrCard  IsActiveMember  \\\n",
       "0     2.0       0.00              1          1               1   \n",
       "1     1.0   83807.86              1          0               1   \n",
       "2     8.0  159660.80              3          1               0   \n",
       "3     1.0       0.00              2          0               0   \n",
       "4     2.0  125510.82              1          1               1   \n",
       "\n",
       "   EstimatedSalary  Exited  \n",
       "0        101348.88       1  \n",
       "1        112542.58       0  \n",
       "2        113931.57       1  \n",
       "3         93826.63       0  \n",
       "4         79084.10       0  "
      ]
     },
     "execution_count": 391,
     "metadata": {},
     "output_type": "execute_result"
    }
   ],
   "source": [
    "data = pd.read_csv('/datasets/Churn.csv')\n",
    "data.head()"
   ]
  },
  {
   "cell_type": "markdown",
   "metadata": {},
   "source": [
    "**Изучение данных о датасете**"
   ]
  },
  {
   "cell_type": "code",
   "execution_count": 392,
   "metadata": {},
   "outputs": [
    {
     "name": "stdout",
     "output_type": "stream",
     "text": [
      "<class 'pandas.core.frame.DataFrame'>\n",
      "RangeIndex: 10000 entries, 0 to 9999\n",
      "Data columns (total 14 columns):\n",
      " #   Column           Non-Null Count  Dtype  \n",
      "---  ------           --------------  -----  \n",
      " 0   RowNumber        10000 non-null  int64  \n",
      " 1   CustomerId       10000 non-null  int64  \n",
      " 2   Surname          10000 non-null  object \n",
      " 3   CreditScore      10000 non-null  int64  \n",
      " 4   Geography        10000 non-null  object \n",
      " 5   Gender           10000 non-null  object \n",
      " 6   Age              10000 non-null  int64  \n",
      " 7   Tenure           9091 non-null   float64\n",
      " 8   Balance          10000 non-null  float64\n",
      " 9   NumOfProducts    10000 non-null  int64  \n",
      " 10  HasCrCard        10000 non-null  int64  \n",
      " 11  IsActiveMember   10000 non-null  int64  \n",
      " 12  EstimatedSalary  10000 non-null  float64\n",
      " 13  Exited           10000 non-null  int64  \n",
      "dtypes: float64(3), int64(8), object(3)\n",
      "memory usage: 1.1+ MB\n"
     ]
    }
   ],
   "source": [
    "# посмотрим информацию о датасете\n",
    "data.info()"
   ]
  },
  {
   "cell_type": "code",
   "execution_count": 393,
   "metadata": {
    "scrolled": true
   },
   "outputs": [
    {
     "data": {
      "text/html": [
       "<div>\n",
       "<style scoped>\n",
       "    .dataframe tbody tr th:only-of-type {\n",
       "        vertical-align: middle;\n",
       "    }\n",
       "\n",
       "    .dataframe tbody tr th {\n",
       "        vertical-align: top;\n",
       "    }\n",
       "\n",
       "    .dataframe thead th {\n",
       "        text-align: right;\n",
       "    }\n",
       "</style>\n",
       "<table border=\"1\" class=\"dataframe\">\n",
       "  <thead>\n",
       "    <tr style=\"text-align: right;\">\n",
       "      <th></th>\n",
       "      <th>RowNumber</th>\n",
       "      <th>CustomerId</th>\n",
       "      <th>CreditScore</th>\n",
       "      <th>Age</th>\n",
       "      <th>Tenure</th>\n",
       "      <th>Balance</th>\n",
       "      <th>NumOfProducts</th>\n",
       "      <th>HasCrCard</th>\n",
       "      <th>IsActiveMember</th>\n",
       "      <th>EstimatedSalary</th>\n",
       "      <th>Exited</th>\n",
       "    </tr>\n",
       "  </thead>\n",
       "  <tbody>\n",
       "    <tr>\n",
       "      <th>count</th>\n",
       "      <td>10000.00000</td>\n",
       "      <td>1.000000e+04</td>\n",
       "      <td>10000.000000</td>\n",
       "      <td>10000.000000</td>\n",
       "      <td>9091.000000</td>\n",
       "      <td>10000.000000</td>\n",
       "      <td>10000.000000</td>\n",
       "      <td>10000.00000</td>\n",
       "      <td>10000.000000</td>\n",
       "      <td>10000.000000</td>\n",
       "      <td>10000.000000</td>\n",
       "    </tr>\n",
       "    <tr>\n",
       "      <th>mean</th>\n",
       "      <td>5000.50000</td>\n",
       "      <td>1.569094e+07</td>\n",
       "      <td>650.528800</td>\n",
       "      <td>38.921800</td>\n",
       "      <td>4.997690</td>\n",
       "      <td>76485.889288</td>\n",
       "      <td>1.530200</td>\n",
       "      <td>0.70550</td>\n",
       "      <td>0.515100</td>\n",
       "      <td>100090.239881</td>\n",
       "      <td>0.203700</td>\n",
       "    </tr>\n",
       "    <tr>\n",
       "      <th>std</th>\n",
       "      <td>2886.89568</td>\n",
       "      <td>7.193619e+04</td>\n",
       "      <td>96.653299</td>\n",
       "      <td>10.487806</td>\n",
       "      <td>2.894723</td>\n",
       "      <td>62397.405202</td>\n",
       "      <td>0.581654</td>\n",
       "      <td>0.45584</td>\n",
       "      <td>0.499797</td>\n",
       "      <td>57510.492818</td>\n",
       "      <td>0.402769</td>\n",
       "    </tr>\n",
       "    <tr>\n",
       "      <th>min</th>\n",
       "      <td>1.00000</td>\n",
       "      <td>1.556570e+07</td>\n",
       "      <td>350.000000</td>\n",
       "      <td>18.000000</td>\n",
       "      <td>0.000000</td>\n",
       "      <td>0.000000</td>\n",
       "      <td>1.000000</td>\n",
       "      <td>0.00000</td>\n",
       "      <td>0.000000</td>\n",
       "      <td>11.580000</td>\n",
       "      <td>0.000000</td>\n",
       "    </tr>\n",
       "    <tr>\n",
       "      <th>25%</th>\n",
       "      <td>2500.75000</td>\n",
       "      <td>1.562853e+07</td>\n",
       "      <td>584.000000</td>\n",
       "      <td>32.000000</td>\n",
       "      <td>2.000000</td>\n",
       "      <td>0.000000</td>\n",
       "      <td>1.000000</td>\n",
       "      <td>0.00000</td>\n",
       "      <td>0.000000</td>\n",
       "      <td>51002.110000</td>\n",
       "      <td>0.000000</td>\n",
       "    </tr>\n",
       "    <tr>\n",
       "      <th>50%</th>\n",
       "      <td>5000.50000</td>\n",
       "      <td>1.569074e+07</td>\n",
       "      <td>652.000000</td>\n",
       "      <td>37.000000</td>\n",
       "      <td>5.000000</td>\n",
       "      <td>97198.540000</td>\n",
       "      <td>1.000000</td>\n",
       "      <td>1.00000</td>\n",
       "      <td>1.000000</td>\n",
       "      <td>100193.915000</td>\n",
       "      <td>0.000000</td>\n",
       "    </tr>\n",
       "    <tr>\n",
       "      <th>75%</th>\n",
       "      <td>7500.25000</td>\n",
       "      <td>1.575323e+07</td>\n",
       "      <td>718.000000</td>\n",
       "      <td>44.000000</td>\n",
       "      <td>7.000000</td>\n",
       "      <td>127644.240000</td>\n",
       "      <td>2.000000</td>\n",
       "      <td>1.00000</td>\n",
       "      <td>1.000000</td>\n",
       "      <td>149388.247500</td>\n",
       "      <td>0.000000</td>\n",
       "    </tr>\n",
       "    <tr>\n",
       "      <th>max</th>\n",
       "      <td>10000.00000</td>\n",
       "      <td>1.581569e+07</td>\n",
       "      <td>850.000000</td>\n",
       "      <td>92.000000</td>\n",
       "      <td>10.000000</td>\n",
       "      <td>250898.090000</td>\n",
       "      <td>4.000000</td>\n",
       "      <td>1.00000</td>\n",
       "      <td>1.000000</td>\n",
       "      <td>199992.480000</td>\n",
       "      <td>1.000000</td>\n",
       "    </tr>\n",
       "  </tbody>\n",
       "</table>\n",
       "</div>"
      ],
      "text/plain": [
       "         RowNumber    CustomerId   CreditScore           Age       Tenure  \\\n",
       "count  10000.00000  1.000000e+04  10000.000000  10000.000000  9091.000000   \n",
       "mean    5000.50000  1.569094e+07    650.528800     38.921800     4.997690   \n",
       "std     2886.89568  7.193619e+04     96.653299     10.487806     2.894723   \n",
       "min        1.00000  1.556570e+07    350.000000     18.000000     0.000000   \n",
       "25%     2500.75000  1.562853e+07    584.000000     32.000000     2.000000   \n",
       "50%     5000.50000  1.569074e+07    652.000000     37.000000     5.000000   \n",
       "75%     7500.25000  1.575323e+07    718.000000     44.000000     7.000000   \n",
       "max    10000.00000  1.581569e+07    850.000000     92.000000    10.000000   \n",
       "\n",
       "             Balance  NumOfProducts    HasCrCard  IsActiveMember  \\\n",
       "count   10000.000000   10000.000000  10000.00000    10000.000000   \n",
       "mean    76485.889288       1.530200      0.70550        0.515100   \n",
       "std     62397.405202       0.581654      0.45584        0.499797   \n",
       "min         0.000000       1.000000      0.00000        0.000000   \n",
       "25%         0.000000       1.000000      0.00000        0.000000   \n",
       "50%     97198.540000       1.000000      1.00000        1.000000   \n",
       "75%    127644.240000       2.000000      1.00000        1.000000   \n",
       "max    250898.090000       4.000000      1.00000        1.000000   \n",
       "\n",
       "       EstimatedSalary        Exited  \n",
       "count     10000.000000  10000.000000  \n",
       "mean     100090.239881      0.203700  \n",
       "std       57510.492818      0.402769  \n",
       "min          11.580000      0.000000  \n",
       "25%       51002.110000      0.000000  \n",
       "50%      100193.915000      0.000000  \n",
       "75%      149388.247500      0.000000  \n",
       "max      199992.480000      1.000000  "
      ]
     },
     "execution_count": 393,
     "metadata": {},
     "output_type": "execute_result"
    }
   ],
   "source": [
    "data.describe()"
   ]
  },
  {
   "cell_type": "code",
   "execution_count": 394,
   "metadata": {},
   "outputs": [
    {
     "data": {
      "text/html": [
       "<div>\n",
       "<style scoped>\n",
       "    .dataframe tbody tr th:only-of-type {\n",
       "        vertical-align: middle;\n",
       "    }\n",
       "\n",
       "    .dataframe tbody tr th {\n",
       "        vertical-align: top;\n",
       "    }\n",
       "\n",
       "    .dataframe thead th {\n",
       "        text-align: right;\n",
       "    }\n",
       "</style>\n",
       "<table border=\"1\" class=\"dataframe\">\n",
       "  <thead>\n",
       "    <tr style=\"text-align: right;\">\n",
       "      <th></th>\n",
       "      <th>count</th>\n",
       "      <th>unique</th>\n",
       "      <th>top</th>\n",
       "      <th>freq</th>\n",
       "      <th>mean</th>\n",
       "      <th>std</th>\n",
       "      <th>min</th>\n",
       "      <th>25%</th>\n",
       "      <th>50%</th>\n",
       "      <th>75%</th>\n",
       "      <th>max</th>\n",
       "    </tr>\n",
       "  </thead>\n",
       "  <tbody>\n",
       "    <tr>\n",
       "      <th>RowNumber</th>\n",
       "      <td>10000.0</td>\n",
       "      <td>NaN</td>\n",
       "      <td>NaN</td>\n",
       "      <td>NaN</td>\n",
       "      <td>5000.5</td>\n",
       "      <td>2886.89568</td>\n",
       "      <td>1.0</td>\n",
       "      <td>2500.75</td>\n",
       "      <td>5000.5</td>\n",
       "      <td>7500.25</td>\n",
       "      <td>10000.0</td>\n",
       "    </tr>\n",
       "    <tr>\n",
       "      <th>CustomerId</th>\n",
       "      <td>10000.0</td>\n",
       "      <td>NaN</td>\n",
       "      <td>NaN</td>\n",
       "      <td>NaN</td>\n",
       "      <td>15690940.5694</td>\n",
       "      <td>71936.186123</td>\n",
       "      <td>15565701.0</td>\n",
       "      <td>15628528.25</td>\n",
       "      <td>15690738.0</td>\n",
       "      <td>15753233.75</td>\n",
       "      <td>15815690.0</td>\n",
       "    </tr>\n",
       "    <tr>\n",
       "      <th>Surname</th>\n",
       "      <td>10000</td>\n",
       "      <td>2932</td>\n",
       "      <td>Smith</td>\n",
       "      <td>32</td>\n",
       "      <td>NaN</td>\n",
       "      <td>NaN</td>\n",
       "      <td>NaN</td>\n",
       "      <td>NaN</td>\n",
       "      <td>NaN</td>\n",
       "      <td>NaN</td>\n",
       "      <td>NaN</td>\n",
       "    </tr>\n",
       "    <tr>\n",
       "      <th>CreditScore</th>\n",
       "      <td>10000.0</td>\n",
       "      <td>NaN</td>\n",
       "      <td>NaN</td>\n",
       "      <td>NaN</td>\n",
       "      <td>650.5288</td>\n",
       "      <td>96.653299</td>\n",
       "      <td>350.0</td>\n",
       "      <td>584.0</td>\n",
       "      <td>652.0</td>\n",
       "      <td>718.0</td>\n",
       "      <td>850.0</td>\n",
       "    </tr>\n",
       "    <tr>\n",
       "      <th>Geography</th>\n",
       "      <td>10000</td>\n",
       "      <td>3</td>\n",
       "      <td>France</td>\n",
       "      <td>5014</td>\n",
       "      <td>NaN</td>\n",
       "      <td>NaN</td>\n",
       "      <td>NaN</td>\n",
       "      <td>NaN</td>\n",
       "      <td>NaN</td>\n",
       "      <td>NaN</td>\n",
       "      <td>NaN</td>\n",
       "    </tr>\n",
       "    <tr>\n",
       "      <th>Gender</th>\n",
       "      <td>10000</td>\n",
       "      <td>2</td>\n",
       "      <td>Male</td>\n",
       "      <td>5457</td>\n",
       "      <td>NaN</td>\n",
       "      <td>NaN</td>\n",
       "      <td>NaN</td>\n",
       "      <td>NaN</td>\n",
       "      <td>NaN</td>\n",
       "      <td>NaN</td>\n",
       "      <td>NaN</td>\n",
       "    </tr>\n",
       "    <tr>\n",
       "      <th>Age</th>\n",
       "      <td>10000.0</td>\n",
       "      <td>NaN</td>\n",
       "      <td>NaN</td>\n",
       "      <td>NaN</td>\n",
       "      <td>38.9218</td>\n",
       "      <td>10.487806</td>\n",
       "      <td>18.0</td>\n",
       "      <td>32.0</td>\n",
       "      <td>37.0</td>\n",
       "      <td>44.0</td>\n",
       "      <td>92.0</td>\n",
       "    </tr>\n",
       "    <tr>\n",
       "      <th>Tenure</th>\n",
       "      <td>9091.0</td>\n",
       "      <td>NaN</td>\n",
       "      <td>NaN</td>\n",
       "      <td>NaN</td>\n",
       "      <td>4.99769</td>\n",
       "      <td>2.894723</td>\n",
       "      <td>0.0</td>\n",
       "      <td>2.0</td>\n",
       "      <td>5.0</td>\n",
       "      <td>7.0</td>\n",
       "      <td>10.0</td>\n",
       "    </tr>\n",
       "    <tr>\n",
       "      <th>Balance</th>\n",
       "      <td>10000.0</td>\n",
       "      <td>NaN</td>\n",
       "      <td>NaN</td>\n",
       "      <td>NaN</td>\n",
       "      <td>76485.889288</td>\n",
       "      <td>62397.405202</td>\n",
       "      <td>0.0</td>\n",
       "      <td>0.0</td>\n",
       "      <td>97198.54</td>\n",
       "      <td>127644.24</td>\n",
       "      <td>250898.09</td>\n",
       "    </tr>\n",
       "    <tr>\n",
       "      <th>NumOfProducts</th>\n",
       "      <td>10000.0</td>\n",
       "      <td>NaN</td>\n",
       "      <td>NaN</td>\n",
       "      <td>NaN</td>\n",
       "      <td>1.5302</td>\n",
       "      <td>0.581654</td>\n",
       "      <td>1.0</td>\n",
       "      <td>1.0</td>\n",
       "      <td>1.0</td>\n",
       "      <td>2.0</td>\n",
       "      <td>4.0</td>\n",
       "    </tr>\n",
       "    <tr>\n",
       "      <th>HasCrCard</th>\n",
       "      <td>10000.0</td>\n",
       "      <td>NaN</td>\n",
       "      <td>NaN</td>\n",
       "      <td>NaN</td>\n",
       "      <td>0.7055</td>\n",
       "      <td>0.45584</td>\n",
       "      <td>0.0</td>\n",
       "      <td>0.0</td>\n",
       "      <td>1.0</td>\n",
       "      <td>1.0</td>\n",
       "      <td>1.0</td>\n",
       "    </tr>\n",
       "    <tr>\n",
       "      <th>IsActiveMember</th>\n",
       "      <td>10000.0</td>\n",
       "      <td>NaN</td>\n",
       "      <td>NaN</td>\n",
       "      <td>NaN</td>\n",
       "      <td>0.5151</td>\n",
       "      <td>0.499797</td>\n",
       "      <td>0.0</td>\n",
       "      <td>0.0</td>\n",
       "      <td>1.0</td>\n",
       "      <td>1.0</td>\n",
       "      <td>1.0</td>\n",
       "    </tr>\n",
       "    <tr>\n",
       "      <th>EstimatedSalary</th>\n",
       "      <td>10000.0</td>\n",
       "      <td>NaN</td>\n",
       "      <td>NaN</td>\n",
       "      <td>NaN</td>\n",
       "      <td>100090.239881</td>\n",
       "      <td>57510.492818</td>\n",
       "      <td>11.58</td>\n",
       "      <td>51002.11</td>\n",
       "      <td>100193.915</td>\n",
       "      <td>149388.2475</td>\n",
       "      <td>199992.48</td>\n",
       "    </tr>\n",
       "    <tr>\n",
       "      <th>Exited</th>\n",
       "      <td>10000.0</td>\n",
       "      <td>NaN</td>\n",
       "      <td>NaN</td>\n",
       "      <td>NaN</td>\n",
       "      <td>0.2037</td>\n",
       "      <td>0.402769</td>\n",
       "      <td>0.0</td>\n",
       "      <td>0.0</td>\n",
       "      <td>0.0</td>\n",
       "      <td>0.0</td>\n",
       "      <td>1.0</td>\n",
       "    </tr>\n",
       "  </tbody>\n",
       "</table>\n",
       "</div>"
      ],
      "text/plain": [
       "                   count unique     top  freq           mean           std  \\\n",
       "RowNumber        10000.0    NaN     NaN   NaN         5000.5    2886.89568   \n",
       "CustomerId       10000.0    NaN     NaN   NaN  15690940.5694  71936.186123   \n",
       "Surname            10000   2932   Smith    32            NaN           NaN   \n",
       "CreditScore      10000.0    NaN     NaN   NaN       650.5288     96.653299   \n",
       "Geography          10000      3  France  5014            NaN           NaN   \n",
       "Gender             10000      2    Male  5457            NaN           NaN   \n",
       "Age              10000.0    NaN     NaN   NaN        38.9218     10.487806   \n",
       "Tenure            9091.0    NaN     NaN   NaN        4.99769      2.894723   \n",
       "Balance          10000.0    NaN     NaN   NaN   76485.889288  62397.405202   \n",
       "NumOfProducts    10000.0    NaN     NaN   NaN         1.5302      0.581654   \n",
       "HasCrCard        10000.0    NaN     NaN   NaN         0.7055       0.45584   \n",
       "IsActiveMember   10000.0    NaN     NaN   NaN         0.5151      0.499797   \n",
       "EstimatedSalary  10000.0    NaN     NaN   NaN  100090.239881  57510.492818   \n",
       "Exited           10000.0    NaN     NaN   NaN         0.2037      0.402769   \n",
       "\n",
       "                        min          25%         50%          75%         max  \n",
       "RowNumber               1.0      2500.75      5000.5      7500.25     10000.0  \n",
       "CustomerId       15565701.0  15628528.25  15690738.0  15753233.75  15815690.0  \n",
       "Surname                 NaN          NaN         NaN          NaN         NaN  \n",
       "CreditScore           350.0        584.0       652.0        718.0       850.0  \n",
       "Geography               NaN          NaN         NaN          NaN         NaN  \n",
       "Gender                  NaN          NaN         NaN          NaN         NaN  \n",
       "Age                    18.0         32.0        37.0         44.0        92.0  \n",
       "Tenure                  0.0          2.0         5.0          7.0        10.0  \n",
       "Balance                 0.0          0.0    97198.54    127644.24   250898.09  \n",
       "NumOfProducts           1.0          1.0         1.0          2.0         4.0  \n",
       "HasCrCard               0.0          0.0         1.0          1.0         1.0  \n",
       "IsActiveMember          0.0          0.0         1.0          1.0         1.0  \n",
       "EstimatedSalary       11.58     51002.11  100193.915  149388.2475   199992.48  \n",
       "Exited                  0.0          0.0         0.0          0.0         1.0  "
      ]
     },
     "execution_count": 394,
     "metadata": {},
     "output_type": "execute_result"
    }
   ],
   "source": [
    "data.describe(include='all').T"
   ]
  },
  {
   "cell_type": "code",
   "execution_count": 395,
   "metadata": {},
   "outputs": [
    {
     "data": {
      "text/plain": [
       "RowNumber            0\n",
       "CustomerId           0\n",
       "Surname              0\n",
       "CreditScore          0\n",
       "Geography            0\n",
       "Gender               0\n",
       "Age                  0\n",
       "Tenure             909\n",
       "Balance              0\n",
       "NumOfProducts        0\n",
       "HasCrCard            0\n",
       "IsActiveMember       0\n",
       "EstimatedSalary      0\n",
       "Exited               0\n",
       "dtype: int64"
      ]
     },
     "execution_count": 395,
     "metadata": {},
     "output_type": "execute_result"
    }
   ],
   "source": [
    "# проверяем пропуски\n",
    "data.isna().sum()"
   ]
  },
  {
   "cell_type": "code",
   "execution_count": 396,
   "metadata": {},
   "outputs": [
    {
     "data": {
      "text/plain": [
       "0"
      ]
     },
     "execution_count": 396,
     "metadata": {},
     "output_type": "execute_result"
    }
   ],
   "source": [
    "# посмотрим, есть ли дубликаты\n",
    "data.duplicated().sum()"
   ]
  },
  {
   "cell_type": "markdown",
   "metadata": {},
   "source": [
    "**Предобработка данных**"
   ]
  },
  {
   "cell_type": "markdown",
   "metadata": {},
   "source": [
    "Данные датасета достаточны и адекватны, содержат 10000 строк, явных пропусков не обнаружено.\n",
    "Для дальнейшей работы с датафреймом необходимо:\n",
    "1. Удалить столбцы RowNumber, CustomerId, Surname.\n",
    "2. Методом OHE обработать столбцы Geography, Gender.\n",
    "3. Обработать пропуски в стобце Tenure."
   ]
  },
  {
   "cell_type": "code",
   "execution_count": 397,
   "metadata": {},
   "outputs": [
    {
     "data": {
      "text/html": [
       "<div>\n",
       "<style scoped>\n",
       "    .dataframe tbody tr th:only-of-type {\n",
       "        vertical-align: middle;\n",
       "    }\n",
       "\n",
       "    .dataframe tbody tr th {\n",
       "        vertical-align: top;\n",
       "    }\n",
       "\n",
       "    .dataframe thead th {\n",
       "        text-align: right;\n",
       "    }\n",
       "</style>\n",
       "<table border=\"1\" class=\"dataframe\">\n",
       "  <thead>\n",
       "    <tr style=\"text-align: right;\">\n",
       "      <th></th>\n",
       "      <th>CreditScore</th>\n",
       "      <th>Geography</th>\n",
       "      <th>Gender</th>\n",
       "      <th>Age</th>\n",
       "      <th>Tenure</th>\n",
       "      <th>Balance</th>\n",
       "      <th>NumOfProducts</th>\n",
       "      <th>HasCrCard</th>\n",
       "      <th>IsActiveMember</th>\n",
       "      <th>EstimatedSalary</th>\n",
       "      <th>Exited</th>\n",
       "    </tr>\n",
       "  </thead>\n",
       "  <tbody>\n",
       "    <tr>\n",
       "      <th>0</th>\n",
       "      <td>619</td>\n",
       "      <td>France</td>\n",
       "      <td>Female</td>\n",
       "      <td>42</td>\n",
       "      <td>2.0</td>\n",
       "      <td>0.00</td>\n",
       "      <td>1</td>\n",
       "      <td>1</td>\n",
       "      <td>1</td>\n",
       "      <td>101348.88</td>\n",
       "      <td>1</td>\n",
       "    </tr>\n",
       "    <tr>\n",
       "      <th>1</th>\n",
       "      <td>608</td>\n",
       "      <td>Spain</td>\n",
       "      <td>Female</td>\n",
       "      <td>41</td>\n",
       "      <td>1.0</td>\n",
       "      <td>83807.86</td>\n",
       "      <td>1</td>\n",
       "      <td>0</td>\n",
       "      <td>1</td>\n",
       "      <td>112542.58</td>\n",
       "      <td>0</td>\n",
       "    </tr>\n",
       "    <tr>\n",
       "      <th>2</th>\n",
       "      <td>502</td>\n",
       "      <td>France</td>\n",
       "      <td>Female</td>\n",
       "      <td>42</td>\n",
       "      <td>8.0</td>\n",
       "      <td>159660.80</td>\n",
       "      <td>3</td>\n",
       "      <td>1</td>\n",
       "      <td>0</td>\n",
       "      <td>113931.57</td>\n",
       "      <td>1</td>\n",
       "    </tr>\n",
       "    <tr>\n",
       "      <th>3</th>\n",
       "      <td>699</td>\n",
       "      <td>France</td>\n",
       "      <td>Female</td>\n",
       "      <td>39</td>\n",
       "      <td>1.0</td>\n",
       "      <td>0.00</td>\n",
       "      <td>2</td>\n",
       "      <td>0</td>\n",
       "      <td>0</td>\n",
       "      <td>93826.63</td>\n",
       "      <td>0</td>\n",
       "    </tr>\n",
       "    <tr>\n",
       "      <th>4</th>\n",
       "      <td>850</td>\n",
       "      <td>Spain</td>\n",
       "      <td>Female</td>\n",
       "      <td>43</td>\n",
       "      <td>2.0</td>\n",
       "      <td>125510.82</td>\n",
       "      <td>1</td>\n",
       "      <td>1</td>\n",
       "      <td>1</td>\n",
       "      <td>79084.10</td>\n",
       "      <td>0</td>\n",
       "    </tr>\n",
       "  </tbody>\n",
       "</table>\n",
       "</div>"
      ],
      "text/plain": [
       "   CreditScore Geography  Gender  Age  Tenure    Balance  NumOfProducts  \\\n",
       "0          619    France  Female   42     2.0       0.00              1   \n",
       "1          608     Spain  Female   41     1.0   83807.86              1   \n",
       "2          502    France  Female   42     8.0  159660.80              3   \n",
       "3          699    France  Female   39     1.0       0.00              2   \n",
       "4          850     Spain  Female   43     2.0  125510.82              1   \n",
       "\n",
       "   HasCrCard  IsActiveMember  EstimatedSalary  Exited  \n",
       "0          1               1        101348.88       1  \n",
       "1          0               1        112542.58       0  \n",
       "2          1               0        113931.57       1  \n",
       "3          0               0         93826.63       0  \n",
       "4          1               1         79084.10       0  "
      ]
     },
     "execution_count": 397,
     "metadata": {},
     "output_type": "execute_result"
    }
   ],
   "source": [
    "# удалим столбцы, не представляющие ценности для модели\n",
    "del_columns=['RowNumber','CustomerId','Surname']\n",
    "data=data.drop(del_columns,axis=1)\n",
    "data.head()"
   ]
  },
  {
   "cell_type": "code",
   "execution_count": 398,
   "metadata": {},
   "outputs": [
    {
     "data": {
      "text/html": [
       "<div>\n",
       "<style scoped>\n",
       "    .dataframe tbody tr th:only-of-type {\n",
       "        vertical-align: middle;\n",
       "    }\n",
       "\n",
       "    .dataframe tbody tr th {\n",
       "        vertical-align: top;\n",
       "    }\n",
       "\n",
       "    .dataframe thead th {\n",
       "        text-align: right;\n",
       "    }\n",
       "</style>\n",
       "<table border=\"1\" class=\"dataframe\">\n",
       "  <thead>\n",
       "    <tr style=\"text-align: right;\">\n",
       "      <th></th>\n",
       "      <th>CreditScore</th>\n",
       "      <th>Age</th>\n",
       "      <th>Tenure</th>\n",
       "      <th>Balance</th>\n",
       "      <th>NumOfProducts</th>\n",
       "      <th>HasCrCard</th>\n",
       "      <th>IsActiveMember</th>\n",
       "      <th>EstimatedSalary</th>\n",
       "      <th>Exited</th>\n",
       "      <th>Geography_Germany</th>\n",
       "      <th>Geography_Spain</th>\n",
       "      <th>Gender_Male</th>\n",
       "    </tr>\n",
       "  </thead>\n",
       "  <tbody>\n",
       "    <tr>\n",
       "      <th>0</th>\n",
       "      <td>619</td>\n",
       "      <td>42</td>\n",
       "      <td>2.0</td>\n",
       "      <td>0.00</td>\n",
       "      <td>1</td>\n",
       "      <td>1</td>\n",
       "      <td>1</td>\n",
       "      <td>101348.88</td>\n",
       "      <td>1</td>\n",
       "      <td>0</td>\n",
       "      <td>0</td>\n",
       "      <td>0</td>\n",
       "    </tr>\n",
       "    <tr>\n",
       "      <th>1</th>\n",
       "      <td>608</td>\n",
       "      <td>41</td>\n",
       "      <td>1.0</td>\n",
       "      <td>83807.86</td>\n",
       "      <td>1</td>\n",
       "      <td>0</td>\n",
       "      <td>1</td>\n",
       "      <td>112542.58</td>\n",
       "      <td>0</td>\n",
       "      <td>0</td>\n",
       "      <td>1</td>\n",
       "      <td>0</td>\n",
       "    </tr>\n",
       "    <tr>\n",
       "      <th>2</th>\n",
       "      <td>502</td>\n",
       "      <td>42</td>\n",
       "      <td>8.0</td>\n",
       "      <td>159660.80</td>\n",
       "      <td>3</td>\n",
       "      <td>1</td>\n",
       "      <td>0</td>\n",
       "      <td>113931.57</td>\n",
       "      <td>1</td>\n",
       "      <td>0</td>\n",
       "      <td>0</td>\n",
       "      <td>0</td>\n",
       "    </tr>\n",
       "    <tr>\n",
       "      <th>3</th>\n",
       "      <td>699</td>\n",
       "      <td>39</td>\n",
       "      <td>1.0</td>\n",
       "      <td>0.00</td>\n",
       "      <td>2</td>\n",
       "      <td>0</td>\n",
       "      <td>0</td>\n",
       "      <td>93826.63</td>\n",
       "      <td>0</td>\n",
       "      <td>0</td>\n",
       "      <td>0</td>\n",
       "      <td>0</td>\n",
       "    </tr>\n",
       "    <tr>\n",
       "      <th>4</th>\n",
       "      <td>850</td>\n",
       "      <td>43</td>\n",
       "      <td>2.0</td>\n",
       "      <td>125510.82</td>\n",
       "      <td>1</td>\n",
       "      <td>1</td>\n",
       "      <td>1</td>\n",
       "      <td>79084.10</td>\n",
       "      <td>0</td>\n",
       "      <td>0</td>\n",
       "      <td>1</td>\n",
       "      <td>0</td>\n",
       "    </tr>\n",
       "  </tbody>\n",
       "</table>\n",
       "</div>"
      ],
      "text/plain": [
       "   CreditScore  Age  Tenure    Balance  NumOfProducts  HasCrCard  \\\n",
       "0          619   42     2.0       0.00              1          1   \n",
       "1          608   41     1.0   83807.86              1          0   \n",
       "2          502   42     8.0  159660.80              3          1   \n",
       "3          699   39     1.0       0.00              2          0   \n",
       "4          850   43     2.0  125510.82              1          1   \n",
       "\n",
       "   IsActiveMember  EstimatedSalary  Exited  Geography_Germany  \\\n",
       "0               1        101348.88       1                  0   \n",
       "1               1        112542.58       0                  0   \n",
       "2               0        113931.57       1                  0   \n",
       "3               0         93826.63       0                  0   \n",
       "4               1         79084.10       0                  0   \n",
       "\n",
       "   Geography_Spain  Gender_Male  \n",
       "0                0            0  \n",
       "1                1            0  \n",
       "2                0            0  \n",
       "3                0            0  \n",
       "4                1            0  "
      ]
     },
     "execution_count": 398,
     "metadata": {},
     "output_type": "execute_result"
    }
   ],
   "source": [
    "# избавимся от категориальных признаков (столбцы Geography, Gender)\n",
    "data = pd.get_dummies(data, drop_first=True)\n",
    "data.head()"
   ]
  },
  {
   "cell_type": "code",
   "execution_count": 399,
   "metadata": {},
   "outputs": [],
   "source": [
    "# заполним пропуски в столбце медианными значениями\n",
    "data['Tenure'] = data['Tenure'].median()"
   ]
  },
  {
   "cell_type": "markdown",
   "metadata": {},
   "source": [
    "**Создание выборок**"
   ]
  },
  {
   "cell_type": "markdown",
   "metadata": {},
   "source": [
    "Разобъём датафрейм на выборки:\n",
    "- обучающую features_train, target_train\n",
    "- валидационную features_valid, target_valid\n",
    "- тестовую features_test, target_test"
   ]
  },
  {
   "cell_type": "code",
   "execution_count": 400,
   "metadata": {},
   "outputs": [
    {
     "name": "stdout",
     "output_type": "stream",
     "text": [
      "(6000, 11) (2000, 11) (2000, 11)\n",
      "(6000,) (2000,) (2000,)\n"
     ]
    }
   ],
   "source": [
    "features = data.drop('Exited', axis=1)\n",
    "target = data['Exited']\n",
    "\n",
    "# валидационная - 60%\n",
    "features_train, features_valid_test, target_train, target_valid_test = train_test_split(features,\n",
    "                                                    target,\n",
    "                                                    train_size=0.6,\n",
    "                                                    random_state=12345)\n",
    "# оставшиеся 40% делим пополам\n",
    "features_valid, features_test, target_valid, target_test = train_test_split(features_valid_test,\n",
    "                                                    target_valid_test,\n",
    "                                                    train_size=0.5,\n",
    "                                                    random_state=12345)\n",
    "\n",
    "print(features_train.shape, features_valid.shape, features_test.shape)\n",
    "print(target_train.shape, target_valid.shape, target_test.shape)\n"
   ]
  },
  {
   "cell_type": "code",
   "execution_count": 404,
   "metadata": {},
   "outputs": [],
   "source": [
    "# cформируем численные признаки для масштабирования методом scaler\n",
    "numeric = ['CreditScore', 'Age', 'Tenure', 'Balance', 'NumOfProducts', 'EstimatedSalary']"
   ]
  },
  {
   "cell_type": "code",
   "execution_count": 405,
   "metadata": {},
   "outputs": [
    {
     "data": {
      "text/html": [
       "<style>#sk-container-id-12 {color: black;background-color: white;}#sk-container-id-12 pre{padding: 0;}#sk-container-id-12 div.sk-toggleable {background-color: white;}#sk-container-id-12 label.sk-toggleable__label {cursor: pointer;display: block;width: 100%;margin-bottom: 0;padding: 0.3em;box-sizing: border-box;text-align: center;}#sk-container-id-12 label.sk-toggleable__label-arrow:before {content: \"▸\";float: left;margin-right: 0.25em;color: #696969;}#sk-container-id-12 label.sk-toggleable__label-arrow:hover:before {color: black;}#sk-container-id-12 div.sk-estimator:hover label.sk-toggleable__label-arrow:before {color: black;}#sk-container-id-12 div.sk-toggleable__content {max-height: 0;max-width: 0;overflow: hidden;text-align: left;background-color: #f0f8ff;}#sk-container-id-12 div.sk-toggleable__content pre {margin: 0.2em;color: black;border-radius: 0.25em;background-color: #f0f8ff;}#sk-container-id-12 input.sk-toggleable__control:checked~div.sk-toggleable__content {max-height: 200px;max-width: 100%;overflow: auto;}#sk-container-id-12 input.sk-toggleable__control:checked~label.sk-toggleable__label-arrow:before {content: \"▾\";}#sk-container-id-12 div.sk-estimator input.sk-toggleable__control:checked~label.sk-toggleable__label {background-color: #d4ebff;}#sk-container-id-12 div.sk-label input.sk-toggleable__control:checked~label.sk-toggleable__label {background-color: #d4ebff;}#sk-container-id-12 input.sk-hidden--visually {border: 0;clip: rect(1px 1px 1px 1px);clip: rect(1px, 1px, 1px, 1px);height: 1px;margin: -1px;overflow: hidden;padding: 0;position: absolute;width: 1px;}#sk-container-id-12 div.sk-estimator {font-family: monospace;background-color: #f0f8ff;border: 1px dotted black;border-radius: 0.25em;box-sizing: border-box;margin-bottom: 0.5em;}#sk-container-id-12 div.sk-estimator:hover {background-color: #d4ebff;}#sk-container-id-12 div.sk-parallel-item::after {content: \"\";width: 100%;border-bottom: 1px solid gray;flex-grow: 1;}#sk-container-id-12 div.sk-label:hover label.sk-toggleable__label {background-color: #d4ebff;}#sk-container-id-12 div.sk-serial::before {content: \"\";position: absolute;border-left: 1px solid gray;box-sizing: border-box;top: 0;bottom: 0;left: 50%;z-index: 0;}#sk-container-id-12 div.sk-serial {display: flex;flex-direction: column;align-items: center;background-color: white;padding-right: 0.2em;padding-left: 0.2em;position: relative;}#sk-container-id-12 div.sk-item {position: relative;z-index: 1;}#sk-container-id-12 div.sk-parallel {display: flex;align-items: stretch;justify-content: center;background-color: white;position: relative;}#sk-container-id-12 div.sk-item::before, #sk-container-id-12 div.sk-parallel-item::before {content: \"\";position: absolute;border-left: 1px solid gray;box-sizing: border-box;top: 0;bottom: 0;left: 50%;z-index: -1;}#sk-container-id-12 div.sk-parallel-item {display: flex;flex-direction: column;z-index: 1;position: relative;background-color: white;}#sk-container-id-12 div.sk-parallel-item:first-child::after {align-self: flex-end;width: 50%;}#sk-container-id-12 div.sk-parallel-item:last-child::after {align-self: flex-start;width: 50%;}#sk-container-id-12 div.sk-parallel-item:only-child::after {width: 0;}#sk-container-id-12 div.sk-dashed-wrapped {border: 1px dashed gray;margin: 0 0.4em 0.5em 0.4em;box-sizing: border-box;padding-bottom: 0.4em;background-color: white;}#sk-container-id-12 div.sk-label label {font-family: monospace;font-weight: bold;display: inline-block;line-height: 1.2em;}#sk-container-id-12 div.sk-label-container {text-align: center;}#sk-container-id-12 div.sk-container {/* jupyter's `normalize.less` sets `[hidden] { display: none; }` but bootstrap.min.css set `[hidden] { display: none !important; }` so we also need the `!important` here to be able to override the default hidden behavior on the sphinx rendered scikit-learn.org. See: https://github.com/scikit-learn/scikit-learn/issues/21755 */display: inline-block !important;position: relative;}#sk-container-id-12 div.sk-text-repr-fallback {display: none;}</style><div id=\"sk-container-id-12\" class=\"sk-top-container\"><div class=\"sk-text-repr-fallback\"><pre>StandardScaler()</pre><b>In a Jupyter environment, please rerun this cell to show the HTML representation or trust the notebook. <br />On GitHub, the HTML representation is unable to render, please try loading this page with nbviewer.org.</b></div><div class=\"sk-container\" hidden><div class=\"sk-item\"><div class=\"sk-estimator sk-toggleable\"><input class=\"sk-toggleable__control sk-hidden--visually\" id=\"sk-estimator-id-12\" type=\"checkbox\" checked><label for=\"sk-estimator-id-12\" class=\"sk-toggleable__label sk-toggleable__label-arrow\">StandardScaler</label><div class=\"sk-toggleable__content\"><pre>StandardScaler()</pre></div></div></div></div></div>"
      ],
      "text/plain": [
       "StandardScaler()"
      ]
     },
     "execution_count": 405,
     "metadata": {},
     "output_type": "execute_result"
    }
   ],
   "source": [
    "scaler = StandardScaler()\n",
    "scaler.fit(features_train[numeric])\n"
   ]
  },
  {
   "cell_type": "code",
   "execution_count": 406,
   "metadata": {},
   "outputs": [
    {
     "data": {
      "text/html": [
       "<div>\n",
       "<style scoped>\n",
       "    .dataframe tbody tr th:only-of-type {\n",
       "        vertical-align: middle;\n",
       "    }\n",
       "\n",
       "    .dataframe tbody tr th {\n",
       "        vertical-align: top;\n",
       "    }\n",
       "\n",
       "    .dataframe thead th {\n",
       "        text-align: right;\n",
       "    }\n",
       "</style>\n",
       "<table border=\"1\" class=\"dataframe\">\n",
       "  <thead>\n",
       "    <tr style=\"text-align: right;\">\n",
       "      <th></th>\n",
       "      <th>CreditScore</th>\n",
       "      <th>Age</th>\n",
       "      <th>Tenure</th>\n",
       "      <th>Balance</th>\n",
       "      <th>NumOfProducts</th>\n",
       "      <th>HasCrCard</th>\n",
       "      <th>IsActiveMember</th>\n",
       "      <th>EstimatedSalary</th>\n",
       "      <th>Geography_Germany</th>\n",
       "      <th>Geography_Spain</th>\n",
       "      <th>Gender_Male</th>\n",
       "    </tr>\n",
       "  </thead>\n",
       "  <tbody>\n",
       "    <tr>\n",
       "      <th>7479</th>\n",
       "      <td>-0.886751</td>\n",
       "      <td>-0.373192</td>\n",
       "      <td>0.0</td>\n",
       "      <td>1.232271</td>\n",
       "      <td>-0.891560</td>\n",
       "      <td>1</td>\n",
       "      <td>0</td>\n",
       "      <td>-0.187705</td>\n",
       "      <td>0</td>\n",
       "      <td>1</td>\n",
       "      <td>1</td>\n",
       "    </tr>\n",
       "    <tr>\n",
       "      <th>3411</th>\n",
       "      <td>0.608663</td>\n",
       "      <td>-0.183385</td>\n",
       "      <td>0.0</td>\n",
       "      <td>0.600563</td>\n",
       "      <td>-0.891560</td>\n",
       "      <td>0</td>\n",
       "      <td>0</td>\n",
       "      <td>-0.333945</td>\n",
       "      <td>0</td>\n",
       "      <td>0</td>\n",
       "      <td>0</td>\n",
       "    </tr>\n",
       "    <tr>\n",
       "      <th>6027</th>\n",
       "      <td>2.052152</td>\n",
       "      <td>0.480939</td>\n",
       "      <td>0.0</td>\n",
       "      <td>1.027098</td>\n",
       "      <td>0.830152</td>\n",
       "      <td>0</td>\n",
       "      <td>1</td>\n",
       "      <td>1.503095</td>\n",
       "      <td>1</td>\n",
       "      <td>0</td>\n",
       "      <td>1</td>\n",
       "    </tr>\n",
       "    <tr>\n",
       "      <th>1247</th>\n",
       "      <td>-1.457915</td>\n",
       "      <td>-1.417129</td>\n",
       "      <td>0.0</td>\n",
       "      <td>-1.233163</td>\n",
       "      <td>0.830152</td>\n",
       "      <td>1</td>\n",
       "      <td>0</td>\n",
       "      <td>-1.071061</td>\n",
       "      <td>0</td>\n",
       "      <td>0</td>\n",
       "      <td>1</td>\n",
       "    </tr>\n",
       "    <tr>\n",
       "      <th>3716</th>\n",
       "      <td>0.130961</td>\n",
       "      <td>-1.132419</td>\n",
       "      <td>0.0</td>\n",
       "      <td>1.140475</td>\n",
       "      <td>-0.891560</td>\n",
       "      <td>0</td>\n",
       "      <td>0</td>\n",
       "      <td>1.524268</td>\n",
       "      <td>1</td>\n",
       "      <td>0</td>\n",
       "      <td>0</td>\n",
       "    </tr>\n",
       "  </tbody>\n",
       "</table>\n",
       "</div>"
      ],
      "text/plain": [
       "      CreditScore       Age  Tenure   Balance  NumOfProducts  HasCrCard  \\\n",
       "7479    -0.886751 -0.373192     0.0  1.232271      -0.891560          1   \n",
       "3411     0.608663 -0.183385     0.0  0.600563      -0.891560          0   \n",
       "6027     2.052152  0.480939     0.0  1.027098       0.830152          0   \n",
       "1247    -1.457915 -1.417129     0.0 -1.233163       0.830152          1   \n",
       "3716     0.130961 -1.132419     0.0  1.140475      -0.891560          0   \n",
       "\n",
       "      IsActiveMember  EstimatedSalary  Geography_Germany  Geography_Spain  \\\n",
       "7479               0        -0.187705                  0                1   \n",
       "3411               0        -0.333945                  0                0   \n",
       "6027               1         1.503095                  1                0   \n",
       "1247               0        -1.071061                  0                0   \n",
       "3716               0         1.524268                  1                0   \n",
       "\n",
       "      Gender_Male  \n",
       "7479            1  \n",
       "3411            0  \n",
       "6027            1  \n",
       "1247            1  \n",
       "3716            0  "
      ]
     },
     "execution_count": 406,
     "metadata": {},
     "output_type": "execute_result"
    }
   ],
   "source": [
    "# масштабируем численные признаки для обучающей выборки\n",
    "\n",
    "features_train[numeric] = scaler.transform(features_train[numeric])\n",
    "features_train.head()\n",
    "\n",
    "# pd.options.mode.chained_assignment = None"
   ]
  },
  {
   "cell_type": "code",
   "execution_count": 407,
   "metadata": {},
   "outputs": [
    {
     "data": {
      "text/html": [
       "<div>\n",
       "<style scoped>\n",
       "    .dataframe tbody tr th:only-of-type {\n",
       "        vertical-align: middle;\n",
       "    }\n",
       "\n",
       "    .dataframe tbody tr th {\n",
       "        vertical-align: top;\n",
       "    }\n",
       "\n",
       "    .dataframe thead th {\n",
       "        text-align: right;\n",
       "    }\n",
       "</style>\n",
       "<table border=\"1\" class=\"dataframe\">\n",
       "  <thead>\n",
       "    <tr style=\"text-align: right;\">\n",
       "      <th></th>\n",
       "      <th>CreditScore</th>\n",
       "      <th>Age</th>\n",
       "      <th>Tenure</th>\n",
       "      <th>Balance</th>\n",
       "      <th>NumOfProducts</th>\n",
       "      <th>HasCrCard</th>\n",
       "      <th>IsActiveMember</th>\n",
       "      <th>EstimatedSalary</th>\n",
       "      <th>Geography_Germany</th>\n",
       "      <th>Geography_Spain</th>\n",
       "      <th>Gender_Male</th>\n",
       "    </tr>\n",
       "  </thead>\n",
       "  <tbody>\n",
       "    <tr>\n",
       "      <th>8532</th>\n",
       "      <td>-0.699824</td>\n",
       "      <td>-0.373192</td>\n",
       "      <td>0.0</td>\n",
       "      <td>-1.233163</td>\n",
       "      <td>0.830152</td>\n",
       "      <td>1</td>\n",
       "      <td>0</td>\n",
       "      <td>-0.015173</td>\n",
       "      <td>0</td>\n",
       "      <td>0</td>\n",
       "      <td>0</td>\n",
       "    </tr>\n",
       "    <tr>\n",
       "      <th>5799</th>\n",
       "      <td>-0.284431</td>\n",
       "      <td>0.575842</td>\n",
       "      <td>0.0</td>\n",
       "      <td>-1.233163</td>\n",
       "      <td>-0.891560</td>\n",
       "      <td>1</td>\n",
       "      <td>1</td>\n",
       "      <td>1.471724</td>\n",
       "      <td>0</td>\n",
       "      <td>0</td>\n",
       "      <td>0</td>\n",
       "    </tr>\n",
       "    <tr>\n",
       "      <th>5511</th>\n",
       "      <td>0.151731</td>\n",
       "      <td>-0.657902</td>\n",
       "      <td>0.0</td>\n",
       "      <td>0.438711</td>\n",
       "      <td>-0.891560</td>\n",
       "      <td>1</td>\n",
       "      <td>0</td>\n",
       "      <td>-1.367107</td>\n",
       "      <td>1</td>\n",
       "      <td>0</td>\n",
       "      <td>1</td>\n",
       "    </tr>\n",
       "    <tr>\n",
       "      <th>7365</th>\n",
       "      <td>-0.876366</td>\n",
       "      <td>-0.278288</td>\n",
       "      <td>0.0</td>\n",
       "      <td>1.239884</td>\n",
       "      <td>-0.891560</td>\n",
       "      <td>1</td>\n",
       "      <td>1</td>\n",
       "      <td>-0.786517</td>\n",
       "      <td>0</td>\n",
       "      <td>1</td>\n",
       "      <td>0</td>\n",
       "    </tr>\n",
       "    <tr>\n",
       "      <th>7367</th>\n",
       "      <td>-0.481743</td>\n",
       "      <td>0.291132</td>\n",
       "      <td>0.0</td>\n",
       "      <td>-1.233163</td>\n",
       "      <td>0.830152</td>\n",
       "      <td>1</td>\n",
       "      <td>0</td>\n",
       "      <td>1.358533</td>\n",
       "      <td>0</td>\n",
       "      <td>1</td>\n",
       "      <td>1</td>\n",
       "    </tr>\n",
       "  </tbody>\n",
       "</table>\n",
       "</div>"
      ],
      "text/plain": [
       "      CreditScore       Age  Tenure   Balance  NumOfProducts  HasCrCard  \\\n",
       "8532    -0.699824 -0.373192     0.0 -1.233163       0.830152          1   \n",
       "5799    -0.284431  0.575842     0.0 -1.233163      -0.891560          1   \n",
       "5511     0.151731 -0.657902     0.0  0.438711      -0.891560          1   \n",
       "7365    -0.876366 -0.278288     0.0  1.239884      -0.891560          1   \n",
       "7367    -0.481743  0.291132     0.0 -1.233163       0.830152          1   \n",
       "\n",
       "      IsActiveMember  EstimatedSalary  Geography_Germany  Geography_Spain  \\\n",
       "8532               0        -0.015173                  0                0   \n",
       "5799               1         1.471724                  0                0   \n",
       "5511               0        -1.367107                  1                0   \n",
       "7365               1        -0.786517                  0                1   \n",
       "7367               0         1.358533                  0                1   \n",
       "\n",
       "      Gender_Male  \n",
       "8532            0  \n",
       "5799            0  \n",
       "5511            1  \n",
       "7365            0  \n",
       "7367            1  "
      ]
     },
     "execution_count": 407,
     "metadata": {},
     "output_type": "execute_result"
    }
   ],
   "source": [
    "# масштабируем численные признаки для валидационной выборки\n",
    "\n",
    "features_valid[numeric] = scaler.transform(features_valid[numeric])\n",
    "features_valid.head()"
   ]
  },
  {
   "cell_type": "code",
   "execution_count": 408,
   "metadata": {},
   "outputs": [
    {
     "data": {
      "text/html": [
       "<div>\n",
       "<style scoped>\n",
       "    .dataframe tbody tr th:only-of-type {\n",
       "        vertical-align: middle;\n",
       "    }\n",
       "\n",
       "    .dataframe tbody tr th {\n",
       "        vertical-align: top;\n",
       "    }\n",
       "\n",
       "    .dataframe thead th {\n",
       "        text-align: right;\n",
       "    }\n",
       "</style>\n",
       "<table border=\"1\" class=\"dataframe\">\n",
       "  <thead>\n",
       "    <tr style=\"text-align: right;\">\n",
       "      <th></th>\n",
       "      <th>CreditScore</th>\n",
       "      <th>Age</th>\n",
       "      <th>Tenure</th>\n",
       "      <th>Balance</th>\n",
       "      <th>NumOfProducts</th>\n",
       "      <th>HasCrCard</th>\n",
       "      <th>IsActiveMember</th>\n",
       "      <th>EstimatedSalary</th>\n",
       "      <th>Geography_Germany</th>\n",
       "      <th>Geography_Spain</th>\n",
       "      <th>Gender_Male</th>\n",
       "    </tr>\n",
       "  </thead>\n",
       "  <tbody>\n",
       "    <tr>\n",
       "      <th>7041</th>\n",
       "      <td>-2.226392</td>\n",
       "      <td>-0.088482</td>\n",
       "      <td>0.0</td>\n",
       "      <td>-1.233163</td>\n",
       "      <td>0.830152</td>\n",
       "      <td>1</td>\n",
       "      <td>0</td>\n",
       "      <td>0.647083</td>\n",
       "      <td>0</td>\n",
       "      <td>0</td>\n",
       "      <td>1</td>\n",
       "    </tr>\n",
       "    <tr>\n",
       "      <th>5709</th>\n",
       "      <td>-0.087120</td>\n",
       "      <td>0.006422</td>\n",
       "      <td>0.0</td>\n",
       "      <td>-1.233163</td>\n",
       "      <td>-0.891560</td>\n",
       "      <td>1</td>\n",
       "      <td>0</td>\n",
       "      <td>-1.658410</td>\n",
       "      <td>0</td>\n",
       "      <td>0</td>\n",
       "      <td>0</td>\n",
       "    </tr>\n",
       "    <tr>\n",
       "      <th>7117</th>\n",
       "      <td>-0.917905</td>\n",
       "      <td>-0.752805</td>\n",
       "      <td>0.0</td>\n",
       "      <td>0.722307</td>\n",
       "      <td>-0.891560</td>\n",
       "      <td>1</td>\n",
       "      <td>1</td>\n",
       "      <td>-1.369334</td>\n",
       "      <td>0</td>\n",
       "      <td>1</td>\n",
       "      <td>1</td>\n",
       "    </tr>\n",
       "    <tr>\n",
       "      <th>7775</th>\n",
       "      <td>-0.253277</td>\n",
       "      <td>0.101325</td>\n",
       "      <td>0.0</td>\n",
       "      <td>-1.233163</td>\n",
       "      <td>0.830152</td>\n",
       "      <td>1</td>\n",
       "      <td>0</td>\n",
       "      <td>0.075086</td>\n",
       "      <td>0</td>\n",
       "      <td>1</td>\n",
       "      <td>1</td>\n",
       "    </tr>\n",
       "    <tr>\n",
       "      <th>8735</th>\n",
       "      <td>0.785204</td>\n",
       "      <td>-0.847708</td>\n",
       "      <td>0.0</td>\n",
       "      <td>0.615625</td>\n",
       "      <td>-0.891560</td>\n",
       "      <td>0</td>\n",
       "      <td>1</td>\n",
       "      <td>-1.070919</td>\n",
       "      <td>0</td>\n",
       "      <td>0</td>\n",
       "      <td>1</td>\n",
       "    </tr>\n",
       "  </tbody>\n",
       "</table>\n",
       "</div>"
      ],
      "text/plain": [
       "      CreditScore       Age  Tenure   Balance  NumOfProducts  HasCrCard  \\\n",
       "7041    -2.226392 -0.088482     0.0 -1.233163       0.830152          1   \n",
       "5709    -0.087120  0.006422     0.0 -1.233163      -0.891560          1   \n",
       "7117    -0.917905 -0.752805     0.0  0.722307      -0.891560          1   \n",
       "7775    -0.253277  0.101325     0.0 -1.233163       0.830152          1   \n",
       "8735     0.785204 -0.847708     0.0  0.615625      -0.891560          0   \n",
       "\n",
       "      IsActiveMember  EstimatedSalary  Geography_Germany  Geography_Spain  \\\n",
       "7041               0         0.647083                  0                0   \n",
       "5709               0        -1.658410                  0                0   \n",
       "7117               1        -1.369334                  0                1   \n",
       "7775               0         0.075086                  0                1   \n",
       "8735               1        -1.070919                  0                0   \n",
       "\n",
       "      Gender_Male  \n",
       "7041            1  \n",
       "5709            0  \n",
       "7117            1  \n",
       "7775            1  \n",
       "8735            1  "
      ]
     },
     "execution_count": 408,
     "metadata": {},
     "output_type": "execute_result"
    }
   ],
   "source": [
    "# масштабируем численные признаки для тестовой выборки\n",
    "\n",
    "features_test[numeric] = scaler.transform(features_test[numeric])\n",
    "features_test.head()"
   ]
  },
  {
   "cell_type": "markdown",
   "metadata": {},
   "source": [
    "## Исследование задачи"
   ]
  },
  {
   "cell_type": "markdown",
   "metadata": {},
   "source": [
    "**Проверка соотношения классов**"
   ]
  },
  {
   "cell_type": "markdown",
   "metadata": {},
   "source": [
    "Проверим сколько классов \"1\" и \"0\""
   ]
  },
  {
   "cell_type": "code",
   "execution_count": 409,
   "metadata": {},
   "outputs": [
    {
     "name": "stdout",
     "output_type": "stream",
     "text": [
      "0    0.7963\n",
      "1    0.2037\n",
      "Name: Exited, dtype: float64\n"
     ]
    },
    {
     "data": {
      "text/plain": [
       "Text(0.5, 1.0, 'Соотношение классов')"
      ]
     },
     "execution_count": 409,
     "metadata": {},
     "output_type": "execute_result"
    },
    {
     "data": {
      "image/png": "[encoded data removed]",
      "text/plain": [
       "<Figure size 432x288 with 1 Axes>"
      ]
     },
     "metadata": {
      "needs_background": "light"
     },
     "output_type": "display_data"
    }
   ],
   "source": [
    "class_frequency = data['Exited'].value_counts(normalize=1)\n",
    "print(class_frequency)\n",
    "class_frequency.plot(kind='bar')\n",
    "\n",
    "plt.xlabel('Класс')\n",
    "plt.ylabel('Частота')\n",
    "plt.title('Соотношение классов')"
   ]
  },
  {
   "cell_type": "markdown",
   "metadata": {},
   "source": [
    "Соотношение классов распределилось как 4:1. Это довольный сильный дисбаланс."
   ]
  },
  {
   "cell_type": "code",
   "execution_count": 410,
   "metadata": {},
   "outputs": [
    {
     "name": "stdout",
     "output_type": "stream",
     "text": [
      "0.7963\n"
     ]
    }
   ],
   "source": [
    "# создадим константную модель, которая любому объекту прогнозирует класс «0»\n",
    "target_pred_constant = pd.Series([0] * len(target))\n",
    "\n",
    "print(accuracy_score(target, target_pred_constant))"
   ]
  },
  {
   "cell_type": "markdown",
   "metadata": {},
   "source": [
    "**Обучение моделей без учёта дисбаланса**"
   ]
  },
  {
   "cell_type": "markdown",
   "metadata": {},
   "source": [
    "До борьбы с дисбалансом проверим качество моделей:\n",
    "- обучим несколько моделей; \n",
    "- подберём оптимальные гиперпараметры;\n",
    "- проверим ключевые метрики: Accuracy, Precision, Recall, F1, AUC-ROC;\n",
    "- построим матрицу ошибок, чтобы посмотреть на соотношения TP, TN, FP и FN; \n",
    "- построим ROC-кривую для наглядности."
   ]
  },
  {
   "cell_type": "markdown",
   "metadata": {},
   "source": [
    "**Модель: дерево решений**\n"
   ]
  },
  {
   "cell_type": "code",
   "execution_count": 411,
   "metadata": {},
   "outputs": [
    {
     "name": "stdout",
     "output_type": "stream",
     "text": [
      "depth= 1 F1_Score =  0.0\n",
      "depth= 2 F1_Score =  0.5217391304347825\n",
      "depth= 3 F1_Score =  0.4234875444839857\n",
      "depth= 4 F1_Score =  0.5528700906344411\n",
      "depth= 5 F1_Score =  0.5406249999999999\n",
      "depth= 6 F1_Score =  0.5701219512195123\n",
      "depth= 7 F1_Score =  0.5471406491499228\n",
      "depth= 8 F1_Score =  0.5306748466257668\n",
      "depth= 9 F1_Score =  0.5563689604685212\n",
      "depth= 10 F1_Score =  0.52\n",
      "depth= 11 F1_Score =  0.5087483176312247\n",
      "depth= 12 F1_Score =  0.5000000000000001\n",
      "depth= 13 F1_Score =  0.5142118863049095\n",
      "depth= 14 F1_Score =  0.5056603773584907\n",
      "depth= 15 F1_Score =  0.4937343358395989\n",
      "depth= 16 F1_Score =  0.5012106537530266\n",
      "depth= 17 F1_Score =  0.48763250883392223\n",
      "depth= 18 F1_Score =  0.4904306220095694\n",
      "depth= 19 F1_Score =  0.489795918367347\n"
     ]
    }
   ],
   "source": [
    "# дерево решений\n",
    "\n",
    "for depth in range(1,20,1):\n",
    "    model_DTC = DecisionTreeClassifier(random_state=12345, max_depth=depth)\n",
    "    model_DTC.fit(features_train, target_train)\n",
    "    predicted_valid_DTC = model_DTC.predict(features_valid)\n",
    "    print(\"depth=\", depth, \"F1_Score = \", f1_score(target_valid, predicted_valid_DTC))\n"
   ]
  },
  {
   "cell_type": "markdown",
   "metadata": {},
   "source": [
    "Лучшее значение глубины дерева = 6, качество модели (F1) = 0.5701219512195123"
   ]
  },
  {
   "cell_type": "code",
   "execution_count": 412,
   "metadata": {},
   "outputs": [],
   "source": [
    "# обучим модель решающего дерева оптимальным гиперпараметрам\n",
    "model_DTC = DecisionTreeClassifier(random_state=12345,max_depth=6)\n",
    "model_DTC.fit(features_train, target_train)\n",
    "predicted_valid_DTC = model_DTC.predict(features_valid)"
   ]
  },
  {
   "cell_type": "code",
   "execution_count": 413,
   "metadata": {},
   "outputs": [
    {
     "name": "stdout",
     "output_type": "stream",
     "text": [
      "accuracy модели дерева решений = 0.859\n",
      "recall модели дерева решений = 0.4473684210526316\n",
      "precision модели дерева решений = 0.7857142857142857\n",
      "F1 модели дерева решений = 0.5701219512195123\n"
     ]
    }
   ],
   "source": [
    "print(\"accuracy модели дерева решений =\", accuracy_score(target_valid, predicted_valid_DTC))\n",
    "print(\"recall модели дерева решений =\" , recall_score(target_valid, predicted_valid_DTC))\n",
    "print(\"precision модели дерева решений =\", precision_score(target_valid, predicted_valid_DTC))\n",
    "print(\"F1 модели дерева решений =\", f1_score(target_valid, predicted_valid_DTC))"
   ]
  },
  {
   "cell_type": "code",
   "execution_count": 414,
   "metadata": {},
   "outputs": [
    {
     "data": {
      "image/png": "[encoded data removed]",
      "text/plain": [
       "<Figure size 360x360 with 1 Axes>"
      ]
     },
     "metadata": {
      "needs_background": "light"
     },
     "output_type": "display_data"
    }
   ],
   "source": [
    "# построим PR-кривую для дерева решений\n",
    "probabilities_valid_DTC = model_DTC.predict_proba(features_valid)\n",
    "precision, recall, thresholds = precision_recall_curve(target_valid, probabilities_valid_DTC[:, 1])\n",
    "\n",
    "plt.figure(figsize=(5, 5))\n",
    "plt.step(recall, precision, where='post')\n",
    "plt.xlabel('Recall')\n",
    "plt.ylabel('Precision')\n",
    "plt.ylim([0.0, 1.05])\n",
    "plt.xlim([0.0, 1.0])\n",
    "plt.title('Кривая Precision-Recall дерева решений')\n",
    "plt.show() "
   ]
  },
  {
   "cell_type": "code",
   "execution_count": 415,
   "metadata": {},
   "outputs": [
    {
     "name": "stdout",
     "output_type": "stream",
     "text": [
      "AUC-ROC дерева решений = 0.8169100345392846\n"
     ]
    }
   ],
   "source": [
    "# вычислим AUC-ROC для решающего дерева\n",
    "probabilities_DTC = model_DTC.predict_proba(features_valid)\n",
    "probabilities_one_valid_DTC = probabilities_DTC[:, 1]\n",
    "auc_roc_DTC = roc_auc_score(target_valid, probabilities_one_valid_DTC)\n",
    "fpr_DTC, tpr_DTC, thresholds = roc_curve(target_valid, probabilities_one_valid_DTC)\n",
    "\n",
    "print('AUC-ROC дерева решений =', auc_roc_DTC)\n"
   ]
  },
  {
   "cell_type": "markdown",
   "metadata": {},
   "source": [
    "При глубине дерева 6 получили лучшие результаты:\n",
    "- F1 = 0.5701219512195123\n",
    "- AUC-ROC = 0.8169100345392846"
   ]
  },
  {
   "cell_type": "code",
   "execution_count": 416,
   "metadata": {},
   "outputs": [
    {
     "data": {
      "text/plain": [
       "array([[1531,   51],\n",
       "       [ 231,  187]])"
      ]
     },
     "execution_count": 416,
     "metadata": {},
     "output_type": "execute_result"
    }
   ],
   "source": [
    "# построим матрицу ошибок для дерева решений\n",
    "model_DTC = DecisionTreeClassifier(random_state=12345,max_depth=6)\n",
    "model_DTC.fit(features_train, target_train)\n",
    "DTC_prediction = model_DTC.predict(features_valid)\n",
    "confusion_matrix(target_valid, DTC_prediction)"
   ]
  },
  {
   "cell_type": "code",
   "execution_count": 417,
   "metadata": {},
   "outputs": [
    {
     "data": {
      "text/plain": [
       "<sklearn.metrics._plot.confusion_matrix.ConfusionMatrixDisplay at 0x7fb2dc6ba3a0>"
      ]
     },
     "execution_count": 417,
     "metadata": {},
     "output_type": "execute_result"
    },
    {
     "data": {
      "image/png": "[encoded data removed]",
      "text/plain": [
       "<Figure size 432x288 with 2 Axes>"
      ]
     },
     "metadata": {
      "needs_background": "light"
     },
     "output_type": "display_data"
    }
   ],
   "source": [
    "plot_confusion_matrix(estimator=model_DTC, X=features_valid, y_true=target_valid,\n",
    "                      normalize='true', cmap='Greens')"
   ]
  },
  {
   "cell_type": "markdown",
   "metadata": {},
   "source": [
    "**Модель: случайный лес**"
   ]
  },
  {
   "cell_type": "code",
   "execution_count": 418,
   "metadata": {},
   "outputs": [
    {
     "name": "stdout",
     "output_type": "stream",
     "text": [
      "depth= 1 F1_Score =  0.0\n",
      "depth= 2 F1_Score =  0.10430839002267574\n",
      "depth= 3 F1_Score =  0.34108527131782945\n",
      "depth= 4 F1_Score =  0.4272890484739676\n",
      "depth= 5 F1_Score =  0.4991511035653651\n",
      "depth= 6 F1_Score =  0.54281098546042\n",
      "depth= 7 F1_Score =  0.5632\n",
      "depth= 8 F1_Score =  0.5605095541401274\n",
      "depth= 9 F1_Score =  0.5579937304075234\n",
      "depth= 10 F1_Score =  0.5588697017268446\n",
      "depth= 11 F1_Score =  0.5723076923076923\n",
      "depth= 12 F1_Score =  0.5644171779141105\n",
      "depth= 13 F1_Score =  0.5740181268882175\n",
      "depth= 14 F1_Score =  0.574436090225564\n",
      "depth= 15 F1_Score =  0.5773809523809523\n",
      "depth= 16 F1_Score =  0.5709923664122137\n",
      "depth= 17 F1_Score =  0.562406015037594\n",
      "depth= 18 F1_Score =  0.5667166416791604\n",
      "depth= 19 F1_Score =  0.5705705705705705\n"
     ]
    }
   ],
   "source": [
    "# случайный лес\n",
    "\n",
    "for depth in range(1,20,1):\n",
    "    model_RFC = RandomForestClassifier(max_depth=depth, random_state=12345, n_estimators = 50)\n",
    "    model_RFC.fit(features_train, target_train)\n",
    "    predicted_valid_RFC = model_RFC.predict(features_valid)\n",
    "    print(\"depth=\", depth, \"F1_Score = \", f1_score(target_valid, predicted_valid_RFC))\n"
   ]
  },
  {
   "cell_type": "markdown",
   "metadata": {},
   "source": [
    "Лучшее значение глубины = 15, качество модели (F1) = 0.5773809523809523"
   ]
  },
  {
   "cell_type": "code",
   "execution_count": 419,
   "metadata": {},
   "outputs": [
    {
     "name": "stdout",
     "output_type": "stream",
     "text": [
      "estim 1 F1: 0.48189762796504365\n",
      "estim 3 F1: 0.5170068027210883\n",
      "estim 5 F1: 0.5596590909090909\n",
      "estim 7 F1: 0.5742296918767508\n",
      "estim 9 F1: 0.5710227272727273\n",
      "estim 11 F1: 0.5796269727403156\n",
      "estim 13 F1: 0.5882352941176471\n",
      "estim 15 F1: 0.5780346820809248\n",
      "estim 17 F1: 0.581021897810219\n",
      "estim 19 F1: 0.5805515239477503\n",
      "estim 21 F1: 0.5760233918128654\n",
      "estim 23 F1: 0.5693215339233039\n",
      "estim 25 F1: 0.5684523809523809\n",
      "estim 27 F1: 0.5748148148148149\n",
      "estim 29 F1: 0.5824665676077266\n",
      "estim 31 F1: 0.5765230312035662\n",
      "estim 33 F1: 0.5761194029850746\n",
      "estim 35 F1: 0.5744047619047619\n",
      "estim 37 F1: 0.5697151424287856\n",
      "estim 39 F1: 0.5787106446776611\n",
      "estim 41 F1: 0.5787106446776611\n",
      "estim 43 F1: 0.5816023738872403\n",
      "estim 45 F1: 0.5824665676077266\n",
      "estim 47 F1: 0.5842026825633383\n",
      "estim 49 F1: 0.5727136431784108\n",
      "estim 51 F1: 0.5833333333333334\n",
      "estim 53 F1: 0.5812220566318926\n"
     ]
    }
   ],
   "source": [
    "for estim in range(1,55,2):\n",
    "    model_RFC=RandomForestClassifier(max_depth=15,n_estimators=estim,random_state=1234)\n",
    "    model_RFC.fit(features_train, target_train)\n",
    "    predicted_valid_RFC = model_RFC.predict(features_valid)\n",
    "    print('estim',estim,'F1:',f1_score(target_valid,predicted_valid_RFC))"
   ]
  },
  {
   "cell_type": "markdown",
   "metadata": {},
   "source": [
    "Лучшее значение n_estimators=13, при котором значение F1 = 0.5882352941176471.\n",
    "<br>"
   ]
  },
  {
   "cell_type": "code",
   "execution_count": 420,
   "metadata": {},
   "outputs": [],
   "source": [
    "# обучим модель случайного леса с оптимальным гиперпараметрам\n",
    "model_RFC = RandomForestClassifier(max_depth=15, random_state=12345, n_estimators = 13)\n",
    "model_RFC.fit(features_train, target_train)\n",
    "predicted_valid_RFC = model_RFC.predict(features_valid)"
   ]
  },
  {
   "cell_type": "code",
   "execution_count": 421,
   "metadata": {},
   "outputs": [
    {
     "name": "stdout",
     "output_type": "stream",
     "text": [
      "accuracy модели случайного леса = 0.859\n",
      "recall модели случайного леса = 0.48325358851674644\n",
      "precision модели случайного леса = 0.753731343283582\n",
      "F1 модели случайного леса = 0.5889212827988337\n"
     ]
    }
   ],
   "source": [
    "print(\"accuracy модели случайного леса =\", accuracy_score(target_valid, predicted_valid_RFC))\n",
    "print(\"recall модели случайного леса =\" , recall_score(target_valid, predicted_valid_RFC))\n",
    "print(\"precision модели случайного леса =\", precision_score(target_valid, predicted_valid_RFC))\n",
    "print(\"F1 модели случайного леса =\", f1_score(target_valid, predicted_valid_RFC))"
   ]
  },
  {
   "cell_type": "code",
   "execution_count": 422,
   "metadata": {},
   "outputs": [
    {
     "data": {
      "image/png": "[encoded data removed]",
      "text/plain": [
       "<Figure size 360x360 with 1 Axes>"
      ]
     },
     "metadata": {
      "needs_background": "light"
     },
     "output_type": "display_data"
    }
   ],
   "source": [
    "# построим PR-кривую для случайного леса\n",
    "probabilities_valid_RFC = model_RFC.predict_proba(features_valid)\n",
    "precision, recall, thresholds = precision_recall_curve(target_valid, probabilities_valid_RFC[:, 1])\n",
    "\n",
    "plt.figure(figsize=(5, 5))\n",
    "plt.step(recall, precision, where='post')\n",
    "plt.xlabel('Recall')\n",
    "plt.ylabel('Precision')\n",
    "plt.ylim([0.0, 1.05])\n",
    "plt.xlim([0.0, 1.0])\n",
    "plt.title('Кривая Precision-Recall случайного леса')\n",
    "plt.show() "
   ]
  },
  {
   "cell_type": "code",
   "execution_count": 423,
   "metadata": {},
   "outputs": [
    {
     "name": "stdout",
     "output_type": "stream",
     "text": [
      "AUC-ROC случайного леса = 0.8221007567188283\n"
     ]
    }
   ],
   "source": [
    "# вычислим AUC-ROC для случайного леса\n",
    "probabilities_RFC = model_RFC.predict_proba(features_valid)\n",
    "probabilities_one_valid_RFC = probabilities_RFC[:, 1]\n",
    "auc_roc_RFC = roc_auc_score(target_valid, probabilities_one_valid_RFC)\n",
    "fpr_RFC, tpr_RFC, thresholds = roc_curve(target_valid, probabilities_one_valid_RFC)\n",
    "\n",
    "print('AUC-ROC случайного леса =', auc_roc_RFC)"
   ]
  },
  {
   "cell_type": "code",
   "execution_count": 424,
   "metadata": {},
   "outputs": [
    {
     "data": {
      "text/plain": [
       "array([[1503,   79],\n",
       "       [ 211,  207]])"
      ]
     },
     "execution_count": 424,
     "metadata": {},
     "output_type": "execute_result"
    }
   ],
   "source": [
    "# построим матрицу ошибок для случайного леса\n",
    "model_RFC = RandomForestClassifier(n_estimators=13,random_state=1234)\n",
    "model_RFC.fit(features_train, target_train)\n",
    "RFC_prediction = model_RFC.predict(features_valid)\n",
    "confusion_matrix(target_valid, RFC_prediction)"
   ]
  },
  {
   "cell_type": "code",
   "execution_count": 425,
   "metadata": {},
   "outputs": [
    {
     "data": {
      "text/plain": [
       "<sklearn.metrics._plot.confusion_matrix.ConfusionMatrixDisplay at 0x7fb2dc816250>"
      ]
     },
     "execution_count": 425,
     "metadata": {},
     "output_type": "execute_result"
    },
    {
     "data": {
      "image/png": "[encoded data removed]",
      "text/plain": [
       "<Figure size 432x288 with 2 Axes>"
      ]
     },
     "metadata": {
      "needs_background": "light"
     },
     "output_type": "display_data"
    }
   ],
   "source": [
    "plot_confusion_matrix(estimator=model_RFC, X=features_valid, y_true=target_valid,\n",
    "                      normalize='true', cmap='Greens')"
   ]
  },
  {
   "cell_type": "markdown",
   "metadata": {},
   "source": [
    "**Модель: логистическая регрессия**"
   ]
  },
  {
   "cell_type": "code",
   "execution_count": 426,
   "metadata": {},
   "outputs": [],
   "source": [
    "# логистическая регрессия\n",
    "\n",
    "model_LR=LogisticRegression().fit(features_train,target_train)\n",
    "predicted_valid_LR = model_LR.predict(features_valid)"
   ]
  },
  {
   "cell_type": "code",
   "execution_count": 427,
   "metadata": {},
   "outputs": [
    {
     "name": "stdout",
     "output_type": "stream",
     "text": [
      "accuracy модели логистической регрессии = 0.8025\n",
      "recall модели логистической регрессии = 0.22727272727272727\n",
      "precision модели логистической регрессии = 0.5688622754491018\n",
      "F1 модели логистической регрессии = 0.3247863247863248\n"
     ]
    }
   ],
   "source": [
    "print(\"accuracy модели логистической регрессии =\", accuracy_score(target_valid, predicted_valid_LR))\n",
    "print(\"recall модели логистической регрессии =\" , recall_score(target_valid, predicted_valid_LR))\n",
    "print(\"precision модели логистической регрессии =\", precision_score(target_valid, predicted_valid_LR))\n",
    "print(\"F1 модели логистической регрессии =\", f1_score(target_valid, predicted_valid_LR))"
   ]
  },
  {
   "cell_type": "code",
   "execution_count": 428,
   "metadata": {},
   "outputs": [
    {
     "data": {
      "image/png": "[encoded data removed]",
      "text/plain": [
       "<Figure size 360x360 with 1 Axes>"
      ]
     },
     "metadata": {
      "needs_background": "light"
     },
     "output_type": "display_data"
    }
   ],
   "source": [
    "# построим PR-кривую для модели логистической регрессии\n",
    "probabilities_valid_LR = model_LR.predict_proba(features_valid)\n",
    "precision, recall, thresholds = precision_recall_curve(target_valid, probabilities_valid_LR[:, 1])\n",
    "\n",
    "plt.figure(figsize=(5, 5))\n",
    "plt.step(recall, precision, where='post')\n",
    "plt.xlabel('Recall')\n",
    "plt.ylabel('Precision')\n",
    "plt.ylim([0.0, 1.05])\n",
    "plt.xlim([0.0, 1.0])\n",
    "plt.title('Кривая Precision-Recall логистической регрессии')\n",
    "plt.show() "
   ]
  },
  {
   "cell_type": "code",
   "execution_count": 429,
   "metadata": {},
   "outputs": [
    {
     "name": "stdout",
     "output_type": "stream",
     "text": [
      "AUC-ROC логистической регрессии = 0.7576700197799406\n"
     ]
    }
   ],
   "source": [
    "# вычислим AUC-ROC для логистической регрессии\n",
    "probabilities_LR = model_LR.predict_proba(features_valid)\n",
    "probabilities_one_valid_LR = probabilities_LR[:, 1]\n",
    "auc_roc_LR = roc_auc_score(target_valid, probabilities_one_valid_LR)\n",
    "fpr_LR, tpr_LR, thresholds = roc_curve(target_valid, probabilities_one_valid_LR)\n",
    "\n",
    "print('AUC-ROC логистической регрессии =', auc_roc_LR)"
   ]
  },
  {
   "cell_type": "code",
   "execution_count": 430,
   "metadata": {},
   "outputs": [
    {
     "data": {
      "text/plain": [
       "array([[1511,   71],\n",
       "       [ 323,   95]])"
      ]
     },
     "execution_count": 430,
     "metadata": {},
     "output_type": "execute_result"
    }
   ],
   "source": [
    "# построим матрицу ошибок для логистической регрессии\n",
    "model_LR = LogisticRegression(solver = 'liblinear')\n",
    "model_LR.fit(features_train, target_train)\n",
    "LR_prediction = model_LR.predict(features_valid)\n",
    "confusion_matrix(target_valid, LR_prediction)\n"
   ]
  },
  {
   "cell_type": "code",
   "execution_count": 431,
   "metadata": {},
   "outputs": [
    {
     "data": {
      "text/plain": [
       "<sklearn.metrics._plot.confusion_matrix.ConfusionMatrixDisplay at 0x7fb2dc7f5be0>"
      ]
     },
     "execution_count": 431,
     "metadata": {},
     "output_type": "execute_result"
    },
    {
     "data": {
      "image/png": "[encoded data removed]",
      "text/plain": [
       "<Figure size 432x288 with 2 Axes>"
      ]
     },
     "metadata": {
      "needs_background": "light"
     },
     "output_type": "display_data"
    }
   ],
   "source": [
    "plot_confusion_matrix(estimator=model_LR, X=features_valid, y_true=target_valid,\n",
    "                      normalize='true', cmap='Greens')"
   ]
  },
  {
   "cell_type": "code",
   "execution_count": 432,
   "metadata": {
    "scrolled": false
   },
   "outputs": [
    {
     "data": {
      "text/plain": [
       "<Figure size 432x288 with 0 Axes>"
      ]
     },
     "metadata": {},
     "output_type": "display_data"
    },
    {
     "data": {
      "image/png": "[encoded data removed]",
      "text/plain": [
       "<Figure size 936x576 with 1 Axes>"
      ]
     },
     "metadata": {
      "needs_background": "light"
     },
     "output_type": "display_data"
    }
   ],
   "source": [
    "# строим ROC-кривые для трёх моделей\n",
    "plt.figure()\n",
    "\n",
    "plt.figure(figsize=(13,8))\n",
    "plt.plot([0, 1], [0, 1], linestyle='--')\n",
    "plt.xlim([0.0, 1.0])\n",
    "plt.ylim([0.0, 1.0])\n",
    "plt.plot(fpr_DTC,tpr_DTC)\n",
    "plt.plot(fpr_RFC,tpr_RFC)\n",
    "plt.plot(fpr_LR,tpr_LR)\n",
    "plt.xlabel('False Positive Rate')\n",
    "plt.ylabel('True Positive Rate')\n",
    "plt.title('ROC-кривая')\n",
    "plt.legend(('случайная модель','дерево решений','случайный лес','логистическая регрессия'),\n",
    "           loc= 'upper left') \n",
    "plt.show()"
   ]
  },
  {
   "cell_type": "markdown",
   "metadata": {},
   "source": [
    "**Вывод:**\n",
    "- лучшее значение метрики F1 (качество) показала модель случайного леса;\n",
    "- наилучшей точности достигли модели решающего дерева и случайного леса (0.859) да и точность модели логистической регрессии довольно высокая (0.8025);\n",
    "- анализ графиков точности и полноты (PR-кривых) показал, что лучший результ у модели случайного леса (и он почти идентичен кривой дерева решений), худший у логистической регресии;\n",
    "- матрицы ошибок наглядно показали, что у всех трех моделей достаточно сильный дисбаланс классов."
   ]
  },
  {
   "cell_type": "markdown",
   "metadata": {},
   "source": [
    "## Борьба с дисбалансом"
   ]
  },
  {
   "cell_type": "markdown",
   "metadata": {},
   "source": [
    "Как мы выяснили ранее, наблюдается сильный дисбаланс, а именно их распределение составило 80% и 20%.\n",
    "<br>\n",
    "Придадим объектам редкого класса больший вес."
   ]
  },
  {
   "cell_type": "markdown",
   "metadata": {},
   "source": [
    "**Взвешивание классов**"
   ]
  },
  {
   "cell_type": "code",
   "execution_count": 433,
   "metadata": {},
   "outputs": [
    {
     "name": "stdout",
     "output_type": "stream",
     "text": [
      "Лучшие гиперпараметры дерева решений: {'max_depth': 100, 'class_weight': 'balanced'}\n",
      "F1-мера на валидационной выборке дерева решений: 0.5104294478527607\n"
     ]
    }
   ],
   "source": [
    "# дерево решений\n",
    "max_depth_values = [1, 100, 1]\n",
    "class_weight_values = [None, 'balanced']\n",
    "\n",
    "best_f1_score = 0\n",
    "best_params = {}\n",
    "\n",
    "# перебор всех комбинаций гиперпараметров\n",
    "for max_depth in max_depth_values:\n",
    "    for class_weight in class_weight_values:\n",
    "        # создание модели с текущими гиперпараметрами\n",
    "        model_DTC = DecisionTreeClassifier(random_state=12345, max_depth=max_depth, class_weight=class_weight)\n",
    "        model_DTC.fit(features_train, target_train)\n",
    "        predicted_valid_DTC = model_DTC.predict(features_valid)\n",
    "        \n",
    "        # вычисление F1-меры для текущих гиперпараметров\n",
    "        f1 = f1_score(target_valid, predicted_valid_DTC)\n",
    "        \n",
    "        # сравнение с лучшим результатом и обновление, если необходимо\n",
    "        if f1 > best_f1_score:\n",
    "            best_f1_score = f1\n",
    "            best_params = {'max_depth': max_depth, 'class_weight': class_weight}\n",
    "\n",
    "# Вывод лучших гиперпараметров и значения F1-меры\n",
    "print(\"Лучшие гиперпараметры дерева решений:\", best_params)\n",
    "print(\"F1-мера на валидационной выборке дерева решений:\", best_f1_score)\n"
   ]
  },
  {
   "cell_type": "code",
   "execution_count": 434,
   "metadata": {},
   "outputs": [
    {
     "name": "stdout",
     "output_type": "stream",
     "text": [
      "Лучшие гиперпараметры случайного леса: {'max_depth': 10, 'n_estimators': 150, 'class_weight': 'balanced'}\n",
      "F1-мера на валидационной выборке случайного леса: 0.6181384248210025\n"
     ]
    }
   ],
   "source": [
    "# случайный лес\n",
    "max_depth_values = [10, 15, 20]\n",
    "n_estimators_values = [50, 100, 150]\n",
    "class_weight_values = [None, 'balanced']\n",
    "\n",
    "best_f1_score = 0\n",
    "best_params = {}\n",
    "\n",
    "# Перебор всех комбинаций гиперпараметров\n",
    "for max_depth in max_depth_values:\n",
    "    for n_estimators in n_estimators_values:\n",
    "        for class_weight in class_weight_values:\n",
    "            # Создание модели с текущими гиперпараметрами\n",
    "            model_RFC = RandomForestClassifier(max_depth=max_depth, random_state=12345, n_estimators=n_estimators, class_weight=class_weight)\n",
    "            model_RFC.fit(features_train, target_train)\n",
    "            predicted_valid_RFC = model_RFC.predict(features_valid)\n",
    "            \n",
    "            # Вычисление F1-меры для текущих гиперпараметров\n",
    "            f1 = f1_score(target_valid, predicted_valid_RFC)\n",
    "            \n",
    "            # Сравнение с лучшим результатом и обновление, если необходимо\n",
    "            if f1 > best_f1_score:\n",
    "                best_f1_score = f1\n",
    "                best_params = {'max_depth': max_depth, 'n_estimators': n_estimators, 'class_weight': class_weight}\n",
    "\n",
    "# Вывод лучших гиперпараметров и значения F1-меры\n",
    "print(\"Лучшие гиперпараметры случайного леса:\", best_params)\n",
    "print(\"F1-мера на валидационной выборке случайного леса:\", best_f1_score)"
   ]
  },
  {
   "cell_type": "code",
   "execution_count": 435,
   "metadata": {},
   "outputs": [
    {
     "name": "stdout",
     "output_type": "stream",
     "text": [
      "Лучшие гиперпараметры логистической регрессии: {'class_weight': 'balanced', 'solver': 'liblinear'}\n",
      "F1-мера на валидационной выборке логистической регрессии: 0.4875536480686695\n"
     ]
    }
   ],
   "source": [
    "# логистическая регрессия\n",
    "class_weight_values = [None, 'balanced']\n",
    "solver_values = ['liblinear', 'saga']\n",
    "\n",
    "best_f1_score = 0\n",
    "best_params = {}\n",
    "\n",
    "# Перебор всех комбинаций гиперпараметров\n",
    "for class_weight in class_weight_values:\n",
    "    for solver in solver_values:\n",
    "        # Создание модели с текущими гиперпараметрами\n",
    "        model_LR = LogisticRegression(random_state=12345, solver=solver, class_weight=class_weight)\n",
    "        model_LR.fit(features_train, target_train)\n",
    "        predicted_valid_LR = model_LR.predict(features_valid)\n",
    "        \n",
    "        # Вычисление F1-меры для текущих гиперпараметров\n",
    "        f1 = f1_score(target_valid, predicted_valid_LR)\n",
    "        \n",
    "        # Сравнение с лучшим результатом и обновление, если необходимо\n",
    "        if f1 > best_f1_score:\n",
    "            best_f1_score = f1\n",
    "            best_params = {'class_weight': class_weight, 'solver': solver}\n",
    "\n",
    "# Вывод лучших гиперпараметров и значения F1-меры\n",
    "print(\"Лучшие гиперпараметры логистической регрессии:\", best_params)\n",
    "print(\"F1-мера на валидационной выборке логистической регрессии:\", best_f1_score)"
   ]
  },
  {
   "cell_type": "markdown",
   "metadata": {},
   "source": [
    "Добавление аргумента class_weight значения 'balanced' для моделей случайного леса и логистической регресии увеличило значение F1, а для моделей дерева решений - уменьшило.\n"
   ]
  },
  {
   "cell_type": "markdown",
   "metadata": {},
   "source": [
    "**Техника upsampling**"
   ]
  },
  {
   "cell_type": "markdown",
   "metadata": {},
   "source": [
    "Сделаем объекты редкого класса не такими редкими с помощью техники upsampling."
   ]
  },
  {
   "cell_type": "code",
   "execution_count": 436,
   "metadata": {},
   "outputs": [
    {
     "name": "stdout",
     "output_type": "stream",
     "text": [
      "(9608, 5)\n",
      "(9608,)\n"
     ]
    }
   ],
   "source": [
    "oversample = SMOTE(random_state=RANDOM_STATE)\n",
    "\n",
    "features_train_up, target_train_up = oversample.fit_resample(features_train_encoded, target_train)\n",
    "\n",
    "print(features_train_up.shape)\n",
    "print(target_train_up.shape)"
   ]
  },
  {
   "cell_type": "code",
   "execution_count": 437,
   "metadata": {},
   "outputs": [
    {
     "name": "stdout",
     "output_type": "stream",
     "text": [
      "(9588, 11)\n",
      "(9588,)\n"
     ]
    }
   ],
   "source": [
    "def upsample(features, target, repeat):\n",
    "    features_zeros = features_train[target_train == 0]\n",
    "    features_ones = features_train[target_train == 1]\n",
    "    target_zeros = target_train[target_train == 0]\n",
    "    target_ones = target_train[target_train == 1]\n",
    "\n",
    "    features_upsampled = pd.concat([features_zeros] + [features_ones] * repeat)\n",
    "    target_upsampled = pd.concat([target[target == 0]] + [target[target == 1]] * repeat)\n",
    "\n",
    "    features_upsampled, target_upsampled = shuffle(features_upsampled, target_upsampled, random_state=12345)\n",
    "\n",
    "    return features_upsampled, target_upsampled\n",
    "\n",
    "features_train_upsampled, target_train_upsampled = upsample(features_train, target_train, 4)\n",
    "features_upsampled, target_upsampled = upsample(features_train, target_train, 4)\n",
    "\n",
    "print(features_upsampled.shape)\n",
    "print(target_upsampled.shape)\n",
    "\n"
   ]
  },
  {
   "cell_type": "code",
   "execution_count": 438,
   "metadata": {},
   "outputs": [
    {
     "data": {
      "text/plain": [
       "0    0.501043\n",
       "1    0.498957\n",
       "Name: Exited, dtype: float64"
      ]
     },
     "execution_count": 438,
     "metadata": {},
     "output_type": "execute_result"
    }
   ],
   "source": [
    "features_upsampled, target_upsampled = upsample(features_train, target_train, 4)\n",
    "target_upsampled.value_counts(normalize=True)\n"
   ]
  },
  {
   "cell_type": "code",
   "execution_count": 439,
   "metadata": {},
   "outputs": [
    {
     "data": {
      "text/plain": [
       "Text(0.5, 1.0, 'Соотношение классов после апсемплинга')"
      ]
     },
     "execution_count": 439,
     "metadata": {},
     "output_type": "execute_result"
    },
    {
     "data": {
      "image/png": "[encoded data removed]",
      "text/plain": [
       "<Figure size 360x360 with 1 Axes>"
      ]
     },
     "metadata": {
      "needs_background": "light"
     },
     "output_type": "display_data"
    }
   ],
   "source": [
    "target_upsampled.plot(kind ='hist', bins=4, figsize=(5,5))\n",
    "\n",
    "plt.xlabel('Класс')\n",
    "plt.ylabel('Частота')\n",
    "plt.title('Соотношение классов после апсемплинга')"
   ]
  },
  {
   "cell_type": "markdown",
   "metadata": {},
   "source": [
    "Баланс классов налажен."
   ]
  },
  {
   "cell_type": "markdown",
   "metadata": {},
   "source": [
    "**Техника downsampling**"
   ]
  },
  {
   "cell_type": "markdown",
   "metadata": {},
   "source": [
    "Сделаем объекты частого класса не такими частыми с помощью техники downsampling"
   ]
  },
  {
   "cell_type": "code",
   "execution_count": 440,
   "metadata": {},
   "outputs": [
    {
     "name": "stdout",
     "output_type": "stream",
     "text": [
      "(3118, 11)\n",
      "(3118,)\n"
     ]
    }
   ],
   "source": [
    "def downsample(features,target,fraction):\n",
    "    features_zeros = features[target == 0]\n",
    "    features_ones = features[target == 1]\n",
    "    target_zeros = target[target == 0]\n",
    "    target_ones = target[target == 1]\n",
    "\n",
    "    features_downsampled = pd.concat(\n",
    "    [features_zeros.sample(frac=0.4, random_state=12345)] + [features_ones])\n",
    "    target_downsampled = pd.concat(\n",
    "    [target_zeros.sample(frac=0.4, random_state=12345)] + [target_ones])\n",
    "\n",
    "    features_downsampled, target_downsampled = shuffle(\n",
    "    features_downsampled, target_downsampled, random_state=12345)\n",
    "    \n",
    "    return features_downsampled, target_downsampled\n",
    "\n",
    "features_train_downsampled, target_train_downsampled = downsample(features_train, target_train, 0.25)\n",
    "features_downsampled, target_downsampled = downsample(features_train, target_train, 0.25)\n",
    "\n",
    "print(features_downsampled.shape)\n",
    "print(target_downsampled.shape)\n"
   ]
  },
  {
   "cell_type": "code",
   "execution_count": 441,
   "metadata": {},
   "outputs": [
    {
     "data": {
      "text/plain": [
       "0    0.616421\n",
       "1    0.383579\n",
       "Name: Exited, dtype: float64"
      ]
     },
     "execution_count": 441,
     "metadata": {},
     "output_type": "execute_result"
    }
   ],
   "source": [
    "features_train_downsampled, target_train_downsampled = downsample(features_train, target_train, 0.25)\n",
    "target_downsampled.value_counts(normalize=True)\n"
   ]
  },
  {
   "cell_type": "code",
   "execution_count": 442,
   "metadata": {},
   "outputs": [
    {
     "data": {
      "text/plain": [
       "<AxesSubplot:ylabel='Frequency'>"
      ]
     },
     "execution_count": 442,
     "metadata": {},
     "output_type": "execute_result"
    },
    {
     "data": {
      "image/png": "[encoded data removed]",
      "text/plain": [
       "<Figure size 360x360 with 1 Axes>"
      ]
     },
     "metadata": {
      "needs_background": "light"
     },
     "output_type": "display_data"
    }
   ],
   "source": [
    "target_downsampled.plot(kind ='hist', bins=4, figsize=(5,5))"
   ]
  },
  {
   "cell_type": "markdown",
   "metadata": {},
   "source": [
    "**Вывод:**\n",
    "<br>\n",
    "- методика увеличения выборки наладила баланс классов, а вот методика уменьшения выборки показала себя хуже;\n",
    "- устранён дисбаланс классов обучающей выборки методом upsampling — в 4 раза увеличили количество значений позитивного класса."
   ]
  },
  {
   "cell_type": "markdown",
   "metadata": {},
   "source": [
    "**Обучение модели на сбалансированной выборке**"
   ]
  },
  {
   "cell_type": "markdown",
   "metadata": {},
   "source": [
    "Обучим модели на сбалансированной выборке"
   ]
  },
  {
   "cell_type": "code",
   "execution_count": 487,
   "metadata": {},
   "outputs": [
    {
     "name": "stdout",
     "output_type": "stream",
     "text": [
      "Лучшие гиперпараметры дерева решений: {'max_depth': 100, 'class_weight': 'balanced'}\n",
      "F1-мера на валидационной выборке дерева решений: 0.5104294478527607\n"
     ]
    }
   ],
   "source": [
    "# дерево решений\n",
    "max_depth_values = [1, 100, 1]\n",
    "class_weight_values = [None, 'balanced']\n",
    "\n",
    "best_f1_score = 0\n",
    "best_params = {}\n",
    "\n",
    "# перебор всех комбинаций гиперпараметров\n",
    "for max_depth in max_depth_values:\n",
    "    for class_weight in class_weight_values:\n",
    "        # создание модели с текущими гиперпараметрами\n",
    "        model_DTC_upsampled = DecisionTreeClassifier(random_state=12345, max_depth=max_depth, class_weight=class_weight)\n",
    "        model_DTC_upsampled.fit(features_train, target_train)\n",
    "        predicted_valid_DTC_upsampled = model_DTC_upsampled.predict(features_valid)\n",
    "        \n",
    "        # вычисление F1-меры для текущих гиперпараметров\n",
    "        f1 = f1_score(target_valid, predicted_valid_DTC_upsampled)\n",
    "        \n",
    "        # сравнение с лучшим результатом и обновление, если необходимо\n",
    "        if f1 > best_f1_score:\n",
    "            best_f1_score = f1\n",
    "            best_params = {'max_depth': max_depth, 'class_weight': class_weight}\n",
    "\n",
    "# Вывод лучших гиперпараметров и значения F1-меры\n",
    "print(\"Лучшие гиперпараметры дерева решений:\", best_params)\n",
    "print(\"F1-мера на валидационной выборке дерева решений:\", best_f1_score)"
   ]
  },
  {
   "cell_type": "code",
   "execution_count": 492,
   "metadata": {},
   "outputs": [
    {
     "name": "stdout",
     "output_type": "stream",
     "text": [
      "accuracy модели дерева решений на сбалансированной выборке = 0.7545\n",
      "recall модели дерева решений на сбалансированной выборке = 0.5861244019138756\n",
      "precision модели дерева решений на сбалансированной выборке = 0.4351687388987567\n"
     ]
    }
   ],
   "source": [
    "print(\"accuracy модели дерева решений на сбалансированной выборке =\", accuracy_score(\n",
    "    target_valid, predicted_valid_DTC_upsampled))\n",
    "print(\"recall модели дерева решений на сбалансированной выборке =\" , recall_score(\n",
    "    target_valid, predicted_valid_DTC_upsampled))\n",
    "print(\"precision модели дерева решений на сбалансированной выборке =\", precision_score(\n",
    "    target_valid, predicted_valid_DTC_upsampled))"
   ]
  },
  {
   "cell_type": "code",
   "execution_count": 485,
   "metadata": {},
   "outputs": [
    {
     "name": "stdout",
     "output_type": "stream",
     "text": [
      "AUC-ROC решающего дерева на сбалансированной выборке = 0.6925565119556736\n"
     ]
    }
   ],
   "source": [
    "# вычислим AUC-ROC для решающего дерева на сбалансированной выборке\n",
    "probabilities_DTC_upsampled = model_DTC_upsampled.predict_proba(features_valid)\n",
    "probabilities_one_valid_DTC_upsampled = probabilities_DTC_upsampled[:, 1]\n",
    "auc_roc_DTC_upsampled = roc_auc_score(target_valid, probabilities_one_valid_DTC_upsampled)\n",
    "fpr_DTC_upsampled, tpr_DTC_upsampled, thresholds = roc_curve(\n",
    "    target_valid, probabilities_one_valid_DTC_upsampled)\n",
    "\n",
    "print('AUC-ROC решающего дерева на сбалансированной выборке =', auc_roc_DTC_upsampled)"
   ]
  },
  {
   "cell_type": "code",
   "execution_count": 482,
   "metadata": {},
   "outputs": [
    {
     "name": "stdout",
     "output_type": "stream",
     "text": [
      "Лучшие гиперпараметры случайного леса: {'max_depth': 10, 'n_estimators': 150, 'class_weight': 'balanced'}\n",
      "F1-мера на валидационной выборке случайного леса: 0.6181384248210025\n"
     ]
    }
   ],
   "source": [
    "# случайный лес\n",
    "max_depth_values = [10, 15, 20]\n",
    "n_estimators_values = [50, 100, 150]\n",
    "class_weight_values = [None, 'balanced']\n",
    "\n",
    "best_f1_score = 0\n",
    "best_params = {}\n",
    "\n",
    "# Перебор всех комбинаций гиперпараметров\n",
    "for max_depth in max_depth_values:\n",
    "    for n_estimators in n_estimators_values:\n",
    "        for class_weight in class_weight_values:\n",
    "            # Создание модели с текущими гиперпараметрами\n",
    "            model_RFC_upsampled = RandomForestClassifier(max_depth=max_depth, random_state=12345, n_estimators=n_estimators, class_weight=class_weight)\n",
    "            model_RFC_upsampled.fit(features_train, target_train)\n",
    "            predicted_valid_RFC_upsampled = model_RFC_upsampled.predict(features_valid)\n",
    "            \n",
    "            # Вычисление F1-меры для текущих гиперпараметров\n",
    "            f1 = f1_score(target_valid, predicted_valid_RFC_upsampled)\n",
    "            \n",
    "            # Сравнение с лучшим результатом и обновление, если необходимо\n",
    "            if f1 > best_f1_score:\n",
    "                best_f1_score = f1\n",
    "                best_params = {'max_depth': max_depth, 'n_estimators': n_estimators, 'class_weight': class_weight}\n",
    "\n",
    "# Вывод лучших гиперпараметров и значения F1-меры\n",
    "print(\"Лучшие гиперпараметры случайного леса:\", best_params)\n",
    "print(\"F1-мера на валидационной выборке случайного леса:\", best_f1_score)"
   ]
  },
  {
   "cell_type": "code",
   "execution_count": 493,
   "metadata": {},
   "outputs": [
    {
     "name": "stdout",
     "output_type": "stream",
     "text": [
      "accuracy модели случайного леса на сбалансированной выборке = 0.8585\n",
      "recall модели случайного леса на сбалансированной выборке = 0.4449760765550239\n",
      "precision модели случайного леса на сбалансированной выборке = 0.7848101265822784\n"
     ]
    }
   ],
   "source": [
    "print(\"accuracy модели случайного леса на сбалансированной выборке =\", accuracy_score(\n",
    "    target_valid, predicted_valid_RFC_upsampled))\n",
    "print(\"recall модели случайного леса на сбалансированной выборке =\" , recall_score(\n",
    "    target_valid, predicted_valid_RFC_upsampled))\n",
    "print(\"precision модели случайного леса на сбалансированной выборке =\", precision_score(\n",
    "    target_valid, predicted_valid_RFC_upsampled))"
   ]
  },
  {
   "cell_type": "code",
   "execution_count": 478,
   "metadata": {},
   "outputs": [
    {
     "name": "stdout",
     "output_type": "stream",
     "text": [
      "AUC-ROC случайного леса на сбалансированной выборке = 0.8277806846158035\n"
     ]
    }
   ],
   "source": [
    "# вычислим AUC-ROC для случайного леса на сбалансированной выборке\n",
    "probabilities_RFC_upsampled = model_RFC_upsampled.predict_proba(features_valid)\n",
    "probabilities_one_valid_RFC_upsampled = probabilities_RFC_upsampled[:, 1]\n",
    "auc_roc_RFC_upsampled = roc_auc_score(target_valid, probabilities_one_valid_RFC_upsampled)\n",
    "fpr_RFC_upsampled, tpr_RFC_upsampled, thresholds = roc_curve(\n",
    "    target_valid, probabilities_one_valid_RFC_upsampled)\n",
    "\n",
    "print('AUC-ROC случайного леса на сбалансированной выборке =', auc_roc_RFC_upsampled)\n"
   ]
  },
  {
   "cell_type": "code",
   "execution_count": 488,
   "metadata": {},
   "outputs": [
    {
     "name": "stdout",
     "output_type": "stream",
     "text": [
      "Лучшие гиперпараметры логистической регрессии: {'class_weight': None, 'solver': 'liblinear'}\n",
      "F1-мера на валидационной выборке логистической регрессии: 0.4875536480686695\n"
     ]
    }
   ],
   "source": [
    "# логистическая регрессия\n",
    "class_weight_values = [None, 'balanced']\n",
    "solver_values = ['liblinear', 'saga']\n",
    "\n",
    "best_f1_score = 0\n",
    "best_params = {}\n",
    "\n",
    "# Перебор всех комбинаций гиперпараметров\n",
    "for class_weight in class_weight_values:\n",
    "    for solver in solver_values:\n",
    "        # Создание модели с текущими гиперпараметрами\n",
    "        model_LR_upsampled = LogisticRegression(random_state=12345, solver=solver, class_weight=class_weight)\n",
    "        model_LR_upsampled.fit(features_train, target_train)\n",
    "        predicted_valid_LR_upsampled = model_LR.predict(features_valid)\n",
    "        \n",
    "        # Вычисление F1-меры для текущих гиперпараметров\n",
    "        f1 = f1_score(target_valid, predicted_valid_LR_upsampled)\n",
    "        \n",
    "        # Сравнение с лучшим результатом и обновление, если необходимо\n",
    "        if f1 > best_f1_score:\n",
    "            best_f1_score = f1\n",
    "            best_params = {'class_weight': class_weight, 'solver': solver}\n",
    "\n",
    "# Вывод лучших гиперпараметров и значения F1-меры\n",
    "print(\"Лучшие гиперпараметры логистической регрессии:\", best_params)\n",
    "print(\"F1-мера на валидационной выборке логистической регрессии:\", best_f1_score)"
   ]
  },
  {
   "cell_type": "code",
   "execution_count": 466,
   "metadata": {},
   "outputs": [
    {
     "name": "stdout",
     "output_type": "stream",
     "text": [
      "Лучшие гиперпараметры логистической регрессии: {'class_weight': 'balanced', 'solver': 'liblinear'}\n",
      "F1-мера на валидационной выборке логистической регрессии: 0.4875536480686695\n"
     ]
    }
   ],
   "source": [
    "# логистическая регрессия\n",
    "class_weight_values = [None, 'balanced']\n",
    "solver_values = ['liblinear', 'saga']\n",
    "\n",
    "best_f1_score = 0\n",
    "best_params = {}\n",
    "\n",
    "# Перебор всех комбинаций гиперпараметров\n",
    "for class_weight in class_weight_values:\n",
    "    for solver in solver_values:\n",
    "        # Создание модели с текущими гиперпараметрами\n",
    "        model_LR = LogisticRegression(random_state=12345, solver=solver, class_weight=class_weight)\n",
    "        model_LR.fit(features_train, target_train)\n",
    "        predicted_valid_LR = model_LR.predict(features_valid)\n",
    "        \n",
    "        # Вычисление F1-меры для текущих гиперпараметров\n",
    "        f1 = f1_score(target_valid, predicted_valid_LR)\n",
    "        \n",
    "        # Сравнение с лучшим результатом и обновление, если необходимо\n",
    "        if f1 > best_f1_score:\n",
    "            best_f1_score = f1\n",
    "            best_params = {'class_weight': class_weight, 'solver': solver}\n",
    "\n",
    "# Вывод лучших гиперпараметров и значения F1-меры\n",
    "print(\"Лучшие гиперпараметры логистической регрессии:\", best_params)\n",
    "print(\"F1-мера на валидационной выборке логистической регрессии:\", best_f1_score)"
   ]
  },
  {
   "cell_type": "code",
   "execution_count": 489,
   "metadata": {},
   "outputs": [
    {
     "name": "stdout",
     "output_type": "stream",
     "text": [
      "accuracy модели логистической регрессии на сбалансированной выборке = 0.7015\n",
      "recall модели логистической регрессии на сбалансированной выборке = 0.6794258373205742\n",
      "precision модели логистической регрессии на сбалансированной выборке = 0.38018741633199465\n",
      "F1 модели логистической регрессии на сбалансированной выборке = 0.4875536480686695\n"
     ]
    }
   ],
   "source": [
    "print(\"accuracy модели логистической регрессии на сбалансированной выборке =\", accuracy_score(\n",
    "    target_valid, predicted_valid_LR_upsampled))\n",
    "print(\"recall модели логистической регрессии на сбалансированной выборке =\" , recall_score(\n",
    "    target_valid, predicted_valid_LR_upsampled))\n",
    "print(\"precision модели логистической регрессии на сбалансированной выборке =\", precision_score(\n",
    "    target_valid, predicted_valid_LR_upsampled))\n",
    "print(\"F1 модели логистической регрессии на сбалансированной выборке =\", f1_score(\n",
    "    target_valid, predicted_valid_LR_upsampled))"
   ]
  },
  {
   "cell_type": "code",
   "execution_count": 490,
   "metadata": {},
   "outputs": [
    {
     "name": "stdout",
     "output_type": "stream",
     "text": [
      "AUC-ROC логистической регрессии на сбалансированной выборке = 0.7626029071068662\n"
     ]
    }
   ],
   "source": [
    "# вычислим AUC-ROC для логистической регрессии на сбалансированной выборке\n",
    "probabilities_LR_upsampled = model_LR_upsampled.predict_proba(features_valid)\n",
    "probabilities_one_valid_LR_upsampled = probabilities_LR_upsampled[:, 1]\n",
    "auc_roc_LR_upsampled = roc_auc_score(target_valid, probabilities_one_valid_LR_upsampled)\n",
    "fpr_LR_upsampled, tpr_LR_upsampled, thresholds = roc_curve(\n",
    "    target_valid, probabilities_one_valid_LR_upsampled)\n",
    "\n",
    "print('AUC-ROC логистической регрессии на сбалансированной выборке =', auc_roc_LR_upsampled)\n"
   ]
  },
  {
   "cell_type": "code",
   "execution_count": 491,
   "metadata": {},
   "outputs": [
    {
     "data": {
      "text/plain": [
       "<Figure size 432x288 with 0 Axes>"
      ]
     },
     "metadata": {},
     "output_type": "display_data"
    },
    {
     "data": {
      "image/png": "[encoded data removed]",
      "text/plain": [
       "<Figure size 936x576 with 1 Axes>"
      ]
     },
     "metadata": {
      "needs_background": "light"
     },
     "output_type": "display_data"
    }
   ],
   "source": [
    "# построим ROC-кривые для трёх моделей на сбалансированной выборке\n",
    "plt.figure()\n",
    "\n",
    "plt.figure(figsize=(13,8))\n",
    "plt.plot([0, 1], [0, 1], linestyle='--')\n",
    "plt.xlim([0.0, 1.0])\n",
    "plt.ylim([0.0, 1.0])\n",
    "plt.plot(fpr_DTC_upsampled,tpr_DTC_upsampled)\n",
    "plt.plot(fpr_RFC_upsampled,tpr_RFC_upsampled)\n",
    "plt.plot(fpr_LR_upsampled,tpr_LR_upsampled)\n",
    "plt.xlabel('False Positive Rate')\n",
    "plt.ylabel('True Positive Rate')\n",
    "plt.title('ROC-кривая на сбалансированной выборке')\n",
    "plt.legend(('случайная модель','дерево решений','случайный лес','логистическая регрессия'),\n",
    "           loc= 'upper left') \n",
    "plt.show()"
   ]
  },
  {
   "cell_type": "markdown",
   "metadata": {},
   "source": [
    "Лучшие результаты на сбалансированной выборке показывает модель случайного леса, берём её для финального тестирования."
   ]
  },
  {
   "cell_type": "markdown",
   "metadata": {},
   "source": [
    "## Тестирование модели"
   ]
  },
  {
   "cell_type": "markdown",
   "metadata": {},
   "source": [
    "Приступаем к тестированию выбранной модели случайного леса на тестовой выборке."
   ]
  },
  {
   "cell_type": "markdown",
   "metadata": {},
   "source": [
    "**Объединение валидационной и тестовой выборок**"
   ]
  },
  {
   "cell_type": "code",
   "execution_count": 454,
   "metadata": {},
   "outputs": [],
   "source": [
    "# объединим валидационную и тестовую выборки \n",
    "new_features_test = pd.concat([features_test, features_valid], axis=0, ignore_index=True)\n",
    "new_target_test = pd.concat([target_test, target_valid], axis=0, ignore_index=True)"
   ]
  },
  {
   "cell_type": "code",
   "execution_count": 455,
   "metadata": {},
   "outputs": [
    {
     "name": "stdout",
     "output_type": "stream",
     "text": [
      "(6000,)\n",
      "(4000,)\n"
     ]
    }
   ],
   "source": [
    "# проверим как прошло объединение\n",
    "print(target_train.shape)\n",
    "print(new_target_test.shape)\n"
   ]
  },
  {
   "cell_type": "markdown",
   "metadata": {},
   "source": [
    "**Финальная модель**"
   ]
  },
  {
   "cell_type": "code",
   "execution_count": 495,
   "metadata": {},
   "outputs": [
    {
     "name": "stdout",
     "output_type": "stream",
     "text": [
      "Лучшие гиперпараметры случайного леса: {'max_depth': 10, 'n_estimators': 150, 'class_weight': 'balanced'}\n",
      "F1-мера на валидационной выборке случайного леса: 0.6181384248210025\n",
      "F1-мера на тестовой выборке случайного леса: 0.6077738515901061\n"
     ]
    }
   ],
   "source": [
    "# проверка финальной модели случайного леса с оптимальными параметрами на тестовой выборке\n",
    "\n",
    "best_params = {'max_depth': 10, 'n_estimators': 150, 'class_weight': 'balanced'}\n",
    "\n",
    "model_RFC_final = RandomForestClassifier(random_state=12345, **best_params)\n",
    "model_RFC_final.fit(features_train, target_train)\n",
    "\n",
    "predicted_valid_RFC_final = model_RFC_final.predict(features_valid)\n",
    "best_f1_score = f1_score(target_valid, predicted_valid_RFC_final)\n",
    "\n",
    "predicted_test_RFC_final = model_RFC_final.predict(features_test)\n",
    "f1_test = f1_score(target_test, predicted_test_RFC_final)\n",
    "\n",
    "print(\"Лучшие гиперпараметры случайного леса:\", best_params)\n",
    "print(\"F1-мера на валидационной выборке случайного леса:\", best_f1_score)\n",
    "print(\"F1-мера на тестовой выборке случайного леса:\", f1_test)"
   ]
  },
  {
   "cell_type": "code",
   "execution_count": 496,
   "metadata": {},
   "outputs": [
    {
     "name": "stdout",
     "output_type": "stream",
     "text": [
      "AUC-ROC финальной модели случайного леса = 0.8546249977316581\n"
     ]
    }
   ],
   "source": [
    "# вычислим AUC-ROC для финальной модели случайного леса на тестовой выборке\n",
    "probabilities_RFC_final = model_RFC_final.predict_proba(features_valid)\n",
    "probabilities_one_valid_RFC_final = probabilities_RFC_final[:, 1]\n",
    "auc_roc_RFC_final = roc_auc_score(target_valid, probabilities_one_valid_RFC_final)\n",
    "fpr_RFC_final, tpr_RFC_final, thresholds = roc_curve(\n",
    "    target_valid, probabilities_one_valid_RFC_final)\n",
    "\n",
    "print('AUC-ROC финальной модели случайного леса =', auc_roc_RFC_final)"
   ]
  },
  {
   "cell_type": "code",
   "execution_count": 497,
   "metadata": {},
   "outputs": [
    {
     "data": {
      "image/png": "[encoded data removed]",
      "text/plain": [
       "<Figure size 432x288 with 1 Axes>"
      ]
     },
     "metadata": {
      "needs_background": "light"
     },
     "output_type": "display_data"
    }
   ],
   "source": [
    "# построим ROC-кривую финальной модели \n",
    "fpr_RFC_final_test, tpr_RFC_final_test, thresholds = roc_curve(\n",
    "    target_test, probabilities_one_valid_RFC_final_test)\n",
    "\n",
    "plt.figure()\n",
    "plt.plot(fpr_RFC_final_test, tpr_RFC_final_test, linestyle='solid')\n",
    "plt.plot([0, 1], [0, 1], linestyle='--')\n",
    "plt.xlim([0.0, 1.0])\n",
    "plt.ylim([0.0, 1.0])\n",
    "plt.xlabel('False Positive Rate')\n",
    "plt.ylabel('True Positive Rate')\n",
    "plt.title('ROC-кривая финальной модели на тестовой выборке')\n",
    "plt.show()"
   ]
  },
  {
   "cell_type": "markdown",
   "metadata": {},
   "source": [
    "ROC-кривая (Receiver Operating Characteristic curve) как графическое представление производительности модели классификации, отображает зависимость между долей верных положительных результатов (True Positive Rate, TPR) и долей ложных положительных результатов (False Positive Rate, FPR) при варьировании порога классификации.\n",
    "<br>\n",
    "<br>\n",
    "Расположение ROC-кривой как в данном случае говорит о высокой производительности модели. Чем ближе ROC-кривая к левому верхнему углу, тем выше ее качество и способность модели различать классы и делать правильные предсказания.\n",
    "<br>\n",
    "<br>\n",
    "Также данную ROC-кривую можно назвать идеальной, так как она проходит через точку (0,1), что означает отсутствие ложно положительных результатов при 100% доле верно положительных результатов.\n",
    "<br>\n"
   ]
  },
  {
   "cell_type": "markdown",
   "metadata": {},
   "source": [
    "Значение F1-меры (F1-score) на тестовой выборке равное 0.6077738515901061 указывает на гармоническое среднее между точностью (precision) и полнотой (recall) модели классификации. F1-мера является метрикой, которая учитывает как точность, так и полноту модели. Такое значение говорит о хорошем качестве модели. \n"
   ]
  },
  {
   "cell_type": "code",
   "execution_count": 500,
   "metadata": {},
   "outputs": [
    {
     "data": {
      "text/plain": [
       "0.3491539413949649"
      ]
     },
     "execution_count": 500,
     "metadata": {},
     "output_type": "execute_result"
    }
   ],
   "source": [
    "dummy_model = DummyClassifier(strategy='constant', constant=1)\n",
    "dummy_model.fit(features_train, target_train)\n",
    "f1_score(dummy_model.predict(features_test), target_test)"
   ]
  },
  {
   "cell_type": "markdown",
   "metadata": {},
   "source": [
    "## Общие выводы исследования"
   ]
  },
  {
   "cell_type": "markdown",
   "metadata": {},
   "source": [
    "**В ходе работы над проектом были достигнуты цели исследования:**\n",
    "<br>\n",
    "- построена модель с предельно большим значением F1-меры (модель случайного леса);\n",
    "- достигнута хорошее значение F1-меры (0.6077738515901061);\n",
    "- F1-мера проверена на тестовой выборке;\n",
    "- измерено значение AUC-ROC, сравнивать её значение с F1-мерой.\n",
    "<br>\n",
    "<br>\n",
    "\n",
    "**В процессе исследования:**\n",
    "\n",
    "- были загружены данные, изучена общую информация о датасете;\n",
    "- проведена подготовка датасета (удалены некоторые категориальные столбцы, не влияющие на качество обучения, другие категориальные признаки были преобразованы в бинарные с помощью One-Hot Ecnoding,  к столбцам с количественными признаками применено масштабирование);\n",
    "- датафрейм был подготовлен к дальнейшей работе;\n",
    "- исследован баланс классов; \n",
    "- обучены модели без учёта дисбаланса, найдена самая потенциально успешная (модель случайного леса);\n",
    "- оценён дисбаланс классов (4:1);\n",
    "- для борьбы с дисбалансом классов было применено 3 метода: взвешивание классов, увеличение выборки (upsampling), уменьшение выборки (downsampling), лучше всех показала себя методика upsampling;\n",
    "- обучены и улучшены разные модели с учётом дисбланаса классов, выбрана лучшая (также модель модель случайного леса);\n",
    "- проведено финальное тестирование на тестовой выборке;\n",
    "- достигнуты значения метрики F1-score = 0.6077738515901061.\n",
    "<br>"
   ]
  }
 ],
 "metadata": {
  "ExecuteTimeLog": [
   {
    "duration": 67,
    "start_time": "2023-05-18T17:56:47.326Z"
   },
   {
    "duration": 3720,
    "start_time": "2023-05-18T17:56:59.210Z"
   },
   {
    "duration": 317,
    "start_time": "2023-05-18T17:57:02.932Z"
   },
   {
    "duration": 55,
    "start_time": "2023-05-18T17:57:11.498Z"
   },
   {
    "duration": 12,
    "start_time": "2023-05-18T17:58:04.801Z"
   },
   {
    "duration": 17,
    "start_time": "2023-05-18T17:58:08.898Z"
   },
   {
    "duration": 54,
    "start_time": "2023-05-18T18:01:03.350Z"
   },
   {
    "duration": 15,
    "start_time": "2023-05-18T18:02:32.140Z"
   },
   {
    "duration": 19,
    "start_time": "2023-05-18T18:02:40.185Z"
   },
   {
    "duration": 15,
    "start_time": "2023-05-18T19:40:07.897Z"
   },
   {
    "duration": 11,
    "start_time": "2023-05-18T19:40:13.682Z"
   },
   {
    "duration": 9,
    "start_time": "2023-05-18T19:40:40.684Z"
   },
   {
    "duration": 35,
    "start_time": "2023-05-18T19:59:01.772Z"
   },
   {
    "duration": 264,
    "start_time": "2023-05-18T19:59:12.355Z"
   },
   {
    "duration": 15,
    "start_time": "2023-05-18T19:59:55.311Z"
   },
   {
    "duration": 20,
    "start_time": "2023-05-18T20:00:15.497Z"
   },
   {
    "duration": 24,
    "start_time": "2023-05-18T20:00:34.384Z"
   },
   {
    "duration": 5,
    "start_time": "2023-05-18T20:00:52.319Z"
   },
   {
    "duration": 86,
    "start_time": "2023-05-18T20:00:52.326Z"
   },
   {
    "duration": 21,
    "start_time": "2023-05-18T20:00:52.415Z"
   },
   {
    "duration": 67,
    "start_time": "2023-05-18T20:00:52.438Z"
   },
   {
    "duration": 13,
    "start_time": "2023-05-18T20:00:52.507Z"
   },
   {
    "duration": 16,
    "start_time": "2023-05-18T20:00:52.522Z"
   },
   {
    "duration": 36,
    "start_time": "2023-05-18T20:00:52.540Z"
   },
   {
    "duration": 54,
    "start_time": "2023-05-18T20:00:52.578Z"
   },
   {
    "duration": 5,
    "start_time": "2023-05-18T20:00:52.635Z"
   },
   {
    "duration": 21,
    "start_time": "2023-05-18T20:02:01.671Z"
   },
   {
    "duration": 11,
    "start_time": "2023-05-18T20:02:51.109Z"
   },
   {
    "duration": 31,
    "start_time": "2023-05-18T20:02:59.552Z"
   },
   {
    "duration": 30,
    "start_time": "2023-05-18T20:03:06.956Z"
   },
   {
    "duration": 24,
    "start_time": "2023-05-18T20:03:11.954Z"
   },
   {
    "duration": 5,
    "start_time": "2023-05-18T20:03:17.205Z"
   },
   {
    "duration": 61,
    "start_time": "2023-05-18T20:03:17.212Z"
   },
   {
    "duration": 22,
    "start_time": "2023-05-18T20:03:17.275Z"
   },
   {
    "duration": 46,
    "start_time": "2023-05-18T20:03:17.303Z"
   },
   {
    "duration": 13,
    "start_time": "2023-05-18T20:03:17.381Z"
   },
   {
    "duration": 21,
    "start_time": "2023-05-18T20:03:17.397Z"
   },
   {
    "duration": 29,
    "start_time": "2023-05-18T20:03:17.419Z"
   },
   {
    "duration": 57,
    "start_time": "2023-05-18T20:03:17.456Z"
   },
   {
    "duration": 4,
    "start_time": "2023-05-18T20:03:17.515Z"
   },
   {
    "duration": 19,
    "start_time": "2023-05-18T20:55:53.991Z"
   },
   {
    "duration": 5,
    "start_time": "2023-05-18T20:56:04.285Z"
   },
   {
    "duration": 78,
    "start_time": "2023-05-18T20:56:04.293Z"
   },
   {
    "duration": 17,
    "start_time": "2023-05-18T20:56:04.373Z"
   },
   {
    "duration": 44,
    "start_time": "2023-05-18T20:56:04.393Z"
   },
   {
    "duration": 35,
    "start_time": "2023-05-18T20:56:04.439Z"
   },
   {
    "duration": 17,
    "start_time": "2023-05-18T20:56:04.476Z"
   },
   {
    "duration": 29,
    "start_time": "2023-05-18T20:56:04.495Z"
   },
   {
    "duration": 62,
    "start_time": "2023-05-18T20:56:04.525Z"
   },
   {
    "duration": 13,
    "start_time": "2023-05-18T20:56:04.589Z"
   },
   {
    "duration": 194,
    "start_time": "2023-05-18T21:02:39.097Z"
   },
   {
    "duration": 5,
    "start_time": "2023-05-18T21:06:25.137Z"
   },
   {
    "duration": 13,
    "start_time": "2023-05-18T21:10:20.605Z"
   },
   {
    "duration": 137,
    "start_time": "2023-05-18T21:13:14.499Z"
   },
   {
    "duration": 10,
    "start_time": "2023-05-18T21:15:29.578Z"
   },
   {
    "duration": 13,
    "start_time": "2023-05-18T21:15:51.588Z"
   },
   {
    "duration": 14,
    "start_time": "2023-05-19T06:05:09.087Z"
   },
   {
    "duration": 14,
    "start_time": "2023-05-19T06:10:04.936Z"
   },
   {
    "duration": 134,
    "start_time": "2023-05-19T06:10:25.951Z"
   },
   {
    "duration": 16,
    "start_time": "2023-05-19T08:08:18.855Z"
   },
   {
    "duration": 52,
    "start_time": "2023-05-19T08:08:29.603Z"
   },
   {
    "duration": 3,
    "start_time": "2023-05-19T08:08:42.060Z"
   },
   {
    "duration": 12,
    "start_time": "2023-05-19T08:08:44.375Z"
   },
   {
    "duration": 38,
    "start_time": "2023-05-19T08:08:47.560Z"
   },
   {
    "duration": 20,
    "start_time": "2023-05-19T08:09:37.600Z"
   },
   {
    "duration": 12,
    "start_time": "2023-05-19T08:09:53.584Z"
   },
   {
    "duration": 4,
    "start_time": "2023-05-19T08:09:55.848Z"
   },
   {
    "duration": 10,
    "start_time": "2023-05-19T08:09:57.342Z"
   },
   {
    "duration": 9,
    "start_time": "2023-05-19T08:10:14.466Z"
   },
   {
    "duration": 47,
    "start_time": "2023-05-19T08:10:14.487Z"
   },
   {
    "duration": 12,
    "start_time": "2023-05-19T08:10:14.537Z"
   },
   {
    "duration": 46,
    "start_time": "2023-05-19T08:10:14.551Z"
   },
   {
    "duration": 8,
    "start_time": "2023-05-19T08:10:14.598Z"
   },
   {
    "duration": 18,
    "start_time": "2023-05-19T08:10:14.609Z"
   },
   {
    "duration": 45,
    "start_time": "2023-05-19T08:10:14.629Z"
   },
   {
    "duration": 25,
    "start_time": "2023-05-19T08:10:14.677Z"
   },
   {
    "duration": 5,
    "start_time": "2023-05-19T08:10:14.703Z"
   },
   {
    "duration": 16,
    "start_time": "2023-05-19T08:10:14.709Z"
   },
   {
    "duration": 3,
    "start_time": "2023-05-19T08:10:14.727Z"
   },
   {
    "duration": 15,
    "start_time": "2023-05-19T08:10:14.756Z"
   },
   {
    "duration": 22,
    "start_time": "2023-05-19T08:10:14.779Z"
   },
   {
    "duration": 169,
    "start_time": "2023-05-19T08:10:14.803Z"
   },
   {
    "duration": 139,
    "start_time": "2023-05-19T08:10:14.978Z"
   },
   {
    "duration": 6,
    "start_time": "2023-05-19T08:12:19.959Z"
   },
   {
    "duration": 12,
    "start_time": "2023-05-19T08:12:21.808Z"
   },
   {
    "duration": 14,
    "start_time": "2023-05-19T08:13:45.480Z"
   },
   {
    "duration": 22,
    "start_time": "2023-05-19T08:15:33.248Z"
   },
   {
    "duration": 17,
    "start_time": "2023-05-19T08:52:24.450Z"
   },
   {
    "duration": 3,
    "start_time": "2023-05-19T08:52:36.081Z"
   },
   {
    "duration": 15,
    "start_time": "2023-05-19T08:52:37.461Z"
   },
   {
    "duration": 33,
    "start_time": "2023-05-19T08:53:09.476Z"
   },
   {
    "duration": 5,
    "start_time": "2023-05-19T08:53:13.945Z"
   },
   {
    "duration": 61,
    "start_time": "2023-05-19T08:53:13.952Z"
   },
   {
    "duration": 12,
    "start_time": "2023-05-19T08:53:14.015Z"
   },
   {
    "duration": 57,
    "start_time": "2023-05-19T08:53:14.029Z"
   },
   {
    "duration": 10,
    "start_time": "2023-05-19T08:53:14.089Z"
   },
   {
    "duration": 41,
    "start_time": "2023-05-19T08:53:14.101Z"
   },
   {
    "duration": 18,
    "start_time": "2023-05-19T08:53:14.144Z"
   },
   {
    "duration": 31,
    "start_time": "2023-05-19T08:53:14.164Z"
   },
   {
    "duration": 5,
    "start_time": "2023-05-19T08:53:14.197Z"
   },
   {
    "duration": 17,
    "start_time": "2023-05-19T08:53:14.204Z"
   },
   {
    "duration": 4,
    "start_time": "2023-05-19T08:53:14.223Z"
   },
   {
    "duration": 34,
    "start_time": "2023-05-19T08:53:14.229Z"
   },
   {
    "duration": 32,
    "start_time": "2023-05-19T08:53:14.267Z"
   },
   {
    "duration": 161,
    "start_time": "2023-05-19T08:53:14.302Z"
   },
   {
    "duration": 164,
    "start_time": "2023-05-19T08:53:14.464Z"
   },
   {
    "duration": 30,
    "start_time": "2023-05-19T08:53:51.945Z"
   },
   {
    "duration": 40,
    "start_time": "2023-05-19T08:56:08.663Z"
   },
   {
    "duration": 34,
    "start_time": "2023-05-19T08:58:27.999Z"
   },
   {
    "duration": 29,
    "start_time": "2023-05-19T08:59:51.079Z"
   },
   {
    "duration": 42,
    "start_time": "2023-05-19T09:01:05.728Z"
   },
   {
    "duration": 8,
    "start_time": "2023-05-19T09:01:18.171Z"
   },
   {
    "duration": 57,
    "start_time": "2023-05-19T09:01:18.181Z"
   },
   {
    "duration": 20,
    "start_time": "2023-05-19T09:01:18.241Z"
   },
   {
    "duration": 72,
    "start_time": "2023-05-19T09:01:18.264Z"
   },
   {
    "duration": 10,
    "start_time": "2023-05-19T09:01:18.339Z"
   },
   {
    "duration": 25,
    "start_time": "2023-05-19T09:01:18.357Z"
   },
   {
    "duration": 20,
    "start_time": "2023-05-19T09:01:18.384Z"
   },
   {
    "duration": 36,
    "start_time": "2023-05-19T09:01:18.408Z"
   },
   {
    "duration": 16,
    "start_time": "2023-05-19T09:01:18.447Z"
   },
   {
    "duration": 20,
    "start_time": "2023-05-19T09:01:18.466Z"
   },
   {
    "duration": 14,
    "start_time": "2023-05-19T09:01:18.489Z"
   },
   {
    "duration": 17,
    "start_time": "2023-05-19T09:01:18.506Z"
   },
   {
    "duration": 44,
    "start_time": "2023-05-19T09:01:18.526Z"
   },
   {
    "duration": 200,
    "start_time": "2023-05-19T09:01:18.573Z"
   },
   {
    "duration": 187,
    "start_time": "2023-05-19T09:01:18.774Z"
   },
   {
    "duration": 36,
    "start_time": "2023-05-19T09:02:21.194Z"
   },
   {
    "duration": 15,
    "start_time": "2023-05-19T09:06:38.058Z"
   },
   {
    "duration": 78,
    "start_time": "2023-05-19T09:06:38.076Z"
   },
   {
    "duration": 25,
    "start_time": "2023-05-19T09:06:38.157Z"
   },
   {
    "duration": 76,
    "start_time": "2023-05-19T09:06:38.187Z"
   },
   {
    "duration": 13,
    "start_time": "2023-05-19T09:06:38.266Z"
   },
   {
    "duration": 32,
    "start_time": "2023-05-19T09:06:38.282Z"
   },
   {
    "duration": 87,
    "start_time": "2023-05-19T09:06:38.316Z"
   },
   {
    "duration": 44,
    "start_time": "2023-05-19T09:06:38.409Z"
   },
   {
    "duration": 11,
    "start_time": "2023-05-19T09:06:38.456Z"
   },
   {
    "duration": 74,
    "start_time": "2023-05-19T09:06:38.476Z"
   },
   {
    "duration": 20,
    "start_time": "2023-05-19T09:06:38.552Z"
   },
   {
    "duration": 29,
    "start_time": "2023-05-19T09:06:38.578Z"
   },
   {
    "duration": 26,
    "start_time": "2023-05-19T09:06:38.610Z"
   },
   {
    "duration": 278,
    "start_time": "2023-05-19T09:06:38.639Z"
   },
   {
    "duration": 370,
    "start_time": "2023-05-19T09:06:38.923Z"
   },
   {
    "duration": 26,
    "start_time": "2023-05-19T09:12:20.566Z"
   },
   {
    "duration": 16,
    "start_time": "2023-05-19T09:12:33.716Z"
   },
   {
    "duration": 77,
    "start_time": "2023-05-19T09:12:33.735Z"
   },
   {
    "duration": 16,
    "start_time": "2023-05-19T09:12:33.814Z"
   },
   {
    "duration": 64,
    "start_time": "2023-05-19T09:12:33.832Z"
   },
   {
    "duration": 11,
    "start_time": "2023-05-19T09:12:33.899Z"
   },
   {
    "duration": 14,
    "start_time": "2023-05-19T09:12:33.913Z"
   },
   {
    "duration": 53,
    "start_time": "2023-05-19T09:12:33.929Z"
   },
   {
    "duration": 31,
    "start_time": "2023-05-19T09:12:33.987Z"
   },
   {
    "duration": 5,
    "start_time": "2023-05-19T09:12:34.021Z"
   },
   {
    "duration": 30,
    "start_time": "2023-05-19T09:12:34.028Z"
   },
   {
    "duration": 5,
    "start_time": "2023-05-19T09:12:34.061Z"
   },
   {
    "duration": 19,
    "start_time": "2023-05-19T09:12:34.068Z"
   },
   {
    "duration": 27,
    "start_time": "2023-05-19T09:12:34.092Z"
   },
   {
    "duration": 177,
    "start_time": "2023-05-19T09:12:34.122Z"
   },
   {
    "duration": 144,
    "start_time": "2023-05-19T09:12:34.301Z"
   },
   {
    "duration": 28,
    "start_time": "2023-05-19T09:12:52.597Z"
   },
   {
    "duration": 3,
    "start_time": "2023-05-19T09:13:39.477Z"
   },
   {
    "duration": 35,
    "start_time": "2023-05-19T09:13:42.753Z"
   },
   {
    "duration": 48,
    "start_time": "2023-05-19T09:14:04.571Z"
   },
   {
    "duration": 31,
    "start_time": "2023-05-19T09:14:48.800Z"
   },
   {
    "duration": 25,
    "start_time": "2023-05-19T09:31:52.688Z"
   },
   {
    "duration": 31,
    "start_time": "2023-05-19T09:32:33.524Z"
   },
   {
    "duration": 44,
    "start_time": "2023-05-19T09:33:04.626Z"
   },
   {
    "duration": 14,
    "start_time": "2023-05-19T09:40:21.686Z"
   },
   {
    "duration": 16,
    "start_time": "2023-05-19T09:42:03.364Z"
   },
   {
    "duration": 149,
    "start_time": "2023-05-19T11:24:46.139Z"
   },
   {
    "duration": 133,
    "start_time": "2023-05-19T11:26:29.872Z"
   },
   {
    "duration": 145,
    "start_time": "2023-05-19T11:26:58.678Z"
   },
   {
    "duration": 42,
    "start_time": "2023-05-19T11:27:31.987Z"
   },
   {
    "duration": 219,
    "start_time": "2023-05-19T11:34:01.444Z"
   },
   {
    "duration": 228,
    "start_time": "2023-05-19T11:34:42.158Z"
   },
   {
    "duration": 250,
    "start_time": "2023-05-19T11:35:12.234Z"
   },
   {
    "duration": 519,
    "start_time": "2023-05-19T11:35:29.194Z"
   },
   {
    "duration": 5,
    "start_time": "2023-05-19T11:35:47.726Z"
   },
   {
    "duration": 83,
    "start_time": "2023-05-19T11:35:47.734Z"
   },
   {
    "duration": 14,
    "start_time": "2023-05-19T11:35:47.819Z"
   },
   {
    "duration": 48,
    "start_time": "2023-05-19T11:35:47.835Z"
   },
   {
    "duration": 9,
    "start_time": "2023-05-19T11:35:47.887Z"
   },
   {
    "duration": 23,
    "start_time": "2023-05-19T11:35:47.898Z"
   },
   {
    "duration": 24,
    "start_time": "2023-05-19T11:35:47.923Z"
   },
   {
    "duration": 45,
    "start_time": "2023-05-19T11:35:47.949Z"
   },
   {
    "duration": 12,
    "start_time": "2023-05-19T11:35:47.996Z"
   },
   {
    "duration": 45,
    "start_time": "2023-05-19T11:35:48.010Z"
   },
   {
    "duration": 33,
    "start_time": "2023-05-19T11:35:48.057Z"
   },
   {
    "duration": 41,
    "start_time": "2023-05-19T11:35:48.092Z"
   },
   {
    "duration": 38,
    "start_time": "2023-05-19T11:35:48.136Z"
   },
   {
    "duration": 22,
    "start_time": "2023-05-19T11:35:48.177Z"
   },
   {
    "duration": 22,
    "start_time": "2023-05-19T11:35:48.201Z"
   },
   {
    "duration": 173,
    "start_time": "2023-05-19T11:35:48.225Z"
   },
   {
    "duration": 11,
    "start_time": "2023-05-19T11:35:48.400Z"
   },
   {
    "duration": 515,
    "start_time": "2023-05-19T11:35:48.414Z"
   },
   {
    "duration": 30,
    "start_time": "2023-05-19T11:35:48.931Z"
   },
   {
    "duration": 19,
    "start_time": "2023-05-19T14:49:00.525Z"
   },
   {
    "duration": 471,
    "start_time": "2023-05-19T14:49:09.418Z"
   },
   {
    "duration": 395,
    "start_time": "2023-05-19T14:49:50.818Z"
   },
   {
    "duration": 479,
    "start_time": "2023-05-19T14:49:58.204Z"
   },
   {
    "duration": 5,
    "start_time": "2023-05-19T14:50:06.545Z"
   },
   {
    "duration": 65,
    "start_time": "2023-05-19T14:50:06.552Z"
   },
   {
    "duration": 13,
    "start_time": "2023-05-19T14:50:06.619Z"
   },
   {
    "duration": 55,
    "start_time": "2023-05-19T14:50:06.634Z"
   },
   {
    "duration": 7,
    "start_time": "2023-05-19T14:50:06.692Z"
   },
   {
    "duration": 15,
    "start_time": "2023-05-19T14:50:06.701Z"
   },
   {
    "duration": 14,
    "start_time": "2023-05-19T14:50:06.718Z"
   },
   {
    "duration": 60,
    "start_time": "2023-05-19T14:50:06.734Z"
   },
   {
    "duration": 6,
    "start_time": "2023-05-19T14:50:06.798Z"
   },
   {
    "duration": 14,
    "start_time": "2023-05-19T14:50:06.805Z"
   },
   {
    "duration": 3,
    "start_time": "2023-05-19T14:50:06.821Z"
   },
   {
    "duration": 22,
    "start_time": "2023-05-19T14:50:06.826Z"
   },
   {
    "duration": 41,
    "start_time": "2023-05-19T14:50:06.851Z"
   },
   {
    "duration": 18,
    "start_time": "2023-05-19T14:50:06.896Z"
   },
   {
    "duration": 20,
    "start_time": "2023-05-19T14:50:06.916Z"
   },
   {
    "duration": 154,
    "start_time": "2023-05-19T14:50:06.937Z"
   },
   {
    "duration": 7,
    "start_time": "2023-05-19T14:50:07.093Z"
   },
   {
    "duration": 501,
    "start_time": "2023-05-19T14:50:07.102Z"
   },
   {
    "duration": 9,
    "start_time": "2023-05-19T14:50:07.605Z"
   },
   {
    "duration": 62,
    "start_time": "2023-05-19T14:52:03.828Z"
   },
   {
    "duration": 16,
    "start_time": "2023-05-19T15:01:18.845Z"
   },
   {
    "duration": 30,
    "start_time": "2023-05-19T15:01:31.349Z"
   },
   {
    "duration": 10,
    "start_time": "2023-05-19T15:01:34.109Z"
   },
   {
    "duration": 11,
    "start_time": "2023-05-19T15:02:02.842Z"
   },
   {
    "duration": 9,
    "start_time": "2023-05-19T17:23:01.777Z"
   },
   {
    "duration": 8,
    "start_time": "2023-05-19T17:23:22.721Z"
   },
   {
    "duration": 9,
    "start_time": "2023-05-19T17:23:56.074Z"
   },
   {
    "duration": 16,
    "start_time": "2023-05-19T17:32:37.990Z"
   },
   {
    "duration": 11,
    "start_time": "2023-05-19T17:33:03.644Z"
   },
   {
    "duration": 17,
    "start_time": "2023-05-19T17:33:50.614Z"
   },
   {
    "duration": 12,
    "start_time": "2023-05-19T17:33:57.984Z"
   },
   {
    "duration": 9,
    "start_time": "2023-05-19T17:34:19.371Z"
   },
   {
    "duration": 8,
    "start_time": "2023-05-19T17:36:27.086Z"
   },
   {
    "duration": 24,
    "start_time": "2023-05-19T17:36:28.542Z"
   },
   {
    "duration": 8,
    "start_time": "2023-05-19T17:36:31.479Z"
   },
   {
    "duration": 11,
    "start_time": "2023-05-19T17:36:45.958Z"
   },
   {
    "duration": 9,
    "start_time": "2023-05-19T17:36:52.523Z"
   },
   {
    "duration": 51,
    "start_time": "2023-05-19T17:40:10.497Z"
   },
   {
    "duration": 136,
    "start_time": "2023-05-19T17:44:03.726Z"
   },
   {
    "duration": 691,
    "start_time": "2023-05-19T17:44:14.412Z"
   },
   {
    "duration": 124,
    "start_time": "2023-05-19T18:15:10.927Z"
   },
   {
    "duration": 5487,
    "start_time": "2023-05-19T18:15:47.002Z"
   },
   {
    "duration": 7068,
    "start_time": "2023-05-19T18:17:51.640Z"
   },
   {
    "duration": 5284,
    "start_time": "2023-05-19T18:18:06.226Z"
   },
   {
    "duration": 13,
    "start_time": "2023-05-19T18:20:07.962Z"
   },
   {
    "duration": 24,
    "start_time": "2023-05-19T18:21:02.538Z"
   },
   {
    "duration": 33,
    "start_time": "2023-05-19T18:21:40.540Z"
   },
   {
    "duration": 5062,
    "start_time": "2023-05-19T18:21:50.744Z"
   },
   {
    "duration": 44,
    "start_time": "2023-05-19T18:35:36.512Z"
   },
   {
    "duration": 13,
    "start_time": "2023-05-19T18:41:12.115Z"
   },
   {
    "duration": 16,
    "start_time": "2023-05-19T18:41:52.144Z"
   },
   {
    "duration": 503,
    "start_time": "2023-05-19T18:42:14.060Z"
   },
   {
    "duration": 39,
    "start_time": "2023-05-19T18:55:19.395Z"
   },
   {
    "duration": 38,
    "start_time": "2023-05-19T18:56:25.250Z"
   },
   {
    "duration": 5,
    "start_time": "2023-05-19T18:56:36.081Z"
   },
   {
    "duration": 85,
    "start_time": "2023-05-19T18:56:36.088Z"
   },
   {
    "duration": 13,
    "start_time": "2023-05-19T18:56:36.175Z"
   },
   {
    "duration": 44,
    "start_time": "2023-05-19T18:56:36.190Z"
   },
   {
    "duration": 9,
    "start_time": "2023-05-19T18:56:36.255Z"
   },
   {
    "duration": 20,
    "start_time": "2023-05-19T18:56:36.265Z"
   },
   {
    "duration": 13,
    "start_time": "2023-05-19T18:56:36.287Z"
   },
   {
    "duration": 22,
    "start_time": "2023-05-19T18:56:36.302Z"
   },
   {
    "duration": 5,
    "start_time": "2023-05-19T18:56:36.327Z"
   },
   {
    "duration": 14,
    "start_time": "2023-05-19T18:56:36.357Z"
   },
   {
    "duration": 13,
    "start_time": "2023-05-19T18:56:36.372Z"
   },
   {
    "duration": 26,
    "start_time": "2023-05-19T18:56:36.387Z"
   },
   {
    "duration": 34,
    "start_time": "2023-05-19T18:56:36.414Z"
   },
   {
    "duration": 18,
    "start_time": "2023-05-19T18:56:36.451Z"
   },
   {
    "duration": 19,
    "start_time": "2023-05-19T18:56:36.471Z"
   },
   {
    "duration": 133,
    "start_time": "2023-05-19T18:56:36.492Z"
   },
   {
    "duration": 7,
    "start_time": "2023-05-19T18:56:36.627Z"
   },
   {
    "duration": 458,
    "start_time": "2023-05-19T18:56:36.636Z"
   },
   {
    "duration": 20,
    "start_time": "2023-05-19T18:56:37.096Z"
   },
   {
    "duration": 7,
    "start_time": "2023-05-19T18:56:37.118Z"
   },
   {
    "duration": 35,
    "start_time": "2023-05-19T18:56:37.126Z"
   },
   {
    "duration": 5999,
    "start_time": "2023-05-19T18:56:37.163Z"
   },
   {
    "duration": 4994,
    "start_time": "2023-05-19T18:56:43.164Z"
   },
   {
    "duration": 34,
    "start_time": "2023-05-19T18:56:48.160Z"
   },
   {
    "duration": 378,
    "start_time": "2023-05-19T18:56:48.196Z"
   },
   {
    "duration": 41,
    "start_time": "2023-05-19T18:56:48.576Z"
   },
   {
    "duration": 12,
    "start_time": "2023-05-19T18:56:48.619Z"
   },
   {
    "duration": 430,
    "start_time": "2023-05-19T19:00:59.295Z"
   },
   {
    "duration": 20,
    "start_time": "2023-05-19T19:03:12.820Z"
   },
   {
    "duration": 13,
    "start_time": "2023-05-19T19:05:47.172Z"
   },
   {
    "duration": 8,
    "start_time": "2023-05-19T19:06:10.149Z"
   },
   {
    "duration": 5049,
    "start_time": "2023-05-19T19:07:43.595Z"
   },
   {
    "duration": 4967,
    "start_time": "2023-05-19T19:07:56.561Z"
   },
   {
    "duration": 92,
    "start_time": "2023-05-19T19:08:50.740Z"
   },
   {
    "duration": 96,
    "start_time": "2023-05-19T19:11:00.186Z"
   },
   {
    "duration": 17,
    "start_time": "2023-05-19T19:11:59.252Z"
   },
   {
    "duration": 680,
    "start_time": "2023-05-19T19:12:11.497Z"
   },
   {
    "duration": 68,
    "start_time": "2023-05-19T19:13:05.094Z"
   },
   {
    "duration": 11,
    "start_time": "2023-05-19T19:13:42.161Z"
   },
   {
    "duration": 10,
    "start_time": "2023-05-19T19:15:54.089Z"
   },
   {
    "duration": 23,
    "start_time": "2023-05-19T19:16:52.668Z"
   },
   {
    "duration": 17,
    "start_time": "2023-05-19T19:17:25.406Z"
   },
   {
    "duration": 14,
    "start_time": "2023-05-19T19:17:56.028Z"
   },
   {
    "duration": 20,
    "start_time": "2023-05-19T19:19:11.473Z"
   },
   {
    "duration": 9,
    "start_time": "2023-05-19T19:19:13.096Z"
   },
   {
    "duration": 10,
    "start_time": "2023-05-19T19:20:25.864Z"
   },
   {
    "duration": 10,
    "start_time": "2023-05-19T19:20:43.798Z"
   },
   {
    "duration": 10,
    "start_time": "2023-05-19T19:21:42.364Z"
   },
   {
    "duration": 4884,
    "start_time": "2023-05-19T19:21:50.844Z"
   },
   {
    "duration": 5091,
    "start_time": "2023-05-19T19:22:19.524Z"
   },
   {
    "duration": 89,
    "start_time": "2023-05-19T19:22:46.378Z"
   },
   {
    "duration": 18,
    "start_time": "2023-05-19T19:23:00.083Z"
   },
   {
    "duration": 17,
    "start_time": "2023-05-19T19:23:22.030Z"
   },
   {
    "duration": 205,
    "start_time": "2023-05-19T19:23:38.058Z"
   },
   {
    "duration": 79,
    "start_time": "2023-05-19T19:24:32.181Z"
   },
   {
    "duration": 17,
    "start_time": "2023-05-19T19:24:48.188Z"
   },
   {
    "duration": 10,
    "start_time": "2023-05-19T19:25:30.368Z"
   },
   {
    "duration": 5,
    "start_time": "2023-05-19T19:25:38.947Z"
   },
   {
    "duration": 171,
    "start_time": "2023-05-19T19:25:38.955Z"
   },
   {
    "duration": 14,
    "start_time": "2023-05-19T19:25:39.128Z"
   },
   {
    "duration": 41,
    "start_time": "2023-05-19T19:25:39.144Z"
   },
   {
    "duration": 8,
    "start_time": "2023-05-19T19:25:39.187Z"
   },
   {
    "duration": 20,
    "start_time": "2023-05-19T19:25:39.197Z"
   },
   {
    "duration": 16,
    "start_time": "2023-05-19T19:25:39.219Z"
   },
   {
    "duration": 34,
    "start_time": "2023-05-19T19:25:39.237Z"
   },
   {
    "duration": 4,
    "start_time": "2023-05-19T19:25:39.273Z"
   },
   {
    "duration": 11,
    "start_time": "2023-05-19T19:25:39.279Z"
   },
   {
    "duration": 5,
    "start_time": "2023-05-19T19:25:39.292Z"
   },
   {
    "duration": 9,
    "start_time": "2023-05-19T19:25:39.299Z"
   },
   {
    "duration": 54,
    "start_time": "2023-05-19T19:25:39.309Z"
   },
   {
    "duration": 19,
    "start_time": "2023-05-19T19:25:39.365Z"
   },
   {
    "duration": 18,
    "start_time": "2023-05-19T19:25:39.385Z"
   },
   {
    "duration": 138,
    "start_time": "2023-05-19T19:25:39.404Z"
   },
   {
    "duration": 7,
    "start_time": "2023-05-19T19:25:39.556Z"
   },
   {
    "duration": 434,
    "start_time": "2023-05-19T19:25:39.565Z"
   },
   {
    "duration": 21,
    "start_time": "2023-05-19T19:25:40.000Z"
   },
   {
    "duration": 7,
    "start_time": "2023-05-19T19:25:40.023Z"
   },
   {
    "duration": 31,
    "start_time": "2023-05-19T19:25:40.032Z"
   },
   {
    "duration": 4953,
    "start_time": "2023-05-19T19:25:40.065Z"
   },
   {
    "duration": 5020,
    "start_time": "2023-05-19T19:25:45.020Z"
   },
   {
    "duration": 92,
    "start_time": "2023-05-19T19:25:50.043Z"
   },
   {
    "duration": 29,
    "start_time": "2023-05-19T19:25:50.137Z"
   },
   {
    "duration": 192,
    "start_time": "2023-05-19T19:25:50.168Z"
   },
   {
    "duration": 95,
    "start_time": "2023-05-19T19:25:50.362Z"
   },
   {
    "duration": 238,
    "start_time": "2023-05-19T19:25:50.460Z"
   },
   {
    "duration": 149,
    "start_time": "2023-05-19T19:29:35.792Z"
   },
   {
    "duration": 13,
    "start_time": "2023-05-19T19:30:09.363Z"
   },
   {
    "duration": 158,
    "start_time": "2023-05-19T19:30:16.312Z"
   },
   {
    "duration": 15,
    "start_time": "2023-05-19T19:30:23.812Z"
   },
   {
    "duration": 251,
    "start_time": "2023-05-19T19:30:25.194Z"
   },
   {
    "duration": 191,
    "start_time": "2023-05-19T19:30:33.611Z"
   },
   {
    "duration": 192,
    "start_time": "2023-05-19T19:30:40.430Z"
   },
   {
    "duration": 15,
    "start_time": "2023-05-19T19:39:58.913Z"
   },
   {
    "duration": 397,
    "start_time": "2023-05-19T19:40:05.033Z"
   },
   {
    "duration": 19,
    "start_time": "2023-05-19T19:40:07.450Z"
   },
   {
    "duration": 9,
    "start_time": "2023-05-19T19:40:09.116Z"
   },
   {
    "duration": 10,
    "start_time": "2023-05-19T19:41:36.252Z"
   },
   {
    "duration": 97,
    "start_time": "2023-05-19T19:41:43.002Z"
   },
   {
    "duration": 16,
    "start_time": "2023-05-19T19:41:45.010Z"
   },
   {
    "duration": 12,
    "start_time": "2023-05-19T19:42:44.318Z"
   },
   {
    "duration": 12,
    "start_time": "2023-05-19T19:42:49.829Z"
   },
   {
    "duration": 15,
    "start_time": "2023-05-19T19:42:53.552Z"
   },
   {
    "duration": 229,
    "start_time": "2023-05-19T19:43:01.115Z"
   },
   {
    "duration": 39,
    "start_time": "2023-05-19T19:46:00.417Z"
   },
   {
    "duration": 4,
    "start_time": "2023-05-19T19:47:44.569Z"
   },
   {
    "duration": 100,
    "start_time": "2023-05-19T19:47:53.761Z"
   },
   {
    "duration": 354,
    "start_time": "2023-05-19T19:48:37.034Z"
   },
   {
    "duration": 28,
    "start_time": "2023-05-19T19:49:10.635Z"
   },
   {
    "duration": 467,
    "start_time": "2023-05-19T19:49:16.376Z"
   },
   {
    "duration": 319,
    "start_time": "2023-05-19T19:49:27.647Z"
   },
   {
    "duration": 335,
    "start_time": "2023-05-19T19:49:35.851Z"
   },
   {
    "duration": 55,
    "start_time": "2023-05-19T19:50:10.709Z"
   },
   {
    "duration": 13,
    "start_time": "2023-05-19T19:52:24.135Z"
   },
   {
    "duration": 15,
    "start_time": "2023-05-19T19:52:42.632Z"
   },
   {
    "duration": 103,
    "start_time": "2023-05-19T19:53:01.078Z"
   },
   {
    "duration": 144,
    "start_time": "2023-05-19T19:54:32.611Z"
   },
   {
    "duration": 24,
    "start_time": "2023-05-19T19:56:13.087Z"
   },
   {
    "duration": 168,
    "start_time": "2023-05-19T19:56:37.196Z"
   },
   {
    "duration": 212,
    "start_time": "2023-05-19T19:59:39.555Z"
   },
   {
    "duration": 25,
    "start_time": "2023-05-19T19:59:46.778Z"
   },
   {
    "duration": 97,
    "start_time": "2023-05-19T20:03:45.469Z"
   },
   {
    "duration": 11,
    "start_time": "2023-05-19T20:04:59.650Z"
   },
   {
    "duration": 11,
    "start_time": "2023-05-19T20:05:39.791Z"
   },
   {
    "duration": 10,
    "start_time": "2023-05-19T20:06:05.397Z"
   },
   {
    "duration": 17,
    "start_time": "2023-05-19T20:06:50.902Z"
   },
   {
    "duration": 16,
    "start_time": "2023-05-19T20:07:43.389Z"
   },
   {
    "duration": 11,
    "start_time": "2023-05-19T20:08:00.064Z"
   },
   {
    "duration": 10,
    "start_time": "2023-05-19T20:09:09.292Z"
   },
   {
    "duration": 10,
    "start_time": "2023-05-19T20:10:22.241Z"
   },
   {
    "duration": 5,
    "start_time": "2023-05-19T20:10:35.189Z"
   },
   {
    "duration": 55,
    "start_time": "2023-05-19T20:10:35.196Z"
   },
   {
    "duration": 12,
    "start_time": "2023-05-19T20:10:35.253Z"
   },
   {
    "duration": 38,
    "start_time": "2023-05-19T20:10:35.267Z"
   },
   {
    "duration": 7,
    "start_time": "2023-05-19T20:10:35.307Z"
   },
   {
    "duration": 11,
    "start_time": "2023-05-19T20:10:35.315Z"
   },
   {
    "duration": 37,
    "start_time": "2023-05-19T20:10:35.328Z"
   },
   {
    "duration": 18,
    "start_time": "2023-05-19T20:10:35.367Z"
   },
   {
    "duration": 4,
    "start_time": "2023-05-19T20:10:35.387Z"
   },
   {
    "duration": 14,
    "start_time": "2023-05-19T20:10:35.392Z"
   },
   {
    "duration": 3,
    "start_time": "2023-05-19T20:10:35.408Z"
   },
   {
    "duration": 17,
    "start_time": "2023-05-19T20:10:35.412Z"
   },
   {
    "duration": 47,
    "start_time": "2023-05-19T20:10:35.431Z"
   },
   {
    "duration": 17,
    "start_time": "2023-05-19T20:10:35.481Z"
   },
   {
    "duration": 20,
    "start_time": "2023-05-19T20:10:35.500Z"
   },
   {
    "duration": 156,
    "start_time": "2023-05-19T20:10:35.522Z"
   },
   {
    "duration": 6,
    "start_time": "2023-05-19T20:10:35.680Z"
   },
   {
    "duration": 435,
    "start_time": "2023-05-19T20:10:35.688Z"
   },
   {
    "duration": 34,
    "start_time": "2023-05-19T20:10:36.125Z"
   },
   {
    "duration": 4,
    "start_time": "2023-05-19T20:10:37.143Z"
   },
   {
    "duration": 48,
    "start_time": "2023-05-19T20:10:37.150Z"
   },
   {
    "duration": 15,
    "start_time": "2023-05-19T20:10:37.200Z"
   },
   {
    "duration": 50,
    "start_time": "2023-05-19T20:10:37.216Z"
   },
   {
    "duration": 8,
    "start_time": "2023-05-19T20:10:37.268Z"
   },
   {
    "duration": 17,
    "start_time": "2023-05-19T20:10:37.278Z"
   },
   {
    "duration": 19,
    "start_time": "2023-05-19T20:10:37.297Z"
   },
   {
    "duration": 47,
    "start_time": "2023-05-19T20:10:37.318Z"
   },
   {
    "duration": 4,
    "start_time": "2023-05-19T20:10:37.367Z"
   },
   {
    "duration": 26,
    "start_time": "2023-05-19T20:10:37.373Z"
   },
   {
    "duration": 4,
    "start_time": "2023-05-19T20:10:37.401Z"
   },
   {
    "duration": 10,
    "start_time": "2023-05-19T20:10:37.407Z"
   },
   {
    "duration": 51,
    "start_time": "2023-05-19T20:10:37.419Z"
   },
   {
    "duration": 19,
    "start_time": "2023-05-19T20:10:37.473Z"
   },
   {
    "duration": 24,
    "start_time": "2023-05-19T20:10:37.494Z"
   },
   {
    "duration": 141,
    "start_time": "2023-05-19T20:10:37.520Z"
   },
   {
    "duration": 6,
    "start_time": "2023-05-19T20:10:37.663Z"
   },
   {
    "duration": 409,
    "start_time": "2023-05-19T20:10:37.671Z"
   },
   {
    "duration": 19,
    "start_time": "2023-05-19T20:10:38.082Z"
   },
   {
    "duration": 9,
    "start_time": "2023-05-19T20:10:38.103Z"
   },
   {
    "duration": 8,
    "start_time": "2023-05-19T20:10:38.114Z"
   },
   {
    "duration": 46,
    "start_time": "2023-05-19T20:10:38.124Z"
   },
   {
    "duration": 143,
    "start_time": "2023-05-19T20:10:38.172Z"
   },
   {
    "duration": 6281,
    "start_time": "2023-05-19T20:10:38.316Z"
   },
   {
    "duration": 5107,
    "start_time": "2023-05-19T20:10:44.599Z"
   },
   {
    "duration": 92,
    "start_time": "2023-05-19T20:10:49.708Z"
   },
   {
    "duration": 10,
    "start_time": "2023-05-19T20:10:49.801Z"
   },
   {
    "duration": 21,
    "start_time": "2023-05-19T20:10:49.813Z"
   },
   {
    "duration": 110,
    "start_time": "2023-05-19T20:10:49.835Z"
   },
   {
    "duration": 154,
    "start_time": "2023-05-19T20:10:49.956Z"
   },
   {
    "duration": 146,
    "start_time": "2023-05-19T20:10:50.111Z"
   },
   {
    "duration": 99,
    "start_time": "2023-05-19T20:10:50.258Z"
   },
   {
    "duration": 18,
    "start_time": "2023-05-19T20:10:50.359Z"
   },
   {
    "duration": 118,
    "start_time": "2023-05-19T20:10:50.457Z"
   },
   {
    "duration": 328,
    "start_time": "2023-05-19T20:10:50.657Z"
   },
   {
    "duration": 202,
    "start_time": "2023-05-19T20:10:50.987Z"
   },
   {
    "duration": 28,
    "start_time": "2023-05-19T20:11:17.741Z"
   },
   {
    "duration": 5,
    "start_time": "2023-05-19T20:14:30.213Z"
   },
   {
    "duration": 118,
    "start_time": "2023-05-19T20:14:30.220Z"
   },
   {
    "duration": 12,
    "start_time": "2023-05-19T20:14:30.340Z"
   },
   {
    "duration": 80,
    "start_time": "2023-05-19T20:14:30.354Z"
   },
   {
    "duration": 8,
    "start_time": "2023-05-19T20:14:30.437Z"
   },
   {
    "duration": 58,
    "start_time": "2023-05-19T20:14:30.446Z"
   },
   {
    "duration": 34,
    "start_time": "2023-05-19T20:14:30.506Z"
   },
   {
    "duration": 55,
    "start_time": "2023-05-19T20:14:30.542Z"
   },
   {
    "duration": 20,
    "start_time": "2023-05-19T20:14:30.599Z"
   },
   {
    "duration": 59,
    "start_time": "2023-05-19T20:14:30.621Z"
   },
   {
    "duration": 42,
    "start_time": "2023-05-19T20:14:30.682Z"
   },
   {
    "duration": 52,
    "start_time": "2023-05-19T20:14:30.726Z"
   },
   {
    "duration": 46,
    "start_time": "2023-05-19T20:14:30.780Z"
   },
   {
    "duration": 49,
    "start_time": "2023-05-19T20:14:30.830Z"
   },
   {
    "duration": 40,
    "start_time": "2023-05-19T20:14:30.881Z"
   },
   {
    "duration": 145,
    "start_time": "2023-05-19T20:14:30.923Z"
   },
   {
    "duration": 9,
    "start_time": "2023-05-19T20:14:31.070Z"
   },
   {
    "duration": 557,
    "start_time": "2023-05-19T20:14:31.081Z"
   },
   {
    "duration": 37,
    "start_time": "2023-05-19T20:14:31.640Z"
   },
   {
    "duration": 13,
    "start_time": "2023-05-19T20:14:31.680Z"
   },
   {
    "duration": 26,
    "start_time": "2023-05-19T20:14:31.694Z"
   },
   {
    "duration": 82,
    "start_time": "2023-05-19T20:14:31.722Z"
   },
   {
    "duration": 143,
    "start_time": "2023-05-19T20:14:31.806Z"
   },
   {
    "duration": 5795,
    "start_time": "2023-05-19T20:14:31.956Z"
   },
   {
    "duration": 5035,
    "start_time": "2023-05-19T20:14:37.755Z"
   },
   {
    "duration": 102,
    "start_time": "2023-05-19T20:14:42.792Z"
   },
   {
    "duration": 11,
    "start_time": "2023-05-19T20:14:42.896Z"
   },
   {
    "duration": 19,
    "start_time": "2023-05-19T20:14:42.909Z"
   },
   {
    "duration": 116,
    "start_time": "2023-05-19T20:14:42.930Z"
   },
   {
    "duration": 166,
    "start_time": "2023-05-19T20:14:43.048Z"
   },
   {
    "duration": 145,
    "start_time": "2023-05-19T20:14:43.216Z"
   },
   {
    "duration": 95,
    "start_time": "2023-05-19T20:14:43.364Z"
   },
   {
    "duration": 100,
    "start_time": "2023-05-19T20:14:43.464Z"
   },
   {
    "duration": 291,
    "start_time": "2023-05-19T20:14:43.568Z"
   },
   {
    "duration": 481,
    "start_time": "2023-05-19T20:14:43.861Z"
   },
   {
    "duration": 217,
    "start_time": "2023-05-19T20:14:44.344Z"
   },
   {
    "duration": 140,
    "start_time": "2023-05-19T20:21:42.790Z"
   },
   {
    "duration": 117,
    "start_time": "2023-05-19T20:22:20.221Z"
   },
   {
    "duration": 132,
    "start_time": "2023-05-19T20:22:53.453Z"
   },
   {
    "duration": 123,
    "start_time": "2023-05-19T20:23:16.151Z"
   },
   {
    "duration": 121,
    "start_time": "2023-05-19T20:23:46.372Z"
   },
   {
    "duration": 117,
    "start_time": "2023-05-19T20:24:14.824Z"
   },
   {
    "duration": 124,
    "start_time": "2023-05-19T20:25:11.076Z"
   },
   {
    "duration": 263,
    "start_time": "2023-05-19T20:26:50.072Z"
   },
   {
    "duration": 115,
    "start_time": "2023-05-19T20:27:39.694Z"
   },
   {
    "duration": 112,
    "start_time": "2023-05-19T20:27:45.880Z"
   },
   {
    "duration": 112,
    "start_time": "2023-05-19T20:27:51.842Z"
   },
   {
    "duration": 129,
    "start_time": "2023-05-19T20:28:00.962Z"
   },
   {
    "duration": 289,
    "start_time": "2023-05-19T20:28:17.256Z"
   },
   {
    "duration": 321,
    "start_time": "2023-05-19T20:28:28.747Z"
   },
   {
    "duration": 267,
    "start_time": "2023-05-19T20:28:33.025Z"
   },
   {
    "duration": 24,
    "start_time": "2023-05-19T21:02:05.714Z"
   },
   {
    "duration": 24,
    "start_time": "2023-05-19T21:02:33.111Z"
   },
   {
    "duration": 92,
    "start_time": "2023-05-19T21:02:46.027Z"
   },
   {
    "duration": 22,
    "start_time": "2023-05-19T21:03:07.864Z"
   },
   {
    "duration": 84,
    "start_time": "2023-05-19T21:03:10.871Z"
   },
   {
    "duration": 20,
    "start_time": "2023-05-19T21:03:25.030Z"
   },
   {
    "duration": 5,
    "start_time": "2023-05-19T21:03:29.078Z"
   },
   {
    "duration": 56,
    "start_time": "2023-05-19T21:03:29.085Z"
   },
   {
    "duration": 11,
    "start_time": "2023-05-19T21:03:29.143Z"
   },
   {
    "duration": 39,
    "start_time": "2023-05-19T21:03:29.156Z"
   },
   {
    "duration": 7,
    "start_time": "2023-05-19T21:03:29.198Z"
   },
   {
    "duration": 10,
    "start_time": "2023-05-19T21:03:29.207Z"
   },
   {
    "duration": 42,
    "start_time": "2023-05-19T21:03:29.219Z"
   },
   {
    "duration": 19,
    "start_time": "2023-05-19T21:03:29.263Z"
   },
   {
    "duration": 4,
    "start_time": "2023-05-19T21:03:29.284Z"
   },
   {
    "duration": 10,
    "start_time": "2023-05-19T21:03:29.289Z"
   },
   {
    "duration": 3,
    "start_time": "2023-05-19T21:03:29.301Z"
   },
   {
    "duration": 9,
    "start_time": "2023-05-19T21:03:29.305Z"
   },
   {
    "duration": 58,
    "start_time": "2023-05-19T21:03:29.315Z"
   },
   {
    "duration": 16,
    "start_time": "2023-05-19T21:03:29.376Z"
   },
   {
    "duration": 19,
    "start_time": "2023-05-19T21:03:29.394Z"
   },
   {
    "duration": 144,
    "start_time": "2023-05-19T21:03:29.415Z"
   },
   {
    "duration": 8,
    "start_time": "2023-05-19T21:03:29.561Z"
   },
   {
    "duration": 434,
    "start_time": "2023-05-19T21:03:29.571Z"
   },
   {
    "duration": 18,
    "start_time": "2023-05-19T21:03:30.007Z"
   },
   {
    "duration": 29,
    "start_time": "2023-05-19T21:03:30.027Z"
   },
   {
    "duration": 119,
    "start_time": "2023-05-19T21:03:30.058Z"
   },
   {
    "duration": 8,
    "start_time": "2023-05-19T21:03:30.179Z"
   },
   {
    "duration": 36,
    "start_time": "2023-05-19T21:03:30.189Z"
   },
   {
    "duration": 149,
    "start_time": "2023-05-19T21:03:30.226Z"
   },
   {
    "duration": 4619,
    "start_time": "2023-05-19T21:03:30.377Z"
   },
   {
    "duration": 4789,
    "start_time": "2023-05-19T21:03:34.998Z"
   },
   {
    "duration": 88,
    "start_time": "2023-05-19T21:03:39.789Z"
   },
   {
    "duration": 10,
    "start_time": "2023-05-19T21:03:39.879Z"
   },
   {
    "duration": 141,
    "start_time": "2023-05-19T21:03:39.892Z"
   },
   {
    "duration": 25,
    "start_time": "2023-05-19T21:03:40.035Z"
   },
   {
    "duration": 109,
    "start_time": "2023-05-19T21:03:40.062Z"
   },
   {
    "duration": 156,
    "start_time": "2023-05-19T21:03:40.173Z"
   },
   {
    "duration": 224,
    "start_time": "2023-05-19T21:03:40.332Z"
   },
   {
    "duration": 103,
    "start_time": "2023-05-19T21:03:40.559Z"
   },
   {
    "duration": 714,
    "start_time": "2023-05-19T21:03:40.664Z"
   },
   {
    "duration": 177,
    "start_time": "2023-05-19T21:03:41.380Z"
   },
   {
    "duration": 198,
    "start_time": "2023-05-19T21:03:41.559Z"
   },
   {
    "duration": 429,
    "start_time": "2023-05-19T21:03:41.759Z"
   },
   {
    "duration": 392,
    "start_time": "2023-05-19T21:03:42.189Z"
   },
   {
    "duration": 74,
    "start_time": "2023-05-19T21:03:42.583Z"
   },
   {
    "duration": 131,
    "start_time": "2023-05-19T21:03:42.661Z"
   },
   {
    "duration": 72,
    "start_time": "2023-05-19T21:03:42.794Z"
   },
   {
    "duration": 21,
    "start_time": "2023-05-19T21:04:05.347Z"
   },
   {
    "duration": 27,
    "start_time": "2023-05-19T21:04:31.030Z"
   },
   {
    "duration": 5,
    "start_time": "2023-05-19T21:04:34.930Z"
   },
   {
    "duration": 54,
    "start_time": "2023-05-19T21:04:34.937Z"
   },
   {
    "duration": 12,
    "start_time": "2023-05-19T21:04:34.993Z"
   },
   {
    "duration": 63,
    "start_time": "2023-05-19T21:04:35.007Z"
   },
   {
    "duration": 7,
    "start_time": "2023-05-19T21:04:35.072Z"
   },
   {
    "duration": 25,
    "start_time": "2023-05-19T21:04:35.081Z"
   },
   {
    "duration": 33,
    "start_time": "2023-05-19T21:04:35.108Z"
   },
   {
    "duration": 19,
    "start_time": "2023-05-19T21:04:35.143Z"
   },
   {
    "duration": 4,
    "start_time": "2023-05-19T21:04:35.163Z"
   },
   {
    "duration": 12,
    "start_time": "2023-05-19T21:04:35.169Z"
   },
   {
    "duration": 3,
    "start_time": "2023-05-19T21:04:35.182Z"
   },
   {
    "duration": 34,
    "start_time": "2023-05-19T21:04:35.186Z"
   },
   {
    "duration": 35,
    "start_time": "2023-05-19T21:04:35.222Z"
   },
   {
    "duration": 17,
    "start_time": "2023-05-19T21:04:35.260Z"
   },
   {
    "duration": 39,
    "start_time": "2023-05-19T21:04:35.279Z"
   },
   {
    "duration": 111,
    "start_time": "2023-05-19T21:04:35.320Z"
   },
   {
    "duration": 7,
    "start_time": "2023-05-19T21:04:35.434Z"
   },
   {
    "duration": 497,
    "start_time": "2023-05-19T21:04:35.443Z"
   },
   {
    "duration": 32,
    "start_time": "2023-05-19T21:04:35.941Z"
   },
   {
    "duration": 16,
    "start_time": "2023-05-19T21:04:35.974Z"
   },
   {
    "duration": 143,
    "start_time": "2023-05-19T21:04:35.992Z"
   },
   {
    "duration": 10,
    "start_time": "2023-05-19T21:04:36.136Z"
   },
   {
    "duration": 23,
    "start_time": "2023-05-19T21:04:36.156Z"
   },
   {
    "duration": 152,
    "start_time": "2023-05-19T21:04:36.180Z"
   },
   {
    "duration": 4712,
    "start_time": "2023-05-19T21:04:36.334Z"
   },
   {
    "duration": 4595,
    "start_time": "2023-05-19T21:04:41.048Z"
   },
   {
    "duration": 94,
    "start_time": "2023-05-19T21:04:45.645Z"
   },
   {
    "duration": 19,
    "start_time": "2023-05-19T21:04:45.741Z"
   },
   {
    "duration": 126,
    "start_time": "2023-05-19T21:04:45.762Z"
   },
   {
    "duration": 16,
    "start_time": "2023-05-19T21:04:45.890Z"
   },
   {
    "duration": 109,
    "start_time": "2023-05-19T21:04:45.907Z"
   },
   {
    "duration": 148,
    "start_time": "2023-05-19T21:04:46.018Z"
   },
   {
    "duration": 190,
    "start_time": "2023-05-19T21:04:46.167Z"
   },
   {
    "duration": 98,
    "start_time": "2023-05-19T21:04:46.359Z"
   },
   {
    "duration": 300,
    "start_time": "2023-05-19T21:04:46.460Z"
   },
   {
    "duration": 10,
    "start_time": "2023-05-19T21:04:46.761Z"
   },
   {
    "duration": 185,
    "start_time": "2023-05-19T21:04:46.773Z"
   },
   {
    "duration": 326,
    "start_time": "2023-05-19T21:04:46.960Z"
   },
   {
    "duration": 212,
    "start_time": "2023-05-19T21:04:47.288Z"
   },
   {
    "duration": 23,
    "start_time": "2023-05-19T21:04:47.501Z"
   },
   {
    "duration": 111,
    "start_time": "2023-05-19T21:04:47.527Z"
   },
   {
    "duration": 28,
    "start_time": "2023-05-19T21:04:47.640Z"
   },
   {
    "duration": 298,
    "start_time": "2023-05-19T21:11:11.238Z"
   },
   {
    "duration": 32,
    "start_time": "2023-05-19T21:11:35.247Z"
   },
   {
    "duration": 23,
    "start_time": "2023-05-19T21:11:39.442Z"
   },
   {
    "duration": 25,
    "start_time": "2023-05-19T21:22:04.999Z"
   },
   {
    "duration": 37,
    "start_time": "2023-05-19T21:27:41.144Z"
   },
   {
    "duration": 25,
    "start_time": "2023-05-19T21:28:04.899Z"
   },
   {
    "duration": 5,
    "start_time": "2023-05-19T21:28:18.287Z"
   },
   {
    "duration": 49,
    "start_time": "2023-05-19T21:28:18.295Z"
   },
   {
    "duration": 16,
    "start_time": "2023-05-19T21:28:18.346Z"
   },
   {
    "duration": 62,
    "start_time": "2023-05-19T21:28:18.364Z"
   },
   {
    "duration": 27,
    "start_time": "2023-05-19T21:28:18.431Z"
   },
   {
    "duration": 13,
    "start_time": "2023-05-19T21:28:18.460Z"
   },
   {
    "duration": 24,
    "start_time": "2023-05-19T21:28:18.475Z"
   },
   {
    "duration": 31,
    "start_time": "2023-05-19T21:28:18.501Z"
   },
   {
    "duration": 5,
    "start_time": "2023-05-19T21:28:18.533Z"
   },
   {
    "duration": 11,
    "start_time": "2023-05-19T21:28:18.557Z"
   },
   {
    "duration": 5,
    "start_time": "2023-05-19T21:28:18.569Z"
   },
   {
    "duration": 13,
    "start_time": "2023-05-19T21:28:18.576Z"
   },
   {
    "duration": 36,
    "start_time": "2023-05-19T21:28:18.591Z"
   },
   {
    "duration": 31,
    "start_time": "2023-05-19T21:28:18.630Z"
   },
   {
    "duration": 19,
    "start_time": "2023-05-19T21:28:18.663Z"
   },
   {
    "duration": 152,
    "start_time": "2023-05-19T21:28:18.684Z"
   },
   {
    "duration": 19,
    "start_time": "2023-05-19T21:28:18.839Z"
   },
   {
    "duration": 541,
    "start_time": "2023-05-19T21:28:18.860Z"
   },
   {
    "duration": 19,
    "start_time": "2023-05-19T21:28:19.403Z"
   },
   {
    "duration": 33,
    "start_time": "2023-05-19T21:28:19.424Z"
   },
   {
    "duration": 138,
    "start_time": "2023-05-19T21:28:19.459Z"
   },
   {
    "duration": 9,
    "start_time": "2023-05-19T21:28:19.599Z"
   },
   {
    "duration": 50,
    "start_time": "2023-05-19T21:28:19.610Z"
   },
   {
    "duration": 160,
    "start_time": "2023-05-19T21:28:19.661Z"
   },
   {
    "duration": 4823,
    "start_time": "2023-05-19T21:28:19.823Z"
   },
   {
    "duration": 4981,
    "start_time": "2023-05-19T21:28:24.648Z"
   },
   {
    "duration": 101,
    "start_time": "2023-05-19T21:28:29.630Z"
   },
   {
    "duration": 11,
    "start_time": "2023-05-19T21:28:29.733Z"
   },
   {
    "duration": 144,
    "start_time": "2023-05-19T21:28:29.746Z"
   },
   {
    "duration": 16,
    "start_time": "2023-05-19T21:28:29.892Z"
   },
   {
    "duration": 119,
    "start_time": "2023-05-19T21:28:29.910Z"
   },
   {
    "duration": 178,
    "start_time": "2023-05-19T21:28:30.031Z"
   },
   {
    "duration": 355,
    "start_time": "2023-05-19T21:28:30.211Z"
   },
   {
    "duration": 190,
    "start_time": "2023-05-19T21:28:30.570Z"
   },
   {
    "duration": 320,
    "start_time": "2023-05-19T21:28:30.763Z"
   },
   {
    "duration": 14,
    "start_time": "2023-05-19T21:28:31.085Z"
   },
   {
    "duration": 179,
    "start_time": "2023-05-19T21:28:31.100Z"
   },
   {
    "duration": 528,
    "start_time": "2023-05-19T21:28:31.281Z"
   },
   {
    "duration": 205,
    "start_time": "2023-05-19T21:28:31.811Z"
   },
   {
    "duration": 24,
    "start_time": "2023-05-19T21:28:32.018Z"
   },
   {
    "duration": 321,
    "start_time": "2023-05-19T21:28:32.059Z"
   },
   {
    "duration": 83,
    "start_time": "2023-05-19T21:28:32.382Z"
   },
   {
    "duration": 111,
    "start_time": "2023-05-19T21:28:32.468Z"
   },
   {
    "duration": 35,
    "start_time": "2023-05-19T21:31:39.061Z"
   },
   {
    "duration": 32,
    "start_time": "2023-05-19T21:33:09.112Z"
   },
   {
    "duration": 26,
    "start_time": "2023-05-19T21:38:40.450Z"
   },
   {
    "duration": 13,
    "start_time": "2023-05-19T21:39:23.509Z"
   },
   {
    "duration": 14,
    "start_time": "2023-05-19T21:39:33.139Z"
   },
   {
    "duration": 14,
    "start_time": "2023-05-19T21:41:11.165Z"
   },
   {
    "duration": 33,
    "start_time": "2023-05-19T21:41:25.612Z"
   },
   {
    "duration": 14,
    "start_time": "2023-05-19T21:41:36.946Z"
   },
   {
    "duration": 20,
    "start_time": "2023-05-19T21:41:42.590Z"
   },
   {
    "duration": 12,
    "start_time": "2023-05-19T21:42:25.871Z"
   },
   {
    "duration": 15,
    "start_time": "2023-05-19T21:43:43.611Z"
   },
   {
    "duration": 12,
    "start_time": "2023-05-19T21:44:19.370Z"
   },
   {
    "duration": 16,
    "start_time": "2023-05-19T21:44:43.273Z"
   },
   {
    "duration": 12,
    "start_time": "2023-05-19T21:44:45.048Z"
   },
   {
    "duration": 98,
    "start_time": "2023-05-19T21:45:27.036Z"
   },
   {
    "duration": 356,
    "start_time": "2023-05-19T21:45:36.354Z"
   },
   {
    "duration": 135,
    "start_time": "2023-05-19T21:45:42.286Z"
   },
   {
    "duration": 15,
    "start_time": "2023-05-19T21:47:51.970Z"
   },
   {
    "duration": 12,
    "start_time": "2023-05-19T21:47:54.375Z"
   },
   {
    "duration": 167,
    "start_time": "2023-05-19T21:48:37.538Z"
   },
   {
    "duration": 114,
    "start_time": "2023-05-19T21:48:47.206Z"
   },
   {
    "duration": 143,
    "start_time": "2023-05-19T21:49:00.313Z"
   },
   {
    "duration": 6,
    "start_time": "2023-05-19T21:49:23.426Z"
   },
   {
    "duration": 56,
    "start_time": "2023-05-19T21:49:23.435Z"
   },
   {
    "duration": 13,
    "start_time": "2023-05-19T21:49:23.493Z"
   },
   {
    "duration": 71,
    "start_time": "2023-05-19T21:49:23.509Z"
   },
   {
    "duration": 10,
    "start_time": "2023-05-19T21:49:23.583Z"
   },
   {
    "duration": 16,
    "start_time": "2023-05-19T21:49:23.595Z"
   },
   {
    "duration": 45,
    "start_time": "2023-05-19T21:49:23.613Z"
   },
   {
    "duration": 24,
    "start_time": "2023-05-19T21:49:23.662Z"
   },
   {
    "duration": 10,
    "start_time": "2023-05-19T21:49:23.689Z"
   },
   {
    "duration": 18,
    "start_time": "2023-05-19T21:49:23.701Z"
   },
   {
    "duration": 16,
    "start_time": "2023-05-19T21:49:23.721Z"
   },
   {
    "duration": 11,
    "start_time": "2023-05-19T21:49:23.757Z"
   },
   {
    "duration": 30,
    "start_time": "2023-05-19T21:49:23.770Z"
   },
   {
    "duration": 21,
    "start_time": "2023-05-19T21:49:23.804Z"
   },
   {
    "duration": 54,
    "start_time": "2023-05-19T21:49:23.827Z"
   },
   {
    "duration": 145,
    "start_time": "2023-05-19T21:49:23.884Z"
   },
   {
    "duration": 8,
    "start_time": "2023-05-19T21:49:24.031Z"
   },
   {
    "duration": 485,
    "start_time": "2023-05-19T21:49:24.057Z"
   },
   {
    "duration": 31,
    "start_time": "2023-05-19T21:49:24.544Z"
   },
   {
    "duration": 25,
    "start_time": "2023-05-19T21:49:24.577Z"
   },
   {
    "duration": 152,
    "start_time": "2023-05-19T21:49:24.604Z"
   },
   {
    "duration": 11,
    "start_time": "2023-05-19T21:49:24.758Z"
   },
   {
    "duration": 46,
    "start_time": "2023-05-19T21:49:24.771Z"
   },
   {
    "duration": 165,
    "start_time": "2023-05-19T21:49:24.818Z"
   },
   {
    "duration": 5048,
    "start_time": "2023-05-19T21:49:24.985Z"
   },
   {
    "duration": 5072,
    "start_time": "2023-05-19T21:49:30.034Z"
   },
   {
    "duration": 118,
    "start_time": "2023-05-19T21:49:35.108Z"
   },
   {
    "duration": 12,
    "start_time": "2023-05-19T21:49:35.228Z"
   },
   {
    "duration": 167,
    "start_time": "2023-05-19T21:49:35.242Z"
   },
   {
    "duration": 21,
    "start_time": "2023-05-19T21:49:35.411Z"
   },
   {
    "duration": 124,
    "start_time": "2023-05-19T21:49:35.434Z"
   },
   {
    "duration": 190,
    "start_time": "2023-05-19T21:49:35.560Z"
   },
   {
    "duration": 2809,
    "start_time": "2023-05-19T21:49:35.752Z"
   },
   {
    "duration": 95,
    "start_time": "2023-05-19T21:49:38.568Z"
   },
   {
    "duration": 421,
    "start_time": "2023-05-19T21:49:38.670Z"
   },
   {
    "duration": 64,
    "start_time": "2023-05-19T21:49:39.094Z"
   },
   {
    "duration": 110,
    "start_time": "2023-05-19T21:49:39.161Z"
   },
   {
    "duration": 412,
    "start_time": "2023-05-19T21:49:39.274Z"
   },
   {
    "duration": 204,
    "start_time": "2023-05-19T21:49:39.688Z"
   },
   {
    "duration": 32,
    "start_time": "2023-05-19T21:49:39.893Z"
   },
   {
    "duration": 341,
    "start_time": "2023-05-19T21:49:39.928Z"
   },
   {
    "duration": 101,
    "start_time": "2023-05-19T21:49:40.271Z"
   },
   {
    "duration": 104,
    "start_time": "2023-05-19T21:49:40.374Z"
   },
   {
    "duration": 18,
    "start_time": "2023-05-19T21:49:40.481Z"
   },
   {
    "duration": 186,
    "start_time": "2023-05-19T21:49:40.501Z"
   },
   {
    "duration": 13,
    "start_time": "2023-05-19T21:49:40.689Z"
   },
   {
    "duration": 16,
    "start_time": "2023-05-19T21:49:40.705Z"
   },
   {
    "duration": 204,
    "start_time": "2023-05-19T21:49:40.723Z"
   },
   {
    "duration": 6,
    "start_time": "2023-05-19T21:52:59.185Z"
   },
   {
    "duration": 18,
    "start_time": "2023-05-19T21:53:00.937Z"
   },
   {
    "duration": 30,
    "start_time": "2023-05-19T21:54:20.096Z"
   },
   {
    "duration": 23,
    "start_time": "2023-05-19T21:55:36.103Z"
   },
   {
    "duration": 35,
    "start_time": "2023-05-19T21:57:13.059Z"
   },
   {
    "duration": 27,
    "start_time": "2023-05-19T21:57:15.253Z"
   },
   {
    "duration": 4,
    "start_time": "2023-05-19T21:57:39.544Z"
   },
   {
    "duration": 53,
    "start_time": "2023-05-19T21:57:39.550Z"
   },
   {
    "duration": 17,
    "start_time": "2023-05-19T21:57:39.605Z"
   },
   {
    "duration": 47,
    "start_time": "2023-05-19T21:57:39.625Z"
   },
   {
    "duration": 7,
    "start_time": "2023-05-19T21:57:39.675Z"
   },
   {
    "duration": 15,
    "start_time": "2023-05-19T21:57:39.684Z"
   },
   {
    "duration": 15,
    "start_time": "2023-05-19T21:57:39.701Z"
   },
   {
    "duration": 51,
    "start_time": "2023-05-19T21:57:39.718Z"
   },
   {
    "duration": 6,
    "start_time": "2023-05-19T21:57:39.771Z"
   },
   {
    "duration": 15,
    "start_time": "2023-05-19T21:57:39.779Z"
   },
   {
    "duration": 3,
    "start_time": "2023-05-19T21:57:39.796Z"
   },
   {
    "duration": 21,
    "start_time": "2023-05-19T21:57:39.801Z"
   },
   {
    "duration": 64,
    "start_time": "2023-05-19T21:57:39.824Z"
   },
   {
    "duration": 26,
    "start_time": "2023-05-19T21:57:39.892Z"
   },
   {
    "duration": 44,
    "start_time": "2023-05-19T21:57:39.921Z"
   },
   {
    "duration": 135,
    "start_time": "2023-05-19T21:57:39.967Z"
   },
   {
    "duration": 8,
    "start_time": "2023-05-19T21:57:40.104Z"
   },
   {
    "duration": 444,
    "start_time": "2023-05-19T21:57:40.113Z"
   },
   {
    "duration": 22,
    "start_time": "2023-05-19T21:57:40.559Z"
   },
   {
    "duration": 13,
    "start_time": "2023-05-19T21:57:40.584Z"
   },
   {
    "duration": 137,
    "start_time": "2023-05-19T21:57:40.598Z"
   },
   {
    "duration": 12,
    "start_time": "2023-05-19T21:57:40.737Z"
   },
   {
    "duration": 28,
    "start_time": "2023-05-19T21:57:40.757Z"
   },
   {
    "duration": 150,
    "start_time": "2023-05-19T21:57:40.787Z"
   },
   {
    "duration": 4626,
    "start_time": "2023-05-19T21:57:40.939Z"
   },
   {
    "duration": 4797,
    "start_time": "2023-05-19T21:57:45.567Z"
   },
   {
    "duration": 108,
    "start_time": "2023-05-19T21:57:50.366Z"
   },
   {
    "duration": 12,
    "start_time": "2023-05-19T21:57:50.476Z"
   },
   {
    "duration": 139,
    "start_time": "2023-05-19T21:57:50.490Z"
   },
   {
    "duration": 25,
    "start_time": "2023-05-19T21:57:50.632Z"
   },
   {
    "duration": 89,
    "start_time": "2023-05-19T21:57:50.659Z"
   },
   {
    "duration": 144,
    "start_time": "2023-05-19T21:57:50.756Z"
   },
   {
    "duration": 458,
    "start_time": "2023-05-19T21:57:50.901Z"
   },
   {
    "duration": 195,
    "start_time": "2023-05-19T21:57:51.362Z"
   },
   {
    "duration": 282,
    "start_time": "2023-05-19T21:57:51.560Z"
   },
   {
    "duration": 19,
    "start_time": "2023-05-19T21:57:51.844Z"
   },
   {
    "duration": 215,
    "start_time": "2023-05-19T21:57:51.865Z"
   },
   {
    "duration": 420,
    "start_time": "2023-05-19T21:57:52.160Z"
   },
   {
    "duration": 217,
    "start_time": "2023-05-19T21:57:52.582Z"
   },
   {
    "duration": 24,
    "start_time": "2023-05-19T21:57:52.801Z"
   },
   {
    "duration": 339,
    "start_time": "2023-05-19T21:57:52.829Z"
   },
   {
    "duration": 24,
    "start_time": "2023-05-19T21:57:53.170Z"
   },
   {
    "duration": 347,
    "start_time": "2023-05-19T21:57:53.258Z"
   },
   {
    "duration": 15,
    "start_time": "2023-05-19T21:57:53.607Z"
   },
   {
    "duration": 135,
    "start_time": "2023-05-19T21:57:53.624Z"
   },
   {
    "duration": 22,
    "start_time": "2023-05-19T21:57:53.761Z"
   },
   {
    "duration": 14,
    "start_time": "2023-05-19T21:57:53.786Z"
   },
   {
    "duration": 157,
    "start_time": "2023-05-19T21:57:53.802Z"
   },
   {
    "duration": 12,
    "start_time": "2023-05-19T21:58:23.006Z"
   },
   {
    "duration": 14,
    "start_time": "2023-05-19T21:58:26.803Z"
   },
   {
    "duration": 17,
    "start_time": "2023-05-19T21:59:24.444Z"
   },
   {
    "duration": 14,
    "start_time": "2023-05-19T22:07:14.623Z"
   },
   {
    "duration": 5,
    "start_time": "2023-05-19T22:07:20.221Z"
   },
   {
    "duration": 55,
    "start_time": "2023-05-19T22:07:20.228Z"
   },
   {
    "duration": 12,
    "start_time": "2023-05-19T22:07:20.285Z"
   },
   {
    "duration": 39,
    "start_time": "2023-05-19T22:07:20.298Z"
   },
   {
    "duration": 23,
    "start_time": "2023-05-19T22:07:20.339Z"
   },
   {
    "duration": 21,
    "start_time": "2023-05-19T22:07:20.364Z"
   },
   {
    "duration": 13,
    "start_time": "2023-05-19T22:07:20.387Z"
   },
   {
    "duration": 27,
    "start_time": "2023-05-19T22:07:20.402Z"
   },
   {
    "duration": 4,
    "start_time": "2023-05-19T22:07:20.431Z"
   },
   {
    "duration": 29,
    "start_time": "2023-05-19T22:07:20.436Z"
   },
   {
    "duration": 3,
    "start_time": "2023-05-19T22:07:20.467Z"
   },
   {
    "duration": 10,
    "start_time": "2023-05-19T22:07:20.472Z"
   },
   {
    "duration": 19,
    "start_time": "2023-05-19T22:07:20.484Z"
   },
   {
    "duration": 51,
    "start_time": "2023-05-19T22:07:20.506Z"
   },
   {
    "duration": 19,
    "start_time": "2023-05-19T22:07:20.559Z"
   },
   {
    "duration": 130,
    "start_time": "2023-05-19T22:07:20.579Z"
   },
   {
    "duration": 7,
    "start_time": "2023-05-19T22:07:20.710Z"
   },
   {
    "duration": 443,
    "start_time": "2023-05-19T22:07:20.719Z"
   },
   {
    "duration": 19,
    "start_time": "2023-05-19T22:07:21.164Z"
   },
   {
    "duration": 10,
    "start_time": "2023-05-19T22:07:21.185Z"
   },
   {
    "duration": 141,
    "start_time": "2023-05-19T22:07:21.197Z"
   },
   {
    "duration": 18,
    "start_time": "2023-05-19T22:07:21.340Z"
   },
   {
    "duration": 22,
    "start_time": "2023-05-19T22:07:21.360Z"
   },
   {
    "duration": 161,
    "start_time": "2023-05-19T22:07:21.383Z"
   },
   {
    "duration": 4885,
    "start_time": "2023-05-19T22:07:21.546Z"
   },
   {
    "duration": 4797,
    "start_time": "2023-05-19T22:07:26.433Z"
   },
   {
    "duration": 102,
    "start_time": "2023-05-19T22:07:31.232Z"
   },
   {
    "duration": 23,
    "start_time": "2023-05-19T22:07:31.336Z"
   },
   {
    "duration": 139,
    "start_time": "2023-05-19T22:07:31.361Z"
   },
   {
    "duration": 18,
    "start_time": "2023-05-19T22:07:31.502Z"
   },
   {
    "duration": 125,
    "start_time": "2023-05-19T22:07:31.522Z"
   },
   {
    "duration": 163,
    "start_time": "2023-05-19T22:07:31.649Z"
   },
   {
    "duration": 155,
    "start_time": "2023-05-19T22:07:31.813Z"
   },
   {
    "duration": 95,
    "start_time": "2023-05-19T22:07:31.970Z"
   },
   {
    "duration": 287,
    "start_time": "2023-05-19T22:07:32.157Z"
   },
   {
    "duration": 21,
    "start_time": "2023-05-19T22:07:32.445Z"
   },
   {
    "duration": 198,
    "start_time": "2023-05-19T22:07:32.468Z"
   },
   {
    "duration": 382,
    "start_time": "2023-05-19T22:07:32.668Z"
   },
   {
    "duration": 218,
    "start_time": "2023-05-19T22:07:33.051Z"
   },
   {
    "duration": 24,
    "start_time": "2023-05-19T22:07:33.271Z"
   },
   {
    "duration": 320,
    "start_time": "2023-05-19T22:07:33.298Z"
   },
   {
    "duration": 38,
    "start_time": "2023-05-19T22:07:33.619Z"
   },
   {
    "duration": 109,
    "start_time": "2023-05-19T22:07:33.660Z"
   },
   {
    "duration": 14,
    "start_time": "2023-05-19T22:07:33.770Z"
   },
   {
    "duration": 187,
    "start_time": "2023-05-19T22:07:33.786Z"
   },
   {
    "duration": 20,
    "start_time": "2023-05-19T22:07:33.976Z"
   },
   {
    "duration": 11,
    "start_time": "2023-05-19T22:07:33.998Z"
   },
   {
    "duration": 148,
    "start_time": "2023-05-19T22:07:34.011Z"
   },
   {
    "duration": 13,
    "start_time": "2023-05-19T22:08:26.072Z"
   },
   {
    "duration": 12,
    "start_time": "2023-05-19T22:08:35.850Z"
   },
   {
    "duration": 26,
    "start_time": "2023-05-19T22:10:18.591Z"
   },
   {
    "duration": 140,
    "start_time": "2023-05-19T22:10:22.271Z"
   },
   {
    "duration": 13,
    "start_time": "2023-05-19T22:10:31.748Z"
   },
   {
    "duration": 19,
    "start_time": "2023-05-19T22:10:36.006Z"
   },
   {
    "duration": 14,
    "start_time": "2023-05-19T22:11:05.414Z"
   },
   {
    "duration": 5,
    "start_time": "2023-05-19T22:11:17.215Z"
   },
   {
    "duration": 71,
    "start_time": "2023-05-19T22:11:17.222Z"
   },
   {
    "duration": 12,
    "start_time": "2023-05-19T22:11:17.294Z"
   },
   {
    "duration": 54,
    "start_time": "2023-05-19T22:11:17.308Z"
   },
   {
    "duration": 11,
    "start_time": "2023-05-19T22:11:17.365Z"
   },
   {
    "duration": 16,
    "start_time": "2023-05-19T22:11:17.378Z"
   },
   {
    "duration": 15,
    "start_time": "2023-05-19T22:11:17.396Z"
   },
   {
    "duration": 51,
    "start_time": "2023-05-19T22:11:17.413Z"
   },
   {
    "duration": 5,
    "start_time": "2023-05-19T22:11:17.466Z"
   },
   {
    "duration": 27,
    "start_time": "2023-05-19T22:11:17.473Z"
   },
   {
    "duration": 28,
    "start_time": "2023-05-19T22:11:17.502Z"
   },
   {
    "duration": 17,
    "start_time": "2023-05-19T22:11:17.532Z"
   },
   {
    "duration": 27,
    "start_time": "2023-05-19T22:11:17.550Z"
   },
   {
    "duration": 18,
    "start_time": "2023-05-19T22:11:17.581Z"
   },
   {
    "duration": 18,
    "start_time": "2023-05-19T22:11:17.601Z"
   },
   {
    "duration": 135,
    "start_time": "2023-05-19T22:11:17.621Z"
   },
   {
    "duration": 10,
    "start_time": "2023-05-19T22:11:17.759Z"
   },
   {
    "duration": 439,
    "start_time": "2023-05-19T22:11:17.771Z"
   },
   {
    "duration": 26,
    "start_time": "2023-05-19T22:11:18.213Z"
   },
   {
    "duration": 12,
    "start_time": "2023-05-19T22:11:18.256Z"
   },
   {
    "duration": 137,
    "start_time": "2023-05-19T22:11:18.270Z"
   },
   {
    "duration": 9,
    "start_time": "2023-05-19T22:11:18.409Z"
   },
   {
    "duration": 42,
    "start_time": "2023-05-19T22:11:18.419Z"
   },
   {
    "duration": 144,
    "start_time": "2023-05-19T22:11:18.463Z"
   },
   {
    "duration": 4695,
    "start_time": "2023-05-19T22:11:18.608Z"
   },
   {
    "duration": 4846,
    "start_time": "2023-05-19T22:11:23.305Z"
   },
   {
    "duration": 91,
    "start_time": "2023-05-19T22:11:28.157Z"
   },
   {
    "duration": 11,
    "start_time": "2023-05-19T22:11:28.256Z"
   },
   {
    "duration": 146,
    "start_time": "2023-05-19T22:11:28.269Z"
   },
   {
    "duration": 22,
    "start_time": "2023-05-19T22:11:28.417Z"
   },
   {
    "duration": 120,
    "start_time": "2023-05-19T22:11:28.442Z"
   },
   {
    "duration": 156,
    "start_time": "2023-05-19T22:11:28.564Z"
   },
   {
    "duration": 235,
    "start_time": "2023-05-19T22:11:28.722Z"
   },
   {
    "duration": 100,
    "start_time": "2023-05-19T22:11:28.960Z"
   },
   {
    "duration": 304,
    "start_time": "2023-05-19T22:11:29.061Z"
   },
   {
    "duration": 10,
    "start_time": "2023-05-19T22:11:29.367Z"
   },
   {
    "duration": 180,
    "start_time": "2023-05-19T22:11:29.379Z"
   },
   {
    "duration": 326,
    "start_time": "2023-05-19T22:11:29.560Z"
   },
   {
    "duration": 206,
    "start_time": "2023-05-19T22:11:29.888Z"
   },
   {
    "duration": 23,
    "start_time": "2023-05-19T22:11:30.096Z"
   },
   {
    "duration": 316,
    "start_time": "2023-05-19T22:11:30.122Z"
   },
   {
    "duration": 43,
    "start_time": "2023-05-19T22:11:30.440Z"
   },
   {
    "duration": 107,
    "start_time": "2023-05-19T22:11:30.557Z"
   },
   {
    "duration": 48,
    "start_time": "2023-05-19T22:11:30.666Z"
   },
   {
    "duration": 149,
    "start_time": "2023-05-19T22:11:30.716Z"
   },
   {
    "duration": 20,
    "start_time": "2023-05-19T22:11:30.867Z"
   },
   {
    "duration": 45,
    "start_time": "2023-05-19T22:11:30.889Z"
   },
   {
    "duration": 181,
    "start_time": "2023-05-19T22:11:30.937Z"
   },
   {
    "duration": 19,
    "start_time": "2023-05-19T22:15:20.196Z"
   },
   {
    "duration": 13,
    "start_time": "2023-05-19T22:15:22.681Z"
   },
   {
    "duration": 134,
    "start_time": "2023-05-19T22:15:27.015Z"
   },
   {
    "duration": 17,
    "start_time": "2023-05-19T22:16:35.350Z"
   },
   {
    "duration": 5,
    "start_time": "2023-05-19T22:16:37.928Z"
   },
   {
    "duration": 51,
    "start_time": "2023-05-19T22:16:37.935Z"
   },
   {
    "duration": 11,
    "start_time": "2023-05-19T22:16:37.988Z"
   },
   {
    "duration": 39,
    "start_time": "2023-05-19T22:16:38.000Z"
   },
   {
    "duration": 21,
    "start_time": "2023-05-19T22:16:38.042Z"
   },
   {
    "duration": 12,
    "start_time": "2023-05-19T22:16:38.065Z"
   },
   {
    "duration": 14,
    "start_time": "2023-05-19T22:16:38.078Z"
   },
   {
    "duration": 23,
    "start_time": "2023-05-19T22:16:38.093Z"
   },
   {
    "duration": 4,
    "start_time": "2023-05-19T22:16:38.118Z"
   },
   {
    "duration": 42,
    "start_time": "2023-05-19T22:16:38.123Z"
   },
   {
    "duration": 2,
    "start_time": "2023-05-19T22:16:38.167Z"
   },
   {
    "duration": 9,
    "start_time": "2023-05-19T22:16:38.171Z"
   },
   {
    "duration": 19,
    "start_time": "2023-05-19T22:16:38.182Z"
   },
   {
    "duration": 52,
    "start_time": "2023-05-19T22:16:38.205Z"
   },
   {
    "duration": 18,
    "start_time": "2023-05-19T22:16:38.258Z"
   },
   {
    "duration": 128,
    "start_time": "2023-05-19T22:16:38.278Z"
   },
   {
    "duration": 6,
    "start_time": "2023-05-19T22:16:38.408Z"
   },
   {
    "duration": 420,
    "start_time": "2023-05-19T22:16:38.415Z"
   },
   {
    "duration": 30,
    "start_time": "2023-05-19T22:16:38.837Z"
   },
   {
    "duration": 12,
    "start_time": "2023-05-19T22:16:38.869Z"
   },
   {
    "duration": 144,
    "start_time": "2023-05-19T22:16:38.883Z"
   },
   {
    "duration": 9,
    "start_time": "2023-05-19T22:16:39.029Z"
   },
   {
    "duration": 39,
    "start_time": "2023-05-19T22:16:39.040Z"
   },
   {
    "duration": 378,
    "start_time": "2023-05-19T22:16:39.081Z"
   },
   {
    "duration": 4558,
    "start_time": "2023-05-19T22:16:39.461Z"
   },
   {
    "duration": 4729,
    "start_time": "2023-05-19T22:16:44.021Z"
   },
   {
    "duration": 101,
    "start_time": "2023-05-19T22:16:48.756Z"
   },
   {
    "duration": 11,
    "start_time": "2023-05-19T22:16:48.859Z"
   },
   {
    "duration": 159,
    "start_time": "2023-05-19T22:16:48.872Z"
   },
   {
    "duration": 23,
    "start_time": "2023-05-19T22:16:49.033Z"
   },
   {
    "duration": 100,
    "start_time": "2023-05-19T22:16:49.058Z"
   },
   {
    "duration": 153,
    "start_time": "2023-05-19T22:16:49.160Z"
   },
   {
    "duration": 146,
    "start_time": "2023-05-19T22:16:49.315Z"
   },
   {
    "duration": 100,
    "start_time": "2023-05-19T22:16:49.463Z"
   },
   {
    "duration": 380,
    "start_time": "2023-05-19T22:16:49.565Z"
   },
   {
    "duration": 13,
    "start_time": "2023-05-19T22:16:49.956Z"
   },
   {
    "duration": 111,
    "start_time": "2023-05-19T22:16:50.056Z"
   },
   {
    "duration": 395,
    "start_time": "2023-05-19T22:16:50.169Z"
   },
   {
    "duration": 199,
    "start_time": "2023-05-19T22:16:50.566Z"
   },
   {
    "duration": 24,
    "start_time": "2023-05-19T22:16:50.767Z"
   },
   {
    "duration": 323,
    "start_time": "2023-05-19T22:16:50.796Z"
   },
   {
    "duration": 35,
    "start_time": "2023-05-19T22:16:51.122Z"
   },
   {
    "duration": 198,
    "start_time": "2023-05-19T22:16:51.158Z"
   },
   {
    "duration": 13,
    "start_time": "2023-05-19T22:16:51.358Z"
   },
   {
    "duration": 128,
    "start_time": "2023-05-19T22:16:51.373Z"
   },
   {
    "duration": 18,
    "start_time": "2023-05-19T22:16:51.503Z"
   },
   {
    "duration": 12,
    "start_time": "2023-05-19T22:16:51.522Z"
   },
   {
    "duration": 144,
    "start_time": "2023-05-19T22:16:51.535Z"
   },
   {
    "duration": 53,
    "start_time": "2023-05-19T22:20:24.247Z"
   },
   {
    "duration": 10,
    "start_time": "2023-05-19T22:36:05.661Z"
   },
   {
    "duration": 11,
    "start_time": "2023-05-19T22:36:26.386Z"
   },
   {
    "duration": 10,
    "start_time": "2023-05-19T22:36:35.693Z"
   },
   {
    "duration": 10,
    "start_time": "2023-05-19T22:36:59.720Z"
   },
   {
    "duration": 11,
    "start_time": "2023-05-19T22:42:33.731Z"
   },
   {
    "duration": 24,
    "start_time": "2023-05-19T22:42:35.905Z"
   },
   {
    "duration": 13,
    "start_time": "2023-05-19T22:42:37.390Z"
   },
   {
    "duration": 34,
    "start_time": "2023-05-19T22:43:16.476Z"
   },
   {
    "duration": 9,
    "start_time": "2023-05-19T22:43:19.545Z"
   },
   {
    "duration": 9,
    "start_time": "2023-05-19T22:44:47.657Z"
   },
   {
    "duration": 9,
    "start_time": "2023-05-19T22:46:35.030Z"
   },
   {
    "duration": 9,
    "start_time": "2023-05-19T22:46:56.551Z"
   },
   {
    "duration": 13,
    "start_time": "2023-05-19T22:51:10.169Z"
   },
   {
    "duration": 14,
    "start_time": "2023-05-19T22:51:16.186Z"
   },
   {
    "duration": 9,
    "start_time": "2023-05-19T22:51:45.536Z"
   },
   {
    "duration": 10,
    "start_time": "2023-05-19T22:52:40.113Z"
   },
   {
    "duration": 425,
    "start_time": "2023-05-19T22:54:32.010Z"
   },
   {
    "duration": 12,
    "start_time": "2023-05-19T22:55:40.203Z"
   },
   {
    "duration": 10,
    "start_time": "2023-05-19T22:57:16.049Z"
   },
   {
    "duration": 430,
    "start_time": "2023-05-19T22:58:37.770Z"
   },
   {
    "duration": 18,
    "start_time": "2023-05-19T23:00:49.006Z"
   },
   {
    "duration": 15,
    "start_time": "2023-05-19T23:01:08.865Z"
   },
   {
    "duration": 9,
    "start_time": "2023-05-19T23:02:06.990Z"
   },
   {
    "duration": 187,
    "start_time": "2023-05-19T23:03:39.806Z"
   },
   {
    "duration": 202,
    "start_time": "2023-05-19T23:03:56.089Z"
   },
   {
    "duration": 188,
    "start_time": "2023-05-19T23:04:51.532Z"
   },
   {
    "duration": 5,
    "start_time": "2023-05-19T23:06:06.937Z"
   },
   {
    "duration": 64,
    "start_time": "2023-05-19T23:06:06.944Z"
   },
   {
    "duration": 12,
    "start_time": "2023-05-19T23:06:07.011Z"
   },
   {
    "duration": 46,
    "start_time": "2023-05-19T23:06:07.025Z"
   },
   {
    "duration": 14,
    "start_time": "2023-05-19T23:06:07.073Z"
   },
   {
    "duration": 21,
    "start_time": "2023-05-19T23:06:07.089Z"
   },
   {
    "duration": 17,
    "start_time": "2023-05-19T23:06:07.112Z"
   },
   {
    "duration": 63,
    "start_time": "2023-05-19T23:06:07.131Z"
   },
   {
    "duration": 6,
    "start_time": "2023-05-19T23:06:07.195Z"
   },
   {
    "duration": 28,
    "start_time": "2023-05-19T23:06:07.203Z"
   },
   {
    "duration": 3,
    "start_time": "2023-05-19T23:06:07.233Z"
   },
   {
    "duration": 13,
    "start_time": "2023-05-19T23:06:07.238Z"
   },
   {
    "duration": 28,
    "start_time": "2023-05-19T23:06:07.252Z"
   },
   {
    "duration": 17,
    "start_time": "2023-05-19T23:06:07.283Z"
   },
   {
    "duration": 40,
    "start_time": "2023-05-19T23:06:07.301Z"
   },
   {
    "duration": 119,
    "start_time": "2023-05-19T23:06:07.343Z"
   },
   {
    "duration": 7,
    "start_time": "2023-05-19T23:06:07.464Z"
   },
   {
    "duration": 428,
    "start_time": "2023-05-19T23:06:07.472Z"
   },
   {
    "duration": 21,
    "start_time": "2023-05-19T23:06:07.902Z"
   },
   {
    "duration": 11,
    "start_time": "2023-05-19T23:06:07.924Z"
   },
   {
    "duration": 118,
    "start_time": "2023-05-19T23:06:07.957Z"
   },
   {
    "duration": 11,
    "start_time": "2023-05-19T23:06:08.077Z"
   },
   {
    "duration": 43,
    "start_time": "2023-05-19T23:06:08.089Z"
   },
   {
    "duration": 141,
    "start_time": "2023-05-19T23:06:08.133Z"
   },
   {
    "duration": 4612,
    "start_time": "2023-05-19T23:06:08.276Z"
   },
   {
    "duration": 4663,
    "start_time": "2023-05-19T23:06:12.890Z"
   },
   {
    "duration": 82,
    "start_time": "2023-05-19T23:06:17.557Z"
   },
   {
    "duration": 22,
    "start_time": "2023-05-19T23:06:17.640Z"
   },
   {
    "duration": 126,
    "start_time": "2023-05-19T23:06:17.664Z"
   },
   {
    "duration": 14,
    "start_time": "2023-05-19T23:06:17.792Z"
   },
   {
    "duration": 109,
    "start_time": "2023-05-19T23:06:17.808Z"
   },
   {
    "duration": 149,
    "start_time": "2023-05-19T23:06:17.918Z"
   },
   {
    "duration": 95,
    "start_time": "2023-05-19T23:06:18.069Z"
   },
   {
    "duration": 191,
    "start_time": "2023-05-19T23:06:18.166Z"
   },
   {
    "duration": 284,
    "start_time": "2023-05-19T23:06:18.360Z"
   },
   {
    "duration": 19,
    "start_time": "2023-05-19T23:06:18.647Z"
   },
   {
    "duration": 196,
    "start_time": "2023-05-19T23:06:18.668Z"
   },
   {
    "duration": 408,
    "start_time": "2023-05-19T23:06:18.867Z"
   },
   {
    "duration": 213,
    "start_time": "2023-05-19T23:06:19.278Z"
   },
   {
    "duration": 23,
    "start_time": "2023-05-19T23:06:19.493Z"
   },
   {
    "duration": 323,
    "start_time": "2023-05-19T23:06:19.520Z"
   },
   {
    "duration": 27,
    "start_time": "2023-05-19T23:06:19.845Z"
   },
   {
    "duration": 190,
    "start_time": "2023-05-19T23:06:19.874Z"
   },
   {
    "duration": 20,
    "start_time": "2023-05-19T23:06:20.066Z"
   },
   {
    "duration": 137,
    "start_time": "2023-05-19T23:06:20.088Z"
   },
   {
    "duration": 29,
    "start_time": "2023-05-19T23:06:20.227Z"
   },
   {
    "duration": 14,
    "start_time": "2023-05-19T23:06:20.258Z"
   },
   {
    "duration": 149,
    "start_time": "2023-05-19T23:06:20.274Z"
   },
   {
    "duration": 45,
    "start_time": "2023-05-19T23:06:20.424Z"
   },
   {
    "duration": 9,
    "start_time": "2023-05-19T23:06:20.471Z"
   },
   {
    "duration": 18,
    "start_time": "2023-05-19T23:06:20.482Z"
   },
   {
    "duration": 426,
    "start_time": "2023-05-19T23:06:20.501Z"
   },
   {
    "duration": 10,
    "start_time": "2023-05-19T23:06:20.928Z"
   },
   {
    "duration": 17,
    "start_time": "2023-05-19T23:06:20.939Z"
   },
   {
    "duration": 22,
    "start_time": "2023-05-19T23:06:20.958Z"
   },
   {
    "duration": 102,
    "start_time": "2023-05-19T23:06:21.055Z"
   },
   {
    "duration": 9,
    "start_time": "2023-05-19T23:06:21.159Z"
   },
   {
    "duration": 208,
    "start_time": "2023-05-19T23:06:21.170Z"
   },
   {
    "duration": 201,
    "start_time": "2023-05-19T23:08:11.774Z"
   },
   {
    "duration": 215,
    "start_time": "2023-05-19T23:08:16.984Z"
   },
   {
    "duration": 34,
    "start_time": "2023-05-19T23:10:18.516Z"
   },
   {
    "duration": 10,
    "start_time": "2023-05-19T23:10:41.830Z"
   },
   {
    "duration": 12,
    "start_time": "2023-05-19T23:11:20.900Z"
   },
   {
    "duration": 198,
    "start_time": "2023-05-19T23:11:23.536Z"
   },
   {
    "duration": 14,
    "start_time": "2023-05-19T23:16:23.004Z"
   },
   {
    "duration": 6,
    "start_time": "2023-05-19T23:18:44.204Z"
   },
   {
    "duration": 97,
    "start_time": "2023-05-20T06:02:02.059Z"
   },
   {
    "duration": 328,
    "start_time": "2023-05-20T06:02:11.833Z"
   },
   {
    "duration": 96,
    "start_time": "2023-05-20T06:02:24.046Z"
   },
   {
    "duration": 29,
    "start_time": "2023-05-20T06:03:19.409Z"
   },
   {
    "duration": 388,
    "start_time": "2023-05-20T06:03:54.613Z"
   },
   {
    "duration": 8,
    "start_time": "2023-05-20T06:10:42.322Z"
   },
   {
    "duration": 6,
    "start_time": "2023-05-20T06:11:48.814Z"
   },
   {
    "duration": 6,
    "start_time": "2023-05-20T06:12:02.207Z"
   },
   {
    "duration": 6,
    "start_time": "2023-05-20T06:12:23.219Z"
   },
   {
    "duration": 5,
    "start_time": "2023-05-20T06:12:34.405Z"
   },
   {
    "duration": 5,
    "start_time": "2023-05-20T06:12:38.123Z"
   },
   {
    "duration": 6,
    "start_time": "2023-05-20T06:35:49.831Z"
   },
   {
    "duration": 74,
    "start_time": "2023-05-20T06:35:49.839Z"
   },
   {
    "duration": 17,
    "start_time": "2023-05-20T06:35:49.915Z"
   },
   {
    "duration": 60,
    "start_time": "2023-05-20T06:35:49.935Z"
   },
   {
    "duration": 10,
    "start_time": "2023-05-20T06:35:49.998Z"
   },
   {
    "duration": 23,
    "start_time": "2023-05-20T06:35:50.010Z"
   },
   {
    "duration": 51,
    "start_time": "2023-05-20T06:35:50.035Z"
   },
   {
    "duration": 39,
    "start_time": "2023-05-20T06:35:50.088Z"
   },
   {
    "duration": 5,
    "start_time": "2023-05-20T06:35:50.129Z"
   },
   {
    "duration": 24,
    "start_time": "2023-05-20T06:35:50.137Z"
   },
   {
    "duration": 8,
    "start_time": "2023-05-20T06:35:50.163Z"
   },
   {
    "duration": 23,
    "start_time": "2023-05-20T06:35:50.173Z"
   },
   {
    "duration": 30,
    "start_time": "2023-05-20T06:35:50.198Z"
   },
   {
    "duration": 32,
    "start_time": "2023-05-20T06:35:50.230Z"
   },
   {
    "duration": 20,
    "start_time": "2023-05-20T06:35:50.264Z"
   },
   {
    "duration": 139,
    "start_time": "2023-05-20T06:35:50.286Z"
   },
   {
    "duration": 7,
    "start_time": "2023-05-20T06:35:50.427Z"
   },
   {
    "duration": 484,
    "start_time": "2023-05-20T06:35:50.436Z"
   },
   {
    "duration": 35,
    "start_time": "2023-05-20T06:35:50.922Z"
   },
   {
    "duration": 12,
    "start_time": "2023-05-20T06:35:50.958Z"
   },
   {
    "duration": 149,
    "start_time": "2023-05-20T06:35:50.972Z"
   },
   {
    "duration": 10,
    "start_time": "2023-05-20T06:35:51.124Z"
   },
   {
    "duration": 36,
    "start_time": "2023-05-20T06:35:51.136Z"
   },
   {
    "duration": 188,
    "start_time": "2023-05-20T06:35:51.175Z"
   },
   {
    "duration": 5045,
    "start_time": "2023-05-20T06:35:51.366Z"
   },
   {
    "duration": 5181,
    "start_time": "2023-05-20T06:35:56.413Z"
   },
   {
    "duration": 112,
    "start_time": "2023-05-20T06:36:01.597Z"
   },
   {
    "duration": 12,
    "start_time": "2023-05-20T06:36:01.714Z"
   },
   {
    "duration": 172,
    "start_time": "2023-05-20T06:36:01.728Z"
   },
   {
    "duration": 19,
    "start_time": "2023-05-20T06:36:01.902Z"
   },
   {
    "duration": 147,
    "start_time": "2023-05-20T06:36:01.924Z"
   },
   {
    "duration": 212,
    "start_time": "2023-05-20T06:36:02.073Z"
   },
   {
    "duration": 282,
    "start_time": "2023-05-20T06:36:02.287Z"
   },
   {
    "duration": 99,
    "start_time": "2023-05-20T06:36:02.658Z"
   },
   {
    "duration": 303,
    "start_time": "2023-05-20T06:36:02.759Z"
   },
   {
    "duration": 94,
    "start_time": "2023-05-20T06:36:03.064Z"
   },
   {
    "duration": 117,
    "start_time": "2023-05-20T06:36:03.160Z"
   },
   {
    "duration": 409,
    "start_time": "2023-05-20T06:36:03.280Z"
   },
   {
    "duration": 234,
    "start_time": "2023-05-20T06:36:03.691Z"
   },
   {
    "duration": 38,
    "start_time": "2023-05-20T06:36:03.927Z"
   },
   {
    "duration": 340,
    "start_time": "2023-05-20T06:36:03.967Z"
   },
   {
    "duration": 50,
    "start_time": "2023-05-20T06:36:04.308Z"
   },
   {
    "duration": 108,
    "start_time": "2023-05-20T06:36:04.360Z"
   },
   {
    "duration": 16,
    "start_time": "2023-05-20T06:36:04.471Z"
   },
   {
    "duration": 138,
    "start_time": "2023-05-20T06:36:04.489Z"
   },
   {
    "duration": 37,
    "start_time": "2023-05-20T06:36:04.630Z"
   },
   {
    "duration": 20,
    "start_time": "2023-05-20T06:36:04.669Z"
   },
   {
    "duration": 167,
    "start_time": "2023-05-20T06:36:04.692Z"
   },
   {
    "duration": 36,
    "start_time": "2023-05-20T06:36:04.861Z"
   },
   {
    "duration": 10,
    "start_time": "2023-05-20T06:36:04.899Z"
   },
   {
    "duration": 9,
    "start_time": "2023-05-20T06:36:04.911Z"
   },
   {
    "duration": 504,
    "start_time": "2023-05-20T06:36:04.922Z"
   },
   {
    "duration": 12,
    "start_time": "2023-05-20T06:36:05.428Z"
   },
   {
    "duration": 49,
    "start_time": "2023-05-20T06:36:05.442Z"
   },
   {
    "duration": 64,
    "start_time": "2023-05-20T06:36:05.493Z"
   },
   {
    "duration": 98,
    "start_time": "2023-05-20T06:36:05.559Z"
   },
   {
    "duration": 28,
    "start_time": "2023-05-20T06:36:05.659Z"
   },
   {
    "duration": 378,
    "start_time": "2023-05-20T06:36:05.689Z"
   },
   {
    "duration": 9,
    "start_time": "2023-05-20T06:36:06.069Z"
   },
   {
    "duration": 13,
    "start_time": "2023-05-20T06:36:06.080Z"
   },
   {
    "duration": 4,
    "start_time": "2023-05-20T06:36:06.095Z"
   },
   {
    "duration": 0,
    "start_time": "2023-05-20T06:41:54.368Z"
   },
   {
    "duration": 0,
    "start_time": "2023-05-20T06:41:54.370Z"
   },
   {
    "duration": 0,
    "start_time": "2023-05-20T06:41:54.371Z"
   },
   {
    "duration": 0,
    "start_time": "2023-05-20T06:41:54.373Z"
   },
   {
    "duration": 0,
    "start_time": "2023-05-20T06:41:54.375Z"
   },
   {
    "duration": 0,
    "start_time": "2023-05-20T06:41:54.376Z"
   },
   {
    "duration": 0,
    "start_time": "2023-05-20T06:41:54.378Z"
   },
   {
    "duration": 1,
    "start_time": "2023-05-20T06:41:54.379Z"
   },
   {
    "duration": 0,
    "start_time": "2023-05-20T06:41:54.381Z"
   },
   {
    "duration": 0,
    "start_time": "2023-05-20T06:41:54.382Z"
   },
   {
    "duration": 0,
    "start_time": "2023-05-20T06:41:54.384Z"
   },
   {
    "duration": 1,
    "start_time": "2023-05-20T06:41:54.385Z"
   },
   {
    "duration": 0,
    "start_time": "2023-05-20T06:41:54.387Z"
   },
   {
    "duration": 0,
    "start_time": "2023-05-20T06:41:54.388Z"
   },
   {
    "duration": 0,
    "start_time": "2023-05-20T06:41:54.389Z"
   },
   {
    "duration": 0,
    "start_time": "2023-05-20T06:41:54.390Z"
   },
   {
    "duration": 0,
    "start_time": "2023-05-20T06:41:54.392Z"
   },
   {
    "duration": 0,
    "start_time": "2023-05-20T06:41:54.393Z"
   },
   {
    "duration": 0,
    "start_time": "2023-05-20T06:41:54.395Z"
   },
   {
    "duration": 0,
    "start_time": "2023-05-20T06:41:54.396Z"
   },
   {
    "duration": 0,
    "start_time": "2023-05-20T06:41:54.398Z"
   },
   {
    "duration": 0,
    "start_time": "2023-05-20T06:41:54.457Z"
   },
   {
    "duration": 0,
    "start_time": "2023-05-20T06:41:54.458Z"
   },
   {
    "duration": 0,
    "start_time": "2023-05-20T06:41:54.459Z"
   },
   {
    "duration": 1,
    "start_time": "2023-05-20T06:41:54.460Z"
   },
   {
    "duration": 0,
    "start_time": "2023-05-20T06:41:54.462Z"
   },
   {
    "duration": 0,
    "start_time": "2023-05-20T06:41:54.463Z"
   },
   {
    "duration": 0,
    "start_time": "2023-05-20T06:41:54.464Z"
   },
   {
    "duration": 0,
    "start_time": "2023-05-20T06:41:54.465Z"
   },
   {
    "duration": 0,
    "start_time": "2023-05-20T06:41:54.467Z"
   },
   {
    "duration": 0,
    "start_time": "2023-05-20T06:41:54.469Z"
   },
   {
    "duration": 0,
    "start_time": "2023-05-20T06:41:54.470Z"
   },
   {
    "duration": 0,
    "start_time": "2023-05-20T06:41:54.471Z"
   },
   {
    "duration": 0,
    "start_time": "2023-05-20T06:41:54.473Z"
   },
   {
    "duration": 0,
    "start_time": "2023-05-20T06:41:54.475Z"
   },
   {
    "duration": 0,
    "start_time": "2023-05-20T06:41:54.476Z"
   },
   {
    "duration": 0,
    "start_time": "2023-05-20T06:41:54.478Z"
   },
   {
    "duration": 0,
    "start_time": "2023-05-20T06:41:54.480Z"
   },
   {
    "duration": 0,
    "start_time": "2023-05-20T06:41:54.481Z"
   },
   {
    "duration": 0,
    "start_time": "2023-05-20T06:41:54.482Z"
   },
   {
    "duration": 0,
    "start_time": "2023-05-20T06:41:54.484Z"
   },
   {
    "duration": 0,
    "start_time": "2023-05-20T06:41:54.485Z"
   },
   {
    "duration": 0,
    "start_time": "2023-05-20T06:41:54.487Z"
   },
   {
    "duration": 0,
    "start_time": "2023-05-20T06:41:54.488Z"
   },
   {
    "duration": 0,
    "start_time": "2023-05-20T06:41:54.489Z"
   },
   {
    "duration": 0,
    "start_time": "2023-05-20T06:41:54.491Z"
   },
   {
    "duration": 0,
    "start_time": "2023-05-20T06:41:54.492Z"
   },
   {
    "duration": 0,
    "start_time": "2023-05-20T06:41:54.493Z"
   },
   {
    "duration": 0,
    "start_time": "2023-05-20T06:41:54.494Z"
   },
   {
    "duration": 0,
    "start_time": "2023-05-20T06:41:54.556Z"
   },
   {
    "duration": 0,
    "start_time": "2023-05-20T06:41:54.557Z"
   },
   {
    "duration": 0,
    "start_time": "2023-05-20T06:41:54.559Z"
   },
   {
    "duration": 0,
    "start_time": "2023-05-20T06:41:54.560Z"
   },
   {
    "duration": 0,
    "start_time": "2023-05-20T06:41:54.562Z"
   },
   {
    "duration": 0,
    "start_time": "2023-05-20T06:41:54.563Z"
   },
   {
    "duration": 0,
    "start_time": "2023-05-20T06:41:54.565Z"
   },
   {
    "duration": 0,
    "start_time": "2023-05-20T06:41:54.566Z"
   },
   {
    "duration": 0,
    "start_time": "2023-05-20T06:41:54.567Z"
   },
   {
    "duration": 0,
    "start_time": "2023-05-20T06:41:54.569Z"
   },
   {
    "duration": 0,
    "start_time": "2023-05-20T06:41:54.570Z"
   },
   {
    "duration": 0,
    "start_time": "2023-05-20T06:41:54.571Z"
   },
   {
    "duration": 0,
    "start_time": "2023-05-20T06:41:54.573Z"
   },
   {
    "duration": 0,
    "start_time": "2023-05-20T06:41:54.574Z"
   },
   {
    "duration": 0,
    "start_time": "2023-05-20T06:41:54.575Z"
   },
   {
    "duration": 0,
    "start_time": "2023-05-20T06:41:54.577Z"
   },
   {
    "duration": 0,
    "start_time": "2023-05-20T06:41:54.577Z"
   },
   {
    "duration": 0,
    "start_time": "2023-05-20T06:41:54.578Z"
   },
   {
    "duration": 0,
    "start_time": "2023-05-20T06:41:54.580Z"
   },
   {
    "duration": 0,
    "start_time": "2023-05-20T06:41:54.581Z"
   },
   {
    "duration": 0,
    "start_time": "2023-05-20T06:41:54.582Z"
   },
   {
    "duration": 0,
    "start_time": "2023-05-20T06:41:54.584Z"
   },
   {
    "duration": 0,
    "start_time": "2023-05-20T06:41:54.585Z"
   },
   {
    "duration": 5,
    "start_time": "2023-05-20T06:48:25.859Z"
   },
   {
    "duration": 66,
    "start_time": "2023-05-20T06:48:25.866Z"
   },
   {
    "duration": 14,
    "start_time": "2023-05-20T06:48:25.934Z"
   },
   {
    "duration": 51,
    "start_time": "2023-05-20T06:48:25.950Z"
   },
   {
    "duration": 8,
    "start_time": "2023-05-20T06:48:26.004Z"
   },
   {
    "duration": 12,
    "start_time": "2023-05-20T06:48:26.014Z"
   },
   {
    "duration": 21,
    "start_time": "2023-05-20T06:48:26.055Z"
   },
   {
    "duration": 25,
    "start_time": "2023-05-20T06:48:26.079Z"
   },
   {
    "duration": 4,
    "start_time": "2023-05-20T06:48:26.107Z"
   },
   {
    "duration": 13,
    "start_time": "2023-05-20T06:48:26.113Z"
   },
   {
    "duration": 29,
    "start_time": "2023-05-20T06:48:26.128Z"
   },
   {
    "duration": 24,
    "start_time": "2023-05-20T06:48:26.159Z"
   },
   {
    "duration": 38,
    "start_time": "2023-05-20T06:48:26.185Z"
   },
   {
    "duration": 20,
    "start_time": "2023-05-20T06:48:26.225Z"
   },
   {
    "duration": 26,
    "start_time": "2023-05-20T06:48:26.247Z"
   },
   {
    "duration": 145,
    "start_time": "2023-05-20T06:48:26.275Z"
   },
   {
    "duration": 8,
    "start_time": "2023-05-20T06:48:26.421Z"
   },
   {
    "duration": 478,
    "start_time": "2023-05-20T06:48:26.431Z"
   },
   {
    "duration": 22,
    "start_time": "2023-05-20T06:48:26.910Z"
   },
   {
    "duration": 28,
    "start_time": "2023-05-20T06:48:26.934Z"
   },
   {
    "duration": 137,
    "start_time": "2023-05-20T06:48:26.965Z"
   },
   {
    "duration": 9,
    "start_time": "2023-05-20T06:48:27.105Z"
   },
   {
    "duration": 41,
    "start_time": "2023-05-20T06:48:27.117Z"
   },
   {
    "duration": 168,
    "start_time": "2023-05-20T06:48:27.160Z"
   },
   {
    "duration": 5114,
    "start_time": "2023-05-20T06:48:27.330Z"
   },
   {
    "duration": 5111,
    "start_time": "2023-05-20T06:48:32.446Z"
   },
   {
    "duration": 97,
    "start_time": "2023-05-20T06:48:37.561Z"
   },
   {
    "duration": 13,
    "start_time": "2023-05-20T06:48:37.660Z"
   },
   {
    "duration": 189,
    "start_time": "2023-05-20T06:48:37.675Z"
   },
   {
    "duration": 16,
    "start_time": "2023-05-20T06:48:37.865Z"
   },
   {
    "duration": 150,
    "start_time": "2023-05-20T06:48:37.883Z"
   },
   {
    "duration": 156,
    "start_time": "2023-05-20T06:48:38.035Z"
   },
   {
    "duration": 164,
    "start_time": "2023-05-20T06:48:38.193Z"
   },
   {
    "duration": 97,
    "start_time": "2023-05-20T06:48:38.362Z"
   },
   {
    "duration": 303,
    "start_time": "2023-05-20T06:48:38.462Z"
   },
   {
    "duration": 13,
    "start_time": "2023-05-20T06:48:38.767Z"
   },
   {
    "duration": 183,
    "start_time": "2023-05-20T06:48:38.782Z"
   },
   {
    "duration": 442,
    "start_time": "2023-05-20T06:48:38.967Z"
   },
   {
    "duration": 208,
    "start_time": "2023-05-20T06:48:39.411Z"
   },
   {
    "duration": 24,
    "start_time": "2023-05-20T06:48:39.622Z"
   },
   {
    "duration": 329,
    "start_time": "2023-05-20T06:48:39.656Z"
   },
   {
    "duration": 76,
    "start_time": "2023-05-20T06:48:39.987Z"
   },
   {
    "duration": 109,
    "start_time": "2023-05-20T06:48:40.065Z"
   },
   {
    "duration": 14,
    "start_time": "2023-05-20T06:48:40.175Z"
   },
   {
    "duration": 174,
    "start_time": "2023-05-20T06:48:40.191Z"
   },
   {
    "duration": 18,
    "start_time": "2023-05-20T06:48:40.367Z"
   },
   {
    "duration": 11,
    "start_time": "2023-05-20T06:48:40.386Z"
   },
   {
    "duration": 163,
    "start_time": "2023-05-20T06:48:40.399Z"
   },
   {
    "duration": 37,
    "start_time": "2023-05-20T06:48:40.564Z"
   },
   {
    "duration": 11,
    "start_time": "2023-05-20T06:48:40.603Z"
   },
   {
    "duration": 10,
    "start_time": "2023-05-20T06:48:40.616Z"
   },
   {
    "duration": 471,
    "start_time": "2023-05-20T06:48:40.628Z"
   },
   {
    "duration": 13,
    "start_time": "2023-05-20T06:48:41.101Z"
   },
   {
    "duration": 48,
    "start_time": "2023-05-20T06:48:41.116Z"
   },
   {
    "duration": 90,
    "start_time": "2023-05-20T06:48:41.166Z"
   },
   {
    "duration": 103,
    "start_time": "2023-05-20T06:48:41.260Z"
   },
   {
    "duration": 93,
    "start_time": "2023-05-20T06:48:41.365Z"
   },
   {
    "duration": 291,
    "start_time": "2023-05-20T06:48:41.460Z"
   },
   {
    "duration": 7,
    "start_time": "2023-05-20T06:48:41.753Z"
   },
   {
    "duration": 4,
    "start_time": "2023-05-20T06:48:41.762Z"
   },
   {
    "duration": 4,
    "start_time": "2023-05-20T06:48:41.768Z"
   },
   {
    "duration": 356465,
    "start_time": "2023-05-20T06:48:41.774Z"
   },
   {
    "duration": 287,
    "start_time": "2023-05-20T06:54:38.241Z"
   },
   {
    "duration": 26,
    "start_time": "2023-05-20T06:54:38.531Z"
   },
   {
    "duration": 0,
    "start_time": "2023-05-20T06:54:38.559Z"
   },
   {
    "duration": 0,
    "start_time": "2023-05-20T06:54:38.561Z"
   },
   {
    "duration": 0,
    "start_time": "2023-05-20T06:54:38.564Z"
   },
   {
    "duration": 0,
    "start_time": "2023-05-20T06:54:38.565Z"
   },
   {
    "duration": 0,
    "start_time": "2023-05-20T06:54:38.566Z"
   },
   {
    "duration": 0,
    "start_time": "2023-05-20T06:54:38.568Z"
   },
   {
    "duration": 0,
    "start_time": "2023-05-20T06:54:38.570Z"
   },
   {
    "duration": 0,
    "start_time": "2023-05-20T06:54:38.571Z"
   },
   {
    "duration": 6,
    "start_time": "2023-05-20T07:08:08.110Z"
   },
   {
    "duration": 29,
    "start_time": "2023-05-20T07:08:08.135Z"
   },
   {
    "duration": 14,
    "start_time": "2023-05-20T07:08:08.212Z"
   },
   {
    "duration": 49,
    "start_time": "2023-05-20T07:08:08.266Z"
   },
   {
    "duration": 32,
    "start_time": "2023-05-20T07:08:08.329Z"
   },
   {
    "duration": 14,
    "start_time": "2023-05-20T07:08:08.389Z"
   },
   {
    "duration": 21,
    "start_time": "2023-05-20T07:08:08.456Z"
   },
   {
    "duration": 0,
    "start_time": "2023-05-20T07:08:08.486Z"
   },
   {
    "duration": 0,
    "start_time": "2023-05-20T07:08:08.490Z"
   },
   {
    "duration": 0,
    "start_time": "2023-05-20T07:08:08.493Z"
   },
   {
    "duration": 0,
    "start_time": "2023-05-20T07:08:08.495Z"
   },
   {
    "duration": 0,
    "start_time": "2023-05-20T07:08:08.498Z"
   },
   {
    "duration": 0,
    "start_time": "2023-05-20T07:08:08.501Z"
   },
   {
    "duration": 0,
    "start_time": "2023-05-20T07:08:08.504Z"
   },
   {
    "duration": 0,
    "start_time": "2023-05-20T07:08:08.506Z"
   },
   {
    "duration": 0,
    "start_time": "2023-05-20T07:08:08.556Z"
   },
   {
    "duration": 0,
    "start_time": "2023-05-20T07:08:08.559Z"
   },
   {
    "duration": 0,
    "start_time": "2023-05-20T07:08:08.561Z"
   },
   {
    "duration": 0,
    "start_time": "2023-05-20T07:08:08.563Z"
   },
   {
    "duration": 0,
    "start_time": "2023-05-20T07:08:08.565Z"
   },
   {
    "duration": 0,
    "start_time": "2023-05-20T07:08:08.567Z"
   },
   {
    "duration": 0,
    "start_time": "2023-05-20T07:08:08.570Z"
   },
   {
    "duration": 0,
    "start_time": "2023-05-20T07:08:08.572Z"
   },
   {
    "duration": 0,
    "start_time": "2023-05-20T07:08:08.575Z"
   },
   {
    "duration": 0,
    "start_time": "2023-05-20T07:08:08.577Z"
   },
   {
    "duration": 0,
    "start_time": "2023-05-20T07:08:08.579Z"
   },
   {
    "duration": 0,
    "start_time": "2023-05-20T07:08:08.581Z"
   },
   {
    "duration": 0,
    "start_time": "2023-05-20T07:08:08.583Z"
   },
   {
    "duration": 0,
    "start_time": "2023-05-20T07:08:08.586Z"
   },
   {
    "duration": 0,
    "start_time": "2023-05-20T07:08:08.588Z"
   },
   {
    "duration": 0,
    "start_time": "2023-05-20T07:08:08.590Z"
   },
   {
    "duration": 0,
    "start_time": "2023-05-20T07:08:08.592Z"
   },
   {
    "duration": 0,
    "start_time": "2023-05-20T07:08:08.594Z"
   },
   {
    "duration": 0,
    "start_time": "2023-05-20T07:08:08.658Z"
   },
   {
    "duration": 0,
    "start_time": "2023-05-20T07:08:08.661Z"
   },
   {
    "duration": 0,
    "start_time": "2023-05-20T07:08:08.663Z"
   },
   {
    "duration": 0,
    "start_time": "2023-05-20T07:08:08.665Z"
   },
   {
    "duration": 0,
    "start_time": "2023-05-20T07:08:08.667Z"
   },
   {
    "duration": 0,
    "start_time": "2023-05-20T07:08:08.669Z"
   },
   {
    "duration": 0,
    "start_time": "2023-05-20T07:08:08.671Z"
   },
   {
    "duration": 0,
    "start_time": "2023-05-20T07:08:08.673Z"
   },
   {
    "duration": 0,
    "start_time": "2023-05-20T07:08:08.676Z"
   },
   {
    "duration": 0,
    "start_time": "2023-05-20T07:08:08.677Z"
   },
   {
    "duration": 0,
    "start_time": "2023-05-20T07:08:08.679Z"
   },
   {
    "duration": 0,
    "start_time": "2023-05-20T07:08:08.681Z"
   },
   {
    "duration": 0,
    "start_time": "2023-05-20T07:08:08.683Z"
   },
   {
    "duration": 0,
    "start_time": "2023-05-20T07:08:08.686Z"
   },
   {
    "duration": 0,
    "start_time": "2023-05-20T07:08:08.688Z"
   },
   {
    "duration": 0,
    "start_time": "2023-05-20T07:08:08.690Z"
   },
   {
    "duration": 0,
    "start_time": "2023-05-20T07:08:08.692Z"
   },
   {
    "duration": 0,
    "start_time": "2023-05-20T07:08:08.695Z"
   },
   {
    "duration": 0,
    "start_time": "2023-05-20T07:08:08.758Z"
   },
   {
    "duration": 0,
    "start_time": "2023-05-20T07:08:08.760Z"
   },
   {
    "duration": 0,
    "start_time": "2023-05-20T07:08:08.762Z"
   },
   {
    "duration": 0,
    "start_time": "2023-05-20T07:08:08.765Z"
   },
   {
    "duration": 0,
    "start_time": "2023-05-20T07:08:08.767Z"
   },
   {
    "duration": 0,
    "start_time": "2023-05-20T07:08:08.769Z"
   },
   {
    "duration": 0,
    "start_time": "2023-05-20T07:08:08.771Z"
   },
   {
    "duration": 0,
    "start_time": "2023-05-20T07:08:08.773Z"
   },
   {
    "duration": 0,
    "start_time": "2023-05-20T07:08:08.775Z"
   },
   {
    "duration": 0,
    "start_time": "2023-05-20T07:08:08.777Z"
   },
   {
    "duration": 0,
    "start_time": "2023-05-20T07:08:08.779Z"
   },
   {
    "duration": 0,
    "start_time": "2023-05-20T07:08:08.780Z"
   },
   {
    "duration": 0,
    "start_time": "2023-05-20T07:08:08.782Z"
   },
   {
    "duration": 0,
    "start_time": "2023-05-20T07:08:08.784Z"
   },
   {
    "duration": 0,
    "start_time": "2023-05-20T07:08:08.786Z"
   },
   {
    "duration": 0,
    "start_time": "2023-05-20T07:08:08.789Z"
   },
   {
    "duration": 0,
    "start_time": "2023-05-20T07:08:08.792Z"
   },
   {
    "duration": 0,
    "start_time": "2023-05-20T07:08:08.794Z"
   },
   {
    "duration": 0,
    "start_time": "2023-05-20T07:08:08.862Z"
   },
   {
    "duration": 0,
    "start_time": "2023-05-20T07:08:08.865Z"
   },
   {
    "duration": 0,
    "start_time": "2023-05-20T07:08:08.867Z"
   },
   {
    "duration": 6,
    "start_time": "2023-05-20T07:24:54.172Z"
   },
   {
    "duration": 60,
    "start_time": "2023-05-20T07:24:54.191Z"
   },
   {
    "duration": 23,
    "start_time": "2023-05-20T07:24:54.254Z"
   },
   {
    "duration": 84,
    "start_time": "2023-05-20T07:24:54.282Z"
   },
   {
    "duration": 18,
    "start_time": "2023-05-20T07:24:54.369Z"
   },
   {
    "duration": 15,
    "start_time": "2023-05-20T07:24:54.391Z"
   },
   {
    "duration": 13,
    "start_time": "2023-05-20T07:24:54.408Z"
   },
   {
    "duration": 58,
    "start_time": "2023-05-20T07:24:54.424Z"
   },
   {
    "duration": 5,
    "start_time": "2023-05-20T07:24:54.485Z"
   },
   {
    "duration": 20,
    "start_time": "2023-05-20T07:24:54.492Z"
   },
   {
    "duration": 4,
    "start_time": "2023-05-20T07:24:54.514Z"
   },
   {
    "duration": 44,
    "start_time": "2023-05-20T07:24:54.520Z"
   },
   {
    "duration": 38,
    "start_time": "2023-05-20T07:24:54.567Z"
   },
   {
    "duration": 31,
    "start_time": "2023-05-20T07:24:54.607Z"
   },
   {
    "duration": 25,
    "start_time": "2023-05-20T07:24:54.658Z"
   },
   {
    "duration": 225,
    "start_time": "2023-05-20T07:24:54.686Z"
   },
   {
    "duration": 12,
    "start_time": "2023-05-20T07:24:54.914Z"
   },
   {
    "duration": 518,
    "start_time": "2023-05-20T07:24:54.928Z"
   },
   {
    "duration": 37,
    "start_time": "2023-05-20T07:24:55.447Z"
   },
   {
    "duration": 14,
    "start_time": "2023-05-20T07:24:55.486Z"
   },
   {
    "duration": 170,
    "start_time": "2023-05-20T07:24:55.502Z"
   },
   {
    "duration": 15,
    "start_time": "2023-05-20T07:24:55.674Z"
   },
   {
    "duration": 26,
    "start_time": "2023-05-20T07:24:55.691Z"
   },
   {
    "duration": 189,
    "start_time": "2023-05-20T07:24:55.719Z"
   },
   {
    "duration": 5976,
    "start_time": "2023-05-20T07:24:55.911Z"
   },
   {
    "duration": 5705,
    "start_time": "2023-05-20T07:25:01.889Z"
   },
   {
    "duration": 146,
    "start_time": "2023-05-20T07:25:07.597Z"
   },
   {
    "duration": 25,
    "start_time": "2023-05-20T07:25:07.746Z"
   },
   {
    "duration": 184,
    "start_time": "2023-05-20T07:25:07.774Z"
   },
   {
    "duration": 32,
    "start_time": "2023-05-20T07:25:07.965Z"
   },
   {
    "duration": 159,
    "start_time": "2023-05-20T07:25:07.999Z"
   },
   {
    "duration": 174,
    "start_time": "2023-05-20T07:25:08.169Z"
   },
   {
    "duration": 329,
    "start_time": "2023-05-20T07:25:08.345Z"
   },
   {
    "duration": 90,
    "start_time": "2023-05-20T07:25:08.679Z"
   },
   {
    "duration": 402,
    "start_time": "2023-05-20T07:25:08.772Z"
   },
   {
    "duration": 101,
    "start_time": "2023-05-20T07:25:09.176Z"
   },
   {
    "duration": 115,
    "start_time": "2023-05-20T07:25:09.285Z"
   },
   {
    "duration": 351,
    "start_time": "2023-05-20T07:25:09.459Z"
   },
   {
    "duration": 271,
    "start_time": "2023-05-20T07:25:09.812Z"
   },
   {
    "duration": 32,
    "start_time": "2023-05-20T07:25:10.086Z"
   },
   {
    "duration": 384,
    "start_time": "2023-05-20T07:25:10.120Z"
   },
   {
    "duration": 150,
    "start_time": "2023-05-20T07:25:10.509Z"
   },
   {
    "duration": 29,
    "start_time": "2023-05-20T07:25:10.661Z"
   },
   {
    "duration": 78,
    "start_time": "2023-05-20T07:25:10.693Z"
   },
   {
    "duration": 150,
    "start_time": "2023-05-20T07:25:10.773Z"
   },
   {
    "duration": 48,
    "start_time": "2023-05-20T07:25:10.927Z"
   },
   {
    "duration": 17,
    "start_time": "2023-05-20T07:25:10.985Z"
   },
   {
    "duration": 233,
    "start_time": "2023-05-20T07:25:11.004Z"
   },
   {
    "duration": 59,
    "start_time": "2023-05-20T07:25:11.239Z"
   },
   {
    "duration": 15,
    "start_time": "2023-05-20T07:25:11.300Z"
   },
   {
    "duration": 12,
    "start_time": "2023-05-20T07:25:11.317Z"
   },
   {
    "duration": 544,
    "start_time": "2023-05-20T07:25:11.330Z"
   },
   {
    "duration": 12,
    "start_time": "2023-05-20T07:25:11.880Z"
   },
   {
    "duration": 40,
    "start_time": "2023-05-20T07:25:11.894Z"
   },
   {
    "duration": 50,
    "start_time": "2023-05-20T07:25:11.938Z"
   },
   {
    "duration": 93,
    "start_time": "2023-05-20T07:25:11.989Z"
   },
   {
    "duration": 84,
    "start_time": "2023-05-20T07:25:12.083Z"
   },
   {
    "duration": 371,
    "start_time": "2023-05-20T07:25:12.170Z"
   },
   {
    "duration": 6,
    "start_time": "2023-05-20T07:25:12.548Z"
   },
   {
    "duration": 5,
    "start_time": "2023-05-20T07:25:12.560Z"
   },
   {
    "duration": 14,
    "start_time": "2023-05-20T07:25:12.567Z"
   },
   {
    "duration": 187119,
    "start_time": "2023-05-20T07:25:12.583Z"
   },
   {
    "duration": 747,
    "start_time": "2023-05-20T07:28:19.705Z"
   },
   {
    "duration": 24,
    "start_time": "2023-05-20T07:28:20.456Z"
   },
   {
    "duration": 63,
    "start_time": "2023-05-20T07:28:20.483Z"
   },
   {
    "duration": 12,
    "start_time": "2023-05-20T07:28:20.549Z"
   },
   {
    "duration": 37,
    "start_time": "2023-05-20T07:28:20.563Z"
   },
   {
    "duration": 0,
    "start_time": "2023-05-20T07:28:20.602Z"
   },
   {
    "duration": 983,
    "start_time": "2023-05-20T07:29:40.503Z"
   },
   {
    "duration": 17,
    "start_time": "2023-05-20T07:29:44.596Z"
   },
   {
    "duration": 9,
    "start_time": "2023-05-20T07:31:51.926Z"
   },
   {
    "duration": 31,
    "start_time": "2023-05-20T07:32:28.873Z"
   },
   {
    "duration": 24,
    "start_time": "2023-05-20T07:33:52.275Z"
   },
   {
    "duration": 12,
    "start_time": "2023-05-20T07:34:11.380Z"
   },
   {
    "duration": 631430,
    "start_time": "2023-05-20T07:36:48.193Z"
   },
   {
    "duration": 184871,
    "start_time": "2023-05-20T08:23:00.250Z"
   },
   {
    "duration": 24,
    "start_time": "2023-05-20T08:31:27.745Z"
   },
   {
    "duration": 20,
    "start_time": "2023-05-20T08:37:52.121Z"
   },
   {
    "duration": 18,
    "start_time": "2023-05-20T09:22:02.413Z"
   },
   {
    "duration": 17,
    "start_time": "2023-05-20T09:40:18.777Z"
   },
   {
    "duration": 6,
    "start_time": "2023-05-20T09:40:32.816Z"
   },
   {
    "duration": 4,
    "start_time": "2023-05-20T09:40:36.300Z"
   },
   {
    "duration": 22,
    "start_time": "2023-05-20T09:40:39.069Z"
   },
   {
    "duration": 4,
    "start_time": "2023-05-20T09:41:00.770Z"
   },
   {
    "duration": 6,
    "start_time": "2023-05-20T09:41:02.715Z"
   },
   {
    "duration": 19,
    "start_time": "2023-05-20T09:41:05.156Z"
   },
   {
    "duration": 15,
    "start_time": "2023-05-20T09:41:43.798Z"
   },
   {
    "duration": 19,
    "start_time": "2023-05-20T09:46:12.122Z"
   },
   {
    "duration": 14,
    "start_time": "2023-05-20T09:49:24.831Z"
   },
   {
    "duration": 63,
    "start_time": "2023-05-20T09:49:48.625Z"
   },
   {
    "duration": 15,
    "start_time": "2023-05-20T09:49:54.321Z"
   },
   {
    "duration": 17,
    "start_time": "2023-05-20T09:50:17.817Z"
   },
   {
    "duration": 86,
    "start_time": "2023-05-20T09:52:19.991Z"
   },
   {
    "duration": 64,
    "start_time": "2023-05-20T09:52:54.458Z"
   },
   {
    "duration": 25,
    "start_time": "2023-05-20T09:52:58.964Z"
   },
   {
    "duration": 51,
    "start_time": "2023-05-20T09:55:17.726Z"
   },
   {
    "duration": 17,
    "start_time": "2023-05-20T10:19:11.283Z"
   },
   {
    "duration": 148,
    "start_time": "2023-05-20T10:20:11.910Z"
   },
   {
    "duration": 572,
    "start_time": "2023-05-20T10:21:33.679Z"
   },
   {
    "duration": 1091,
    "start_time": "2023-05-20T10:21:59.122Z"
   },
   {
    "duration": 6,
    "start_time": "2023-05-20T10:23:30.628Z"
   },
   {
    "duration": 4,
    "start_time": "2023-05-20T10:23:37.143Z"
   },
   {
    "duration": 1130,
    "start_time": "2023-05-20T10:26:17.710Z"
   },
   {
    "duration": 4,
    "start_time": "2023-05-20T10:27:11.414Z"
   },
   {
    "duration": 7,
    "start_time": "2023-05-20T10:27:12.909Z"
   },
   {
    "duration": 20,
    "start_time": "2023-05-20T10:27:14.310Z"
   },
   {
    "duration": 25,
    "start_time": "2023-05-20T10:34:07.362Z"
   },
   {
    "duration": 62,
    "start_time": "2023-05-20T10:44:52.873Z"
   },
   {
    "duration": 50,
    "start_time": "2023-05-20T11:02:31.798Z"
   },
   {
    "duration": 54,
    "start_time": "2023-05-20T11:08:54.279Z"
   },
   {
    "duration": 6,
    "start_time": "2023-05-20T11:09:21.754Z"
   },
   {
    "duration": 5,
    "start_time": "2023-05-20T11:13:56.106Z"
   },
   {
    "duration": 59,
    "start_time": "2023-05-20T11:13:56.113Z"
   },
   {
    "duration": 14,
    "start_time": "2023-05-20T11:13:56.174Z"
   },
   {
    "duration": 77,
    "start_time": "2023-05-20T11:13:56.190Z"
   },
   {
    "duration": 8,
    "start_time": "2023-05-20T11:13:56.271Z"
   },
   {
    "duration": 12,
    "start_time": "2023-05-20T11:13:56.281Z"
   },
   {
    "duration": 14,
    "start_time": "2023-05-20T11:13:56.295Z"
   },
   {
    "duration": 39,
    "start_time": "2023-05-20T11:13:56.311Z"
   },
   {
    "duration": 6,
    "start_time": "2023-05-20T11:13:56.368Z"
   },
   {
    "duration": 27,
    "start_time": "2023-05-20T11:13:56.376Z"
   },
   {
    "duration": 10,
    "start_time": "2023-05-20T11:13:56.405Z"
   },
   {
    "duration": 19,
    "start_time": "2023-05-20T11:13:56.417Z"
   },
   {
    "duration": 34,
    "start_time": "2023-05-20T11:13:56.438Z"
   },
   {
    "duration": 20,
    "start_time": "2023-05-20T11:13:56.476Z"
   },
   {
    "duration": 20,
    "start_time": "2023-05-20T11:13:56.499Z"
   },
   {
    "duration": 164,
    "start_time": "2023-05-20T11:13:56.521Z"
   },
   {
    "duration": 7,
    "start_time": "2023-05-20T11:13:56.687Z"
   },
   {
    "duration": 487,
    "start_time": "2023-05-20T11:13:56.696Z"
   },
   {
    "duration": 23,
    "start_time": "2023-05-20T11:13:57.185Z"
   },
   {
    "duration": 13,
    "start_time": "2023-05-20T11:13:57.210Z"
   },
   {
    "duration": 161,
    "start_time": "2023-05-20T11:13:57.226Z"
   },
   {
    "duration": 10,
    "start_time": "2023-05-20T11:13:57.389Z"
   },
   {
    "duration": 37,
    "start_time": "2023-05-20T11:13:57.401Z"
   },
   {
    "duration": 174,
    "start_time": "2023-05-20T11:13:57.440Z"
   },
   {
    "duration": 5355,
    "start_time": "2023-05-20T11:13:57.615Z"
   },
   {
    "duration": 5268,
    "start_time": "2023-05-20T11:14:02.972Z"
   },
   {
    "duration": 107,
    "start_time": "2023-05-20T11:14:08.242Z"
   },
   {
    "duration": 20,
    "start_time": "2023-05-20T11:14:08.350Z"
   },
   {
    "duration": 149,
    "start_time": "2023-05-20T11:14:08.373Z"
   },
   {
    "duration": 17,
    "start_time": "2023-05-20T11:14:08.524Z"
   },
   {
    "duration": 127,
    "start_time": "2023-05-20T11:14:08.543Z"
   },
   {
    "duration": 165,
    "start_time": "2023-05-20T11:14:08.671Z"
   },
   {
    "duration": 230,
    "start_time": "2023-05-20T11:14:08.839Z"
   },
   {
    "duration": 100,
    "start_time": "2023-05-20T11:14:09.071Z"
   },
   {
    "duration": 307,
    "start_time": "2023-05-20T11:14:09.175Z"
   },
   {
    "duration": 11,
    "start_time": "2023-05-20T11:14:09.484Z"
   },
   {
    "duration": 104,
    "start_time": "2023-05-20T11:14:09.556Z"
   },
   {
    "duration": 332,
    "start_time": "2023-05-20T11:14:09.662Z"
   },
   {
    "duration": 231,
    "start_time": "2023-05-20T11:14:09.996Z"
   },
   {
    "duration": 33,
    "start_time": "2023-05-20T11:14:10.229Z"
   },
   {
    "duration": 365,
    "start_time": "2023-05-20T11:14:10.270Z"
   },
   {
    "duration": 39,
    "start_time": "2023-05-20T11:14:10.637Z"
   },
   {
    "duration": 97,
    "start_time": "2023-05-20T11:14:10.679Z"
   },
   {
    "duration": 92,
    "start_time": "2023-05-20T11:14:10.778Z"
   },
   {
    "duration": 169,
    "start_time": "2023-05-20T11:14:10.873Z"
   },
   {
    "duration": 35,
    "start_time": "2023-05-20T11:14:11.044Z"
   },
   {
    "duration": 19,
    "start_time": "2023-05-20T11:14:11.081Z"
   },
   {
    "duration": 173,
    "start_time": "2023-05-20T11:14:11.102Z"
   },
   {
    "duration": 40,
    "start_time": "2023-05-20T11:14:11.277Z"
   },
   {
    "duration": 11,
    "start_time": "2023-05-20T11:14:11.319Z"
   },
   {
    "duration": 28,
    "start_time": "2023-05-20T11:14:11.332Z"
   },
   {
    "duration": 487,
    "start_time": "2023-05-20T11:14:11.365Z"
   },
   {
    "duration": 14,
    "start_time": "2023-05-20T11:14:11.854Z"
   },
   {
    "duration": 41,
    "start_time": "2023-05-20T11:14:11.869Z"
   },
   {
    "duration": 147,
    "start_time": "2023-05-20T11:14:11.912Z"
   },
   {
    "duration": 16,
    "start_time": "2023-05-20T11:14:12.063Z"
   },
   {
    "duration": 12,
    "start_time": "2023-05-20T11:14:12.081Z"
   },
   {
    "duration": 356,
    "start_time": "2023-05-20T11:14:12.094Z"
   },
   {
    "duration": 14,
    "start_time": "2023-05-20T11:14:12.452Z"
   },
   {
    "duration": 4,
    "start_time": "2023-05-20T11:14:12.472Z"
   },
   {
    "duration": 175197,
    "start_time": "2023-05-20T11:14:12.477Z"
   },
   {
    "duration": 937,
    "start_time": "2023-05-20T11:17:07.676Z"
   },
   {
    "duration": 11,
    "start_time": "2023-05-20T11:17:08.615Z"
   },
   {
    "duration": 83,
    "start_time": "2023-05-20T11:17:08.627Z"
   },
   {
    "duration": 66,
    "start_time": "2023-05-20T11:17:08.712Z"
   },
   {
    "duration": 191,
    "start_time": "2023-05-20T11:17:08.780Z"
   },
   {
    "duration": 1088,
    "start_time": "2023-05-20T11:17:08.976Z"
   },
   {
    "duration": 4,
    "start_time": "2023-05-20T11:17:10.070Z"
   },
   {
    "duration": 14,
    "start_time": "2023-05-20T11:17:10.076Z"
   },
   {
    "duration": 24,
    "start_time": "2023-05-20T11:17:10.092Z"
   },
   {
    "duration": 2421,
    "start_time": "2023-05-20T14:15:36.996Z"
   },
   {
    "duration": 100,
    "start_time": "2023-05-20T14:15:39.418Z"
   },
   {
    "duration": 12,
    "start_time": "2023-05-20T14:15:39.519Z"
   },
   {
    "duration": 37,
    "start_time": "2023-05-20T14:15:39.533Z"
   },
   {
    "duration": 7,
    "start_time": "2023-05-20T14:15:39.571Z"
   },
   {
    "duration": 23,
    "start_time": "2023-05-20T14:15:39.579Z"
   },
   {
    "duration": 11,
    "start_time": "2023-05-20T14:15:39.604Z"
   },
   {
    "duration": 23,
    "start_time": "2023-05-20T14:15:39.616Z"
   },
   {
    "duration": 4,
    "start_time": "2023-05-20T14:15:39.641Z"
   },
   {
    "duration": 11,
    "start_time": "2023-05-20T14:15:39.647Z"
   },
   {
    "duration": 3,
    "start_time": "2023-05-20T14:15:39.659Z"
   },
   {
    "duration": 34,
    "start_time": "2023-05-20T14:15:39.663Z"
   },
   {
    "duration": 24,
    "start_time": "2023-05-20T14:15:39.698Z"
   },
   {
    "duration": 16,
    "start_time": "2023-05-20T14:15:39.723Z"
   },
   {
    "duration": 16,
    "start_time": "2023-05-20T14:15:39.740Z"
   },
   {
    "duration": 140,
    "start_time": "2023-05-20T14:15:39.757Z"
   },
   {
    "duration": 8,
    "start_time": "2023-05-20T14:15:39.903Z"
   },
   {
    "duration": 144,
    "start_time": "2023-05-20T14:15:39.912Z"
   },
   {
    "duration": 0,
    "start_time": "2023-05-20T14:15:40.058Z"
   },
   {
    "duration": 0,
    "start_time": "2023-05-20T14:15:40.059Z"
   },
   {
    "duration": 0,
    "start_time": "2023-05-20T14:15:40.060Z"
   },
   {
    "duration": 0,
    "start_time": "2023-05-20T14:15:40.061Z"
   },
   {
    "duration": 0,
    "start_time": "2023-05-20T14:15:40.062Z"
   },
   {
    "duration": 0,
    "start_time": "2023-05-20T14:15:40.063Z"
   },
   {
    "duration": 0,
    "start_time": "2023-05-20T14:15:40.064Z"
   },
   {
    "duration": 0,
    "start_time": "2023-05-20T14:15:40.065Z"
   },
   {
    "duration": 0,
    "start_time": "2023-05-20T14:15:40.066Z"
   },
   {
    "duration": 0,
    "start_time": "2023-05-20T14:15:40.067Z"
   },
   {
    "duration": 0,
    "start_time": "2023-05-20T14:15:40.067Z"
   },
   {
    "duration": 0,
    "start_time": "2023-05-20T14:15:40.068Z"
   },
   {
    "duration": 0,
    "start_time": "2023-05-20T14:15:40.069Z"
   },
   {
    "duration": 0,
    "start_time": "2023-05-20T14:15:40.070Z"
   },
   {
    "duration": 0,
    "start_time": "2023-05-20T14:15:40.071Z"
   },
   {
    "duration": 0,
    "start_time": "2023-05-20T14:15:40.072Z"
   },
   {
    "duration": 0,
    "start_time": "2023-05-20T14:15:40.095Z"
   },
   {
    "duration": 0,
    "start_time": "2023-05-20T14:15:40.095Z"
   },
   {
    "duration": 0,
    "start_time": "2023-05-20T14:15:40.096Z"
   },
   {
    "duration": 0,
    "start_time": "2023-05-20T14:15:40.097Z"
   },
   {
    "duration": 0,
    "start_time": "2023-05-20T14:15:40.098Z"
   },
   {
    "duration": 0,
    "start_time": "2023-05-20T14:15:40.099Z"
   },
   {
    "duration": 0,
    "start_time": "2023-05-20T14:15:40.100Z"
   },
   {
    "duration": 0,
    "start_time": "2023-05-20T14:15:40.101Z"
   },
   {
    "duration": 0,
    "start_time": "2023-05-20T14:15:40.102Z"
   },
   {
    "duration": 0,
    "start_time": "2023-05-20T14:15:40.103Z"
   },
   {
    "duration": 0,
    "start_time": "2023-05-20T14:15:40.104Z"
   },
   {
    "duration": 0,
    "start_time": "2023-05-20T14:15:40.105Z"
   },
   {
    "duration": 0,
    "start_time": "2023-05-20T14:15:40.106Z"
   },
   {
    "duration": 0,
    "start_time": "2023-05-20T14:15:40.106Z"
   },
   {
    "duration": 0,
    "start_time": "2023-05-20T14:15:40.107Z"
   },
   {
    "duration": 0,
    "start_time": "2023-05-20T14:15:40.108Z"
   },
   {
    "duration": 0,
    "start_time": "2023-05-20T14:15:40.109Z"
   },
   {
    "duration": 0,
    "start_time": "2023-05-20T14:15:40.110Z"
   },
   {
    "duration": 0,
    "start_time": "2023-05-20T14:15:40.111Z"
   },
   {
    "duration": 0,
    "start_time": "2023-05-20T14:15:40.112Z"
   },
   {
    "duration": 0,
    "start_time": "2023-05-20T14:15:40.113Z"
   },
   {
    "duration": 0,
    "start_time": "2023-05-20T14:15:40.114Z"
   },
   {
    "duration": 0,
    "start_time": "2023-05-20T14:15:40.115Z"
   },
   {
    "duration": 0,
    "start_time": "2023-05-20T14:15:40.116Z"
   },
   {
    "duration": 1,
    "start_time": "2023-05-20T14:15:40.116Z"
   },
   {
    "duration": 0,
    "start_time": "2023-05-20T14:15:40.117Z"
   },
   {
    "duration": 0,
    "start_time": "2023-05-20T14:15:40.118Z"
   },
   {
    "duration": 0,
    "start_time": "2023-05-20T14:15:40.119Z"
   },
   {
    "duration": 0,
    "start_time": "2023-05-20T14:15:40.120Z"
   },
   {
    "duration": 0,
    "start_time": "2023-05-20T14:15:40.121Z"
   },
   {
    "duration": 0,
    "start_time": "2023-05-20T14:15:40.122Z"
   },
   {
    "duration": 0,
    "start_time": "2023-05-20T14:15:40.123Z"
   },
   {
    "duration": 0,
    "start_time": "2023-05-20T14:15:40.124Z"
   },
   {
    "duration": 0,
    "start_time": "2023-05-20T14:15:40.125Z"
   },
   {
    "duration": 0,
    "start_time": "2023-05-20T14:15:40.126Z"
   },
   {
    "duration": 0,
    "start_time": "2023-05-20T14:15:40.126Z"
   },
   {
    "duration": 24,
    "start_time": "2023-05-20T14:51:43.849Z"
   },
   {
    "duration": 10,
    "start_time": "2023-05-20T14:51:43.876Z"
   },
   {
    "duration": 125,
    "start_time": "2023-05-20T14:51:43.887Z"
   },
   {
    "duration": 9,
    "start_time": "2023-05-20T14:51:44.014Z"
   },
   {
    "duration": 21,
    "start_time": "2023-05-20T14:51:44.026Z"
   },
   {
    "duration": 157,
    "start_time": "2023-05-20T14:51:44.048Z"
   },
   {
    "duration": 4942,
    "start_time": "2023-05-20T14:51:44.207Z"
   },
   {
    "duration": 4497,
    "start_time": "2023-05-20T14:51:49.150Z"
   },
   {
    "duration": 90,
    "start_time": "2023-05-20T14:51:53.648Z"
   },
   {
    "duration": 10,
    "start_time": "2023-05-20T14:51:53.740Z"
   },
   {
    "duration": 132,
    "start_time": "2023-05-20T14:51:53.751Z"
   },
   {
    "duration": 24,
    "start_time": "2023-05-20T14:51:53.885Z"
   },
   {
    "duration": 98,
    "start_time": "2023-05-20T14:51:53.910Z"
   },
   {
    "duration": 147,
    "start_time": "2023-05-20T14:51:54.011Z"
   },
   {
    "duration": 150,
    "start_time": "2023-05-20T14:51:54.159Z"
   },
   {
    "duration": 103,
    "start_time": "2023-05-20T14:51:54.394Z"
   },
   {
    "duration": 331,
    "start_time": "2023-05-20T14:51:54.499Z"
   },
   {
    "duration": 63,
    "start_time": "2023-05-20T14:51:54.832Z"
   },
   {
    "duration": 198,
    "start_time": "2023-05-20T14:51:54.898Z"
   },
   {
    "duration": 309,
    "start_time": "2023-05-20T14:51:55.099Z"
   },
   {
    "duration": 189,
    "start_time": "2023-05-20T14:51:55.410Z"
   },
   {
    "duration": 21,
    "start_time": "2023-05-20T14:51:55.601Z"
   },
   {
    "duration": 313,
    "start_time": "2023-05-20T14:51:55.623Z"
   },
   {
    "duration": 64,
    "start_time": "2023-05-20T14:51:55.938Z"
   },
   {
    "duration": 106,
    "start_time": "2023-05-20T14:51:56.004Z"
   },
   {
    "duration": 13,
    "start_time": "2023-05-20T14:51:56.112Z"
   },
   {
    "duration": 171,
    "start_time": "2023-05-20T14:51:56.127Z"
   },
   {
    "duration": 18,
    "start_time": "2023-05-20T14:51:56.299Z"
   },
   {
    "duration": 11,
    "start_time": "2023-05-20T14:51:56.319Z"
   },
   {
    "duration": 146,
    "start_time": "2023-05-20T14:51:56.332Z"
   },
   {
    "duration": 43,
    "start_time": "2023-05-20T14:51:56.480Z"
   },
   {
    "duration": 12,
    "start_time": "2023-05-20T14:51:56.525Z"
   },
   {
    "duration": 11,
    "start_time": "2023-05-20T14:51:56.539Z"
   },
   {
    "duration": 443,
    "start_time": "2023-05-20T14:51:56.552Z"
   },
   {
    "duration": 11,
    "start_time": "2023-05-20T14:51:56.996Z"
   },
   {
    "duration": 35,
    "start_time": "2023-05-20T14:51:57.009Z"
   },
   {
    "duration": 50,
    "start_time": "2023-05-20T14:51:57.046Z"
   },
   {
    "duration": 103,
    "start_time": "2023-05-20T14:51:57.098Z"
   },
   {
    "duration": 94,
    "start_time": "2023-05-20T14:51:57.202Z"
   },
   {
    "duration": 368,
    "start_time": "2023-05-20T14:51:57.299Z"
   },
   {
    "duration": 6,
    "start_time": "2023-05-20T14:51:57.670Z"
   },
   {
    "duration": 7,
    "start_time": "2023-05-20T14:51:57.678Z"
   },
   {
    "duration": 150801,
    "start_time": "2023-05-20T14:51:57.694Z"
   },
   {
    "duration": 832,
    "start_time": "2023-05-20T14:54:28.497Z"
   },
   {
    "duration": 9,
    "start_time": "2023-05-20T14:54:29.330Z"
   },
   {
    "duration": 70,
    "start_time": "2023-05-20T14:54:29.341Z"
   },
   {
    "duration": 53,
    "start_time": "2023-05-20T14:54:29.412Z"
   },
   {
    "duration": 129,
    "start_time": "2023-05-20T14:54:29.466Z"
   },
   {
    "duration": 893,
    "start_time": "2023-05-20T14:54:29.597Z"
   },
   {
    "duration": 4,
    "start_time": "2023-05-20T14:54:30.495Z"
   },
   {
    "duration": 38,
    "start_time": "2023-05-20T14:54:30.500Z"
   },
   {
    "duration": 33,
    "start_time": "2023-05-20T14:54:30.540Z"
   },
   {
    "duration": 2263,
    "start_time": "2023-05-20T15:47:54.904Z"
   },
   {
    "duration": 147,
    "start_time": "2023-05-20T15:50:50.611Z"
   },
   {
    "duration": 9,
    "start_time": "2023-05-20T15:51:04.552Z"
   },
   {
    "duration": 5,
    "start_time": "2023-05-20T15:51:13.850Z"
   },
   {
    "duration": 10,
    "start_time": "2023-05-20T15:51:17.961Z"
   },
   {
    "duration": 9,
    "start_time": "2023-05-20T15:51:30.771Z"
   },
   {
    "duration": 5,
    "start_time": "2023-05-20T15:51:39.790Z"
   },
   {
    "duration": 188,
    "start_time": "2023-05-20T15:51:39.797Z"
   },
   {
    "duration": 13,
    "start_time": "2023-05-20T15:51:39.986Z"
   },
   {
    "duration": 54,
    "start_time": "2023-05-20T15:51:40.001Z"
   },
   {
    "duration": 50,
    "start_time": "2023-05-20T15:51:40.058Z"
   },
   {
    "duration": 30,
    "start_time": "2023-05-20T15:51:40.110Z"
   },
   {
    "duration": 18,
    "start_time": "2023-05-20T15:51:40.141Z"
   },
   {
    "duration": 13,
    "start_time": "2023-05-20T15:51:40.161Z"
   },
   {
    "duration": 19,
    "start_time": "2023-05-20T15:51:40.175Z"
   },
   {
    "duration": 4,
    "start_time": "2023-05-20T15:51:40.195Z"
   },
   {
    "duration": 42,
    "start_time": "2023-05-20T15:51:40.201Z"
   },
   {
    "duration": 2,
    "start_time": "2023-05-20T15:51:40.245Z"
   },
   {
    "duration": 18,
    "start_time": "2023-05-20T15:51:40.248Z"
   },
   {
    "duration": 22,
    "start_time": "2023-05-20T15:51:40.269Z"
   },
   {
    "duration": 46,
    "start_time": "2023-05-20T15:51:40.293Z"
   },
   {
    "duration": 19,
    "start_time": "2023-05-20T15:51:40.341Z"
   },
   {
    "duration": 154,
    "start_time": "2023-05-20T15:51:40.362Z"
   },
   {
    "duration": 22,
    "start_time": "2023-05-20T15:51:40.518Z"
   },
   {
    "duration": 21,
    "start_time": "2023-05-20T15:51:40.542Z"
   },
   {
    "duration": 0,
    "start_time": "2023-05-20T15:51:40.565Z"
   },
   {
    "duration": 0,
    "start_time": "2023-05-20T15:51:40.566Z"
   },
   {
    "duration": 0,
    "start_time": "2023-05-20T15:51:40.568Z"
   },
   {
    "duration": 0,
    "start_time": "2023-05-20T15:51:40.569Z"
   },
   {
    "duration": 0,
    "start_time": "2023-05-20T15:51:40.570Z"
   },
   {
    "duration": 0,
    "start_time": "2023-05-20T15:51:40.571Z"
   },
   {
    "duration": 0,
    "start_time": "2023-05-20T15:51:40.573Z"
   },
   {
    "duration": 0,
    "start_time": "2023-05-20T15:51:40.573Z"
   },
   {
    "duration": 0,
    "start_time": "2023-05-20T15:51:40.575Z"
   },
   {
    "duration": 0,
    "start_time": "2023-05-20T15:51:40.576Z"
   },
   {
    "duration": 0,
    "start_time": "2023-05-20T15:51:40.577Z"
   },
   {
    "duration": 0,
    "start_time": "2023-05-20T15:51:40.578Z"
   },
   {
    "duration": 0,
    "start_time": "2023-05-20T15:51:40.579Z"
   },
   {
    "duration": 0,
    "start_time": "2023-05-20T15:51:40.580Z"
   },
   {
    "duration": 0,
    "start_time": "2023-05-20T15:51:40.581Z"
   },
   {
    "duration": 0,
    "start_time": "2023-05-20T15:51:40.626Z"
   },
   {
    "duration": 0,
    "start_time": "2023-05-20T15:51:40.628Z"
   },
   {
    "duration": 0,
    "start_time": "2023-05-20T15:51:40.629Z"
   },
   {
    "duration": 0,
    "start_time": "2023-05-20T15:51:40.630Z"
   },
   {
    "duration": 0,
    "start_time": "2023-05-20T15:51:40.631Z"
   },
   {
    "duration": 0,
    "start_time": "2023-05-20T15:51:40.633Z"
   },
   {
    "duration": 0,
    "start_time": "2023-05-20T15:51:40.636Z"
   },
   {
    "duration": 1,
    "start_time": "2023-05-20T15:51:40.637Z"
   },
   {
    "duration": 0,
    "start_time": "2023-05-20T15:51:40.639Z"
   },
   {
    "duration": 0,
    "start_time": "2023-05-20T15:51:40.641Z"
   },
   {
    "duration": 0,
    "start_time": "2023-05-20T15:51:40.642Z"
   },
   {
    "duration": 0,
    "start_time": "2023-05-20T15:51:40.643Z"
   },
   {
    "duration": 0,
    "start_time": "2023-05-20T15:51:40.644Z"
   },
   {
    "duration": 0,
    "start_time": "2023-05-20T15:51:40.645Z"
   },
   {
    "duration": 0,
    "start_time": "2023-05-20T15:51:40.646Z"
   },
   {
    "duration": 0,
    "start_time": "2023-05-20T15:51:40.647Z"
   },
   {
    "duration": 0,
    "start_time": "2023-05-20T15:51:40.648Z"
   },
   {
    "duration": 0,
    "start_time": "2023-05-20T15:51:40.649Z"
   },
   {
    "duration": 0,
    "start_time": "2023-05-20T15:51:40.650Z"
   },
   {
    "duration": 0,
    "start_time": "2023-05-20T15:51:40.651Z"
   },
   {
    "duration": 0,
    "start_time": "2023-05-20T15:51:40.651Z"
   },
   {
    "duration": 0,
    "start_time": "2023-05-20T15:51:40.653Z"
   },
   {
    "duration": 0,
    "start_time": "2023-05-20T15:51:40.654Z"
   },
   {
    "duration": 0,
    "start_time": "2023-05-20T15:51:40.655Z"
   },
   {
    "duration": 0,
    "start_time": "2023-05-20T15:51:40.656Z"
   },
   {
    "duration": 0,
    "start_time": "2023-05-20T15:51:40.657Z"
   },
   {
    "duration": 0,
    "start_time": "2023-05-20T15:51:40.658Z"
   },
   {
    "duration": 0,
    "start_time": "2023-05-20T15:51:40.659Z"
   },
   {
    "duration": 0,
    "start_time": "2023-05-20T15:51:40.660Z"
   },
   {
    "duration": 0,
    "start_time": "2023-05-20T15:51:40.661Z"
   },
   {
    "duration": 0,
    "start_time": "2023-05-20T15:51:40.664Z"
   },
   {
    "duration": 0,
    "start_time": "2023-05-20T15:51:40.726Z"
   },
   {
    "duration": 0,
    "start_time": "2023-05-20T15:51:40.727Z"
   },
   {
    "duration": 0,
    "start_time": "2023-05-20T15:51:40.728Z"
   },
   {
    "duration": 0,
    "start_time": "2023-05-20T15:51:40.728Z"
   },
   {
    "duration": 0,
    "start_time": "2023-05-20T15:51:40.729Z"
   },
   {
    "duration": 0,
    "start_time": "2023-05-20T15:51:40.731Z"
   },
   {
    "duration": 55,
    "start_time": "2023-05-20T15:53:55.121Z"
   },
   {
    "duration": 49,
    "start_time": "2023-05-20T15:56:16.997Z"
   },
   {
    "duration": 12,
    "start_time": "2023-05-20T15:59:46.910Z"
   },
   {
    "duration": 20,
    "start_time": "2023-05-20T16:00:30.389Z"
   },
   {
    "duration": 4,
    "start_time": "2023-05-20T16:01:15.287Z"
   },
   {
    "duration": 32,
    "start_time": "2023-05-20T16:01:26.694Z"
   },
   {
    "duration": 18,
    "start_time": "2023-05-20T16:01:32.062Z"
   },
   {
    "duration": 18,
    "start_time": "2023-05-20T16:01:33.991Z"
   },
   {
    "duration": 52,
    "start_time": "2023-05-20T16:02:20.008Z"
   },
   {
    "duration": 141,
    "start_time": "2023-05-20T16:04:47.509Z"
   },
   {
    "duration": 144,
    "start_time": "2023-05-20T16:05:35.324Z"
   },
   {
    "duration": 284,
    "start_time": "2023-05-20T16:05:59.358Z"
   },
   {
    "duration": 40,
    "start_time": "2023-05-20T16:07:17.458Z"
   },
   {
    "duration": 45,
    "start_time": "2023-05-20T16:10:46.970Z"
   },
   {
    "duration": 3981,
    "start_time": "2023-05-20T16:15:30.501Z"
   },
   {
    "duration": 26,
    "start_time": "2023-05-20T16:16:33.126Z"
   },
   {
    "duration": 309,
    "start_time": "2023-05-20T16:16:38.697Z"
   },
   {
    "duration": 61,
    "start_time": "2023-05-20T16:16:41.666Z"
   },
   {
    "duration": 10,
    "start_time": "2023-05-20T16:17:37.287Z"
   },
   {
    "duration": 19,
    "start_time": "2023-05-20T16:17:44.383Z"
   },
   {
    "duration": 19,
    "start_time": "2023-05-20T16:17:46.632Z"
   },
   {
    "duration": 128,
    "start_time": "2023-05-20T16:17:49.285Z"
   },
   {
    "duration": 157,
    "start_time": "2023-05-20T16:18:34.113Z"
   },
   {
    "duration": 181,
    "start_time": "2023-05-20T16:19:59.874Z"
   },
   {
    "duration": 8653,
    "start_time": "2023-05-20T18:58:37.963Z"
   },
   {
    "duration": 5407,
    "start_time": "2023-05-20T18:58:57.895Z"
   },
   {
    "duration": 76,
    "start_time": "2023-05-20T18:59:03.304Z"
   },
   {
    "duration": 14,
    "start_time": "2023-05-20T18:59:03.382Z"
   },
   {
    "duration": 53,
    "start_time": "2023-05-20T18:59:03.398Z"
   },
   {
    "duration": 51,
    "start_time": "2023-05-20T18:59:03.453Z"
   },
   {
    "duration": 24,
    "start_time": "2023-05-20T18:59:03.506Z"
   },
   {
    "duration": 17,
    "start_time": "2023-05-20T18:59:03.538Z"
   },
   {
    "duration": 20,
    "start_time": "2023-05-20T18:59:03.557Z"
   },
   {
    "duration": 24,
    "start_time": "2023-05-20T18:59:03.579Z"
   },
   {
    "duration": 28,
    "start_time": "2023-05-20T18:59:03.606Z"
   },
   {
    "duration": 45,
    "start_time": "2023-05-20T18:59:03.636Z"
   },
   {
    "duration": 61,
    "start_time": "2023-05-20T18:59:03.683Z"
   },
   {
    "duration": 18,
    "start_time": "2023-05-20T18:59:03.746Z"
   },
   {
    "duration": 40,
    "start_time": "2023-05-20T18:59:03.766Z"
   },
   {
    "duration": 22,
    "start_time": "2023-05-20T18:59:03.808Z"
   },
   {
    "duration": 26,
    "start_time": "2023-05-20T18:59:03.831Z"
   },
   {
    "duration": 252,
    "start_time": "2023-05-20T18:59:03.859Z"
   },
   {
    "duration": 17,
    "start_time": "2023-05-20T18:59:04.113Z"
   },
   {
    "duration": 484,
    "start_time": "2023-05-20T18:59:04.131Z"
   },
   {
    "duration": 27,
    "start_time": "2023-05-20T18:59:04.635Z"
   },
   {
    "duration": 10,
    "start_time": "2023-05-20T18:59:04.664Z"
   },
   {
    "duration": 138,
    "start_time": "2023-05-20T18:59:04.676Z"
   },
   {
    "duration": 21,
    "start_time": "2023-05-20T18:59:04.816Z"
   },
   {
    "duration": 30,
    "start_time": "2023-05-20T18:59:04.842Z"
   },
   {
    "duration": 170,
    "start_time": "2023-05-20T18:59:04.875Z"
   },
   {
    "duration": 5459,
    "start_time": "2023-05-20T18:59:05.049Z"
   },
   {
    "duration": 5445,
    "start_time": "2023-05-20T18:59:10.510Z"
   },
   {
    "duration": 105,
    "start_time": "2023-05-20T18:59:15.959Z"
   },
   {
    "duration": 11,
    "start_time": "2023-05-20T18:59:16.066Z"
   },
   {
    "duration": 161,
    "start_time": "2023-05-20T18:59:16.079Z"
   },
   {
    "duration": 18,
    "start_time": "2023-05-20T18:59:16.242Z"
   },
   {
    "duration": 113,
    "start_time": "2023-05-20T18:59:16.262Z"
   },
   {
    "duration": 161,
    "start_time": "2023-05-20T18:59:16.377Z"
   },
   {
    "duration": 807,
    "start_time": "2023-05-20T18:59:16.548Z"
   },
   {
    "duration": 88,
    "start_time": "2023-05-20T18:59:17.447Z"
   },
   {
    "duration": 1293,
    "start_time": "2023-05-20T18:59:17.542Z"
   },
   {
    "duration": 316,
    "start_time": "2023-05-20T18:59:18.837Z"
   },
   {
    "duration": 245,
    "start_time": "2023-05-20T18:59:19.156Z"
   },
   {
    "duration": 390,
    "start_time": "2023-05-20T18:59:19.403Z"
   },
   {
    "duration": 257,
    "start_time": "2023-05-20T18:59:19.795Z"
   },
   {
    "duration": 29,
    "start_time": "2023-05-20T18:59:20.054Z"
   },
   {
    "duration": 401,
    "start_time": "2023-05-20T18:59:20.085Z"
   },
   {
    "duration": 48,
    "start_time": "2023-05-20T18:59:20.488Z"
   },
   {
    "duration": 107,
    "start_time": "2023-05-20T18:59:20.538Z"
   },
   {
    "duration": 18,
    "start_time": "2023-05-20T18:59:20.647Z"
   },
   {
    "duration": 213,
    "start_time": "2023-05-20T18:59:20.667Z"
   },
   {
    "duration": 20,
    "start_time": "2023-05-20T18:59:20.882Z"
   },
   {
    "duration": 26,
    "start_time": "2023-05-20T18:59:20.904Z"
   },
   {
    "duration": 166,
    "start_time": "2023-05-20T18:59:20.932Z"
   },
   {
    "duration": 52,
    "start_time": "2023-05-20T18:59:21.100Z"
   },
   {
    "duration": 12,
    "start_time": "2023-05-20T18:59:21.154Z"
   },
   {
    "duration": 11,
    "start_time": "2023-05-20T18:59:21.168Z"
   },
   {
    "duration": 559,
    "start_time": "2023-05-20T18:59:21.180Z"
   },
   {
    "duration": 12,
    "start_time": "2023-05-20T18:59:21.745Z"
   },
   {
    "duration": 34,
    "start_time": "2023-05-20T18:59:21.759Z"
   },
   {
    "duration": 58,
    "start_time": "2023-05-20T18:59:21.795Z"
   },
   {
    "duration": 172,
    "start_time": "2023-05-20T18:59:21.856Z"
   },
   {
    "duration": 23,
    "start_time": "2023-05-20T18:59:22.032Z"
   },
   {
    "duration": 344,
    "start_time": "2023-05-20T18:59:22.138Z"
   },
   {
    "duration": 6,
    "start_time": "2023-05-20T18:59:22.484Z"
   },
   {
    "duration": 4,
    "start_time": "2023-05-20T18:59:22.492Z"
   },
   {
    "duration": 180282,
    "start_time": "2023-05-20T18:59:22.498Z"
   },
   {
    "duration": 983,
    "start_time": "2023-05-20T19:02:22.781Z"
   },
   {
    "duration": 10,
    "start_time": "2023-05-20T19:02:23.766Z"
   },
   {
    "duration": 81,
    "start_time": "2023-05-20T19:02:23.778Z"
   },
   {
    "duration": 73,
    "start_time": "2023-05-20T19:02:23.862Z"
   },
   {
    "duration": 150,
    "start_time": "2023-05-20T19:02:23.938Z"
   },
   {
    "duration": 1066,
    "start_time": "2023-05-20T19:02:24.090Z"
   },
   {
    "duration": 3,
    "start_time": "2023-05-20T19:02:25.158Z"
   },
   {
    "duration": 7,
    "start_time": "2023-05-20T19:02:25.163Z"
   },
   {
    "duration": 10,
    "start_time": "2023-05-20T19:02:25.172Z"
   },
   {
    "duration": 3,
    "start_time": "2023-05-20T19:08:18.062Z"
   },
   {
    "duration": 2351,
    "start_time": "2023-05-20T19:09:54.980Z"
   },
   {
    "duration": 151,
    "start_time": "2023-05-20T19:12:20.463Z"
   },
   {
    "duration": 17,
    "start_time": "2023-05-20T19:37:10.803Z"
   },
   {
    "duration": 14,
    "start_time": "2023-05-20T19:42:37.085Z"
   },
   {
    "duration": 14,
    "start_time": "2023-05-20T19:43:16.789Z"
   },
   {
    "duration": 18,
    "start_time": "2023-05-20T19:45:51.208Z"
   },
   {
    "duration": 7,
    "start_time": "2023-05-20T19:46:12.774Z"
   },
   {
    "duration": 21,
    "start_time": "2023-05-20T19:46:35.698Z"
   },
   {
    "duration": 22,
    "start_time": "2023-05-20T19:47:08.417Z"
   },
   {
    "duration": 17,
    "start_time": "2023-05-20T19:48:36.268Z"
   },
   {
    "duration": 7,
    "start_time": "2023-05-20T19:51:56.487Z"
   },
   {
    "duration": 44,
    "start_time": "2023-05-20T20:00:07.397Z"
   },
   {
    "duration": 12,
    "start_time": "2023-05-20T20:01:01.830Z"
   },
   {
    "duration": 8,
    "start_time": "2023-05-20T20:01:14.375Z"
   },
   {
    "duration": 6,
    "start_time": "2023-05-20T20:01:44.953Z"
   },
   {
    "duration": 6,
    "start_time": "2023-05-20T20:03:44.965Z"
   },
   {
    "duration": 30,
    "start_time": "2023-05-20T20:03:58.625Z"
   },
   {
    "duration": 2321,
    "start_time": "2023-05-20T20:04:42.883Z"
   },
   {
    "duration": 56,
    "start_time": "2023-05-20T20:04:45.207Z"
   },
   {
    "duration": 16,
    "start_time": "2023-05-20T20:04:45.265Z"
   },
   {
    "duration": 58,
    "start_time": "2023-05-20T20:04:45.282Z"
   },
   {
    "duration": 48,
    "start_time": "2023-05-20T20:04:45.342Z"
   },
   {
    "duration": 7,
    "start_time": "2023-05-20T20:04:45.392Z"
   },
   {
    "duration": 31,
    "start_time": "2023-05-20T20:04:45.401Z"
   },
   {
    "duration": 15,
    "start_time": "2023-05-20T20:04:45.434Z"
   },
   {
    "duration": 15,
    "start_time": "2023-05-20T20:04:45.451Z"
   },
   {
    "duration": 6,
    "start_time": "2023-05-20T20:04:45.468Z"
   },
   {
    "duration": 12,
    "start_time": "2023-05-20T20:04:45.476Z"
   },
   {
    "duration": 6,
    "start_time": "2023-05-20T20:04:45.490Z"
   },
   {
    "duration": 29,
    "start_time": "2023-05-20T20:04:45.497Z"
   },
   {
    "duration": 40,
    "start_time": "2023-05-20T20:04:45.529Z"
   },
   {
    "duration": 3,
    "start_time": "2023-05-20T20:04:45.571Z"
   },
   {
    "duration": 10,
    "start_time": "2023-05-20T20:04:45.576Z"
   },
   {
    "duration": 56,
    "start_time": "2023-05-20T20:04:45.587Z"
   },
   {
    "duration": 18,
    "start_time": "2023-05-20T20:04:45.644Z"
   },
   {
    "duration": 18,
    "start_time": "2023-05-20T20:04:45.664Z"
   },
   {
    "duration": 161,
    "start_time": "2023-05-20T20:04:45.684Z"
   },
   {
    "duration": 7,
    "start_time": "2023-05-20T20:04:45.847Z"
   },
   {
    "duration": 32,
    "start_time": "2023-05-20T20:04:45.855Z"
   },
   {
    "duration": 0,
    "start_time": "2023-05-20T20:04:45.890Z"
   },
   {
    "duration": 0,
    "start_time": "2023-05-20T20:04:45.892Z"
   },
   {
    "duration": 0,
    "start_time": "2023-05-20T20:04:45.893Z"
   },
   {
    "duration": 0,
    "start_time": "2023-05-20T20:04:45.894Z"
   },
   {
    "duration": 0,
    "start_time": "2023-05-20T20:04:45.896Z"
   },
   {
    "duration": 0,
    "start_time": "2023-05-20T20:04:45.896Z"
   },
   {
    "duration": 0,
    "start_time": "2023-05-20T20:04:45.897Z"
   },
   {
    "duration": 0,
    "start_time": "2023-05-20T20:04:45.898Z"
   },
   {
    "duration": 0,
    "start_time": "2023-05-20T20:04:45.925Z"
   },
   {
    "duration": 0,
    "start_time": "2023-05-20T20:04:45.927Z"
   },
   {
    "duration": 0,
    "start_time": "2023-05-20T20:04:45.928Z"
   },
   {
    "duration": 0,
    "start_time": "2023-05-20T20:04:45.929Z"
   },
   {
    "duration": 0,
    "start_time": "2023-05-20T20:04:45.930Z"
   },
   {
    "duration": 0,
    "start_time": "2023-05-20T20:04:45.931Z"
   },
   {
    "duration": 0,
    "start_time": "2023-05-20T20:04:45.932Z"
   },
   {
    "duration": 0,
    "start_time": "2023-05-20T20:04:45.933Z"
   },
   {
    "duration": 0,
    "start_time": "2023-05-20T20:04:45.934Z"
   },
   {
    "duration": 0,
    "start_time": "2023-05-20T20:04:45.935Z"
   },
   {
    "duration": 0,
    "start_time": "2023-05-20T20:04:45.936Z"
   },
   {
    "duration": 0,
    "start_time": "2023-05-20T20:04:45.937Z"
   },
   {
    "duration": 0,
    "start_time": "2023-05-20T20:04:45.938Z"
   },
   {
    "duration": 0,
    "start_time": "2023-05-20T20:04:45.939Z"
   },
   {
    "duration": 0,
    "start_time": "2023-05-20T20:04:45.941Z"
   },
   {
    "duration": 0,
    "start_time": "2023-05-20T20:04:45.941Z"
   },
   {
    "duration": 0,
    "start_time": "2023-05-20T20:04:45.943Z"
   },
   {
    "duration": 0,
    "start_time": "2023-05-20T20:04:45.944Z"
   },
   {
    "duration": 0,
    "start_time": "2023-05-20T20:04:45.945Z"
   },
   {
    "duration": 0,
    "start_time": "2023-05-20T20:04:45.946Z"
   },
   {
    "duration": 0,
    "start_time": "2023-05-20T20:04:45.947Z"
   },
   {
    "duration": 0,
    "start_time": "2023-05-20T20:04:45.948Z"
   },
   {
    "duration": 0,
    "start_time": "2023-05-20T20:04:45.949Z"
   },
   {
    "duration": 0,
    "start_time": "2023-05-20T20:04:45.950Z"
   },
   {
    "duration": 0,
    "start_time": "2023-05-20T20:04:45.951Z"
   },
   {
    "duration": 0,
    "start_time": "2023-05-20T20:04:45.952Z"
   },
   {
    "duration": 0,
    "start_time": "2023-05-20T20:04:45.953Z"
   },
   {
    "duration": 0,
    "start_time": "2023-05-20T20:04:45.954Z"
   },
   {
    "duration": 0,
    "start_time": "2023-05-20T20:04:45.955Z"
   },
   {
    "duration": 0,
    "start_time": "2023-05-20T20:04:45.956Z"
   },
   {
    "duration": 0,
    "start_time": "2023-05-20T20:04:45.957Z"
   },
   {
    "duration": 0,
    "start_time": "2023-05-20T20:04:45.958Z"
   },
   {
    "duration": 0,
    "start_time": "2023-05-20T20:04:45.959Z"
   },
   {
    "duration": 0,
    "start_time": "2023-05-20T20:04:45.960Z"
   },
   {
    "duration": 0,
    "start_time": "2023-05-20T20:04:45.961Z"
   },
   {
    "duration": 0,
    "start_time": "2023-05-20T20:04:45.962Z"
   },
   {
    "duration": 0,
    "start_time": "2023-05-20T20:04:46.025Z"
   },
   {
    "duration": 0,
    "start_time": "2023-05-20T20:04:46.026Z"
   },
   {
    "duration": 0,
    "start_time": "2023-05-20T20:04:46.028Z"
   },
   {
    "duration": 0,
    "start_time": "2023-05-20T20:04:46.029Z"
   },
   {
    "duration": 0,
    "start_time": "2023-05-20T20:04:46.031Z"
   },
   {
    "duration": 0,
    "start_time": "2023-05-20T20:04:46.032Z"
   },
   {
    "duration": 0,
    "start_time": "2023-05-20T20:04:46.034Z"
   },
   {
    "duration": 0,
    "start_time": "2023-05-20T20:04:46.035Z"
   },
   {
    "duration": 12,
    "start_time": "2023-05-20T20:09:23.919Z"
   },
   {
    "duration": 6636,
    "start_time": "2023-05-20T20:09:32.265Z"
   },
   {
    "duration": 22,
    "start_time": "2023-05-20T20:09:40.914Z"
   },
   {
    "duration": 16,
    "start_time": "2023-05-20T20:11:10.658Z"
   },
   {
    "duration": 4548,
    "start_time": "2023-05-20T20:12:04.983Z"
   },
   {
    "duration": 21,
    "start_time": "2023-05-20T20:14:19.954Z"
   },
   {
    "duration": 39,
    "start_time": "2023-05-20T20:30:52.296Z"
   },
   {
    "duration": 5094,
    "start_time": "2023-05-20T20:31:40.051Z"
   },
   {
    "duration": 55,
    "start_time": "2023-05-20T20:31:45.148Z"
   },
   {
    "duration": 14,
    "start_time": "2023-05-20T20:31:45.205Z"
   },
   {
    "duration": 51,
    "start_time": "2023-05-20T20:31:45.221Z"
   },
   {
    "duration": 57,
    "start_time": "2023-05-20T20:31:45.274Z"
   },
   {
    "duration": 9,
    "start_time": "2023-05-20T20:31:45.341Z"
   },
   {
    "duration": 19,
    "start_time": "2023-05-20T20:31:45.351Z"
   },
   {
    "duration": 15,
    "start_time": "2023-05-20T20:31:45.371Z"
   },
   {
    "duration": 5,
    "start_time": "2023-05-20T20:31:45.388Z"
   },
   {
    "duration": 10,
    "start_time": "2023-05-20T20:31:45.395Z"
   },
   {
    "duration": 30,
    "start_time": "2023-05-20T20:31:45.407Z"
   },
   {
    "duration": 8,
    "start_time": "2023-05-20T20:31:45.438Z"
   },
   {
    "duration": 14,
    "start_time": "2023-05-20T20:31:45.448Z"
   },
   {
    "duration": 61,
    "start_time": "2023-05-20T20:31:45.465Z"
   },
   {
    "duration": 4,
    "start_time": "2023-05-20T20:31:45.528Z"
   },
   {
    "duration": 17,
    "start_time": "2023-05-20T20:31:45.534Z"
   },
   {
    "duration": 28,
    "start_time": "2023-05-20T20:31:45.553Z"
   },
   {
    "duration": 44,
    "start_time": "2023-05-20T20:31:45.583Z"
   },
   {
    "duration": 25,
    "start_time": "2023-05-20T20:31:45.629Z"
   },
   {
    "duration": 163,
    "start_time": "2023-05-20T20:31:45.655Z"
   },
   {
    "duration": 13,
    "start_time": "2023-05-20T20:31:45.820Z"
   },
   {
    "duration": 35,
    "start_time": "2023-05-20T20:31:45.835Z"
   },
   {
    "duration": 0,
    "start_time": "2023-05-20T20:31:45.872Z"
   },
   {
    "duration": 0,
    "start_time": "2023-05-20T20:31:45.874Z"
   },
   {
    "duration": 0,
    "start_time": "2023-05-20T20:31:45.875Z"
   },
   {
    "duration": 0,
    "start_time": "2023-05-20T20:31:45.876Z"
   },
   {
    "duration": 0,
    "start_time": "2023-05-20T20:31:45.878Z"
   },
   {
    "duration": 0,
    "start_time": "2023-05-20T20:31:45.879Z"
   },
   {
    "duration": 0,
    "start_time": "2023-05-20T20:31:45.880Z"
   },
   {
    "duration": 0,
    "start_time": "2023-05-20T20:31:45.881Z"
   },
   {
    "duration": 0,
    "start_time": "2023-05-20T20:31:45.882Z"
   },
   {
    "duration": 1,
    "start_time": "2023-05-20T20:31:45.883Z"
   },
   {
    "duration": 0,
    "start_time": "2023-05-20T20:31:45.885Z"
   },
   {
    "duration": 0,
    "start_time": "2023-05-20T20:31:45.886Z"
   },
   {
    "duration": 0,
    "start_time": "2023-05-20T20:31:45.887Z"
   },
   {
    "duration": 0,
    "start_time": "2023-05-20T20:31:45.888Z"
   },
   {
    "duration": 0,
    "start_time": "2023-05-20T20:31:45.889Z"
   },
   {
    "duration": 0,
    "start_time": "2023-05-20T20:31:45.926Z"
   },
   {
    "duration": 0,
    "start_time": "2023-05-20T20:31:45.928Z"
   },
   {
    "duration": 0,
    "start_time": "2023-05-20T20:31:45.929Z"
   },
   {
    "duration": 0,
    "start_time": "2023-05-20T20:31:45.930Z"
   },
   {
    "duration": 0,
    "start_time": "2023-05-20T20:31:45.931Z"
   },
   {
    "duration": 0,
    "start_time": "2023-05-20T20:31:45.933Z"
   },
   {
    "duration": 0,
    "start_time": "2023-05-20T20:31:45.934Z"
   },
   {
    "duration": 0,
    "start_time": "2023-05-20T20:31:45.935Z"
   },
   {
    "duration": 0,
    "start_time": "2023-05-20T20:31:45.937Z"
   },
   {
    "duration": 0,
    "start_time": "2023-05-20T20:31:45.938Z"
   },
   {
    "duration": 0,
    "start_time": "2023-05-20T20:31:45.939Z"
   },
   {
    "duration": 0,
    "start_time": "2023-05-20T20:31:45.940Z"
   },
   {
    "duration": 0,
    "start_time": "2023-05-20T20:31:45.941Z"
   },
   {
    "duration": 0,
    "start_time": "2023-05-20T20:31:45.942Z"
   },
   {
    "duration": 0,
    "start_time": "2023-05-20T20:31:45.943Z"
   },
   {
    "duration": 0,
    "start_time": "2023-05-20T20:31:45.944Z"
   },
   {
    "duration": 0,
    "start_time": "2023-05-20T20:31:45.945Z"
   },
   {
    "duration": 0,
    "start_time": "2023-05-20T20:31:45.946Z"
   },
   {
    "duration": 0,
    "start_time": "2023-05-20T20:31:45.946Z"
   },
   {
    "duration": 0,
    "start_time": "2023-05-20T20:31:45.947Z"
   },
   {
    "duration": 0,
    "start_time": "2023-05-20T20:31:45.948Z"
   },
   {
    "duration": 0,
    "start_time": "2023-05-20T20:31:45.948Z"
   },
   {
    "duration": 0,
    "start_time": "2023-05-20T20:31:45.950Z"
   },
   {
    "duration": 0,
    "start_time": "2023-05-20T20:31:45.951Z"
   },
   {
    "duration": 0,
    "start_time": "2023-05-20T20:31:45.952Z"
   },
   {
    "duration": 0,
    "start_time": "2023-05-20T20:31:45.953Z"
   },
   {
    "duration": 0,
    "start_time": "2023-05-20T20:31:45.954Z"
   },
   {
    "duration": 0,
    "start_time": "2023-05-20T20:31:45.955Z"
   },
   {
    "duration": 0,
    "start_time": "2023-05-20T20:31:45.956Z"
   },
   {
    "duration": 0,
    "start_time": "2023-05-20T20:31:45.958Z"
   },
   {
    "duration": 0,
    "start_time": "2023-05-20T20:31:45.958Z"
   },
   {
    "duration": 0,
    "start_time": "2023-05-20T20:31:45.960Z"
   },
   {
    "duration": 0,
    "start_time": "2023-05-20T20:31:45.961Z"
   },
   {
    "duration": 0,
    "start_time": "2023-05-20T20:31:45.962Z"
   },
   {
    "duration": 0,
    "start_time": "2023-05-20T20:31:45.963Z"
   },
   {
    "duration": 0,
    "start_time": "2023-05-20T20:31:45.964Z"
   },
   {
    "duration": 0,
    "start_time": "2023-05-20T20:31:45.965Z"
   },
   {
    "duration": 0,
    "start_time": "2023-05-20T20:31:46.025Z"
   },
   {
    "duration": 156,
    "start_time": "2023-05-20T20:35:07.747Z"
   },
   {
    "duration": 24,
    "start_time": "2023-05-20T20:35:42.258Z"
   },
   {
    "duration": 7,
    "start_time": "2023-05-20T20:38:49.286Z"
   },
   {
    "duration": 40,
    "start_time": "2023-05-20T20:38:51.558Z"
   },
   {
    "duration": 21,
    "start_time": "2023-05-20T20:38:58.093Z"
   },
   {
    "duration": 36,
    "start_time": "2023-05-20T20:41:09.999Z"
   },
   {
    "duration": 34,
    "start_time": "2023-05-20T20:41:14.558Z"
   },
   {
    "duration": 47,
    "start_time": "2023-05-20T20:41:54.216Z"
   },
   {
    "duration": 19,
    "start_time": "2023-05-20T20:42:48.754Z"
   },
   {
    "duration": 17,
    "start_time": "2023-05-20T20:47:24.853Z"
   },
   {
    "duration": 6,
    "start_time": "2023-05-20T20:47:59.420Z"
   },
   {
    "duration": 6,
    "start_time": "2023-05-20T20:48:02.758Z"
   },
   {
    "duration": 40,
    "start_time": "2023-05-20T20:48:51.086Z"
   },
   {
    "duration": 46,
    "start_time": "2023-05-20T20:49:06.724Z"
   },
   {
    "duration": 22,
    "start_time": "2023-05-20T20:50:28.605Z"
   },
   {
    "duration": 27,
    "start_time": "2023-05-20T20:51:31.287Z"
   },
   {
    "duration": 4535,
    "start_time": "2023-05-20T20:51:39.105Z"
   },
   {
    "duration": 69,
    "start_time": "2023-05-20T20:51:43.644Z"
   },
   {
    "duration": 14,
    "start_time": "2023-05-20T20:51:43.715Z"
   },
   {
    "duration": 56,
    "start_time": "2023-05-20T20:51:43.731Z"
   },
   {
    "duration": 65,
    "start_time": "2023-05-20T20:51:43.790Z"
   },
   {
    "duration": 8,
    "start_time": "2023-05-20T20:51:43.857Z"
   },
   {
    "duration": 16,
    "start_time": "2023-05-20T20:51:43.866Z"
   },
   {
    "duration": 14,
    "start_time": "2023-05-20T20:51:43.884Z"
   },
   {
    "duration": 27,
    "start_time": "2023-05-20T20:51:43.900Z"
   },
   {
    "duration": 6,
    "start_time": "2023-05-20T20:51:43.929Z"
   },
   {
    "duration": 15,
    "start_time": "2023-05-20T20:51:43.937Z"
   },
   {
    "duration": 7,
    "start_time": "2023-05-20T20:51:43.954Z"
   },
   {
    "duration": 10,
    "start_time": "2023-05-20T20:51:43.963Z"
   },
   {
    "duration": 79,
    "start_time": "2023-05-20T20:51:43.977Z"
   },
   {
    "duration": 3,
    "start_time": "2023-05-20T20:51:44.058Z"
   },
   {
    "duration": 12,
    "start_time": "2023-05-20T20:51:44.063Z"
   },
   {
    "duration": 22,
    "start_time": "2023-05-20T20:51:44.076Z"
   },
   {
    "duration": 46,
    "start_time": "2023-05-20T20:51:44.099Z"
   },
   {
    "duration": 18,
    "start_time": "2023-05-20T20:51:44.147Z"
   },
   {
    "duration": 171,
    "start_time": "2023-05-20T20:51:44.167Z"
   },
   {
    "duration": 8,
    "start_time": "2023-05-20T20:51:44.340Z"
   },
   {
    "duration": 34,
    "start_time": "2023-05-20T20:51:44.350Z"
   },
   {
    "duration": 0,
    "start_time": "2023-05-20T20:51:44.387Z"
   },
   {
    "duration": 0,
    "start_time": "2023-05-20T20:51:44.389Z"
   },
   {
    "duration": 0,
    "start_time": "2023-05-20T20:51:44.390Z"
   },
   {
    "duration": 0,
    "start_time": "2023-05-20T20:51:44.392Z"
   },
   {
    "duration": 0,
    "start_time": "2023-05-20T20:51:44.393Z"
   },
   {
    "duration": 0,
    "start_time": "2023-05-20T20:51:44.395Z"
   },
   {
    "duration": 0,
    "start_time": "2023-05-20T20:51:44.397Z"
   },
   {
    "duration": 0,
    "start_time": "2023-05-20T20:51:44.426Z"
   },
   {
    "duration": 0,
    "start_time": "2023-05-20T20:51:44.427Z"
   },
   {
    "duration": 0,
    "start_time": "2023-05-20T20:51:44.428Z"
   },
   {
    "duration": 0,
    "start_time": "2023-05-20T20:51:44.429Z"
   },
   {
    "duration": 0,
    "start_time": "2023-05-20T20:51:44.431Z"
   },
   {
    "duration": 0,
    "start_time": "2023-05-20T20:51:44.432Z"
   },
   {
    "duration": 0,
    "start_time": "2023-05-20T20:51:44.433Z"
   },
   {
    "duration": 0,
    "start_time": "2023-05-20T20:51:44.434Z"
   },
   {
    "duration": 0,
    "start_time": "2023-05-20T20:51:44.435Z"
   },
   {
    "duration": 0,
    "start_time": "2023-05-20T20:51:44.436Z"
   },
   {
    "duration": 0,
    "start_time": "2023-05-20T20:51:44.437Z"
   },
   {
    "duration": 0,
    "start_time": "2023-05-20T20:51:44.438Z"
   },
   {
    "duration": 0,
    "start_time": "2023-05-20T20:51:44.440Z"
   },
   {
    "duration": 0,
    "start_time": "2023-05-20T20:51:44.441Z"
   },
   {
    "duration": 0,
    "start_time": "2023-05-20T20:51:44.442Z"
   },
   {
    "duration": 0,
    "start_time": "2023-05-20T20:51:44.443Z"
   },
   {
    "duration": 0,
    "start_time": "2023-05-20T20:51:44.444Z"
   },
   {
    "duration": 0,
    "start_time": "2023-05-20T20:51:44.445Z"
   },
   {
    "duration": 0,
    "start_time": "2023-05-20T20:51:44.446Z"
   },
   {
    "duration": 0,
    "start_time": "2023-05-20T20:51:44.447Z"
   },
   {
    "duration": 0,
    "start_time": "2023-05-20T20:51:44.448Z"
   },
   {
    "duration": 0,
    "start_time": "2023-05-20T20:51:44.449Z"
   },
   {
    "duration": 0,
    "start_time": "2023-05-20T20:51:44.450Z"
   },
   {
    "duration": 0,
    "start_time": "2023-05-20T20:51:44.451Z"
   },
   {
    "duration": 0,
    "start_time": "2023-05-20T20:51:44.453Z"
   },
   {
    "duration": 0,
    "start_time": "2023-05-20T20:51:44.454Z"
   },
   {
    "duration": 0,
    "start_time": "2023-05-20T20:51:44.455Z"
   },
   {
    "duration": 0,
    "start_time": "2023-05-20T20:51:44.456Z"
   },
   {
    "duration": 0,
    "start_time": "2023-05-20T20:51:44.457Z"
   },
   {
    "duration": 0,
    "start_time": "2023-05-20T20:51:44.458Z"
   },
   {
    "duration": 0,
    "start_time": "2023-05-20T20:51:44.459Z"
   },
   {
    "duration": 0,
    "start_time": "2023-05-20T20:51:44.461Z"
   },
   {
    "duration": 0,
    "start_time": "2023-05-20T20:51:44.462Z"
   },
   {
    "duration": 0,
    "start_time": "2023-05-20T20:51:44.525Z"
   },
   {
    "duration": 0,
    "start_time": "2023-05-20T20:51:44.527Z"
   },
   {
    "duration": 0,
    "start_time": "2023-05-20T20:51:44.528Z"
   },
   {
    "duration": 0,
    "start_time": "2023-05-20T20:51:44.529Z"
   },
   {
    "duration": 0,
    "start_time": "2023-05-20T20:51:44.530Z"
   },
   {
    "duration": 0,
    "start_time": "2023-05-20T20:51:44.531Z"
   },
   {
    "duration": 0,
    "start_time": "2023-05-20T20:51:44.533Z"
   },
   {
    "duration": 0,
    "start_time": "2023-05-20T20:51:44.534Z"
   },
   {
    "duration": 0,
    "start_time": "2023-05-20T20:51:44.535Z"
   },
   {
    "duration": 0,
    "start_time": "2023-05-20T20:51:44.536Z"
   },
   {
    "duration": 0,
    "start_time": "2023-05-20T20:51:44.537Z"
   },
   {
    "duration": 0,
    "start_time": "2023-05-20T20:51:44.538Z"
   },
   {
    "duration": 0,
    "start_time": "2023-05-20T20:51:44.539Z"
   },
   {
    "duration": 224,
    "start_time": "2023-05-20T21:03:02.067Z"
   },
   {
    "duration": 6027,
    "start_time": "2023-05-20T21:04:21.417Z"
   },
   {
    "duration": 9,
    "start_time": "2023-05-20T21:04:30.071Z"
   },
   {
    "duration": 26,
    "start_time": "2023-05-20T21:04:31.516Z"
   },
   {
    "duration": 20,
    "start_time": "2023-05-20T21:05:16.159Z"
   },
   {
    "duration": 22,
    "start_time": "2023-05-20T21:06:16.770Z"
   },
   {
    "duration": 4642,
    "start_time": "2023-05-20T21:06:22.999Z"
   },
   {
    "duration": 168,
    "start_time": "2023-05-20T21:06:27.644Z"
   },
   {
    "duration": 15,
    "start_time": "2023-05-20T21:06:27.814Z"
   },
   {
    "duration": 54,
    "start_time": "2023-05-20T21:06:27.831Z"
   },
   {
    "duration": 56,
    "start_time": "2023-05-20T21:06:27.886Z"
   },
   {
    "duration": 9,
    "start_time": "2023-05-20T21:06:27.944Z"
   },
   {
    "duration": 17,
    "start_time": "2023-05-20T21:06:27.955Z"
   },
   {
    "duration": 19,
    "start_time": "2023-05-20T21:06:27.975Z"
   },
   {
    "duration": 3,
    "start_time": "2023-05-20T21:06:28.025Z"
   },
   {
    "duration": 5,
    "start_time": "2023-05-20T21:06:28.033Z"
   },
   {
    "duration": 16,
    "start_time": "2023-05-20T21:06:28.040Z"
   },
   {
    "duration": 9,
    "start_time": "2023-05-20T21:06:28.058Z"
   },
   {
    "duration": 20,
    "start_time": "2023-05-20T21:06:28.069Z"
   },
   {
    "duration": 41,
    "start_time": "2023-05-20T21:06:28.126Z"
   },
   {
    "duration": 3,
    "start_time": "2023-05-20T21:06:28.170Z"
   },
   {
    "duration": 11,
    "start_time": "2023-05-20T21:06:28.175Z"
   },
   {
    "duration": 47,
    "start_time": "2023-05-20T21:06:28.188Z"
   },
   {
    "duration": 26,
    "start_time": "2023-05-20T21:06:28.237Z"
   },
   {
    "duration": 25,
    "start_time": "2023-05-20T21:06:28.265Z"
   },
   {
    "duration": 168,
    "start_time": "2023-05-20T21:06:28.292Z"
   },
   {
    "duration": 7,
    "start_time": "2023-05-20T21:06:28.462Z"
   },
   {
    "duration": 44,
    "start_time": "2023-05-20T21:06:28.471Z"
   },
   {
    "duration": 0,
    "start_time": "2023-05-20T21:06:28.526Z"
   },
   {
    "duration": 0,
    "start_time": "2023-05-20T21:06:28.527Z"
   },
   {
    "duration": 0,
    "start_time": "2023-05-20T21:06:28.528Z"
   },
   {
    "duration": 0,
    "start_time": "2023-05-20T21:06:28.530Z"
   },
   {
    "duration": 0,
    "start_time": "2023-05-20T21:06:28.531Z"
   },
   {
    "duration": 0,
    "start_time": "2023-05-20T21:06:28.532Z"
   },
   {
    "duration": 0,
    "start_time": "2023-05-20T21:06:28.534Z"
   },
   {
    "duration": 0,
    "start_time": "2023-05-20T21:06:28.535Z"
   },
   {
    "duration": 0,
    "start_time": "2023-05-20T21:06:28.536Z"
   },
   {
    "duration": 0,
    "start_time": "2023-05-20T21:06:28.537Z"
   },
   {
    "duration": 0,
    "start_time": "2023-05-20T21:06:28.538Z"
   },
   {
    "duration": 0,
    "start_time": "2023-05-20T21:06:28.540Z"
   },
   {
    "duration": 0,
    "start_time": "2023-05-20T21:06:28.540Z"
   },
   {
    "duration": 0,
    "start_time": "2023-05-20T21:06:28.542Z"
   },
   {
    "duration": 0,
    "start_time": "2023-05-20T21:06:28.543Z"
   },
   {
    "duration": 0,
    "start_time": "2023-05-20T21:06:28.544Z"
   },
   {
    "duration": 0,
    "start_time": "2023-05-20T21:06:28.545Z"
   },
   {
    "duration": 0,
    "start_time": "2023-05-20T21:06:28.546Z"
   },
   {
    "duration": 0,
    "start_time": "2023-05-20T21:06:28.547Z"
   },
   {
    "duration": 0,
    "start_time": "2023-05-20T21:06:28.548Z"
   },
   {
    "duration": 0,
    "start_time": "2023-05-20T21:06:28.550Z"
   },
   {
    "duration": 0,
    "start_time": "2023-05-20T21:06:28.551Z"
   },
   {
    "duration": 0,
    "start_time": "2023-05-20T21:06:28.552Z"
   },
   {
    "duration": 0,
    "start_time": "2023-05-20T21:06:28.553Z"
   },
   {
    "duration": 0,
    "start_time": "2023-05-20T21:06:28.554Z"
   },
   {
    "duration": 0,
    "start_time": "2023-05-20T21:06:28.556Z"
   },
   {
    "duration": 0,
    "start_time": "2023-05-20T21:06:28.557Z"
   },
   {
    "duration": 0,
    "start_time": "2023-05-20T21:06:28.558Z"
   },
   {
    "duration": 0,
    "start_time": "2023-05-20T21:06:28.559Z"
   },
   {
    "duration": 0,
    "start_time": "2023-05-20T21:06:28.560Z"
   },
   {
    "duration": 0,
    "start_time": "2023-05-20T21:06:28.561Z"
   },
   {
    "duration": 0,
    "start_time": "2023-05-20T21:06:28.626Z"
   },
   {
    "duration": 0,
    "start_time": "2023-05-20T21:06:28.627Z"
   },
   {
    "duration": 0,
    "start_time": "2023-05-20T21:06:28.628Z"
   },
   {
    "duration": 0,
    "start_time": "2023-05-20T21:06:28.629Z"
   },
   {
    "duration": 0,
    "start_time": "2023-05-20T21:06:28.630Z"
   },
   {
    "duration": 0,
    "start_time": "2023-05-20T21:06:28.632Z"
   },
   {
    "duration": 0,
    "start_time": "2023-05-20T21:06:28.633Z"
   },
   {
    "duration": 0,
    "start_time": "2023-05-20T21:06:28.635Z"
   },
   {
    "duration": 0,
    "start_time": "2023-05-20T21:06:28.636Z"
   },
   {
    "duration": 0,
    "start_time": "2023-05-20T21:06:28.637Z"
   },
   {
    "duration": 1,
    "start_time": "2023-05-20T21:06:28.638Z"
   },
   {
    "duration": 0,
    "start_time": "2023-05-20T21:06:28.640Z"
   },
   {
    "duration": 0,
    "start_time": "2023-05-20T21:06:28.641Z"
   },
   {
    "duration": 1,
    "start_time": "2023-05-20T21:06:28.642Z"
   },
   {
    "duration": 0,
    "start_time": "2023-05-20T21:06:28.644Z"
   },
   {
    "duration": 0,
    "start_time": "2023-05-20T21:06:28.645Z"
   },
   {
    "duration": 0,
    "start_time": "2023-05-20T21:06:28.647Z"
   },
   {
    "duration": 0,
    "start_time": "2023-05-20T21:06:28.648Z"
   },
   {
    "duration": 0,
    "start_time": "2023-05-20T21:06:28.649Z"
   },
   {
    "duration": 0,
    "start_time": "2023-05-20T21:06:28.651Z"
   },
   {
    "duration": 0,
    "start_time": "2023-05-20T21:06:28.652Z"
   },
   {
    "duration": 0,
    "start_time": "2023-05-20T21:06:28.654Z"
   },
   {
    "duration": 23,
    "start_time": "2023-05-20T21:22:13.409Z"
   },
   {
    "duration": 4626,
    "start_time": "2023-05-20T21:22:28.475Z"
   },
   {
    "duration": 170,
    "start_time": "2023-05-20T21:22:33.104Z"
   },
   {
    "duration": 13,
    "start_time": "2023-05-20T21:22:33.276Z"
   },
   {
    "duration": 52,
    "start_time": "2023-05-20T21:22:33.291Z"
   },
   {
    "duration": 49,
    "start_time": "2023-05-20T21:22:33.345Z"
   },
   {
    "duration": 9,
    "start_time": "2023-05-20T21:22:33.396Z"
   },
   {
    "duration": 15,
    "start_time": "2023-05-20T21:22:33.426Z"
   },
   {
    "duration": 13,
    "start_time": "2023-05-20T21:22:33.443Z"
   },
   {
    "duration": 13,
    "start_time": "2023-05-20T21:22:33.457Z"
   },
   {
    "duration": 6,
    "start_time": "2023-05-20T21:22:33.472Z"
   },
   {
    "duration": 18,
    "start_time": "2023-05-20T21:22:33.479Z"
   },
   {
    "duration": 14,
    "start_time": "2023-05-20T21:22:33.499Z"
   },
   {
    "duration": 28,
    "start_time": "2023-05-20T21:22:33.514Z"
   },
   {
    "duration": 40,
    "start_time": "2023-05-20T21:22:33.545Z"
   },
   {
    "duration": 3,
    "start_time": "2023-05-20T21:22:33.587Z"
   },
   {
    "duration": 13,
    "start_time": "2023-05-20T21:22:33.591Z"
   },
   {
    "duration": 32,
    "start_time": "2023-05-20T21:22:33.626Z"
   },
   {
    "duration": 19,
    "start_time": "2023-05-20T21:22:33.660Z"
   },
   {
    "duration": 17,
    "start_time": "2023-05-20T21:22:33.681Z"
   },
   {
    "duration": 167,
    "start_time": "2023-05-20T21:22:33.700Z"
   },
   {
    "duration": 8,
    "start_time": "2023-05-20T21:22:33.868Z"
   },
   {
    "duration": 45,
    "start_time": "2023-05-20T21:22:33.877Z"
   },
   {
    "duration": 0,
    "start_time": "2023-05-20T21:22:33.925Z"
   },
   {
    "duration": 0,
    "start_time": "2023-05-20T21:22:33.926Z"
   },
   {
    "duration": 0,
    "start_time": "2023-05-20T21:22:33.928Z"
   },
   {
    "duration": 0,
    "start_time": "2023-05-20T21:22:33.929Z"
   },
   {
    "duration": 0,
    "start_time": "2023-05-20T21:22:33.930Z"
   },
   {
    "duration": 0,
    "start_time": "2023-05-20T21:22:33.931Z"
   },
   {
    "duration": 0,
    "start_time": "2023-05-20T21:22:33.932Z"
   },
   {
    "duration": 0,
    "start_time": "2023-05-20T21:22:33.933Z"
   },
   {
    "duration": 0,
    "start_time": "2023-05-20T21:22:33.934Z"
   },
   {
    "duration": 0,
    "start_time": "2023-05-20T21:22:33.936Z"
   },
   {
    "duration": 0,
    "start_time": "2023-05-20T21:22:33.937Z"
   },
   {
    "duration": 0,
    "start_time": "2023-05-20T21:22:33.938Z"
   },
   {
    "duration": 0,
    "start_time": "2023-05-20T21:22:33.940Z"
   },
   {
    "duration": 0,
    "start_time": "2023-05-20T21:22:33.941Z"
   },
   {
    "duration": 0,
    "start_time": "2023-05-20T21:22:33.942Z"
   },
   {
    "duration": 0,
    "start_time": "2023-05-20T21:22:33.943Z"
   },
   {
    "duration": 0,
    "start_time": "2023-05-20T21:22:33.944Z"
   },
   {
    "duration": 0,
    "start_time": "2023-05-20T21:22:33.945Z"
   },
   {
    "duration": 0,
    "start_time": "2023-05-20T21:22:33.946Z"
   },
   {
    "duration": 0,
    "start_time": "2023-05-20T21:22:33.948Z"
   },
   {
    "duration": 0,
    "start_time": "2023-05-20T21:22:33.950Z"
   },
   {
    "duration": 0,
    "start_time": "2023-05-20T21:22:33.950Z"
   },
   {
    "duration": 0,
    "start_time": "2023-05-20T21:22:33.951Z"
   },
   {
    "duration": 0,
    "start_time": "2023-05-20T21:22:33.952Z"
   },
   {
    "duration": 0,
    "start_time": "2023-05-20T21:22:33.953Z"
   },
   {
    "duration": 0,
    "start_time": "2023-05-20T21:22:33.954Z"
   },
   {
    "duration": 0,
    "start_time": "2023-05-20T21:22:33.955Z"
   },
   {
    "duration": 0,
    "start_time": "2023-05-20T21:22:33.956Z"
   },
   {
    "duration": 0,
    "start_time": "2023-05-20T21:22:33.957Z"
   },
   {
    "duration": 0,
    "start_time": "2023-05-20T21:22:33.958Z"
   },
   {
    "duration": 0,
    "start_time": "2023-05-20T21:22:33.959Z"
   },
   {
    "duration": 0,
    "start_time": "2023-05-20T21:22:33.960Z"
   },
   {
    "duration": 0,
    "start_time": "2023-05-20T21:22:33.961Z"
   },
   {
    "duration": 0,
    "start_time": "2023-05-20T21:22:33.962Z"
   },
   {
    "duration": 0,
    "start_time": "2023-05-20T21:22:33.964Z"
   },
   {
    "duration": 0,
    "start_time": "2023-05-20T21:22:34.025Z"
   },
   {
    "duration": 0,
    "start_time": "2023-05-20T21:22:34.026Z"
   },
   {
    "duration": 0,
    "start_time": "2023-05-20T21:22:34.027Z"
   },
   {
    "duration": 1,
    "start_time": "2023-05-20T21:22:34.028Z"
   },
   {
    "duration": 0,
    "start_time": "2023-05-20T21:22:34.030Z"
   },
   {
    "duration": 0,
    "start_time": "2023-05-20T21:22:34.031Z"
   },
   {
    "duration": 0,
    "start_time": "2023-05-20T21:22:34.032Z"
   },
   {
    "duration": 0,
    "start_time": "2023-05-20T21:22:34.033Z"
   },
   {
    "duration": 0,
    "start_time": "2023-05-20T21:22:34.034Z"
   },
   {
    "duration": 0,
    "start_time": "2023-05-20T21:22:34.035Z"
   },
   {
    "duration": 0,
    "start_time": "2023-05-20T21:22:34.036Z"
   },
   {
    "duration": 0,
    "start_time": "2023-05-20T21:22:34.038Z"
   },
   {
    "duration": 0,
    "start_time": "2023-05-20T21:22:34.039Z"
   },
   {
    "duration": 0,
    "start_time": "2023-05-20T21:22:34.040Z"
   },
   {
    "duration": 0,
    "start_time": "2023-05-20T21:22:34.041Z"
   },
   {
    "duration": 0,
    "start_time": "2023-05-20T21:22:34.042Z"
   },
   {
    "duration": 0,
    "start_time": "2023-05-20T21:22:34.043Z"
   },
   {
    "duration": 0,
    "start_time": "2023-05-20T21:22:34.044Z"
   },
   {
    "duration": 0,
    "start_time": "2023-05-20T21:22:34.045Z"
   },
   {
    "duration": 27,
    "start_time": "2023-05-20T21:22:44.818Z"
   },
   {
    "duration": 20,
    "start_time": "2023-05-20T21:23:24.884Z"
   },
   {
    "duration": 31,
    "start_time": "2023-05-20T21:26:31.718Z"
   },
   {
    "duration": 20,
    "start_time": "2023-05-20T21:37:01.981Z"
   },
   {
    "duration": 40,
    "start_time": "2023-05-20T21:37:06.579Z"
   },
   {
    "duration": 30,
    "start_time": "2023-05-20T21:37:16.351Z"
   },
   {
    "duration": 4647,
    "start_time": "2023-05-20T21:37:22.660Z"
   },
   {
    "duration": 72,
    "start_time": "2023-05-20T21:37:27.310Z"
   },
   {
    "duration": 13,
    "start_time": "2023-05-20T21:37:27.384Z"
   },
   {
    "duration": 44,
    "start_time": "2023-05-20T21:37:27.399Z"
   },
   {
    "duration": 49,
    "start_time": "2023-05-20T21:37:27.445Z"
   },
   {
    "duration": 7,
    "start_time": "2023-05-20T21:37:27.496Z"
   },
   {
    "duration": 35,
    "start_time": "2023-05-20T21:37:27.505Z"
   },
   {
    "duration": 15,
    "start_time": "2023-05-20T21:37:27.542Z"
   },
   {
    "duration": 5,
    "start_time": "2023-05-20T21:37:27.558Z"
   },
   {
    "duration": 8,
    "start_time": "2023-05-20T21:37:27.565Z"
   },
   {
    "duration": 13,
    "start_time": "2023-05-20T21:37:27.575Z"
   },
   {
    "duration": 6,
    "start_time": "2023-05-20T21:37:27.590Z"
   },
   {
    "duration": 46,
    "start_time": "2023-05-20T21:37:27.598Z"
   },
   {
    "duration": 42,
    "start_time": "2023-05-20T21:37:27.647Z"
   },
   {
    "duration": 2,
    "start_time": "2023-05-20T21:37:27.691Z"
   },
   {
    "duration": 44,
    "start_time": "2023-05-20T21:37:27.695Z"
   },
   {
    "duration": 22,
    "start_time": "2023-05-20T21:37:27.742Z"
   },
   {
    "duration": 20,
    "start_time": "2023-05-20T21:37:27.767Z"
   },
   {
    "duration": 37,
    "start_time": "2023-05-20T21:37:27.789Z"
   },
   {
    "duration": 153,
    "start_time": "2023-05-20T21:37:27.829Z"
   },
   {
    "duration": 8,
    "start_time": "2023-05-20T21:37:27.984Z"
   },
   {
    "duration": 48,
    "start_time": "2023-05-20T21:37:27.994Z"
   },
   {
    "duration": 0,
    "start_time": "2023-05-20T21:37:28.045Z"
   },
   {
    "duration": 0,
    "start_time": "2023-05-20T21:37:28.046Z"
   },
   {
    "duration": 0,
    "start_time": "2023-05-20T21:37:28.048Z"
   },
   {
    "duration": 0,
    "start_time": "2023-05-20T21:37:28.049Z"
   },
   {
    "duration": 0,
    "start_time": "2023-05-20T21:37:28.050Z"
   },
   {
    "duration": 0,
    "start_time": "2023-05-20T21:37:28.051Z"
   },
   {
    "duration": 0,
    "start_time": "2023-05-20T21:37:28.052Z"
   },
   {
    "duration": 0,
    "start_time": "2023-05-20T21:37:28.053Z"
   },
   {
    "duration": 0,
    "start_time": "2023-05-20T21:37:28.054Z"
   },
   {
    "duration": 0,
    "start_time": "2023-05-20T21:37:28.056Z"
   },
   {
    "duration": 0,
    "start_time": "2023-05-20T21:37:28.057Z"
   },
   {
    "duration": 0,
    "start_time": "2023-05-20T21:37:28.058Z"
   },
   {
    "duration": 0,
    "start_time": "2023-05-20T21:37:28.059Z"
   },
   {
    "duration": 0,
    "start_time": "2023-05-20T21:37:28.061Z"
   },
   {
    "duration": 0,
    "start_time": "2023-05-20T21:37:28.062Z"
   },
   {
    "duration": 0,
    "start_time": "2023-05-20T21:37:28.063Z"
   },
   {
    "duration": 0,
    "start_time": "2023-05-20T21:37:28.064Z"
   },
   {
    "duration": 0,
    "start_time": "2023-05-20T21:37:28.065Z"
   },
   {
    "duration": 0,
    "start_time": "2023-05-20T21:37:28.066Z"
   },
   {
    "duration": 0,
    "start_time": "2023-05-20T21:37:28.067Z"
   },
   {
    "duration": 0,
    "start_time": "2023-05-20T21:37:28.068Z"
   },
   {
    "duration": 0,
    "start_time": "2023-05-20T21:37:28.070Z"
   },
   {
    "duration": 0,
    "start_time": "2023-05-20T21:37:28.071Z"
   },
   {
    "duration": 0,
    "start_time": "2023-05-20T21:37:28.072Z"
   },
   {
    "duration": 0,
    "start_time": "2023-05-20T21:37:28.073Z"
   },
   {
    "duration": 0,
    "start_time": "2023-05-20T21:37:28.074Z"
   },
   {
    "duration": 0,
    "start_time": "2023-05-20T21:37:28.075Z"
   },
   {
    "duration": 0,
    "start_time": "2023-05-20T21:37:28.076Z"
   },
   {
    "duration": 0,
    "start_time": "2023-05-20T21:37:28.131Z"
   },
   {
    "duration": 0,
    "start_time": "2023-05-20T21:37:28.132Z"
   },
   {
    "duration": 0,
    "start_time": "2023-05-20T21:37:28.133Z"
   },
   {
    "duration": 0,
    "start_time": "2023-05-20T21:37:28.134Z"
   },
   {
    "duration": 0,
    "start_time": "2023-05-20T21:37:28.134Z"
   },
   {
    "duration": 0,
    "start_time": "2023-05-20T21:37:28.135Z"
   },
   {
    "duration": 0,
    "start_time": "2023-05-20T21:37:28.136Z"
   },
   {
    "duration": 0,
    "start_time": "2023-05-20T21:37:28.141Z"
   },
   {
    "duration": 0,
    "start_time": "2023-05-20T21:37:28.142Z"
   },
   {
    "duration": 0,
    "start_time": "2023-05-20T21:37:28.142Z"
   },
   {
    "duration": 0,
    "start_time": "2023-05-20T21:37:28.144Z"
   },
   {
    "duration": 0,
    "start_time": "2023-05-20T21:37:28.145Z"
   },
   {
    "duration": 0,
    "start_time": "2023-05-20T21:37:28.147Z"
   },
   {
    "duration": 0,
    "start_time": "2023-05-20T21:37:28.149Z"
   },
   {
    "duration": 0,
    "start_time": "2023-05-20T21:37:28.150Z"
   },
   {
    "duration": 0,
    "start_time": "2023-05-20T21:37:28.151Z"
   },
   {
    "duration": 0,
    "start_time": "2023-05-20T21:37:28.153Z"
   },
   {
    "duration": 0,
    "start_time": "2023-05-20T21:37:28.154Z"
   },
   {
    "duration": 0,
    "start_time": "2023-05-20T21:37:28.156Z"
   },
   {
    "duration": 0,
    "start_time": "2023-05-20T21:37:28.157Z"
   },
   {
    "duration": 0,
    "start_time": "2023-05-20T21:37:28.159Z"
   },
   {
    "duration": 0,
    "start_time": "2023-05-20T21:37:28.160Z"
   },
   {
    "duration": 0,
    "start_time": "2023-05-20T21:37:28.162Z"
   },
   {
    "duration": 0,
    "start_time": "2023-05-20T21:37:28.163Z"
   },
   {
    "duration": 0,
    "start_time": "2023-05-20T21:37:28.165Z"
   },
   {
    "duration": 0,
    "start_time": "2023-05-20T21:37:28.166Z"
   },
   {
    "duration": 30,
    "start_time": "2023-05-20T21:38:13.264Z"
   },
   {
    "duration": 39,
    "start_time": "2023-05-20T21:41:06.651Z"
   },
   {
    "duration": 14,
    "start_time": "2023-05-20T21:42:45.371Z"
   },
   {
    "duration": 13,
    "start_time": "2023-05-20T21:43:40.958Z"
   },
   {
    "duration": 24,
    "start_time": "2023-05-20T21:43:56.917Z"
   },
   {
    "duration": 3,
    "start_time": "2023-05-20T21:44:28.464Z"
   },
   {
    "duration": 22,
    "start_time": "2023-05-20T21:44:32.170Z"
   },
   {
    "duration": 22,
    "start_time": "2023-05-20T21:44:36.747Z"
   },
   {
    "duration": 20,
    "start_time": "2023-05-20T21:45:14.405Z"
   },
   {
    "duration": 4,
    "start_time": "2023-05-20T21:49:16.217Z"
   },
   {
    "duration": 16,
    "start_time": "2023-05-20T21:49:40.752Z"
   },
   {
    "duration": 6,
    "start_time": "2023-05-20T21:52:19.089Z"
   },
   {
    "duration": 4556,
    "start_time": "2023-05-20T22:05:44.189Z"
   },
   {
    "duration": 57,
    "start_time": "2023-05-20T22:05:48.747Z"
   },
   {
    "duration": 13,
    "start_time": "2023-05-20T22:05:48.805Z"
   },
   {
    "duration": 53,
    "start_time": "2023-05-20T22:05:48.819Z"
   },
   {
    "duration": 65,
    "start_time": "2023-05-20T22:05:48.875Z"
   },
   {
    "duration": 8,
    "start_time": "2023-05-20T22:05:48.942Z"
   },
   {
    "duration": 11,
    "start_time": "2023-05-20T22:05:48.952Z"
   },
   {
    "duration": 13,
    "start_time": "2023-05-20T22:05:48.965Z"
   },
   {
    "duration": 4,
    "start_time": "2023-05-20T22:05:48.979Z"
   },
   {
    "duration": 6,
    "start_time": "2023-05-20T22:05:48.985Z"
   },
   {
    "duration": 45,
    "start_time": "2023-05-20T22:05:48.992Z"
   },
   {
    "duration": 33,
    "start_time": "2023-05-20T22:05:49.039Z"
   },
   {
    "duration": 38,
    "start_time": "2023-05-20T22:05:49.073Z"
   },
   {
    "duration": 2,
    "start_time": "2023-05-20T22:05:49.115Z"
   },
   {
    "duration": 9,
    "start_time": "2023-05-20T22:05:49.119Z"
   },
   {
    "duration": 16,
    "start_time": "2023-05-20T22:05:49.130Z"
   },
   {
    "duration": 33,
    "start_time": "2023-05-20T22:05:49.148Z"
   },
   {
    "duration": 17,
    "start_time": "2023-05-20T22:05:49.183Z"
   },
   {
    "duration": 18,
    "start_time": "2023-05-20T22:05:49.202Z"
   },
   {
    "duration": 149,
    "start_time": "2023-05-20T22:05:49.228Z"
   },
   {
    "duration": 8,
    "start_time": "2023-05-20T22:05:49.378Z"
   },
   {
    "duration": 26,
    "start_time": "2023-05-20T22:05:49.388Z"
   },
   {
    "duration": 0,
    "start_time": "2023-05-20T22:05:49.434Z"
   },
   {
    "duration": 0,
    "start_time": "2023-05-20T22:05:49.436Z"
   },
   {
    "duration": 0,
    "start_time": "2023-05-20T22:05:49.437Z"
   },
   {
    "duration": 0,
    "start_time": "2023-05-20T22:05:49.438Z"
   },
   {
    "duration": 0,
    "start_time": "2023-05-20T22:05:49.439Z"
   },
   {
    "duration": 0,
    "start_time": "2023-05-20T22:05:49.440Z"
   },
   {
    "duration": 0,
    "start_time": "2023-05-20T22:05:49.444Z"
   },
   {
    "duration": 0,
    "start_time": "2023-05-20T22:05:49.445Z"
   },
   {
    "duration": 0,
    "start_time": "2023-05-20T22:05:49.446Z"
   },
   {
    "duration": 0,
    "start_time": "2023-05-20T22:05:49.447Z"
   },
   {
    "duration": 0,
    "start_time": "2023-05-20T22:05:49.448Z"
   },
   {
    "duration": 0,
    "start_time": "2023-05-20T22:05:49.450Z"
   },
   {
    "duration": 0,
    "start_time": "2023-05-20T22:05:49.450Z"
   },
   {
    "duration": 0,
    "start_time": "2023-05-20T22:05:49.452Z"
   },
   {
    "duration": 0,
    "start_time": "2023-05-20T22:05:49.453Z"
   },
   {
    "duration": 0,
    "start_time": "2023-05-20T22:05:49.454Z"
   },
   {
    "duration": 0,
    "start_time": "2023-05-20T22:05:49.455Z"
   },
   {
    "duration": 0,
    "start_time": "2023-05-20T22:05:49.456Z"
   },
   {
    "duration": 0,
    "start_time": "2023-05-20T22:05:49.457Z"
   },
   {
    "duration": 0,
    "start_time": "2023-05-20T22:05:49.458Z"
   },
   {
    "duration": 0,
    "start_time": "2023-05-20T22:05:49.459Z"
   },
   {
    "duration": 0,
    "start_time": "2023-05-20T22:05:49.460Z"
   },
   {
    "duration": 0,
    "start_time": "2023-05-20T22:05:49.462Z"
   },
   {
    "duration": 0,
    "start_time": "2023-05-20T22:05:49.463Z"
   },
   {
    "duration": 1,
    "start_time": "2023-05-20T22:05:49.463Z"
   },
   {
    "duration": 0,
    "start_time": "2023-05-20T22:05:49.464Z"
   },
   {
    "duration": 0,
    "start_time": "2023-05-20T22:05:49.466Z"
   },
   {
    "duration": 0,
    "start_time": "2023-05-20T22:05:49.467Z"
   },
   {
    "duration": 0,
    "start_time": "2023-05-20T22:05:49.469Z"
   },
   {
    "duration": 0,
    "start_time": "2023-05-20T22:05:49.470Z"
   },
   {
    "duration": 0,
    "start_time": "2023-05-20T22:05:49.470Z"
   },
   {
    "duration": 0,
    "start_time": "2023-05-20T22:05:49.532Z"
   },
   {
    "duration": 0,
    "start_time": "2023-05-20T22:05:49.533Z"
   },
   {
    "duration": 0,
    "start_time": "2023-05-20T22:05:49.534Z"
   },
   {
    "duration": 0,
    "start_time": "2023-05-20T22:05:49.534Z"
   },
   {
    "duration": 0,
    "start_time": "2023-05-20T22:05:49.535Z"
   },
   {
    "duration": 0,
    "start_time": "2023-05-20T22:05:49.536Z"
   },
   {
    "duration": 0,
    "start_time": "2023-05-20T22:05:49.537Z"
   },
   {
    "duration": 0,
    "start_time": "2023-05-20T22:05:49.540Z"
   },
   {
    "duration": 0,
    "start_time": "2023-05-20T22:05:49.541Z"
   },
   {
    "duration": 0,
    "start_time": "2023-05-20T22:05:49.542Z"
   },
   {
    "duration": 0,
    "start_time": "2023-05-20T22:05:49.544Z"
   },
   {
    "duration": 0,
    "start_time": "2023-05-20T22:05:49.545Z"
   },
   {
    "duration": 0,
    "start_time": "2023-05-20T22:05:49.546Z"
   },
   {
    "duration": 0,
    "start_time": "2023-05-20T22:05:49.547Z"
   },
   {
    "duration": 0,
    "start_time": "2023-05-20T22:05:49.548Z"
   },
   {
    "duration": 0,
    "start_time": "2023-05-20T22:05:49.549Z"
   },
   {
    "duration": 0,
    "start_time": "2023-05-20T22:05:49.550Z"
   },
   {
    "duration": 0,
    "start_time": "2023-05-20T22:05:49.552Z"
   },
   {
    "duration": 0,
    "start_time": "2023-05-20T22:05:49.553Z"
   },
   {
    "duration": 0,
    "start_time": "2023-05-20T22:05:49.554Z"
   },
   {
    "duration": 0,
    "start_time": "2023-05-20T22:05:49.555Z"
   },
   {
    "duration": 0,
    "start_time": "2023-05-20T22:05:49.555Z"
   },
   {
    "duration": 0,
    "start_time": "2023-05-20T22:05:49.557Z"
   },
   {
    "duration": 0,
    "start_time": "2023-05-20T22:05:49.558Z"
   },
   {
    "duration": 4569,
    "start_time": "2023-05-20T22:06:23.214Z"
   },
   {
    "duration": 60,
    "start_time": "2023-05-20T22:06:27.786Z"
   },
   {
    "duration": 12,
    "start_time": "2023-05-20T22:06:27.848Z"
   },
   {
    "duration": 40,
    "start_time": "2023-05-20T22:06:27.862Z"
   },
   {
    "duration": 67,
    "start_time": "2023-05-20T22:06:27.905Z"
   },
   {
    "duration": 8,
    "start_time": "2023-05-20T22:06:27.974Z"
   },
   {
    "duration": 13,
    "start_time": "2023-05-20T22:06:27.983Z"
   },
   {
    "duration": 40,
    "start_time": "2023-05-20T22:06:27.997Z"
   },
   {
    "duration": 3,
    "start_time": "2023-05-20T22:06:28.039Z"
   },
   {
    "duration": 5,
    "start_time": "2023-05-20T22:06:28.044Z"
   },
   {
    "duration": 12,
    "start_time": "2023-05-20T22:06:28.050Z"
   },
   {
    "duration": 7,
    "start_time": "2023-05-20T22:06:28.064Z"
   },
   {
    "duration": 34,
    "start_time": "2023-05-20T22:06:28.073Z"
   },
   {
    "duration": 3,
    "start_time": "2023-05-20T22:06:28.110Z"
   },
   {
    "duration": 8,
    "start_time": "2023-05-20T22:06:28.126Z"
   },
   {
    "duration": 11,
    "start_time": "2023-05-20T22:06:28.135Z"
   },
   {
    "duration": 20,
    "start_time": "2023-05-20T22:06:28.148Z"
   },
   {
    "duration": 18,
    "start_time": "2023-05-20T22:06:28.170Z"
   },
   {
    "duration": 49,
    "start_time": "2023-05-20T22:06:28.190Z"
   },
   {
    "duration": 135,
    "start_time": "2023-05-20T22:06:28.241Z"
   },
   {
    "duration": 7,
    "start_time": "2023-05-20T22:06:28.378Z"
   },
   {
    "duration": 48,
    "start_time": "2023-05-20T22:06:28.387Z"
   },
   {
    "duration": 0,
    "start_time": "2023-05-20T22:06:28.438Z"
   },
   {
    "duration": 0,
    "start_time": "2023-05-20T22:06:28.439Z"
   },
   {
    "duration": 0,
    "start_time": "2023-05-20T22:06:28.440Z"
   },
   {
    "duration": 0,
    "start_time": "2023-05-20T22:06:28.444Z"
   },
   {
    "duration": 0,
    "start_time": "2023-05-20T22:06:28.445Z"
   },
   {
    "duration": 0,
    "start_time": "2023-05-20T22:06:28.446Z"
   },
   {
    "duration": 0,
    "start_time": "2023-05-20T22:06:28.447Z"
   },
   {
    "duration": 0,
    "start_time": "2023-05-20T22:06:28.448Z"
   },
   {
    "duration": 0,
    "start_time": "2023-05-20T22:06:28.449Z"
   },
   {
    "duration": 0,
    "start_time": "2023-05-20T22:06:28.678Z"
   },
   {
    "duration": 0,
    "start_time": "2023-05-20T22:06:28.680Z"
   },
   {
    "duration": 0,
    "start_time": "2023-05-20T22:06:28.680Z"
   },
   {
    "duration": 0,
    "start_time": "2023-05-20T22:06:28.682Z"
   },
   {
    "duration": 0,
    "start_time": "2023-05-20T22:06:28.683Z"
   },
   {
    "duration": 0,
    "start_time": "2023-05-20T22:06:28.684Z"
   },
   {
    "duration": 0,
    "start_time": "2023-05-20T22:06:28.685Z"
   },
   {
    "duration": 0,
    "start_time": "2023-05-20T22:06:28.686Z"
   },
   {
    "duration": 0,
    "start_time": "2023-05-20T22:06:28.687Z"
   },
   {
    "duration": 0,
    "start_time": "2023-05-20T22:06:28.688Z"
   },
   {
    "duration": 0,
    "start_time": "2023-05-20T22:06:28.689Z"
   },
   {
    "duration": 0,
    "start_time": "2023-05-20T22:06:28.691Z"
   },
   {
    "duration": 0,
    "start_time": "2023-05-20T22:06:28.692Z"
   },
   {
    "duration": 0,
    "start_time": "2023-05-20T22:06:28.693Z"
   },
   {
    "duration": 0,
    "start_time": "2023-05-20T22:06:28.694Z"
   },
   {
    "duration": 0,
    "start_time": "2023-05-20T22:06:28.695Z"
   },
   {
    "duration": 0,
    "start_time": "2023-05-20T22:06:28.696Z"
   },
   {
    "duration": 0,
    "start_time": "2023-05-20T22:06:28.697Z"
   },
   {
    "duration": 0,
    "start_time": "2023-05-20T22:06:28.734Z"
   },
   {
    "duration": 0,
    "start_time": "2023-05-20T22:06:28.734Z"
   },
   {
    "duration": 0,
    "start_time": "2023-05-20T22:06:28.735Z"
   },
   {
    "duration": 0,
    "start_time": "2023-05-20T22:06:28.736Z"
   },
   {
    "duration": 0,
    "start_time": "2023-05-20T22:06:28.736Z"
   },
   {
    "duration": 0,
    "start_time": "2023-05-20T22:06:28.737Z"
   },
   {
    "duration": 0,
    "start_time": "2023-05-20T22:06:28.739Z"
   },
   {
    "duration": 0,
    "start_time": "2023-05-20T22:06:28.741Z"
   },
   {
    "duration": 0,
    "start_time": "2023-05-20T22:06:28.741Z"
   },
   {
    "duration": 0,
    "start_time": "2023-05-20T22:06:28.743Z"
   },
   {
    "duration": 0,
    "start_time": "2023-05-20T22:06:28.744Z"
   },
   {
    "duration": 0,
    "start_time": "2023-05-20T22:06:28.745Z"
   },
   {
    "duration": 0,
    "start_time": "2023-05-20T22:06:28.747Z"
   },
   {
    "duration": 0,
    "start_time": "2023-05-20T22:06:28.747Z"
   },
   {
    "duration": 0,
    "start_time": "2023-05-20T22:06:28.748Z"
   },
   {
    "duration": 0,
    "start_time": "2023-05-20T22:06:28.749Z"
   },
   {
    "duration": 0,
    "start_time": "2023-05-20T22:06:28.750Z"
   },
   {
    "duration": 0,
    "start_time": "2023-05-20T22:06:28.752Z"
   },
   {
    "duration": 0,
    "start_time": "2023-05-20T22:06:28.753Z"
   },
   {
    "duration": 0,
    "start_time": "2023-05-20T22:06:28.754Z"
   },
   {
    "duration": 0,
    "start_time": "2023-05-20T22:06:28.755Z"
   },
   {
    "duration": 0,
    "start_time": "2023-05-20T22:06:28.756Z"
   },
   {
    "duration": 0,
    "start_time": "2023-05-20T22:06:28.757Z"
   },
   {
    "duration": 0,
    "start_time": "2023-05-20T22:06:28.758Z"
   },
   {
    "duration": 0,
    "start_time": "2023-05-20T22:06:28.760Z"
   },
   {
    "duration": 0,
    "start_time": "2023-05-20T22:06:28.760Z"
   },
   {
    "duration": 0,
    "start_time": "2023-05-20T22:06:28.762Z"
   },
   {
    "duration": 21,
    "start_time": "2023-05-20T22:06:36.238Z"
   },
   {
    "duration": 20,
    "start_time": "2023-05-20T22:09:56.185Z"
   },
   {
    "duration": 21,
    "start_time": "2023-05-20T22:11:00.176Z"
   },
   {
    "duration": 55,
    "start_time": "2023-05-20T22:24:56.059Z"
   },
   {
    "duration": 25,
    "start_time": "2023-05-20T22:25:04.927Z"
   },
   {
    "duration": 3,
    "start_time": "2023-05-20T22:25:47.585Z"
   },
   {
    "duration": 27,
    "start_time": "2023-05-20T22:26:27.925Z"
   },
   {
    "duration": 5987,
    "start_time": "2023-05-20T22:26:35.536Z"
   },
   {
    "duration": 66,
    "start_time": "2023-05-20T22:26:41.532Z"
   },
   {
    "duration": 17,
    "start_time": "2023-05-20T22:26:41.600Z"
   },
   {
    "duration": 53,
    "start_time": "2023-05-20T22:26:41.620Z"
   },
   {
    "duration": 78,
    "start_time": "2023-05-20T22:26:41.675Z"
   },
   {
    "duration": 9,
    "start_time": "2023-05-20T22:26:41.755Z"
   },
   {
    "duration": 24,
    "start_time": "2023-05-20T22:26:41.767Z"
   },
   {
    "duration": 38,
    "start_time": "2023-05-20T22:26:41.793Z"
   },
   {
    "duration": 28,
    "start_time": "2023-05-20T22:26:41.840Z"
   },
   {
    "duration": 6,
    "start_time": "2023-05-20T22:26:41.871Z"
   },
   {
    "duration": 14,
    "start_time": "2023-05-20T22:26:41.878Z"
   },
   {
    "duration": 3,
    "start_time": "2023-05-20T22:26:41.894Z"
   },
   {
    "duration": 8,
    "start_time": "2023-05-20T22:26:41.898Z"
   },
   {
    "duration": 5,
    "start_time": "2023-05-20T22:26:41.907Z"
   },
   {
    "duration": 8,
    "start_time": "2023-05-20T22:26:41.933Z"
   },
   {
    "duration": 12,
    "start_time": "2023-05-20T22:26:41.942Z"
   },
   {
    "duration": 24,
    "start_time": "2023-05-20T22:26:41.955Z"
   },
   {
    "duration": 18,
    "start_time": "2023-05-20T22:26:41.980Z"
   },
   {
    "duration": 41,
    "start_time": "2023-05-20T22:26:41.999Z"
   },
   {
    "duration": 132,
    "start_time": "2023-05-20T22:26:42.042Z"
   },
   {
    "duration": 7,
    "start_time": "2023-05-20T22:26:42.176Z"
   },
   {
    "duration": 525,
    "start_time": "2023-05-20T22:26:42.186Z"
   },
   {
    "duration": 33,
    "start_time": "2023-05-20T22:26:42.712Z"
   },
   {
    "duration": 10,
    "start_time": "2023-05-20T22:26:42.747Z"
   },
   {
    "duration": 157,
    "start_time": "2023-05-20T22:26:42.759Z"
   },
   {
    "duration": 23,
    "start_time": "2023-05-20T22:26:42.918Z"
   },
   {
    "duration": 25,
    "start_time": "2023-05-20T22:26:42.943Z"
   },
   {
    "duration": 148,
    "start_time": "2023-05-20T22:26:42.973Z"
   },
   {
    "duration": 5323,
    "start_time": "2023-05-20T22:26:43.123Z"
   },
   {
    "duration": 5382,
    "start_time": "2023-05-20T22:26:48.448Z"
   },
   {
    "duration": 111,
    "start_time": "2023-05-20T22:26:53.831Z"
   },
   {
    "duration": 12,
    "start_time": "2023-05-20T22:26:53.944Z"
   },
   {
    "duration": 136,
    "start_time": "2023-05-20T22:26:53.958Z"
   },
   {
    "duration": 16,
    "start_time": "2023-05-20T22:26:54.096Z"
   },
   {
    "duration": 113,
    "start_time": "2023-05-20T22:26:54.125Z"
   },
   {
    "duration": 150,
    "start_time": "2023-05-20T22:26:54.242Z"
   },
   {
    "duration": 649,
    "start_time": "2023-05-20T22:26:54.394Z"
   },
   {
    "duration": 87,
    "start_time": "2023-05-20T22:26:55.046Z"
   },
   {
    "duration": 377,
    "start_time": "2023-05-20T22:26:55.135Z"
   },
   {
    "duration": 30,
    "start_time": "2023-05-20T22:26:55.514Z"
   },
   {
    "duration": 196,
    "start_time": "2023-05-20T22:26:55.552Z"
   },
   {
    "duration": 423,
    "start_time": "2023-05-20T22:26:55.751Z"
   },
   {
    "duration": 209,
    "start_time": "2023-05-20T22:26:56.176Z"
   },
   {
    "duration": 23,
    "start_time": "2023-05-20T22:26:56.387Z"
   },
   {
    "duration": 0,
    "start_time": "2023-05-20T22:26:56.412Z"
   },
   {
    "duration": 0,
    "start_time": "2023-05-20T22:26:56.413Z"
   },
   {
    "duration": 0,
    "start_time": "2023-05-20T22:26:56.414Z"
   },
   {
    "duration": 0,
    "start_time": "2023-05-20T22:26:56.429Z"
   },
   {
    "duration": 0,
    "start_time": "2023-05-20T22:26:56.429Z"
   },
   {
    "duration": 0,
    "start_time": "2023-05-20T22:26:56.432Z"
   },
   {
    "duration": 0,
    "start_time": "2023-05-20T22:26:56.433Z"
   },
   {
    "duration": 0,
    "start_time": "2023-05-20T22:26:56.434Z"
   },
   {
    "duration": 0,
    "start_time": "2023-05-20T22:26:56.436Z"
   },
   {
    "duration": 0,
    "start_time": "2023-05-20T22:26:56.437Z"
   },
   {
    "duration": 0,
    "start_time": "2023-05-20T22:26:56.440Z"
   },
   {
    "duration": 0,
    "start_time": "2023-05-20T22:26:56.442Z"
   },
   {
    "duration": 0,
    "start_time": "2023-05-20T22:26:56.443Z"
   },
   {
    "duration": 0,
    "start_time": "2023-05-20T22:26:56.444Z"
   },
   {
    "duration": 0,
    "start_time": "2023-05-20T22:26:56.446Z"
   },
   {
    "duration": 0,
    "start_time": "2023-05-20T22:26:56.447Z"
   },
   {
    "duration": 1,
    "start_time": "2023-05-20T22:26:56.447Z"
   },
   {
    "duration": 0,
    "start_time": "2023-05-20T22:26:56.449Z"
   },
   {
    "duration": 0,
    "start_time": "2023-05-20T22:26:56.450Z"
   },
   {
    "duration": 0,
    "start_time": "2023-05-20T22:26:56.451Z"
   },
   {
    "duration": 0,
    "start_time": "2023-05-20T22:26:56.452Z"
   },
   {
    "duration": 0,
    "start_time": "2023-05-20T22:26:56.453Z"
   },
   {
    "duration": 0,
    "start_time": "2023-05-20T22:26:56.454Z"
   },
   {
    "duration": 0,
    "start_time": "2023-05-20T22:26:56.455Z"
   },
   {
    "duration": 0,
    "start_time": "2023-05-20T22:26:56.456Z"
   },
   {
    "duration": 0,
    "start_time": "2023-05-20T22:26:56.457Z"
   },
   {
    "duration": 0,
    "start_time": "2023-05-20T22:26:56.458Z"
   },
   {
    "duration": 0,
    "start_time": "2023-05-20T22:26:56.459Z"
   },
   {
    "duration": 0,
    "start_time": "2023-05-20T22:26:56.460Z"
   },
   {
    "duration": 0,
    "start_time": "2023-05-20T22:26:56.461Z"
   },
   {
    "duration": 0,
    "start_time": "2023-05-20T22:26:56.462Z"
   },
   {
    "duration": 0,
    "start_time": "2023-05-20T22:26:56.464Z"
   },
   {
    "duration": 111,
    "start_time": "2023-05-20T22:28:14.461Z"
   },
   {
    "duration": 37,
    "start_time": "2023-05-20T22:31:34.321Z"
   },
   {
    "duration": 12191,
    "start_time": "2023-05-20T22:37:53.877Z"
   },
   {
    "duration": 113,
    "start_time": "2023-05-20T22:38:06.070Z"
   },
   {
    "duration": 11880,
    "start_time": "2023-05-20T22:38:10.324Z"
   },
   {
    "duration": 107,
    "start_time": "2023-05-20T22:38:22.206Z"
   },
   {
    "duration": 863,
    "start_time": "2023-05-20T22:38:41.479Z"
   },
   {
    "duration": 552,
    "start_time": "2023-05-20T22:40:31.791Z"
   },
   {
    "duration": 106,
    "start_time": "2023-05-20T22:44:32.445Z"
   },
   {
    "duration": 33,
    "start_time": "2023-05-20T22:44:35.446Z"
   },
   {
    "duration": 13458,
    "start_time": "2023-05-20T22:45:58.070Z"
   },
   {
    "duration": 11483,
    "start_time": "2023-05-20T22:47:16.377Z"
   },
   {
    "duration": 77,
    "start_time": "2023-05-20T22:49:29.649Z"
   },
   {
    "duration": 487,
    "start_time": "2023-05-20T22:49:43.056Z"
   },
   {
    "duration": 97,
    "start_time": "2023-05-20T22:51:34.608Z"
   },
   {
    "duration": 20,
    "start_time": "2023-05-20T22:51:37.847Z"
   },
   {
    "duration": 10,
    "start_time": "2023-05-20T22:52:26.700Z"
   },
   {
    "duration": 16,
    "start_time": "2023-05-20T22:53:11.874Z"
   },
   {
    "duration": 11,
    "start_time": "2023-05-20T22:57:53.589Z"
   },
   {
    "duration": 12,
    "start_time": "2023-05-20T22:58:22.947Z"
   },
   {
    "duration": 14,
    "start_time": "2023-05-20T22:59:50.456Z"
   },
   {
    "duration": 14,
    "start_time": "2023-05-20T23:01:10.141Z"
   },
   {
    "duration": 4434,
    "start_time": "2023-05-20T23:02:08.994Z"
   },
   {
    "duration": 56,
    "start_time": "2023-05-20T23:02:13.431Z"
   },
   {
    "duration": 14,
    "start_time": "2023-05-20T23:02:13.489Z"
   },
   {
    "duration": 43,
    "start_time": "2023-05-20T23:02:13.505Z"
   },
   {
    "duration": 48,
    "start_time": "2023-05-20T23:02:13.551Z"
   },
   {
    "duration": 25,
    "start_time": "2023-05-20T23:02:13.601Z"
   },
   {
    "duration": 12,
    "start_time": "2023-05-20T23:02:13.628Z"
   },
   {
    "duration": 13,
    "start_time": "2023-05-20T23:02:13.642Z"
   },
   {
    "duration": 21,
    "start_time": "2023-05-20T23:02:13.657Z"
   },
   {
    "duration": 4,
    "start_time": "2023-05-20T23:02:13.680Z"
   },
   {
    "duration": 42,
    "start_time": "2023-05-20T23:02:13.685Z"
   },
   {
    "duration": 2,
    "start_time": "2023-05-20T23:02:13.729Z"
   },
   {
    "duration": 5,
    "start_time": "2023-05-20T23:02:13.733Z"
   },
   {
    "duration": 3,
    "start_time": "2023-05-20T23:02:13.741Z"
   },
   {
    "duration": 7,
    "start_time": "2023-05-20T23:02:13.745Z"
   },
   {
    "duration": 10,
    "start_time": "2023-05-20T23:02:13.754Z"
   },
   {
    "duration": 22,
    "start_time": "2023-05-20T23:02:13.766Z"
   },
   {
    "duration": 47,
    "start_time": "2023-05-20T23:02:13.790Z"
   },
   {
    "duration": 18,
    "start_time": "2023-05-20T23:02:13.839Z"
   },
   {
    "duration": 147,
    "start_time": "2023-05-20T23:02:13.859Z"
   },
   {
    "duration": 18,
    "start_time": "2023-05-20T23:02:14.008Z"
   },
   {
    "duration": 453,
    "start_time": "2023-05-20T23:02:14.028Z"
   },
   {
    "duration": 19,
    "start_time": "2023-05-20T23:02:14.483Z"
   },
   {
    "duration": 24,
    "start_time": "2023-05-20T23:02:14.504Z"
   },
   {
    "duration": 123,
    "start_time": "2023-05-20T23:02:14.530Z"
   },
   {
    "duration": 9,
    "start_time": "2023-05-20T23:02:14.654Z"
   },
   {
    "duration": 22,
    "start_time": "2023-05-20T23:02:14.665Z"
   },
   {
    "duration": 157,
    "start_time": "2023-05-20T23:02:14.688Z"
   },
   {
    "duration": 4917,
    "start_time": "2023-05-20T23:02:14.847Z"
   },
   {
    "duration": 4995,
    "start_time": "2023-05-20T23:02:19.766Z"
   },
   {
    "duration": 100,
    "start_time": "2023-05-20T23:02:24.763Z"
   },
   {
    "duration": 10,
    "start_time": "2023-05-20T23:02:24.865Z"
   },
   {
    "duration": 135,
    "start_time": "2023-05-20T23:02:24.877Z"
   },
   {
    "duration": 24,
    "start_time": "2023-05-20T23:02:25.014Z"
   },
   {
    "duration": 111,
    "start_time": "2023-05-20T23:02:25.040Z"
   },
   {
    "duration": 159,
    "start_time": "2023-05-20T23:02:25.153Z"
   },
   {
    "duration": 120,
    "start_time": "2023-05-20T23:02:25.314Z"
   },
   {
    "duration": 101,
    "start_time": "2023-05-20T23:02:25.527Z"
   },
   {
    "duration": 322,
    "start_time": "2023-05-20T23:02:25.630Z"
   },
   {
    "duration": 74,
    "start_time": "2023-05-20T23:02:25.953Z"
   },
   {
    "duration": 107,
    "start_time": "2023-05-20T23:02:26.035Z"
   },
   {
    "duration": 467,
    "start_time": "2023-05-20T23:02:26.227Z"
   },
   {
    "duration": 212,
    "start_time": "2023-05-20T23:02:26.696Z"
   },
   {
    "duration": 109,
    "start_time": "2023-05-20T23:02:26.910Z"
   },
   {
    "duration": 11216,
    "start_time": "2023-05-20T23:02:27.021Z"
   },
   {
    "duration": 604,
    "start_time": "2023-05-20T23:02:38.239Z"
   },
   {
    "duration": 203,
    "start_time": "2023-05-20T23:02:38.846Z"
   },
   {
    "duration": 20,
    "start_time": "2023-05-20T23:02:39.051Z"
   },
   {
    "duration": 12,
    "start_time": "2023-05-20T23:02:39.073Z"
   },
   {
    "duration": 133,
    "start_time": "2023-05-20T23:02:39.086Z"
   },
   {
    "duration": 19,
    "start_time": "2023-05-20T23:02:39.224Z"
   },
   {
    "duration": 13,
    "start_time": "2023-05-20T23:02:39.244Z"
   },
   {
    "duration": 152,
    "start_time": "2023-05-20T23:02:39.259Z"
   },
   {
    "duration": 100,
    "start_time": "2023-05-20T23:02:39.414Z"
   },
   {
    "duration": 18,
    "start_time": "2023-05-20T23:02:39.516Z"
   },
   {
    "duration": 9,
    "start_time": "2023-05-20T23:02:39.535Z"
   },
   {
    "duration": 11154,
    "start_time": "2023-05-20T23:02:39.546Z"
   },
   {
    "duration": 484,
    "start_time": "2023-05-20T23:02:50.702Z"
   },
   {
    "duration": 10,
    "start_time": "2023-05-20T23:02:51.188Z"
   },
   {
    "duration": 60,
    "start_time": "2023-05-20T23:02:51.200Z"
   },
   {
    "duration": 22,
    "start_time": "2023-05-20T23:02:51.262Z"
   },
   {
    "duration": 103,
    "start_time": "2023-05-20T23:02:51.329Z"
   },
   {
    "duration": 94,
    "start_time": "2023-05-20T23:02:51.434Z"
   },
   {
    "duration": 294,
    "start_time": "2023-05-20T23:02:51.533Z"
   },
   {
    "duration": 6,
    "start_time": "2023-05-20T23:02:51.828Z"
   },
   {
    "duration": 6,
    "start_time": "2023-05-20T23:02:51.835Z"
   },
   {
    "duration": 166877,
    "start_time": "2023-05-20T23:02:51.842Z"
   },
   {
    "duration": 922,
    "start_time": "2023-05-20T23:05:38.721Z"
   },
   {
    "duration": 14,
    "start_time": "2023-05-20T23:05:39.645Z"
   },
   {
    "duration": 93,
    "start_time": "2023-05-20T23:05:39.661Z"
   },
   {
    "duration": 77,
    "start_time": "2023-05-20T23:05:39.756Z"
   },
   {
    "duration": 140,
    "start_time": "2023-05-20T23:05:39.835Z"
   },
   {
    "duration": 998,
    "start_time": "2023-05-20T23:05:39.977Z"
   },
   {
    "duration": 4,
    "start_time": "2023-05-20T23:05:40.977Z"
   },
   {
    "duration": 8,
    "start_time": "2023-05-20T23:05:40.982Z"
   },
   {
    "duration": 9,
    "start_time": "2023-05-20T23:05:40.992Z"
   },
   {
    "duration": 630,
    "start_time": "2023-05-20T23:05:41.004Z"
   },
   {
    "duration": 212,
    "start_time": "2023-05-20T23:05:41.636Z"
   },
   {
    "duration": 11988,
    "start_time": "2023-05-20T23:05:41.850Z"
   },
   {
    "duration": 11,
    "start_time": "2023-05-20T23:05:53.841Z"
   },
   {
    "duration": 10,
    "start_time": "2023-05-20T23:05:59.972Z"
   },
   {
    "duration": 450,
    "start_time": "2023-05-20T23:06:27.807Z"
   },
   {
    "duration": 14,
    "start_time": "2023-05-20T23:06:29.483Z"
   },
   {
    "duration": 35,
    "start_time": "2023-05-20T23:07:49.373Z"
   },
   {
    "duration": 466,
    "start_time": "2023-05-20T23:08:53.779Z"
   },
   {
    "duration": 22,
    "start_time": "2023-05-20T23:08:56.261Z"
   },
   {
    "duration": 11,
    "start_time": "2023-05-20T23:09:01.191Z"
   },
   {
    "duration": 12,
    "start_time": "2023-05-20T23:09:06.610Z"
   },
   {
    "duration": 37,
    "start_time": "2023-05-20T23:10:02.433Z"
   },
   {
    "duration": 11,
    "start_time": "2023-05-20T23:10:10.925Z"
   },
   {
    "duration": 11382,
    "start_time": "2023-05-20T23:10:13.885Z"
   },
   {
    "duration": 11,
    "start_time": "2023-05-20T23:10:30.693Z"
   },
   {
    "duration": 11436,
    "start_time": "2023-05-20T23:10:34.289Z"
   },
   {
    "duration": 13,
    "start_time": "2023-05-20T23:11:25.706Z"
   },
   {
    "duration": 10,
    "start_time": "2023-05-20T23:11:36.086Z"
   },
   {
    "duration": 10,
    "start_time": "2023-05-20T23:12:07.216Z"
   },
   {
    "duration": 11,
    "start_time": "2023-05-20T23:12:17.086Z"
   },
   {
    "duration": 98,
    "start_time": "2023-05-20T23:12:20.098Z"
   },
   {
    "duration": 583,
    "start_time": "2023-05-20T23:12:57.655Z"
   },
   {
    "duration": 11,
    "start_time": "2023-05-20T23:13:01.017Z"
   },
   {
    "duration": 12,
    "start_time": "2023-05-20T23:13:04.924Z"
   },
   {
    "duration": 209,
    "start_time": "2023-05-20T23:13:08.881Z"
   },
   {
    "duration": 9,
    "start_time": "2023-05-20T23:22:18.448Z"
   },
   {
    "duration": 8,
    "start_time": "2023-05-20T23:22:55.117Z"
   },
   {
    "duration": 910,
    "start_time": "2023-05-20T23:35:08.222Z"
   },
   {
    "duration": 1021,
    "start_time": "2023-05-20T23:37:01.362Z"
   },
   {
    "duration": 70,
    "start_time": "2023-05-20T23:37:12.108Z"
   },
   {
    "duration": 128,
    "start_time": "2023-05-20T23:37:30.359Z"
   },
   {
    "duration": 59,
    "start_time": "2023-05-20T23:38:31.032Z"
   },
   {
    "duration": 11,
    "start_time": "2023-05-20T23:41:07.872Z"
   },
   {
    "duration": 9,
    "start_time": "2023-05-20T23:45:40.704Z"
   },
   {
    "duration": 52,
    "start_time": "2023-05-20T23:46:35.643Z"
   }
  ],
  "kernelspec": {
   "display_name": "Python 3 (ipykernel)",
   "language": "python",
   "name": "python3"
  },
  "language_info": {
   "codemirror_mode": {
    "name": "ipython",
    "version": 3
   },
   "file_extension": ".py",
   "mimetype": "text/x-python",
   "name": "python",
   "nbconvert_exporter": "python",
   "pygments_lexer": "ipython3",
   "version": "3.11.3"
  },
  "toc": {
   "base_numbering": 1,
   "nav_menu": {},
   "number_sections": true,
   "sideBar": true,
   "skip_h1_title": true,
   "title_cell": "Содержание",
   "title_sidebar": "Contents",
   "toc_cell": true,
   "toc_position": {
    "height": "calc(100% - 180px)",
    "left": "10px",
    "top": "150px",
    "width": "165px"
   },
   "toc_section_display": true,
   "toc_window_display": false
  }
 },
 "nbformat": 4,
 "nbformat_minor": 2
}
