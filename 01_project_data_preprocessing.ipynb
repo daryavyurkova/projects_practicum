{
 "cells": [
  {
   "cell_type": "markdown",
   "id": "ea279c7c",
   "metadata": {
    "deletable": false,
    "editable": false,
    "id": "827c20bf"
   },
   "source": [
    "Во второй части проекта вы выполните шаги 3 и 4. Их вручную проверит ревьюер.\n",
    "Чтобы вам не пришлось писать код заново для шагов 1 и 2, мы добавили авторские решения в ячейки с кодом. \n",
    "\n"
   ]
  },
  {
   "cell_type": "markdown",
   "id": "7bf705ef",
   "metadata": {
    "deletable": false,
    "editable": false,
    "id": "c81daeeb"
   },
   "source": [
    "# Исследование надежности заемщиков\n"
   ]
  },
  {
   "cell_type": "markdown",
   "id": "e53b75b8-a6d1-475e-88b0-90f6d4fad99a",
   "metadata": {},
   "source": [
    "Есть ли зависимость между количеством детей и возвратом кредита в срок?\n",
    "Есть ли зависимость между семейным положением и возвратом кредита в срок?\n",
    "Есть ли зависимость между уровнем дохода и возвратом кредита в срок?\n",
    "Как разные цели кредита влияют на его возврат в срок?\n",
    "Приведите возможные причины появления пропусков в исходных данных.\n",
    "Объясните, почему заполнить пропуски медианным значением — лучшее решение для количественных переменных."
   ]
  },
  {
   "cell_type": "markdown",
   "id": "0dba7ae9",
   "metadata": {
    "deletable": false,
    "editable": false,
    "id": "744d7639"
   },
   "source": [
    "## Откройте таблицу и изучите общую информацию о данных"
   ]
  },
  {
   "cell_type": "markdown",
   "id": "20badbee",
   "metadata": {
    "deletable": false,
    "editable": false,
    "id": "e7a14c31"
   },
   "source": [
    "**Задание 1. Импортируйте библиотеку pandas. Считайте данные из csv-файла в датафрейм и сохраните в переменную `data`. Путь к файлу:**\n",
    "\n",
    "`/datasets/data.csv`"
   ]
  },
  {
   "cell_type": "code",
   "execution_count": 43,
   "id": "4f8f550d",
   "metadata": {
    "deletable": false,
    "id": "7bcf75c9"
   },
   "outputs": [],
   "source": [
    "import pandas as pd\n",
    "\n",
    "try:\n",
    "    data = pd.read_csv('/datasets/data.csv')\n",
    "except:\n",
    "    data = pd.read_csv('https://code.s3.yandex.net/datasets/data.csv')"
   ]
  },
  {
   "cell_type": "markdown",
   "id": "316684d1",
   "metadata": {
    "deletable": false,
    "editable": false,
    "id": "b8038fe3"
   },
   "source": [
    "**Задание 2. Выведите первые 20 строчек датафрейма `data` на экран.**"
   ]
  },
  {
   "cell_type": "code",
   "execution_count": 44,
   "id": "aaa65200",
   "metadata": {
    "deletable": false,
    "id": "2a7cab99",
    "outputId": "1a8f3ef2-d323-4ec2-ddf7-89670b5944c4"
   },
   "outputs": [
    {
     "data": {
      "text/html": [
       "<div>\n",
       "<style scoped>\n",
       "    .dataframe tbody tr th:only-of-type {\n",
       "        vertical-align: middle;\n",
       "    }\n",
       "\n",
       "    .dataframe tbody tr th {\n",
       "        vertical-align: top;\n",
       "    }\n",
       "\n",
       "    .dataframe thead th {\n",
       "        text-align: right;\n",
       "    }\n",
       "</style>\n",
       "<table border=\"1\" class=\"dataframe\">\n",
       "  <thead>\n",
       "    <tr style=\"text-align: right;\">\n",
       "      <th></th>\n",
       "      <th>children</th>\n",
       "      <th>days_employed</th>\n",
       "      <th>dob_years</th>\n",
       "      <th>education</th>\n",
       "      <th>education_id</th>\n",
       "      <th>family_status</th>\n",
       "      <th>family_status_id</th>\n",
       "      <th>gender</th>\n",
       "      <th>income_type</th>\n",
       "      <th>debt</th>\n",
       "      <th>total_income</th>\n",
       "      <th>purpose</th>\n",
       "    </tr>\n",
       "  </thead>\n",
       "  <tbody>\n",
       "    <tr>\n",
       "      <th>0</th>\n",
       "      <td>1</td>\n",
       "      <td>-8437.673028</td>\n",
       "      <td>42</td>\n",
       "      <td>высшее</td>\n",
       "      <td>0</td>\n",
       "      <td>женат / замужем</td>\n",
       "      <td>0</td>\n",
       "      <td>F</td>\n",
       "      <td>сотрудник</td>\n",
       "      <td>0</td>\n",
       "      <td>253875.639453</td>\n",
       "      <td>покупка жилья</td>\n",
       "    </tr>\n",
       "    <tr>\n",
       "      <th>1</th>\n",
       "      <td>1</td>\n",
       "      <td>-4024.803754</td>\n",
       "      <td>36</td>\n",
       "      <td>среднее</td>\n",
       "      <td>1</td>\n",
       "      <td>женат / замужем</td>\n",
       "      <td>0</td>\n",
       "      <td>F</td>\n",
       "      <td>сотрудник</td>\n",
       "      <td>0</td>\n",
       "      <td>112080.014102</td>\n",
       "      <td>приобретение автомобиля</td>\n",
       "    </tr>\n",
       "    <tr>\n",
       "      <th>2</th>\n",
       "      <td>0</td>\n",
       "      <td>-5623.422610</td>\n",
       "      <td>33</td>\n",
       "      <td>Среднее</td>\n",
       "      <td>1</td>\n",
       "      <td>женат / замужем</td>\n",
       "      <td>0</td>\n",
       "      <td>M</td>\n",
       "      <td>сотрудник</td>\n",
       "      <td>0</td>\n",
       "      <td>145885.952297</td>\n",
       "      <td>покупка жилья</td>\n",
       "    </tr>\n",
       "    <tr>\n",
       "      <th>3</th>\n",
       "      <td>3</td>\n",
       "      <td>-4124.747207</td>\n",
       "      <td>32</td>\n",
       "      <td>среднее</td>\n",
       "      <td>1</td>\n",
       "      <td>женат / замужем</td>\n",
       "      <td>0</td>\n",
       "      <td>M</td>\n",
       "      <td>сотрудник</td>\n",
       "      <td>0</td>\n",
       "      <td>267628.550329</td>\n",
       "      <td>дополнительное образование</td>\n",
       "    </tr>\n",
       "    <tr>\n",
       "      <th>4</th>\n",
       "      <td>0</td>\n",
       "      <td>340266.072047</td>\n",
       "      <td>53</td>\n",
       "      <td>среднее</td>\n",
       "      <td>1</td>\n",
       "      <td>гражданский брак</td>\n",
       "      <td>1</td>\n",
       "      <td>F</td>\n",
       "      <td>пенсионер</td>\n",
       "      <td>0</td>\n",
       "      <td>158616.077870</td>\n",
       "      <td>сыграть свадьбу</td>\n",
       "    </tr>\n",
       "    <tr>\n",
       "      <th>5</th>\n",
       "      <td>0</td>\n",
       "      <td>-926.185831</td>\n",
       "      <td>27</td>\n",
       "      <td>высшее</td>\n",
       "      <td>0</td>\n",
       "      <td>гражданский брак</td>\n",
       "      <td>1</td>\n",
       "      <td>M</td>\n",
       "      <td>компаньон</td>\n",
       "      <td>0</td>\n",
       "      <td>255763.565419</td>\n",
       "      <td>покупка жилья</td>\n",
       "    </tr>\n",
       "    <tr>\n",
       "      <th>6</th>\n",
       "      <td>0</td>\n",
       "      <td>-2879.202052</td>\n",
       "      <td>43</td>\n",
       "      <td>высшее</td>\n",
       "      <td>0</td>\n",
       "      <td>женат / замужем</td>\n",
       "      <td>0</td>\n",
       "      <td>F</td>\n",
       "      <td>компаньон</td>\n",
       "      <td>0</td>\n",
       "      <td>240525.971920</td>\n",
       "      <td>операции с жильем</td>\n",
       "    </tr>\n",
       "    <tr>\n",
       "      <th>7</th>\n",
       "      <td>0</td>\n",
       "      <td>-152.779569</td>\n",
       "      <td>50</td>\n",
       "      <td>СРЕДНЕЕ</td>\n",
       "      <td>1</td>\n",
       "      <td>женат / замужем</td>\n",
       "      <td>0</td>\n",
       "      <td>M</td>\n",
       "      <td>сотрудник</td>\n",
       "      <td>0</td>\n",
       "      <td>135823.934197</td>\n",
       "      <td>образование</td>\n",
       "    </tr>\n",
       "    <tr>\n",
       "      <th>8</th>\n",
       "      <td>2</td>\n",
       "      <td>-6929.865299</td>\n",
       "      <td>35</td>\n",
       "      <td>ВЫСШЕЕ</td>\n",
       "      <td>0</td>\n",
       "      <td>гражданский брак</td>\n",
       "      <td>1</td>\n",
       "      <td>F</td>\n",
       "      <td>сотрудник</td>\n",
       "      <td>0</td>\n",
       "      <td>95856.832424</td>\n",
       "      <td>на проведение свадьбы</td>\n",
       "    </tr>\n",
       "    <tr>\n",
       "      <th>9</th>\n",
       "      <td>0</td>\n",
       "      <td>-2188.756445</td>\n",
       "      <td>41</td>\n",
       "      <td>среднее</td>\n",
       "      <td>1</td>\n",
       "      <td>женат / замужем</td>\n",
       "      <td>0</td>\n",
       "      <td>M</td>\n",
       "      <td>сотрудник</td>\n",
       "      <td>0</td>\n",
       "      <td>144425.938277</td>\n",
       "      <td>покупка жилья для семьи</td>\n",
       "    </tr>\n",
       "    <tr>\n",
       "      <th>10</th>\n",
       "      <td>2</td>\n",
       "      <td>-4171.483647</td>\n",
       "      <td>36</td>\n",
       "      <td>высшее</td>\n",
       "      <td>0</td>\n",
       "      <td>женат / замужем</td>\n",
       "      <td>0</td>\n",
       "      <td>M</td>\n",
       "      <td>компаньон</td>\n",
       "      <td>0</td>\n",
       "      <td>113943.491460</td>\n",
       "      <td>покупка недвижимости</td>\n",
       "    </tr>\n",
       "    <tr>\n",
       "      <th>11</th>\n",
       "      <td>0</td>\n",
       "      <td>-792.701887</td>\n",
       "      <td>40</td>\n",
       "      <td>среднее</td>\n",
       "      <td>1</td>\n",
       "      <td>женат / замужем</td>\n",
       "      <td>0</td>\n",
       "      <td>F</td>\n",
       "      <td>сотрудник</td>\n",
       "      <td>0</td>\n",
       "      <td>77069.234271</td>\n",
       "      <td>покупка коммерческой недвижимости</td>\n",
       "    </tr>\n",
       "    <tr>\n",
       "      <th>12</th>\n",
       "      <td>0</td>\n",
       "      <td>NaN</td>\n",
       "      <td>65</td>\n",
       "      <td>среднее</td>\n",
       "      <td>1</td>\n",
       "      <td>гражданский брак</td>\n",
       "      <td>1</td>\n",
       "      <td>M</td>\n",
       "      <td>пенсионер</td>\n",
       "      <td>0</td>\n",
       "      <td>NaN</td>\n",
       "      <td>сыграть свадьбу</td>\n",
       "    </tr>\n",
       "    <tr>\n",
       "      <th>13</th>\n",
       "      <td>0</td>\n",
       "      <td>-1846.641941</td>\n",
       "      <td>54</td>\n",
       "      <td>неоконченное высшее</td>\n",
       "      <td>2</td>\n",
       "      <td>женат / замужем</td>\n",
       "      <td>0</td>\n",
       "      <td>F</td>\n",
       "      <td>сотрудник</td>\n",
       "      <td>0</td>\n",
       "      <td>130458.228857</td>\n",
       "      <td>приобретение автомобиля</td>\n",
       "    </tr>\n",
       "    <tr>\n",
       "      <th>14</th>\n",
       "      <td>0</td>\n",
       "      <td>-1844.956182</td>\n",
       "      <td>56</td>\n",
       "      <td>высшее</td>\n",
       "      <td>0</td>\n",
       "      <td>гражданский брак</td>\n",
       "      <td>1</td>\n",
       "      <td>F</td>\n",
       "      <td>компаньон</td>\n",
       "      <td>1</td>\n",
       "      <td>165127.911772</td>\n",
       "      <td>покупка жилой недвижимости</td>\n",
       "    </tr>\n",
       "    <tr>\n",
       "      <th>15</th>\n",
       "      <td>1</td>\n",
       "      <td>-972.364419</td>\n",
       "      <td>26</td>\n",
       "      <td>среднее</td>\n",
       "      <td>1</td>\n",
       "      <td>женат / замужем</td>\n",
       "      <td>0</td>\n",
       "      <td>F</td>\n",
       "      <td>сотрудник</td>\n",
       "      <td>0</td>\n",
       "      <td>116820.904450</td>\n",
       "      <td>строительство собственной недвижимости</td>\n",
       "    </tr>\n",
       "    <tr>\n",
       "      <th>16</th>\n",
       "      <td>0</td>\n",
       "      <td>-1719.934226</td>\n",
       "      <td>35</td>\n",
       "      <td>среднее</td>\n",
       "      <td>1</td>\n",
       "      <td>женат / замужем</td>\n",
       "      <td>0</td>\n",
       "      <td>F</td>\n",
       "      <td>сотрудник</td>\n",
       "      <td>0</td>\n",
       "      <td>289202.704229</td>\n",
       "      <td>недвижимость</td>\n",
       "    </tr>\n",
       "    <tr>\n",
       "      <th>17</th>\n",
       "      <td>0</td>\n",
       "      <td>-2369.999720</td>\n",
       "      <td>33</td>\n",
       "      <td>высшее</td>\n",
       "      <td>0</td>\n",
       "      <td>гражданский брак</td>\n",
       "      <td>1</td>\n",
       "      <td>M</td>\n",
       "      <td>сотрудник</td>\n",
       "      <td>0</td>\n",
       "      <td>90410.586745</td>\n",
       "      <td>строительство недвижимости</td>\n",
       "    </tr>\n",
       "    <tr>\n",
       "      <th>18</th>\n",
       "      <td>0</td>\n",
       "      <td>400281.136913</td>\n",
       "      <td>53</td>\n",
       "      <td>среднее</td>\n",
       "      <td>1</td>\n",
       "      <td>вдовец / вдова</td>\n",
       "      <td>2</td>\n",
       "      <td>F</td>\n",
       "      <td>пенсионер</td>\n",
       "      <td>0</td>\n",
       "      <td>56823.777243</td>\n",
       "      <td>на покупку подержанного автомобиля</td>\n",
       "    </tr>\n",
       "    <tr>\n",
       "      <th>19</th>\n",
       "      <td>0</td>\n",
       "      <td>-10038.818549</td>\n",
       "      <td>48</td>\n",
       "      <td>СРЕДНЕЕ</td>\n",
       "      <td>1</td>\n",
       "      <td>в разводе</td>\n",
       "      <td>3</td>\n",
       "      <td>F</td>\n",
       "      <td>сотрудник</td>\n",
       "      <td>0</td>\n",
       "      <td>242831.107982</td>\n",
       "      <td>на покупку своего автомобиля</td>\n",
       "    </tr>\n",
       "  </tbody>\n",
       "</table>\n",
       "</div>"
      ],
      "text/plain": [
       "    children  days_employed  dob_years            education  education_id  \\\n",
       "0          1   -8437.673028         42               высшее             0   \n",
       "1          1   -4024.803754         36              среднее             1   \n",
       "2          0   -5623.422610         33              Среднее             1   \n",
       "3          3   -4124.747207         32              среднее             1   \n",
       "4          0  340266.072047         53              среднее             1   \n",
       "5          0    -926.185831         27               высшее             0   \n",
       "6          0   -2879.202052         43               высшее             0   \n",
       "7          0    -152.779569         50              СРЕДНЕЕ             1   \n",
       "8          2   -6929.865299         35               ВЫСШЕЕ             0   \n",
       "9          0   -2188.756445         41              среднее             1   \n",
       "10         2   -4171.483647         36               высшее             0   \n",
       "11         0    -792.701887         40              среднее             1   \n",
       "12         0            NaN         65              среднее             1   \n",
       "13         0   -1846.641941         54  неоконченное высшее             2   \n",
       "14         0   -1844.956182         56               высшее             0   \n",
       "15         1    -972.364419         26              среднее             1   \n",
       "16         0   -1719.934226         35              среднее             1   \n",
       "17         0   -2369.999720         33               высшее             0   \n",
       "18         0  400281.136913         53              среднее             1   \n",
       "19         0  -10038.818549         48              СРЕДНЕЕ             1   \n",
       "\n",
       "       family_status  family_status_id gender income_type  debt  \\\n",
       "0    женат / замужем                 0      F   сотрудник     0   \n",
       "1    женат / замужем                 0      F   сотрудник     0   \n",
       "2    женат / замужем                 0      M   сотрудник     0   \n",
       "3    женат / замужем                 0      M   сотрудник     0   \n",
       "4   гражданский брак                 1      F   пенсионер     0   \n",
       "5   гражданский брак                 1      M   компаньон     0   \n",
       "6    женат / замужем                 0      F   компаньон     0   \n",
       "7    женат / замужем                 0      M   сотрудник     0   \n",
       "8   гражданский брак                 1      F   сотрудник     0   \n",
       "9    женат / замужем                 0      M   сотрудник     0   \n",
       "10   женат / замужем                 0      M   компаньон     0   \n",
       "11   женат / замужем                 0      F   сотрудник     0   \n",
       "12  гражданский брак                 1      M   пенсионер     0   \n",
       "13   женат / замужем                 0      F   сотрудник     0   \n",
       "14  гражданский брак                 1      F   компаньон     1   \n",
       "15   женат / замужем                 0      F   сотрудник     0   \n",
       "16   женат / замужем                 0      F   сотрудник     0   \n",
       "17  гражданский брак                 1      M   сотрудник     0   \n",
       "18    вдовец / вдова                 2      F   пенсионер     0   \n",
       "19         в разводе                 3      F   сотрудник     0   \n",
       "\n",
       "     total_income                                 purpose  \n",
       "0   253875.639453                           покупка жилья  \n",
       "1   112080.014102                 приобретение автомобиля  \n",
       "2   145885.952297                           покупка жилья  \n",
       "3   267628.550329              дополнительное образование  \n",
       "4   158616.077870                         сыграть свадьбу  \n",
       "5   255763.565419                           покупка жилья  \n",
       "6   240525.971920                       операции с жильем  \n",
       "7   135823.934197                             образование  \n",
       "8    95856.832424                   на проведение свадьбы  \n",
       "9   144425.938277                 покупка жилья для семьи  \n",
       "10  113943.491460                    покупка недвижимости  \n",
       "11   77069.234271       покупка коммерческой недвижимости  \n",
       "12            NaN                         сыграть свадьбу  \n",
       "13  130458.228857                 приобретение автомобиля  \n",
       "14  165127.911772              покупка жилой недвижимости  \n",
       "15  116820.904450  строительство собственной недвижимости  \n",
       "16  289202.704229                            недвижимость  \n",
       "17   90410.586745              строительство недвижимости  \n",
       "18   56823.777243      на покупку подержанного автомобиля  \n",
       "19  242831.107982            на покупку своего автомобиля  "
      ]
     },
     "execution_count": 44,
     "metadata": {},
     "output_type": "execute_result"
    }
   ],
   "source": [
    "data.head(20)"
   ]
  },
  {
   "cell_type": "markdown",
   "id": "1cf8443b",
   "metadata": {
    "deletable": false,
    "editable": false,
    "id": "1c12e233"
   },
   "source": [
    "**Задание 3. Выведите основную информацию о датафрейме с помощью метода `info()`.**"
   ]
  },
  {
   "cell_type": "code",
   "execution_count": 45,
   "id": "92cae711",
   "metadata": {
    "deletable": false,
    "id": "2b757bca",
    "outputId": "15376089-8dad-46c9-b520-c05248d43158"
   },
   "outputs": [
    {
     "name": "stdout",
     "output_type": "stream",
     "text": [
      "<class 'pandas.core.frame.DataFrame'>\n",
      "RangeIndex: 21525 entries, 0 to 21524\n",
      "Data columns (total 12 columns):\n",
      " #   Column            Non-Null Count  Dtype  \n",
      "---  ------            --------------  -----  \n",
      " 0   children          21525 non-null  int64  \n",
      " 1   days_employed     19351 non-null  float64\n",
      " 2   dob_years         21525 non-null  int64  \n",
      " 3   education         21525 non-null  object \n",
      " 4   education_id      21525 non-null  int64  \n",
      " 5   family_status     21525 non-null  object \n",
      " 6   family_status_id  21525 non-null  int64  \n",
      " 7   gender            21525 non-null  object \n",
      " 8   income_type       21525 non-null  object \n",
      " 9   debt              21525 non-null  int64  \n",
      " 10  total_income      19351 non-null  float64\n",
      " 11  purpose           21525 non-null  object \n",
      "dtypes: float64(2), int64(5), object(5)\n",
      "memory usage: 2.0+ MB\n"
     ]
    }
   ],
   "source": [
    "data.info()"
   ]
  },
  {
   "cell_type": "markdown",
   "id": "97ba536f",
   "metadata": {
    "deletable": false,
    "editable": false,
    "id": "333ec665"
   },
   "source": [
    "## Предобработка данных"
   ]
  },
  {
   "cell_type": "markdown",
   "id": "27e93558",
   "metadata": {
    "deletable": false,
    "editable": false,
    "id": "02d92d53"
   },
   "source": [
    "### Удаление пропусков"
   ]
  },
  {
   "cell_type": "markdown",
   "id": "6565114f",
   "metadata": {
    "deletable": false,
    "editable": false,
    "id": "cd84967c"
   },
   "source": [
    "**Задание 4. Выведите количество пропущенных значений для каждого столбца. Используйте комбинацию двух методов.**"
   ]
  },
  {
   "cell_type": "code",
   "execution_count": 46,
   "id": "bb91efc6",
   "metadata": {
    "deletable": false,
    "id": "7f9b2309",
    "outputId": "81f4d817-781c-465c-ed15-91ce4446810d"
   },
   "outputs": [
    {
     "data": {
      "text/plain": [
       "children               0\n",
       "days_employed       2174\n",
       "dob_years              0\n",
       "education              0\n",
       "education_id           0\n",
       "family_status          0\n",
       "family_status_id       0\n",
       "gender                 0\n",
       "income_type            0\n",
       "debt                   0\n",
       "total_income        2174\n",
       "purpose                0\n",
       "dtype: int64"
      ]
     },
     "execution_count": 46,
     "metadata": {},
     "output_type": "execute_result"
    }
   ],
   "source": [
    "data.isna().sum()"
   ]
  },
  {
   "cell_type": "markdown",
   "id": "1b7df53f",
   "metadata": {
    "deletable": false,
    "editable": false,
    "id": "db86e27b"
   },
   "source": [
    "**Задание 5. В двух столбцах есть пропущенные значения. Один из них — `days_employed`. Пропуски в этом столбце вы обработаете на следующем этапе. Другой столбец с пропущенными значениями — `total_income` — хранит данные о доходах. На сумму дохода сильнее всего влияет тип занятости, поэтому заполнить пропуски в этом столбце нужно медианным значением по каждому типу из столбца `income_type`. Например, у человека с типом занятости `сотрудник` пропуск в столбце `total_income` должен быть заполнен медианным доходом среди всех записей с тем же типом.**"
   ]
  },
  {
   "cell_type": "code",
   "execution_count": 47,
   "id": "469f72a1",
   "metadata": {
    "deletable": false,
    "id": "42006a93"
   },
   "outputs": [],
   "source": [
    "for t in data['income_type'].unique():\n",
    "    data.loc[(data['income_type'] == t) & (data['total_income'].isna()), 'total_income'] = \\\n",
    "    data.loc[(data['income_type'] == t), 'total_income'].median()"
   ]
  },
  {
   "cell_type": "markdown",
   "id": "b446354c",
   "metadata": {
    "deletable": false,
    "editable": false,
    "id": "89da5ece"
   },
   "source": [
    "### Обработка аномальных значений"
   ]
  },
  {
   "cell_type": "markdown",
   "id": "bfe6145e",
   "metadata": {
    "deletable": false,
    "editable": false,
    "id": "57964554"
   },
   "source": [
    "**Задание 6. В данных могут встречаться артефакты (аномалии) — значения, которые не отражают действительность и появились по какой-то ошибке. таким артефактом будет отрицательное количество дней трудового стажа в столбце `days_employed`. Для реальных данных это нормально. Обработайте значения в этом столбце: замените все отрицательные значения положительными с помощью метода `abs()`.**"
   ]
  },
  {
   "cell_type": "code",
   "execution_count": 48,
   "id": "69c50f3a",
   "metadata": {
    "deletable": false,
    "id": "f6f055bf"
   },
   "outputs": [],
   "source": [
    "data['days_employed'] = data['days_employed'].abs()"
   ]
  },
  {
   "cell_type": "markdown",
   "id": "08785d7a",
   "metadata": {
    "deletable": false,
    "editable": false,
    "id": "6107dd2f"
   },
   "source": [
    "**Задание 7. Для каждого типа занятости выведите медианное значение трудового стажа `days_employed` в днях.**"
   ]
  },
  {
   "cell_type": "code",
   "execution_count": 49,
   "id": "ab99f2fb",
   "metadata": {
    "deletable": false,
    "id": "85a5faf6",
    "outputId": "801ef80e-522b-4668-f34e-565af7432bcf"
   },
   "outputs": [
    {
     "data": {
      "text/plain": [
       "income_type\n",
       "безработный        366413.652744\n",
       "в декрете            3296.759962\n",
       "госслужащий          2689.368353\n",
       "компаньон            1547.382223\n",
       "пенсионер          365213.306266\n",
       "предприниматель       520.848083\n",
       "сотрудник            1574.202821\n",
       "студент               578.751554\n",
       "Name: days_employed, dtype: float64"
      ]
     },
     "execution_count": 49,
     "metadata": {},
     "output_type": "execute_result"
    }
   ],
   "source": [
    "data.groupby('income_type')['days_employed'].agg('median')"
   ]
  },
  {
   "cell_type": "markdown",
   "id": "c201e7a6",
   "metadata": {
    "deletable": false,
    "editable": false,
    "id": "38d1a030"
   },
   "source": [
    "У двух типов (безработные и пенсионеры) получатся аномально большие значения. Исправить такие значения сложно, поэтому оставьте их как есть. Тем более этот столбец не понадобится вам для исследования."
   ]
  },
  {
   "cell_type": "markdown",
   "id": "43fc0040",
   "metadata": {
    "deletable": false,
    "editable": false,
    "id": "d8a9f147"
   },
   "source": [
    "**Задание 8. Выведите перечень уникальных значений столбца `children`.**"
   ]
  },
  {
   "cell_type": "code",
   "execution_count": 50,
   "id": "c21980e0",
   "metadata": {
    "deletable": false,
    "id": "ef5056eb",
    "outputId": "6975b15c-7f95-4697-d16d-a0c79b657b03"
   },
   "outputs": [
    {
     "data": {
      "text/plain": [
       "array([ 1,  0,  3,  2, -1,  4, 20,  5])"
      ]
     },
     "execution_count": 50,
     "metadata": {},
     "output_type": "execute_result"
    }
   ],
   "source": [
    "data['children'].unique()"
   ]
  },
  {
   "cell_type": "markdown",
   "id": "0a31fdac",
   "metadata": {
    "deletable": false,
    "editable": false,
    "id": "40b9ebf2"
   },
   "source": [
    "**Задание 9. В столбце `children` есть два аномальных значения. Удалите строки, в которых встречаются такие аномальные значения из датафрейма `data`.**"
   ]
  },
  {
   "cell_type": "code",
   "execution_count": 51,
   "id": "ae46f9f6",
   "metadata": {
    "deletable": false,
    "id": "3ff9801d"
   },
   "outputs": [],
   "source": [
    "data = data[(data['children'] != -1) & (data['children'] != 20)]"
   ]
  },
  {
   "cell_type": "markdown",
   "id": "8361964e",
   "metadata": {
    "deletable": false,
    "editable": false,
    "id": "bbc4d0ce"
   },
   "source": [
    "**Задание 10. Ещё раз выведите перечень уникальных значений столбца `children`, чтобы убедиться, что артефакты удалены.**"
   ]
  },
  {
   "cell_type": "code",
   "execution_count": 52,
   "id": "0f9d5b4b",
   "metadata": {
    "deletable": false,
    "id": "ad4fa8b7",
    "outputId": "b2097101-d49d-44d9-901b-32a65c9463d1"
   },
   "outputs": [
    {
     "data": {
      "text/plain": [
       "array([1, 0, 3, 2, 4, 5])"
      ]
     },
     "execution_count": 52,
     "metadata": {},
     "output_type": "execute_result"
    }
   ],
   "source": [
    "data['children'].unique()"
   ]
  },
  {
   "cell_type": "markdown",
   "id": "f8a9cbfd",
   "metadata": {
    "deletable": false,
    "editable": false,
    "id": "75440b63"
   },
   "source": [
    "### Удаление пропусков (продолжение)"
   ]
  },
  {
   "cell_type": "markdown",
   "id": "b5124f4c",
   "metadata": {
    "deletable": false,
    "editable": false,
    "id": "f4ea573f"
   },
   "source": [
    "**Задание 11. Заполните пропуски в столбце `days_employed` медианными значениями по каждого типа занятости `income_type`.**"
   ]
  },
  {
   "cell_type": "code",
   "execution_count": 53,
   "id": "ff6574c8",
   "metadata": {
    "deletable": false,
    "id": "af6b1a7e"
   },
   "outputs": [],
   "source": [
    "for t in data['income_type'].unique():\n",
    "    data.loc[(data['income_type'] == t) & (data['days_employed'].isna()), 'days_employed'] = \\\n",
    "    data.loc[(data['income_type'] == t), 'days_employed'].median()"
   ]
  },
  {
   "cell_type": "markdown",
   "id": "dbc1ac7c",
   "metadata": {
    "deletable": false,
    "editable": false,
    "id": "2753f40d"
   },
   "source": [
    "**Задание 12. Убедитесь, что все пропуски заполнены. Проверьте себя и ещё раз выведите количество пропущенных значений для каждого столбца с помощью двух методов.**"
   ]
  },
  {
   "cell_type": "code",
   "execution_count": 54,
   "id": "5a66c56a",
   "metadata": {
    "deletable": false,
    "id": "55f78bc2",
    "outputId": "8da1e4e1-358e-4e87-98c9-f261bce0a7b2"
   },
   "outputs": [
    {
     "data": {
      "text/plain": [
       "children            0\n",
       "days_employed       0\n",
       "dob_years           0\n",
       "education           0\n",
       "education_id        0\n",
       "family_status       0\n",
       "family_status_id    0\n",
       "gender              0\n",
       "income_type         0\n",
       "debt                0\n",
       "total_income        0\n",
       "purpose             0\n",
       "dtype: int64"
      ]
     },
     "execution_count": 54,
     "metadata": {},
     "output_type": "execute_result"
    }
   ],
   "source": [
    "data.isna().sum()"
   ]
  },
  {
   "cell_type": "markdown",
   "id": "ef7fe733",
   "metadata": {
    "deletable": false,
    "editable": false,
    "id": "ddc81e43"
   },
   "source": [
    "### Изменение типов данных"
   ]
  },
  {
   "cell_type": "markdown",
   "id": "c0f15a41",
   "metadata": {
    "deletable": false,
    "editable": false,
    "id": "42d19d24"
   },
   "source": [
    "**Задание 13. Замените вещественный тип данных в столбце `total_income` на целочисленный с помощью метода `astype()`.**"
   ]
  },
  {
   "cell_type": "code",
   "execution_count": 55,
   "id": "eb81e451",
   "metadata": {
    "deletable": false,
    "id": "920b65ad"
   },
   "outputs": [],
   "source": [
    "data['total_income'] = data['total_income'].astype(int)"
   ]
  },
  {
   "cell_type": "markdown",
   "id": "1e300d9b",
   "metadata": {
    "deletable": false,
    "editable": false,
    "id": "80c420ba"
   },
   "source": [
    "### Обработка дубликатов"
   ]
  },
  {
   "cell_type": "markdown",
   "id": "e1f2af59",
   "metadata": {
    "deletable": false,
    "editable": false
   },
   "source": [
    "**Задание 14. Обработайте неявные дубликаты в столбце `education`. В этом столбце есть одни и те же значения, но записанные по-разному: с использованием заглавных и строчных букв. Приведите их к нижнему регистру. Проверьте остальные столбцы.**"
   ]
  },
  {
   "cell_type": "code",
   "execution_count": 56,
   "id": "adf1dc04",
   "metadata": {
    "deletable": false
   },
   "outputs": [],
   "source": [
    "data['education'] = data['education'].str.lower()"
   ]
  },
  {
   "cell_type": "markdown",
   "id": "22b12c00",
   "metadata": {
    "deletable": false,
    "editable": false,
    "id": "dc587695"
   },
   "source": [
    "**Задание 15. Выведите на экран количество строк-дубликатов в данных. Если такие строки присутствуют, удалите их.**"
   ]
  },
  {
   "cell_type": "code",
   "execution_count": 57,
   "id": "c769d6e2",
   "metadata": {
    "deletable": false,
    "id": "3ee445e4",
    "outputId": "9684deba-1934-42d1-99e1-cda61740f822"
   },
   "outputs": [
    {
     "data": {
      "text/plain": [
       "71"
      ]
     },
     "execution_count": 57,
     "metadata": {},
     "output_type": "execute_result"
    }
   ],
   "source": [
    "data.duplicated().sum()"
   ]
  },
  {
   "cell_type": "code",
   "execution_count": 58,
   "id": "24eeca1d",
   "metadata": {
    "deletable": false,
    "id": "8575fe05"
   },
   "outputs": [],
   "source": [
    "data = data.drop_duplicates()"
   ]
  },
  {
   "cell_type": "markdown",
   "id": "eeaf0ab2",
   "metadata": {
    "deletable": false,
    "editable": false,
    "id": "9904cf55"
   },
   "source": [
    "### Категоризация данных"
   ]
  },
  {
   "cell_type": "markdown",
   "id": "00e4c348",
   "metadata": {
    "deletable": false,
    "editable": false,
    "id": "72fcc8a2"
   },
   "source": [
    "**Задание 16. На основании диапазонов, указанных ниже, создайте в датафрейме `data` столбец `total_income_category` с категориями:**\n",
    "\n",
    "- 0–30000 — `'E'`;\n",
    "- 30001–50000 — `'D'`;\n",
    "- 50001–200000 — `'C'`;\n",
    "- 200001–1000000 — `'B'`;\n",
    "- 1000001 и выше — `'A'`.\n",
    "\n",
    "\n",
    "**Например, кредитополучателю с доходом 25000 нужно назначить категорию `'E'`, а клиенту, получающему 235000, — `'B'`. Используйте собственную функцию с именем `categorize_income()` и метод `apply()`.**"
   ]
  },
  {
   "cell_type": "code",
   "execution_count": 59,
   "id": "a9141ac8",
   "metadata": {
    "deletable": false,
    "id": "e1771346"
   },
   "outputs": [],
   "source": [
    "def categorize_income(income):\n",
    "    try:\n",
    "        if 0 <= income <= 30000:\n",
    "            return 'E'\n",
    "        elif 30001 <= income <= 50000:\n",
    "            return 'D'\n",
    "        elif 50001 <= income <= 200000:\n",
    "            return 'C'\n",
    "        elif 200001 <= income <= 1000000:\n",
    "            return 'B'\n",
    "        elif income >= 1000001:\n",
    "            return 'A'\n",
    "    except:\n",
    "        pass"
   ]
  },
  {
   "cell_type": "code",
   "execution_count": 60,
   "id": "f32c84f2",
   "metadata": {
    "deletable": false,
    "id": "d5f3586d"
   },
   "outputs": [],
   "source": [
    "data['total_income_category'] = data['total_income'].apply(categorize_income)"
   ]
  },
  {
   "cell_type": "markdown",
   "id": "3998275c",
   "metadata": {
    "deletable": false,
    "editable": false,
    "id": "dde49b5c"
   },
   "source": [
    "**Задание 17. Выведите на экран перечень уникальных целей взятия кредита из столбца `purpose`.**"
   ]
  },
  {
   "cell_type": "code",
   "execution_count": 61,
   "id": "4ba49c0a",
   "metadata": {
    "deletable": false,
    "id": "f67ce9b3",
    "outputId": "673c12d9-7d7e-4ae0-9812-c622c89dd244"
   },
   "outputs": [
    {
     "data": {
      "text/plain": [
       "array(['покупка жилья', 'приобретение автомобиля',\n",
       "       'дополнительное образование', 'сыграть свадьбу',\n",
       "       'операции с жильем', 'образование', 'на проведение свадьбы',\n",
       "       'покупка жилья для семьи', 'покупка недвижимости',\n",
       "       'покупка коммерческой недвижимости', 'покупка жилой недвижимости',\n",
       "       'строительство собственной недвижимости', 'недвижимость',\n",
       "       'строительство недвижимости', 'на покупку подержанного автомобиля',\n",
       "       'на покупку своего автомобиля',\n",
       "       'операции с коммерческой недвижимостью',\n",
       "       'строительство жилой недвижимости', 'жилье',\n",
       "       'операции со своей недвижимостью', 'автомобили',\n",
       "       'заняться образованием', 'сделка с подержанным автомобилем',\n",
       "       'получение образования', 'автомобиль', 'свадьба',\n",
       "       'получение дополнительного образования', 'покупка своего жилья',\n",
       "       'операции с недвижимостью', 'получение высшего образования',\n",
       "       'свой автомобиль', 'сделка с автомобилем',\n",
       "       'профильное образование', 'высшее образование',\n",
       "       'покупка жилья для сдачи', 'на покупку автомобиля', 'ремонт жилью',\n",
       "       'заняться высшим образованием'], dtype=object)"
      ]
     },
     "execution_count": 61,
     "metadata": {},
     "output_type": "execute_result"
    }
   ],
   "source": [
    "data['purpose'].unique()"
   ]
  },
  {
   "cell_type": "markdown",
   "id": "dc6b44ef",
   "metadata": {
    "deletable": false,
    "editable": false,
    "id": "85d0aef0"
   },
   "source": [
    "**Задание 18. Создайте функцию, которая на основании данных из столбца `purpose` сформирует новый столбец `purpose_category`, в который войдут следующие категории:**\n",
    "\n",
    "- `'операции с автомобилем'`,\n",
    "- `'операции с недвижимостью'`,\n",
    "- `'проведение свадьбы'`,\n",
    "- `'получение образования'`.\n",
    "\n",
    "**Например, если в столбце `purpose` находится подстрока `'на покупку автомобиля'`, то в столбце `purpose_category` должна появиться строка `'операции с автомобилем'`.**\n",
    "\n",
    "**Используйте собственную функцию с именем `categorize_purpose()` и метод `apply()`. Изучите данные в столбце `purpose` и определите, какие подстроки помогут вам правильно определить категорию.**"
   ]
  },
  {
   "cell_type": "code",
   "execution_count": 62,
   "id": "af3030ed",
   "metadata": {
    "deletable": false,
    "id": "e149fab4"
   },
   "outputs": [],
   "source": [
    "def categorize_purpose(row):\n",
    "    try:\n",
    "        if 'автом' in row:\n",
    "            return 'операции с автомобилем'\n",
    "        elif 'жил' in row or 'недвиж' in row:\n",
    "            return 'операции с недвижимостью'\n",
    "        elif 'свад' in row:\n",
    "            return 'проведение свадьбы'\n",
    "        elif 'образов' in row:\n",
    "            return 'получение образования'\n",
    "    except:\n",
    "        return 'нет категории'"
   ]
  },
  {
   "cell_type": "code",
   "execution_count": 63,
   "id": "f0d61348",
   "metadata": {
    "deletable": false,
    "id": "bf36e69b"
   },
   "outputs": [
    {
     "name": "stdout",
     "output_type": "stream",
     "text": [
      "<class 'pandas.core.frame.DataFrame'>\n",
      "Int64Index: 21331 entries, 0 to 21524\n",
      "Data columns (total 14 columns):\n",
      " #   Column                 Non-Null Count  Dtype  \n",
      "---  ------                 --------------  -----  \n",
      " 0   children               21331 non-null  int64  \n",
      " 1   days_employed          21331 non-null  float64\n",
      " 2   dob_years              21331 non-null  int64  \n",
      " 3   education              21331 non-null  object \n",
      " 4   education_id           21331 non-null  int64  \n",
      " 5   family_status          21331 non-null  object \n",
      " 6   family_status_id       21331 non-null  int64  \n",
      " 7   gender                 21331 non-null  object \n",
      " 8   income_type            21331 non-null  object \n",
      " 9   debt                   21331 non-null  int64  \n",
      " 10  total_income           21331 non-null  int64  \n",
      " 11  purpose                21331 non-null  object \n",
      " 12  total_income_category  21331 non-null  object \n",
      " 13  purpose_category       21331 non-null  object \n",
      "dtypes: float64(1), int64(6), object(7)\n",
      "memory usage: 2.4+ MB\n"
     ]
    }
   ],
   "source": [
    "data['purpose_category'] = data['purpose'].apply(categorize_purpose)\n",
    "data.info() "
   ]
  },
  {
   "cell_type": "markdown",
   "id": "7a2fc7b2",
   "metadata": {
    "deletable": false,
    "editable": false,
    "id": "09b242bf"
   },
   "source": [
    "### Шаг 3. Исследуйте данные и ответьте на вопросы"
   ]
  },
  {
   "cell_type": "markdown",
   "id": "c688c5c1",
   "metadata": {
    "deletable": false,
    "editable": false,
    "id": "c5d66278"
   },
   "source": [
    "#### 3.1 Есть ли зависимость между количеством детей и возвратом кредита в срок?"
   ]
  },
  {
   "cell_type": "markdown",
   "id": "702caad4",
   "metadata": {},
   "source": [
    "**Для того, чтобы ответить на вопрос сначала проверим столбец children на наличие аномальных данных**"
   ]
  },
  {
   "cell_type": "code",
   "execution_count": 64,
   "id": "4cf379f6",
   "metadata": {
    "deletable": false,
    "id": "2cacfc4a"
   },
   "outputs": [
    {
     "data": {
      "text/plain": [
       "count    21331.000000\n",
       "mean         0.474005\n",
       "std          0.752378\n",
       "min          0.000000\n",
       "25%          0.000000\n",
       "50%          0.000000\n",
       "75%          1.000000\n",
       "max          5.000000\n",
       "Name: children, dtype: float64"
      ]
     },
     "execution_count": 64,
     "metadata": {},
     "output_type": "execute_result"
    }
   ],
   "source": [
    "# с помощью функции describe \n",
    "data['children'].describe()\n",
    "# проанализируем статистические характеристики данных столбца children"
   ]
  },
  {
   "cell_type": "markdown",
   "id": "6fe405a6",
   "metadata": {},
   "source": [
    "Аномальных данных не обнаружено: минимум 0 – отсутствие детей, максимум 5 детей, отрицательных значений нет."
   ]
  },
  {
   "cell_type": "markdown",
   "id": "ed767263",
   "metadata": {},
   "source": [
    "**Аналогичным способом проверим столбец debt**"
   ]
  },
  {
   "cell_type": "code",
   "execution_count": 65,
   "id": "6d37cc6d",
   "metadata": {
    "id": "2cacfc4a",
    "scrolled": true
   },
   "outputs": [
    {
     "data": {
      "text/plain": [
       "count    21331.000000\n",
       "mean         0.081196\n",
       "std          0.273143\n",
       "min          0.000000\n",
       "25%          0.000000\n",
       "50%          0.000000\n",
       "75%          0.000000\n",
       "max          1.000000\n",
       "Name: debt, dtype: float64"
      ]
     },
     "execution_count": 65,
     "metadata": {},
     "output_type": "execute_result"
    }
   ],
   "source": [
    "# запускаем функцию describe \n",
    "data['debt'].describe()\n"
   ]
  },
  {
   "cell_type": "markdown",
   "id": "44de449b",
   "metadata": {},
   "source": [
    "Аномальных данных нет: минимум 0 – нет долга, максимум 1 – долг есть, отрицательных значений нет."
   ]
  },
  {
   "cell_type": "markdown",
   "id": "b9e83da1",
   "metadata": {},
   "source": [
    "Проверим, сколько уникальных значений в столбце children"
   ]
  },
  {
   "cell_type": "code",
   "execution_count": 66,
   "id": "c12a6cbc",
   "metadata": {
    "id": "2cacfc4a",
    "scrolled": true
   },
   "outputs": [
    {
     "name": "stdout",
     "output_type": "stream",
     "text": [
      "6\n"
     ]
    }
   ],
   "source": [
    "# с помощью функций len и unique посчитаем количество вариантов значений в столбце children\n",
    "print(len(data['children'].unique())) \n"
   ]
  },
  {
   "cell_type": "markdown",
   "id": "1e65c1ed",
   "metadata": {},
   "source": [
    "Уникальных значений – 6, довольно много, визуалиция с таким количеством вариантов усложнит процесс анализа. Понадобится категоризация."
   ]
  },
  {
   "cell_type": "markdown",
   "id": "6c5ca821",
   "metadata": {},
   "source": [
    "**Чтобы нагляднее представить и понять зависимость наличия долга от наличия/количества детей:** \n",
    "- распределим количество детей по категориям;\n",
    "- сформируем сводную таблицу, которая покажет количественную информацию по новому столбцу с категориями детей относительно двух параметов из столбца debt – есть долг или его нет.\n"
   ]
  },
  {
   "cell_type": "markdown",
   "id": "b97a923b",
   "metadata": {},
   "source": [
    "Распределим количество детей по категориям следующим правилам:\n",
    "- 0 - будет означать категорию \"бездетный\";\n",
    "- 1-2 ребёнка попадает в категорию \"до двух детей\";\n",
    "- 3 и более принадлежат категории \"многодетный\".\n",
    "Правила классификации запишем в новую функцию.\n"
   ]
  },
  {
   "cell_type": "code",
   "execution_count": 67,
   "id": "23b0d662",
   "metadata": {
    "id": "2cacfc4a"
   },
   "outputs": [],
   "source": [
    "# создаём функцию children_category\n",
    "\n",
    "def children_category(children):\n",
    "    \n",
    "    if children == 0:\n",
    "        return 'бездетный'\n",
    "    if 1 <= children <= 2:\n",
    "        return 'до двух детей'\n",
    "    if children >= 3:\n",
    "        return 'многодетный'"
   ]
  },
  {
   "cell_type": "markdown",
   "id": "ab54dbc9",
   "metadata": {},
   "source": [
    "Проверим как отрабатывает функция.\n"
   ]
  },
  {
   "cell_type": "code",
   "execution_count": 68,
   "id": "c7962f6e",
   "metadata": {
    "id": "2cacfc4a",
    "scrolled": true
   },
   "outputs": [
    {
     "name": "stdout",
     "output_type": "stream",
     "text": [
      "бездетный\n"
     ]
    }
   ],
   "source": [
    "# если количество детей равно 0\n",
    "print(children_category(0)) "
   ]
  },
  {
   "cell_type": "code",
   "execution_count": 69,
   "id": "1fdc6aac",
   "metadata": {
    "id": "2cacfc4a",
    "scrolled": true
   },
   "outputs": [
    {
     "name": "stdout",
     "output_type": "stream",
     "text": [
      "до двух детей\n"
     ]
    }
   ],
   "source": [
    "# если количество детей равно 1\n",
    "print(children_category(1)) "
   ]
  },
  {
   "cell_type": "code",
   "execution_count": 70,
   "id": "1e497cd2",
   "metadata": {
    "id": "2cacfc4a",
    "scrolled": true
   },
   "outputs": [
    {
     "name": "stdout",
     "output_type": "stream",
     "text": [
      "многодетный\n"
     ]
    }
   ],
   "source": [
    "# если количество детей равно 5\n",
    "print(children_category(5)) "
   ]
  },
  {
   "cell_type": "markdown",
   "id": "1c8d5082",
   "metadata": {},
   "source": [
    "**Теперь необходимо создать новый столбец и записать в него значения, возвращаемые функцией методом apply.**\n"
   ]
  },
  {
   "cell_type": "code",
   "execution_count": 71,
   "id": "1b885a09",
   "metadata": {
    "id": "2cacfc4a",
    "scrolled": true
   },
   "outputs": [],
   "source": [
    "# создаём столбец для данных с категориями детей\n",
    "data['children_category'] = data['children'].apply(children_category)"
   ]
  },
  {
   "cell_type": "markdown",
   "id": "32564ec8",
   "metadata": {},
   "source": [
    "Проверим результат, для чего выведем первые 20 строк датафрейма.\n"
   ]
  },
  {
   "cell_type": "code",
   "execution_count": 72,
   "id": "057a179a",
   "metadata": {
    "id": "2cacfc4a",
    "scrolled": true
   },
   "outputs": [
    {
     "name": "stdout",
     "output_type": "stream",
     "text": [
      "    children  days_employed  dob_years            education  education_id  \\\n",
      "0          1    8437.673028         42               высшее             0   \n",
      "1          1    4024.803754         36              среднее             1   \n",
      "2          0    5623.422610         33              среднее             1   \n",
      "3          3    4124.747207         32              среднее             1   \n",
      "4          0  340266.072047         53              среднее             1   \n",
      "5          0     926.185831         27               высшее             0   \n",
      "6          0    2879.202052         43               высшее             0   \n",
      "7          0     152.779569         50              среднее             1   \n",
      "8          2    6929.865299         35               высшее             0   \n",
      "9          0    2188.756445         41              среднее             1   \n",
      "10         2    4171.483647         36               высшее             0   \n",
      "11         0     792.701887         40              среднее             1   \n",
      "12         0  365286.622650         65              среднее             1   \n",
      "13         0    1846.641941         54  неоконченное высшее             2   \n",
      "14         0    1844.956182         56               высшее             0   \n",
      "15         1     972.364419         26              среднее             1   \n",
      "16         0    1719.934226         35              среднее             1   \n",
      "17         0    2369.999720         33               высшее             0   \n",
      "18         0  400281.136913         53              среднее             1   \n",
      "19         0   10038.818549         48              среднее             1   \n",
      "\n",
      "       family_status  family_status_id gender income_type  debt  total_income  \\\n",
      "0    женат / замужем                 0      F   сотрудник     0        253875   \n",
      "1    женат / замужем                 0      F   сотрудник     0        112080   \n",
      "2    женат / замужем                 0      M   сотрудник     0        145885   \n",
      "3    женат / замужем                 0      M   сотрудник     0        267628   \n",
      "4   гражданский брак                 1      F   пенсионер     0        158616   \n",
      "5   гражданский брак                 1      M   компаньон     0        255763   \n",
      "6    женат / замужем                 0      F   компаньон     0        240525   \n",
      "7    женат / замужем                 0      M   сотрудник     0        135823   \n",
      "8   гражданский брак                 1      F   сотрудник     0         95856   \n",
      "9    женат / замужем                 0      M   сотрудник     0        144425   \n",
      "10   женат / замужем                 0      M   компаньон     0        113943   \n",
      "11   женат / замужем                 0      F   сотрудник     0         77069   \n",
      "12  гражданский брак                 1      M   пенсионер     0        118514   \n",
      "13   женат / замужем                 0      F   сотрудник     0        130458   \n",
      "14  гражданский брак                 1      F   компаньон     1        165127   \n",
      "15   женат / замужем                 0      F   сотрудник     0        116820   \n",
      "16   женат / замужем                 0      F   сотрудник     0        289202   \n",
      "17  гражданский брак                 1      M   сотрудник     0         90410   \n",
      "18    вдовец / вдова                 2      F   пенсионер     0         56823   \n",
      "19         в разводе                 3      F   сотрудник     0        242831   \n",
      "\n",
      "                                   purpose total_income_category  \\\n",
      "0                            покупка жилья                     B   \n",
      "1                  приобретение автомобиля                     C   \n",
      "2                            покупка жилья                     C   \n",
      "3               дополнительное образование                     B   \n",
      "4                          сыграть свадьбу                     C   \n",
      "5                            покупка жилья                     B   \n",
      "6                        операции с жильем                     B   \n",
      "7                              образование                     C   \n",
      "8                    на проведение свадьбы                     C   \n",
      "9                  покупка жилья для семьи                     C   \n",
      "10                    покупка недвижимости                     C   \n",
      "11       покупка коммерческой недвижимости                     C   \n",
      "12                         сыграть свадьбу                     C   \n",
      "13                 приобретение автомобиля                     C   \n",
      "14              покупка жилой недвижимости                     C   \n",
      "15  строительство собственной недвижимости                     C   \n",
      "16                            недвижимость                     B   \n",
      "17              строительство недвижимости                     C   \n",
      "18      на покупку подержанного автомобиля                     C   \n",
      "19            на покупку своего автомобиля                     B   \n",
      "\n",
      "            purpose_category children_category  \n",
      "0   операции с недвижимостью     до двух детей  \n",
      "1     операции с автомобилем     до двух детей  \n",
      "2   операции с недвижимостью         бездетный  \n",
      "3      получение образования       многодетный  \n",
      "4         проведение свадьбы         бездетный  \n",
      "5   операции с недвижимостью         бездетный  \n",
      "6   операции с недвижимостью         бездетный  \n",
      "7      получение образования         бездетный  \n",
      "8         проведение свадьбы     до двух детей  \n",
      "9   операции с недвижимостью         бездетный  \n",
      "10  операции с недвижимостью     до двух детей  \n",
      "11  операции с недвижимостью         бездетный  \n",
      "12        проведение свадьбы         бездетный  \n",
      "13    операции с автомобилем         бездетный  \n",
      "14  операции с недвижимостью         бездетный  \n",
      "15  операции с недвижимостью     до двух детей  \n",
      "16  операции с недвижимостью         бездетный  \n",
      "17  операции с недвижимостью         бездетный  \n",
      "18    операции с автомобилем         бездетный  \n",
      "19    операции с автомобилем         бездетный  \n"
     ]
    }
   ],
   "source": [
    "# проверяем таблицу\n",
    "print(data.head(20)) "
   ]
  },
  {
   "cell_type": "markdown",
   "id": "e0019992",
   "metadata": {
    "deletable": false,
    "id": "3a6b99ec"
   },
   "source": [
    "**Создаём сводную таблицу методом pivot_table()** "
   ]
  },
  {
   "cell_type": "code",
   "execution_count": 73,
   "id": "ec1d87ef",
   "metadata": {
    "id": "2cacfc4a",
    "scrolled": true
   },
   "outputs": [
    {
     "data": {
      "text/html": [
       "<div>\n",
       "<style scoped>\n",
       "    .dataframe tbody tr th:only-of-type {\n",
       "        vertical-align: middle;\n",
       "    }\n",
       "\n",
       "    .dataframe tbody tr th {\n",
       "        vertical-align: top;\n",
       "    }\n",
       "\n",
       "    .dataframe thead th {\n",
       "        text-align: right;\n",
       "    }\n",
       "</style>\n",
       "<table border=\"1\" class=\"dataframe\">\n",
       "  <thead>\n",
       "    <tr style=\"text-align: right;\">\n",
       "      <th></th>\n",
       "      <th>no_debt</th>\n",
       "      <th>debt</th>\n",
       "      <th>debt_children_share</th>\n",
       "    </tr>\n",
       "    <tr>\n",
       "      <th>children_category</th>\n",
       "      <th></th>\n",
       "      <th></th>\n",
       "      <th></th>\n",
       "    </tr>\n",
       "  </thead>\n",
       "  <tbody>\n",
       "    <tr>\n",
       "      <th>до двух детей</th>\n",
       "      <td>6222</td>\n",
       "      <td>638</td>\n",
       "      <td>9.3%</td>\n",
       "    </tr>\n",
       "    <tr>\n",
       "      <th>многодетный</th>\n",
       "      <td>349</td>\n",
       "      <td>31</td>\n",
       "      <td>8.2%</td>\n",
       "    </tr>\n",
       "    <tr>\n",
       "      <th>бездетный</th>\n",
       "      <td>13028</td>\n",
       "      <td>1063</td>\n",
       "      <td>7.5%</td>\n",
       "    </tr>\n",
       "  </tbody>\n",
       "</table>\n",
       "</div>"
      ],
      "text/plain": [
       "                   no_debt  debt debt_children_share\n",
       "children_category                                   \n",
       "до двух детей         6222   638                9.3%\n",
       "многодетный            349    31                8.2%\n",
       "бездетный            13028  1063                7.5%"
      ]
     },
     "execution_count": 73,
     "metadata": {},
     "output_type": "execute_result"
    }
   ],
   "source": [
    "data_debt_children = data.pivot_table(index=['children_category'], columns='debt', values='children', aggfunc='count') \n",
    "data_debt_children.columns = ['no_debt', 'debt'] \n",
    "# создали таблицу и столбцы сводной таблицы\n",
    "data_debt_children['debt_children_share'] = data_debt_children['debt']/(data_debt_children['debt']\n",
    "                                                                        + data_debt_children['no_debt']) \n",
    "# написали форумулу для расчёта доли должников\n",
    "data_debt_children['debt_children_share'] = data_debt_children['debt_children_share'].map('{:.1%}'.format) \n",
    "#перевели долю в формат процентов\n",
    "data_debt_children.sort_values(by='debt_children_share', ascending=False) \n",
    "#отсортировали по убыванию\n"
   ]
  },
  {
   "cell_type": "markdown",
   "id": "975e36aa",
   "metadata": {
    "id": "3a6b99ec"
   },
   "source": [
    "**Вывод:  *У заёмщиков с одним или двумя детьми самый высокий риск появления задолженности по кредитам.***\n",
    "<br>\n",
    "У бездетных людей такая вероятность самая низкая. \n",
    "<br>\n",
    "У граждан с тремя и более детьми процент ниже, чем у людей-родителей одного или двух. Вероятно это связано с более скромной выборкой по этой категории в нашем случае, по которой трудно судить. Либо у таких семей есть более твёрдые финансовые возомжности благодаря государственным выплатам и пособиям, положенным для многодетных."
   ]
  },
  {
   "cell_type": "markdown",
   "id": "7cae9d93",
   "metadata": {
    "deletable": false,
    "editable": false,
    "id": "97be82ca"
   },
   "source": [
    "#### 3.2 Есть ли зависимость между семейным положением и возвратом кредита в срок?"
   ]
  },
  {
   "cell_type": "markdown",
   "id": "e6772400",
   "metadata": {},
   "source": [
    "**Проверим столбец family_status на наличие аномальных данных**"
   ]
  },
  {
   "cell_type": "code",
   "execution_count": 74,
   "id": "4f1e726c",
   "metadata": {
    "deletable": false,
    "id": "dc3f7ee8"
   },
   "outputs": [
    {
     "data": {
      "text/plain": [
       "count               21331\n",
       "unique                  5\n",
       "top       женат / замужем\n",
       "freq                12261\n",
       "Name: family_status, dtype: object"
      ]
     },
     "execution_count": 74,
     "metadata": {},
     "output_type": "execute_result"
    }
   ],
   "source": [
    "# запускаем функцию describe \n",
    "data['family_status'].describe()\n"
   ]
  },
  {
   "cell_type": "markdown",
   "id": "d4587f61",
   "metadata": {},
   "source": [
    "Аномальных данных не обнаружено, уникальных значений 5, поэтому обойдёмся без категоризации."
   ]
  },
  {
   "cell_type": "code",
   "execution_count": 75,
   "id": "8dad8649",
   "metadata": {
    "id": "2cacfc4a",
    "scrolled": true
   },
   "outputs": [
    {
     "name": "stdout",
     "output_type": "stream",
     "text": [
      "                       no_debt  debt debt_family_share\n",
      "family_status                                         \n",
      "Не женат / не замужем     2523   273              9.8%\n",
      "гражданский брак          3749   385              9.3%\n",
      "женат / замужем          11334   927              7.6%\n",
      "в разводе                 1105    84              7.1%\n",
      "вдовец / вдова             888    63              6.6%\n"
     ]
    }
   ],
   "source": [
    "data_debt_family = data.pivot_table(index=['family_status'], columns='debt',\n",
    "                                    values='family_status_id', aggfunc='count')\n",
    "data_debt_family.columns = ['no_debt', 'debt']\n",
    "# создали таблицу и столбцы сводной таблицы\n",
    "data_debt_family['debt_family_share'] = data_debt_family['debt'] / (data_debt_family['debt'] + data_debt_family['no_debt'])\n",
    "# написали формулу для расчёта доли должников\n",
    "data_debt_family['debt_family_share'] = data_debt_family['debt_family_share'].map('{:.1%}'.format)\n",
    "# перевели долю в формат процентов\n",
    "data_debt_family_sorted = data_debt_family.sort_values(by='debt_family_share', ascending=False)\n",
    "# отсортировали по убыванию\n",
    "\n",
    "print(data_debt_family_sorted)\n"
   ]
  },
  {
   "cell_type": "markdown",
   "id": "566c65ce",
   "metadata": {
    "deletable": false,
    "id": "1cef7837"
   },
   "source": [
    "**Вывод:  *Больше всего подвержены риску стать должниками оказались неженатые/незамужние заёмщики.***\n",
    "<br>\n",
    "Остальные категории примерно с одинаковыми более низкими процентами. \n",
    "<br>\n",
    "С самым низким процентом должников оказалы вдовы/вдовцы. Это может быть связано с получением ими наследства от супруга, которыми они смогли распорядиться в пользу уплаты долгов."
   ]
  },
  {
   "cell_type": "markdown",
   "id": "f0c793a5",
   "metadata": {
    "deletable": false,
    "editable": false,
    "id": "1e8b2fca"
   },
   "source": [
    "#### 3.3 Есть ли зависимость между уровнем дохода и возвратом кредита в срок?"
   ]
  },
  {
   "cell_type": "markdown",
   "id": "b7bafbd0",
   "metadata": {},
   "source": [
    "**Проверим total_income на наличие аномальных данных**"
   ]
  },
  {
   "cell_type": "code",
   "execution_count": 76,
   "id": "17cc8247",
   "metadata": {
    "id": "dc3f7ee8"
   },
   "outputs": [
    {
     "data": {
      "text/plain": [
       "count    2.133100e+04\n",
       "mean     1.653427e+05\n",
       "std      9.831399e+04\n",
       "min      2.066700e+04\n",
       "25%      1.075070e+05\n",
       "50%      1.425940e+05\n",
       "75%      1.958420e+05\n",
       "max      2.265604e+06\n",
       "Name: total_income, dtype: float64"
      ]
     },
     "execution_count": 76,
     "metadata": {},
     "output_type": "execute_result"
    }
   ],
   "source": [
    "# запускаем describe \n",
    "data['total_income'].describe()\n"
   ]
  },
  {
   "cell_type": "markdown",
   "id": "26eacaf8",
   "metadata": {},
   "source": [
    "Аномальных данных не обнаружено, приступаем к сводной таблице."
   ]
  },
  {
   "cell_type": "markdown",
   "id": "e2fa491a",
   "metadata": {},
   "source": [
    "Ранее в датафрейме уже был создан дополнительный столбец с категориями уровня дохода. \n",
    "<br>\n",
    "Вспомним, по каким правилам на какие категории мы тогда распределили данные:\n",
    "<br>\n",
    "- 0–30000 — 'E';\n",
    "- 30001–50000 — 'D';\n",
    "- 50001–200000 — 'C';\n",
    "- 200001–1000000 — 'B';\n",
    "- 1000001 и выше — 'A'."
   ]
  },
  {
   "cell_type": "markdown",
   "id": "06e27a85",
   "metadata": {
    "id": "3a6b99ec"
   },
   "source": [
    "**Создаём сводную таблицу методом pivot_table()** "
   ]
  },
  {
   "cell_type": "code",
   "execution_count": 77,
   "id": "5ad71cf3",
   "metadata": {},
   "outputs": [
    {
     "data": {
      "text/html": [
       "<div>\n",
       "<style scoped>\n",
       "    .dataframe tbody tr th:only-of-type {\n",
       "        vertical-align: middle;\n",
       "    }\n",
       "\n",
       "    .dataframe tbody tr th {\n",
       "        vertical-align: top;\n",
       "    }\n",
       "\n",
       "    .dataframe thead th {\n",
       "        text-align: right;\n",
       "    }\n",
       "</style>\n",
       "<table border=\"1\" class=\"dataframe\">\n",
       "  <thead>\n",
       "    <tr style=\"text-align: right;\">\n",
       "      <th></th>\n",
       "      <th>no_debt</th>\n",
       "      <th>debt</th>\n",
       "      <th>debt_income_share</th>\n",
       "    </tr>\n",
       "    <tr>\n",
       "      <th>total_income_category</th>\n",
       "      <th></th>\n",
       "      <th></th>\n",
       "      <th></th>\n",
       "    </tr>\n",
       "  </thead>\n",
       "  <tbody>\n",
       "    <tr>\n",
       "      <th>A</th>\n",
       "      <td>23</td>\n",
       "      <td>2</td>\n",
       "      <td>8.0%</td>\n",
       "    </tr>\n",
       "    <tr>\n",
       "      <th>B</th>\n",
       "      <td>4660</td>\n",
       "      <td>354</td>\n",
       "      <td>7.1%</td>\n",
       "    </tr>\n",
       "    <tr>\n",
       "      <th>C</th>\n",
       "      <td>14568</td>\n",
       "      <td>1353</td>\n",
       "      <td>8.5%</td>\n",
       "    </tr>\n",
       "    <tr>\n",
       "      <th>D</th>\n",
       "      <td>328</td>\n",
       "      <td>21</td>\n",
       "      <td>6.0%</td>\n",
       "    </tr>\n",
       "    <tr>\n",
       "      <th>E</th>\n",
       "      <td>20</td>\n",
       "      <td>2</td>\n",
       "      <td>9.1%</td>\n",
       "    </tr>\n",
       "  </tbody>\n",
       "</table>\n",
       "</div>"
      ],
      "text/plain": [
       "                       no_debt  debt debt_income_share\n",
       "total_income_category                                 \n",
       "A                           23     2              8.0%\n",
       "B                         4660   354              7.1%\n",
       "C                        14568  1353              8.5%\n",
       "D                          328    21              6.0%\n",
       "E                           20     2              9.1%"
      ]
     },
     "execution_count": 77,
     "metadata": {},
     "output_type": "execute_result"
    }
   ],
   "source": [
    "data_debt_income = data.pivot_table(index=['total_income_category'], columns='debt', values='total_income', aggfunc='count') \n",
    "data_debt_income.columns = ['no_debt', 'debt'] \n",
    "# создали таблицу и столбцы сводной таблицы\n",
    "data_debt_income['debt_income_share'] = data_debt_income['debt'] / (data_debt_income['debt'] + data_debt_income['no_debt']) \n",
    "# написали форумулу для расчёта доли должников\n",
    "data_debt_income['debt_income_share'] = data_debt_income['debt_income_share'].map('{:.1%}'.format) \n",
    "#перевели долю в формат процентов\n",
    "data_debt_income.sort_values(by='debt_income_share', ascending=False) \n",
    "#отсортировали по убыванию\n",
    "data_debt_income"
   ]
  },
  {
   "cell_type": "markdown",
   "id": "6943448f",
   "metadata": {
    "deletable": false,
    "id": "e8593def"
   },
   "source": [
    "**Вывод:  *Самой опасной с точки зрения возврата денежных средства, взятых в кредит, оказалась категория со средним доходом величиной 50001–200000 р.*** \n",
    "<br> \n",
    "Следует также заметить, что эта категория самая массовая, что тоже может влиять на финальный результат. \n",
    "<br>\n",
    "Наименьший риск представляет собой категория D. Из-за маленьких выборок категории А и Е в представлении результатов не участвуют, учитывать их в выводах будет некорректно, поскольку людей, входящих в них оказалось намного меньше. "
   ]
  },
  {
   "cell_type": "markdown",
   "id": "4cb3f1b6",
   "metadata": {
    "deletable": false,
    "editable": false,
    "id": "99ecbd1f"
   },
   "source": [
    "#### 3.4 Как разные цели кредита влияют на его возврат в срок?"
   ]
  },
  {
   "cell_type": "markdown",
   "id": "7e3ad7a1",
   "metadata": {
    "id": "3a6b99ec"
   },
   "source": [
    "**Аналогичным образом для возможности анализа создадим сводную таблицу методом pivot_table()** "
   ]
  },
  {
   "cell_type": "code",
   "execution_count": 78,
   "id": "a9245b8a",
   "metadata": {
    "deletable": false,
    "id": "cd7e3720",
    "scrolled": true
   },
   "outputs": [
    {
     "data": {
      "text/html": [
       "<div>\n",
       "<style scoped>\n",
       "    .dataframe tbody tr th:only-of-type {\n",
       "        vertical-align: middle;\n",
       "    }\n",
       "\n",
       "    .dataframe tbody tr th {\n",
       "        vertical-align: top;\n",
       "    }\n",
       "\n",
       "    .dataframe thead th {\n",
       "        text-align: right;\n",
       "    }\n",
       "</style>\n",
       "<table border=\"1\" class=\"dataframe\">\n",
       "  <thead>\n",
       "    <tr style=\"text-align: right;\">\n",
       "      <th></th>\n",
       "      <th>no_debt</th>\n",
       "      <th>debt</th>\n",
       "      <th>debt_purpose_share</th>\n",
       "    </tr>\n",
       "    <tr>\n",
       "      <th>purpose_category</th>\n",
       "      <th></th>\n",
       "      <th></th>\n",
       "      <th></th>\n",
       "    </tr>\n",
       "  </thead>\n",
       "  <tbody>\n",
       "    <tr>\n",
       "      <th>операции с автомобилем</th>\n",
       "      <td>3879</td>\n",
       "      <td>400</td>\n",
       "      <td>9.3%</td>\n",
       "    </tr>\n",
       "    <tr>\n",
       "      <th>получение образования</th>\n",
       "      <td>3619</td>\n",
       "      <td>369</td>\n",
       "      <td>9.3%</td>\n",
       "    </tr>\n",
       "    <tr>\n",
       "      <th>проведение свадьбы</th>\n",
       "      <td>2130</td>\n",
       "      <td>183</td>\n",
       "      <td>7.9%</td>\n",
       "    </tr>\n",
       "    <tr>\n",
       "      <th>операции с недвижимостью</th>\n",
       "      <td>9971</td>\n",
       "      <td>780</td>\n",
       "      <td>7.3%</td>\n",
       "    </tr>\n",
       "  </tbody>\n",
       "</table>\n",
       "</div>"
      ],
      "text/plain": [
       "                          no_debt  debt debt_purpose_share\n",
       "purpose_category                                          \n",
       "операции с автомобилем       3879   400               9.3%\n",
       "получение образования        3619   369               9.3%\n",
       "проведение свадьбы           2130   183               7.9%\n",
       "операции с недвижимостью     9971   780               7.3%"
      ]
     },
     "execution_count": 78,
     "metadata": {},
     "output_type": "execute_result"
    }
   ],
   "source": [
    "data_debt_purpose = data.pivot_table(index=['purpose_category'], columns='debt', values='purpose', aggfunc='count') \n",
    "data_debt_purpose.columns = ['no_debt', 'debt'] \n",
    "# создали таблицу и столбцы сводной таблицы\n",
    "data_debt_purpose['debt_purpose_share'] = data_debt_purpose['debt'] / (data_debt_purpose['debt'] + data_debt_purpose['no_debt']) \n",
    "# написали форумулу для расчёта доли должников\n",
    "data_debt_purpose['debt_purpose_share'] = data_debt_purpose['debt_purpose_share'].map('{:.1%}'.format) \n",
    "#перевели долю в формат процентов\n",
    "data_debt_purpose.sort_values(by='debt_purpose_share', ascending=False) \n",
    "#отсортировали по убыванию\n"
   ]
  },
  {
   "cell_type": "markdown",
   "id": "47c0ebc4",
   "metadata": {
    "deletable": false,
    "id": "b4bb2ce6"
   },
   "source": [
    "**Вывод: *Становятся должниками с большей вероятностью те, кто берёт кредит на операции с автомобилеи и на образование. ***\n",
    "<br>\n",
    "У этих двух категорий почти одинаковый процент доли должников. \n",
    "<br>\n",
    "А те, кто берёт кредит с целью операций с недвижимостью и будущие молодожёны – более отвественные плательщики."
   ]
  },
  {
   "cell_type": "markdown",
   "id": "3f336154",
   "metadata": {
    "deletable": false,
    "editable": false,
    "id": "09c3ac4c"
   },
   "source": [
    "#### 3.5 Приведите возможные причины появления пропусков в исходных данных."
   ]
  },
  {
   "cell_type": "markdown",
   "id": "9196951e",
   "metadata": {
    "deletable": false,
    "id": "9da2ceda"
   },
   "source": [
    "*Ответ:* Причиной такой ситуации может послужить как человеческий фактор, так и технический сбой. \n",
    "<br>\n",
    "При заполнении, внесении данных наиболее возомжны ошибки, как по невнимательности, так и по неосведомлённости о правилах или случайности. \n",
    "<br>\n",
    "Возможны технические сбои при хранении, выгрузке, отправке и получении данных."
   ]
  },
  {
   "cell_type": "markdown",
   "id": "d8742590",
   "metadata": {
    "deletable": false,
    "editable": false,
    "id": "7b0487d6"
   },
   "source": [
    "#### 3.6 Объясните, почему заполнить пропуски медианным значением — лучшее решение для количественных переменных."
   ]
  },
  {
   "cell_type": "markdown",
   "id": "969139c4",
   "metadata": {
    "deletable": false,
    "id": "7ecf2b8e"
   },
   "source": [
    "*Ответ:* Медианное значение более справделиво для количественных переменных, поскольку не берёт в расчёт значения экструмумов, которые могут очень сильно отличаться от общей \"средней массы\" и при вычислении среднего значения дают некорректную картину."
   ]
  },
  {
   "cell_type": "markdown",
   "id": "47409508",
   "metadata": {
    "deletable": false,
    "editable": false,
    "id": "6db5255a"
   },
   "source": [
    "### Шаг 4: общий вывод."
   ]
  },
  {
   "cell_type": "markdown",
   "id": "589486f4",
   "metadata": {
    "deletable": false,
    "id": "bad65432"
   },
   "source": [
    "**Менее охотно выплачивают кредиты граждане из категорий:**\n",
    "<br>\n",
    "- с одним или двумя детьми;\n",
    "<br>\n",
    "- неженатые/незамужние заёмщики;\n",
    "<br>\n",
    "- со средним доходом 50001–200000 р;\n",
    "<br>\n",
    "- у кого цель кредита: на операции с автомобилем и на получение образования.\n",
    "<br>\n",
    "<br>\n",
    "\n",
    "**Самые добросовестные категории граждан по части выплат банкам:**\n",
    "<br>\n",
    "- бездетные;\n",
    "- вдовцы и вдовы;\n",
    "- у кого зарплата в диапазоне 30001–50000 р;\n",
    "- с целью кредита, взятого на операции с недвижимостью или свадьбу.\n",
    "<br>\n",
    "<br>"
   ]
  },
  {
   "cell_type": "markdown",
   "id": "1b0dd529",
   "metadata": {
    "deletable": false,
    "id": "2b687290"
   },
   "source": []
  }
 ],
 "metadata": {
  "ExecuteTimeLog": [
   {
    "duration": 47,
    "start_time": "2023-03-03T22:05:39.722Z"
   },
   {
    "duration": 6,
    "start_time": "2023-03-03T22:05:48.981Z"
   },
   {
    "duration": 7,
    "start_time": "2023-03-03T22:07:18.293Z"
   },
   {
    "duration": 8,
    "start_time": "2023-03-03T22:07:23.828Z"
   },
   {
    "duration": 482,
    "start_time": "2023-03-03T22:08:32.822Z"
   },
   {
    "duration": 24,
    "start_time": "2023-03-03T22:08:36.935Z"
   },
   {
    "duration": 16,
    "start_time": "2023-03-03T22:08:47.528Z"
   },
   {
    "duration": 553,
    "start_time": "2023-03-04T16:21:59.002Z"
   },
   {
    "duration": 28,
    "start_time": "2023-03-04T16:21:59.557Z"
   },
   {
    "duration": 22,
    "start_time": "2023-03-04T16:21:59.588Z"
   },
   {
    "duration": 11,
    "start_time": "2023-03-04T16:21:59.613Z"
   },
   {
    "duration": 54,
    "start_time": "2023-03-04T16:21:59.627Z"
   },
   {
    "duration": 4,
    "start_time": "2023-03-04T16:21:59.683Z"
   },
   {
    "duration": 33,
    "start_time": "2023-03-04T16:21:59.689Z"
   },
   {
    "duration": 6,
    "start_time": "2023-03-04T16:21:59.724Z"
   },
   {
    "duration": 9,
    "start_time": "2023-03-04T16:21:59.732Z"
   },
   {
    "duration": 5,
    "start_time": "2023-03-04T16:21:59.745Z"
   },
   {
    "duration": 37,
    "start_time": "2023-03-04T16:21:59.752Z"
   },
   {
    "duration": 36,
    "start_time": "2023-03-04T16:21:59.790Z"
   },
   {
    "duration": 4,
    "start_time": "2023-03-04T16:21:59.827Z"
   },
   {
    "duration": 18,
    "start_time": "2023-03-04T16:21:59.833Z"
   },
   {
    "duration": 29,
    "start_time": "2023-03-04T16:21:59.854Z"
   },
   {
    "duration": 53,
    "start_time": "2023-03-04T16:21:59.884Z"
   },
   {
    "duration": 4,
    "start_time": "2023-03-04T16:21:59.938Z"
   },
   {
    "duration": 12,
    "start_time": "2023-03-04T16:21:59.943Z"
   },
   {
    "duration": 21,
    "start_time": "2023-03-04T16:21:59.957Z"
   },
   {
    "duration": 3,
    "start_time": "2023-03-04T16:21:59.979Z"
   },
   {
    "duration": 25,
    "start_time": "2023-03-04T16:21:59.984Z"
   },
   {
    "duration": 19,
    "start_time": "2023-03-04T16:22:00.020Z"
   },
   {
    "duration": 4,
    "start_time": "2023-03-04T16:22:00.041Z"
   },
   {
    "duration": 5,
    "start_time": "2023-03-04T16:22:00.047Z"
   },
   {
    "duration": 7,
    "start_time": "2023-03-04T16:22:00.054Z"
   },
   {
    "duration": 17,
    "start_time": "2023-03-04T16:42:18.391Z"
   },
   {
    "duration": 68,
    "start_time": "2023-03-04T16:42:53.940Z"
   },
   {
    "duration": 7,
    "start_time": "2023-03-04T16:43:02.449Z"
   },
   {
    "duration": 17,
    "start_time": "2023-03-04T16:43:10.810Z"
   },
   {
    "duration": 12,
    "start_time": "2023-03-04T16:44:06.276Z"
   },
   {
    "duration": 14,
    "start_time": "2023-03-04T16:44:25.916Z"
   },
   {
    "duration": 16,
    "start_time": "2023-03-04T16:44:42.040Z"
   },
   {
    "duration": 35,
    "start_time": "2023-03-04T16:44:47.536Z"
   },
   {
    "duration": 9,
    "start_time": "2023-03-04T16:46:30.090Z"
   },
   {
    "duration": 14,
    "start_time": "2023-03-04T16:46:39.614Z"
   },
   {
    "duration": 11,
    "start_time": "2023-03-04T16:48:01.690Z"
   },
   {
    "duration": 49,
    "start_time": "2023-03-04T16:52:55.003Z"
   },
   {
    "duration": 11,
    "start_time": "2023-03-04T16:58:41.221Z"
   },
   {
    "duration": 4,
    "start_time": "2023-03-04T19:19:43.434Z"
   },
   {
    "duration": 46,
    "start_time": "2023-03-04T19:26:56.621Z"
   },
   {
    "duration": 3,
    "start_time": "2023-03-04T19:48:17.739Z"
   },
   {
    "duration": 3,
    "start_time": "2023-03-04T19:48:24.257Z"
   },
   {
    "duration": 3,
    "start_time": "2023-03-04T19:48:28.155Z"
   },
   {
    "duration": 3,
    "start_time": "2023-03-04T19:48:35.621Z"
   },
   {
    "duration": 3,
    "start_time": "2023-03-04T19:48:57.058Z"
   },
   {
    "duration": 3,
    "start_time": "2023-03-04T19:49:01.159Z"
   },
   {
    "duration": 3,
    "start_time": "2023-03-04T19:49:06.794Z"
   },
   {
    "duration": 73,
    "start_time": "2023-03-04T19:49:14.292Z"
   },
   {
    "duration": 16,
    "start_time": "2023-03-04T19:49:14.368Z"
   },
   {
    "duration": 37,
    "start_time": "2023-03-04T19:49:14.387Z"
   },
   {
    "duration": 12,
    "start_time": "2023-03-04T19:49:14.427Z"
   },
   {
    "duration": 43,
    "start_time": "2023-03-04T19:49:14.441Z"
   },
   {
    "duration": 3,
    "start_time": "2023-03-04T19:49:14.486Z"
   },
   {
    "duration": 30,
    "start_time": "2023-03-04T19:49:14.491Z"
   },
   {
    "duration": 5,
    "start_time": "2023-03-04T19:49:14.523Z"
   },
   {
    "duration": 14,
    "start_time": "2023-03-04T19:49:14.530Z"
   },
   {
    "duration": 4,
    "start_time": "2023-03-04T19:49:14.546Z"
   },
   {
    "duration": 40,
    "start_time": "2023-03-04T19:49:14.552Z"
   },
   {
    "duration": 8,
    "start_time": "2023-03-04T19:49:14.594Z"
   },
   {
    "duration": 17,
    "start_time": "2023-03-04T19:49:14.604Z"
   },
   {
    "duration": 10,
    "start_time": "2023-03-04T19:49:14.622Z"
   },
   {
    "duration": 26,
    "start_time": "2023-03-04T19:49:14.634Z"
   },
   {
    "duration": 17,
    "start_time": "2023-03-04T19:49:14.662Z"
   },
   {
    "duration": 3,
    "start_time": "2023-03-04T19:49:14.681Z"
   },
   {
    "duration": 35,
    "start_time": "2023-03-04T19:49:14.686Z"
   },
   {
    "duration": 5,
    "start_time": "2023-03-04T19:49:14.723Z"
   },
   {
    "duration": 3,
    "start_time": "2023-03-04T19:49:14.730Z"
   },
   {
    "duration": 22,
    "start_time": "2023-03-04T19:49:14.734Z"
   },
   {
    "duration": 8,
    "start_time": "2023-03-04T19:49:14.757Z"
   },
   {
    "duration": 8,
    "start_time": "2023-03-04T19:49:14.767Z"
   },
   {
    "duration": 3,
    "start_time": "2023-03-04T19:49:14.776Z"
   },
   {
    "duration": 43,
    "start_time": "2023-03-04T19:49:14.780Z"
   },
   {
    "duration": 5,
    "start_time": "2023-03-04T19:49:14.824Z"
   },
   {
    "duration": 4,
    "start_time": "2023-03-04T19:49:14.830Z"
   },
   {
    "duration": 3,
    "start_time": "2023-03-04T19:49:14.837Z"
   },
   {
    "duration": 9,
    "start_time": "2023-03-04T19:49:14.842Z"
   },
   {
    "duration": 0,
    "start_time": "2023-03-04T19:49:14.853Z"
   },
   {
    "duration": 0,
    "start_time": "2023-03-04T19:49:14.854Z"
   },
   {
    "duration": 0,
    "start_time": "2023-03-04T19:49:14.856Z"
   },
   {
    "duration": 0,
    "start_time": "2023-03-04T19:49:14.857Z"
   },
   {
    "duration": 3,
    "start_time": "2023-03-04T19:49:34.722Z"
   },
   {
    "duration": 4,
    "start_time": "2023-03-04T19:49:39.410Z"
   },
   {
    "duration": 3,
    "start_time": "2023-03-04T19:49:43.256Z"
   },
   {
    "duration": 3,
    "start_time": "2023-03-04T19:50:31.125Z"
   },
   {
    "duration": 3,
    "start_time": "2023-03-04T19:50:35.186Z"
   },
   {
    "duration": 3,
    "start_time": "2023-03-04T19:50:38.097Z"
   },
   {
    "duration": 9,
    "start_time": "2023-03-04T19:53:17.050Z"
   },
   {
    "duration": 7,
    "start_time": "2023-03-04T19:53:31.126Z"
   },
   {
    "duration": 11,
    "start_time": "2023-03-04T19:53:33.404Z"
   },
   {
    "duration": 22,
    "start_time": "2023-03-04T20:16:12.586Z"
   },
   {
    "duration": 591,
    "start_time": "2023-03-04T20:16:44.891Z"
   },
   {
    "duration": 19,
    "start_time": "2023-03-04T20:19:57.984Z"
   },
   {
    "duration": 24,
    "start_time": "2023-03-04T20:20:42.654Z"
   },
   {
    "duration": 24,
    "start_time": "2023-03-04T20:21:48.491Z"
   },
   {
    "duration": 33,
    "start_time": "2023-03-04T20:21:59.576Z"
   },
   {
    "duration": 18,
    "start_time": "2023-03-04T20:22:57.529Z"
   },
   {
    "duration": 34,
    "start_time": "2023-03-04T20:23:16.433Z"
   },
   {
    "duration": 16,
    "start_time": "2023-03-04T20:23:33.729Z"
   },
   {
    "duration": 19,
    "start_time": "2023-03-04T20:24:03.138Z"
   },
   {
    "duration": 28,
    "start_time": "2023-03-04T20:24:07.474Z"
   },
   {
    "duration": 71,
    "start_time": "2023-03-04T20:24:22.763Z"
   },
   {
    "duration": 15,
    "start_time": "2023-03-04T20:24:22.837Z"
   },
   {
    "duration": 28,
    "start_time": "2023-03-04T20:24:22.854Z"
   },
   {
    "duration": 15,
    "start_time": "2023-03-04T20:24:22.883Z"
   },
   {
    "duration": 51,
    "start_time": "2023-03-04T20:24:22.900Z"
   },
   {
    "duration": 4,
    "start_time": "2023-03-04T20:24:22.953Z"
   },
   {
    "duration": 16,
    "start_time": "2023-03-04T20:24:22.958Z"
   },
   {
    "duration": 5,
    "start_time": "2023-03-04T20:24:22.975Z"
   },
   {
    "duration": 10,
    "start_time": "2023-03-04T20:24:22.981Z"
   },
   {
    "duration": 6,
    "start_time": "2023-03-04T20:24:23.021Z"
   },
   {
    "duration": 53,
    "start_time": "2023-03-04T20:24:23.029Z"
   },
   {
    "duration": 16,
    "start_time": "2023-03-04T20:24:23.084Z"
   },
   {
    "duration": 5,
    "start_time": "2023-03-04T20:24:23.121Z"
   },
   {
    "duration": 26,
    "start_time": "2023-03-04T20:24:23.130Z"
   },
   {
    "duration": 23,
    "start_time": "2023-03-04T20:24:23.158Z"
   },
   {
    "duration": 44,
    "start_time": "2023-03-04T20:24:23.183Z"
   },
   {
    "duration": 4,
    "start_time": "2023-03-04T20:24:23.229Z"
   },
   {
    "duration": 28,
    "start_time": "2023-03-04T20:24:23.235Z"
   },
   {
    "duration": 15,
    "start_time": "2023-03-04T20:24:23.266Z"
   },
   {
    "duration": 4,
    "start_time": "2023-03-04T20:24:23.283Z"
   },
   {
    "duration": 53,
    "start_time": "2023-03-04T20:24:23.289Z"
   },
   {
    "duration": 10,
    "start_time": "2023-03-04T20:24:23.344Z"
   },
   {
    "duration": 9,
    "start_time": "2023-03-04T20:24:23.355Z"
   },
   {
    "duration": 4,
    "start_time": "2023-03-04T20:24:23.365Z"
   },
   {
    "duration": 6,
    "start_time": "2023-03-04T20:24:23.371Z"
   },
   {
    "duration": 5,
    "start_time": "2023-03-04T20:24:23.378Z"
   },
   {
    "duration": 38,
    "start_time": "2023-03-04T20:24:23.385Z"
   },
   {
    "duration": 6,
    "start_time": "2023-03-04T20:24:23.425Z"
   },
   {
    "duration": 11,
    "start_time": "2023-03-04T20:24:23.432Z"
   },
   {
    "duration": 13,
    "start_time": "2023-03-04T20:24:23.446Z"
   },
   {
    "duration": 31,
    "start_time": "2023-03-04T20:24:23.462Z"
   },
   {
    "duration": 2,
    "start_time": "2023-03-04T20:24:23.522Z"
   },
   {
    "duration": 4,
    "start_time": "2023-03-04T20:24:23.526Z"
   },
   {
    "duration": 4,
    "start_time": "2023-03-04T20:24:23.533Z"
   },
   {
    "duration": 31,
    "start_time": "2023-03-04T20:25:11.507Z"
   },
   {
    "duration": 28,
    "start_time": "2023-03-04T20:26:09.615Z"
   },
   {
    "duration": 20,
    "start_time": "2023-03-04T20:26:21.549Z"
   },
   {
    "duration": 21,
    "start_time": "2023-03-04T20:27:19.023Z"
   },
   {
    "duration": 20,
    "start_time": "2023-03-04T20:35:01.585Z"
   },
   {
    "duration": 14,
    "start_time": "2023-03-04T21:26:56.911Z"
   },
   {
    "duration": 23,
    "start_time": "2023-03-04T21:36:00.338Z"
   },
   {
    "duration": 22,
    "start_time": "2023-03-04T21:36:18.490Z"
   },
   {
    "duration": 16,
    "start_time": "2023-03-04T21:42:44.402Z"
   },
   {
    "duration": 22,
    "start_time": "2023-03-04T21:51:47.991Z"
   },
   {
    "duration": 32,
    "start_time": "2023-03-04T21:53:29.449Z"
   },
   {
    "duration": 22,
    "start_time": "2023-03-04T21:53:48.828Z"
   },
   {
    "duration": 16,
    "start_time": "2023-03-04T22:02:18.337Z"
   },
   {
    "duration": 22,
    "start_time": "2023-03-04T22:02:29.904Z"
   },
   {
    "duration": 71,
    "start_time": "2023-03-04T22:03:22.221Z"
   },
   {
    "duration": 16,
    "start_time": "2023-03-04T22:03:22.294Z"
   },
   {
    "duration": 17,
    "start_time": "2023-03-04T22:03:22.312Z"
   },
   {
    "duration": 10,
    "start_time": "2023-03-04T22:03:22.331Z"
   },
   {
    "duration": 35,
    "start_time": "2023-03-04T22:03:22.343Z"
   },
   {
    "duration": 3,
    "start_time": "2023-03-04T22:03:22.380Z"
   },
   {
    "duration": 43,
    "start_time": "2023-03-04T22:03:22.385Z"
   },
   {
    "duration": 9,
    "start_time": "2023-03-04T22:03:22.429Z"
   },
   {
    "duration": 12,
    "start_time": "2023-03-04T22:03:22.439Z"
   },
   {
    "duration": 7,
    "start_time": "2023-03-04T22:03:22.452Z"
   },
   {
    "duration": 63,
    "start_time": "2023-03-04T22:03:22.461Z"
   },
   {
    "duration": 10,
    "start_time": "2023-03-04T22:03:22.525Z"
   },
   {
    "duration": 10,
    "start_time": "2023-03-04T22:03:22.537Z"
   },
   {
    "duration": 13,
    "start_time": "2023-03-04T22:03:22.550Z"
   },
   {
    "duration": 24,
    "start_time": "2023-03-04T22:03:22.565Z"
   },
   {
    "duration": 35,
    "start_time": "2023-03-04T22:03:22.591Z"
   },
   {
    "duration": 4,
    "start_time": "2023-03-04T22:03:22.628Z"
   },
   {
    "duration": 12,
    "start_time": "2023-03-04T22:03:22.633Z"
   },
   {
    "duration": 7,
    "start_time": "2023-03-04T22:03:22.647Z"
   },
   {
    "duration": 4,
    "start_time": "2023-03-04T22:03:22.656Z"
   },
   {
    "duration": 38,
    "start_time": "2023-03-04T22:03:22.661Z"
   },
   {
    "duration": 9,
    "start_time": "2023-03-04T22:03:22.721Z"
   },
   {
    "duration": 9,
    "start_time": "2023-03-04T22:03:22.732Z"
   },
   {
    "duration": 4,
    "start_time": "2023-03-04T22:03:22.742Z"
   },
   {
    "duration": 23,
    "start_time": "2023-03-04T22:03:22.748Z"
   },
   {
    "duration": 5,
    "start_time": "2023-03-04T22:03:22.773Z"
   },
   {
    "duration": 5,
    "start_time": "2023-03-04T22:03:22.779Z"
   },
   {
    "duration": 4,
    "start_time": "2023-03-04T22:03:22.785Z"
   },
   {
    "duration": 30,
    "start_time": "2023-03-04T22:03:22.791Z"
   },
   {
    "duration": 9,
    "start_time": "2023-03-04T22:03:22.824Z"
   },
   {
    "duration": 16,
    "start_time": "2023-03-04T22:03:22.835Z"
   },
   {
    "duration": 25,
    "start_time": "2023-03-04T22:03:22.853Z"
   },
   {
    "duration": 47,
    "start_time": "2023-03-04T22:03:22.879Z"
   },
   {
    "duration": 3,
    "start_time": "2023-03-04T22:03:22.928Z"
   },
   {
    "duration": 74,
    "start_time": "2023-03-04T22:03:30.133Z"
   },
   {
    "duration": 16,
    "start_time": "2023-03-04T22:03:30.209Z"
   },
   {
    "duration": 43,
    "start_time": "2023-03-04T22:03:30.227Z"
   },
   {
    "duration": 14,
    "start_time": "2023-03-04T22:03:30.272Z"
   },
   {
    "duration": 60,
    "start_time": "2023-03-04T22:03:30.289Z"
   },
   {
    "duration": 4,
    "start_time": "2023-03-04T22:03:30.351Z"
   },
   {
    "duration": 36,
    "start_time": "2023-03-04T22:03:30.357Z"
   },
   {
    "duration": 70,
    "start_time": "2023-03-04T22:03:30.395Z"
   },
   {
    "duration": 15,
    "start_time": "2023-03-04T22:03:30.467Z"
   },
   {
    "duration": 35,
    "start_time": "2023-03-04T22:03:30.484Z"
   },
   {
    "duration": 58,
    "start_time": "2023-03-04T22:03:30.521Z"
   },
   {
    "duration": 15,
    "start_time": "2023-03-04T22:03:30.581Z"
   },
   {
    "duration": 35,
    "start_time": "2023-03-04T22:03:30.598Z"
   },
   {
    "duration": 11,
    "start_time": "2023-03-04T22:03:30.687Z"
   },
   {
    "duration": 46,
    "start_time": "2023-03-04T22:03:30.700Z"
   },
   {
    "duration": 27,
    "start_time": "2023-03-04T22:03:30.748Z"
   },
   {
    "duration": 14,
    "start_time": "2023-03-04T22:03:30.777Z"
   },
   {
    "duration": 32,
    "start_time": "2023-03-04T22:03:30.793Z"
   },
   {
    "duration": 42,
    "start_time": "2023-03-04T22:03:30.827Z"
   },
   {
    "duration": 52,
    "start_time": "2023-03-04T22:03:30.871Z"
   },
   {
    "duration": 46,
    "start_time": "2023-03-04T22:03:30.925Z"
   },
   {
    "duration": 17,
    "start_time": "2023-03-04T22:03:30.973Z"
   },
   {
    "duration": 23,
    "start_time": "2023-03-04T22:03:30.992Z"
   },
   {
    "duration": 15,
    "start_time": "2023-03-04T22:03:31.017Z"
   },
   {
    "duration": 24,
    "start_time": "2023-03-04T22:03:31.034Z"
   },
   {
    "duration": 14,
    "start_time": "2023-03-04T22:03:31.060Z"
   },
   {
    "duration": 7,
    "start_time": "2023-03-04T22:03:31.076Z"
   },
   {
    "duration": 10,
    "start_time": "2023-03-04T22:03:31.084Z"
   },
   {
    "duration": 20,
    "start_time": "2023-03-04T22:03:31.096Z"
   },
   {
    "duration": 36,
    "start_time": "2023-03-04T22:03:31.118Z"
   },
   {
    "duration": 13,
    "start_time": "2023-03-04T22:03:31.155Z"
   },
   {
    "duration": 39,
    "start_time": "2023-03-04T22:03:31.170Z"
   },
   {
    "duration": 32,
    "start_time": "2023-03-04T22:03:31.211Z"
   },
   {
    "duration": 3,
    "start_time": "2023-03-04T22:03:31.244Z"
   },
   {
    "duration": 32,
    "start_time": "2023-03-04T22:11:37.304Z"
   },
   {
    "duration": 9,
    "start_time": "2023-03-04T22:14:08.037Z"
   },
   {
    "duration": 5,
    "start_time": "2023-03-04T22:16:10.332Z"
   },
   {
    "duration": 10,
    "start_time": "2023-03-04T22:16:22.014Z"
   },
   {
    "duration": 23,
    "start_time": "2023-03-04T22:18:45.917Z"
   },
   {
    "duration": 71,
    "start_time": "2023-03-04T22:18:58.577Z"
   },
   {
    "duration": 16,
    "start_time": "2023-03-04T22:18:58.650Z"
   },
   {
    "duration": 16,
    "start_time": "2023-03-04T22:18:58.668Z"
   },
   {
    "duration": 36,
    "start_time": "2023-03-04T22:18:58.686Z"
   },
   {
    "duration": 33,
    "start_time": "2023-03-04T22:18:58.724Z"
   },
   {
    "duration": 4,
    "start_time": "2023-03-04T22:18:58.758Z"
   },
   {
    "duration": 9,
    "start_time": "2023-03-04T22:18:58.763Z"
   },
   {
    "duration": 4,
    "start_time": "2023-03-04T22:18:58.773Z"
   },
   {
    "duration": 8,
    "start_time": "2023-03-04T22:18:58.779Z"
   },
   {
    "duration": 33,
    "start_time": "2023-03-04T22:18:58.790Z"
   },
   {
    "duration": 36,
    "start_time": "2023-03-04T22:18:58.824Z"
   },
   {
    "duration": 10,
    "start_time": "2023-03-04T22:18:58.861Z"
   },
   {
    "duration": 3,
    "start_time": "2023-03-04T22:18:58.873Z"
   },
   {
    "duration": 11,
    "start_time": "2023-03-04T22:18:58.878Z"
   },
   {
    "duration": 45,
    "start_time": "2023-03-04T22:18:58.891Z"
   },
   {
    "duration": 20,
    "start_time": "2023-03-04T22:18:58.937Z"
   },
   {
    "duration": 4,
    "start_time": "2023-03-04T22:18:58.959Z"
   },
   {
    "duration": 13,
    "start_time": "2023-03-04T22:18:58.965Z"
   },
   {
    "duration": 10,
    "start_time": "2023-03-04T22:18:58.980Z"
   },
   {
    "duration": 31,
    "start_time": "2023-03-04T22:18:58.991Z"
   },
   {
    "duration": 25,
    "start_time": "2023-03-04T22:18:59.023Z"
   },
   {
    "duration": 8,
    "start_time": "2023-03-04T22:18:59.049Z"
   },
   {
    "duration": 13,
    "start_time": "2023-03-04T22:18:59.059Z"
   },
   {
    "duration": 4,
    "start_time": "2023-03-04T22:18:59.073Z"
   },
   {
    "duration": 4,
    "start_time": "2023-03-04T22:18:59.078Z"
   },
   {
    "duration": 37,
    "start_time": "2023-03-04T22:18:59.084Z"
   },
   {
    "duration": 4,
    "start_time": "2023-03-04T22:18:59.123Z"
   },
   {
    "duration": 4,
    "start_time": "2023-03-04T22:18:59.130Z"
   },
   {
    "duration": 11,
    "start_time": "2023-03-04T22:18:59.136Z"
   },
   {
    "duration": 9,
    "start_time": "2023-03-04T22:18:59.149Z"
   },
   {
    "duration": 64,
    "start_time": "2023-03-04T22:18:59.159Z"
   },
   {
    "duration": 9,
    "start_time": "2023-03-04T22:18:59.224Z"
   },
   {
    "duration": 24,
    "start_time": "2023-03-04T22:18:59.235Z"
   },
   {
    "duration": 9,
    "start_time": "2023-03-04T22:18:59.260Z"
   },
   {
    "duration": 20,
    "start_time": "2023-03-04T22:18:59.270Z"
   },
   {
    "duration": 23,
    "start_time": "2023-03-04T22:18:59.322Z"
   },
   {
    "duration": 82,
    "start_time": "2023-03-04T22:20:33.361Z"
   },
   {
    "duration": 16,
    "start_time": "2023-03-04T22:20:33.528Z"
   },
   {
    "duration": 15,
    "start_time": "2023-03-04T22:20:33.546Z"
   },
   {
    "duration": 10,
    "start_time": "2023-03-04T22:20:33.563Z"
   },
   {
    "duration": 56,
    "start_time": "2023-03-04T22:20:33.575Z"
   },
   {
    "duration": 4,
    "start_time": "2023-03-04T22:20:33.634Z"
   },
   {
    "duration": 11,
    "start_time": "2023-03-04T22:20:33.639Z"
   },
   {
    "duration": 11,
    "start_time": "2023-03-04T22:20:33.652Z"
   },
   {
    "duration": 7,
    "start_time": "2023-03-04T22:20:33.665Z"
   },
   {
    "duration": 5,
    "start_time": "2023-03-04T22:20:33.674Z"
   },
   {
    "duration": 59,
    "start_time": "2023-03-04T22:20:33.681Z"
   },
   {
    "duration": 9,
    "start_time": "2023-03-04T22:20:33.742Z"
   },
   {
    "duration": 4,
    "start_time": "2023-03-04T22:20:33.752Z"
   },
   {
    "duration": 11,
    "start_time": "2023-03-04T22:20:33.757Z"
   },
   {
    "duration": 18,
    "start_time": "2023-03-04T22:20:33.771Z"
   },
   {
    "duration": 53,
    "start_time": "2023-03-04T22:20:33.791Z"
   },
   {
    "duration": 8,
    "start_time": "2023-03-04T22:20:33.845Z"
   },
   {
    "duration": 18,
    "start_time": "2023-03-04T22:20:33.855Z"
   },
   {
    "duration": 8,
    "start_time": "2023-03-04T22:20:33.875Z"
   },
   {
    "duration": 4,
    "start_time": "2023-03-04T22:20:33.885Z"
   },
   {
    "duration": 47,
    "start_time": "2023-03-04T22:20:33.891Z"
   },
   {
    "duration": 10,
    "start_time": "2023-03-04T22:20:33.940Z"
   },
   {
    "duration": 9,
    "start_time": "2023-03-04T22:20:33.952Z"
   },
   {
    "duration": 16,
    "start_time": "2023-03-04T22:20:33.962Z"
   },
   {
    "duration": 4,
    "start_time": "2023-03-04T22:20:33.980Z"
   },
   {
    "duration": 4,
    "start_time": "2023-03-04T22:20:33.985Z"
   },
   {
    "duration": 3,
    "start_time": "2023-03-04T22:20:33.991Z"
   },
   {
    "duration": 10,
    "start_time": "2023-03-04T22:20:34.022Z"
   },
   {
    "duration": 20,
    "start_time": "2023-03-04T22:20:34.034Z"
   },
   {
    "duration": 9,
    "start_time": "2023-03-04T22:20:34.056Z"
   },
   {
    "duration": 29,
    "start_time": "2023-03-04T22:20:34.067Z"
   },
   {
    "duration": 28,
    "start_time": "2023-03-04T22:20:34.098Z"
   },
   {
    "duration": 23,
    "start_time": "2023-03-04T22:20:34.128Z"
   },
   {
    "duration": 11,
    "start_time": "2023-03-04T22:20:34.152Z"
   },
   {
    "duration": 61,
    "start_time": "2023-03-04T22:20:34.165Z"
   },
   {
    "duration": 25,
    "start_time": "2023-03-04T22:20:34.228Z"
   },
   {
    "duration": 488,
    "start_time": "2023-03-04T22:42:33.387Z"
   },
   {
    "duration": 21,
    "start_time": "2023-03-04T22:42:33.877Z"
   },
   {
    "duration": 16,
    "start_time": "2023-03-04T22:42:33.899Z"
   },
   {
    "duration": 13,
    "start_time": "2023-03-04T22:42:33.918Z"
   },
   {
    "duration": 31,
    "start_time": "2023-03-04T22:42:33.933Z"
   },
   {
    "duration": 4,
    "start_time": "2023-03-04T22:42:33.965Z"
   },
   {
    "duration": 16,
    "start_time": "2023-03-04T22:42:33.970Z"
   },
   {
    "duration": 28,
    "start_time": "2023-03-04T22:42:33.987Z"
   },
   {
    "duration": 12,
    "start_time": "2023-03-04T22:42:34.017Z"
   },
   {
    "duration": 6,
    "start_time": "2023-03-04T22:42:34.032Z"
   },
   {
    "duration": 33,
    "start_time": "2023-03-04T22:42:34.039Z"
   },
   {
    "duration": 9,
    "start_time": "2023-03-04T22:42:34.073Z"
   },
   {
    "duration": 35,
    "start_time": "2023-03-04T22:42:34.084Z"
   },
   {
    "duration": 14,
    "start_time": "2023-03-04T22:42:34.120Z"
   },
   {
    "duration": 24,
    "start_time": "2023-03-04T22:42:34.136Z"
   },
   {
    "duration": 20,
    "start_time": "2023-03-04T22:42:34.162Z"
   },
   {
    "duration": 4,
    "start_time": "2023-03-04T22:42:34.212Z"
   },
   {
    "duration": 11,
    "start_time": "2023-03-04T22:42:34.218Z"
   },
   {
    "duration": 7,
    "start_time": "2023-03-04T22:42:34.231Z"
   },
   {
    "duration": 4,
    "start_time": "2023-03-04T22:42:34.239Z"
   },
   {
    "duration": 23,
    "start_time": "2023-03-04T22:42:34.245Z"
   },
   {
    "duration": 43,
    "start_time": "2023-03-04T22:42:34.270Z"
   },
   {
    "duration": 9,
    "start_time": "2023-03-04T22:42:34.315Z"
   },
   {
    "duration": 4,
    "start_time": "2023-03-04T22:42:34.326Z"
   },
   {
    "duration": 3,
    "start_time": "2023-03-04T22:42:34.332Z"
   },
   {
    "duration": 6,
    "start_time": "2023-03-04T22:42:34.337Z"
   },
   {
    "duration": 3,
    "start_time": "2023-03-04T22:42:34.345Z"
   },
   {
    "duration": 4,
    "start_time": "2023-03-04T22:42:34.352Z"
   },
   {
    "duration": 9,
    "start_time": "2023-03-04T22:42:34.357Z"
   },
   {
    "duration": 49,
    "start_time": "2023-03-04T22:42:34.368Z"
   },
   {
    "duration": 25,
    "start_time": "2023-03-04T22:42:34.419Z"
   },
   {
    "duration": 8,
    "start_time": "2023-03-04T22:42:34.446Z"
   },
   {
    "duration": 21,
    "start_time": "2023-03-04T22:42:34.456Z"
   },
   {
    "duration": 39,
    "start_time": "2023-03-04T22:42:34.478Z"
   },
   {
    "duration": 17,
    "start_time": "2023-03-04T22:42:34.519Z"
   },
   {
    "duration": 20,
    "start_time": "2023-03-04T22:42:34.538Z"
   },
   {
    "duration": 81,
    "start_time": "2023-03-05T20:23:26.031Z"
   },
   {
    "duration": 46,
    "start_time": "2023-03-05T20:23:57.206Z"
   },
   {
    "duration": 53,
    "start_time": "2023-03-05T20:44:19.417Z"
   },
   {
    "duration": 8,
    "start_time": "2023-03-05T20:44:37.361Z"
   },
   {
    "duration": 524,
    "start_time": "2023-03-05T20:45:00.378Z"
   },
   {
    "duration": 23,
    "start_time": "2023-03-05T20:45:00.904Z"
   },
   {
    "duration": 13,
    "start_time": "2023-03-05T20:45:00.929Z"
   },
   {
    "duration": 8,
    "start_time": "2023-03-05T20:45:00.944Z"
   },
   {
    "duration": 51,
    "start_time": "2023-03-05T20:45:00.954Z"
   },
   {
    "duration": 3,
    "start_time": "2023-03-05T20:45:01.007Z"
   },
   {
    "duration": 22,
    "start_time": "2023-03-05T20:45:01.012Z"
   },
   {
    "duration": 46,
    "start_time": "2023-03-05T20:45:01.036Z"
   },
   {
    "duration": 33,
    "start_time": "2023-03-05T20:45:01.084Z"
   },
   {
    "duration": 27,
    "start_time": "2023-03-05T20:45:01.119Z"
   },
   {
    "duration": 55,
    "start_time": "2023-03-05T20:45:01.147Z"
   },
   {
    "duration": 9,
    "start_time": "2023-03-05T20:45:01.203Z"
   },
   {
    "duration": 24,
    "start_time": "2023-03-05T20:45:01.213Z"
   },
   {
    "duration": 42,
    "start_time": "2023-03-05T20:45:01.240Z"
   },
   {
    "duration": 35,
    "start_time": "2023-03-05T20:45:01.283Z"
   },
   {
    "duration": 17,
    "start_time": "2023-03-05T20:45:01.319Z"
   },
   {
    "duration": 10,
    "start_time": "2023-03-05T20:45:01.339Z"
   },
   {
    "duration": 23,
    "start_time": "2023-03-05T20:45:01.351Z"
   },
   {
    "duration": 25,
    "start_time": "2023-03-05T20:45:01.376Z"
   },
   {
    "duration": 20,
    "start_time": "2023-03-05T20:45:01.403Z"
   },
   {
    "duration": 57,
    "start_time": "2023-03-05T20:45:01.424Z"
   },
   {
    "duration": 8,
    "start_time": "2023-03-05T20:45:01.483Z"
   },
   {
    "duration": 30,
    "start_time": "2023-03-05T20:45:01.493Z"
   },
   {
    "duration": 31,
    "start_time": "2023-03-05T20:45:01.525Z"
   },
   {
    "duration": 29,
    "start_time": "2023-03-05T20:45:01.561Z"
   },
   {
    "duration": 9,
    "start_time": "2023-03-05T20:45:01.591Z"
   },
   {
    "duration": 44,
    "start_time": "2023-03-05T20:45:01.602Z"
   },
   {
    "duration": 46,
    "start_time": "2023-03-05T20:45:01.648Z"
   },
   {
    "duration": 17,
    "start_time": "2023-03-05T20:45:01.696Z"
   },
   {
    "duration": 60,
    "start_time": "2023-03-05T20:45:01.714Z"
   },
   {
    "duration": 38,
    "start_time": "2023-03-05T20:45:01.775Z"
   },
   {
    "duration": 7,
    "start_time": "2023-03-05T20:45:01.815Z"
   },
   {
    "duration": 43,
    "start_time": "2023-03-05T20:45:01.823Z"
   },
   {
    "duration": 27,
    "start_time": "2023-03-05T20:45:01.867Z"
   },
   {
    "duration": 27,
    "start_time": "2023-03-05T20:45:01.896Z"
   },
   {
    "duration": 39,
    "start_time": "2023-03-05T20:45:01.925Z"
   },
   {
    "duration": 42,
    "start_time": "2023-03-05T20:46:35.365Z"
   },
   {
    "duration": 48,
    "start_time": "2023-03-05T20:46:41.381Z"
   },
   {
    "duration": 45,
    "start_time": "2023-03-05T20:46:48.505Z"
   },
   {
    "duration": 49,
    "start_time": "2023-03-05T20:46:55.922Z"
   },
   {
    "duration": 20,
    "start_time": "2023-03-05T20:47:12.943Z"
   },
   {
    "duration": 19,
    "start_time": "2023-03-05T20:47:31.460Z"
   },
   {
    "duration": 19,
    "start_time": "2023-03-05T20:47:40.748Z"
   },
   {
    "duration": 19,
    "start_time": "2023-03-05T20:47:47.511Z"
   },
   {
    "duration": 23,
    "start_time": "2023-03-05T20:48:01.960Z"
   },
   {
    "duration": 21,
    "start_time": "2023-03-05T20:48:07.194Z"
   },
   {
    "duration": 22,
    "start_time": "2023-03-05T21:01:39.210Z"
   },
   {
    "duration": 31,
    "start_time": "2023-03-05T21:01:51.151Z"
   },
   {
    "duration": 20,
    "start_time": "2023-03-05T21:02:24.709Z"
   },
   {
    "duration": 20,
    "start_time": "2023-03-05T21:02:37.687Z"
   },
   {
    "duration": 28,
    "start_time": "2023-03-05T21:02:52.205Z"
   },
   {
    "duration": 22,
    "start_time": "2023-03-05T21:03:14.506Z"
   },
   {
    "duration": 27,
    "start_time": "2023-03-05T21:04:43.331Z"
   },
   {
    "duration": 23,
    "start_time": "2023-03-05T21:04:53.703Z"
   },
   {
    "duration": 24,
    "start_time": "2023-03-05T21:05:58.299Z"
   },
   {
    "duration": 22,
    "start_time": "2023-03-05T21:06:03.080Z"
   },
   {
    "duration": 23,
    "start_time": "2023-03-05T21:06:21.421Z"
   },
   {
    "duration": 21,
    "start_time": "2023-03-05T21:06:25.229Z"
   },
   {
    "duration": 26,
    "start_time": "2023-03-05T21:06:48.132Z"
   },
   {
    "duration": 94,
    "start_time": "2023-03-05T21:06:51.609Z"
   },
   {
    "duration": 16,
    "start_time": "2023-03-05T21:06:51.705Z"
   },
   {
    "duration": 15,
    "start_time": "2023-03-05T21:06:51.723Z"
   },
   {
    "duration": 21,
    "start_time": "2023-03-05T21:06:51.739Z"
   },
   {
    "duration": 49,
    "start_time": "2023-03-05T21:06:51.762Z"
   },
   {
    "duration": 4,
    "start_time": "2023-03-05T21:06:51.813Z"
   },
   {
    "duration": 36,
    "start_time": "2023-03-05T21:06:51.819Z"
   },
   {
    "duration": 4,
    "start_time": "2023-03-05T21:06:51.857Z"
   },
   {
    "duration": 9,
    "start_time": "2023-03-05T21:06:51.863Z"
   },
   {
    "duration": 5,
    "start_time": "2023-03-05T21:06:51.874Z"
   },
   {
    "duration": 33,
    "start_time": "2023-03-05T21:06:51.880Z"
   },
   {
    "duration": 9,
    "start_time": "2023-03-05T21:06:51.914Z"
   },
   {
    "duration": 32,
    "start_time": "2023-03-05T21:06:51.924Z"
   },
   {
    "duration": 10,
    "start_time": "2023-03-05T21:06:51.958Z"
   },
   {
    "duration": 23,
    "start_time": "2023-03-05T21:06:51.969Z"
   },
   {
    "duration": 18,
    "start_time": "2023-03-05T21:06:51.994Z"
   },
   {
    "duration": 4,
    "start_time": "2023-03-05T21:06:52.013Z"
   },
   {
    "duration": 36,
    "start_time": "2023-03-05T21:06:52.019Z"
   },
   {
    "duration": 7,
    "start_time": "2023-03-05T21:06:52.056Z"
   },
   {
    "duration": 11,
    "start_time": "2023-03-05T21:06:52.065Z"
   },
   {
    "duration": 30,
    "start_time": "2023-03-05T21:06:52.079Z"
   },
   {
    "duration": 9,
    "start_time": "2023-03-05T21:06:52.111Z"
   },
   {
    "duration": 7,
    "start_time": "2023-03-05T21:06:52.121Z"
   },
   {
    "duration": 4,
    "start_time": "2023-03-05T21:06:52.129Z"
   },
   {
    "duration": 33,
    "start_time": "2023-03-05T21:06:52.134Z"
   },
   {
    "duration": 4,
    "start_time": "2023-03-05T21:06:52.168Z"
   },
   {
    "duration": 4,
    "start_time": "2023-03-05T21:06:52.173Z"
   },
   {
    "duration": 3,
    "start_time": "2023-03-05T21:06:52.178Z"
   },
   {
    "duration": 7,
    "start_time": "2023-03-05T21:06:52.182Z"
   },
   {
    "duration": 8,
    "start_time": "2023-03-05T21:06:52.191Z"
   },
   {
    "duration": 22,
    "start_time": "2023-03-05T21:06:52.200Z"
   },
   {
    "duration": 39,
    "start_time": "2023-03-05T21:06:52.223Z"
   },
   {
    "duration": 22,
    "start_time": "2023-03-05T21:06:52.263Z"
   },
   {
    "duration": 8,
    "start_time": "2023-03-05T21:06:52.287Z"
   },
   {
    "duration": 19,
    "start_time": "2023-03-05T21:06:52.297Z"
   },
   {
    "duration": 55,
    "start_time": "2023-03-05T21:06:52.317Z"
   },
   {
    "duration": 214,
    "start_time": "2023-03-05T21:08:22.993Z"
   },
   {
    "duration": 25,
    "start_time": "2023-03-05T21:09:01.655Z"
   },
   {
    "duration": 30,
    "start_time": "2023-03-05T21:09:10.524Z"
   },
   {
    "duration": 97,
    "start_time": "2023-03-05T21:12:03.692Z"
   },
   {
    "duration": 14,
    "start_time": "2023-03-05T21:12:03.792Z"
   },
   {
    "duration": 20,
    "start_time": "2023-03-05T21:12:03.808Z"
   },
   {
    "duration": 26,
    "start_time": "2023-03-05T21:12:03.830Z"
   },
   {
    "duration": 30,
    "start_time": "2023-03-05T21:12:03.857Z"
   },
   {
    "duration": 4,
    "start_time": "2023-03-05T21:12:03.889Z"
   },
   {
    "duration": 8,
    "start_time": "2023-03-05T21:12:03.894Z"
   },
   {
    "duration": 4,
    "start_time": "2023-03-05T21:12:03.903Z"
   },
   {
    "duration": 5,
    "start_time": "2023-03-05T21:12:03.909Z"
   },
   {
    "duration": 39,
    "start_time": "2023-03-05T21:12:03.917Z"
   },
   {
    "duration": 48,
    "start_time": "2023-03-05T21:12:03.958Z"
   },
   {
    "duration": 9,
    "start_time": "2023-03-05T21:12:04.008Z"
   },
   {
    "duration": 4,
    "start_time": "2023-03-05T21:12:04.018Z"
   },
   {
    "duration": 45,
    "start_time": "2023-03-05T21:12:04.023Z"
   },
   {
    "duration": 21,
    "start_time": "2023-03-05T21:12:04.070Z"
   },
   {
    "duration": 19,
    "start_time": "2023-03-05T21:12:04.093Z"
   },
   {
    "duration": 3,
    "start_time": "2023-03-05T21:12:04.114Z"
   },
   {
    "duration": 36,
    "start_time": "2023-03-05T21:12:04.119Z"
   },
   {
    "duration": 9,
    "start_time": "2023-03-05T21:12:04.157Z"
   },
   {
    "duration": 4,
    "start_time": "2023-03-05T21:12:04.168Z"
   },
   {
    "duration": 28,
    "start_time": "2023-03-05T21:12:04.174Z"
   },
   {
    "duration": 8,
    "start_time": "2023-03-05T21:12:04.203Z"
   },
   {
    "duration": 8,
    "start_time": "2023-03-05T21:12:04.213Z"
   },
   {
    "duration": 36,
    "start_time": "2023-03-05T21:12:04.222Z"
   },
   {
    "duration": 4,
    "start_time": "2023-03-05T21:12:04.261Z"
   },
   {
    "duration": 4,
    "start_time": "2023-03-05T21:12:04.267Z"
   },
   {
    "duration": 3,
    "start_time": "2023-03-05T21:12:04.273Z"
   },
   {
    "duration": 3,
    "start_time": "2023-03-05T21:12:04.280Z"
   },
   {
    "duration": 11,
    "start_time": "2023-03-05T21:12:04.286Z"
   },
   {
    "duration": 11,
    "start_time": "2023-03-05T21:12:04.300Z"
   },
   {
    "duration": 23,
    "start_time": "2023-03-05T21:12:04.355Z"
   },
   {
    "duration": 7,
    "start_time": "2023-03-05T21:12:04.380Z"
   },
   {
    "duration": 19,
    "start_time": "2023-03-05T21:12:04.389Z"
   },
   {
    "duration": 7,
    "start_time": "2023-03-05T21:12:04.410Z"
   },
   {
    "duration": 52,
    "start_time": "2023-03-05T21:12:04.419Z"
   },
   {
    "duration": 22,
    "start_time": "2023-03-05T21:12:04.473Z"
   },
   {
    "duration": 55,
    "start_time": "2023-03-05T21:13:07.752Z"
   },
   {
    "duration": 46,
    "start_time": "2023-03-05T21:13:21.927Z"
   },
   {
    "duration": 43,
    "start_time": "2023-03-05T21:13:28.210Z"
   },
   {
    "duration": 43,
    "start_time": "2023-03-05T21:13:58.878Z"
   },
   {
    "duration": 26,
    "start_time": "2023-03-05T21:14:47.889Z"
   },
   {
    "duration": 19,
    "start_time": "2023-03-05T21:15:09.707Z"
   },
   {
    "duration": 42,
    "start_time": "2023-03-05T21:15:41.877Z"
   },
   {
    "duration": 22,
    "start_time": "2023-03-05T21:16:01.563Z"
   },
   {
    "duration": 46,
    "start_time": "2023-03-05T21:16:25.804Z"
   },
   {
    "duration": 45,
    "start_time": "2023-03-05T21:16:34.461Z"
   },
   {
    "duration": 50,
    "start_time": "2023-03-05T21:16:52.557Z"
   },
   {
    "duration": 57,
    "start_time": "2023-03-05T21:17:02.545Z"
   },
   {
    "duration": 29,
    "start_time": "2023-03-05T21:17:22.798Z"
   },
   {
    "duration": 57,
    "start_time": "2023-03-05T21:17:48.520Z"
   },
   {
    "duration": 48,
    "start_time": "2023-03-05T21:18:15.516Z"
   },
   {
    "duration": 54,
    "start_time": "2023-03-05T21:18:38.926Z"
   },
   {
    "duration": 42,
    "start_time": "2023-03-05T21:18:42.867Z"
   },
   {
    "duration": 63,
    "start_time": "2023-03-05T21:18:49.499Z"
   },
   {
    "duration": 20,
    "start_time": "2023-03-05T21:19:17.163Z"
   },
   {
    "duration": 21,
    "start_time": "2023-03-05T21:19:26.172Z"
   },
   {
    "duration": 20,
    "start_time": "2023-03-05T21:23:49.286Z"
   },
   {
    "duration": 62,
    "start_time": "2023-06-02T17:13:04.876Z"
   },
   {
    "duration": 903,
    "start_time": "2023-06-02T17:13:08.501Z"
   },
   {
    "duration": 41,
    "start_time": "2023-06-02T17:13:09.406Z"
   },
   {
    "duration": 29,
    "start_time": "2023-06-02T17:13:09.450Z"
   },
   {
    "duration": 17,
    "start_time": "2023-06-02T17:13:09.483Z"
   },
   {
    "duration": 65,
    "start_time": "2023-06-02T17:13:09.503Z"
   },
   {
    "duration": 5,
    "start_time": "2023-06-02T17:13:09.576Z"
   },
   {
    "duration": 17,
    "start_time": "2023-06-02T17:13:09.584Z"
   },
   {
    "duration": 6,
    "start_time": "2023-06-02T17:13:09.604Z"
   },
   {
    "duration": 14,
    "start_time": "2023-06-02T17:13:09.613Z"
   },
   {
    "duration": 15,
    "start_time": "2023-06-02T17:13:09.632Z"
   },
   {
    "duration": 62,
    "start_time": "2023-06-02T17:13:09.649Z"
   },
   {
    "duration": 18,
    "start_time": "2023-06-02T17:13:09.713Z"
   },
   {
    "duration": 30,
    "start_time": "2023-06-02T17:13:09.733Z"
   },
   {
    "duration": 46,
    "start_time": "2023-06-02T17:13:09.766Z"
   },
   {
    "duration": 52,
    "start_time": "2023-06-02T17:13:09.814Z"
   },
   {
    "duration": 35,
    "start_time": "2023-06-02T17:13:09.868Z"
   },
   {
    "duration": 5,
    "start_time": "2023-06-02T17:13:09.905Z"
   },
   {
    "duration": 23,
    "start_time": "2023-06-02T17:13:09.912Z"
   },
   {
    "duration": 8,
    "start_time": "2023-06-02T17:13:09.938Z"
   },
   {
    "duration": 8,
    "start_time": "2023-06-02T17:13:09.948Z"
   },
   {
    "duration": 37,
    "start_time": "2023-06-02T17:13:09.976Z"
   },
   {
    "duration": 11,
    "start_time": "2023-06-02T17:13:10.015Z"
   },
   {
    "duration": 15,
    "start_time": "2023-06-02T17:13:10.028Z"
   },
   {
    "duration": 34,
    "start_time": "2023-06-02T17:13:10.046Z"
   },
   {
    "duration": 14,
    "start_time": "2023-06-02T17:13:10.082Z"
   },
   {
    "duration": 15,
    "start_time": "2023-06-02T17:13:10.098Z"
   },
   {
    "duration": 20,
    "start_time": "2023-06-02T17:13:10.116Z"
   },
   {
    "duration": 23,
    "start_time": "2023-06-02T17:13:10.140Z"
   },
   {
    "duration": 15,
    "start_time": "2023-06-02T17:13:10.165Z"
   },
   {
    "duration": 25,
    "start_time": "2023-06-02T17:13:10.183Z"
   },
   {
    "duration": 59,
    "start_time": "2023-06-02T17:13:10.210Z"
   },
   {
    "duration": 13,
    "start_time": "2023-06-02T17:13:10.271Z"
   },
   {
    "duration": 155,
    "start_time": "2023-06-02T17:13:10.287Z"
   },
   {
    "duration": 0,
    "start_time": "2023-06-02T17:13:10.444Z"
   },
   {
    "duration": 0,
    "start_time": "2023-06-02T17:13:10.445Z"
   },
   {
    "duration": 21,
    "start_time": "2023-06-02T17:13:34.676Z"
   }
  ],
  "colab": {
   "name": "dpp_template_part2.ipynb",
   "provenance": []
  },
  "kernelspec": {
   "display_name": "anaconda-2022.05-py39",
   "language": "python",
   "name": "conda-env-anaconda-2022.05-py39-py"
  },
  "language_info": {
   "codemirror_mode": {
    "name": "ipython",
    "version": 3
   },
   "file_extension": ".py",
   "mimetype": "text/x-python",
   "name": "python",
   "nbconvert_exporter": "python",
   "pygments_lexer": "ipython3",
   "version": "3.9.12"
  },
  "toc": {
   "base_numbering": 1,
   "nav_menu": {},
   "number_sections": true,
   "sideBar": true,
   "skip_h1_title": true,
   "title_cell": "Table of Contents",
   "title_sidebar": "Contents",
   "toc_cell": false,
   "toc_position": {},
   "toc_section_display": true,
   "toc_window_display": true
  }
 },
 "nbformat": 4,
 "nbformat_minor": 5
}
